{
 "cells": [
  {
   "cell_type": "markdown",
   "id": "182142d6-a650-4646-8c05-65c993a9f248",
   "metadata": {},
   "source": [
    "# Finding the Next Bestseller"
   ]
  },
  {
   "cell_type": "markdown",
   "id": "f77619ae-9700-418c-9fe2-3b09b44225d0",
   "metadata": {},
   "source": [
    "## Project Goal"
   ]
  },
  {
   "cell_type": "markdown",
   "id": "15381bbd-f106-4cec-b01b-b731878b296c",
   "metadata": {},
   "source": [
    "Using publicly available data fom Goodreads, Wikipedia, and Amazon, this project aims to acquire, explore, and analyze information about books - their popularity via online reviews and ratings, as well as keywords, author name, publisher, and more - to programmatically determine which factors lead to a book landing on the New York Times Bestseller list. "
   ]
  },
  {
   "cell_type": "markdown",
   "id": "f3b820db-e363-4342-b7f3-9093ee45dbca",
   "metadata": {
    "jp-MarkdownHeadingCollapsed": true,
    "tags": []
   },
   "source": [
    "## Project Creators:\n",
    "\n",
    "- [Brandon Navarrete](https://github.com/brandontnavarrete)\n",
    "- [Magdalena Rahn](https://github.com/MagdalenaRahn)\n",
    "- [Manuel Parra](https://github.com/manuelparra1)\n",
    "- [Shawn Brown](https://github.com/shawn-brown12)\n"
   ]
  },
  {
   "cell_type": "markdown",
   "id": "ba3bc695-dd33-41af-8185-cfc534c489f4",
   "metadata": {},
   "source": [
    "## Table of Contents\n",
    "\n",
    "   - [Acquire](#Acquire)\n",
    "   - [Prepare](#prepare)\n",
    "   - [Explore](#explore)\n",
    "   - [Model](#model)\n",
    "   - [Conclusions](#conclusions)"
   ]
  },
  {
   "cell_type": "markdown",
   "id": "2ce4c9a9-4454-46cf-b36f-d7eef74b68cb",
   "metadata": {},
   "source": [
    "## Setting up the Environment"
   ]
  },
  {
   "cell_type": "code",
   "execution_count": 1,
   "id": "2f2b23cd-8785-4311-b8e6-6ae4b1179d67",
   "metadata": {},
   "outputs": [],
   "source": [
    "import pandas as pd\n",
    "import numpy as np\n",
    "import matplotlib.pyplot as plt\n",
    "import seaborn as sns\n",
    "\n",
    "from bs4 import BeautifulSoup\n",
    "import requests\n",
    "import unicodedata\n",
    "import re\n",
    "import os\n",
    "import json\n",
    "\n",
    "import sklearn.model_selection\n",
    "from sklearn.model_selection import train_test_split\n",
    "from sklearn.model_selection import cross_val_score\n",
    "\n",
    "import nltk\n",
    "from nltk.tokenize.toktok import ToktokTokenizer\n",
    "from nltk.corpus import stopwords\n",
    "from nltk.tokenize import word_tokenize\n",
    "\n",
    "\n",
    "import prepare as prep\n",
    "import explore as ex\n",
    "# import modeling as m\n"
   ]
  },
  {
   "cell_type": "markdown",
   "id": "6799400e-8d97-43f2-838c-6d7b4acd61ce",
   "metadata": {},
   "source": [
    "## Acquisition"
   ]
  },
  {
   "cell_type": "code",
   "execution_count": 6,
   "id": "653ed402-8bf2-4224-b37e-68642e992e93",
   "metadata": {},
   "outputs": [],
   "source": [
    "# This function sequentially runs each function from within the prepare.py file \n",
    "# in order to gather and clean the data, as well as creating our target variable and getting\n",
    "# the sentiment analysis of the book summaries\n",
    "df = prep.prep_data('all_books.csv')"
   ]
  },
  {
   "cell_type": "code",
   "execution_count": 7,
   "id": "d8c7ad53-19d7-4966-9deb-0b64146fb2d6",
   "metadata": {},
   "outputs": [
    {
     "data": {
      "text/html": [
       "<div>\n",
       "<style scoped>\n",
       "    .dataframe tbody tr th:only-of-type {\n",
       "        vertical-align: middle;\n",
       "    }\n",
       "\n",
       "    .dataframe tbody tr th {\n",
       "        vertical-align: top;\n",
       "    }\n",
       "\n",
       "    .dataframe thead th {\n",
       "        text-align: right;\n",
       "    }\n",
       "</style>\n",
       "<table border=\"1\" class=\"dataframe\">\n",
       "  <thead>\n",
       "    <tr style=\"text-align: right;\">\n",
       "      <th></th>\n",
       "      <th>title</th>\n",
       "      <th>summary</th>\n",
       "      <th>year_published</th>\n",
       "      <th>author</th>\n",
       "      <th>review_count</th>\n",
       "      <th>number_of_ratings</th>\n",
       "      <th>length</th>\n",
       "      <th>genre</th>\n",
       "      <th>rating</th>\n",
       "      <th>reviews</th>\n",
       "      <th>cleaned_title</th>\n",
       "      <th>cleaned_summary</th>\n",
       "      <th>successful</th>\n",
       "      <th>lemmatized_summary</th>\n",
       "      <th>neg</th>\n",
       "      <th>neutral</th>\n",
       "      <th>pos</th>\n",
       "      <th>compound</th>\n",
       "      <th>sentiment</th>\n",
       "    </tr>\n",
       "  </thead>\n",
       "  <tbody>\n",
       "    <tr>\n",
       "      <th>0</th>\n",
       "      <td>Missing in Death</td>\n",
       "      <td>Aboard the Staten Island ferry, a tourist come...</td>\n",
       "      <td>2009</td>\n",
       "      <td>J.D. Robb</td>\n",
       "      <td>334</td>\n",
       "      <td>9875</td>\n",
       "      <td>77.0</td>\n",
       "      <td>Mystery</td>\n",
       "      <td>4.24</td>\n",
       "      <td>[]</td>\n",
       "      <td>missing in death</td>\n",
       "      <td>aboard the staten island ferry, a tourist come...</td>\n",
       "      <td>False</td>\n",
       "      <td>aboard staten island ferry tourist come across...</td>\n",
       "      <td>0.185</td>\n",
       "      <td>0.804</td>\n",
       "      <td>0.011</td>\n",
       "      <td>-0.9534</td>\n",
       "      <td>very negative</td>\n",
       "    </tr>\n",
       "    <tr>\n",
       "      <th>1</th>\n",
       "      <td>The Last Boyfriend</td>\n",
       "      <td>Owen is the organizer of the Montgomery clan, ...</td>\n",
       "      <td>2012</td>\n",
       "      <td>Nora Roberts</td>\n",
       "      <td>2545</td>\n",
       "      <td>47392</td>\n",
       "      <td>436.0</td>\n",
       "      <td>Romance</td>\n",
       "      <td>4.09</td>\n",
       "      <td>[]</td>\n",
       "      <td>the last boyfriend</td>\n",
       "      <td>owen is the organizer of the montgomery clan, ...</td>\n",
       "      <td>False</td>\n",
       "      <td>owen organizer montgomery clan run family cons...</td>\n",
       "      <td>0.019</td>\n",
       "      <td>0.875</td>\n",
       "      <td>0.106</td>\n",
       "      <td>0.9388</td>\n",
       "      <td>very positive</td>\n",
       "    </tr>\n",
       "    <tr>\n",
       "      <th>2</th>\n",
       "      <td>Just Me in the Tub</td>\n",
       "      <td>Taking a bath is a big job. Mercer Mayer's fam...</td>\n",
       "      <td>1994</td>\n",
       "      <td>Gina Mayer</td>\n",
       "      <td>62</td>\n",
       "      <td>19212</td>\n",
       "      <td>24.0</td>\n",
       "      <td>Childrens</td>\n",
       "      <td>4.25</td>\n",
       "      <td>[]</td>\n",
       "      <td>just me in the tub</td>\n",
       "      <td>taking a bath is a big job. mercer mayer's fam...</td>\n",
       "      <td>False</td>\n",
       "      <td>take bath big job mercer mayer famous little c...</td>\n",
       "      <td>0.008</td>\n",
       "      <td>0.781</td>\n",
       "      <td>0.211</td>\n",
       "      <td>0.9811</td>\n",
       "      <td>very positive</td>\n",
       "    </tr>\n",
       "    <tr>\n",
       "      <th>3</th>\n",
       "      <td>Lucy in the Sky</td>\n",
       "      <td>Settling down for a 24-hour flight to Australi...</td>\n",
       "      <td>2007</td>\n",
       "      <td>Paige Toon</td>\n",
       "      <td>628</td>\n",
       "      <td>9524</td>\n",
       "      <td>390.0</td>\n",
       "      <td>Chick Lit</td>\n",
       "      <td>3.95</td>\n",
       "      <td>[]</td>\n",
       "      <td>lucy in the sky</td>\n",
       "      <td>settling down for a 24hour flight to australia...</td>\n",
       "      <td>False</td>\n",
       "      <td>settle flight australia lucy find text message...</td>\n",
       "      <td>0.068</td>\n",
       "      <td>0.679</td>\n",
       "      <td>0.253</td>\n",
       "      <td>0.9861</td>\n",
       "      <td>very positive</td>\n",
       "    </tr>\n",
       "    <tr>\n",
       "      <th>4</th>\n",
       "      <td>The Rats in the Walls</td>\n",
       "      <td>\"The Rats in the Walls\" is a short story by H....</td>\n",
       "      <td>1924</td>\n",
       "      <td>H.P. Lovecraft</td>\n",
       "      <td>531</td>\n",
       "      <td>9155</td>\n",
       "      <td>25.0</td>\n",
       "      <td>Horror</td>\n",
       "      <td>4.01</td>\n",
       "      <td>[]</td>\n",
       "      <td>the rats in the walls</td>\n",
       "      <td>the rats in the walls is a short story by h.p....</td>\n",
       "      <td>False</td>\n",
       "      <td>rat wall short lovecraft write augustseptember...</td>\n",
       "      <td>0.015</td>\n",
       "      <td>0.985</td>\n",
       "      <td>0.000</td>\n",
       "      <td>-0.1779</td>\n",
       "      <td>negative</td>\n",
       "    </tr>\n",
       "  </tbody>\n",
       "</table>\n",
       "</div>"
      ],
      "text/plain": [
       "                   title                                            summary  \\\n",
       "0       Missing in Death  Aboard the Staten Island ferry, a tourist come...   \n",
       "1     The Last Boyfriend  Owen is the organizer of the Montgomery clan, ...   \n",
       "2     Just Me in the Tub  Taking a bath is a big job. Mercer Mayer's fam...   \n",
       "3        Lucy in the Sky  Settling down for a 24-hour flight to Australi...   \n",
       "4  The Rats in the Walls  \"The Rats in the Walls\" is a short story by H....   \n",
       "\n",
       "  year_published          author  review_count  number_of_ratings  length  \\\n",
       "0           2009       J.D. Robb           334               9875    77.0   \n",
       "1           2012    Nora Roberts          2545              47392   436.0   \n",
       "2           1994      Gina Mayer            62              19212    24.0   \n",
       "3           2007      Paige Toon           628               9524   390.0   \n",
       "4           1924  H.P. Lovecraft           531               9155    25.0   \n",
       "\n",
       "       genre  rating reviews          cleaned_title  \\\n",
       "0    Mystery    4.24      []       missing in death   \n",
       "1    Romance    4.09      []     the last boyfriend   \n",
       "2  Childrens    4.25      []     just me in the tub   \n",
       "3  Chick Lit    3.95      []        lucy in the sky   \n",
       "4     Horror    4.01      []  the rats in the walls   \n",
       "\n",
       "                                     cleaned_summary  successful  \\\n",
       "0  aboard the staten island ferry, a tourist come...       False   \n",
       "1  owen is the organizer of the montgomery clan, ...       False   \n",
       "2  taking a bath is a big job. mercer mayer's fam...       False   \n",
       "3  settling down for a 24hour flight to australia...       False   \n",
       "4  the rats in the walls is a short story by h.p....       False   \n",
       "\n",
       "                                  lemmatized_summary    neg  neutral    pos  \\\n",
       "0  aboard staten island ferry tourist come across...  0.185    0.804  0.011   \n",
       "1  owen organizer montgomery clan run family cons...  0.019    0.875  0.106   \n",
       "2  take bath big job mercer mayer famous little c...  0.008    0.781  0.211   \n",
       "3  settle flight australia lucy find text message...  0.068    0.679  0.253   \n",
       "4  rat wall short lovecraft write augustseptember...  0.015    0.985  0.000   \n",
       "\n",
       "   compound      sentiment  \n",
       "0   -0.9534  very negative  \n",
       "1    0.9388  very positive  \n",
       "2    0.9811  very positive  \n",
       "3    0.9861  very positive  \n",
       "4   -0.1779       negative  "
      ]
     },
     "execution_count": 7,
     "metadata": {},
     "output_type": "execute_result"
    }
   ],
   "source": [
    "# a quick peak at our dataframe\n",
    "df.head()"
   ]
  },
  {
   "cell_type": "code",
   "execution_count": 8,
   "id": "ace63519-6fe9-46c0-991b-2b7b570c20ae",
   "metadata": {},
   "outputs": [],
   "source": [
    "# saving the above df into a new csv file, so that we don't have to run it through again unless we add to our dataset.\n",
    "df.to_csv('final_df.csv')"
   ]
  },
  {
   "cell_type": "code",
   "execution_count": 2,
   "id": "5b819e7a-db84-45dd-a8fc-dc40234b214a",
   "metadata": {},
   "outputs": [],
   "source": [
    "# pulling the data from the csv saved above\n",
    "df = pd.read_csv('final_df.csv', index_col=0)"
   ]
  },
  {
   "cell_type": "code",
   "execution_count": 3,
   "id": "2ab206ef-b9e9-4c33-a641-46a4b8510330",
   "metadata": {},
   "outputs": [
    {
     "data": {
      "text/html": [
       "<div>\n",
       "<style scoped>\n",
       "    .dataframe tbody tr th:only-of-type {\n",
       "        vertical-align: middle;\n",
       "    }\n",
       "\n",
       "    .dataframe tbody tr th {\n",
       "        vertical-align: top;\n",
       "    }\n",
       "\n",
       "    .dataframe thead th {\n",
       "        text-align: right;\n",
       "    }\n",
       "</style>\n",
       "<table border=\"1\" class=\"dataframe\">\n",
       "  <thead>\n",
       "    <tr style=\"text-align: right;\">\n",
       "      <th></th>\n",
       "      <th>title</th>\n",
       "      <th>summary</th>\n",
       "      <th>year_published</th>\n",
       "      <th>author</th>\n",
       "      <th>review_count</th>\n",
       "      <th>number_of_ratings</th>\n",
       "      <th>length</th>\n",
       "      <th>genre</th>\n",
       "      <th>rating</th>\n",
       "      <th>reviews</th>\n",
       "      <th>cleaned_title</th>\n",
       "      <th>cleaned_summary</th>\n",
       "      <th>successful</th>\n",
       "      <th>lemmatized_summary</th>\n",
       "      <th>neg</th>\n",
       "      <th>neutral</th>\n",
       "      <th>pos</th>\n",
       "      <th>compound</th>\n",
       "      <th>sentiment</th>\n",
       "    </tr>\n",
       "  </thead>\n",
       "  <tbody>\n",
       "    <tr>\n",
       "      <th>0</th>\n",
       "      <td>Missing in Death</td>\n",
       "      <td>Aboard the Staten Island ferry, a tourist come...</td>\n",
       "      <td>2009</td>\n",
       "      <td>J.D. Robb</td>\n",
       "      <td>334</td>\n",
       "      <td>9875</td>\n",
       "      <td>77.0</td>\n",
       "      <td>Mystery</td>\n",
       "      <td>4.24</td>\n",
       "      <td>[]</td>\n",
       "      <td>missing in death</td>\n",
       "      <td>aboard the staten island ferry, a tourist come...</td>\n",
       "      <td>False</td>\n",
       "      <td>aboard staten island ferry tourist come across...</td>\n",
       "      <td>0.185</td>\n",
       "      <td>0.804</td>\n",
       "      <td>0.011</td>\n",
       "      <td>-0.9534</td>\n",
       "      <td>very negative</td>\n",
       "    </tr>\n",
       "    <tr>\n",
       "      <th>1</th>\n",
       "      <td>The Last Boyfriend</td>\n",
       "      <td>Owen is the organizer of the Montgomery clan, ...</td>\n",
       "      <td>2012</td>\n",
       "      <td>Nora Roberts</td>\n",
       "      <td>2545</td>\n",
       "      <td>47392</td>\n",
       "      <td>436.0</td>\n",
       "      <td>Romance</td>\n",
       "      <td>4.09</td>\n",
       "      <td>[]</td>\n",
       "      <td>the last boyfriend</td>\n",
       "      <td>owen is the organizer of the montgomery clan, ...</td>\n",
       "      <td>False</td>\n",
       "      <td>owen organizer montgomery clan run family cons...</td>\n",
       "      <td>0.019</td>\n",
       "      <td>0.875</td>\n",
       "      <td>0.106</td>\n",
       "      <td>0.9388</td>\n",
       "      <td>very positive</td>\n",
       "    </tr>\n",
       "    <tr>\n",
       "      <th>2</th>\n",
       "      <td>Just Me in the Tub</td>\n",
       "      <td>Taking a bath is a big job. Mercer Mayer's fam...</td>\n",
       "      <td>1994</td>\n",
       "      <td>Gina Mayer</td>\n",
       "      <td>62</td>\n",
       "      <td>19212</td>\n",
       "      <td>24.0</td>\n",
       "      <td>Childrens</td>\n",
       "      <td>4.25</td>\n",
       "      <td>[]</td>\n",
       "      <td>just me in the tub</td>\n",
       "      <td>taking a bath is a big job. mercer mayer's fam...</td>\n",
       "      <td>False</td>\n",
       "      <td>take bath big job mercer mayer famous little c...</td>\n",
       "      <td>0.008</td>\n",
       "      <td>0.781</td>\n",
       "      <td>0.211</td>\n",
       "      <td>0.9811</td>\n",
       "      <td>very positive</td>\n",
       "    </tr>\n",
       "    <tr>\n",
       "      <th>3</th>\n",
       "      <td>Lucy in the Sky</td>\n",
       "      <td>Settling down for a 24-hour flight to Australi...</td>\n",
       "      <td>2007</td>\n",
       "      <td>Paige Toon</td>\n",
       "      <td>628</td>\n",
       "      <td>9524</td>\n",
       "      <td>390.0</td>\n",
       "      <td>Chick Lit</td>\n",
       "      <td>3.95</td>\n",
       "      <td>[]</td>\n",
       "      <td>lucy in the sky</td>\n",
       "      <td>settling down for a 24hour flight to australia...</td>\n",
       "      <td>False</td>\n",
       "      <td>settle flight australia lucy find text message...</td>\n",
       "      <td>0.068</td>\n",
       "      <td>0.679</td>\n",
       "      <td>0.253</td>\n",
       "      <td>0.9861</td>\n",
       "      <td>very positive</td>\n",
       "    </tr>\n",
       "    <tr>\n",
       "      <th>4</th>\n",
       "      <td>The Rats in the Walls</td>\n",
       "      <td>\"The Rats in the Walls\" is a short story by H....</td>\n",
       "      <td>1924</td>\n",
       "      <td>H.P. Lovecraft</td>\n",
       "      <td>531</td>\n",
       "      <td>9155</td>\n",
       "      <td>25.0</td>\n",
       "      <td>Horror</td>\n",
       "      <td>4.01</td>\n",
       "      <td>[]</td>\n",
       "      <td>the rats in the walls</td>\n",
       "      <td>the rats in the walls is a short story by h.p....</td>\n",
       "      <td>False</td>\n",
       "      <td>rat wall short lovecraft write augustseptember...</td>\n",
       "      <td>0.015</td>\n",
       "      <td>0.985</td>\n",
       "      <td>0.000</td>\n",
       "      <td>-0.1779</td>\n",
       "      <td>negative</td>\n",
       "    </tr>\n",
       "  </tbody>\n",
       "</table>\n",
       "</div>"
      ],
      "text/plain": [
       "                   title                                            summary  \\\n",
       "0       Missing in Death  Aboard the Staten Island ferry, a tourist come...   \n",
       "1     The Last Boyfriend  Owen is the organizer of the Montgomery clan, ...   \n",
       "2     Just Me in the Tub  Taking a bath is a big job. Mercer Mayer's fam...   \n",
       "3        Lucy in the Sky  Settling down for a 24-hour flight to Australi...   \n",
       "4  The Rats in the Walls  \"The Rats in the Walls\" is a short story by H....   \n",
       "\n",
       "  year_published          author  review_count  number_of_ratings  length  \\\n",
       "0           2009       J.D. Robb           334               9875    77.0   \n",
       "1           2012    Nora Roberts          2545              47392   436.0   \n",
       "2           1994      Gina Mayer            62              19212    24.0   \n",
       "3           2007      Paige Toon           628               9524   390.0   \n",
       "4           1924  H.P. Lovecraft           531               9155    25.0   \n",
       "\n",
       "       genre  rating reviews          cleaned_title  \\\n",
       "0    Mystery    4.24      []       missing in death   \n",
       "1    Romance    4.09      []     the last boyfriend   \n",
       "2  Childrens    4.25      []     just me in the tub   \n",
       "3  Chick Lit    3.95      []        lucy in the sky   \n",
       "4     Horror    4.01      []  the rats in the walls   \n",
       "\n",
       "                                     cleaned_summary  successful  \\\n",
       "0  aboard the staten island ferry, a tourist come...       False   \n",
       "1  owen is the organizer of the montgomery clan, ...       False   \n",
       "2  taking a bath is a big job. mercer mayer's fam...       False   \n",
       "3  settling down for a 24hour flight to australia...       False   \n",
       "4  the rats in the walls is a short story by h.p....       False   \n",
       "\n",
       "                                  lemmatized_summary    neg  neutral    pos  \\\n",
       "0  aboard staten island ferry tourist come across...  0.185    0.804  0.011   \n",
       "1  owen organizer montgomery clan run family cons...  0.019    0.875  0.106   \n",
       "2  take bath big job mercer mayer famous little c...  0.008    0.781  0.211   \n",
       "3  settle flight australia lucy find text message...  0.068    0.679  0.253   \n",
       "4  rat wall short lovecraft write augustseptember...  0.015    0.985  0.000   \n",
       "\n",
       "   compound      sentiment  \n",
       "0   -0.9534  very negative  \n",
       "1    0.9388  very positive  \n",
       "2    0.9811  very positive  \n",
       "3    0.9861  very positive  \n",
       "4   -0.1779       negative  "
      ]
     },
     "execution_count": 3,
     "metadata": {},
     "output_type": "execute_result"
    }
   ],
   "source": [
    "# a peak to compare the dataframe above and confirm they are the same\n",
    "df.head()"
   ]
  },
  {
   "cell_type": "markdown",
   "id": "2fa089e0-42a8-4a3a-bd0b-5cc4307e01a5",
   "metadata": {},
   "source": [
    "-----------------------------------------"
   ]
  },
  {
   "cell_type": "markdown",
   "id": "0ed5323f-a643-4c3c-a86f-1d41de5b2f02",
   "metadata": {},
   "source": [
    "### Data Summary"
   ]
  },
  {
   "cell_type": "code",
   "execution_count": 4,
   "id": "334d0dab-8791-4585-8797-17d37604dcdf",
   "metadata": {},
   "outputs": [
    {
     "data": {
      "text/plain": [
       "(3686, 19)"
      ]
     },
     "execution_count": 4,
     "metadata": {},
     "output_type": "execute_result"
    }
   ],
   "source": [
    "# our rows and columns\n",
    "df.shape"
   ]
  },
  {
   "cell_type": "code",
   "execution_count": 5,
   "id": "9954ae2c-38da-43cf-b20d-a02540297385",
   "metadata": {},
   "outputs": [
    {
     "name": "stdout",
     "output_type": "stream",
     "text": [
      "<class 'pandas.core.frame.DataFrame'>\n",
      "Int64Index: 3686 entries, 0 to 3854\n",
      "Data columns (total 19 columns):\n",
      " #   Column              Non-Null Count  Dtype  \n",
      "---  ------              --------------  -----  \n",
      " 0   title               3686 non-null   object \n",
      " 1   summary             3686 non-null   object \n",
      " 2   year_published      3686 non-null   object \n",
      " 3   author              3686 non-null   object \n",
      " 4   review_count        3686 non-null   int64  \n",
      " 5   number_of_ratings   3686 non-null   int64  \n",
      " 6   length              3686 non-null   float64\n",
      " 7   genre               3686 non-null   object \n",
      " 8   rating              3686 non-null   float64\n",
      " 9   reviews             1710 non-null   object \n",
      " 10  cleaned_title       3686 non-null   object \n",
      " 11  cleaned_summary     3686 non-null   object \n",
      " 12  successful          3686 non-null   bool   \n",
      " 13  lemmatized_summary  3686 non-null   object \n",
      " 14  neg                 3686 non-null   float64\n",
      " 15  neutral             3686 non-null   float64\n",
      " 16  pos                 3686 non-null   float64\n",
      " 17  compound            3686 non-null   float64\n",
      " 18  sentiment           3686 non-null   object \n",
      "dtypes: bool(1), float64(6), int64(2), object(10)\n",
      "memory usage: 550.7+ KB\n"
     ]
    }
   ],
   "source": [
    "# some basic information about our data\n",
    "df.info()"
   ]
  },
  {
   "cell_type": "markdown",
   "id": "692e6781-bcee-453e-b9eb-304e8cdaca62",
   "metadata": {},
   "source": [
    "## Preparation"
   ]
  },
  {
   "cell_type": "code",
   "execution_count": 6,
   "id": "44c5aa1a-9e64-4353-8c91-378f3cc38ee1",
   "metadata": {},
   "outputs": [],
   "source": [
    "# splitting our data into train and test subsets\n",
    "train, test = ex.split(df, 'successful')"
   ]
  },
  {
   "cell_type": "code",
   "execution_count": 7,
   "id": "31d7e73c-a7d4-4a72-b10b-c913a94bd7b5",
   "metadata": {},
   "outputs": [
    {
     "data": {
      "text/plain": [
       "((2948, 19), (738, 19))"
      ]
     },
     "execution_count": 7,
     "metadata": {},
     "output_type": "execute_result"
    }
   ],
   "source": [
    "train.shape, test.shape"
   ]
  },
  {
   "cell_type": "markdown",
   "id": "ace717fb-0db9-44a4-bdec-64156cc5b902",
   "metadata": {},
   "source": [
    "<div class=\"alert alert-block alert-success\">\n",
    "<b>Acquisition and Preparation Takeaways</b>\n",
    "    \n",
    "- Initially, we had over 4000 books in our main dataset, as well at the dataset of NYT bestsellers comprising of over 1000 books. This included 11 features of each of those books.\n",
    "    \n",
    "- For any null values in our data, we either imputed or dropped them, depending on what feature was null. We ended up dropping a number of rows where the summary was empty, while we manually imputed missing book titles, lengths, and publishing years, as those encompassed multiple of our bestsellers.\n",
    "    \n",
    "- We dropped any books not in English, as well as any duplicated books. We also used the Goodreads data on the first available hardcover edition, where possible.\n",
    "    \n",
    "- During our cleaning phase, we engineered a number of columns to our dataframe, including our target column, cleaned and lemmatized version, of the summary, and several values created during our dsentiment analysis of the summary.\n",
    "    \n",
    "- Our final dataframe had the following columns:\n",
    "    - `title`, `summary`, `year_published`, `author`, `review_count`, `number_of_ratings`, `length`, `genre`, `rating`, `reviews`, `cleaned_title`, `cleaned_summary`, `target`, `lemmatized_summary`, `neg`, `neutral`, `pos`, `compound`, `sentiment`.\n"
   ]
  },
  {
   "cell_type": "markdown",
   "id": "3a2f0636-945a-454f-86a1-2c9db5c88be8",
   "metadata": {},
   "source": [
    "## Exploration"
   ]
  },
  {
   "cell_type": "markdown",
   "id": "c630b80c-6267-4ac1-a101-48b293ab115f",
   "metadata": {},
   "source": [
    "### Which words/ngrams appear more often in summaries with a positive sentiment?"
   ]
  },
  {
   "cell_type": "code",
   "execution_count": 8,
   "id": "973f77a7-e7ac-4379-be8e-a235e75e2078",
   "metadata": {},
   "outputs": [
    {
     "ename": "AttributeError",
     "evalue": "'DataFrame' object has no attribute 'target'",
     "output_type": "error",
     "traceback": [
      "\u001b[0;31m---------------------------------------------------------------------------\u001b[0m",
      "\u001b[0;31mAttributeError\u001b[0m                            Traceback (most recent call last)",
      "\u001b[0;32m/var/folders/zk/vf208zwx67vf8nf5b5xtyllw0000gn/T/ipykernel_20625/2167869745.py\u001b[0m in \u001b[0;36m<module>\u001b[0;34m\u001b[0m\n\u001b[0;32m----> 1\u001b[0;31m \u001b[0mbest_words\u001b[0m \u001b[0;34m=\u001b[0m \u001b[0mex\u001b[0m\u001b[0;34m.\u001b[0m\u001b[0muni_id_best_seller\u001b[0m\u001b[0;34m(\u001b[0m\u001b[0mtrain\u001b[0m\u001b[0;34m)\u001b[0m\u001b[0;34m\u001b[0m\u001b[0;34m\u001b[0m\u001b[0m\n\u001b[0m",
      "\u001b[0;32m~/codeup-data-science/books_main/explore.py\u001b[0m in \u001b[0;36muni_id_best_seller\u001b[0;34m(train)\u001b[0m\n\u001b[1;32m     97\u001b[0m \u001b[0;32mdef\u001b[0m \u001b[0muni_id_best_seller\u001b[0m\u001b[0;34m(\u001b[0m\u001b[0mtrain\u001b[0m\u001b[0;34m)\u001b[0m\u001b[0;34m:\u001b[0m\u001b[0;34m\u001b[0m\u001b[0;34m\u001b[0m\u001b[0m\n\u001b[1;32m     98\u001b[0m \u001b[0;34m\u001b[0m\u001b[0m\n\u001b[0;32m---> 99\u001b[0;31m     \u001b[0mbest\u001b[0m \u001b[0;34m=\u001b[0m \u001b[0mtrain\u001b[0m\u001b[0;34m[\u001b[0m\u001b[0mtrain\u001b[0m\u001b[0;34m.\u001b[0m\u001b[0mtarget\u001b[0m \u001b[0;34m==\u001b[0m \u001b[0;34m'best seller'\u001b[0m\u001b[0;34m]\u001b[0m\u001b[0;34m\u001b[0m\u001b[0;34m\u001b[0m\u001b[0m\n\u001b[0m\u001b[1;32m    100\u001b[0m \u001b[0;34m\u001b[0m\u001b[0m\n\u001b[1;32m    101\u001b[0m     \u001b[0mbest_words\u001b[0m \u001b[0;34m=\u001b[0m \u001b[0mpd\u001b[0m\u001b[0;34m.\u001b[0m\u001b[0mSeries\u001b[0m\u001b[0;34m(\u001b[0m\u001b[0;34m' '\u001b[0m\u001b[0;34m.\u001b[0m\u001b[0mjoin\u001b[0m\u001b[0;34m(\u001b[0m\u001b[0mbest\u001b[0m\u001b[0;34m.\u001b[0m\u001b[0mlemmatized_summary\u001b[0m\u001b[0;34m)\u001b[0m\u001b[0;34m.\u001b[0m\u001b[0msplit\u001b[0m\u001b[0;34m(\u001b[0m\u001b[0;34m' '\u001b[0m\u001b[0;34m)\u001b[0m\u001b[0;34m)\u001b[0m\u001b[0;34m.\u001b[0m\u001b[0mvalue_counts\u001b[0m\u001b[0;34m(\u001b[0m\u001b[0;34m)\u001b[0m\u001b[0;34m\u001b[0m\u001b[0;34m\u001b[0m\u001b[0m\n",
      "\u001b[0;32m~/opt/anaconda3/lib/python3.9/site-packages/pandas/core/generic.py\u001b[0m in \u001b[0;36m__getattr__\u001b[0;34m(self, name)\u001b[0m\n\u001b[1;32m   5573\u001b[0m         ):\n\u001b[1;32m   5574\u001b[0m             \u001b[0;32mreturn\u001b[0m \u001b[0mself\u001b[0m\u001b[0;34m[\u001b[0m\u001b[0mname\u001b[0m\u001b[0;34m]\u001b[0m\u001b[0;34m\u001b[0m\u001b[0;34m\u001b[0m\u001b[0m\n\u001b[0;32m-> 5575\u001b[0;31m         \u001b[0;32mreturn\u001b[0m \u001b[0mobject\u001b[0m\u001b[0;34m.\u001b[0m\u001b[0m__getattribute__\u001b[0m\u001b[0;34m(\u001b[0m\u001b[0mself\u001b[0m\u001b[0;34m,\u001b[0m \u001b[0mname\u001b[0m\u001b[0;34m)\u001b[0m\u001b[0;34m\u001b[0m\u001b[0;34m\u001b[0m\u001b[0m\n\u001b[0m\u001b[1;32m   5576\u001b[0m \u001b[0;34m\u001b[0m\u001b[0m\n\u001b[1;32m   5577\u001b[0m     \u001b[0;32mdef\u001b[0m \u001b[0m__setattr__\u001b[0m\u001b[0;34m(\u001b[0m\u001b[0mself\u001b[0m\u001b[0;34m,\u001b[0m \u001b[0mname\u001b[0m\u001b[0;34m:\u001b[0m \u001b[0mstr\u001b[0m\u001b[0;34m,\u001b[0m \u001b[0mvalue\u001b[0m\u001b[0;34m)\u001b[0m \u001b[0;34m->\u001b[0m \u001b[0;32mNone\u001b[0m\u001b[0;34m:\u001b[0m\u001b[0;34m\u001b[0m\u001b[0;34m\u001b[0m\u001b[0m\n",
      "\u001b[0;31mAttributeError\u001b[0m: 'DataFrame' object has no attribute 'target'"
     ]
    }
   ],
   "source": [
    "best_words = ex.uni_id_best_seller(train)"
   ]
  },
  {
   "cell_type": "code",
   "execution_count": null,
   "id": "defcdcbb-703b-4807-851c-a0540f17d1ca",
   "metadata": {},
   "outputs": [],
   "source": []
  },
  {
   "cell_type": "code",
   "execution_count": null,
   "id": "db4e29af-bace-43f7-82a2-b4a4abe3a532",
   "metadata": {},
   "outputs": [],
   "source": []
  },
  {
   "cell_type": "code",
   "execution_count": null,
   "id": "e63aafda-dda0-4a13-a77c-5cd06b4c2142",
   "metadata": {},
   "outputs": [],
   "source": []
  }
 ],
 "metadata": {
  "kernelspec": {
   "display_name": "Python 3 (ipykernel)",
   "language": "python",
   "name": "python3"
  },
  "language_info": {
   "codemirror_mode": {
    "name": "ipython",
    "version": 3
   },
   "file_extension": ".py",
   "mimetype": "text/x-python",
   "name": "python",
   "nbconvert_exporter": "python",
   "pygments_lexer": "ipython3",
   "version": "3.9.13"
  }
 },
 "nbformat": 4,
 "nbformat_minor": 5
}
