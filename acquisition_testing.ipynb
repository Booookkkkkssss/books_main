{
 "cells": [
  {
   "cell_type": "code",
   "execution_count": 1,
   "id": "53ca19d3-78ed-45a5-b833-bb476050018a",
   "metadata": {},
   "outputs": [],
   "source": [
    "import pandas\n",
    "import numpy\n",
    "from requests import get"
   ]
  },
  {
   "cell_type": "markdown",
   "id": "9d85688e-fbb7-423b-8c3c-f741b5b85108",
   "metadata": {},
   "source": [
    "## Sites tested for a 200 response:\n",
    "\n",
    "- Bookriot\n",
    "- Bookpage\n",
    "- Booklistonline\n",
    "- kirkusreview\n",
    "- nytimes; there is an api\n",
    "- goodreads; there is an api, but its not open to the public (might need to use Selenium)\n",
    "\n",
    "--------------\n",
    "\n",
    "- Reedsy gave a 403 response"
   ]
  },
  {
   "cell_type": "code",
   "execution_count": null,
   "id": "b2de8627-8591-47c6-8676-fe467ae2b146",
   "metadata": {},
   "outputs": [
    {
     "data": {
      "text/plain": [
       "<Response [200]>"
      ]
     },
     "execution_count": 2,
     "metadata": {},
     "output_type": "execute_result"
    }
   ],
   "source": [
    "url = 'http://bookriot.com'\n",
    "response = get(url)\n",
    "response"
   ]
  },
  {
   "cell_type": "code",
   "execution_count": 3,
   "id": "b02b2464-a316-4510-8854-fd03866dbb51",
   "metadata": {},
   "outputs": [
    {
     "data": {
      "text/plain": [
       "<Response [200]>"
      ]
     },
     "execution_count": 3,
     "metadata": {},
     "output_type": "execute_result"
    }
   ],
   "source": [
    "url = 'https://bookpage.com'\n",
    "\n",
    "response = get(url)\n",
    "\n",
    "response"
   ]
  },
  {
   "cell_type": "code",
   "execution_count": 5,
   "id": "63ea6acc-6274-4e19-b14d-4b55b694fe2e",
   "metadata": {},
   "outputs": [
    {
     "data": {
      "text/plain": [
       "<Response [200]>"
      ]
     },
     "execution_count": 5,
     "metadata": {},
     "output_type": "execute_result"
    }
   ],
   "source": [
    "url = 'https://booklistonline.com'\n",
    "\n",
    "response = get(url)\n",
    "\n",
    "response"
   ]
  },
  {
   "cell_type": "code",
   "execution_count": 6,
   "id": "c97e1922-0243-46a0-9c5d-bcbe369ab16c",
   "metadata": {},
   "outputs": [
    {
     "data": {
      "text/plain": [
       "<Response [200]>"
      ]
     },
     "execution_count": 6,
     "metadata": {},
     "output_type": "execute_result"
    }
   ],
   "source": [
    "url = 'https://kirkusreviews.com/discover-books'\n",
    "\n",
    "response = get(url)\n",
    "response"
   ]
  },
  {
   "cell_type": "code",
   "execution_count": 7,
   "id": "20a17bdd-35ca-409b-a363-2d267e3e2498",
   "metadata": {},
   "outputs": [
    {
     "data": {
      "text/plain": [
       "<Response [403]>"
      ]
     },
     "execution_count": 7,
     "metadata": {},
     "output_type": "execute_result"
    }
   ],
   "source": [
    "url = 'https://reedsy.com/discovery'\n",
    "\n",
    "response = get(url)\n",
    "response"
   ]
  },
  {
   "cell_type": "code",
   "execution_count": 8,
   "id": "68706087-646d-4113-b58f-39a1be233547",
   "metadata": {},
   "outputs": [
    {
     "data": {
      "text/plain": [
       "<Response [200]>"
      ]
     },
     "execution_count": 8,
     "metadata": {},
     "output_type": "execute_result"
    }
   ],
   "source": [
    "url = 'https://nytimes.com/section/books/review'\n",
    "\n",
    "response = get(url)\n",
    "response"
   ]
  },
  {
   "cell_type": "code",
   "execution_count": 9,
   "id": "3baf1650-bf7e-4c83-98d4-8d2d95744f0d",
   "metadata": {},
   "outputs": [
    {
     "data": {
      "text/plain": [
       "<Response [200]>"
      ]
     },
     "execution_count": 9,
     "metadata": {},
     "output_type": "execute_result"
    }
   ],
   "source": [
    "url = 'https://www.goodreads.com/'\n",
    "\n",
    "response = get(url)\n",
    "response"
   ]
  },
  {
   "cell_type": "code",
   "execution_count": null,
   "id": "64a515b9-8365-4549-8662-93c8abb316b6",
   "metadata": {},
   "outputs": [],
   "source": []
  }
 ],
 "metadata": {
  "kernelspec": {
   "display_name": "Python 3 (ipykernel)",
   "language": "python",
   "name": "python3"
  },
  "language_info": {
   "codemirror_mode": {
    "name": "ipython",
    "version": 3
   },
   "file_extension": ".py",
   "mimetype": "text/x-python",
   "name": "python",
   "nbconvert_exporter": "python",
   "pygments_lexer": "ipython3",
   "version": "3.9.13"
  }
 },
 "nbformat": 4,
 "nbformat_minor": 5
}
