{
 "cells": [
  {
   "cell_type": "code",
   "execution_count": 1,
   "id": "f0935eac-fada-4ddd-bbb2-9520e4f50eca",
   "metadata": {},
   "outputs": [
    {
     "ename": "ModuleNotFoundError",
     "evalue": "No module named 'prepare'",
     "output_type": "error",
     "traceback": [
      "\u001b[0;31m---------------------------------------------------------------------------\u001b[0m",
      "\u001b[0;31mModuleNotFoundError\u001b[0m                       Traceback (most recent call last)",
      "Input \u001b[0;32mIn [1]\u001b[0m, in \u001b[0;36m<cell line: 14>\u001b[0;34m()\u001b[0m\n\u001b[1;32m     11\u001b[0m \u001b[38;5;28;01mimport\u001b[39;00m \u001b[38;5;21;01mnltk\u001b[39;00m\n\u001b[1;32m     12\u001b[0m \u001b[38;5;28;01mfrom\u001b[39;00m \u001b[38;5;21;01mnltk\u001b[39;00m\u001b[38;5;21;01m.\u001b[39;00m\u001b[38;5;21;01mcorpus\u001b[39;00m \u001b[38;5;28;01mimport\u001b[39;00m stopwords\n\u001b[0;32m---> 14\u001b[0m \u001b[38;5;28;01mimport\u001b[39;00m \u001b[38;5;21;01mprepare\u001b[39;00m \u001b[38;5;28;01mas\u001b[39;00m \u001b[38;5;21;01mprep\u001b[39;00m\n",
      "\u001b[0;31mModuleNotFoundError\u001b[0m: No module named 'prepare'"
     ]
    }
   ],
   "source": [
    "import pandas as pd\n",
    "import numpy as np\n",
    "import unicodedata\n",
    "import re\n",
    "\n",
    "from bs4 import BeautifulSoup\n",
    "import requests\n",
    "import os\n",
    "import json\n",
    "\n",
    "import nltk\n",
    "from nltk.corpus import stopwords\n",
    "\n",
    "import prepare as prep"
   ]
  },
  {
   "cell_type": "code",
   "execution_count": null,
   "id": "fdf96997-a63a-43e6-95b6-5e00a2b5c53e",
   "metadata": {},
   "outputs": [],
   "source": [
    "def get_data():\n",
    "    '''\n",
    "    Will pull the current data from the 'almost_there' csv file, and prep it for deeper cleaning.\n",
    "    '''\n",
    "    df = pd.read_csv('almost_there.csv', index_col=0)\n",
    "    df = df.drop_duplicates(subset='title')\n",
    "    \n",
    "    save = ['Eleven on Top', 'Winter of the World', 'Nothing to Lose', 'Reflected in You']\n",
    "    sub = df[df['length'].isna()]\n",
    "    sub1 = sub[sub['title'].isin(save)]\n",
    "    df = df.dropna(subset='length')\n",
    "    df = pd.concat([df, sub1], axis=0)\n",
    "    \n",
    "    df = df.dropna(subset='summary')\n",
    "    df = df.dropna(subset='year_published')\n",
    "    \n",
    "    df = df.reset_index()\n",
    "    df = df.drop(columns=['index', 'book_tag'])\n",
    "    \n",
    "    df['summary'] = df['summary'].astype('string')\n",
    "    df['title'] = df['title'].astype('string')\n",
    "    df['author'] = df['author'].astype('string')\n",
    "    df['genre'] = df['genre'].astype('string')\n",
    "    df['length'] = df['length'].astype('float')\n",
    "\n",
    "    return df"
   ]
  },
  {
   "cell_type": "code",
   "execution_count": null,
   "id": "adba164e-6df3-49b5-951f-be65ffb70960",
   "metadata": {
    "tags": []
   },
   "outputs": [],
   "source": [
    "df = get_data()"
   ]
  },
  {
   "cell_type": "code",
   "execution_count": null,
   "id": "7977f44f-8b94-4f70-98e0-f50ea52623f4",
   "metadata": {},
   "outputs": [],
   "source": [
    "df"
   ]
  },
  {
   "cell_type": "code",
   "execution_count": null,
   "id": "f6c8d486-e64c-412b-b362-2cad6fcd5529",
   "metadata": {
    "tags": []
   },
   "outputs": [],
   "source": [
    "df.isna().sum()"
   ]
  },
  {
   "cell_type": "code",
   "execution_count": null,
   "id": "a0fa6d84-c0d3-47e0-aeee-d7464b4d861d",
   "metadata": {},
   "outputs": [],
   "source": [
    "df.dtypes"
   ]
  },
  {
   "cell_type": "code",
   "execution_count": null,
   "id": "675c675b-a678-485e-89a9-b4efb6473a80",
   "metadata": {},
   "outputs": [],
   "source": [
    "#df = df.dropna(subset='summary')"
   ]
  },
  {
   "cell_type": "code",
   "execution_count": null,
   "id": "9bc9c480-83c3-44e5-a7c8-395e776b31ea",
   "metadata": {},
   "outputs": [],
   "source": [
    "#df[df['year_published'].isna()]"
   ]
  },
  {
   "cell_type": "code",
   "execution_count": null,
   "id": "66c84350-db7a-4f5a-92dd-43a68bac8e4e",
   "metadata": {},
   "outputs": [],
   "source": [
    "#df = df.dropna(subset='year_published')"
   ]
  },
  {
   "cell_type": "code",
   "execution_count": null,
   "id": "6422baae-fed1-4ae2-a82e-d47223dc5b32",
   "metadata": {},
   "outputs": [],
   "source": [
    "prep.clean_article(df, 'title')"
   ]
  },
  {
   "cell_type": "code",
   "execution_count": null,
   "id": "f9f53029-71bc-4c61-9ebe-70ec82b5e28a",
   "metadata": {
    "tags": []
   },
   "outputs": [],
   "source": [
    "prep.clean_article(df, 'summary')"
   ]
  },
  {
   "cell_type": "code",
   "execution_count": null,
   "id": "e2f9a16a-1066-4f09-865c-854d18746978",
   "metadata": {
    "tags": []
   },
   "outputs": [],
   "source": [
    "#df = df.drop(columns='clean_titles')"
   ]
  },
  {
   "cell_type": "code",
   "execution_count": null,
   "id": "3f4c25bf-e1a1-47aa-8962-0737d7337ce8",
   "metadata": {},
   "outputs": [],
   "source": [
    "df1 = pd.read_csv('books_feat_on_NYBS', index_col=0)"
   ]
  },
  {
   "cell_type": "code",
   "execution_count": null,
   "id": "07256e7f-9a3f-4854-a57a-f14f4f27e687",
   "metadata": {},
   "outputs": [],
   "source": [
    "prep.clean_article(df1, 'Book')"
   ]
  },
  {
   "cell_type": "code",
   "execution_count": null,
   "id": "aa921f8d-8ab8-47b2-88db-204a8c810d1e",
   "metadata": {},
   "outputs": [],
   "source": [
    "ser = df1['cleaned_Book']"
   ]
  },
  {
   "cell_type": "code",
   "execution_count": null,
   "id": "51d53837-7f93-408c-ac1b-8b7959e422fe",
   "metadata": {
    "jupyter": {
     "outputs_hidden": true
    },
    "tags": []
   },
   "outputs": [],
   "source": [
    "prep.creat_tar(df, ser)"
   ]
  },
  {
   "cell_type": "code",
   "execution_count": null,
   "id": "ee91a91d-e359-45bc-bd9d-5b40ab3c6d43",
   "metadata": {},
   "outputs": [],
   "source": [
    "#save = ['Eleven on Top', 'Winter of the World', 'Nothing to Lose', 'Reflected in You']"
   ]
  },
  {
   "cell_type": "code",
   "execution_count": null,
   "id": "0224e78b-4f52-4376-9207-d0a3867de898",
   "metadata": {},
   "outputs": [],
   "source": [
    "#sub = df[df['length'].isna()]"
   ]
  },
  {
   "cell_type": "code",
   "execution_count": null,
   "id": "043f8df4-bd50-4278-a4fc-2180436d68ec",
   "metadata": {},
   "outputs": [],
   "source": [
    "#sub1 = sub[sub['title'].isin(save)]"
   ]
  },
  {
   "cell_type": "code",
   "execution_count": null,
   "id": "2018faa6-e77d-4ec4-a11d-dc9e2e24a110",
   "metadata": {},
   "outputs": [],
   "source": [
    "#df = df.dropna(subset='length')"
   ]
  },
  {
   "cell_type": "code",
   "execution_count": null,
   "id": "d8ffe219-9fc5-49ac-a676-4d7afb9627b0",
   "metadata": {},
   "outputs": [],
   "source": [
    "#df = pd.concat([df, sub1], axis=0)"
   ]
  },
  {
   "cell_type": "code",
   "execution_count": null,
   "id": "d310778c-a0ae-4bfd-8130-8d42c88e4a82",
   "metadata": {},
   "outputs": [],
   "source": [
    "df"
   ]
  },
  {
   "cell_type": "code",
   "execution_count": null,
   "id": "93fa4d36-8337-4edc-87b4-4ae03e230032",
   "metadata": {},
   "outputs": [],
   "source": []
  },
  {
   "cell_type": "code",
   "execution_count": null,
   "id": "55cdb90e-721b-4fc6-b669-cc7ca82c0ffe",
   "metadata": {},
   "outputs": [],
   "source": []
  },
  {
   "cell_type": "code",
   "execution_count": null,
   "id": "8c835721-e7cb-4d73-8610-8967c4544301",
   "metadata": {},
   "outputs": [],
   "source": []
  },
  {
   "cell_type": "code",
   "execution_count": null,
   "id": "965d718b-89aa-4971-baf2-947194845584",
   "metadata": {},
   "outputs": [],
   "source": []
  },
  {
   "cell_type": "code",
   "execution_count": null,
   "id": "75d2a91a-a5a7-4d9d-801a-5f674dcde63d",
   "metadata": {},
   "outputs": [],
   "source": []
  },
  {
   "cell_type": "code",
   "execution_count": null,
   "id": "15e18702-a23f-43af-a242-62d93ec2db41",
   "metadata": {},
   "outputs": [],
   "source": []
  },
  {
   "cell_type": "code",
   "execution_count": null,
   "id": "70848842-da1a-4fe0-9d50-25a352063ce2",
   "metadata": {},
   "outputs": [],
   "source": []
  },
  {
   "cell_type": "code",
   "execution_count": null,
   "id": "ad720ab9-4f29-4b06-a100-546fd5575dbb",
   "metadata": {},
   "outputs": [],
   "source": []
  },
  {
   "cell_type": "code",
   "execution_count": null,
   "id": "734d1c74-ef46-462d-9db6-cf47db0fb0f3",
   "metadata": {},
   "outputs": [],
   "source": []
  },
  {
   "cell_type": "code",
   "execution_count": null,
   "id": "2e557118-77d6-4d5d-abb4-bee8947b6e6e",
   "metadata": {},
   "outputs": [],
   "source": [
    "ham_counts = pd.Series(ham_words).value_counts()\n"
   ]
  },
  {
   "cell_type": "code",
   "execution_count": null,
   "id": "564d352d-bff4-478e-b7c9-ef47d9548837",
   "metadata": {},
   "outputs": [],
   "source": [
    "spam_counts.head()"
   ]
  },
  {
   "cell_type": "code",
   "execution_count": null,
   "id": "fe87f01a-e44a-4f3e-b6ea-e488d59b1d10",
   "metadata": {},
   "outputs": [],
   "source": [
    "word_freq = pd.concat([ham_counts, spam_counts, all_counts], axis=1)\n"
   ]
  },
  {
   "cell_type": "code",
   "execution_count": null,
   "id": "19d107bd-3217-4898-8e2c-8504d0dd1b0f",
   "metadata": {},
   "outputs": [],
   "source": [
    "word_freq.isna().sum()"
   ]
  },
  {
   "cell_type": "code",
   "execution_count": null,
   "id": "16d7625e-211f-40cc-81e0-e1fb59436cac",
   "metadata": {},
   "outputs": [],
   "source": [
    "word_freq.columns = ['ham', 'spam', 'all']\n",
    "word_freq.fillna(0, inplace=True)\n",
    "word_freq.head()"
   ]
  },
  {
   "cell_type": "code",
   "execution_count": null,
   "id": "cf884ae2-610d-4d0f-ae24-2ab48f7e21df",
   "metadata": {},
   "outputs": [],
   "source": [
    "word_freq.sort_values('all', ascending=False).head(10).plot.bar(figsize=(16, 9))\n",
    "plt.title('Most common words by category')\n",
    "plt.ylabel('Count')\n",
    "plt.xlabel('Most common words')\n",
    "plt.xticks(rotation=45)\n",
    "plt.show()"
   ]
  },
  {
   "cell_type": "code",
   "execution_count": null,
   "id": "84a34820-9605-49cf-a92f-b8b957085e96",
   "metadata": {},
   "outputs": [],
   "source": [
    "word_freq['pct_spam'] = word_freq['spam'] / word_freq['all'] * 100\n",
    "word_freq[word_freq['ham'] > 200].sort_values('pct_ham', ascending=False)"
   ]
  },
  {
   "cell_type": "code",
   "execution_count": null,
   "id": "888c2254-94b4-435f-936b-1ea01c6f4bd7",
   "metadata": {},
   "outputs": [],
   "source": [
    "ham_bigrams = pd.Series(nltk.ngrams(ham_words, 2))\n",
    "top_ham_bigrams = ham_bigrams.value_counts().head(10)\n"
   ]
  },
  {
   "cell_type": "code",
   "execution_count": null,
   "id": "f3ed64be-4594-4ba9-847a-60040b3ef93c",
   "metadata": {},
   "outputs": [],
   "source": [
    "#Plot\n",
    "top_ham_bigrams.plot.barh().invert_yaxis()\n",
    "plt.xlabel('Count')\n",
    "plt.ylabel('Bigram')\n",
    "plt.title('Commonly occurring ham bigrams')\n",
    "plt.show()"
   ]
  },
  {
   "cell_type": "code",
   "execution_count": null,
   "id": "b710d69f-ec6d-464e-8031-867187913048",
   "metadata": {},
   "outputs": [],
   "source": []
  },
  {
   "cell_type": "code",
   "execution_count": null,
   "id": "aed63be5-be2a-4952-99c9-421cd86d0360",
   "metadata": {},
   "outputs": [],
   "source": []
  },
  {
   "cell_type": "code",
   "execution_count": null,
   "id": "0604b48c-a68f-428d-9982-0059eab588eb",
   "metadata": {},
   "outputs": [],
   "source": []
  },
  {
   "cell_type": "code",
   "execution_count": null,
   "id": "814403df-9d33-4d46-b7f1-ee564de25827",
   "metadata": {},
   "outputs": [],
   "source": []
  },
  {
   "cell_type": "code",
   "execution_count": null,
   "id": "c7127ae1-7abc-4651-afaf-bc12a403d82e",
   "metadata": {},
   "outputs": [],
   "source": []
  },
  {
   "cell_type": "code",
   "execution_count": null,
   "id": "f7188517-fc3b-4e25-b894-d025aa6ed8d6",
   "metadata": {},
   "outputs": [],
   "source": []
  }
 ],
 "metadata": {
  "kernelspec": {
   "display_name": "Python 3 (ipykernel)",
   "language": "python",
   "name": "python3"
  },
  "language_info": {
   "codemirror_mode": {
    "name": "ipython",
    "version": 3
   },
   "file_extension": ".py",
   "mimetype": "text/x-python",
   "name": "python",
   "nbconvert_exporter": "python",
   "pygments_lexer": "ipython3",
   "version": "3.9.13"
  }
 },
 "nbformat": 4,
 "nbformat_minor": 5
}
