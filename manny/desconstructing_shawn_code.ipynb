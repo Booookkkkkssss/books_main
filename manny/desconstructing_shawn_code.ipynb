{
 "cells": [
  {
   "cell_type": "code",
   "execution_count": null,
   "id": "b804c481",
   "metadata": {},
   "outputs": [],
   "source": [
    "import pandas as pd\n",
    "import os\n",
    "import re\n",
    "import codecs\n",
    "import requests\n",
    "from selenium import webdriver\n",
    "from selenium.webdriver.common.by import By\n",
    "from selenium.webdriver.support.ui import WebDriverWait\n",
    "from selenium.webdriver.support import expected_conditions as EC\n",
    "from selenium.webdriver.common.keys import Keys"
   ]
  },
  {
   "cell_type": "markdown",
   "id": "ed2e93bb",
   "metadata": {},
   "source": [
    "# Acquire"
   ]
  },
  {
   "cell_type": "code",
   "execution_count": null,
   "id": "febed665",
   "metadata": {},
   "outputs": [],
   "source": [
    "# specific settings for import\n",
    "# formatted csv\n",
    "filename = 'book30-listing-train.csv'\n",
    "header_names = ['Amazon ID (ASIN)', 'Filename', 'Image URL', 'Title', 'Author', 'Category ID',\n",
    "                'Category']\n",
    "# pandas read csv\n",
    "with codecs.open(filename, mode='r', encoding='utf-8', errors='ignore') as f:\n",
    "    df = pd.read_csv(f, delimiter=\",\", header=None, names=header_names)"
   ]
  },
  {
   "cell_type": "code",
   "execution_count": null,
   "id": "5cfa364f",
   "metadata": {},
   "outputs": [],
   "source": [
    "# keeper categories\n",
    "keeper_columns = ['Romance','Mystery, Thrillers & Suspense',\n",
    "                  'Teen & Young Adult','Science Fiction & Fantasy',\n",
    "                  'Literature & Fiction','Humor & Entertainment',\n",
    "                  ]"
   ]
  }
 ],
 "metadata": {
  "kernelspec": {
   "display_name": "Python 3 (ipykernel)",
   "language": "python",
   "name": "python3"
  },
  "language_info": {
   "codemirror_mode": {
    "name": "ipython",
    "version": 3
   },
   "file_extension": ".py",
   "mimetype": "text/x-python",
   "name": "python",
   "nbconvert_exporter": "python",
   "pygments_lexer": "ipython3",
   "version": "3.9.13"
  }
 },
 "nbformat": 4,
 "nbformat_minor": 5
}
