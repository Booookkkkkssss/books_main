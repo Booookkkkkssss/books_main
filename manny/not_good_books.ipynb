{
 "cells": [
  {
   "cell_type": "code",
   "execution_count": 1,
   "id": "8d394a49",
   "metadata": {},
   "outputs": [],
   "source": [
    "import pandas as pd"
   ]
  },
  {
   "cell_type": "code",
   "execution_count": 6,
   "id": "329013c5",
   "metadata": {},
   "outputs": [],
   "source": [
    "import os\n",
    "import codecs\n",
    "from argparse import ArgumentParser"
   ]
  },
  {
   "cell_type": "code",
   "execution_count": 17,
   "id": "3cab5c74",
   "metadata": {},
   "outputs": [],
   "source": [
    "import requests\n",
    "from bs4 import BeautifulSoup"
   ]
  },
  {
   "cell_type": "code",
   "execution_count": 22,
   "id": "966c80c0",
   "metadata": {},
   "outputs": [],
   "source": [
    "filename = 'book30-listing-train.csv'"
   ]
  },
  {
   "cell_type": "code",
   "execution_count": 23,
   "id": "f48ad906",
   "metadata": {},
   "outputs": [],
   "source": [
    "header_names = ['Amazon ID (ASIN)', 'Filename', 'Image URL', 'Title', 'Author', 'Category ID',\n",
    "                'Category']\n",
    "with codecs.open(filename, mode='r', encoding='utf-8', errors='ignore') as f:\n",
    "    csv = pd.read_csv(f, delimiter=\",\", header=None, names=header_names)"
   ]
  },
  {
   "cell_type": "code",
   "execution_count": 30,
   "id": "4bf90d6d",
   "metadata": {},
   "outputs": [
    {
     "data": {
      "text/plain": [
       "['Biographies & Memoirs',\n",
       " \"Children's Books\",\n",
       " 'Engineering & Transportation',\n",
       " 'Christian Books & Bibles',\n",
       " 'Sports & Outdoors',\n",
       " 'Health, Fitness & Dieting',\n",
       " 'Medical Books',\n",
       " 'Science & Math',\n",
       " 'Travel',\n",
       " 'Business & Money',\n",
       " 'Cookbooks, Food & Wine',\n",
       " 'Politics & Social Sciences',\n",
       " 'Crafts, Hobbies & Home',\n",
       " 'Religion & Spirituality',\n",
       " 'Literature & Fiction',\n",
       " 'Humor & Entertainment',\n",
       " 'Law',\n",
       " 'Computers & Technology',\n",
       " 'Test Preparation',\n",
       " 'Arts & Photography',\n",
       " 'Parenting & Relationships',\n",
       " 'Romance',\n",
       " 'History',\n",
       " 'Comics & Graphic Novels',\n",
       " 'Reference',\n",
       " 'Teen & Young Adult',\n",
       " 'Self-Help',\n",
       " 'Calendars',\n",
       " 'Science Fiction & Fantasy',\n",
       " 'Mystery, Thriller & Suspense']"
      ]
     },
     "execution_count": 30,
     "metadata": {},
     "output_type": "execute_result"
    }
   ],
   "source": [
    "list(csv['Category'].unique())"
   ]
  },
  {
   "cell_type": "code",
   "execution_count": 25,
   "id": "d12a1f57",
   "metadata": {},
   "outputs": [
    {
     "data": {
      "text/html": [
       "<div>\n",
       "<style scoped>\n",
       "    .dataframe tbody tr th:only-of-type {\n",
       "        vertical-align: middle;\n",
       "    }\n",
       "\n",
       "    .dataframe tbody tr th {\n",
       "        vertical-align: top;\n",
       "    }\n",
       "\n",
       "    .dataframe thead th {\n",
       "        text-align: right;\n",
       "    }\n",
       "</style>\n",
       "<table border=\"1\" class=\"dataframe\">\n",
       "  <thead>\n",
       "    <tr style=\"text-align: right;\">\n",
       "      <th></th>\n",
       "      <th>Amazon ID (ASIN)</th>\n",
       "      <th>Filename</th>\n",
       "      <th>Image URL</th>\n",
       "      <th>Title</th>\n",
       "      <th>Author</th>\n",
       "      <th>Category ID</th>\n",
       "      <th>Category</th>\n",
       "    </tr>\n",
       "  </thead>\n",
       "  <tbody>\n",
       "    <tr>\n",
       "      <th>41205</th>\n",
       "      <td>1514292548</td>\n",
       "      <td>1514292548.jpg</td>\n",
       "      <td>http://ecx.images-amazon.com/images/I/51QuGBDz...</td>\n",
       "      <td>Inquisitor</td>\n",
       "      <td>Mitchell Hogan</td>\n",
       "      <td>24</td>\n",
       "      <td>Science Fiction &amp; Fantasy</td>\n",
       "    </tr>\n",
       "    <tr>\n",
       "      <th>16808</th>\n",
       "      <td>193747139X</td>\n",
       "      <td>193747139X.jpg</td>\n",
       "      <td>http://ecx.images-amazon.com/images/I/51acdbgD...</td>\n",
       "      <td>Connecting to Kink: Safely exploring your BDSM...</td>\n",
       "      <td>I.G. Frederick</td>\n",
       "      <td>25</td>\n",
       "      <td>Self-Help</td>\n",
       "    </tr>\n",
       "    <tr>\n",
       "      <th>9045</th>\n",
       "      <td>1494222639</td>\n",
       "      <td>1494222639.jpg</td>\n",
       "      <td>http://ecx.images-amazon.com/images/I/61M3xDz8...</td>\n",
       "      <td>Turkmenistan Travel Journal, Pop. 5,054,828 + Me</td>\n",
       "      <td>Dragon Dragon Travel Journals</td>\n",
       "      <td>29</td>\n",
       "      <td>Travel</td>\n",
       "    </tr>\n",
       "    <tr>\n",
       "      <th>14549</th>\n",
       "      <td>191022040X</td>\n",
       "      <td>191022040X.jpg</td>\n",
       "      <td>http://ecx.images-amazon.com/images/I/51vjVGPU...</td>\n",
       "      <td>Connaissance du Soi (French Edition)</td>\n",
       "      <td>Shri Shankaracharya</td>\n",
       "      <td>21</td>\n",
       "      <td>Religion &amp; Spirituality</td>\n",
       "    </tr>\n",
       "    <tr>\n",
       "      <th>35847</th>\n",
       "      <td>806987243</td>\n",
       "      <td>0806987243.jpg</td>\n",
       "      <td>http://ecx.images-amazon.com/images/I/21QSC62Z...</td>\n",
       "      <td>Great Bread Machine Recipes</td>\n",
       "      <td>Norman A. Garrett</td>\n",
       "      <td>7</td>\n",
       "      <td>Cookbooks, Food &amp; Wine</td>\n",
       "    </tr>\n",
       "    <tr>\n",
       "      <th>46279</th>\n",
       "      <td>1421552353</td>\n",
       "      <td>1421552353.jpg</td>\n",
       "      <td>http://ecx.images-amazon.com/images/I/51m5Aq6C...</td>\n",
       "      <td>Bond of Dreams, Bond of Love, Vol. 4</td>\n",
       "      <td>Yaya Sakuragi</td>\n",
       "      <td>5</td>\n",
       "      <td>Comics &amp; Graphic Novels</td>\n",
       "    </tr>\n",
       "    <tr>\n",
       "      <th>30595</th>\n",
       "      <td>61782432</td>\n",
       "      <td>0061782432.jpg</td>\n",
       "      <td>http://ecx.images-amazon.com/images/I/41bQQLFg...</td>\n",
       "      <td>Muhammad: A Story of God's Messenger and the R...</td>\n",
       "      <td>Deepak Chopra</td>\n",
       "      <td>15</td>\n",
       "      <td>Literature &amp; Fiction</td>\n",
       "    </tr>\n",
       "    <tr>\n",
       "      <th>47539</th>\n",
       "      <td>803970757</td>\n",
       "      <td>0803970757.jpg</td>\n",
       "      <td>http://ecx.images-amazon.com/images/I/51XG0MjL...</td>\n",
       "      <td>Introduction to Analysis of Variance: Design, ...</td>\n",
       "      <td>J . Rick Turner</td>\n",
       "      <td>19</td>\n",
       "      <td>Politics &amp; Social Sciences</td>\n",
       "    </tr>\n",
       "    <tr>\n",
       "      <th>4466</th>\n",
       "      <td>874885817</td>\n",
       "      <td>0874885817.jpg</td>\n",
       "      <td>http://ecx.images-amazon.com/images/I/41C6zTS7...</td>\n",
       "      <td>Cardiovascular Nursing (Current Clinical Nursi...</td>\n",
       "      <td>Mary A. Reuther</td>\n",
       "      <td>16</td>\n",
       "      <td>Medical Books</td>\n",
       "    </tr>\n",
       "    <tr>\n",
       "      <th>31672</th>\n",
       "      <td>310326001</td>\n",
       "      <td>0310326001.jpg</td>\n",
       "      <td>http://ecx.images-amazon.com/images/I/4104y-17...</td>\n",
       "      <td>Women of the Bible: A One-Year Devotional Stud...</td>\n",
       "      <td>Ann Spangler</td>\n",
       "      <td>9</td>\n",
       "      <td>Christian Books &amp; Bibles</td>\n",
       "    </tr>\n",
       "    <tr>\n",
       "      <th>5416</th>\n",
       "      <td>811722333</td>\n",
       "      <td>0811722333.jpg</td>\n",
       "      <td>http://ecx.images-amazon.com/images/I/516YF0CF...</td>\n",
       "      <td>The Last Great Race, The Iditarod</td>\n",
       "      <td>Tim Jones</td>\n",
       "      <td>26</td>\n",
       "      <td>Sports &amp; Outdoors</td>\n",
       "    </tr>\n",
       "    <tr>\n",
       "      <th>35362</th>\n",
       "      <td>471297135</td>\n",
       "      <td>0471297135.jpg</td>\n",
       "      <td>http://ecx.images-amazon.com/images/I/516yqp1v...</td>\n",
       "      <td>High Noon: The Inside Story of Scott McNealy a...</td>\n",
       "      <td>Karen Southwick</td>\n",
       "      <td>6</td>\n",
       "      <td>Computers &amp; Technology</td>\n",
       "    </tr>\n",
       "    <tr>\n",
       "      <th>7025</th>\n",
       "      <td>764193244</td>\n",
       "      <td>0764193244.jpg</td>\n",
       "      <td>http://ecx.images-amazon.com/images/I/51801pmD...</td>\n",
       "      <td>Barron's AP Psychology (Book &amp; CD-ROM)</td>\n",
       "      <td>Robert McEntarffer</td>\n",
       "      <td>27</td>\n",
       "      <td>Teen &amp; Young Adult</td>\n",
       "    </tr>\n",
       "    <tr>\n",
       "      <th>40900</th>\n",
       "      <td>1402219539</td>\n",
       "      <td>1402219539.jpg</td>\n",
       "      <td>http://ecx.images-amazon.com/images/I/51jSiAxx...</td>\n",
       "      <td>Devil's Cub (Historical Romances)</td>\n",
       "      <td>Georgette Heyer</td>\n",
       "      <td>22</td>\n",
       "      <td>Romance</td>\n",
       "    </tr>\n",
       "    <tr>\n",
       "      <th>9828</th>\n",
       "      <td>61767638</td>\n",
       "      <td>0061767638.jpg</td>\n",
       "      <td>http://ecx.images-amazon.com/images/I/41hgIInx...</td>\n",
       "      <td>Sugar and Spice (L.A. Candy)</td>\n",
       "      <td>Lauren Conrad</td>\n",
       "      <td>27</td>\n",
       "      <td>Teen &amp; Young Adult</td>\n",
       "    </tr>\n",
       "  </tbody>\n",
       "</table>\n",
       "</div>"
      ],
      "text/plain": [
       "      Amazon ID (ASIN)        Filename  \\\n",
       "41205       1514292548  1514292548.jpg   \n",
       "16808       193747139X  193747139X.jpg   \n",
       "9045        1494222639  1494222639.jpg   \n",
       "14549       191022040X  191022040X.jpg   \n",
       "35847        806987243  0806987243.jpg   \n",
       "46279       1421552353  1421552353.jpg   \n",
       "30595         61782432  0061782432.jpg   \n",
       "47539        803970757  0803970757.jpg   \n",
       "4466         874885817  0874885817.jpg   \n",
       "31672        310326001  0310326001.jpg   \n",
       "5416         811722333  0811722333.jpg   \n",
       "35362        471297135  0471297135.jpg   \n",
       "7025         764193244  0764193244.jpg   \n",
       "40900       1402219539  1402219539.jpg   \n",
       "9828          61767638  0061767638.jpg   \n",
       "\n",
       "                                               Image URL  \\\n",
       "41205  http://ecx.images-amazon.com/images/I/51QuGBDz...   \n",
       "16808  http://ecx.images-amazon.com/images/I/51acdbgD...   \n",
       "9045   http://ecx.images-amazon.com/images/I/61M3xDz8...   \n",
       "14549  http://ecx.images-amazon.com/images/I/51vjVGPU...   \n",
       "35847  http://ecx.images-amazon.com/images/I/21QSC62Z...   \n",
       "46279  http://ecx.images-amazon.com/images/I/51m5Aq6C...   \n",
       "30595  http://ecx.images-amazon.com/images/I/41bQQLFg...   \n",
       "47539  http://ecx.images-amazon.com/images/I/51XG0MjL...   \n",
       "4466   http://ecx.images-amazon.com/images/I/41C6zTS7...   \n",
       "31672  http://ecx.images-amazon.com/images/I/4104y-17...   \n",
       "5416   http://ecx.images-amazon.com/images/I/516YF0CF...   \n",
       "35362  http://ecx.images-amazon.com/images/I/516yqp1v...   \n",
       "7025   http://ecx.images-amazon.com/images/I/51801pmD...   \n",
       "40900  http://ecx.images-amazon.com/images/I/51jSiAxx...   \n",
       "9828   http://ecx.images-amazon.com/images/I/41hgIInx...   \n",
       "\n",
       "                                                   Title  \\\n",
       "41205                                         Inquisitor   \n",
       "16808  Connecting to Kink: Safely exploring your BDSM...   \n",
       "9045    Turkmenistan Travel Journal, Pop. 5,054,828 + Me   \n",
       "14549               Connaissance du Soi (French Edition)   \n",
       "35847                        Great Bread Machine Recipes   \n",
       "46279               Bond of Dreams, Bond of Love, Vol. 4   \n",
       "30595  Muhammad: A Story of God's Messenger and the R...   \n",
       "47539  Introduction to Analysis of Variance: Design, ...   \n",
       "4466   Cardiovascular Nursing (Current Clinical Nursi...   \n",
       "31672  Women of the Bible: A One-Year Devotional Stud...   \n",
       "5416                   The Last Great Race, The Iditarod   \n",
       "35362  High Noon: The Inside Story of Scott McNealy a...   \n",
       "7025              Barron's AP Psychology (Book & CD-ROM)   \n",
       "40900                  Devil's Cub (Historical Romances)   \n",
       "9828                        Sugar and Spice (L.A. Candy)   \n",
       "\n",
       "                              Author  Category ID                    Category  \n",
       "41205                 Mitchell Hogan           24   Science Fiction & Fantasy  \n",
       "16808                 I.G. Frederick           25                   Self-Help  \n",
       "9045   Dragon Dragon Travel Journals           29                      Travel  \n",
       "14549            Shri Shankaracharya           21     Religion & Spirituality  \n",
       "35847              Norman A. Garrett            7      Cookbooks, Food & Wine  \n",
       "46279                  Yaya Sakuragi            5     Comics & Graphic Novels  \n",
       "30595                  Deepak Chopra           15        Literature & Fiction  \n",
       "47539                J . Rick Turner           19  Politics & Social Sciences  \n",
       "4466                 Mary A. Reuther           16               Medical Books  \n",
       "31672                   Ann Spangler            9    Christian Books & Bibles  \n",
       "5416                       Tim Jones           26           Sports & Outdoors  \n",
       "35362                Karen Southwick            6      Computers & Technology  \n",
       "7025              Robert McEntarffer           27          Teen & Young Adult  \n",
       "40900                Georgette Heyer           22                     Romance  \n",
       "9828                   Lauren Conrad           27          Teen & Young Adult  "
      ]
     },
     "execution_count": 25,
     "metadata": {},
     "output_type": "execute_result"
    }
   ],
   "source": [
    "csv.sample(15)"
   ]
  },
  {
   "cell_type": "code",
   "execution_count": 13,
   "id": "5e818e78",
   "metadata": {},
   "outputs": [],
   "source": [
    "# Load the DataFrame\n",
    "df = csv\n",
    "\n",
    "# Get the Amazon ID of the first item\n",
    "asin = df.loc[0, 'Amazon ID (ASIN)']\n",
    "\n",
    "# Define the URL for the product page on Amazon\n",
    "url = f'https://www.amazon.com/dp/{asin}'"
   ]
  },
  {
   "cell_type": "code",
   "execution_count": 14,
   "id": "5ba98edf",
   "metadata": {},
   "outputs": [
    {
     "name": "stdout",
     "output_type": "stream",
     "text": [
      "044310073X\n"
     ]
    }
   ],
   "source": [
    "print(asin)"
   ]
  },
  {
   "cell_type": "code",
   "execution_count": 15,
   "id": "51237468",
   "metadata": {},
   "outputs": [
    {
     "name": "stdout",
     "output_type": "stream",
     "text": [
      "https://www.amazon.com/dp/044310073X\n"
     ]
    }
   ],
   "source": [
    "print(url)"
   ]
  },
  {
   "cell_type": "code",
   "execution_count": 19,
   "id": "3749d272",
   "metadata": {},
   "outputs": [],
   "source": [
    "# Send a request to the URL and get the HTML content\n",
    "response = requests.get(url)\n",
    "html_content = response.content"
   ]
  },
  {
   "cell_type": "code",
   "execution_count": null,
   "id": "d7a3a12b",
   "metadata": {},
   "outputs": [],
   "source": []
  },
  {
   "cell_type": "code",
   "execution_count": 20,
   "id": "66ebc9a8",
   "metadata": {},
   "outputs": [
    {
     "name": "stdout",
     "output_type": "stream",
     "text": [
      "b'<!--\\n        To discuss automated access to Amazon data please contact api-services-support@amazon.com.\\n        For information about migrating to our APIs refer to our Marketplace APIs at https://developer.amazonservices.com/ref=rm_5_sv, or our Product Advertising API at https://affiliate-program.amazon.com/gp/advertising/api/detail/main.html/ref=rm_5_ac for advertising use cases.\\n-->\\n<!doctype html>\\n<html>\\n<head>\\n  <meta charset=\"utf-8\">\\n  <meta http-equiv=\"x-ua-compatible\" content=\"ie=edge\">\\n  <meta name=\"viewport\" content=\"width=device-width, initial-scale=1, shrink-to-fit=no\">\\n  <title>Sorry! Something went wrong!</title>\\n  <style>\\n  html, body {\\n    padding: 0;\\n    margin: 0\\n  }\\n\\n  img {\\n    border: 0\\n  }\\n\\n  #a {\\n    background: #232f3e;\\n    padding: 11px 11px 11px 192px\\n  }\\n\\n  #b {\\n    position: absolute;\\n    left: 22px;\\n    top: 12px\\n  }\\n\\n  #c {\\n    position: relative;\\n    max-width: 800px;\\n    padding: 0 40px 0 0\\n  }\\n\\n  #e, #f {\\n    height: 35px;\\n    border: 0;\\n    font-size: 1em\\n  }\\n\\n  #e {\\n    width: 100%;\\n    margin: 0;\\n    padding: 0 10px;\\n    border-radius: 4px 0 0 4px\\n  }\\n\\n  #f {\\n    cursor: pointer;\\n    background: #febd69;\\n    font-weight: bold;\\n    border-radius: 0 4px 4px 0;\\n    -webkit-appearance: none;\\n    position: absolute;\\n    top: 0;\\n    right: 0;\\n    padding: 0 12px\\n  }\\n\\n  @media (max-width: 500px) {\\n    #a {\\n      padding: 55px 10px 10px\\n    }\\n\\n    #b {\\n      left: 6px\\n    }\\n  }\\n\\n  #g {\\n    text-align: center;\\n    margin: 30px 0\\n  }\\n\\n  #g img {\\n    max-width: 90%\\n  }\\n\\n  #d {\\n    display: none\\n  }\\n\\n  #d[src] {\\n    display: inline\\n  }\\n  </style>\\n</head>\\n<body>\\n    <a href=\"/ref=cs_503_logo\"><img id=\"b\" src=\"https://images-na.ssl-images-amazon.com/images/G/01/error/logo._TTD_.png\" alt=\"Amazon.com\"></a>\\n    <form id=\"a\" accept-charset=\"utf-8\" action=\"/s\" method=\"GET\" role=\"search\">\\n        <div id=\"c\">\\n            <input id=\"e\" name=\"field-keywords\" placeholder=\"Search\">\\n            <input name=\"ref\" type=\"hidden\" value=\"cs_503_search\">\\n            <input id=\"f\" type=\"submit\" value=\"Go\">\\n        </div>\\n    </form>\\n<div id=\"g\">\\n  <div><a href=\"/ref=cs_503_link\"><img src=\"https://images-na.ssl-images-amazon.com/images/G/01/error/500_503.png\"\\n                                        alt=\"Sorry! Something went wrong on our end. Please go back and try again or go to Amazon\\'s home page.\"></a>\\n  </div>\\n  <a href=\"/dogsofamazon/ref=cs_503_d\" target=\"_blank\" rel=\"noopener noreferrer\"><img id=\"d\" alt=\"Dogs of Amazon\"></a>\\n  <script>document.getElementById(\"d\").src = \"https://images-na.ssl-images-amazon.com/images/G/01/error/\" + (Math.floor(Math.random() * 43) + 1) + \"._TTD_.jpg\";</script>\\n</div>\\n</body>\\n</html>\\n'\n"
     ]
    }
   ],
   "source": [
    "print(html_content)"
   ]
  },
  {
   "cell_type": "code",
   "execution_count": null,
   "id": "4f3ab642",
   "metadata": {},
   "outputs": [],
   "source": [
    "# Parse the HTML content using BeautifulSoup\n",
    "soup = BeautifulSoup(html_content, 'html.parser')\n",
    "\n",
    "# Find the relevant elements on the page and extract their text\n",
    "isbn = soup.find('span', {'class': 'a-size-base', 'id': 'productISBN'}).get_text()\n",
    "publisher = soup.find('div', {'id': 'detailBullets_feature_div'}).find('li', {'class': 'showHiddenFeature'}).get_text()\n",
    "year = soup.find('span', {'class': 'a-size-base', 'id': 'productDetailsTable'}).find('td', text='Publication date').find_next_sibling('td').get_text()\n",
    "\n",
    "# Print the extracted information\n",
    "print(f\"ISBN: {isbn}\")\n",
    "print(f\"Publisher: {publisher}\")\n",
    "print(f\"Year: {year}\")"
   ]
  }
 ],
 "metadata": {
  "kernelspec": {
   "display_name": "Python 3 (ipykernel)",
   "language": "python",
   "name": "python3"
  },
  "language_info": {
   "codemirror_mode": {
    "name": "ipython",
    "version": 3
   },
   "file_extension": ".py",
   "mimetype": "text/x-python",
   "name": "python",
   "nbconvert_exporter": "python",
   "pygments_lexer": "ipython3",
   "version": "3.9.13"
  }
 },
 "nbformat": 4,
 "nbformat_minor": 5
}
