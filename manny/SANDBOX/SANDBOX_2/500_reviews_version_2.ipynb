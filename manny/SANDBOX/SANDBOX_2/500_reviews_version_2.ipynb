{
 "cells": [
  {
   "cell_type": "code",
   "execution_count": 1,
   "id": "d4e3a2c7",
   "metadata": {},
   "outputs": [],
   "source": [
    "import pandas as pd\n",
    "import os\n",
    "import re\n",
    "import codecs\n",
    "import requests\n",
    "from bs4 import BeautifulSoup\n",
    "    \n",
    "from selenium import webdriver\n",
    "from selenium.webdriver.common.by import By\n",
    "from selenium.webdriver.support.ui import WebDriverWait\n",
    "from selenium.webdriver.support import expected_conditions as EC\n",
    "from selenium.webdriver.common.keys import Keys\n",
    "from selenium.common.exceptions import NoSuchElementException, TimeoutException, ElementClickInterceptedException"
   ]
  },
  {
   "cell_type": "code",
   "execution_count": 2,
   "id": "7ad35b8c",
   "metadata": {},
   "outputs": [],
   "source": [
    "def modify_link(link):\n",
    "    '''\n",
    "        Function to modify the link format\n",
    "    '''\n",
    "    # Split the link using '?' and take the first part (before the query parameters)\n",
    "    base_url = link.split('?')[0]\n",
    "    \n",
    "    # Split the base_url using '/' and return the second last part\n",
    "    return base_url.split('/')[-1]"
   ]
  },
  {
   "cell_type": "code",
   "execution_count": 3,
   "id": "6b15361b",
   "metadata": {},
   "outputs": [],
   "source": [
    "def text_file_to_dataframe(filename):\n",
    "    # Check if the text file exists\n",
    "    if os.path.exists(filename):\n",
    "        \n",
    "        # Read the text file and create a list of lines\n",
    "        with open(filename, \"r\") as file:\n",
    "            lines = file.readlines()\n",
    "            content = [line.strip() for line in lines]\n",
    "\n",
    "        # Create a DataFrame from the list\n",
    "        df = pd.DataFrame(content, columns=['links'])\n",
    "        \n",
    "        return df\n",
    "    else:\n",
    "        print(f\"{filename} does not exist.\")\n",
    "        return None"
   ]
  },
  {
   "cell_type": "code",
   "execution_count": 4,
   "id": "e471e93b",
   "metadata": {},
   "outputs": [],
   "source": [
    "def prepare_link_df(df):\n",
    "    # Apply the modify_link function to the 'data' column\n",
    "    df['links'] = df['links'].apply(modify_link)\n",
    "        \n",
    "    return df"
   ]
  },
  {
   "cell_type": "code",
   "execution_count": 5,
   "id": "5d68e512",
   "metadata": {},
   "outputs": [],
   "source": [
    "def save_dataframe_to_text_file(df, filename):\n",
    "    # Save the modified DataFrame to a text file with newline-separated values\n",
    "    df.to_csv(filename, index=False, header=False, sep='\\n')"
   ]
  },
  {
   "cell_type": "code",
   "execution_count": 6,
   "id": "9eea700b",
   "metadata": {},
   "outputs": [],
   "source": [
    "def get_reviews(df, num_loops):\n",
    "    # initiate selenium browser\n",
    "    driver = webdriver.Chrome()\n",
    "    review_1_show_more_button_tag = '/html/body/div[1]/div/main/div[1]/div[2]/div[3]/div/div[5]/div[2]/div[1]/article/section/section[2]/section/div/div[2]/div/button/span[1]'   \n",
    "    review_1_show_more_button = driver.find_element_by_xpath(review_1_show_more_button_tag)\n",
    "    review_1_body_tag = '/html/body/div[1]/div/main/div[1]/div[2]/div[3]/div/div[5]/div[2]/div[1]/article/section/section[2]/section/div/div[1]/span'\n",
    "    review_1_body = driver.find_element_by_xpath(review_1_body_tag)\n",
    "    \n",
    "    # iterate through every row in DataFrame column 'links'\n",
    "    for i in df['links']:\n",
    "        # go to starter link on browser\n",
    "        driver.get(i)\n",
    "        review_1_show_more_button.click()\n",
    "        print(review_1_body.text)"
   ]
  },
  {
   "cell_type": "code",
   "execution_count": 7,
   "id": "f5a841bf",
   "metadata": {},
   "outputs": [],
   "source": [
    "def get_reviews_4(df, num_loops):\n",
    "    # initiate selenium browser\n",
    "    driver = webdriver.Chrome()\n",
    "\n",
    "    # iterate through the dataframe for num_loops times\n",
    "    for i in range(num_loops):\n",
    "        # variable definitions\n",
    "        link = df['links'].iloc[i]\n",
    "        \n",
    "        # go to starter link on browser\n",
    "        driver.get(link)\n",
    "        \n",
    "        for j in range(5):\n",
    "            # tag variable dictionaries\n",
    "            review_body_tag_dictionary = {'review':['//*[@id=\"ReviewsSection\"]/div[5]/div[2]/div[1]/article/section/section[2]/section/div/div[1]/span',\n",
    "                            '//*[@id=\"ReviewsSection\"]/div[5]/div[2]/div[3]/article/section/section[2]/section/div/div[1]/span',\n",
    "                            '//*[@id=\"ReviewsSection\"]/div[5]/div[2]/div[4]/article/section/section[2]/section/div/div[1]/span',\n",
    "                            '//*[@id=\"ReviewsSection\"]/div[5]/div[2]/div[5]/article/section/section[2]/section/div/div[1]/span',\n",
    "                            '//*[@id=\"ReviewsSection\"]/div[5]/div[2]/div[6]/article/section/section[2]/section/div/div[1]/span'           \n",
    "                            ]}\n",
    "            # wait 10 seconds for review to appear and extract it\n",
    "            try:\n",
    "                review_body_tag = review_body_tag_dictionary['review'][j]\n",
    "                review_body = WebDriverWait(driver, 10).until(EC.presence_of_element_located((By.XPATH, review_body_tag)))\n",
    "                print(f\"Book {i+1}: \")\n",
    "                print(f\"Review {j+1}: \")\n",
    "                print(review_body.text)\n",
    "                print(\"\\n\")\n",
    "            except (TimeoutException, NoSuchElementException):\n",
    "                print(f\"Could not get review searching for \\\"more button\\\": {link}\")\n",
    "                print(\"\\n\")\n",
    "                continue\n",
    "\n",
    "            # wait 10 seconds for show more button to appear and click on it\n",
    "            try:\n",
    "                review_show_more_button_tag = '/html/body/div[1]/div/main/div[1]/div[2]/div[3]/div/div[5]/div[2]/div[1]/article/section/section[2]/section/div/div[2]/div/button/'\n",
    "                review_show_more_button = WebDriverWait(driver, 10).until(EC.element_to_be_clickable((By.XPATH, review_show_more_button_tag)))\n",
    "                review_show_more_button.click()\n",
    "            except (TimeoutException, NoSuchElementException):\n",
    "                print(f\"Could not find show more button for Book {i+1} Review {j+1}: \\n{link}\")\n",
    "                print(\"\\n\")\n",
    "                continue\n",
    "            except ElementClickInterceptedException:\n",
    "                print(f\"Could not click on show more button for Book {i+1} Review {j+1}: \\n{link}\")\n",
    "                print(\"\\n\")\n",
    "                continue\n",
    "            \n",
    "    # close the browser\n",
    "    driver.quit()"
   ]
  },
  {
   "cell_type": "code",
   "execution_count": 8,
   "id": "bb92b78b",
   "metadata": {},
   "outputs": [],
   "source": [
    "def get_reviews_5(df, num_loops):\n",
    "    # initiate selenium browser\n",
    "    driver = webdriver.Chrome()\n",
    "\n",
    "    # iterate through the dataframe for num_loops times\n",
    "    for i in range(num_loops):\n",
    "        # variable definitions\n",
    "        link = df['links'].iloc[i]\n",
    "        \n",
    "        # go to starter link on browser\n",
    "        driver.get(link)\n",
    "        \n",
    "        # 5 reviews = 5 loops in dictionary\n",
    "        for j in range(5):\n",
    "            # tag variable dictionaries\n",
    "            review_body_tag_dictionary = {'review':['//*[@id=\"ReviewsSection\"]/div[5]/div[2]/div[1]/article/section/section[2]/section/div/div[1]/span',\n",
    "                            '//*[@id=\"ReviewsSection\"]/div[5]/div[2]/div[3]/article/section/section[2]/section/div/div[1]/span',\n",
    "                            '//*[@id=\"ReviewsSection\"]/div[5]/div[2]/div[4]/article/section/section[2]/section/div/div[1]/span',\n",
    "                            '//*[@id=\"ReviewsSection\"]/div[5]/div[2]/div[5]/article/section/section[2]/section/div/div[1]/span',\n",
    "                            '//*[@id=\"ReviewsSection\"]/div[5]/div[2]/div[6]/article/section/section[2]/section/div/div[1]/span'           \n",
    "                            ]}\n",
    "            # wait 10 seconds for review to appear and extract it\n",
    "            try:\n",
    "                review_body_tag = review_body_tag_dictionary['review'][j]\n",
    "                review_body = WebDriverWait(driver, 10).until(EC.presence_of_element_located((By.XPATH, review_body_tag)))\n",
    "                print(f\"Book {i+1}: \")\n",
    "                print(f\"Review {j+1}: \")\n",
    "                print(review_body.text)\n",
    "                print(\"\\n\")\n",
    "            except (TimeoutException, NoSuchElementException):\n",
    "                print(f\"Could not get review {j} for book {i} searching for \\\"more button\\\": \\n{link}\")\n",
    "                print(\"\\n\")\n",
    "                \n",
    "                # wait 10 seconds for show more button to appear and click on it\n",
    "                review_show_more_button_tag = '/html/body/div[1]/div/main/div[1]/div[2]/div[3]/div/div[5]/div[2]/div[1]/article/section/section[2]/section/div/div[2]/div/button/'\n",
    "                try:\n",
    "                    # try looking for a 'show more' button\n",
    "                    review_show_more_button = WebDriverWait(driver, 10).until(EC.element_to_be_clickable((By.XPATH, review_show_more_button_tag)))\n",
    "                    \n",
    "                    # try clicking on \"show more\" button\n",
    "                    review_show_more_button.click()\n",
    "                    \n",
    "                    # try getting review text again\n",
    "                    review_body_tag = review_body_tag_dictionary['review'][j]\n",
    "                    review_body = WebDriverWait(driver, 10).until(EC.presence_of_element_located((By.XPATH, review_body_tag)))\n",
    "                    print(f\"Book {i+1}: \")\n",
    "                    print(f\"Review {j+1}: \")\n",
    "                    print(review_body.text)\n",
    "                    print(\"\\n\")\n",
    "                except (TimeoutException, NoSuchElementException):\n",
    "                    print(f\"Could not find show more button for Book {i+1} Review {j+1}: \\n{link}\")\n",
    "                    print(\"\\n\")\n",
    "                    continue\n",
    "                except ElementClickInterceptedException:\n",
    "                    print(f\"Could not click on show more button for Book {i+1} Review {j+1}: \\n{link}\")\n",
    "                    print(\"\\n\")\n",
    "                    continue\n",
    "    # close the browser\n",
    "    driver.quit()"
   ]
  },
  {
   "cell_type": "code",
   "execution_count": 36,
   "id": "6ba38a4a",
   "metadata": {},
   "outputs": [],
   "source": [
    "def get_reviews_6(df, num_loops):\n",
    "    # initiate selenium browser\n",
    "    driver = webdriver.Chrome()\n",
    "\n",
    "    # iterate through the book link dataframe for num_loops times\n",
    "    for i in range(num_loops):\n",
    "        # variable definitions\n",
    "        link = df['links'].iloc[i]\n",
    "        \n",
    "        # go to starter link on browser\n",
    "        driver.get(link)\n",
    "        \n",
    "        for j in range(5):\n",
    "            # tag variable dictionaries\n",
    "            review_body_tag_dictionary = {'review':['//*[@id=\"ReviewsSection\"]/div[5]/div[2]/div[1]/article/section/section[2]/section/div/div[1]/span',\n",
    "                            '//*[@id=\"ReviewsSection\"]/div[5]/div[2]/div[3]/article/section/section[2]/section/div/div[1]/span',\n",
    "                            '//*[@id=\"ReviewsSection\"]/div[5]/div[2]/div[4]/article/section/section[2]/section/div/div[1]/span',\n",
    "                            '//*[@id=\"ReviewsSection\"]/div[5]/div[2]/div[5]/article/section/section[2]/section/div/div[1]/span',\n",
    "                            '//*[@id=\"ReviewsSection\"]/div[5]/div[2]/div[6]/article/section/section[2]/section/div/div[1]/span'           \n",
    "                            ]}\n",
    "            \n",
    "            # flag variable to keep track of success\n",
    "            review_found = False\n",
    "\n",
    "            # wait 10 seconds for review to appear and extract it\n",
    "            for k in range(2):\n",
    "                try:\n",
    "                    review_body_tag = review_body_tag_dictionary['review'][j]\n",
    "                    review_body = WebDriverWait(driver, 10).until(EC.presence_of_element_located((By.XPATH, review_body_tag)))\n",
    "                    print(f\"Book {i+1}: \")\n",
    "                    print(f\"Review {j+1}: \")\n",
    "                    print(review_body.text)\n",
    "                    print(\"\\n\")\n",
    "                    review_found = True\n",
    "                    break\n",
    "                except (TimeoutException, NoSuchElementException):\n",
    "                    print(f\"Could not get review {j+1} for book {i+1} searching for \\\"more button\\\": \\n{link}\")\n",
    "                    print(\"\\n\")\n",
    "\n",
    "                    # wait 10 seconds for show more button to appear and click on it\n",
    "                    review_show_more_button_tag = '/html/body/div[1]/div/main/div[1]/div[2]/div[3]/div/div[5]/div[2]/div[1]/article/section/section[2]/section/div/div[2]/div/button/'\n",
    "                    try:\n",
    "                        # try looking for a 'show more' button\n",
    "                        review_show_more_button = WebDriverWait(driver, 10).until(EC.element_to_be_clickable((By.XPATH, review_show_more_button_tag)))\n",
    "\n",
    "                        # try clicking on \"show more\" button\n",
    "                        review_show_more_button.click()\n",
    "                        \n",
    "                        # if click is successfull try loading book review data again\n",
    "                        try:\n",
    "                            review_body_tag = review_body_tag_dictionary['review'][j]\n",
    "                            review_body = WebDriverWait(driver, 10).until(EC.presence_of_element_located((By.XPATH, review_body_tag)))\n",
    "                            print(f\"Book {i+1}: \")\n",
    "                            print(f\"Review {j+1}: \")\n",
    "                            print(review_body.text)\n",
    "                            print(\"\\n\")\n",
    "                            review_found = True\n",
    "                            break\n",
    "                        except (TimeoutException, NoSuchElementException):\n",
    "                            print(f\"Could not get review {j+1} for book {i+1} after clicking \\\"more\\\" button \\n{link}\")\n",
    "                            print(\"\\n\")\n",
    "                    except (TimeoutException, NoSuchElementException):\n",
    "                        print(f\"Could not find show more button for Book {i+1} Review {j+1}: \\n{link}\")\n",
    "                        print(\"\\n\")\n",
    "                        break\n",
    "                    except ElementClickInterceptedException:\n",
    "                        print(f\"Could not click on show more button for Book {i+1} Review {j+1}: \\n{link}\")\n",
    "                        print(\"\\n\")\n",
    "                        break\n",
    "            \n",
    "            # if review is found keep iterating for all 5 reviews\n",
    "            if review_found:\n",
    "                continue\n",
    "            else:\n",
    "                # break out of the loop if a review or total of 5 is not found\n",
    "                print(f\"Didn't find enough reviews for book {i+1}. Moving on to book {i+2}\")\n",
    "                print(\"==========================================================\\n\")\n",
    "                break\n",
    "            \n",
    "    # close the browser\n",
    "    driver.quit()"
   ]
  },
  {
   "cell_type": "markdown",
   "id": "77a78e6f",
   "metadata": {},
   "source": [
    "# Main"
   ]
  },
  {
   "cell_type": "code",
   "execution_count": 29,
   "id": "46f5f79f",
   "metadata": {},
   "outputs": [],
   "source": [
    "input_filename = \"links.txt\"\n",
    "df = text_file_to_dataframe(input_filename)"
   ]
  },
  {
   "cell_type": "code",
   "execution_count": 37,
   "id": "d2e8e7eb",
   "metadata": {
    "scrolled": false
   },
   "outputs": [
    {
     "name": "stdout",
     "output_type": "stream",
     "text": [
      "Book 1: \n",
      "Review 1: \n",
      "Not the greatest until about the last third of the book. Maybe my taste in authors is changing.\n",
      "\n",
      "\n",
      "Book 1: \n",
      "Review 2: \n",
      "This is the fifth sequel in this series. A little better than the last couple. The Godmothers are funny but the story line needs to end. I have the sixth book on my bookshelf hope it's better.\n",
      "\n",
      "\n",
      "Book 1: \n",
      "Review 3: \n",
      "This book reminded me of The Golden Girls television series. It included some of the more recent references to people and events that have occured since the series.\n",
      "\n",
      "\n",
      "Book 1: \n",
      "Review 4: \n",
      "fern michaels never fails to provide a story that you just cannot put down, I cant wait for her next one\n",
      "\n",
      "\n",
      "Book 1: \n",
      "Review 5: \n",
      "Another good read!\n",
      "\n",
      "\n",
      "Could not get review 1 for book 2 searching for \"more button\": \n",
      "https://www.goodreads.com/book/show/28111953-jokes-jokes-and-more-jokes?from_search=true&from_srp=true&qid=ZpnjM8vxLv&rank=1\n",
      "\n",
      "\n",
      "Could not find show more button for Book 2 Review 1: \n",
      "https://www.goodreads.com/book/show/28111953-jokes-jokes-and-more-jokes?from_search=true&from_srp=true&qid=ZpnjM8vxLv&rank=1\n",
      "\n",
      "\n",
      "Didn't find enough reviews for book 2. Moving on to book 3\n",
      "==========================================================\n",
      "\n",
      "Book 3: \n",
      "Review 1: \n",
      "Check out this and other reviews on my young adult book blog, Here's to Happy Endings!\n",
      "\n",
      "When I first heard about this book, I fell in love with the cover and the fact that it was focused on being tropical. While I haven’t seen Millie Marotta’s first coloring book – Animal Kingdom, I thought this one would do a wonderful job showing off some beautiful tropical artwork.\n",
      "\n",
      "\n",
      "\n",
      "There are lots of animals (frogs, birds, big cats, etc), trees, and lots of flowers to choose from. There are even some pages in the book with directions to help add your own artwork to the book – such as creating some flowers for a bird nest in order to make it more homey. While I’m not much for drawing, I can see how these pages would definitely appeal to those who are good at it and enjoy it.\n",
      "\n",
      "Some of the designs are pretty simple, flower-y designs, and some of them are much more intricate and time-consuming. In fact, a lot of the designs in this beautiful book are very detailed, and you would need very sharp pencils to get to a lot of these areas. I have only tried out colored pencils in this book so far, and since the illustrations are printed on both sides, I’m not sure how well markers or gel pens would work out. Either way, colored pencils definitely do a nice job when coloring these pictures.\n",
      "\n",
      "\n",
      "\n",
      "The paper in this coloring book is pretty thick, so you can add a lot of layers of color (at least with pencils) without worrying about ruining other pictures, and the pages are a nice bright white, so you can make these images pop with all kinds of color combinations.\n",
      "\n",
      "The only issue I have with this book is how a lot of the illustrations span two pages, and it can be difficult to add color close to the spine. Even on the single page illustrations, I had a bit of a difficult time fully coloring the images because of this, but it isn’t enough to ruin the awesome coloring experience that this book brings.\n",
      "\n",
      "It has a lot of variety – animals, flowers, plants, tropical designs, etc., and the illustrations are all so beautiful!\n",
      "\n",
      "I received a copy of this book from the publisher in exchange for an honest review.\n",
      "\n",
      "\n",
      "Book 3: \n",
      "Review 2: \n",
      "Loved spending time colouring this adult colouring book! Beautiful details in every picture!\n",
      "\n",
      "\n",
      "Could not get review 3 for book 3 searching for \"more button\": \n",
      "https://www.goodreads.com/book/show/24612758-millie-s-tropical-world?from_search=true&from_srp=true&qid=WtOqQXjVXW&rank=1\n",
      "\n",
      "\n",
      "Could not find show more button for Book 3 Review 3: \n",
      "https://www.goodreads.com/book/show/24612758-millie-s-tropical-world?from_search=true&from_srp=true&qid=WtOqQXjVXW&rank=1\n",
      "\n",
      "\n",
      "Didn't find enough reviews for book 3. Moving on to book 4\n",
      "==========================================================\n",
      "\n",
      "Book 4: \n",
      "Review 1: \n",
      "Interesting book!\n",
      "\n",
      "\n",
      "Could not get review 2 for book 4 searching for \"more button\": \n",
      "https://www.goodreads.com/book/show/25946661-legally-stoned?from_search=true&from_srp=true&qid=xt6dFi55Mw&rank=1\n",
      "\n",
      "\n",
      "Could not find show more button for Book 4 Review 2: \n",
      "https://www.goodreads.com/book/show/25946661-legally-stoned?from_search=true&from_srp=true&qid=xt6dFi55Mw&rank=1\n",
      "\n",
      "\n",
      "Didn't find enough reviews for book 4. Moving on to book 5\n",
      "==========================================================\n",
      "\n",
      "Book 5: \n",
      "Review 1: \n",
      "I received this book for free from the publisher (Quirk Books) in exchange for an honest review.\n",
      "\n",
      "I loved this book! I love history, especially when it comes to topics that are not talked about much. So naturally, this book was right up on my alley.\n",
      "\n",
      "This edition of the book features profiles of all the First Ladies, including the most recent one, Melania Trump. It gives a short biography about each First Lady and her time in the White House, as well as some fun facts and stories. There are also some fun illustrations (which I loved).\n",
      "\n",
      "\n",
      "\n",
      "My biggest takeaway from this was that so many of the First Ladies had tragic lives. Many of them were upset and cried when their husbands became president. A lot of them had to endure a bunch of bad stuff (absent husbands, children dying, health problems, long travels, etc.) to help their husbands get to the White House. I had no idea that this was the reality for a majority of them. Their lives were not as glamorous as some may have thought.\n",
      "\n",
      "Hardly anyone ever talks about the First Ladies (especially the earlier ones) so it was really insightful to learn more about them. They deserve more recognition than they get.\n",
      "\n",
      "Overall, if you want a fun little history lesson on the First Ladies, then look no further, this book is for you!\n",
      "\n",
      "\n",
      "Book 5: \n",
      "Review 2: \n",
      "I'm giving this a five star since I'd really only thought this would end up being a good bathroom reader, if you know what I mean. Instead, I found myself rereading my favorite wives or referencing them in conversation. The short excerpts are perfect for a shorter attention span (or a bathroom reader, lol). All the extra insider details read like that favorite history teacher who gave you all the real scoop.\n",
      "\n",
      "\n",
      "Book 5: \n",
      "Review 3: \n",
      "There isn't so much plot in this book as there is anecdote - and yet it still manages to capture attention and flow.\n",
      "\n",
      "For instance - Martha Washington might have been involved in the death of her first husband's half-brother? It's just not the picture I had in my mind of our first First Lady.\n",
      "\n",
      "And being as Grover Cleveland wasn't particularly prominent in my childhood education, I hadn't heard the details of his White House marriage.\n",
      "\n",
      "Really, Grover? Your former ward? The daughter of your best friend? Proof that there were People of Wal Mart long before there was Wal Mart.\n",
      "\n",
      "Because\n",
      "is not a story, but a series of vignettes taking a gossipy look at the lives of the women behind the men leading the nation, it can be read in short bursts while waiting for kids at sports practices, at doctor's offices, or while waiting for the slow wheels of bureaucracy to... do anything. Leaving and coming back to the stories presents no hardship in how they are processed.\n",
      "\n",
      "And Cormac O'Brien writes up gossip better than the Daily Mail, so the entertainment promised is delivered with exponents tacked onto the end. Delivered so well, in fact, that I immediately bought his .\n",
      "\n",
      "On a final note, I had no idea that Martin Van Buren neglected to even mention his wife in his memoirs. What a jerk.\n",
      "\n",
      "\n",
      "Book 5: \n",
      "Review 4: \n",
      "Well, that was fun.\n",
      "\n",
      "My f-t-f book club is reading the lives of First Ladies, each participant picking one and reading about her, but, of course, I couldn't do that, so instead I decided to read about all of them (up to 2005, anyway, the book's copyright date).\n",
      "\n",
      "I found I especially liked Mary Todd Lincoln (who doesn't?), Lou Henry Hoover (a geologist), Lady Bird Johnson (with such a bossy husband), Laura Bush (who knew she smoked until the 1990s?), as well as Abigail Fillmore (started a library at the White House) and Florence Harding (wife of the most corrupt president...though this title could be questioned today, perhaps).\n",
      "\n",
      "What did the best of these First Ladies have in common? Ambitious for their husbands. Very bright. Right hand man of the president. Able to overlook flaws of the presidents and focus on their strengths. Multi-taskers. A strong sense of what was right.\n",
      "\n",
      "A fun read. I may look for more of this series from Quirk Books.\n",
      "\n",
      "\n",
      "Book 5: \n",
      "Review 5: \n",
      "This was different than the stories you get of presidents. This is from the woman side, you find out that a lot of will-be presidents married up for money or prestige. I’m sure love too. There were a lot of first ladies that didn’t want their husband going to the White House. There are more first ladies more troubled than you’ll believe but there are more ladies more talented than we ever knew. The women in the book were more interesting than their husbands.\n",
      "Jason Rekulak was an editor of this book. He wrote a fantastic book called “Impossible Fortress.”\n",
      "The writing was entertaining and there was a lot of information.\n",
      "\n",
      "\n"
     ]
    }
   ],
   "source": [
    "get_reviews_6(df,5)"
   ]
  },
  {
   "cell_type": "code",
   "execution_count": null,
   "id": "dd03e725",
   "metadata": {},
   "outputs": [],
   "source": []
  },
  {
   "cell_type": "markdown",
   "id": "2cb24c8a",
   "metadata": {},
   "source": [
    "# Manually Testing"
   ]
  },
  {
   "cell_type": "code",
   "execution_count": null,
   "id": "be266e6b",
   "metadata": {},
   "outputs": [],
   "source": [
    "# initiate selenium browser\n",
    "driver = webdriver.Chrome()"
   ]
  },
  {
   "cell_type": "code",
   "execution_count": null,
   "id": "eca16b4c",
   "metadata": {},
   "outputs": [],
   "source": [
    "link = 'https://www.goodreads.com/book/show/13771831-breaking-news?from_search=true&from_srp=true&qid=mipV5pB2vA&rank=1'"
   ]
  },
  {
   "cell_type": "code",
   "execution_count": null,
   "id": "b6bf9998",
   "metadata": {},
   "outputs": [],
   "source": [
    "# go to starter link on browser\n",
    "driver.get(link)"
   ]
  },
  {
   "cell_type": "markdown",
   "id": "f478925f",
   "metadata": {},
   "source": [
    "# Click on Link"
   ]
  },
  {
   "cell_type": "code",
   "execution_count": null,
   "id": "8cfb279b",
   "metadata": {},
   "outputs": [],
   "source": [
    "review_1_show_more_button_tag = '/html/body/div[1]/div/main/div[1]/div[2]/div[3]/div/div[5]/div[2]/div[1]/article/section/section[2]/section/div/div[2]/div/button/'"
   ]
  },
  {
   "cell_type": "code",
   "execution_count": null,
   "id": "56d379c1",
   "metadata": {
    "scrolled": true
   },
   "outputs": [],
   "source": [
    "review_1_show_more_button = driver.find_element_by_xpath(review_1_show_more_button_tag)"
   ]
  },
  {
   "cell_type": "markdown",
   "id": "ca2f62cc",
   "metadata": {},
   "source": [
    "# If Link Doesn't Exists"
   ]
  },
  {
   "cell_type": "code",
   "execution_count": null,
   "id": "e6c8a982",
   "metadata": {},
   "outputs": [],
   "source": [
    "review_body_tag_dictionary = {}"
   ]
  },
  {
   "cell_type": "code",
   "execution_count": null,
   "id": "598bcae3",
   "metadata": {},
   "outputs": [],
   "source": [
    "review_1_body_tag = '//*[@id=\"ReviewsSection\"]/div[5]/div[2]/div[1]/article/section/section[2]/section/div/div[1]/span'"
   ]
  },
  {
   "cell_type": "code",
   "execution_count": null,
   "id": "ca888ac6",
   "metadata": {},
   "outputs": [],
   "source": [
    "review_2_body_tag = '//*[@id=\"ReviewsSection\"]/div[5]/div[2]/div[3]/article/section/section[2]/section/div/div[1]/span'"
   ]
  },
  {
   "cell_type": "code",
   "execution_count": null,
   "id": "f201e655",
   "metadata": {},
   "outputs": [],
   "source": [
    "review_3_body_tag = '//*[@id=\"ReviewsSection\"]/div[5]/div[2]/div[4]/article/section/section[2]/section/div/div[1]/span'"
   ]
  },
  {
   "cell_type": "code",
   "execution_count": null,
   "id": "83bdd6e8",
   "metadata": {},
   "outputs": [],
   "source": [
    "review_4_body_tag = '//*[@id=\"ReviewsSection\"]/div[5]/div[2]/div[5]/article/section/section[2]/section/div/div[1]/span'"
   ]
  },
  {
   "cell_type": "code",
   "execution_count": null,
   "id": "be680c07",
   "metadata": {},
   "outputs": [],
   "source": [
    "review_5_body_tag = '//*[@id=\"ReviewsSection\"]/div[5]/div[2]/div[6]/article/section/section[2]/section/div/div[1]/span'"
   ]
  },
  {
   "cell_type": "code",
   "execution_count": null,
   "id": "052e422e",
   "metadata": {},
   "outputs": [],
   "source": [
    "review_1_body = driver.find_element_by_xpath(review_1_body_tag)"
   ]
  },
  {
   "cell_type": "code",
   "execution_count": null,
   "id": "a86cc9a3",
   "metadata": {},
   "outputs": [],
   "source": [
    "review_2_body = driver.find_element_by_xpath(review_2_body_tag)"
   ]
  },
  {
   "cell_type": "code",
   "execution_count": null,
   "id": "683b346e",
   "metadata": {},
   "outputs": [],
   "source": [
    "review_3_body = driver.find_element_by_xpath(review_3_body_tag)"
   ]
  },
  {
   "cell_type": "code",
   "execution_count": null,
   "id": "b2976115",
   "metadata": {},
   "outputs": [],
   "source": [
    "review_4_body = driver.find_element_by_xpath(review_4_body_tag)"
   ]
  },
  {
   "cell_type": "code",
   "execution_count": null,
   "id": "f001ca93",
   "metadata": {},
   "outputs": [],
   "source": [
    "review_5_body = driver.find_element_by_xpath(review_5_body_tag)"
   ]
  },
  {
   "cell_type": "code",
   "execution_count": null,
   "id": "c8ba75a8",
   "metadata": {},
   "outputs": [],
   "source": [
    "print(review_1_body.text)"
   ]
  },
  {
   "cell_type": "code",
   "execution_count": null,
   "id": "1663355b",
   "metadata": {},
   "outputs": [],
   "source": [
    "print(review_2_body.text)"
   ]
  },
  {
   "cell_type": "code",
   "execution_count": null,
   "id": "ddf5f62b",
   "metadata": {},
   "outputs": [],
   "source": [
    "print(review_3_body.text)"
   ]
  },
  {
   "cell_type": "code",
   "execution_count": null,
   "id": "3c3fad75",
   "metadata": {},
   "outputs": [],
   "source": [
    "print(review_4_body.text)"
   ]
  },
  {
   "cell_type": "code",
   "execution_count": null,
   "id": "c6ed6744",
   "metadata": {},
   "outputs": [],
   "source": [
    "print(review_5_body.text)"
   ]
  },
  {
   "cell_type": "code",
   "execution_count": null,
   "id": "d553ee34",
   "metadata": {},
   "outputs": [],
   "source": []
  }
 ],
 "metadata": {
  "kernelspec": {
   "display_name": "Python 3 (ipykernel)",
   "language": "python",
   "name": "python3"
  },
  "language_info": {
   "codemirror_mode": {
    "name": "ipython",
    "version": 3
   },
   "file_extension": ".py",
   "mimetype": "text/x-python",
   "name": "python",
   "nbconvert_exporter": "python",
   "pygments_lexer": "ipython3",
   "version": "3.9.13"
  }
 },
 "nbformat": 4,
 "nbformat_minor": 5
}
