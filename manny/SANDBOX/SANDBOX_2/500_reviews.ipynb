{
 "cells": [
  {
   "cell_type": "code",
   "execution_count": 70,
   "id": "5ddca515",
   "metadata": {},
   "outputs": [],
   "source": [
    "import pandas as pd\n",
    "import os\n",
    "import re\n",
    "import codecs\n",
    "import requests\n",
    "from bs4 import BeautifulSoup\n",
    "    \n",
    "from selenium import webdriver\n",
    "from selenium.webdriver.common.by import By\n",
    "from selenium.webdriver.support.ui import WebDriverWait\n",
    "from selenium.webdriver.support import expected_conditions as EC\n",
    "from selenium.webdriver.common.keys import Keys\n",
    "from selenium.common.exceptions import NoSuchElementException, TimeoutException, ElementClickInterceptedException"
   ]
  },
  {
   "cell_type": "code",
   "execution_count": 47,
   "id": "7ad35b8c",
   "metadata": {},
   "outputs": [],
   "source": [
    "def modify_link(link):\n",
    "    '''\n",
    "        Function to modify the link format\n",
    "    '''\n",
    "    # Split the link using '?' and take the first part (before the query parameters)\n",
    "    base_url = link.split('?')[0]\n",
    "    \n",
    "    # Split the base_url using '/' and return the second last part\n",
    "    return base_url.split('/')[-1]"
   ]
  },
  {
   "cell_type": "code",
   "execution_count": 48,
   "id": "6b15361b",
   "metadata": {},
   "outputs": [],
   "source": [
    "def text_file_to_dataframe(filename):\n",
    "    # Check if the text file exists\n",
    "    if os.path.exists(filename):\n",
    "        \n",
    "        # Read the text file and create a list of lines\n",
    "        with open(filename, \"r\") as file:\n",
    "            lines = file.readlines()\n",
    "            content = [line.strip() for line in lines]\n",
    "\n",
    "        # Create a DataFrame from the list\n",
    "        df = pd.DataFrame(content, columns=['links'])\n",
    "        \n",
    "        return df\n",
    "    else:\n",
    "        print(f\"{filename} does not exist.\")\n",
    "        return None"
   ]
  },
  {
   "cell_type": "code",
   "execution_count": 49,
   "id": "7e774b12",
   "metadata": {},
   "outputs": [],
   "source": [
    "def prepare_link_df(df):\n",
    "    # Apply the modify_link function to the 'data' column\n",
    "    df['links'] = df['links'].apply(modify_link)\n",
    "        \n",
    "    return df"
   ]
  },
  {
   "cell_type": "code",
   "execution_count": 50,
   "id": "5d68e512",
   "metadata": {},
   "outputs": [],
   "source": [
    "def save_dataframe_to_text_file(df, filename):\n",
    "    # Save the modified DataFrame to a text file with newline-separated values\n",
    "    df.to_csv(filename, index=False, header=False, sep='\\n')"
   ]
  },
  {
   "cell_type": "code",
   "execution_count": 51,
   "id": "f39abc79",
   "metadata": {},
   "outputs": [],
   "source": [
    "def get_reviews(df, num_loops):\n",
    "    # initiate selenium browser\n",
    "    driver = webdriver.Chrome()\n",
    "    review_1_show_more_button_tag = '/html/body/div[1]/div/main/div[1]/div[2]/div[3]/div/div[5]/div[2]/div[1]/article/section/section[2]/section/div/div[2]/div/button/span[1]'   \n",
    "    review_1_show_more_button = driver.find_element_by_xpath(review_1_show_more_button_tag)\n",
    "    review_1_body_tag = '/html/body/div[1]/div/main/div[1]/div[2]/div[3]/div/div[5]/div[2]/div[1]/article/section/section[2]/section/div/div[1]/span'\n",
    "    review_1_body = driver.find_element_by_xpath(review_1_body_tag)\n",
    "    \n",
    "    # iterate through every row in DataFrame column 'links'\n",
    "    for i in df['links']:\n",
    "        # go to starter link on browser\n",
    "        driver.get(i)\n",
    "        review_1_show_more_button.click()\n",
    "        print(review_1_body.text)"
   ]
  },
  {
   "cell_type": "code",
   "execution_count": 58,
   "id": "4222dbef",
   "metadata": {},
   "outputs": [],
   "source": [
    "def get_reviews(df, num_loops):\n",
    "    # initiate selenium browser\n",
    "    driver = webdriver.Chrome()\n",
    "\n",
    "    # iterate through the dataframe for num_loops times\n",
    "    for i in range(num_loops):\n",
    "        # variable definitions\n",
    "        link = df['links'].iloc[i]\n",
    "        \n",
    "        # go to starter link on browser\n",
    "        driver.get(link)\n",
    "        \n",
    "        # wait 10 seconds\n",
    "        review_1_show_more_button_tag = '/html/body/div[1]/div/main/div[1]/div[2]/div[3]/div/div[5]/div[2]/div[1]/article/section/section[2]/section/div/div[2]/div/button/span[1]'   \n",
    "        # extract button element\n",
    "        review_1_show_more_button = driver.find_element_by_xpath(review_1_show_more_button_tag)\n",
    "        \n",
    "        # click on show more button\n",
    "        review_1_show_more_button.click()\n",
    "        \n",
    "        # wait 10 seconds\n",
    "        review_1_body_tag = '/html/body/div[1]/div/main/div[1]/div[2]/div[3]/div/div[5]/div[2]/div[1]/article/section/section[2]/section/div/div[1]/span'\n",
    "        \n",
    "        # extract review\n",
    "        review_1_body = driver.find_element_by_xpath(review_1_body_tag)\n",
    "        \n",
    "        # S H O W\n",
    "        print(review_1_body.text)\n",
    "            \n",
    "    # close the browser\n",
    "    driver.quit()"
   ]
  },
  {
   "cell_type": "code",
   "execution_count": 74,
   "id": "c643c669",
   "metadata": {},
   "outputs": [],
   "source": [
    "def get_reviews_3(df, num_loops):\n",
    "    # initiate selenium browser\n",
    "    driver = webdriver.Chrome()\n",
    "\n",
    "    # iterate through the dataframe for num_loops times\n",
    "    for i in range(num_loops):\n",
    "        # variable definitions\n",
    "        link = df['links'].iloc[i]\n",
    "        \n",
    "        # go to starter link on browser\n",
    "        driver.get(link)\n",
    "        \n",
    "        # wait 10 seconds for show more button to appear and click on it\n",
    "        try:\n",
    "            review_1_show_more_button_tag = '//*[@id=\"ReviewsSection\"]/div[5]/div[2]/div[1]/article/section/section[2]/section/div/div[2]/div/button'\n",
    "            review_1_show_more_button = WebDriverWait(driver, 10).until(EC.element_to_be_clickable((By.XPATH, review_1_show_more_button_tag)))\n",
    "            review_1_show_more_button.click()\n",
    "        except (TimeoutException, NoSuchElementException):\n",
    "            print(f\"Could not find show more button for link: {link}\")\n",
    "            continue\n",
    "        \n",
    "        # wait 10 seconds for review to appear and extract it\n",
    "        try:\n",
    "            review_1_body_tag = '/html/body/div[1]/div/main/div[1]/div[2]/div[3]/div/div[5]/div[2]/div[1]/article/section/section[2]/section/div/div[1]/span'\n",
    "            review_1_body = WebDriverWait(driver, 10).until(EC.presence_of_element_located((By.XPATH, review_1_body_tag)))\n",
    "            print(review_1_body.text)\n",
    "        except (TimeoutException, NoSuchElementException):\n",
    "            print(f\"Could not find review for link: {link}\")\n",
    "            continue\n",
    "            \n",
    "    # close the browser\n",
    "    driver.quit()"
   ]
  },
  {
   "cell_type": "code",
   "execution_count": 122,
   "id": "d7d15604",
   "metadata": {},
   "outputs": [],
   "source": [
    "def get_reviews_4(df, num_loops):\n",
    "    # initiate selenium browser\n",
    "    driver = webdriver.Chrome()\n",
    "\n",
    "    # iterate through the dataframe for num_loops times\n",
    "    for i in range(num_loops):\n",
    "        # variable definitions\n",
    "        link = df['links'].iloc[i]\n",
    "        \n",
    "        # go to starter link on browser\n",
    "        driver.get(link)\n",
    "        \n",
    "        for j in range(5):\n",
    "            review_body_tag_dictionary = {'review':['//*[@id=\"ReviewsSection\"]/div[5]/div[2]/div[1]/article/section/section[2]/section/div/div[1]/span',\n",
    "                            '//*[@id=\"ReviewsSection\"]/div[5]/div[2]/div[3]/article/section/section[2]/section/div/div[1]/span',\n",
    "                            '//*[@id=\"ReviewsSection\"]/div[5]/div[2]/div[4]/article/section/section[2]/section/div/div[1]/span',\n",
    "                            '//*[@id=\"ReviewsSection\"]/div[5]/div[2]/div[5]/article/section/section[2]/section/div/div[1]/span',\n",
    "                            '//*[@id=\"ReviewsSection\"]/div[5]/div[2]/div[6]/article/section/section[2]/section/div/div[1]/span'           \n",
    "                            ]}\n",
    "            # wait 10 seconds for review to appear and extract it\n",
    "            try:\n",
    "                review_1_body_tag = '/html/body/div[1]/div/main/div[1]/div[2]/div[3]/div/div[5]/div[2]/div[1]/article/section/section[2]/section/div/div[1]/span'\n",
    "                review_1_body = WebDriverWait(driver, 10).until(EC.presence_of_element_located((By.XPATH, review_1_body_tag)))\n",
    "                print(f\"Book {i+1}: \")\n",
    "                print(f\"Review {j+1}: \")\n",
    "                print(review_1_body.text)\n",
    "                print(\"\\n\")\n",
    "            except (TimeoutException, NoSuchElementException):\n",
    "                print(f\"Could not get review searching for \\\"more button\\\": {link}\")\n",
    "                print(\"\\n\")\n",
    "                continue\n",
    "\n",
    "            # wait 10 seconds for show more button to appear and click on it\n",
    "            try:\n",
    "                review_1_show_more_button_tag = '/html/body/div[1]/div/main/div[1]/div[2]/div[3]/div/div[5]/div[2]/div[1]/article/section/section[2]/section/div/div[2]/div/button/'\n",
    "                review_1_show_more_button = WebDriverWait(driver, 10).until(EC.element_to_be_clickable((By.XPATH, review_1_show_more_button_tag)))\n",
    "                review_1_show_more_button.click()\n",
    "            except (TimeoutException, NoSuchElementException):\n",
    "                print(f\"Could not find show more button for link: {link}\")\n",
    "                print(\"\\n\")\n",
    "                continue\n",
    "            except ElementClickInterceptedException:\n",
    "                print(f\"Could not click on show more button for link: {link}\")\n",
    "                print(\"\\n\")\n",
    "                continue\n",
    "\n",
    "            # wait 10 seconds for review to appear and extract it\n",
    "            try:\n",
    "                review_1_body_tag = '/html/body/div[1]/div/main/div[1]/div[2]/div[3]/div/div[5]/div[2]/div[1]/article/section/section[2]/section/div/div[1]/span'\n",
    "                review_1_body = WebDriverWait(driver, 10).until(EC.presence_of_element_located((By.XPATH, review_1_body_tag)))\n",
    "                print(f\"Book {i+1}: \")\n",
    "                print(f\"Review {j+1}: \")\n",
    "                print(review_1_body.text)\n",
    "                print(\"\\n\")\n",
    "            except (TimeoutException, NoSuchElementException):\n",
    "                print(f\"Could not find review for link: {link}\")\n",
    "                print(\"\\n\")\n",
    "                continue\n",
    "            \n",
    "    # close the browser\n",
    "    driver.quit()"
   ]
  },
  {
   "cell_type": "markdown",
   "id": "c0b9298b",
   "metadata": {},
   "source": [
    "# Main"
   ]
  },
  {
   "cell_type": "code",
   "execution_count": 123,
   "id": "46f5f79f",
   "metadata": {},
   "outputs": [],
   "source": [
    "input_filename = \"links.txt\"\n",
    "df = text_file_to_dataframe(input_filename)"
   ]
  },
  {
   "cell_type": "code",
   "execution_count": null,
   "id": "fa6690db",
   "metadata": {
    "scrolled": false
   },
   "outputs": [],
   "source": [
    "get_reviews_4(df,5)"
   ]
  },
  {
   "cell_type": "code",
   "execution_count": null,
   "id": "9ab2ba45",
   "metadata": {},
   "outputs": [],
   "source": []
  },
  {
   "cell_type": "markdown",
   "id": "4cb617ab",
   "metadata": {},
   "source": [
    "# Manually Testing"
   ]
  },
  {
   "cell_type": "code",
   "execution_count": 80,
   "id": "95a41036",
   "metadata": {},
   "outputs": [],
   "source": [
    "# initiate selenium browser\n",
    "driver = webdriver.Chrome()"
   ]
  },
  {
   "cell_type": "code",
   "execution_count": 83,
   "id": "b34ba996",
   "metadata": {},
   "outputs": [],
   "source": [
    "link = 'https://www.goodreads.com/book/show/13771831-breaking-news?from_search=true&from_srp=true&qid=mipV5pB2vA&rank=1'"
   ]
  },
  {
   "cell_type": "code",
   "execution_count": 84,
   "id": "02bda03c",
   "metadata": {},
   "outputs": [],
   "source": [
    "# go to starter link on browser\n",
    "driver.get(link)"
   ]
  },
  {
   "cell_type": "markdown",
   "id": "697294e6",
   "metadata": {},
   "source": [
    "# Click on Link"
   ]
  },
  {
   "cell_type": "code",
   "execution_count": 85,
   "id": "ea178ab4",
   "metadata": {},
   "outputs": [],
   "source": [
    "review_1_show_more_button_tag = '/html/body/div[1]/div/main/div[1]/div[2]/div[3]/div/div[5]/div[2]/div[1]/article/section/section[2]/section/div/div[2]/div/button/'"
   ]
  },
  {
   "cell_type": "code",
   "execution_count": null,
   "id": "036a0b1c",
   "metadata": {
    "scrolled": true
   },
   "outputs": [],
   "source": [
    "review_1_show_more_button = driver.find_element_by_xpath(review_1_show_more_button_tag)"
   ]
  },
  {
   "cell_type": "markdown",
   "id": "1ef20355",
   "metadata": {},
   "source": [
    "# If Link Doesn't Exists"
   ]
  },
  {
   "cell_type": "code",
   "execution_count": null,
   "id": "b20d5506",
   "metadata": {},
   "outputs": [],
   "source": [
    "review_body_tag_dictionary = {}"
   ]
  },
  {
   "cell_type": "code",
   "execution_count": 100,
   "id": "23e7eb9c",
   "metadata": {},
   "outputs": [],
   "source": [
    "review_1_body_tag = '//*[@id=\"ReviewsSection\"]/div[5]/div[2]/div[1]/article/section/section[2]/section/div/div[1]/span'"
   ]
  },
  {
   "cell_type": "code",
   "execution_count": 101,
   "id": "ce7eabfb",
   "metadata": {},
   "outputs": [],
   "source": [
    "review_2_body_tag = '//*[@id=\"ReviewsSection\"]/div[5]/div[2]/div[3]/article/section/section[2]/section/div/div[1]/span'"
   ]
  },
  {
   "cell_type": "code",
   "execution_count": 102,
   "id": "e78a223e",
   "metadata": {},
   "outputs": [],
   "source": [
    "review_3_body_tag = '//*[@id=\"ReviewsSection\"]/div[5]/div[2]/div[4]/article/section/section[2]/section/div/div[1]/span'"
   ]
  },
  {
   "cell_type": "code",
   "execution_count": 103,
   "id": "6b410c8f",
   "metadata": {},
   "outputs": [],
   "source": [
    "review_4_body_tag = '//*[@id=\"ReviewsSection\"]/div[5]/div[2]/div[5]/article/section/section[2]/section/div/div[1]/span'"
   ]
  },
  {
   "cell_type": "code",
   "execution_count": 104,
   "id": "506d5d73",
   "metadata": {},
   "outputs": [],
   "source": [
    "review_5_body_tag = '//*[@id=\"ReviewsSection\"]/div[5]/div[2]/div[6]/article/section/section[2]/section/div/div[1]/span'"
   ]
  },
  {
   "cell_type": "code",
   "execution_count": 89,
   "id": "17d7391e",
   "metadata": {},
   "outputs": [],
   "source": [
    "review_1_body = driver.find_element_by_xpath(review_1_body_tag)"
   ]
  },
  {
   "cell_type": "code",
   "execution_count": 92,
   "id": "642db4bc",
   "metadata": {},
   "outputs": [],
   "source": [
    "review_2_body = driver.find_element_by_xpath(review_2_body_tag)"
   ]
  },
  {
   "cell_type": "code",
   "execution_count": 111,
   "id": "f8590e24",
   "metadata": {},
   "outputs": [],
   "source": [
    "review_3_body = driver.find_element_by_xpath(review_3_body_tag)"
   ]
  },
  {
   "cell_type": "code",
   "execution_count": 112,
   "id": "c3317a4a",
   "metadata": {},
   "outputs": [],
   "source": [
    "review_4_body = driver.find_element_by_xpath(review_4_body_tag)"
   ]
  },
  {
   "cell_type": "code",
   "execution_count": 105,
   "id": "1be7f1bb",
   "metadata": {},
   "outputs": [],
   "source": [
    "review_5_body = driver.find_element_by_xpath(review_5_body_tag)"
   ]
  },
  {
   "cell_type": "code",
   "execution_count": 108,
   "id": "65960a37",
   "metadata": {},
   "outputs": [
    {
     "name": "stdout",
     "output_type": "stream",
     "text": [
      "Not the greatest until about the last third of the book. Maybe my taste in authors is changing.\n"
     ]
    }
   ],
   "source": [
    "print(review_1_body.text)"
   ]
  },
  {
   "cell_type": "code",
   "execution_count": 107,
   "id": "d6e7e248",
   "metadata": {},
   "outputs": [
    {
     "name": "stdout",
     "output_type": "stream",
     "text": [
      "This is the fifth sequel in this series. A little better than the last couple. The Godmothers are funny but the story line needs to end. I have the sixth book on my bookshelf hope it's better.\n"
     ]
    }
   ],
   "source": [
    "print(review_2_body.text)"
   ]
  },
  {
   "cell_type": "code",
   "execution_count": 113,
   "id": "b74e6fe1",
   "metadata": {},
   "outputs": [
    {
     "name": "stdout",
     "output_type": "stream",
     "text": [
      "This book reminded me of The Golden Girls television series. It included some of the more recent references to people and events that have occured since the series.\n"
     ]
    }
   ],
   "source": [
    "print(review_3_body.text)"
   ]
  },
  {
   "cell_type": "code",
   "execution_count": 114,
   "id": "6b28b9ad",
   "metadata": {},
   "outputs": [
    {
     "name": "stdout",
     "output_type": "stream",
     "text": [
      "fern michaels never fails to provide a story that you just cannot put down, I cant wait for her next one\n"
     ]
    }
   ],
   "source": [
    "print(review_4_body.text)"
   ]
  },
  {
   "cell_type": "code",
   "execution_count": 106,
   "id": "69fd914f",
   "metadata": {},
   "outputs": [
    {
     "name": "stdout",
     "output_type": "stream",
     "text": [
      "Another good read!\n"
     ]
    }
   ],
   "source": [
    "print(review_5_body.text)"
   ]
  },
  {
   "cell_type": "code",
   "execution_count": null,
   "id": "9c481b92",
   "metadata": {},
   "outputs": [],
   "source": []
  }
 ],
 "metadata": {
  "kernelspec": {
   "display_name": "Python 3 (ipykernel)",
   "language": "python",
   "name": "python3"
  },
  "language_info": {
   "codemirror_mode": {
    "name": "ipython",
    "version": 3
   },
   "file_extension": ".py",
   "mimetype": "text/x-python",
   "name": "python",
   "nbconvert_exporter": "python",
   "pygments_lexer": "ipython3",
   "version": "3.9.13"
  }
 },
 "nbformat": 4,
 "nbformat_minor": 5
}
