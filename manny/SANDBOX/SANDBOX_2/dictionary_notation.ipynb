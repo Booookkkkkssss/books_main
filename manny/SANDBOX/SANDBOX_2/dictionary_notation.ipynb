{
 "cells": [
  {
   "cell_type": "code",
   "execution_count": 1,
   "id": "5e9a9218",
   "metadata": {},
   "outputs": [],
   "source": [
    "review_body_tag_dictionary = {'review':['//*[@id=\"ReviewsSection\"]/div[5]/div[2]/div[1]/article/section/section[2]/section/div/div[1]/span',\n",
    "                            '//*[@id=\"ReviewsSection\"]/div[5]/div[2]/div[3]/article/section/section[2]/section/div/div[1]/span',\n",
    "                            '//*[@id=\"ReviewsSection\"]/div[5]/div[2]/div[4]/article/section/section[2]/section/div/div[1]/span',\n",
    "                            '//*[@id=\"ReviewsSection\"]/div[5]/div[2]/div[5]/article/section/section[2]/section/div/div[1]/span',\n",
    "                            '//*[@id=\"ReviewsSection\"]/div[5]/div[2]/div[6]/article/section/section[2]/section/div/div[1]/span'           \n",
    "                            ]}"
   ]
  },
  {
   "cell_type": "code",
   "execution_count": 3,
   "id": "9d92ca5d",
   "metadata": {},
   "outputs": [
    {
     "name": "stdout",
     "output_type": "stream",
     "text": [
      "//*[@id=\"ReviewsSection\"]/div[5]/div[2]/div[1]/article/section/section[2]/section/div/div[1]/span\n",
      "//*[@id=\"ReviewsSection\"]/div[5]/div[2]/div[3]/article/section/section[2]/section/div/div[1]/span\n",
      "//*[@id=\"ReviewsSection\"]/div[5]/div[2]/div[4]/article/section/section[2]/section/div/div[1]/span\n",
      "//*[@id=\"ReviewsSection\"]/div[5]/div[2]/div[5]/article/section/section[2]/section/div/div[1]/span\n",
      "//*[@id=\"ReviewsSection\"]/div[5]/div[2]/div[6]/article/section/section[2]/section/div/div[1]/span\n"
     ]
    }
   ],
   "source": [
    "for i in review_body_tag_dictionary['review']:\n",
    "    print(i)"
   ]
  },
  {
   "cell_type": "code",
   "execution_count": null,
   "id": "c210c9ed",
   "metadata": {},
   "outputs": [],
   "source": []
  }
 ],
 "metadata": {
  "kernelspec": {
   "display_name": "Python 3 (ipykernel)",
   "language": "python",
   "name": "python3"
  },
  "language_info": {
   "codemirror_mode": {
    "name": "ipython",
    "version": 3
   },
   "file_extension": ".py",
   "mimetype": "text/x-python",
   "name": "python",
   "nbconvert_exporter": "python",
   "pygments_lexer": "ipython3",
   "version": "3.9.13"
  }
 },
 "nbformat": 4,
 "nbformat_minor": 5
}
