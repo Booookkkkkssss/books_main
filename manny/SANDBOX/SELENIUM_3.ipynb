{
 "cells": [
  {
   "cell_type": "code",
   "execution_count": 1,
   "id": "37242269",
   "metadata": {},
   "outputs": [],
   "source": [
    "def get_bad_books_links(df, num_loops):\n",
    "    import pandas as pd\n",
    "    import os\n",
    "    import re\n",
    "    import codecs\n",
    "    import requests\n",
    "    from bs4 import BeautifulSoup\n",
    "    \n",
    "    from selenium import webdriver\n",
    "    from selenium.webdriver.common.by import By\n",
    "    from selenium.webdriver.support.ui import WebDriverWait\n",
    "    from selenium.webdriver.support import expected_conditions as EC\n",
    "    from selenium.webdriver.common.keys import Keys\n",
    "    \n",
    "    # if there was an issue with the loop function or the function was interrupted\n",
    "    # there should be a 'links.txt' file that exists\n",
    "    # to avoid any extra work, the function will continue from last link\n",
    "    # =================================\n",
    "    # opening links.txt to read from it\n",
    "    if os.path.exists(\"links.txt\"):\n",
    "        with open(\"links.txt\", \"r\") as file:\n",
    "            lines = file.readlines()\n",
    "            starter_link = lines[-1].strip()\n",
    "    else:\n",
    "        # if starting loop from scratch, this link is used as the first page\n",
    "        starter_link = \"https://www.goodreads.com/book/show/3450744-nudge\"\n",
    "    \n",
    "    # initiate a blank dataframe for keeping links\n",
    "    df['link'] = \"\"\n",
    "\n",
    "    # initiate selenium browser\n",
    "    driver = webdriver.Chrome()\n",
    "    \n",
    "    # if there was an issue with the loop function or the function was interrupted\n",
    "    # there should be a 'row_index.txt' file that exists\n",
    "    # to avoid any extra work, the function will continue from last index\n",
    "    # ===============================\n",
    "    # opening link.txt to write to it\n",
    "    with open(\"links.txt\", \"a\") as file:\n",
    "        if os.path.exists(\"row_index.txt\"):\n",
    "            # reading index file\n",
    "            with open(\"row_index.txt\", \"r\") as index_file:\n",
    "                last_index = int(index_file.read().strip())\n",
    "                start_index = last_index + 1\n",
    "        else:\n",
    "            start_index = 0\n",
    "\n",
    "        # creating end_index with argument of num_loops and the \"index file\"\n",
    "        end_index = start_index + num_loops\n",
    "\n",
    "        # iterate through every row in DataFrame using indices created from file & arguments\n",
    "        for index, row in df.iloc[start_index:end_index].iterrows():\n",
    "            driver.get(starter_link)\n",
    "            title = row['Title']\n",
    "            author = row['Author']\n",
    "            \n",
    "            try:\n",
    "                # the main code\n",
    "                # wait for page to load and searching for search bar <tag> exists\n",
    "                WebDriverWait(driver, 10).until(EC.visibility_of_element_located((By.XPATH, '//*[@id=\"Header\"]/div[2]/div[2]/section/form/input[1]')))\n",
    "                \n",
    "                # saving search bar xpath <tag> to variable and using search function + clicking button\n",
    "                search_bar = driver.find_element_by_xpath('//*[@id=\"Header\"]/div[2]/div[2]/section/form/input[1]')\n",
    "                search_bar.send_keys(title + \" \" + author)\n",
    "                search_bar.submit()\n",
    "                \n",
    "                # wait for page to load and searching for book title <tag> exists\n",
    "                WebDriverWait(driver, 10).until(EC.visibility_of_element_located((By.CLASS_NAME, 'bookTitle')))\n",
    "                \n",
    "                # saving book title xpath <tag> to variable and extract a <tag>\n",
    "                links = driver.find_element_by_class_name('bookTitle')\n",
    "                \n",
    "                # saving href <tag> link to variable for appending DataFrame\n",
    "                row_value = links.get_attribute('href')\n",
    "                \n",
    "                # appending DataFrame with link\n",
    "                df.at[index, 'link'] = row_value\n",
    "                \n",
    "                # update the starting page to the current link added to list\n",
    "                starter_link = row_value\n",
    "                \n",
    "                # save link to text file as backup\n",
    "                file.write(f\"{row_value}\\n\")\n",
    "\n",
    "            except:\n",
    "                # if there is a problem loading page or there is no result after search bar, move on to next\n",
    "                continue\n",
    "\n",
    "            finally:\n",
    "                # if there is no problem in metadata extraction finally save current index in loop to file\n",
    "                # to save its place\n",
    "                with open(\"row_index.txt\", \"w\") as index_file:\n",
    "                    index_file.write(str(index))\n",
    "\n",
    "\n",
    "    driver.quit()\n",
    "    return df"
   ]
  },
  {
   "cell_type": "code",
   "execution_count": null,
   "id": "eb18ea37",
   "metadata": {},
   "outputs": [],
   "source": [
    "num_loops = 506\n",
    "df_with_links = get_bad_books_links(df, num_loops)"
   ]
  },
  {
   "cell_type": "code",
   "execution_count": null,
   "id": "ef806cb1",
   "metadata": {},
   "outputs": [],
   "source": []
  },
  {
   "cell_type": "code",
   "execution_count": null,
   "id": "09575a3b",
   "metadata": {},
   "outputs": [],
   "source": [
    "result_1_author = '/html/body/div[2]/div[3]/div[1]/div[2]/div[2]/table/tbody/tr[1]/td[2]/span[2]/div/a/span'\n",
    "result_2_author = '/html/body/div[2]/div[3]/div[1]/div[2]/div[2]/table/tbody/tr[2]/td[2]/span[2]/div/a/span'\n",
    "result_3_author = '/html/body/div[2]/div[3]/div[1]/div[2]/div[2]/table/tbody/tr[3]/td[2]/span[2]/div/a/span'\n",
    "result_4_author = '/html/body/div[2]/div[3]/div[1]/div[2]/div[2]/table/tbody/tr[4]/td[2]/span[2]/div/a/span'\n",
    "result_5_author = '/html/body/div[2]/div[3]/div[1]/div[2]/div[2]/table/tbody/tr[5]/td[2]/span[2]/div/a/span'\n",
    "result_1_link = '/html/body/div[2]/div[3]/div[1]/div[2]/div[2]/table/tbody/tr[1]/td[2]/a/span'\n",
    "result_2 = '/html/body/div[2]/div[3]/div[1]/div[2]/div[2]/table/tbody/tr[2]/td[2]/a/span'\n",
    "result_3 = '/html/body/div[2]/div[3]/div[1]/div[2]/div[2]/table/tbody/tr[3]/td[2]/a/span'\n",
    "result_4 = '/html/body/div[2]/div[3]/div[1]/div[2]/div[2]/table/tbody/tr[4]/td[2]/a/span'\n",
    "result_5 = '/html/body/div[2]/div[3]/div[1]/div[2]/div[2]/table/tbody/tr[5]/td[2]/a/span'"
   ]
  },
  {
   "cell_type": "code",
   "execution_count": 6,
   "id": "ea338a7c",
   "metadata": {},
   "outputs": [],
   "source": [
    "import pandas as pd\n",
    "import os\n",
    "import re\n",
    "import codecs\n",
    "import requests\n",
    "from bs4 import BeautifulSoup\n",
    "    \n",
    "from selenium import webdriver\n",
    "from selenium.webdriver.common.by import By\n",
    "from selenium.webdriver.support.ui import WebDriverWait\n",
    "from selenium.webdriver.support import expected_conditions as EC\n",
    "from selenium.webdriver.common.keys import Keys"
   ]
  },
  {
   "cell_type": "code",
   "execution_count": 7,
   "id": "ba7fea7a",
   "metadata": {},
   "outputs": [],
   "source": [
    "# initiate selenium browser\n",
    "driver = webdriver.Chrome()"
   ]
  },
  {
   "cell_type": "code",
   "execution_count": 4,
   "id": "132d0e44",
   "metadata": {},
   "outputs": [],
   "source": [
    "starter_link = 'https://www.goodreads.com/search?q=norman+doidge+the+brain+that+changes+itself&ref=nav_sb_noss_l_43'"
   ]
  },
  {
   "cell_type": "code",
   "execution_count": 8,
   "id": "b1889595",
   "metadata": {},
   "outputs": [],
   "source": [
    "# go to starter link on browser\n",
    "driver.get(starter_link)"
   ]
  },
  {
   "cell_type": "markdown",
   "id": "651e8522",
   "metadata": {},
   "source": [
    "# Links"
   ]
  },
  {
   "cell_type": "code",
   "execution_count": 58,
   "id": "1522b392",
   "metadata": {},
   "outputs": [],
   "source": [
    "search_result_links = driver.find_elements_by_class_name('bookTitle')"
   ]
  },
  {
   "cell_type": "code",
   "execution_count": 38,
   "id": "4b9ca79e",
   "metadata": {},
   "outputs": [
    {
     "name": "stdout",
     "output_type": "stream",
     "text": [
      "https://www.goodreads.com/book/show/44564350-summary-of-norman-doidge-s-the-brain-that-changes-itself-by-swift-reads?from_search=true&from_srp=true&qid=moUxaZXGYV&rank=1\n",
      "\n",
      "https://www.goodreads.com/book/show/60568411-summary-of-norman-doidge-s-book?from_search=true&from_srp=true&qid=moUxaZXGYV&rank=2\n",
      "\n",
      "https://www.goodreads.com/book/show/570172.The_Brain_that_Changes_Itself?from_search=true&from_srp=true&qid=moUxaZXGYV&rank=3\n",
      "\n",
      "https://www.goodreads.com/book/show/67356251-summary-of-the-brain-that-changes-itself?from_search=true&from_srp=true&qid=moUxaZXGYV&rank=4\n",
      "\n",
      "https://www.goodreads.com/book/show/56738924-summary-and-analysis-of-the-brain-that-changes-itself?from_search=true&from_srp=true&qid=moUxaZXGYV&rank=5\n",
      "\n"
     ]
    }
   ],
   "source": [
    "for i in range(5):\n",
    "    # href <tag> link for search result\n",
    "    print(search_result_links[i].get_attribute('href'))\n",
    "    print()"
   ]
  },
  {
   "cell_type": "markdown",
   "id": "afed41a3",
   "metadata": {},
   "source": [
    "# Author"
   ]
  },
  {
   "cell_type": "code",
   "execution_count": 42,
   "id": "eac40129",
   "metadata": {},
   "outputs": [],
   "source": [
    "author_1_tag = '/html/body/div[2]/div[3]/div[1]/div[2]/div[2]/table/tbody/tr[1]/td[2]/span[2]/div/a/span'"
   ]
  },
  {
   "cell_type": "code",
   "execution_count": 51,
   "id": "0ceed3e0",
   "metadata": {},
   "outputs": [],
   "source": [
    "author_2_tag = '/html/body/div[2]/div[3]/div[1]/div[2]/div[2]/table/tbody/tr[2]/td[2]/span[2]/div/a/span'"
   ]
  },
  {
   "cell_type": "code",
   "execution_count": 43,
   "id": "d7a434e0",
   "metadata": {},
   "outputs": [],
   "source": [
    "author_1 = driver.find_element_by_xpath(author_1_tag)"
   ]
  },
  {
   "cell_type": "code",
   "execution_count": 55,
   "id": "8fe9d954",
   "metadata": {},
   "outputs": [],
   "source": [
    "author_2 = driver.find_element_by_xpath(author_2_tag)"
   ]
  },
  {
   "cell_type": "code",
   "execution_count": 56,
   "id": "3977b32e",
   "metadata": {},
   "outputs": [
    {
     "name": "stdout",
     "output_type": "stream",
     "text": [
      "Good Summaries\n"
     ]
    }
   ],
   "source": [
    "print(author_2.text)"
   ]
  },
  {
   "cell_type": "code",
   "execution_count": null,
   "id": "5dd365a0",
   "metadata": {},
   "outputs": [],
   "source": [
    "loop_author_tag = f'/html/body/div[2]/div[3]/div[1]/div[2]/div[2]/table/tbody/tr[{i}/td[2]/span[2]/div/a/span'"
   ]
  },
  {
   "cell_type": "markdown",
   "id": "ec8c3d31",
   "metadata": {},
   "source": [
    "# Reviews"
   ]
  },
  {
   "cell_type": "code",
   "execution_count": null,
   "id": "76cf2e09",
   "metadata": {},
   "outputs": [],
   "source": [
    "def get_reviews(df, num_loops):\n",
    "    # if there was an issue with the loop function or the function was interrupted\n",
    "    # there should be a 'links.txt' file that exists\n",
    "    # to avoid any extra work, the function will continue from last link\n",
    "    # =================================\n",
    "    # opening links.txt to read from it\n",
    "    if os.path.exists(\"links.txt\"):\n",
    "        with open(\"links.txt\", \"r\") as file:\n",
    "            lines = file.readlines()\n",
    "            starter_link = lines[-1].strip()\n",
    "    else:\n",
    "        # if starting loop from scratch, this link is used as the first page\n",
    "        starter_link = \"https://www.goodreads.com/book/show/3450744-nudge\"\n",
    "    \n",
    "    # create a blank dataframe for keeping links\n",
    "    df['link'] = \"\"\n",
    "\n",
    "    # initiate selenium browser\n",
    "    #driver = webdriver.Chrome()\n",
    "    \n",
    "    # if there was an issue with the loop function or the function was interrupted\n",
    "    # there should be a 'row_index.txt' file that exists\n",
    "    # to avoid any extra work, the function will continue from last index\n",
    "    # ===============================\n",
    "    # opening link.txt to write to it\n",
    "    with open(\"links.txt\", \"a\") as file:\n",
    "        if os.path.exists(\"row_index.txt\"):\n",
    "            # reading index file\n",
    "            with open(\"row_index.txt\", \"r\") as index_file:\n",
    "                last_index = int(index_file.read().strip())\n",
    "                start_index = last_index + 1\n",
    "        else:\n",
    "            start_index = 0\n",
    "\n",
    "        # creating end_index with argument of num_loops and the \"index file\"\n",
    "        end_index = start_index + num_loops\n",
    "\n",
    "        # iterate through every row in DataFrame using indices created from file & arguments\n",
    "        for index, row in df.iloc[start_index:end_index].iterrows():\n",
    "            #driver.get(starter_link)\n",
    "            title = row['Title']\n",
    "            author = row['Author']\n",
    "            print(title)\n",
    "            print(author)\n",
    "        try:\n",
    "            # the main code\n",
    "            # wait for page to load and searching for search bar <tag> exists\n",
    "            WebDriverWait(driver, 10).until(EC.visibility_of_element_located((By.XPATH, '//*[@id=\"Header\"]/div[2]/div[2]/section/form/input[1]')))\n",
    "                \n",
    "            # saving search bar xpath <tag> to variable and using search function + clicking button\n",
    "            search_bar = driver.find_element_by_xpath('//*[@id=\"Header\"]/div[2]/div[2]/section/form/input[1]')\n",
    "            search_bar.send_keys(title + \" \" + author)\n",
    "            search_bar.submit()\n",
    "                \n",
    "            # wait for page to load and searching for book title <tag> exists\n",
    "            WebDriverWait(driver, 10).until(EC.visibility_of_element_located((By.CLASS_NAME, 'bookTitle')))\n",
    "                \n",
    "            # saving book title xpath <tag> to variable and extract a <tag>\n",
    "            links = driver.find_element_by_class_name('bookTitle')\n",
    "                \n",
    "            # saving href <tag> link to variable for appending DataFrame\n",
    "            row_value = links.get_attribute('href')\n",
    "                \n",
    "            # appending DataFrame with link\n",
    "            df.at[index, 'link'] = row_value\n",
    "                \n",
    "            # update the starting page to the current link added to list\n",
    "            starter_link = row_value\n",
    "                \n",
    "            # save link to text file as backup\n",
    "            file.write(f\"{row_value}\\n\")\n",
    "\n",
    "        except:\n",
    "            # if there is a problem loading page or there is no result after search bar, move on to next\n",
    "            continue\n",
    "\n",
    "        finally:\n",
    "            # if there is no problem in metadata extraction finally save current index in loop to file\n",
    "            # to save its place\n",
    "            #with open(\"row_index.txt\", \"w\") as index_file:\n",
    "                #index_file.write(str(index))\n",
    "                print(\"\\n writing index to file\")\n",
    "    #driver.quit()\n",
    "    return df"
   ]
  },
  {
   "cell_type": "code",
   "execution_count": 62,
   "id": "e18c5523",
   "metadata": {},
   "outputs": [],
   "source": [
    "summary_1_link = search_result_links[2].get_attribute('href')"
   ]
  },
  {
   "cell_type": "code",
   "execution_count": 64,
   "id": "b33c806f",
   "metadata": {},
   "outputs": [],
   "source": [
    "# go to starter link on browser\n",
    "driver.get(summary_1_link)"
   ]
  },
  {
   "cell_type": "code",
   "execution_count": 66,
   "id": "c04b5d2f",
   "metadata": {},
   "outputs": [],
   "source": [
    "review_1_show_more_button_tag = '/html/body/div[1]/div/main/div[1]/div[2]/div[3]/div/div[5]/div[2]/div[1]/article/section/section[2]/section/div/div[2]/div/button/span[1]'"
   ]
  },
  {
   "cell_type": "code",
   "execution_count": 67,
   "id": "4fe6d188",
   "metadata": {},
   "outputs": [],
   "source": [
    "review_1_show_more_button = driver.find_element_by_xpath(review_1_show_more_button_tag)"
   ]
  },
  {
   "cell_type": "code",
   "execution_count": 68,
   "id": "399ae94a",
   "metadata": {},
   "outputs": [],
   "source": [
    "review_1_show_more_button.click()"
   ]
  },
  {
   "cell_type": "code",
   "execution_count": 72,
   "id": "ed8f9f3a",
   "metadata": {},
   "outputs": [],
   "source": [
    "review_1_body_tag = '/html/body/div[1]/div/main/div[1]/div[2]/div[3]/div/div[5]/div[2]/div[1]/article/section/section[2]/section/div/div[1]/span'"
   ]
  },
  {
   "cell_type": "code",
   "execution_count": 73,
   "id": "0736ca5b",
   "metadata": {},
   "outputs": [],
   "source": [
    "review_1_body = driver.find_element_by_xpath(review_1_body_tag)"
   ]
  },
  {
   "cell_type": "code",
   "execution_count": 74,
   "id": "f2372527",
   "metadata": {},
   "outputs": [
    {
     "name": "stdout",
     "output_type": "stream",
     "text": [
      "When I saw this book initially I thought that I would have nothing but unequivocally good things to say about it. I am very fond of ‘brain’ books and prefer to believe that the mind is ‘plastic’ – that it can change itself or re-wire itself. I haven’t got much to pin this hope on. But hope is a good thing. However, in the end my response to this book has been much less black-and-white than I thought it would be.\n",
      "\n",
      "I’ve also just finished Fooled By Randomness. This has made me hypersensitive to any possibility that I might be getting fooled by any statistical aberrations. And, potentially, I saw statistical aberrations everywhere in this book. So much so that I was going to stop reading it and move onto something else a few times. But then he quoted an Indian doctor about the importance of individual case studies and I could see what he was doing.\n",
      "\n",
      "My concern with statistically valid results started when he was talking about internet pornography changing the structure of people’s brains to such an extent that they were existing on 2 – 3 hours sleep a night. Now, admittedly, I can’t remember the last time I talked to one of my male friends about how long they spend looking at internet porn – but this seemed quite excessive. The message was that internet porn is addictive, degenerative and destroys relationships.\n",
      "\n",
      "I worried that this sounded somewhat prudish. But prim or not, this wasn’t my main concern. I was more worried that these conclusions seemed to be based on the occasional bloke who strolled into this doctor’s waiting room. It seemed to me a bit of a jump to go from this group of self-selected ‘pornography addicts’ to saying that internet pornography is fundamentally changing our brains and of necessity making us desire violence as our ‘normal’ erotic stimulant of choice.\n",
      "\n",
      "The good bits of this book, though, were very good. There was a fascinating discussion on phantom hands and legs that amputees often have and how the often agonising pains in these phantom limbs are ‘cured’, quite literally, by magic. The discussion on how the centres in the brain that had once been devoted to the phantom limb and were then used by other parts of the body (sometimes with near catastrophic consequences) was truly fascinating. As was the discussion of the woman born with only the right side of her brain.\n",
      "\n",
      "The story of the woman at the start who was 'constantly falling' - a bit like Alice getting to Wonderland - was also another of those horror stories, I initially worried this book might end up. But also a fascinating story, all the same.\n",
      "\n",
      "There is a long and involved discussion of psychoanalysis that I again found rather hard to take. Case studies in psychoanalysis too often sound to me like remarkably simple-minded critiques of fairly badly written short stories written by a writer who has gone through the Women’s Weekly Dictionary of Literary Symbols to construct the storyline. Perhaps not ever cigar ends up being a penis, but every box seems to end up a coffin. I just find myself shaking my head reading this stuff and wishing it was all over.\n",
      "\n",
      "One of the things that Fooled By Randomness said in passing that caught my attention was that there is a difference between behavioural psychology and evolutionary psychology – but for his purposes these differences weren’t very important. I’m not really much of one for psychology. It tends to be a subject people who have studied philosophy look down on rather unfairly. But this book stands quite opposed to – say – Steven Pinker’s various books on how our minds are made and work. Pinker is one of Noam Chomsky’s followers – at least in linguistics and in his oft repeated idea that we are not born with a mind that is a blank slate.\n",
      "\n",
      "I’ve said this before, and am going to say it again now; people often ask how Chomsky’s politics and linguistics fit together and to me they don’t fit at all. I would expect that someone with strong left-wing ideas would tend towards a belief that the oppressive structures that exist in society are able to be changed. This would seem to be undermined by ideas that – with Kant – say that many of our ‘faculties’ are innate or (in more up-to-date language) are genetically pre-programmed. But this does seem to be what Chomsky’s Linguistics implies – that we have evolved linguistic structures in the brain that allow the rapid and ‘effortless’ learning of language.\n",
      "\n",
      "This book quotes Edelman’s work – I once started his Bright Light, Brilliant Fire but found it remarkably hard going. Edelman had a Darwinian view of how the brain developed – a view I once heard Chomsky criticise. I didn’t understand why Chomsky was quite so worked up about it at the time, but after finishing this I’ve a better idea. One of the key ideas for Edelman is that the brain must be very plastic – because very, very many neurons die and they do so quite at random. So, evolution can’t rely on precise circuits being laid down by our genes alone. Rather, brains are plastic enough so that they can learn from their environment and then respond to that. But this is the point that both Pinker and Chomsky seem determined to criticise if not refute.\n",
      "\n",
      "There are many aspects of Pinker’s ideas that I particularly like. There are also many parts of this work that I find simple-minded and annoying. But, if you were to draw a line with Pinker on one end and this guy on the other, where would I put my cross? Closer to Pinker? I really couldn’t say.\n",
      "\n",
      "All the same, even if this guy is completely wrong, and we really can’t change brain structures once they have been laid down, it is probably better to believe he is right. His near constant message is, if you don’t use it you will lose it. He repeatedly points to experiments in which well exercised brains prove to be heavier and their neurons prove to be richer in interconnections – you can literally think yourself smarter. He claims using your brain and continuously learning is one of the best ways to avoid Alzheimer’s Disease – and I do think that is probably one disease well worth avoiding.\n",
      "\n",
      "So, would I recommend this book? It is hard to say. I wouldn’t say I learnt nothing from it – but there were things about it that annoyed me. As I said, when it was good, it was very, very good. It is just that there was this curl, right in the middle of its forehead and that was the problem.\n"
     ]
    }
   ],
   "source": [
    "print(review_1_body.text)"
   ]
  },
  {
   "cell_type": "markdown",
   "id": "8648ee9d",
   "metadata": {},
   "source": [
    "# Year & Publisher Element"
   ]
  },
  {
   "cell_type": "code",
   "execution_count": 79,
   "id": "27bb78bc",
   "metadata": {},
   "outputs": [],
   "source": [
    "publisher_link_1 = 'https://www.goodreads.com/book/show/3860977-how-we-decide'"
   ]
  },
  {
   "cell_type": "code",
   "execution_count": 80,
   "id": "c922798e",
   "metadata": {},
   "outputs": [],
   "source": [
    "# go to publisher test link on browser\n",
    "driver.get(publisher_link_1)"
   ]
  },
  {
   "cell_type": "code",
   "execution_count": 81,
   "id": "ab3b76f9",
   "metadata": {},
   "outputs": [],
   "source": [
    "book_details_editions_show_more_button_tag = '//*[@id=\"__next\"]/div/main/div[1]/div[2]/div[1]/div[2]/div[6]/div/div/button/span[1]'"
   ]
  },
  {
   "cell_type": "code",
   "execution_count": 82,
   "id": "6764c2a3",
   "metadata": {},
   "outputs": [],
   "source": [
    "book_details_editions_show_more_button = driver.find_element_by_xpath(book_details_editions_show_more_button_tag)"
   ]
  },
  {
   "cell_type": "code",
   "execution_count": 83,
   "id": "7ae36f3e",
   "metadata": {},
   "outputs": [],
   "source": [
    "book_details_editions_show_more_button.click()"
   ]
  },
  {
   "cell_type": "code",
   "execution_count": 84,
   "id": "2b851f74",
   "metadata": {},
   "outputs": [],
   "source": [
    "year_published_and_publisher_tag = '//*[@id=\"__next\"]/div/main/div[1]/div[2]/div[1]/div[2]/div[6]/div/span[2]/div[1]/span/div/dl/div[2]/dd/div/div[1]'"
   ]
  },
  {
   "cell_type": "code",
   "execution_count": 85,
   "id": "36878c03",
   "metadata": {},
   "outputs": [],
   "source": [
    "year_published_and_publisher = driver.find_element_by_xpath(year_published_and_publisher_tag)"
   ]
  },
  {
   "cell_type": "code",
   "execution_count": 87,
   "id": "a9b661ce",
   "metadata": {},
   "outputs": [
    {
     "name": "stdout",
     "output_type": "stream",
     "text": [
      "February 9, 2009 by Houghton Mifflin Company\n"
     ]
    }
   ],
   "source": [
    "print(year_published_and_publisher.text)"
   ]
  },
  {
   "cell_type": "code",
   "execution_count": 113,
   "id": "f004c084",
   "metadata": {},
   "outputs": [
    {
     "ename": "WebDriverException",
     "evalue": "Message: disconnected: not connected to DevTools\n  (failed to check if window was closed: disconnected: not connected to DevTools)\n  (Session info: chrome=111.0.5563.64)\n",
     "output_type": "error",
     "traceback": [
      "\u001b[0;31m---------------------------------------------------------------------------\u001b[0m",
      "\u001b[0;31mWebDriverException\u001b[0m                        Traceback (most recent call last)",
      "Input \u001b[0;32mIn [113]\u001b[0m, in \u001b[0;36m<cell line: 5>\u001b[0;34m()\u001b[0m\n\u001b[1;32m      2\u001b[0m publisher_link_1 \u001b[38;5;241m=\u001b[39m \u001b[38;5;124m'\u001b[39m\u001b[38;5;124mhttps://www.goodreads.com/book/show/3860977-how-we-decide\u001b[39m\u001b[38;5;124m'\u001b[39m\n\u001b[1;32m      4\u001b[0m \u001b[38;5;66;03m# go to publisher test link on browser\u001b[39;00m\n\u001b[0;32m----> 5\u001b[0m \u001b[43mdriver\u001b[49m\u001b[38;5;241;43m.\u001b[39;49m\u001b[43mget\u001b[49m\u001b[43m(\u001b[49m\u001b[43mpublisher_link_1\u001b[49m\u001b[43m)\u001b[49m\n\u001b[1;32m      7\u001b[0m \u001b[38;5;66;03m# saving xpath tag for button element to a variable\u001b[39;00m\n\u001b[1;32m      8\u001b[0m book_details_editions_show_more_button_tag \u001b[38;5;241m=\u001b[39m \u001b[38;5;124m'\u001b[39m\u001b[38;5;124m//*[@id=\u001b[39m\u001b[38;5;124m\"\u001b[39m\u001b[38;5;124m__next\u001b[39m\u001b[38;5;124m\"\u001b[39m\u001b[38;5;124m]/div/main/div[1]/div[2]/div[1]/div[2]/div[6]/div/div/button/span[1]\u001b[39m\u001b[38;5;124m'\u001b[39m\n",
      "File \u001b[0;32m/opt/homebrew/anaconda3/lib/python3.9/site-packages/selenium/webdriver/remote/webdriver.py:333\u001b[0m, in \u001b[0;36mWebDriver.get\u001b[0;34m(self, url)\u001b[0m\n\u001b[1;32m    329\u001b[0m \u001b[38;5;28;01mdef\u001b[39;00m \u001b[38;5;21mget\u001b[39m(\u001b[38;5;28mself\u001b[39m, url):\n\u001b[1;32m    330\u001b[0m     \u001b[38;5;124;03m\"\"\"\u001b[39;00m\n\u001b[1;32m    331\u001b[0m \u001b[38;5;124;03m    Loads a web page in the current browser session.\u001b[39;00m\n\u001b[1;32m    332\u001b[0m \u001b[38;5;124;03m    \"\"\"\u001b[39;00m\n\u001b[0;32m--> 333\u001b[0m     \u001b[38;5;28;43mself\u001b[39;49m\u001b[38;5;241;43m.\u001b[39;49m\u001b[43mexecute\u001b[49m\u001b[43m(\u001b[49m\u001b[43mCommand\u001b[49m\u001b[38;5;241;43m.\u001b[39;49m\u001b[43mGET\u001b[49m\u001b[43m,\u001b[49m\u001b[43m \u001b[49m\u001b[43m{\u001b[49m\u001b[38;5;124;43m'\u001b[39;49m\u001b[38;5;124;43murl\u001b[39;49m\u001b[38;5;124;43m'\u001b[39;49m\u001b[43m:\u001b[49m\u001b[43m \u001b[49m\u001b[43murl\u001b[49m\u001b[43m}\u001b[49m\u001b[43m)\u001b[49m\n",
      "File \u001b[0;32m/opt/homebrew/anaconda3/lib/python3.9/site-packages/selenium/webdriver/remote/webdriver.py:321\u001b[0m, in \u001b[0;36mWebDriver.execute\u001b[0;34m(self, driver_command, params)\u001b[0m\n\u001b[1;32m    319\u001b[0m response \u001b[38;5;241m=\u001b[39m \u001b[38;5;28mself\u001b[39m\u001b[38;5;241m.\u001b[39mcommand_executor\u001b[38;5;241m.\u001b[39mexecute(driver_command, params)\n\u001b[1;32m    320\u001b[0m \u001b[38;5;28;01mif\u001b[39;00m response:\n\u001b[0;32m--> 321\u001b[0m     \u001b[38;5;28;43mself\u001b[39;49m\u001b[38;5;241;43m.\u001b[39;49m\u001b[43merror_handler\u001b[49m\u001b[38;5;241;43m.\u001b[39;49m\u001b[43mcheck_response\u001b[49m\u001b[43m(\u001b[49m\u001b[43mresponse\u001b[49m\u001b[43m)\u001b[49m\n\u001b[1;32m    322\u001b[0m     response[\u001b[38;5;124m'\u001b[39m\u001b[38;5;124mvalue\u001b[39m\u001b[38;5;124m'\u001b[39m] \u001b[38;5;241m=\u001b[39m \u001b[38;5;28mself\u001b[39m\u001b[38;5;241m.\u001b[39m_unwrap_value(\n\u001b[1;32m    323\u001b[0m         response\u001b[38;5;241m.\u001b[39mget(\u001b[38;5;124m'\u001b[39m\u001b[38;5;124mvalue\u001b[39m\u001b[38;5;124m'\u001b[39m, \u001b[38;5;28;01mNone\u001b[39;00m))\n\u001b[1;32m    324\u001b[0m     \u001b[38;5;28;01mreturn\u001b[39;00m response\n",
      "File \u001b[0;32m/opt/homebrew/anaconda3/lib/python3.9/site-packages/selenium/webdriver/remote/errorhandler.py:242\u001b[0m, in \u001b[0;36mErrorHandler.check_response\u001b[0;34m(self, response)\u001b[0m\n\u001b[1;32m    240\u001b[0m         alert_text \u001b[38;5;241m=\u001b[39m value[\u001b[38;5;124m'\u001b[39m\u001b[38;5;124malert\u001b[39m\u001b[38;5;124m'\u001b[39m]\u001b[38;5;241m.\u001b[39mget(\u001b[38;5;124m'\u001b[39m\u001b[38;5;124mtext\u001b[39m\u001b[38;5;124m'\u001b[39m)\n\u001b[1;32m    241\u001b[0m     \u001b[38;5;28;01mraise\u001b[39;00m exception_class(message, screen, stacktrace, alert_text)\n\u001b[0;32m--> 242\u001b[0m \u001b[38;5;28;01mraise\u001b[39;00m exception_class(message, screen, stacktrace)\n",
      "\u001b[0;31mWebDriverException\u001b[0m: Message: disconnected: not connected to DevTools\n  (failed to check if window was closed: disconnected: not connected to DevTools)\n  (Session info: chrome=111.0.5563.64)\n"
     ]
    }
   ],
   "source": [
    "# saving link to variable to use with web driver\n",
    "publisher_link_1 = 'https://www.goodreads.com/book/show/3860977-how-we-decide'\n",
    "\n",
    "# go to publisher test link on browser\n",
    "driver.get(publisher_link_1)\n",
    "\n",
    "# saving xpath tag for button element to a variable\n",
    "book_details_editions_show_more_button_tag = '//*[@id=\"__next\"]/div/main/div[1]/div[2]/div[1]/div[2]/div[6]/div/div/button/span[1]'\n",
    "\n",
    "# extracting button element using xpath variable\n",
    "book_details_editions_show_more_button = driver.find_element_by_xpath(book_details_editions_show_more_button_tag)\n",
    "\n",
    "# clicking on element to expose hidden book metadata\n",
    "book_details_editions_show_more_button.click()\n",
    "\n",
    "# saving xpath tag for exposed book metadata element to a variable\n",
    "year_published_and_publisher_tag = '//*[@id=\"__next\"]/div/main/div[1]/div[2]/div[1]/div[2]/div[6]/div/span[2]/div[1]/span/div/dl/div[2]/dd/div/div[1]'\n",
    "\n",
    "# extracting book metadata element\n",
    "year_published_and_publisher = driver.find_element_by_xpath(year_published_and_publisher_tag)\n",
    "\n",
    "# printing text from book metadata element\n",
    "print(year_published_and_publisher.text)"
   ]
  },
  {
   "cell_type": "markdown",
   "id": "5721edb4",
   "metadata": {},
   "source": [
    "# Publisher (REGEX)"
   ]
  },
  {
   "cell_type": "code",
   "execution_count": 90,
   "id": "75fc2396",
   "metadata": {},
   "outputs": [],
   "source": [
    "import re"
   ]
  },
  {
   "cell_type": "code",
   "execution_count": 93,
   "id": "4e7d8988",
   "metadata": {},
   "outputs": [],
   "source": [
    "publisher_info = year_published_and_publisher.text"
   ]
  },
  {
   "cell_type": "code",
   "execution_count": 98,
   "id": "76cacc3f",
   "metadata": {},
   "outputs": [
    {
     "name": "stdout",
     "output_type": "stream",
     "text": [
      "February 9, 2009 by Houghton Mifflin Company\n"
     ]
    }
   ],
   "source": [
    "print(publisher_info)"
   ]
  },
  {
   "cell_type": "code",
   "execution_count": 109,
   "id": "db1bcf04",
   "metadata": {},
   "outputs": [],
   "source": [
    "test = re.search(r'by\\s+(.*)$', publisher_info)"
   ]
  },
  {
   "cell_type": "code",
   "execution_count": 110,
   "id": "77b78ad8",
   "metadata": {},
   "outputs": [
    {
     "name": "stdout",
     "output_type": "stream",
     "text": [
      "Houghton Mifflin Company\n"
     ]
    }
   ],
   "source": [
    "print(test[1])"
   ]
  },
  {
   "cell_type": "markdown",
   "id": "439536ec",
   "metadata": {},
   "source": [
    "# Year (REGEX)"
   ]
  },
  {
   "cell_type": "code",
   "execution_count": 114,
   "id": "ce981813",
   "metadata": {},
   "outputs": [],
   "source": [
    "# initiate selenium browser\n",
    "driver = webdriver.Chrome()"
   ]
  },
  {
   "cell_type": "code",
   "execution_count": 115,
   "id": "b7174729",
   "metadata": {},
   "outputs": [],
   "source": [
    "# saving link to variable to use with web driver\n",
    "publisher_link_1 = 'https://www.goodreads.com/book/show/3860977-how-we-decide'"
   ]
  },
  {
   "cell_type": "code",
   "execution_count": 117,
   "id": "cc07ffa6",
   "metadata": {},
   "outputs": [],
   "source": [
    "# go to starter link on browser\n",
    "driver.get(publisher_link_1)"
   ]
  },
  {
   "cell_type": "code",
   "execution_count": 118,
   "id": "a5d30f50",
   "metadata": {},
   "outputs": [
    {
     "name": "stdout",
     "output_type": "stream",
     "text": [
      "February 9, 2009 by Houghton Mifflin Company\n"
     ]
    }
   ],
   "source": [
    "# saving xpath tag for button element to a variable\n",
    "book_details_editions_show_more_button_tag = '//*[@id=\"__next\"]/div/main/div[1]/div[2]/div[1]/div[2]/div[6]/div/div/button/span[1]'\n",
    "\n",
    "# extracting button element using xpath variable\n",
    "book_details_editions_show_more_button = driver.find_element_by_xpath(book_details_editions_show_more_button_tag)\n",
    "\n",
    "# clicking on element to expose hidden book metadata\n",
    "book_details_editions_show_more_button.click()\n",
    "\n",
    "# saving xpath tag for exposed book metadata element to a variable\n",
    "year_published_and_publisher_tag = '//*[@id=\"__next\"]/div/main/div[1]/div[2]/div[1]/div[2]/div[6]/div/span[2]/div[1]/span/div/dl/div[2]/dd/div/div[1]'\n",
    "\n",
    "# extracting book metadata element\n",
    "year_published_and_publisher = driver.find_element_by_xpath(year_published_and_publisher_tag)\n",
    "\n",
    "# printing text from book metadata element\n",
    "print(year_published_and_publisher.text)"
   ]
  },
  {
   "cell_type": "code",
   "execution_count": 119,
   "id": "a22871d3",
   "metadata": {},
   "outputs": [],
   "source": [
    "year_and_publisher_info = year_published_and_publisher.text"
   ]
  },
  {
   "cell_type": "code",
   "execution_count": 120,
   "id": "93705aca",
   "metadata": {},
   "outputs": [
    {
     "data": {
      "text/plain": [
       "'February 9, 2009 by Houghton Mifflin Company'"
      ]
     },
     "execution_count": 120,
     "metadata": {},
     "output_type": "execute_result"
    }
   ],
   "source": [
    "year_and_publisher_info"
   ]
  },
  {
   "cell_type": "code",
   "execution_count": 126,
   "id": "cbb23f90",
   "metadata": {},
   "outputs": [],
   "source": [
    "year = re.findall(r'\\d{4}', year_and_publisher_info)[0]"
   ]
  },
  {
   "cell_type": "code",
   "execution_count": 127,
   "id": "d65adb2a",
   "metadata": {},
   "outputs": [
    {
     "name": "stdout",
     "output_type": "stream",
     "text": [
      "2009\n"
     ]
    }
   ],
   "source": [
    "print(year)"
   ]
  }
 ],
 "metadata": {
  "kernelspec": {
   "display_name": "Python 3 (ipykernel)",
   "language": "python",
   "name": "python3"
  },
  "language_info": {
   "codemirror_mode": {
    "name": "ipython",
    "version": 3
   },
   "file_extension": ".py",
   "mimetype": "text/x-python",
   "name": "python",
   "nbconvert_exporter": "python",
   "pygments_lexer": "ipython3",
   "version": "3.9.13"
  }
 },
 "nbformat": 4,
 "nbformat_minor": 5
}
