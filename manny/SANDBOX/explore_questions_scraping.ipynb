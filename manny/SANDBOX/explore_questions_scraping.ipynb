{
 "cells": [
  {
   "cell_type": "code",
   "execution_count": 1,
   "id": "9a268ead",
   "metadata": {},
   "outputs": [],
   "source": [
    "import pandas as pd\n",
    "import prepare\n",
    "import explore\n",
    "import matplotlib.pyplot as plt"
   ]
  },
  {
   "cell_type": "code",
   "execution_count": 50,
   "id": "ed9c59d8",
   "metadata": {},
   "outputs": [],
   "source": [
    "import pandas as pd\n",
    "import numpy as np\n",
    "import matplotlib.pyplot as plt\n",
    "import seaborn as sns\n",
    "\n",
    "from sklearn.model_selection import train_test_split\n",
    "import sklearn.model_selection\n",
    "\n",
    "import nltk\n",
    "from nltk.tokenize.toktok import ToktokTokenizer\n",
    "from nltk.corpus import stopwords\n",
    "from nltk.tokenize import word_tokenize\n",
    "\n",
    "import scipy.stats as stats\n",
    "from scipy.stats import norm, binom, pearsonr\n",
    "from collections import Counter"
   ]
  },
  {
   "cell_type": "code",
   "execution_count": 2,
   "id": "e8ec5594",
   "metadata": {},
   "outputs": [],
   "source": [
    "df = prepare.get_data('all_books.csv')"
   ]
  },
  {
   "cell_type": "code",
   "execution_count": 3,
   "id": "eb0b0a7d",
   "metadata": {},
   "outputs": [],
   "source": [
    "prepare.clean_article(df, 'title')\n",
    "prepare.clean_article(df, 'summary')"
   ]
  },
  {
   "cell_type": "code",
   "execution_count": 4,
   "id": "590a72dd",
   "metadata": {},
   "outputs": [],
   "source": [
    "df1 = pd.read_csv('books_feat_on_NYBS.csv', index_col=0)\n",
    "prepare.clean_article(df1, 'Book')\n",
    "ser = df1['cleaned_Book']\n",
    "prepare.creat_tar(df, ser)\n",
    "df['lemmatized_summary'] = df['cleaned_summary'].apply(prepare.lemmatize_text)\n",
    "df[['neg', 'neutral', 'pos', 'compound']] = df['summary'].apply(prepare.feat_sent)\n",
    "df['sentiment'] = df['compound'].apply(prepare.get_sentiment)"
   ]
  },
  {
   "cell_type": "code",
   "execution_count": 5,
   "id": "33b136ff",
   "metadata": {},
   "outputs": [],
   "source": [
    "train,test = explore.split(df,'successful')"
   ]
  },
  {
   "cell_type": "code",
   "execution_count": 48,
   "id": "5f6df240",
   "metadata": {},
   "outputs": [],
   "source": [
    "def get_most_common_negative_ngrams(train, n, top_n):\n",
    "    '''\n",
    "        Returns a Pandas DataFrame with the most common n-grams for negative reviews in the given train dataset.\n",
    "    \n",
    "        Params:\n",
    "        --------\n",
    "            train (Pandas DataFrame): \n",
    "                The dataset to extract the negative reviews from.\n",
    "            n (int): \n",
    "                The n-gram size to extract (1 for unigrams, 2 for bigrams, 3 for trigrams).\n",
    "            top_n (int): \n",
    "                The number of rows to return with the most common n-grams.\n",
    "\n",
    "        Returns:\n",
    "        --------\n",
    "            A Pandas DataFrame with two columns: \n",
    "                the n-gram words and their frequency count. \n",
    "                \n",
    "            The DataFrame has a total of top_n rows, which are the most \n",
    "            common n-grams in the negative reviews. The name of the columns depend on the\n",
    "            n-gram size.\n",
    "\n",
    "    '''\n",
    "    # Subset df split of train into only negative values of 'sentiment' column\n",
    "    df_neg = train[train['sentiment'].isin(['negative', 'very negative'])]\n",
    "    \n",
    "    # Tokenize words\n",
    "    words = df_neg['cleaned_summary'].str.lower().str.cat(sep=' ').split()\n",
    "\n",
    "    # Create a list of additional stopwords\n",
    "    additional_stopwords = ['.']\n",
    "\n",
    "    # Add the additional stopwords to the default set of stopwords\n",
    "    stop_words = set(stopwords.words('english') + additional_stopwords)\n",
    "\n",
    "    # Remove stopwords\n",
    "    words = [word for word in words if word not in stop_words]\n",
    "    \n",
    "    # Get frequency distribution of ngrams\n",
    "    if n == 1:\n",
    "        freq_dist = nltk.FreqDist(words)\n",
    "        most_common = freq_dist.most_common(top_n)\n",
    "        df_common = pd.DataFrame(most_common, columns=['Words', 'Frequency'])\n",
    "    elif n == 2:\n",
    "        freq_dist_bigram = nltk.FreqDist(nltk.bigrams(words))\n",
    "        most_common = freq_dist_bigram.most_common(top_n)\n",
    "        df_common = pd.DataFrame(most_common, columns=['Bigrams', 'Frequency'])\n",
    "    elif n == 3:\n",
    "        freq_dist_trigram = nltk.FreqDist(nltk.trigrams(words))\n",
    "        most_common = freq_dist_trigram.most_common(top_n)\n",
    "        df_common = pd.DataFrame(most_common, columns=['Trigrams', 'Frequency'])\n",
    "    else:\n",
    "        print('Invalid value for n')\n",
    "\n",
    "    return df_common"
   ]
  },
  {
   "cell_type": "code",
   "execution_count": 51,
   "id": "90ff1d81",
   "metadata": {},
   "outputs": [],
   "source": [
    "top_15_negative_words_df = get_most_common_negative_ngrams(train,1,15)\n",
    "top_15_negative_bigrams_df = get_most_common_negative_ngrams(train,2,15)\n",
    "top_15_negative_trigrams_df = get_most_common_negative_ngrams(train,3,15)"
   ]
  },
  {
   "cell_type": "code",
   "execution_count": 65,
   "id": "24d837b2",
   "metadata": {},
   "outputs": [
    {
     "name": "stdout",
     "output_type": "stream",
     "text": [
      "799\n",
      "617\n",
      "451\n",
      "394\n",
      "326\n",
      "297\n",
      "294\n",
      "272\n",
      "260\n",
      "247\n",
      "244\n",
      "242\n",
      "242\n",
      "241\n",
      "226\n"
     ]
    }
   ],
   "source": [
    "for i in top_15_negative_words_df['Frequency']:\n",
    "    print(i)"
   ]
  },
  {
   "cell_type": "code",
   "execution_count": 62,
   "id": "3fb130e0",
   "metadata": {},
   "outputs": [
    {
     "name": "stdout",
     "output_type": "stream",
     "text": [
      "one\n",
      "new\n",
      "life\n",
      "world\n",
      "story\n",
      "two\n",
      "must\n",
      "even\n",
      "first\n",
      "find\n",
      "never\n",
      "years\n",
      "war\n",
      "young\n",
      "family\n"
     ]
    }
   ],
   "source": [
    "for i in top_15_negative_words_df['Words']:\n",
    "    print(i)"
   ]
  },
  {
   "cell_type": "code",
   "execution_count": 67,
   "id": "85685fa6",
   "metadata": {},
   "outputs": [
    {
     "name": "stdout",
     "output_type": "stream",
     "text": [
      "165\n",
      "97\n",
      "77\n",
      "72\n",
      "51\n",
      "38\n",
      "35\n",
      "35\n",
      "33\n",
      "25\n",
      "25\n",
      "22\n",
      "22\n",
      "21\n",
      "21\n"
     ]
    }
   ],
   "source": [
    "for i in top_15_negative_bigrams_df['Frequency']:\n",
    "    print(i)"
   ]
  },
  {
   "cell_type": "code",
   "execution_count": 63,
   "id": "c6fce099",
   "metadata": {},
   "outputs": [
    {
     "name": "stdout",
     "output_type": "stream",
     "text": [
      "('new', 'york')\n",
      "('york', 'times')\n",
      "('bestselling', 'author')\n",
      "('times', 'bestselling')\n",
      "('world', 'war')\n",
      "('eve', 'dallas')\n",
      "('1', 'new')\n",
      "('cover', 'edition')\n",
      "('alternate', 'cover')\n",
      "('young', 'woman')\n",
      "('lieutenant', 'eve')\n",
      "('high', 'school')\n",
      "('one', 'thing')\n",
      "('new', 'york,')\n",
      "('small', 'town')\n"
     ]
    }
   ],
   "source": [
    "for i in top_15_negative_bigrams_df['Bigrams']:\n",
    "    print(i)"
   ]
  },
  {
   "cell_type": "code",
   "execution_count": 68,
   "id": "d774387e",
   "metadata": {},
   "outputs": [
    {
     "name": "stdout",
     "output_type": "stream",
     "text": [
      "95\n",
      "72\n",
      "47\n",
      "35\n",
      "24\n",
      "16\n",
      "15\n",
      "13\n",
      "13\n",
      "12\n",
      "11\n",
      "10\n",
      "9\n",
      "8\n",
      "7\n"
     ]
    }
   ],
   "source": [
    "for i in top_15_negative_trigrams_df['Frequency']:\n",
    "    print(i)"
   ]
  },
  {
   "cell_type": "code",
   "execution_count": 61,
   "id": "e82eff20",
   "metadata": {},
   "outputs": [
    {
     "name": "stdout",
     "output_type": "stream",
     "text": [
      "('new', 'york', 'times')\n",
      "('york', 'times', 'bestselling')\n",
      "('times', 'bestselling', 'author')\n",
      "('1', 'new', 'york')\n",
      "('alternate', 'cover', 'edition')\n",
      "('lieutenant', 'eve', 'dallas')\n",
      "('new', 'york', 'city')\n",
      "('note', 'alternate', 'cover')\n",
      "('world', 'war', 'ii')\n",
      "('cover', 'edition', 'isbn')\n",
      "('world', 'war', 'ii,')\n",
      "('cover', 'edition', 'found')\n",
      "(\"librarian's\", 'note', 'alternate')\n",
      "('tour', 'de', 'force')\n",
      "('new', 'york', 'city,')\n"
     ]
    }
   ],
   "source": [
    "for i in top_15_negative_trigrams_df['Trigrams']:\n",
    "    print(i)"
   ]
  },
  {
   "cell_type": "code",
   "execution_count": 6,
   "id": "24b74828",
   "metadata": {},
   "outputs": [
    {
     "data": {
      "image/png": "[encoded data removed]",
      "text/plain": [
       "<Figure size 1000x600 with 1 Axes>"
      ]
     },
     "metadata": {},
     "output_type": "display_data"
    },
    {
     "data": {
      "image/png": "[encoded data removed]",
      "text/plain": [
       "<Figure size 1000x600 with 1 Axes>"
      ]
     },
     "metadata": {},
     "output_type": "display_data"
    },
    {
     "data": {
      "image/png": "[encoded data removed]",
      "text/plain": [
       "<Figure size 1000x600 with 1 Axes>"
      ]
     },
     "metadata": {},
     "output_type": "display_data"
    }
   ],
   "source": [
    "explore.explore_question_2(train)"
   ]
  },
  {
   "cell_type": "code",
   "execution_count": 7,
   "id": "ec88bf66",
   "metadata": {},
   "outputs": [
    {
     "data": {
      "text/plain": [
       "False    2956\n",
       "True      128\n",
       "Name: successful, dtype: int64"
      ]
     },
     "execution_count": 7,
     "metadata": {},
     "output_type": "execute_result"
    }
   ],
   "source": [
    "train['successful'].value_counts()"
   ]
  },
  {
   "cell_type": "code",
   "execution_count": 8,
   "id": "8a45a23f",
   "metadata": {},
   "outputs": [
    {
     "data": {
      "text/plain": [
       "False    0.958495\n",
       "True     0.041505\n",
       "Name: successful, dtype: float64"
      ]
     },
     "execution_count": 8,
     "metadata": {},
     "output_type": "execute_result"
    }
   ],
   "source": [
    "train['successful'].value_counts(normalize=True)"
   ]
  },
  {
   "cell_type": "code",
   "execution_count": 9,
   "id": "99b7b01b",
   "metadata": {},
   "outputs": [
    {
     "data": {
      "text/plain": [
       "False    95.85%\n",
       "True      4.15%\n",
       "Name: successful, dtype: object"
      ]
     },
     "execution_count": 9,
     "metadata": {},
     "output_type": "execute_result"
    }
   ],
   "source": [
    "train['successful'].value_counts(normalize=True).apply(lambda x: \"{:.2%}\".format(x))"
   ]
  },
  {
   "cell_type": "code",
   "execution_count": 10,
   "id": "8bb145b5",
   "metadata": {},
   "outputs": [
    {
     "data": {
      "text/plain": [
       "very positive    0.496433\n",
       "very negative    0.333333\n",
       "positive         0.084306\n",
       "negative         0.079442\n",
       "neutral          0.006485\n",
       "Name: sentiment, dtype: float64"
      ]
     },
     "execution_count": 10,
     "metadata": {},
     "output_type": "execute_result"
    }
   ],
   "source": [
    "train['sentiment'].value_counts(normalize=True)"
   ]
  },
  {
   "cell_type": "code",
   "execution_count": 16,
   "id": "2ffdf6c4",
   "metadata": {},
   "outputs": [],
   "source": [
    "def sentiment_by_success_percent(train):\n",
    "    total_rows = len(train)\n",
    "    sentiment_counts = train['sentiment'].value_counts(normalize=True)\n",
    "\n",
    "    output = pd.DataFrame({'Sentiment': sentiment_counts.index, 'Proportion': sentiment_counts.values})\n",
    "    output['True'] = output['Proportion'] * total_rows\n",
    "\n",
    "    false_prop = (total_rows - output['True']) / (total_rows - 1)\n",
    "    output['False'] = false_prop\n",
    "\n",
    "    output['Proportion'] = output['Proportion'].apply(lambda x: \"{:.2%}\".format(x))\n",
    "    output['True'] = output['True'].apply(lambda x: \"{:.2%}\".format(x / total_rows))\n",
    "    output['False'] = output['False'].apply(lambda x: \"{:.2%}\".format(x))\n",
    "\n",
    "    output = output[['Sentiment', 'True', 'False']]\n",
    "    \n",
    "    return output"
   ]
  },
  {
   "cell_type": "markdown",
   "id": "0c87e184",
   "metadata": {},
   "source": [
    "# Testing Sentiment by Sucess as Count"
   ]
  },
  {
   "cell_type": "code",
   "execution_count": 30,
   "id": "3d038b7c",
   "metadata": {},
   "outputs": [],
   "source": [
    "total_rows = len(train)\n",
    "sentiment_counts = train['sentiment'].value_counts(normalize=True)"
   ]
  },
  {
   "cell_type": "code",
   "execution_count": 32,
   "id": "3cefdffb",
   "metadata": {},
   "outputs": [
    {
     "data": {
      "text/plain": [
       "3084"
      ]
     },
     "execution_count": 32,
     "metadata": {},
     "output_type": "execute_result"
    }
   ],
   "source": [
    "total_rows"
   ]
  },
  {
   "cell_type": "code",
   "execution_count": 31,
   "id": "b1c50983",
   "metadata": {},
   "outputs": [
    {
     "data": {
      "text/plain": [
       "very positive    0.496433\n",
       "very negative    0.333333\n",
       "positive         0.084306\n",
       "negative         0.079442\n",
       "neutral          0.006485\n",
       "Name: sentiment, dtype: float64"
      ]
     },
     "execution_count": 31,
     "metadata": {},
     "output_type": "execute_result"
    }
   ],
   "source": [
    "sentiment_counts"
   ]
  },
  {
   "cell_type": "code",
   "execution_count": 33,
   "id": "5e84ba9f",
   "metadata": {},
   "outputs": [
    {
     "data": {
      "text/html": [
       "<div>\n",
       "<style scoped>\n",
       "    .dataframe tbody tr th:only-of-type {\n",
       "        vertical-align: middle;\n",
       "    }\n",
       "\n",
       "    .dataframe tbody tr th {\n",
       "        vertical-align: top;\n",
       "    }\n",
       "\n",
       "    .dataframe thead th {\n",
       "        text-align: right;\n",
       "    }\n",
       "</style>\n",
       "<table border=\"1\" class=\"dataframe\">\n",
       "  <thead>\n",
       "    <tr style=\"text-align: right;\">\n",
       "      <th></th>\n",
       "      <th>Sentiment</th>\n",
       "      <th>Proportion</th>\n",
       "    </tr>\n",
       "  </thead>\n",
       "  <tbody>\n",
       "    <tr>\n",
       "      <th>0</th>\n",
       "      <td>very positive</td>\n",
       "      <td>0.496433</td>\n",
       "    </tr>\n",
       "    <tr>\n",
       "      <th>1</th>\n",
       "      <td>very negative</td>\n",
       "      <td>0.333333</td>\n",
       "    </tr>\n",
       "    <tr>\n",
       "      <th>2</th>\n",
       "      <td>positive</td>\n",
       "      <td>0.084306</td>\n",
       "    </tr>\n",
       "    <tr>\n",
       "      <th>3</th>\n",
       "      <td>negative</td>\n",
       "      <td>0.079442</td>\n",
       "    </tr>\n",
       "    <tr>\n",
       "      <th>4</th>\n",
       "      <td>neutral</td>\n",
       "      <td>0.006485</td>\n",
       "    </tr>\n",
       "  </tbody>\n",
       "</table>\n",
       "</div>"
      ],
      "text/plain": [
       "       Sentiment  Proportion\n",
       "0  very positive    0.496433\n",
       "1  very negative    0.333333\n",
       "2       positive    0.084306\n",
       "3       negative    0.079442\n",
       "4        neutral    0.006485"
      ]
     },
     "execution_count": 33,
     "metadata": {},
     "output_type": "execute_result"
    }
   ],
   "source": [
    "output = pd.DataFrame({'Sentiment': sentiment_counts.index, 'Proportion': sentiment_counts.values})\n",
    "output"
   ]
  },
  {
   "cell_type": "code",
   "execution_count": 34,
   "id": "0d82fb3f",
   "metadata": {},
   "outputs": [],
   "source": [
    "output['Total'] = output['Proportion'] * total_rows"
   ]
  },
  {
   "cell_type": "code",
   "execution_count": 35,
   "id": "2b2cac14",
   "metadata": {},
   "outputs": [
    {
     "data": {
      "text/html": [
       "<div>\n",
       "<style scoped>\n",
       "    .dataframe tbody tr th:only-of-type {\n",
       "        vertical-align: middle;\n",
       "    }\n",
       "\n",
       "    .dataframe tbody tr th {\n",
       "        vertical-align: top;\n",
       "    }\n",
       "\n",
       "    .dataframe thead th {\n",
       "        text-align: right;\n",
       "    }\n",
       "</style>\n",
       "<table border=\"1\" class=\"dataframe\">\n",
       "  <thead>\n",
       "    <tr style=\"text-align: right;\">\n",
       "      <th></th>\n",
       "      <th>Sentiment</th>\n",
       "      <th>Proportion</th>\n",
       "      <th>Total</th>\n",
       "    </tr>\n",
       "  </thead>\n",
       "  <tbody>\n",
       "    <tr>\n",
       "      <th>0</th>\n",
       "      <td>very positive</td>\n",
       "      <td>0.496433</td>\n",
       "      <td>1531.0</td>\n",
       "    </tr>\n",
       "    <tr>\n",
       "      <th>1</th>\n",
       "      <td>very negative</td>\n",
       "      <td>0.333333</td>\n",
       "      <td>1028.0</td>\n",
       "    </tr>\n",
       "    <tr>\n",
       "      <th>2</th>\n",
       "      <td>positive</td>\n",
       "      <td>0.084306</td>\n",
       "      <td>260.0</td>\n",
       "    </tr>\n",
       "    <tr>\n",
       "      <th>3</th>\n",
       "      <td>negative</td>\n",
       "      <td>0.079442</td>\n",
       "      <td>245.0</td>\n",
       "    </tr>\n",
       "    <tr>\n",
       "      <th>4</th>\n",
       "      <td>neutral</td>\n",
       "      <td>0.006485</td>\n",
       "      <td>20.0</td>\n",
       "    </tr>\n",
       "  </tbody>\n",
       "</table>\n",
       "</div>"
      ],
      "text/plain": [
       "       Sentiment  Proportion   Total\n",
       "0  very positive    0.496433  1531.0\n",
       "1  very negative    0.333333  1028.0\n",
       "2       positive    0.084306   260.0\n",
       "3       negative    0.079442   245.0\n",
       "4        neutral    0.006485    20.0"
      ]
     },
     "execution_count": 35,
     "metadata": {},
     "output_type": "execute_result"
    }
   ],
   "source": [
    "output"
   ]
  },
  {
   "cell_type": "code",
   "execution_count": 41,
   "id": "e0a0b551",
   "metadata": {},
   "outputs": [
    {
     "data": {
      "text/plain": [
       "3084"
      ]
     },
     "execution_count": 41,
     "metadata": {},
     "output_type": "execute_result"
    }
   ],
   "source": [
    "total_rows"
   ]
  },
  {
   "cell_type": "code",
   "execution_count": 40,
   "id": "d30e381e",
   "metadata": {},
   "outputs": [
    {
     "data": {
      "text/plain": [
       "0    1531.0\n",
       "1    1028.0\n",
       "2     260.0\n",
       "3     245.0\n",
       "4      20.0\n",
       "Name: Total, dtype: float64"
      ]
     },
     "execution_count": 40,
     "metadata": {},
     "output_type": "execute_result"
    }
   ],
   "source": [
    "output['Total']"
   ]
  },
  {
   "cell_type": "code",
   "execution_count": 42,
   "id": "208af1ac",
   "metadata": {},
   "outputs": [
    {
     "data": {
      "text/plain": [
       "0    1553.0\n",
       "1    2056.0\n",
       "2    2824.0\n",
       "3    2839.0\n",
       "4    3064.0\n",
       "Name: Total, dtype: float64"
      ]
     },
     "execution_count": 42,
     "metadata": {},
     "output_type": "execute_result"
    }
   ],
   "source": [
    "false_prop = ((total_rows - output['Total']) / (total_rows)) * total_rows\n",
    "false_prop"
   ]
  },
  {
   "cell_type": "code",
   "execution_count": null,
   "id": "d4fff3c1",
   "metadata": {},
   "outputs": [],
   "source": [
    "false_prop = (total_rows - output['Total']) / (total_rows - 1)\n",
    "output['False'] = false_prop"
   ]
  },
  {
   "cell_type": "code",
   "execution_count": null,
   "id": "278c2117",
   "metadata": {},
   "outputs": [],
   "source": [
    "def sentiment_by_success_interger(train):\n",
    "    total_rows = len(train)\n",
    "    sentiment_counts = train['sentiment'].value_counts(normalize=True)\n",
    "\n",
    "    output = pd.DataFrame({'Sentiment': sentiment_counts.index, 'Proportion': sentiment_counts.values})\n",
    "    output['True'] = output['Proportion'] * total_rows\n",
    "\n",
    "    false_prop = (total_rows - output['True']) / (total_rows - 1)\n",
    "    output['False'] = false_prop\n",
    "\n",
    "    output['Proportion'] = output['Proportion'].apply(lambda x: \"{:.2%}\".format(x))\n",
    "    output['True'] = output['True'].apply(lambda x: \"{:.2%}\".format(x / total_rows))\n",
    "    output['False'] = output['False'].apply(lambda x: \"{:.2%}\".format(x))\n",
    "\n",
    "    output = output[['Sentiment', 'True', 'False']]\n",
    "    \n",
    "    return output"
   ]
  },
  {
   "cell_type": "code",
   "execution_count": 19,
   "id": "701c52d6",
   "metadata": {},
   "outputs": [],
   "source": [
    "def sentiment_by_success_interger_visual(train):\n",
    "    df = sentiment_by_success_interger(train)\n",
    "    # create a pie chart\n",
    "    fig, ax = plt.subplots(figsize=(8, 8))\n",
    "    ax.pie(df['True'], labels=df['Sentiment'], autopct='%1.1f%%', startangle=90)\n",
    "    ax.set_title('Sentiment Analysis')\n",
    "    plt.show()"
   ]
  },
  {
   "cell_type": "code",
   "execution_count": 17,
   "id": "47d71960",
   "metadata": {
    "scrolled": true
   },
   "outputs": [],
   "source": [
    "sentiment_by_success_percent_df = sentiment_by_success_percent(train)"
   ]
  },
  {
   "cell_type": "code",
   "execution_count": 18,
   "id": "d93061f6",
   "metadata": {},
   "outputs": [
    {
     "data": {
      "text/html": [
       "<div>\n",
       "<style scoped>\n",
       "    .dataframe tbody tr th:only-of-type {\n",
       "        vertical-align: middle;\n",
       "    }\n",
       "\n",
       "    .dataframe tbody tr th {\n",
       "        vertical-align: top;\n",
       "    }\n",
       "\n",
       "    .dataframe thead th {\n",
       "        text-align: right;\n",
       "    }\n",
       "</style>\n",
       "<table border=\"1\" class=\"dataframe\">\n",
       "  <thead>\n",
       "    <tr style=\"text-align: right;\">\n",
       "      <th></th>\n",
       "      <th>Sentiment</th>\n",
       "      <th>True</th>\n",
       "      <th>False</th>\n",
       "    </tr>\n",
       "  </thead>\n",
       "  <tbody>\n",
       "    <tr>\n",
       "      <th>0</th>\n",
       "      <td>very positive</td>\n",
       "      <td>49.64%</td>\n",
       "      <td>50.37%</td>\n",
       "    </tr>\n",
       "    <tr>\n",
       "      <th>1</th>\n",
       "      <td>very negative</td>\n",
       "      <td>33.33%</td>\n",
       "      <td>66.69%</td>\n",
       "    </tr>\n",
       "    <tr>\n",
       "      <th>2</th>\n",
       "      <td>positive</td>\n",
       "      <td>8.43%</td>\n",
       "      <td>91.60%</td>\n",
       "    </tr>\n",
       "    <tr>\n",
       "      <th>3</th>\n",
       "      <td>negative</td>\n",
       "      <td>7.94%</td>\n",
       "      <td>92.09%</td>\n",
       "    </tr>\n",
       "    <tr>\n",
       "      <th>4</th>\n",
       "      <td>neutral</td>\n",
       "      <td>0.65%</td>\n",
       "      <td>99.38%</td>\n",
       "    </tr>\n",
       "  </tbody>\n",
       "</table>\n",
       "</div>"
      ],
      "text/plain": [
       "       Sentiment    True   False\n",
       "0  very positive  49.64%  50.37%\n",
       "1  very negative  33.33%  66.69%\n",
       "2       positive   8.43%  91.60%\n",
       "3       negative   7.94%  92.09%\n",
       "4        neutral   0.65%  99.38%"
      ]
     },
     "execution_count": 18,
     "metadata": {},
     "output_type": "execute_result"
    }
   ],
   "source": [
    "sentiment_by_success_percent_df"
   ]
  },
  {
   "cell_type": "code",
   "execution_count": 21,
   "id": "936f1fda",
   "metadata": {},
   "outputs": [],
   "source": [
    "sentiment_column_values = sentiment_by_success_percent_df[sentiment_by_success_percent_df.columns[0]]"
   ]
  },
  {
   "cell_type": "code",
   "execution_count": 22,
   "id": "28cfdc21",
   "metadata": {},
   "outputs": [
    {
     "name": "stdout",
     "output_type": "stream",
     "text": [
      "very positive\n",
      "very negative\n",
      "positive\n",
      "negative\n",
      "neutral\n"
     ]
    }
   ],
   "source": [
    "for i in sentiment_column_values:\n",
    "    print(i)"
   ]
  },
  {
   "cell_type": "code",
   "execution_count": 23,
   "id": "8319adef",
   "metadata": {},
   "outputs": [],
   "source": [
    "success_column_true_sentiment_values = sentiment_by_success_percent_df[sentiment_by_success_percent_df.columns[1]]"
   ]
  },
  {
   "cell_type": "code",
   "execution_count": 24,
   "id": "20d3308b",
   "metadata": {},
   "outputs": [
    {
     "data": {
      "text/plain": [
       "0    49.64%\n",
       "1    33.33%\n",
       "2     8.43%\n",
       "3     7.94%\n",
       "4     0.65%\n",
       "Name: True, dtype: object"
      ]
     },
     "execution_count": 24,
     "metadata": {},
     "output_type": "execute_result"
    }
   ],
   "source": [
    "success_column_true_sentiment_values"
   ]
  },
  {
   "cell_type": "code",
   "execution_count": 25,
   "id": "2508b16d",
   "metadata": {},
   "outputs": [],
   "source": [
    "success_column_false_sentiment_values = sentiment_by_success_percent_df[sentiment_by_success_percent_df.columns[2]]"
   ]
  },
  {
   "cell_type": "code",
   "execution_count": 26,
   "id": "236af373",
   "metadata": {},
   "outputs": [
    {
     "data": {
      "text/plain": [
       "0    50.37%\n",
       "1    66.69%\n",
       "2    91.60%\n",
       "3    92.09%\n",
       "4    99.38%\n",
       "Name: False, dtype: object"
      ]
     },
     "execution_count": 26,
     "metadata": {},
     "output_type": "execute_result"
    }
   ],
   "source": [
    "success_column_false_sentiment_values"
   ]
  },
  {
   "cell_type": "code",
   "execution_count": 27,
   "id": "40c591de",
   "metadata": {},
   "outputs": [
    {
     "name": "stdout",
     "output_type": "stream",
     "text": [
      "50.37%\n",
      "66.69%\n",
      "91.60%\n",
      "92.09%\n",
      "99.38%\n"
     ]
    }
   ],
   "source": [
    "for i in success_column_false_sentiment_values:\n",
    "    print(i)"
   ]
  },
  {
   "cell_type": "code",
   "execution_count": 28,
   "id": "f12bcac5",
   "metadata": {},
   "outputs": [
    {
     "name": "stdout",
     "output_type": "stream",
     "text": [
      "49.64%\n",
      "33.33%\n",
      "8.43%\n",
      "7.94%\n",
      "0.65%\n"
     ]
    }
   ],
   "source": [
    "for i in success_column_true_sentiment_values:\n",
    "    print(i)"
   ]
  },
  {
   "cell_type": "code",
   "execution_count": 44,
   "id": "702f0a4b",
   "metadata": {},
   "outputs": [
    {
     "data": {
      "text/plain": [
       "False    0.958495\n",
       "True     0.041505\n",
       "Name: successful, dtype: float64"
      ]
     },
     "execution_count": 44,
     "metadata": {},
     "output_type": "execute_result"
    }
   ],
   "source": [
    "sizes = train['successful'].value_counts(normalize=True)\n",
    "sizes"
   ]
  },
  {
   "cell_type": "code",
   "execution_count": 29,
   "id": "c8b3f3b4",
   "metadata": {},
   "outputs": [
    {
     "data": {
      "image/png": "[encoded data removed]",
      "text/plain": [
       "<Figure size 640x480 with 1 Axes>"
      ]
     },
     "metadata": {},
     "output_type": "display_data"
    }
   ],
   "source": [
    "# data\n",
    "sizes = train['successful'].value_counts(normalize=True)\n",
    "\n",
    "# colors\n",
    "colors = ['#ff9999','#66b3ff']\n",
    "\n",
    "# plot\n",
    "plt.pie(sizes, labels=sizes.index, colors=colors, autopct='%1.2f%%', startangle=90)\n",
    "\n",
    "# add circle at center to make it a donut chart\n",
    "circle = plt.Circle(xy=(0,0), radius=0.6, facecolor='white')\n",
    "plt.gca().add_artist(circle)\n",
    "\n",
    "# equal aspect ratio to make it a perfect circle\n",
    "plt.axis('equal')\n",
    "\n",
    "# title\n",
    "plt.title('Proportion of successful vs unsuccessful samples')\n",
    "\n",
    "# show plot\n",
    "plt.show()"
   ]
  }
 ],
 "metadata": {
  "kernelspec": {
   "display_name": "Python 3 (ipykernel)",
   "language": "python",
   "name": "python3"
  },
  "language_info": {
   "codemirror_mode": {
    "name": "ipython",
    "version": 3
   },
   "file_extension": ".py",
   "mimetype": "text/x-python",
   "name": "python",
   "nbconvert_exporter": "python",
   "pygments_lexer": "ipython3",
   "version": "3.9.13"
  }
 },
 "nbformat": 4,
 "nbformat_minor": 5
}
