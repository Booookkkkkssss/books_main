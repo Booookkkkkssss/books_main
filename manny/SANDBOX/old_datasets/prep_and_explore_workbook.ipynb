{
 "cells": [
  {
   "cell_type": "code",
   "execution_count": 1,
   "id": "f0935eac-fada-4ddd-bbb2-9520e4f50eca",
   "metadata": {},
   "outputs": [],
   "source": [
    "import pandas as pd\n",
    "import numpy as np\n",
    "import unicodedata\n",
    "import re\n",
    "\n",
    "from bs4 import BeautifulSoup\n",
    "import requests\n",
    "import os\n",
    "import json\n",
    "\n",
    "import os\n",
    "import unicodedata\n",
    "import re\n",
    "import json\n",
    "\n",
    "from sklearn.model_selection import train_test_split\n",
    "from sklearn.model_selection import cross_val_score\n",
    "import sklearn.model_selection\n",
    "\n",
    "import nltk\n",
    "from nltk.tokenize.toktok import ToktokTokenizer\n",
    "from nltk.corpus import stopwords\n",
    "from nltk.tokenize import word_tokenize\n",
    "\n",
    "import prepare as prep"
   ]
  },
  {
   "cell_type": "code",
   "execution_count": 2,
   "id": "adba164e-6df3-49b5-951f-be65ffb70960",
   "metadata": {
    "tags": []
   },
   "outputs": [],
   "source": [
    "df = prep.get_data('all_books.csv')"
   ]
  },
  {
   "cell_type": "code",
   "execution_count": 3,
   "id": "7977f44f-8b94-4f70-98e0-f50ea52623f4",
   "metadata": {},
   "outputs": [
    {
     "data": {
      "text/html": [
       "<div>\n",
       "<style scoped>\n",
       "    .dataframe tbody tr th:only-of-type {\n",
       "        vertical-align: middle;\n",
       "    }\n",
       "\n",
       "    .dataframe tbody tr th {\n",
       "        vertical-align: top;\n",
       "    }\n",
       "\n",
       "    .dataframe thead th {\n",
       "        text-align: right;\n",
       "    }\n",
       "</style>\n",
       "<table border=\"1\" class=\"dataframe\">\n",
       "  <thead>\n",
       "    <tr style=\"text-align: right;\">\n",
       "      <th></th>\n",
       "      <th>title</th>\n",
       "      <th>summary</th>\n",
       "      <th>year_published</th>\n",
       "      <th>author</th>\n",
       "      <th>review_count</th>\n",
       "      <th>number_of_ratings</th>\n",
       "      <th>length</th>\n",
       "      <th>genre</th>\n",
       "      <th>rating</th>\n",
       "      <th>reviews</th>\n",
       "    </tr>\n",
       "  </thead>\n",
       "  <tbody>\n",
       "    <tr>\n",
       "      <th>0</th>\n",
       "      <td>1491</td>\n",
       "      <td>In this groundbreaking work of science, histor...</td>\n",
       "      <td>back</td>\n",
       "      <td>Charles C. Mann</td>\n",
       "      <td>4581</td>\n",
       "      <td>81796</td>\n",
       "      <td>1492.0</td>\n",
       "      <td>History</td>\n",
       "      <td>4.04</td>\n",
       "      <td>NaN</td>\n",
       "    </tr>\n",
       "    <tr>\n",
       "      <th>1</th>\n",
       "      <td>1493</td>\n",
       "      <td>From the author of 1491—the best-selling study...</td>\n",
       "      <td>2011</td>\n",
       "      <td>Charles C. Mann</td>\n",
       "      <td>1603</td>\n",
       "      <td>18476</td>\n",
       "      <td>557.0</td>\n",
       "      <td>History</td>\n",
       "      <td>4.11</td>\n",
       "      <td>NaN</td>\n",
       "    </tr>\n",
       "    <tr>\n",
       "      <th>2</th>\n",
       "      <td>1776</td>\n",
       "      <td>In this masterful book, David McCullough tells...</td>\n",
       "      <td>2005</td>\n",
       "      <td>David McCullough</td>\n",
       "      <td>8098</td>\n",
       "      <td>219448</td>\n",
       "      <td>386.0</td>\n",
       "      <td>History</td>\n",
       "      <td>4.08</td>\n",
       "      <td>NaN</td>\n",
       "    </tr>\n",
       "  </tbody>\n",
       "</table>\n",
       "</div>"
      ],
      "text/plain": [
       "  title                                            summary year_published  \\\n",
       "0  1491  In this groundbreaking work of science, histor...           back   \n",
       "1  1493  From the author of 1491—the best-selling study...           2011   \n",
       "2  1776  In this masterful book, David McCullough tells...           2005   \n",
       "\n",
       "             author  review_count  number_of_ratings  length    genre  rating  \\\n",
       "0   Charles C. Mann          4581              81796  1492.0  History    4.04   \n",
       "1   Charles C. Mann          1603              18476   557.0  History    4.11   \n",
       "2  David McCullough          8098             219448   386.0  History    4.08   \n",
       "\n",
       "  reviews  \n",
       "0     NaN  \n",
       "1     NaN  \n",
       "2     NaN  "
      ]
     },
     "execution_count": 3,
     "metadata": {},
     "output_type": "execute_result"
    }
   ],
   "source": [
    "df.head(3)"
   ]
  },
  {
   "cell_type": "code",
   "execution_count": 4,
   "id": "f6c8d486-e64c-412b-b362-2cad6fcd5529",
   "metadata": {
    "tags": []
   },
   "outputs": [
    {
     "data": {
      "text/plain": [
       "title                   0\n",
       "summary                 0\n",
       "year_published          0\n",
       "author                  0\n",
       "review_count            0\n",
       "number_of_ratings       0\n",
       "length                  4\n",
       "genre                   0\n",
       "rating                  0\n",
       "reviews              2026\n",
       "dtype: int64"
      ]
     },
     "execution_count": 4,
     "metadata": {},
     "output_type": "execute_result"
    }
   ],
   "source": [
    "df.isna().sum()"
   ]
  },
  {
   "cell_type": "code",
   "execution_count": 5,
   "id": "6422baae-fed1-4ae2-a82e-d47223dc5b32",
   "metadata": {},
   "outputs": [],
   "source": [
    "prep.clean_article(df, 'title')"
   ]
  },
  {
   "cell_type": "code",
   "execution_count": 6,
   "id": "f9f53029-71bc-4c61-9ebe-70ec82b5e28a",
   "metadata": {
    "tags": []
   },
   "outputs": [],
   "source": [
    "prep.clean_article(df, 'summary')"
   ]
  },
  {
   "cell_type": "code",
   "execution_count": 7,
   "id": "3f4c25bf-e1a1-47aa-8962-0737d7337ce8",
   "metadata": {},
   "outputs": [],
   "source": [
    "df1 = pd.read_csv('books_feat_on_NYBS.csv', index_col=0)"
   ]
  },
  {
   "cell_type": "code",
   "execution_count": 8,
   "id": "07256e7f-9a3f-4854-a57a-f14f4f27e687",
   "metadata": {},
   "outputs": [],
   "source": [
    "prep.clean_article(df1, 'Book')"
   ]
  },
  {
   "cell_type": "code",
   "execution_count": 9,
   "id": "aa921f8d-8ab8-47b2-88db-204a8c810d1e",
   "metadata": {},
   "outputs": [],
   "source": [
    "ser = df1['cleaned_Book']"
   ]
  },
  {
   "cell_type": "code",
   "execution_count": 10,
   "id": "51d53837-7f93-408c-ac1b-8b7959e422fe",
   "metadata": {
    "tags": []
   },
   "outputs": [
    {
     "data": {
      "text/html": [
       "<div>\n",
       "<style scoped>\n",
       "    .dataframe tbody tr th:only-of-type {\n",
       "        vertical-align: middle;\n",
       "    }\n",
       "\n",
       "    .dataframe tbody tr th {\n",
       "        vertical-align: top;\n",
       "    }\n",
       "\n",
       "    .dataframe thead th {\n",
       "        text-align: right;\n",
       "    }\n",
       "</style>\n",
       "<table border=\"1\" class=\"dataframe\">\n",
       "  <thead>\n",
       "    <tr style=\"text-align: right;\">\n",
       "      <th></th>\n",
       "      <th>title</th>\n",
       "      <th>summary</th>\n",
       "      <th>year_published</th>\n",
       "      <th>author</th>\n",
       "      <th>review_count</th>\n",
       "      <th>number_of_ratings</th>\n",
       "      <th>length</th>\n",
       "      <th>genre</th>\n",
       "      <th>rating</th>\n",
       "      <th>reviews</th>\n",
       "      <th>cleaned_title</th>\n",
       "      <th>cleaned_summary</th>\n",
       "      <th>target</th>\n",
       "    </tr>\n",
       "  </thead>\n",
       "  <tbody>\n",
       "    <tr>\n",
       "      <th>0</th>\n",
       "      <td>1491</td>\n",
       "      <td>In this groundbreaking work of science, histor...</td>\n",
       "      <td>back</td>\n",
       "      <td>Charles C. Mann</td>\n",
       "      <td>4581</td>\n",
       "      <td>81796</td>\n",
       "      <td>1492.0</td>\n",
       "      <td>History</td>\n",
       "      <td>4.04</td>\n",
       "      <td>NaN</td>\n",
       "      <td>1491</td>\n",
       "      <td>in this groundbreaking work of science, histor...</td>\n",
       "      <td>unsuccessful</td>\n",
       "    </tr>\n",
       "    <tr>\n",
       "      <th>1</th>\n",
       "      <td>1493</td>\n",
       "      <td>From the author of 1491—the best-selling study...</td>\n",
       "      <td>2011</td>\n",
       "      <td>Charles C. Mann</td>\n",
       "      <td>1603</td>\n",
       "      <td>18476</td>\n",
       "      <td>557.0</td>\n",
       "      <td>History</td>\n",
       "      <td>4.11</td>\n",
       "      <td>NaN</td>\n",
       "      <td>1493</td>\n",
       "      <td>from the author of 1491the bestselling study o...</td>\n",
       "      <td>unsuccessful</td>\n",
       "    </tr>\n",
       "    <tr>\n",
       "      <th>2</th>\n",
       "      <td>1776</td>\n",
       "      <td>In this masterful book, David McCullough tells...</td>\n",
       "      <td>2005</td>\n",
       "      <td>David McCullough</td>\n",
       "      <td>8098</td>\n",
       "      <td>219448</td>\n",
       "      <td>386.0</td>\n",
       "      <td>History</td>\n",
       "      <td>4.08</td>\n",
       "      <td>NaN</td>\n",
       "      <td>1776</td>\n",
       "      <td>in this masterful book, david mccullough tells...</td>\n",
       "      <td>unsuccessful</td>\n",
       "    </tr>\n",
       "    <tr>\n",
       "      <th>3</th>\n",
       "      <td>2312</td>\n",
       "      <td>The year is 2312. Scientific and technological...</td>\n",
       "      <td>2012</td>\n",
       "      <td>Kim Stanley Robinson</td>\n",
       "      <td>2520</td>\n",
       "      <td>19150</td>\n",
       "      <td>561.0</td>\n",
       "      <td>Science Fiction</td>\n",
       "      <td>3.50</td>\n",
       "      <td>NaN</td>\n",
       "      <td>2312</td>\n",
       "      <td>the year is 2312. scientific and technological...</td>\n",
       "      <td>unsuccessful</td>\n",
       "    </tr>\n",
       "    <tr>\n",
       "      <th>4</th>\n",
       "      <td>2666</td>\n",
       "      <td>A cuatro profesores de literatura, Pelletier, ...</td>\n",
       "      <td>2004</td>\n",
       "      <td>Roberto Bolaño</td>\n",
       "      <td>4554</td>\n",
       "      <td>38750</td>\n",
       "      <td>1128.0</td>\n",
       "      <td>Fiction</td>\n",
       "      <td>4.19</td>\n",
       "      <td>NaN</td>\n",
       "      <td>2666</td>\n",
       "      <td>a cuatro profesores de literatura, pelletier, ...</td>\n",
       "      <td>unsuccessful</td>\n",
       "    </tr>\n",
       "    <tr>\n",
       "      <th>...</th>\n",
       "      <td>...</td>\n",
       "      <td>...</td>\n",
       "      <td>...</td>\n",
       "      <td>...</td>\n",
       "      <td>...</td>\n",
       "      <td>...</td>\n",
       "      <td>...</td>\n",
       "      <td>...</td>\n",
       "      <td>...</td>\n",
       "      <td>...</td>\n",
       "      <td>...</td>\n",
       "      <td>...</td>\n",
       "      <td>...</td>\n",
       "    </tr>\n",
       "    <tr>\n",
       "      <th>3805</th>\n",
       "      <td>Pierre: A Cautionary Tale in Five Chapters and...</td>\n",
       "      <td>A story with a moral air about Pierre, who lea...</td>\n",
       "      <td>1962</td>\n",
       "      <td>Maurice Sendak</td>\n",
       "      <td>259</td>\n",
       "      <td>9511</td>\n",
       "      <td>48.0</td>\n",
       "      <td>Picture Books</td>\n",
       "      <td>4.28</td>\n",
       "      <td>[]</td>\n",
       "      <td>pierre a cautionary tale in five chapters and ...</td>\n",
       "      <td>a story with a moral air about pierre, who lea...</td>\n",
       "      <td>unsuccessful</td>\n",
       "    </tr>\n",
       "    <tr>\n",
       "      <th>3806</th>\n",
       "      <td>Eleven on Top</td>\n",
       "      <td>Stephanie Plum is thinking her career as a fug...</td>\n",
       "      <td>back</td>\n",
       "      <td>Janet Evanovich</td>\n",
       "      <td>2245</td>\n",
       "      <td>106923</td>\n",
       "      <td>NaN</td>\n",
       "      <td>Mystery</td>\n",
       "      <td>4.16</td>\n",
       "      <td>NaN</td>\n",
       "      <td>eleven on top</td>\n",
       "      <td>stephanie plum is thinking her career as a fug...</td>\n",
       "      <td>best seller</td>\n",
       "    </tr>\n",
       "    <tr>\n",
       "      <th>3807</th>\n",
       "      <td>Nothing to Lose</td>\n",
       "      <td>Two lonely towns in Colorado: Hope and Despair...</td>\n",
       "      <td>and.</td>\n",
       "      <td>Lee Child</td>\n",
       "      <td>3012</td>\n",
       "      <td>63995</td>\n",
       "      <td>NaN</td>\n",
       "      <td>Thriller</td>\n",
       "      <td>3.93</td>\n",
       "      <td>NaN</td>\n",
       "      <td>nothing to lose</td>\n",
       "      <td>two lonely towns in colorado hope and despair....</td>\n",
       "      <td>best seller</td>\n",
       "    </tr>\n",
       "    <tr>\n",
       "      <th>3808</th>\n",
       "      <td>Reflected in You</td>\n",
       "      <td>Gideon Cross. As beautiful and flawless on the...</td>\n",
       "      <td>2012</td>\n",
       "      <td>Sylvia Day</td>\n",
       "      <td>11060</td>\n",
       "      <td>339738</td>\n",
       "      <td>NaN</td>\n",
       "      <td>Romance</td>\n",
       "      <td>4.31</td>\n",
       "      <td>[]</td>\n",
       "      <td>reflected in you</td>\n",
       "      <td>gideon cross. as beautiful and flawless on the...</td>\n",
       "      <td>best seller</td>\n",
       "    </tr>\n",
       "    <tr>\n",
       "      <th>3809</th>\n",
       "      <td>Winter of the World</td>\n",
       "      <td>Winter of the World picks up right where the f...</td>\n",
       "      <td>ity.</td>\n",
       "      <td>Ken Follett</td>\n",
       "      <td>8780</td>\n",
       "      <td>150655</td>\n",
       "      <td>NaN</td>\n",
       "      <td>Historical Fiction</td>\n",
       "      <td>4.36</td>\n",
       "      <td>NaN</td>\n",
       "      <td>winter of the world</td>\n",
       "      <td>winter of the world picks up right where the f...</td>\n",
       "      <td>best seller</td>\n",
       "    </tr>\n",
       "  </tbody>\n",
       "</table>\n",
       "<p>3810 rows × 13 columns</p>\n",
       "</div>"
      ],
      "text/plain": [
       "                                                  title  \\\n",
       "0                                                  1491   \n",
       "1                                                  1493   \n",
       "2                                                  1776   \n",
       "3                                                  2312   \n",
       "4                                                  2666   \n",
       "...                                                 ...   \n",
       "3805  Pierre: A Cautionary Tale in Five Chapters and...   \n",
       "3806                                      Eleven on Top   \n",
       "3807                                    Nothing to Lose   \n",
       "3808                                   Reflected in You   \n",
       "3809                                Winter of the World   \n",
       "\n",
       "                                                summary year_published  \\\n",
       "0     In this groundbreaking work of science, histor...           back   \n",
       "1     From the author of 1491—the best-selling study...           2011   \n",
       "2     In this masterful book, David McCullough tells...           2005   \n",
       "3     The year is 2312. Scientific and technological...           2012   \n",
       "4     A cuatro profesores de literatura, Pelletier, ...           2004   \n",
       "...                                                 ...            ...   \n",
       "3805  A story with a moral air about Pierre, who lea...           1962   \n",
       "3806  Stephanie Plum is thinking her career as a fug...           back   \n",
       "3807  Two lonely towns in Colorado: Hope and Despair...           and.   \n",
       "3808  Gideon Cross. As beautiful and flawless on the...           2012   \n",
       "3809  Winter of the World picks up right where the f...           ity.   \n",
       "\n",
       "                    author  review_count  number_of_ratings  length  \\\n",
       "0          Charles C. Mann          4581              81796  1492.0   \n",
       "1          Charles C. Mann          1603              18476   557.0   \n",
       "2         David McCullough          8098             219448   386.0   \n",
       "3     Kim Stanley Robinson          2520              19150   561.0   \n",
       "4           Roberto Bolaño          4554              38750  1128.0   \n",
       "...                    ...           ...                ...     ...   \n",
       "3805        Maurice Sendak           259               9511    48.0   \n",
       "3806       Janet Evanovich          2245             106923     NaN   \n",
       "3807             Lee Child          3012              63995     NaN   \n",
       "3808            Sylvia Day         11060             339738     NaN   \n",
       "3809           Ken Follett          8780             150655     NaN   \n",
       "\n",
       "                   genre  rating reviews  \\\n",
       "0                History    4.04     NaN   \n",
       "1                History    4.11     NaN   \n",
       "2                History    4.08     NaN   \n",
       "3        Science Fiction    3.50     NaN   \n",
       "4                Fiction    4.19     NaN   \n",
       "...                  ...     ...     ...   \n",
       "3805       Picture Books    4.28      []   \n",
       "3806             Mystery    4.16     NaN   \n",
       "3807            Thriller    3.93     NaN   \n",
       "3808             Romance    4.31      []   \n",
       "3809  Historical Fiction    4.36     NaN   \n",
       "\n",
       "                                          cleaned_title  \\\n",
       "0                                                  1491   \n",
       "1                                                  1493   \n",
       "2                                                  1776   \n",
       "3                                                  2312   \n",
       "4                                                  2666   \n",
       "...                                                 ...   \n",
       "3805  pierre a cautionary tale in five chapters and ...   \n",
       "3806                                      eleven on top   \n",
       "3807                                    nothing to lose   \n",
       "3808                                   reflected in you   \n",
       "3809                                winter of the world   \n",
       "\n",
       "                                        cleaned_summary        target  \n",
       "0     in this groundbreaking work of science, histor...  unsuccessful  \n",
       "1     from the author of 1491the bestselling study o...  unsuccessful  \n",
       "2     in this masterful book, david mccullough tells...  unsuccessful  \n",
       "3     the year is 2312. scientific and technological...  unsuccessful  \n",
       "4     a cuatro profesores de literatura, pelletier, ...  unsuccessful  \n",
       "...                                                 ...           ...  \n",
       "3805  a story with a moral air about pierre, who lea...  unsuccessful  \n",
       "3806  stephanie plum is thinking her career as a fug...   best seller  \n",
       "3807  two lonely towns in colorado hope and despair....   best seller  \n",
       "3808  gideon cross. as beautiful and flawless on the...   best seller  \n",
       "3809  winter of the world picks up right where the f...   best seller  \n",
       "\n",
       "[3810 rows x 13 columns]"
      ]
     },
     "execution_count": 10,
     "metadata": {},
     "output_type": "execute_result"
    }
   ],
   "source": [
    "prep.creat_tar(df, ser)"
   ]
  },
  {
   "cell_type": "code",
   "execution_count": 11,
   "id": "209e0b74",
   "metadata": {},
   "outputs": [],
   "source": [
    "#nltk.download('punkt')"
   ]
  },
  {
   "cell_type": "code",
   "execution_count": 12,
   "id": "9ed42a2f",
   "metadata": {},
   "outputs": [],
   "source": [
    "#nltk.download('averaged_perceptron_tagger')"
   ]
  },
  {
   "cell_type": "code",
   "execution_count": 13,
   "id": "93fa4d36-8337-4edc-87b4-4ae03e230032",
   "metadata": {},
   "outputs": [],
   "source": [
    "df['lemmatized_summary'] = df['cleaned_summary'].apply(prep.lemmatize_text)"
   ]
  },
  {
   "cell_type": "code",
   "execution_count": 14,
   "id": "0c35b590-a06d-4e70-b84d-bdfa8a6994bf",
   "metadata": {},
   "outputs": [],
   "source": [
    "df[['neg', 'neutral', 'pos', 'compound']] = df['summary'].apply(prep.feat_sent)"
   ]
  },
  {
   "cell_type": "code",
   "execution_count": 15,
   "id": "8c835721-e7cb-4d73-8610-8967c4544301",
   "metadata": {
    "tags": []
   },
   "outputs": [
    {
     "data": {
      "text/html": [
       "<div>\n",
       "<style scoped>\n",
       "    .dataframe tbody tr th:only-of-type {\n",
       "        vertical-align: middle;\n",
       "    }\n",
       "\n",
       "    .dataframe tbody tr th {\n",
       "        vertical-align: top;\n",
       "    }\n",
       "\n",
       "    .dataframe thead th {\n",
       "        text-align: right;\n",
       "    }\n",
       "</style>\n",
       "<table border=\"1\" class=\"dataframe\">\n",
       "  <thead>\n",
       "    <tr style=\"text-align: right;\">\n",
       "      <th></th>\n",
       "      <th>title</th>\n",
       "      <th>summary</th>\n",
       "      <th>year_published</th>\n",
       "      <th>author</th>\n",
       "      <th>review_count</th>\n",
       "      <th>number_of_ratings</th>\n",
       "      <th>length</th>\n",
       "      <th>genre</th>\n",
       "      <th>rating</th>\n",
       "      <th>reviews</th>\n",
       "      <th>cleaned_title</th>\n",
       "      <th>cleaned_summary</th>\n",
       "      <th>target</th>\n",
       "      <th>lemmatized_summary</th>\n",
       "      <th>neg</th>\n",
       "      <th>neutral</th>\n",
       "      <th>pos</th>\n",
       "      <th>compound</th>\n",
       "    </tr>\n",
       "  </thead>\n",
       "  <tbody>\n",
       "    <tr>\n",
       "      <th>0</th>\n",
       "      <td>1491</td>\n",
       "      <td>In this groundbreaking work of science, histor...</td>\n",
       "      <td>back</td>\n",
       "      <td>Charles C. Mann</td>\n",
       "      <td>4581</td>\n",
       "      <td>81796</td>\n",
       "      <td>1492.0</td>\n",
       "      <td>History</td>\n",
       "      <td>4.04</td>\n",
       "      <td>NaN</td>\n",
       "      <td>1491</td>\n",
       "      <td>in this groundbreaking work of science, histor...</td>\n",
       "      <td>unsuccessful</td>\n",
       "      <td>groundbreaking science history archaeology cha...</td>\n",
       "      <td>0.021</td>\n",
       "      <td>0.848</td>\n",
       "      <td>0.132</td>\n",
       "      <td>0.9393</td>\n",
       "    </tr>\n",
       "    <tr>\n",
       "      <th>1</th>\n",
       "      <td>1493</td>\n",
       "      <td>From the author of 1491—the best-selling study...</td>\n",
       "      <td>2011</td>\n",
       "      <td>Charles C. Mann</td>\n",
       "      <td>1603</td>\n",
       "      <td>18476</td>\n",
       "      <td>557.0</td>\n",
       "      <td>History</td>\n",
       "      <td>4.11</td>\n",
       "      <td>NaN</td>\n",
       "      <td>1493</td>\n",
       "      <td>from the author of 1491the bestselling study o...</td>\n",
       "      <td>unsuccessful</td>\n",
       "      <td>author bestselling study precolumbian americas...</td>\n",
       "      <td>0.044</td>\n",
       "      <td>0.869</td>\n",
       "      <td>0.088</td>\n",
       "      <td>0.9213</td>\n",
       "    </tr>\n",
       "    <tr>\n",
       "      <th>2</th>\n",
       "      <td>1776</td>\n",
       "      <td>In this masterful book, David McCullough tells...</td>\n",
       "      <td>2005</td>\n",
       "      <td>David McCullough</td>\n",
       "      <td>8098</td>\n",
       "      <td>219448</td>\n",
       "      <td>386.0</td>\n",
       "      <td>History</td>\n",
       "      <td>4.08</td>\n",
       "      <td>NaN</td>\n",
       "      <td>1776</td>\n",
       "      <td>in this masterful book, david mccullough tells...</td>\n",
       "      <td>unsuccessful</td>\n",
       "      <td>masterful david mccullough tell intensely huma...</td>\n",
       "      <td>0.097</td>\n",
       "      <td>0.835</td>\n",
       "      <td>0.068</td>\n",
       "      <td>-0.8309</td>\n",
       "    </tr>\n",
       "  </tbody>\n",
       "</table>\n",
       "</div>"
      ],
      "text/plain": [
       "  title                                            summary year_published  \\\n",
       "0  1491  In this groundbreaking work of science, histor...           back   \n",
       "1  1493  From the author of 1491—the best-selling study...           2011   \n",
       "2  1776  In this masterful book, David McCullough tells...           2005   \n",
       "\n",
       "             author  review_count  number_of_ratings  length    genre  rating  \\\n",
       "0   Charles C. Mann          4581              81796  1492.0  History    4.04   \n",
       "1   Charles C. Mann          1603              18476   557.0  History    4.11   \n",
       "2  David McCullough          8098             219448   386.0  History    4.08   \n",
       "\n",
       "  reviews cleaned_title                                    cleaned_summary  \\\n",
       "0     NaN          1491  in this groundbreaking work of science, histor...   \n",
       "1     NaN          1493  from the author of 1491the bestselling study o...   \n",
       "2     NaN          1776  in this masterful book, david mccullough tells...   \n",
       "\n",
       "         target                                 lemmatized_summary    neg  \\\n",
       "0  unsuccessful  groundbreaking science history archaeology cha...  0.021   \n",
       "1  unsuccessful  author bestselling study precolumbian americas...  0.044   \n",
       "2  unsuccessful  masterful david mccullough tell intensely huma...  0.097   \n",
       "\n",
       "   neutral    pos  compound  \n",
       "0    0.848  0.132    0.9393  \n",
       "1    0.869  0.088    0.9213  \n",
       "2    0.835  0.068   -0.8309  "
      ]
     },
     "execution_count": 15,
     "metadata": {},
     "output_type": "execute_result"
    }
   ],
   "source": [
    "df.head(3)"
   ]
  },
  {
   "cell_type": "code",
   "execution_count": 16,
   "id": "965d718b-89aa-4971-baf2-947194845584",
   "metadata": {},
   "outputs": [],
   "source": [
    "df['sentiment'] = df['compound'].apply(prep.get_sentiment)"
   ]
  },
  {
   "cell_type": "code",
   "execution_count": 17,
   "id": "75d2a91a-a5a7-4d9d-801a-5f674dcde63d",
   "metadata": {
    "tags": []
   },
   "outputs": [
    {
     "data": {
      "text/html": [
       "<div>\n",
       "<style scoped>\n",
       "    .dataframe tbody tr th:only-of-type {\n",
       "        vertical-align: middle;\n",
       "    }\n",
       "\n",
       "    .dataframe tbody tr th {\n",
       "        vertical-align: top;\n",
       "    }\n",
       "\n",
       "    .dataframe thead th {\n",
       "        text-align: right;\n",
       "    }\n",
       "</style>\n",
       "<table border=\"1\" class=\"dataframe\">\n",
       "  <thead>\n",
       "    <tr style=\"text-align: right;\">\n",
       "      <th></th>\n",
       "      <th>title</th>\n",
       "      <th>summary</th>\n",
       "      <th>year_published</th>\n",
       "      <th>author</th>\n",
       "      <th>review_count</th>\n",
       "      <th>number_of_ratings</th>\n",
       "      <th>length</th>\n",
       "      <th>genre</th>\n",
       "      <th>rating</th>\n",
       "      <th>reviews</th>\n",
       "      <th>cleaned_title</th>\n",
       "      <th>cleaned_summary</th>\n",
       "      <th>target</th>\n",
       "      <th>lemmatized_summary</th>\n",
       "      <th>neg</th>\n",
       "      <th>neutral</th>\n",
       "      <th>pos</th>\n",
       "      <th>compound</th>\n",
       "      <th>sentiment</th>\n",
       "    </tr>\n",
       "  </thead>\n",
       "  <tbody>\n",
       "    <tr>\n",
       "      <th>0</th>\n",
       "      <td>1491</td>\n",
       "      <td>In this groundbreaking work of science, histor...</td>\n",
       "      <td>back</td>\n",
       "      <td>Charles C. Mann</td>\n",
       "      <td>4581</td>\n",
       "      <td>81796</td>\n",
       "      <td>1492.0</td>\n",
       "      <td>History</td>\n",
       "      <td>4.04</td>\n",
       "      <td>NaN</td>\n",
       "      <td>1491</td>\n",
       "      <td>in this groundbreaking work of science, histor...</td>\n",
       "      <td>unsuccessful</td>\n",
       "      <td>groundbreaking science history archaeology cha...</td>\n",
       "      <td>0.021</td>\n",
       "      <td>0.848</td>\n",
       "      <td>0.132</td>\n",
       "      <td>0.9393</td>\n",
       "      <td>very positive</td>\n",
       "    </tr>\n",
       "    <tr>\n",
       "      <th>1</th>\n",
       "      <td>1493</td>\n",
       "      <td>From the author of 1491—the best-selling study...</td>\n",
       "      <td>2011</td>\n",
       "      <td>Charles C. Mann</td>\n",
       "      <td>1603</td>\n",
       "      <td>18476</td>\n",
       "      <td>557.0</td>\n",
       "      <td>History</td>\n",
       "      <td>4.11</td>\n",
       "      <td>NaN</td>\n",
       "      <td>1493</td>\n",
       "      <td>from the author of 1491the bestselling study o...</td>\n",
       "      <td>unsuccessful</td>\n",
       "      <td>author bestselling study precolumbian americas...</td>\n",
       "      <td>0.044</td>\n",
       "      <td>0.869</td>\n",
       "      <td>0.088</td>\n",
       "      <td>0.9213</td>\n",
       "      <td>very positive</td>\n",
       "    </tr>\n",
       "    <tr>\n",
       "      <th>2</th>\n",
       "      <td>1776</td>\n",
       "      <td>In this masterful book, David McCullough tells...</td>\n",
       "      <td>2005</td>\n",
       "      <td>David McCullough</td>\n",
       "      <td>8098</td>\n",
       "      <td>219448</td>\n",
       "      <td>386.0</td>\n",
       "      <td>History</td>\n",
       "      <td>4.08</td>\n",
       "      <td>NaN</td>\n",
       "      <td>1776</td>\n",
       "      <td>in this masterful book, david mccullough tells...</td>\n",
       "      <td>unsuccessful</td>\n",
       "      <td>masterful david mccullough tell intensely huma...</td>\n",
       "      <td>0.097</td>\n",
       "      <td>0.835</td>\n",
       "      <td>0.068</td>\n",
       "      <td>-0.8309</td>\n",
       "      <td>very negative</td>\n",
       "    </tr>\n",
       "  </tbody>\n",
       "</table>\n",
       "</div>"
      ],
      "text/plain": [
       "  title                                            summary year_published  \\\n",
       "0  1491  In this groundbreaking work of science, histor...           back   \n",
       "1  1493  From the author of 1491—the best-selling study...           2011   \n",
       "2  1776  In this masterful book, David McCullough tells...           2005   \n",
       "\n",
       "             author  review_count  number_of_ratings  length    genre  rating  \\\n",
       "0   Charles C. Mann          4581              81796  1492.0  History    4.04   \n",
       "1   Charles C. Mann          1603              18476   557.0  History    4.11   \n",
       "2  David McCullough          8098             219448   386.0  History    4.08   \n",
       "\n",
       "  reviews cleaned_title                                    cleaned_summary  \\\n",
       "0     NaN          1491  in this groundbreaking work of science, histor...   \n",
       "1     NaN          1493  from the author of 1491the bestselling study o...   \n",
       "2     NaN          1776  in this masterful book, david mccullough tells...   \n",
       "\n",
       "         target                                 lemmatized_summary    neg  \\\n",
       "0  unsuccessful  groundbreaking science history archaeology cha...  0.021   \n",
       "1  unsuccessful  author bestselling study precolumbian americas...  0.044   \n",
       "2  unsuccessful  masterful david mccullough tell intensely huma...  0.097   \n",
       "\n",
       "   neutral    pos  compound      sentiment  \n",
       "0    0.848  0.132    0.9393  very positive  \n",
       "1    0.869  0.088    0.9213  very positive  \n",
       "2    0.835  0.068   -0.8309  very negative  "
      ]
     },
     "execution_count": 17,
     "metadata": {},
     "output_type": "execute_result"
    }
   ],
   "source": [
    "df.head(3)"
   ]
  },
  {
   "cell_type": "markdown",
   "id": "0ee72f1d-0a0c-41bb-a281-a95b9ea80295",
   "metadata": {},
   "source": [
    "# exploration"
   ]
  },
  {
   "cell_type": "code",
   "execution_count": 18,
   "id": "10d7350a-f824-4617-9e17-2db32432f318",
   "metadata": {},
   "outputs": [],
   "source": [
    "def split(df):\n",
    "    train, test = train_test_split(df, test_size=.2, random_state=42, stratify=df.target)\n",
    "    return train, test"
   ]
  },
  {
   "cell_type": "code",
   "execution_count": 19,
   "id": "2efc061f",
   "metadata": {},
   "outputs": [
    {
     "data": {
      "text/plain": [
       "(3810, 19)"
      ]
     },
     "execution_count": 19,
     "metadata": {},
     "output_type": "execute_result"
    }
   ],
   "source": [
    "df.shape"
   ]
  },
  {
   "cell_type": "code",
   "execution_count": 20,
   "id": "fde0eed8-a529-49d8-9ae3-3711f653a7a0",
   "metadata": {},
   "outputs": [],
   "source": [
    "train, test = split(df)"
   ]
  },
  {
   "cell_type": "code",
   "execution_count": 21,
   "id": "aed63be5-be2a-4952-99c9-421cd86d0360",
   "metadata": {
    "scrolled": false
   },
   "outputs": [
    {
     "data": {
      "text/html": [
       "<div>\n",
       "<style scoped>\n",
       "    .dataframe tbody tr th:only-of-type {\n",
       "        vertical-align: middle;\n",
       "    }\n",
       "\n",
       "    .dataframe tbody tr th {\n",
       "        vertical-align: top;\n",
       "    }\n",
       "\n",
       "    .dataframe thead th {\n",
       "        text-align: right;\n",
       "    }\n",
       "</style>\n",
       "<table border=\"1\" class=\"dataframe\">\n",
       "  <thead>\n",
       "    <tr style=\"text-align: right;\">\n",
       "      <th></th>\n",
       "      <th>title</th>\n",
       "      <th>summary</th>\n",
       "      <th>year_published</th>\n",
       "      <th>author</th>\n",
       "      <th>review_count</th>\n",
       "      <th>number_of_ratings</th>\n",
       "      <th>length</th>\n",
       "      <th>genre</th>\n",
       "      <th>rating</th>\n",
       "      <th>reviews</th>\n",
       "      <th>cleaned_title</th>\n",
       "      <th>cleaned_summary</th>\n",
       "      <th>target</th>\n",
       "      <th>lemmatized_summary</th>\n",
       "      <th>neg</th>\n",
       "      <th>neutral</th>\n",
       "      <th>pos</th>\n",
       "      <th>compound</th>\n",
       "      <th>sentiment</th>\n",
       "    </tr>\n",
       "  </thead>\n",
       "  <tbody>\n",
       "    <tr>\n",
       "      <th>3248</th>\n",
       "      <td>Zen in the Art of Archery</td>\n",
       "      <td>The path to achieving Zen (a balance between t...</td>\n",
       "      <td>1948</td>\n",
       "      <td>Eugen Herrigel</td>\n",
       "      <td>745</td>\n",
       "      <td>13640</td>\n",
       "      <td>81.0</td>\n",
       "      <td>Philosophy</td>\n",
       "      <td>3.99</td>\n",
       "      <td>[]</td>\n",
       "      <td>zen in the art of archery</td>\n",
       "      <td>the path to achieving zen a balance between th...</td>\n",
       "      <td>unsuccessful</td>\n",
       "      <td>path achieve zen balance body mind brilliantly...</td>\n",
       "      <td>0.025</td>\n",
       "      <td>0.873</td>\n",
       "      <td>0.101</td>\n",
       "      <td>0.8807</td>\n",
       "      <td>very positive</td>\n",
       "    </tr>\n",
       "    <tr>\n",
       "      <th>1767</th>\n",
       "      <td>Sharks in the Time of Saviors</td>\n",
       "      <td>In 1995 Kailua-Kona, Hawaii, on a rare family ...</td>\n",
       "      <td>2020</td>\n",
       "      <td>Kawai Strong Washburn</td>\n",
       "      <td>2493</td>\n",
       "      <td>16032</td>\n",
       "      <td>376.0</td>\n",
       "      <td>Fiction</td>\n",
       "      <td>3.85</td>\n",
       "      <td>[]</td>\n",
       "      <td>sharks in the time of saviors</td>\n",
       "      <td>in 1995 kailuakona, hawaii, on a rare family v...</td>\n",
       "      <td>unsuccessful</td>\n",
       "      <td>kailuakona hawaii rare family vacation sevenye...</td>\n",
       "      <td>0.098</td>\n",
       "      <td>0.744</td>\n",
       "      <td>0.158</td>\n",
       "      <td>0.9655</td>\n",
       "      <td>very positive</td>\n",
       "    </tr>\n",
       "    <tr>\n",
       "      <th>2494</th>\n",
       "      <td>The Rotters' Club</td>\n",
       "      <td>Birmingham, England, c. 1973: industrial strik...</td>\n",
       "      <td>2001</td>\n",
       "      <td>Jonathan Coe</td>\n",
       "      <td>821</td>\n",
       "      <td>13374</td>\n",
       "      <td>415.0</td>\n",
       "      <td>Fiction</td>\n",
       "      <td>3.96</td>\n",
       "      <td>NaN</td>\n",
       "      <td>the rotters' club</td>\n",
       "      <td>birmingham, england, c. 1973 industrial strike...</td>\n",
       "      <td>unsuccessful</td>\n",
       "      <td>birmingham england industrial strike bad pop m...</td>\n",
       "      <td>0.161</td>\n",
       "      <td>0.662</td>\n",
       "      <td>0.177</td>\n",
       "      <td>0.5378</td>\n",
       "      <td>very positive</td>\n",
       "    </tr>\n",
       "  </tbody>\n",
       "</table>\n",
       "</div>"
      ],
      "text/plain": [
       "                              title  \\\n",
       "3248      Zen in the Art of Archery   \n",
       "1767  Sharks in the Time of Saviors   \n",
       "2494              The Rotters' Club   \n",
       "\n",
       "                                                summary year_published  \\\n",
       "3248  The path to achieving Zen (a balance between t...           1948   \n",
       "1767  In 1995 Kailua-Kona, Hawaii, on a rare family ...           2020   \n",
       "2494  Birmingham, England, c. 1973: industrial strik...           2001   \n",
       "\n",
       "                     author  review_count  number_of_ratings  length  \\\n",
       "3248         Eugen Herrigel           745              13640    81.0   \n",
       "1767  Kawai Strong Washburn          2493              16032   376.0   \n",
       "2494           Jonathan Coe           821              13374   415.0   \n",
       "\n",
       "           genre  rating reviews                  cleaned_title  \\\n",
       "3248  Philosophy    3.99      []      zen in the art of archery   \n",
       "1767     Fiction    3.85      []  sharks in the time of saviors   \n",
       "2494     Fiction    3.96     NaN              the rotters' club   \n",
       "\n",
       "                                        cleaned_summary        target  \\\n",
       "3248  the path to achieving zen a balance between th...  unsuccessful   \n",
       "1767  in 1995 kailuakona, hawaii, on a rare family v...  unsuccessful   \n",
       "2494  birmingham, england, c. 1973 industrial strike...  unsuccessful   \n",
       "\n",
       "                                     lemmatized_summary    neg  neutral  \\\n",
       "3248  path achieve zen balance body mind brilliantly...  0.025    0.873   \n",
       "1767  kailuakona hawaii rare family vacation sevenye...  0.098    0.744   \n",
       "2494  birmingham england industrial strike bad pop m...  0.161    0.662   \n",
       "\n",
       "        pos  compound      sentiment  \n",
       "3248  0.101    0.8807  very positive  \n",
       "1767  0.158    0.9655  very positive  \n",
       "2494  0.177    0.5378  very positive  "
      ]
     },
     "execution_count": 21,
     "metadata": {},
     "output_type": "execute_result"
    }
   ],
   "source": [
    "train.head(3)"
   ]
  },
  {
   "cell_type": "code",
   "execution_count": 22,
   "id": "ec79eab5",
   "metadata": {},
   "outputs": [
    {
     "data": {
      "text/plain": [
       "(3048, 19)"
      ]
     },
     "execution_count": 22,
     "metadata": {},
     "output_type": "execute_result"
    }
   ],
   "source": [
    "train.shape"
   ]
  },
  {
   "cell_type": "code",
   "execution_count": 23,
   "id": "faba8e68",
   "metadata": {},
   "outputs": [
    {
     "data": {
      "text/plain": [
       "Index(['title', 'summary', 'year_published', 'author', 'review_count',\n",
       "       'number_of_ratings', 'length', 'genre', 'rating', 'reviews',\n",
       "       'cleaned_title', 'cleaned_summary', 'target', 'lemmatized_summary',\n",
       "       'neg', 'neutral', 'pos', 'compound', 'sentiment'],\n",
       "      dtype='object')"
      ]
     },
     "execution_count": 23,
     "metadata": {},
     "output_type": "execute_result"
    }
   ],
   "source": [
    "train.columns"
   ]
  },
  {
   "cell_type": "markdown",
   "id": "c98b4f17",
   "metadata": {},
   "source": [
    "# Which words (ngrams ?) appear more often in summaries with a negative sentiment ?"
   ]
  },
  {
   "cell_type": "code",
   "execution_count": 24,
   "id": "60739e00",
   "metadata": {},
   "outputs": [],
   "source": [
    "#from nltk.tokenize import word_tokenize"
   ]
  },
  {
   "cell_type": "code",
   "execution_count": 25,
   "id": "b964cd01",
   "metadata": {},
   "outputs": [],
   "source": [
    "#df_neg = train[train['sentiment'] == 'negative']"
   ]
  },
  {
   "cell_type": "code",
   "execution_count": 26,
   "id": "0d930075",
   "metadata": {},
   "outputs": [],
   "source": [
    "#df_neg['tokenized_summary'] = df_neg['cleaned_summary'].apply(word_tokenize)"
   ]
  },
  {
   "cell_type": "code",
   "execution_count": 27,
   "id": "ad5f8e2c",
   "metadata": {},
   "outputs": [],
   "source": [
    "#all_summaries = list(df_neg['tokenized_summary'])"
   ]
  },
  {
   "cell_type": "code",
   "execution_count": 28,
   "id": "4f2a1c67",
   "metadata": {},
   "outputs": [],
   "source": [
    "#from nltk import FreqDist\n",
    "\n",
    "#freq_dist = FreqDist(word for summary in all_summaries for word in summary)"
   ]
  },
  {
   "cell_type": "code",
   "execution_count": 29,
   "id": "3ad0db33",
   "metadata": {},
   "outputs": [],
   "source": [
    "#freq_dist"
   ]
  },
  {
   "cell_type": "code",
   "execution_count": 30,
   "id": "c5d69467",
   "metadata": {},
   "outputs": [],
   "source": [
    "#common_words = freq_dist.most_common(50)"
   ]
  },
  {
   "cell_type": "code",
   "execution_count": 31,
   "id": "84f44d86",
   "metadata": {},
   "outputs": [],
   "source": [
    "#df_common_words = pd.DataFrame(common_words, columns=['Word', 'Frequency'])"
   ]
  },
  {
   "cell_type": "code",
   "execution_count": 32,
   "id": "88549118",
   "metadata": {},
   "outputs": [],
   "source": [
    "#df_common_words"
   ]
  },
  {
   "cell_type": "markdown",
   "id": "72f070b5",
   "metadata": {},
   "source": [
    "# Implementing Stopwords"
   ]
  },
  {
   "cell_type": "code",
   "execution_count": 101,
   "id": "8e2e8e05",
   "metadata": {},
   "outputs": [
    {
     "data": {
      "text/plain": [
       "3048"
      ]
     },
     "execution_count": 101,
     "metadata": {},
     "output_type": "execute_result"
    }
   ],
   "source": [
    "train['sentiment'].count()"
   ]
  },
  {
   "cell_type": "code",
   "execution_count": 86,
   "id": "0c4f5eaf",
   "metadata": {},
   "outputs": [
    {
     "data": {
      "text/plain": [
       "very positive    1522\n",
       "very negative    1019\n",
       "positive          244\n",
       "negative          238\n",
       "neutral            25\n",
       "Name: sentiment, dtype: int64"
      ]
     },
     "execution_count": 86,
     "metadata": {},
     "output_type": "execute_result"
    }
   ],
   "source": [
    "train['sentiment'].value_counts()"
   ]
  },
  {
   "cell_type": "code",
   "execution_count": 107,
   "id": "309ad160",
   "metadata": {},
   "outputs": [
    {
     "data": {
      "text/plain": [
       "unsuccessful    2919\n",
       "best seller      129\n",
       "Name: target, dtype: int64"
      ]
     },
     "execution_count": 107,
     "metadata": {},
     "output_type": "execute_result"
    }
   ],
   "source": [
    "train['target'].value_counts()"
   ]
  },
  {
   "cell_type": "code",
   "execution_count": 87,
   "id": "0ba7de29",
   "metadata": {},
   "outputs": [],
   "source": [
    "# subset df split of train into only negative values of 'sentiment' column\n",
    "df_neg = train[train['sentiment'].isin(['negative', 'very negative'])]"
   ]
  },
  {
   "cell_type": "code",
   "execution_count": 88,
   "id": "ddb02b18",
   "metadata": {},
   "outputs": [],
   "source": [
    "# Tokenize words\n",
    "words = df_neg['cleaned_summary'].str.lower().str.cat(sep=' ').split()"
   ]
  },
  {
   "cell_type": "code",
   "execution_count": 89,
   "id": "998367bb",
   "metadata": {},
   "outputs": [],
   "source": [
    "# Create a list of additional stopwords\n",
    "additional_stopwords = ['.','1']"
   ]
  },
  {
   "cell_type": "code",
   "execution_count": 90,
   "id": "3bfe0c51",
   "metadata": {},
   "outputs": [],
   "source": [
    "# Add the additional stopwords to the default set of stopwords\n",
    "stop_words = set(stopwords.words('english') + additional_stopwords)"
   ]
  },
  {
   "cell_type": "code",
   "execution_count": 91,
   "id": "dc7d9102",
   "metadata": {},
   "outputs": [],
   "source": [
    "# Remove stopwords\n",
    "words = [word for word in words if word not in stop_words]"
   ]
  },
  {
   "cell_type": "code",
   "execution_count": 92,
   "id": "ac44276d",
   "metadata": {},
   "outputs": [],
   "source": [
    "# Get frequency distribution of words, bigrams, and trigrams\n",
    "freq_dist = nltk.FreqDist(words)\n",
    "freq_dist_bigram = nltk.FreqDist(nltk.bigrams(words))\n",
    "freq_dist_trigram = nltk.FreqDist(nltk.trigrams(words))"
   ]
  },
  {
   "cell_type": "code",
   "execution_count": 93,
   "id": "3ca07369",
   "metadata": {},
   "outputs": [],
   "source": [
    "# Get 50 most common words, bigrams, and trigrams\n",
    "most_common_words = freq_dist.most_common(50)\n",
    "most_common_bigram = freq_dist_bigram.most_common(50)\n",
    "most_common_trigram = freq_dist_trigram.most_common(50)"
   ]
  },
  {
   "cell_type": "code",
   "execution_count": 94,
   "id": "a772fec1",
   "metadata": {},
   "outputs": [],
   "source": [
    "# Convert to dataframes for visualizing ease\n",
    "df_common_words = pd.DataFrame(most_common_words, columns=['Word', 'Frequency'])\n",
    "df_common_bigram = pd.DataFrame(most_common_bigram, columns=['Bigram', 'Frequency'])\n",
    "df_common_trigram = pd.DataFrame(most_common_trigram, columns=['Trigram', 'Frequency'])"
   ]
  },
  {
   "cell_type": "code",
   "execution_count": 95,
   "id": "1439aa71",
   "metadata": {},
   "outputs": [
    {
     "data": {
      "text/html": [
       "<div>\n",
       "<style scoped>\n",
       "    .dataframe tbody tr th:only-of-type {\n",
       "        vertical-align: middle;\n",
       "    }\n",
       "\n",
       "    .dataframe tbody tr th {\n",
       "        vertical-align: top;\n",
       "    }\n",
       "\n",
       "    .dataframe thead th {\n",
       "        text-align: right;\n",
       "    }\n",
       "</style>\n",
       "<table border=\"1\" class=\"dataframe\">\n",
       "  <thead>\n",
       "    <tr style=\"text-align: right;\">\n",
       "      <th></th>\n",
       "      <th>Word</th>\n",
       "      <th>Frequency</th>\n",
       "    </tr>\n",
       "  </thead>\n",
       "  <tbody>\n",
       "    <tr>\n",
       "      <th>0</th>\n",
       "      <td>one</td>\n",
       "      <td>753</td>\n",
       "    </tr>\n",
       "    <tr>\n",
       "      <th>1</th>\n",
       "      <td>new</td>\n",
       "      <td>597</td>\n",
       "    </tr>\n",
       "    <tr>\n",
       "      <th>2</th>\n",
       "      <td>life</td>\n",
       "      <td>435</td>\n",
       "    </tr>\n",
       "    <tr>\n",
       "      <th>3</th>\n",
       "      <td>world</td>\n",
       "      <td>391</td>\n",
       "    </tr>\n",
       "    <tr>\n",
       "      <th>4</th>\n",
       "      <td>story</td>\n",
       "      <td>309</td>\n",
       "    </tr>\n",
       "    <tr>\n",
       "      <th>5</th>\n",
       "      <td>two</td>\n",
       "      <td>297</td>\n",
       "    </tr>\n",
       "    <tr>\n",
       "      <th>6</th>\n",
       "      <td>must</td>\n",
       "      <td>284</td>\n",
       "    </tr>\n",
       "    <tr>\n",
       "      <th>7</th>\n",
       "      <td>even</td>\n",
       "      <td>274</td>\n",
       "    </tr>\n",
       "    <tr>\n",
       "      <th>8</th>\n",
       "      <td>first</td>\n",
       "      <td>268</td>\n",
       "    </tr>\n",
       "    <tr>\n",
       "      <th>9</th>\n",
       "      <td>find</td>\n",
       "      <td>257</td>\n",
       "    </tr>\n",
       "  </tbody>\n",
       "</table>\n",
       "</div>"
      ],
      "text/plain": [
       "    Word  Frequency\n",
       "0    one        753\n",
       "1    new        597\n",
       "2   life        435\n",
       "3  world        391\n",
       "4  story        309\n",
       "5    two        297\n",
       "6   must        284\n",
       "7   even        274\n",
       "8  first        268\n",
       "9   find        257"
      ]
     },
     "execution_count": 95,
     "metadata": {},
     "output_type": "execute_result"
    }
   ],
   "source": [
    "df_common_words.head(10)"
   ]
  },
  {
   "cell_type": "code",
   "execution_count": 96,
   "id": "bec3afb6",
   "metadata": {},
   "outputs": [
    {
     "data": {
      "text/html": [
       "<div>\n",
       "<style scoped>\n",
       "    .dataframe tbody tr th:only-of-type {\n",
       "        vertical-align: middle;\n",
       "    }\n",
       "\n",
       "    .dataframe tbody tr th {\n",
       "        vertical-align: top;\n",
       "    }\n",
       "\n",
       "    .dataframe thead th {\n",
       "        text-align: right;\n",
       "    }\n",
       "</style>\n",
       "<table border=\"1\" class=\"dataframe\">\n",
       "  <thead>\n",
       "    <tr style=\"text-align: right;\">\n",
       "      <th></th>\n",
       "      <th>Bigram</th>\n",
       "      <th>Frequency</th>\n",
       "    </tr>\n",
       "  </thead>\n",
       "  <tbody>\n",
       "    <tr>\n",
       "      <th>0</th>\n",
       "      <td>(new, york)</td>\n",
       "      <td>154</td>\n",
       "    </tr>\n",
       "    <tr>\n",
       "      <th>1</th>\n",
       "      <td>(york, times)</td>\n",
       "      <td>84</td>\n",
       "    </tr>\n",
       "    <tr>\n",
       "      <th>2</th>\n",
       "      <td>(bestselling, author)</td>\n",
       "      <td>67</td>\n",
       "    </tr>\n",
       "    <tr>\n",
       "      <th>3</th>\n",
       "      <td>(times, bestselling)</td>\n",
       "      <td>60</td>\n",
       "    </tr>\n",
       "    <tr>\n",
       "      <th>4</th>\n",
       "      <td>(world, war)</td>\n",
       "      <td>48</td>\n",
       "    </tr>\n",
       "    <tr>\n",
       "      <th>5</th>\n",
       "      <td>(eve, dallas)</td>\n",
       "      <td>32</td>\n",
       "    </tr>\n",
       "    <tr>\n",
       "      <th>6</th>\n",
       "      <td>(alternate, cover)</td>\n",
       "      <td>28</td>\n",
       "    </tr>\n",
       "    <tr>\n",
       "      <th>7</th>\n",
       "      <td>(young, woman)</td>\n",
       "      <td>27</td>\n",
       "    </tr>\n",
       "    <tr>\n",
       "      <th>8</th>\n",
       "      <td>(years, ago,)</td>\n",
       "      <td>26</td>\n",
       "    </tr>\n",
       "    <tr>\n",
       "      <th>9</th>\n",
       "      <td>(cover, edition)</td>\n",
       "      <td>25</td>\n",
       "    </tr>\n",
       "  </tbody>\n",
       "</table>\n",
       "</div>"
      ],
      "text/plain": [
       "                  Bigram  Frequency\n",
       "0            (new, york)        154\n",
       "1          (york, times)         84\n",
       "2  (bestselling, author)         67\n",
       "3   (times, bestselling)         60\n",
       "4           (world, war)         48\n",
       "5          (eve, dallas)         32\n",
       "6     (alternate, cover)         28\n",
       "7         (young, woman)         27\n",
       "8          (years, ago,)         26\n",
       "9       (cover, edition)         25"
      ]
     },
     "execution_count": 96,
     "metadata": {},
     "output_type": "execute_result"
    }
   ],
   "source": [
    "df_common_bigram.head(10)"
   ]
  },
  {
   "cell_type": "code",
   "execution_count": 97,
   "id": "7a475aa1",
   "metadata": {},
   "outputs": [
    {
     "data": {
      "text/html": [
       "<div>\n",
       "<style scoped>\n",
       "    .dataframe tbody tr th:only-of-type {\n",
       "        vertical-align: middle;\n",
       "    }\n",
       "\n",
       "    .dataframe tbody tr th {\n",
       "        vertical-align: top;\n",
       "    }\n",
       "\n",
       "    .dataframe thead th {\n",
       "        text-align: right;\n",
       "    }\n",
       "</style>\n",
       "<table border=\"1\" class=\"dataframe\">\n",
       "  <thead>\n",
       "    <tr style=\"text-align: right;\">\n",
       "      <th></th>\n",
       "      <th>Trigram</th>\n",
       "      <th>Frequency</th>\n",
       "    </tr>\n",
       "  </thead>\n",
       "  <tbody>\n",
       "    <tr>\n",
       "      <th>0</th>\n",
       "      <td>(new, york, times)</td>\n",
       "      <td>82</td>\n",
       "    </tr>\n",
       "    <tr>\n",
       "      <th>1</th>\n",
       "      <td>(york, times, bestselling)</td>\n",
       "      <td>60</td>\n",
       "    </tr>\n",
       "    <tr>\n",
       "      <th>2</th>\n",
       "      <td>(times, bestselling, author)</td>\n",
       "      <td>39</td>\n",
       "    </tr>\n",
       "    <tr>\n",
       "      <th>3</th>\n",
       "      <td>(alternate, cover, edition)</td>\n",
       "      <td>17</td>\n",
       "    </tr>\n",
       "    <tr>\n",
       "      <th>4</th>\n",
       "      <td>(new, york, city)</td>\n",
       "      <td>16</td>\n",
       "    </tr>\n",
       "    <tr>\n",
       "      <th>5</th>\n",
       "      <td>(world, war, ii)</td>\n",
       "      <td>14</td>\n",
       "    </tr>\n",
       "    <tr>\n",
       "      <th>6</th>\n",
       "      <td>(lieutenant, eve, dallas)</td>\n",
       "      <td>12</td>\n",
       "    </tr>\n",
       "    <tr>\n",
       "      <th>7</th>\n",
       "      <td>(world, war, ii,)</td>\n",
       "      <td>11</td>\n",
       "    </tr>\n",
       "    <tr>\n",
       "      <th>8</th>\n",
       "      <td>(cover, edition, found)</td>\n",
       "      <td>9</td>\n",
       "    </tr>\n",
       "    <tr>\n",
       "      <th>9</th>\n",
       "      <td>(librarian's, note, alternate)</td>\n",
       "      <td>9</td>\n",
       "    </tr>\n",
       "  </tbody>\n",
       "</table>\n",
       "</div>"
      ],
      "text/plain": [
       "                          Trigram  Frequency\n",
       "0              (new, york, times)         82\n",
       "1      (york, times, bestselling)         60\n",
       "2    (times, bestselling, author)         39\n",
       "3     (alternate, cover, edition)         17\n",
       "4               (new, york, city)         16\n",
       "5                (world, war, ii)         14\n",
       "6       (lieutenant, eve, dallas)         12\n",
       "7               (world, war, ii,)         11\n",
       "8         (cover, edition, found)          9\n",
       "9  (librarian's, note, alternate)          9"
      ]
     },
     "execution_count": 97,
     "metadata": {},
     "output_type": "execute_result"
    }
   ],
   "source": [
    "df_common_trigram.head(10)"
   ]
  },
  {
   "cell_type": "code",
   "execution_count": 98,
   "id": "32739e29",
   "metadata": {},
   "outputs": [],
   "source": [
    "import seaborn as sns\n",
    "import matplotlib.pyplot as plt"
   ]
  },
  {
   "cell_type": "code",
   "execution_count": 105,
   "id": "5aebafe8",
   "metadata": {},
   "outputs": [
    {
     "data": {
      "text/plain": [
       "unsuccessful    2919\n",
       "best seller      129\n",
       "Name: target, dtype: int64"
      ]
     },
     "execution_count": 105,
     "metadata": {},
     "output_type": "execute_result"
    }
   ],
   "source": [
    "train['target'].value_counts()"
   ]
  },
  {
   "cell_type": "code",
   "execution_count": 99,
   "id": "2d4a9315",
   "metadata": {},
   "outputs": [
    {
     "data": {
      "image/png": "[encoded data removed]",
      "text/plain": [
       "<Figure size 1000x600 with 1 Axes>"
      ]
     },
     "metadata": {},
     "output_type": "display_data"
    }
   ],
   "source": [
    "# create the horizontal count plot\n",
    "plt.figure(figsize=(10, 6))\n",
    "sns.set_style(\"whitegrid\")\n",
    "sns.barplot(x=\"Frequency\", y=\"Word\", data=df_common_words.head(10), color=\"skyblue\")\n",
    "plt.title('Frequency of Trigrams')\n",
    "plt.xlabel('Frequency')\n",
    "plt.ylabel('Trigram')\n",
    "plt.show()"
   ]
  },
  {
   "cell_type": "code",
   "execution_count": 109,
   "id": "12b32bba",
   "metadata": {},
   "outputs": [],
   "source": [
    "# subset df split of train into only negative values of 'sentiment' column\n",
    "df_neg = train[train['sentiment'].isin(['negative', 'very negative'])]\n",
    "\n",
    "# Tokenize words\n",
    "words = df_neg['cleaned_summary'].str.lower().str.cat(sep=' ').split()\n",
    "\n",
    "# Create a list of additional stopwords\n",
    "additional_stopwords = ['.','1']\n",
    "\n",
    "# Add the additional stopwords to the default set of stopwords\n",
    "stop_words = set(stopwords.words('english') + additional_stopwords)\n",
    "\n",
    "# Remove stopwords\n",
    "words = [word for word in words if word not in stop_words]"
   ]
  },
  {
   "cell_type": "code",
   "execution_count": 110,
   "id": "a8840dda",
   "metadata": {},
   "outputs": [],
   "source": [
    "# Get frequency distribution of words, bigrams, and trigrams\n",
    "freq_dist = nltk.FreqDist(words)\n",
    "freq_dist_bigram = nltk.FreqDist(nltk.bigrams(words))\n",
    "freq_dist_trigram = nltk.FreqDist(nltk.trigrams(words))"
   ]
  },
  {
   "cell_type": "code",
   "execution_count": 111,
   "id": "8165d35e",
   "metadata": {},
   "outputs": [],
   "source": [
    "# Get 50 most common words, bigrams, and trigrams for each target type\n",
    "most_common_words = {}\n",
    "most_common_bigram = {}\n",
    "most_common_trigram = {}"
   ]
  },
  {
   "cell_type": "code",
   "execution_count": 112,
   "id": "45695203",
   "metadata": {},
   "outputs": [],
   "source": [
    "for target_type in train['target'].unique():\n",
    "    df_target = df_neg[df_neg['target'] == target_type]\n",
    "    words = df_target['cleaned_summary'].str.lower().str.cat(sep=' ').split()\n",
    "    words = [word for word in words if word not in stop_words]\n",
    "    freq_dist_target = nltk.FreqDist(words)\n",
    "    most_common_words[target_type] = freq_dist_target.most_common(50)\n",
    "    freq_dist_bigram_target = nltk.FreqDist(nltk.bigrams(words))\n",
    "    most_common_bigram[target_type] = freq_dist_bigram_target.most_common(50)\n",
    "    freq_dist_trigram_target = nltk.FreqDist(nltk.trigrams(words))\n",
    "    most_common_trigram[target_type] = freq_dist_trigram_target.most_common(50)"
   ]
  },
  {
   "cell_type": "code",
   "execution_count": 113,
   "id": "06d46b15",
   "metadata": {},
   "outputs": [
    {
     "ename": "ValueError",
     "evalue": "Could not interpret input 'target'",
     "output_type": "error",
     "traceback": [
      "\u001b[0;31m---------------------------------------------------------------------------\u001b[0m",
      "\u001b[0;31mValueError\u001b[0m                                Traceback (most recent call last)",
      "Input \u001b[0;32mIn [113]\u001b[0m, in \u001b[0;36m<cell line: 3>\u001b[0;34m()\u001b[0m\n\u001b[1;32m      7\u001b[0m df_freq_dist \u001b[38;5;241m=\u001b[39m pd\u001b[38;5;241m.\u001b[39mDataFrame(freq_dist, columns\u001b[38;5;241m=\u001b[39m[ngram_type, \u001b[38;5;124m'\u001b[39m\u001b[38;5;124mFrequency\u001b[39m\u001b[38;5;124m'\u001b[39m])\n\u001b[1;32m      8\u001b[0m sns\u001b[38;5;241m.\u001b[39mset_style(\u001b[38;5;124m\"\u001b[39m\u001b[38;5;124mwhitegrid\u001b[39m\u001b[38;5;124m\"\u001b[39m)\n\u001b[0;32m----> 9\u001b[0m \u001b[43msns\u001b[49m\u001b[38;5;241;43m.\u001b[39;49m\u001b[43mbarplot\u001b[49m\u001b[43m(\u001b[49m\u001b[43mx\u001b[49m\u001b[38;5;241;43m=\u001b[39;49m\u001b[38;5;124;43m'\u001b[39;49m\u001b[38;5;124;43mFrequency\u001b[39;49m\u001b[38;5;124;43m'\u001b[39;49m\u001b[43m,\u001b[49m\u001b[43m \u001b[49m\u001b[43my\u001b[49m\u001b[38;5;241;43m=\u001b[39;49m\u001b[43mngram_type\u001b[49m\u001b[43m,\u001b[49m\u001b[43m \u001b[49m\u001b[43mdata\u001b[49m\u001b[38;5;241;43m=\u001b[39;49m\u001b[43mdf_freq_dist\u001b[49m\u001b[43m,\u001b[49m\u001b[43m \u001b[49m\u001b[43mcolor\u001b[49m\u001b[38;5;241;43m=\u001b[39;49m\u001b[38;5;124;43m\"\u001b[39;49m\u001b[38;5;124;43mskyblue\u001b[39;49m\u001b[38;5;124;43m\"\u001b[39;49m\u001b[43m,\u001b[49m\u001b[43m \u001b[49m\u001b[43max\u001b[49m\u001b[38;5;241;43m=\u001b[39;49m\u001b[43maxes\u001b[49m\u001b[43m[\u001b[49m\u001b[43mi\u001b[49m\u001b[43m]\u001b[49m\u001b[43m[\u001b[49m\u001b[43mj\u001b[49m\u001b[43m]\u001b[49m\u001b[43m,\u001b[49m\u001b[43m \u001b[49m\u001b[43mhue\u001b[49m\u001b[38;5;241;43m=\u001b[39;49m\u001b[38;5;124;43m'\u001b[39;49m\u001b[38;5;124;43mtarget\u001b[39;49m\u001b[38;5;124;43m'\u001b[39;49m\u001b[43m)\u001b[49m\n\u001b[1;32m     10\u001b[0m axes[i][j]\u001b[38;5;241m.\u001b[39mset_title(\u001b[38;5;124mf\u001b[39m\u001b[38;5;124m'\u001b[39m\u001b[38;5;132;01m{\u001b[39;00mngram_type\u001b[38;5;132;01m}\u001b[39;00m\u001b[38;5;124m Frequency for \u001b[39m\u001b[38;5;132;01m{\u001b[39;00mtarget_type\u001b[38;5;132;01m}\u001b[39;00m\u001b[38;5;124m Targets\u001b[39m\u001b[38;5;124m'\u001b[39m)\n\u001b[1;32m     11\u001b[0m axes[i][j]\u001b[38;5;241m.\u001b[39mset_xlabel(\u001b[38;5;124m'\u001b[39m\u001b[38;5;124mFrequency\u001b[39m\u001b[38;5;124m'\u001b[39m)\n",
      "File \u001b[0;32m/opt/homebrew/anaconda3/lib/python3.9/site-packages/seaborn/_decorators.py:46\u001b[0m, in \u001b[0;36m_deprecate_positional_args.<locals>.inner_f\u001b[0;34m(*args, **kwargs)\u001b[0m\n\u001b[1;32m     36\u001b[0m     warnings\u001b[38;5;241m.\u001b[39mwarn(\n\u001b[1;32m     37\u001b[0m         \u001b[38;5;124m\"\u001b[39m\u001b[38;5;124mPass the following variable\u001b[39m\u001b[38;5;132;01m{}\u001b[39;00m\u001b[38;5;124m as \u001b[39m\u001b[38;5;132;01m{}\u001b[39;00m\u001b[38;5;124mkeyword arg\u001b[39m\u001b[38;5;132;01m{}\u001b[39;00m\u001b[38;5;124m: \u001b[39m\u001b[38;5;132;01m{}\u001b[39;00m\u001b[38;5;124m. \u001b[39m\u001b[38;5;124m\"\u001b[39m\n\u001b[1;32m     38\u001b[0m         \u001b[38;5;124m\"\u001b[39m\u001b[38;5;124mFrom version 0.12, the only valid positional argument \u001b[39m\u001b[38;5;124m\"\u001b[39m\n\u001b[0;32m   (...)\u001b[0m\n\u001b[1;32m     43\u001b[0m         \u001b[38;5;167;01mFutureWarning\u001b[39;00m\n\u001b[1;32m     44\u001b[0m     )\n\u001b[1;32m     45\u001b[0m kwargs\u001b[38;5;241m.\u001b[39mupdate({k: arg \u001b[38;5;28;01mfor\u001b[39;00m k, arg \u001b[38;5;129;01min\u001b[39;00m \u001b[38;5;28mzip\u001b[39m(sig\u001b[38;5;241m.\u001b[39mparameters, args)})\n\u001b[0;32m---> 46\u001b[0m \u001b[38;5;28;01mreturn\u001b[39;00m \u001b[43mf\u001b[49m\u001b[43m(\u001b[49m\u001b[38;5;241;43m*\u001b[39;49m\u001b[38;5;241;43m*\u001b[39;49m\u001b[43mkwargs\u001b[49m\u001b[43m)\u001b[49m\n",
      "File \u001b[0;32m/opt/homebrew/anaconda3/lib/python3.9/site-packages/seaborn/categorical.py:3182\u001b[0m, in \u001b[0;36mbarplot\u001b[0;34m(x, y, hue, data, order, hue_order, estimator, ci, n_boot, units, seed, orient, color, palette, saturation, errcolor, errwidth, capsize, dodge, ax, **kwargs)\u001b[0m\n\u001b[1;32m   3169\u001b[0m \u001b[38;5;129m@_deprecate_positional_args\u001b[39m\n\u001b[1;32m   3170\u001b[0m \u001b[38;5;28;01mdef\u001b[39;00m \u001b[38;5;21mbarplot\u001b[39m(\n\u001b[1;32m   3171\u001b[0m     \u001b[38;5;241m*\u001b[39m,\n\u001b[0;32m   (...)\u001b[0m\n\u001b[1;32m   3179\u001b[0m     \u001b[38;5;241m*\u001b[39m\u001b[38;5;241m*\u001b[39mkwargs,\n\u001b[1;32m   3180\u001b[0m ):\n\u001b[0;32m-> 3182\u001b[0m     plotter \u001b[38;5;241m=\u001b[39m \u001b[43m_BarPlotter\u001b[49m\u001b[43m(\u001b[49m\u001b[43mx\u001b[49m\u001b[43m,\u001b[49m\u001b[43m \u001b[49m\u001b[43my\u001b[49m\u001b[43m,\u001b[49m\u001b[43m \u001b[49m\u001b[43mhue\u001b[49m\u001b[43m,\u001b[49m\u001b[43m \u001b[49m\u001b[43mdata\u001b[49m\u001b[43m,\u001b[49m\u001b[43m \u001b[49m\u001b[43morder\u001b[49m\u001b[43m,\u001b[49m\u001b[43m \u001b[49m\u001b[43mhue_order\u001b[49m\u001b[43m,\u001b[49m\n\u001b[1;32m   3183\u001b[0m \u001b[43m                          \u001b[49m\u001b[43mestimator\u001b[49m\u001b[43m,\u001b[49m\u001b[43m \u001b[49m\u001b[43mci\u001b[49m\u001b[43m,\u001b[49m\u001b[43m \u001b[49m\u001b[43mn_boot\u001b[49m\u001b[43m,\u001b[49m\u001b[43m \u001b[49m\u001b[43munits\u001b[49m\u001b[43m,\u001b[49m\u001b[43m \u001b[49m\u001b[43mseed\u001b[49m\u001b[43m,\u001b[49m\n\u001b[1;32m   3184\u001b[0m \u001b[43m                          \u001b[49m\u001b[43morient\u001b[49m\u001b[43m,\u001b[49m\u001b[43m \u001b[49m\u001b[43mcolor\u001b[49m\u001b[43m,\u001b[49m\u001b[43m \u001b[49m\u001b[43mpalette\u001b[49m\u001b[43m,\u001b[49m\u001b[43m \u001b[49m\u001b[43msaturation\u001b[49m\u001b[43m,\u001b[49m\n\u001b[1;32m   3185\u001b[0m \u001b[43m                          \u001b[49m\u001b[43merrcolor\u001b[49m\u001b[43m,\u001b[49m\u001b[43m \u001b[49m\u001b[43merrwidth\u001b[49m\u001b[43m,\u001b[49m\u001b[43m \u001b[49m\u001b[43mcapsize\u001b[49m\u001b[43m,\u001b[49m\u001b[43m \u001b[49m\u001b[43mdodge\u001b[49m\u001b[43m)\u001b[49m\n\u001b[1;32m   3187\u001b[0m     \u001b[38;5;28;01mif\u001b[39;00m ax \u001b[38;5;129;01mis\u001b[39;00m \u001b[38;5;28;01mNone\u001b[39;00m:\n\u001b[1;32m   3188\u001b[0m         ax \u001b[38;5;241m=\u001b[39m plt\u001b[38;5;241m.\u001b[39mgca()\n",
      "File \u001b[0;32m/opt/homebrew/anaconda3/lib/python3.9/site-packages/seaborn/categorical.py:1584\u001b[0m, in \u001b[0;36m_BarPlotter.__init__\u001b[0;34m(self, x, y, hue, data, order, hue_order, estimator, ci, n_boot, units, seed, orient, color, palette, saturation, errcolor, errwidth, capsize, dodge)\u001b[0m\n\u001b[1;32m   1579\u001b[0m \u001b[38;5;28;01mdef\u001b[39;00m \u001b[38;5;21m__init__\u001b[39m(\u001b[38;5;28mself\u001b[39m, x, y, hue, data, order, hue_order,\n\u001b[1;32m   1580\u001b[0m              estimator, ci, n_boot, units, seed,\n\u001b[1;32m   1581\u001b[0m              orient, color, palette, saturation, errcolor,\n\u001b[1;32m   1582\u001b[0m              errwidth, capsize, dodge):\n\u001b[1;32m   1583\u001b[0m     \u001b[38;5;124;03m\"\"\"Initialize the plotter.\"\"\"\u001b[39;00m\n\u001b[0;32m-> 1584\u001b[0m     \u001b[38;5;28;43mself\u001b[39;49m\u001b[38;5;241;43m.\u001b[39;49m\u001b[43mestablish_variables\u001b[49m\u001b[43m(\u001b[49m\u001b[43mx\u001b[49m\u001b[43m,\u001b[49m\u001b[43m \u001b[49m\u001b[43my\u001b[49m\u001b[43m,\u001b[49m\u001b[43m \u001b[49m\u001b[43mhue\u001b[49m\u001b[43m,\u001b[49m\u001b[43m \u001b[49m\u001b[43mdata\u001b[49m\u001b[43m,\u001b[49m\u001b[43m \u001b[49m\u001b[43morient\u001b[49m\u001b[43m,\u001b[49m\n\u001b[1;32m   1585\u001b[0m \u001b[43m                             \u001b[49m\u001b[43morder\u001b[49m\u001b[43m,\u001b[49m\u001b[43m \u001b[49m\u001b[43mhue_order\u001b[49m\u001b[43m,\u001b[49m\u001b[43m \u001b[49m\u001b[43munits\u001b[49m\u001b[43m)\u001b[49m\n\u001b[1;32m   1586\u001b[0m     \u001b[38;5;28mself\u001b[39m\u001b[38;5;241m.\u001b[39mestablish_colors(color, palette, saturation)\n\u001b[1;32m   1587\u001b[0m     \u001b[38;5;28mself\u001b[39m\u001b[38;5;241m.\u001b[39mestimate_statistic(estimator, ci, n_boot, seed)\n",
      "File \u001b[0;32m/opt/homebrew/anaconda3/lib/python3.9/site-packages/seaborn/categorical.py:153\u001b[0m, in \u001b[0;36m_CategoricalPlotter.establish_variables\u001b[0;34m(self, x, y, hue, data, orient, order, hue_order, units)\u001b[0m\n\u001b[1;32m    151\u001b[0m     \u001b[38;5;28;01mif\u001b[39;00m \u001b[38;5;28misinstance\u001b[39m(var, \u001b[38;5;28mstr\u001b[39m):\n\u001b[1;32m    152\u001b[0m         err \u001b[38;5;241m=\u001b[39m \u001b[38;5;124m\"\u001b[39m\u001b[38;5;124mCould not interpret input \u001b[39m\u001b[38;5;124m'\u001b[39m\u001b[38;5;132;01m{}\u001b[39;00m\u001b[38;5;124m'\u001b[39m\u001b[38;5;124m\"\u001b[39m\u001b[38;5;241m.\u001b[39mformat(var)\n\u001b[0;32m--> 153\u001b[0m         \u001b[38;5;28;01mraise\u001b[39;00m \u001b[38;5;167;01mValueError\u001b[39;00m(err)\n\u001b[1;32m    155\u001b[0m \u001b[38;5;66;03m# Figure out the plotting orientation\u001b[39;00m\n\u001b[1;32m    156\u001b[0m orient \u001b[38;5;241m=\u001b[39m infer_orient(\n\u001b[1;32m    157\u001b[0m     x, y, orient, require_numeric\u001b[38;5;241m=\u001b[39m\u001b[38;5;28mself\u001b[39m\u001b[38;5;241m.\u001b[39mrequire_numeric\n\u001b[1;32m    158\u001b[0m )\n",
      "\u001b[0;31mValueError\u001b[0m: Could not interpret input 'target'"
     ]
    },
    {
     "data": {
      "image/png": "[encoded data removed]",
      "text/plain": [
       "<Figure size 1200x1800 with 6 Axes>"
      ]
     },
     "metadata": {},
     "output_type": "display_data"
    }
   ],
   "source": [
    "# Visualize the counts with a countplot and hue on the \"target\" column\n",
    "fig, axes = plt.subplots(3, 2, figsize=(12, 18))\n",
    "for i, (ngram_type, most_common) in enumerate([('Unigram', most_common_words),\n",
    "                                                ('Bigram', most_common_bigram),\n",
    "                                                ('Trigram', most_common_trigram)]):\n",
    "    \n",
    "    for j, (target_type, freq_dist) in enumerate(most_common.items()):\n",
    "        \n",
    "        df_freq_dist = pd.DataFrame(freq_dist, columns=[ngram_type, 'Frequency'])\n",
    "        sns.set_style(\"whitegrid\")\n",
    "        # the Plot\n",
    "        sns.barplot(x='Frequency', y=ngram_type, data=df_freq_dist, color=\"skyblue\", ax=axes[i][j], hue='target')\n",
    "        axes[i][j].set_title(f'{ngram_type} Frequency for {target_type} Targets')\n",
    "        axes[i][j].set_xlabel('Frequency')\n",
    "        axes[i][j].set_ylabel(ngram_type)\n",
    "\n",
    "plt.tight_layout()\n",
    "plt.show()"
   ]
  },
  {
   "cell_type": "code",
   "execution_count": null,
   "id": "a0b6397a",
   "metadata": {},
   "outputs": [],
   "source": [
    "# Subset df split of train into only negative values of 'sentiment' column\n",
    "df_neg = train[train['sentiment'].isin(['negative', 'very negative'])]\n",
    "\n",
    "# Tokenize words\n",
    "words = df_neg['cleaned_summary'].str.lower().str.cat(sep=' ').split()\n",
    "\n",
    "# Create a list of additional stopwords\n",
    "additional_stopwords = ['.','1']\n",
    "\n",
    "# Add the additional stopwords to the default set of stopwords\n",
    "stop_words = set(stopwords.words('english') + additional_stopwords)\n",
    "\n",
    "# Remove stopwords\n",
    "words = [word for word in words if word not in stop_words]\n",
    "\n",
    "# Get frequency distribution of words, bigrams, and trigrams\n",
    "freq_dist = nltk.FreqDist(words)\n",
    "freq_dist_bigram = nltk.FreqDist(nltk.bigrams(words))\n",
    "freq_dist_trigram = nltk.FreqDist(nltk.trigrams(words))\n",
    "\n",
    "# Get 50 most common words, bigrams, and trigrams\n",
    "most_common_words = freq_dist.most_common(50)\n",
    "most_common_bigram = freq_dist_bigram.most_common(50)\n",
    "most_common_trigram = freq_dist_trigram.most_common(50)\n",
    "\n",
    "# Convert to dataframes for visualizing ease\n",
    "df_common_words = pd.DataFrame(most_common_words, columns=['Word', 'Frequency'])\n",
    "df_common_bigram = pd.DataFrame(most_common_bigram, columns=['Bigram', 'Frequency'])\n",
    "df_common_trigram = pd.DataFrame(most_common_trigram, columns=['Trigram', 'Frequency'])\n",
    "\n",
    "# Merge with train to add target column\n",
    "df_common_words = df_common_words.merge(df_neg[['title', 'target']], on='title')\n",
    "df_common_bigram = df_common_bigram.merge(df_neg[['title', 'target']], on='title')\n",
    "df_common_trigram = df_common_trigram.merge(df_neg[['title', 'target']], on='title')\n",
    "\n",
    "# Create the count plots\n",
    "plt.figure(figsize=(10, 6))\n",
    "sns.set_style(\"whitegrid\")\n",
    "sns.barplot(x=\"Frequency\", y=\"Word\", hue=\"target\", data=df_common_words.head(10), color=\"skyblue\")\n",
    "plt.title('Frequency of Unigrams')\n",
    "plt.xlabel('Frequency')\n",
    "plt.ylabel('Unigram')\n",
    "plt.show()\n",
    "\n",
    "plt.figure(figsize=(10, 6))\n",
    "sns.set_style(\"whitegrid\")\n",
    "sns.barplot(x=\"Frequency\", y=\"Bigram\", hue=\"target\", data=df_common_bigram.head(10), color=\"skyblue\")\n",
    "plt.title('Frequency of Bigrams')\n",
    "plt.xlabel('Frequency')\n",
    "plt.ylabel('Bigram')\n",
    "plt.show()\n",
    "\n",
    "plt.figure(figsize=(10, 6))\n",
    "sns.set_style(\"whitegrid\")\n",
    "sns.barplot(x=\"Frequency\", y=\"Trigram\", hue=\"target\", data=df_common_trigram.head(10), color=\"skyblue\")\n",
    "plt.title('Frequency of Trigrams')\n",
    "plt.xlabel('Frequency')\n",
    "plt.ylabel('Trigram')\n",
    "plt.show()\n"
   ]
  }
 ],
 "metadata": {
  "kernelspec": {
   "display_name": "Python 3 (ipykernel)",
   "language": "python",
   "name": "python3"
  },
  "language_info": {
   "codemirror_mode": {
    "name": "ipython",
    "version": 3
   },
   "file_extension": ".py",
   "mimetype": "text/x-python",
   "name": "python",
   "nbconvert_exporter": "python",
   "pygments_lexer": "ipython3",
   "version": "3.9.13"
  }
 },
 "nbformat": 4,
 "nbformat_minor": 5
}
