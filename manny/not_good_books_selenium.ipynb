{
 "cells": [
  {
   "cell_type": "code",
   "execution_count": 1,
   "id": "ca092452",
   "metadata": {},
   "outputs": [],
   "source": [
    "import pandas as pd\n",
    "import os\n",
    "import re\n",
    "import codecs\n",
    "import requests\n",
    "from bs4 import BeautifulSoup"
   ]
  },
  {
   "cell_type": "code",
   "execution_count": 2,
   "id": "6c6e3ed0",
   "metadata": {},
   "outputs": [],
   "source": [
    "from selenium import webdriver\n",
    "from selenium.webdriver.common.by import By\n",
    "from selenium.webdriver.support.ui import WebDriverWait\n",
    "from selenium.webdriver.support import expected_conditions as EC\n",
    "from selenium.webdriver.common.keys import Keys"
   ]
  },
  {
   "cell_type": "markdown",
   "id": "c858b578",
   "metadata": {},
   "source": [
    "# Acquire"
   ]
  },
  {
   "cell_type": "code",
   "execution_count": 3,
   "id": "90cf51d9",
   "metadata": {},
   "outputs": [],
   "source": [
    "filename = 'book30-listing-train.csv'"
   ]
  },
  {
   "cell_type": "code",
   "execution_count": 4,
   "id": "01554cff",
   "metadata": {},
   "outputs": [],
   "source": [
    "header_names = ['Amazon ID (ASIN)', 'Filename', 'Image URL', 'Title', 'Author', 'Category ID',\n",
    "                'Category']\n",
    "with codecs.open(filename, mode='r', encoding='utf-8', errors='ignore') as f:\n",
    "    df = pd.read_csv(f, delimiter=\",\", header=None, names=header_names)"
   ]
  },
  {
   "cell_type": "markdown",
   "id": "add53d29",
   "metadata": {},
   "source": [
    "# Subset Dataframe"
   ]
  },
  {
   "cell_type": "code",
   "execution_count": 5,
   "id": "5af684e5",
   "metadata": {},
   "outputs": [],
   "source": [
    "df = df[['Author','Title','Category']]"
   ]
  },
  {
   "cell_type": "code",
   "execution_count": 6,
   "id": "bd4715f7",
   "metadata": {},
   "outputs": [],
   "source": [
    "keeper_columns = ['Romance','Mystery, Thrillers & Suspense',\n",
    "                  'Teen & Young Adult','Science Fiction & Fantasy',\n",
    "                  'Literature & Fiction','Humor & Entertainment',\n",
    "                  ]"
   ]
  },
  {
   "cell_type": "code",
   "execution_count": 7,
   "id": "6e696261",
   "metadata": {},
   "outputs": [],
   "source": [
    "df = df[df['Category'].isin(keeper_columns)]"
   ]
  },
  {
   "cell_type": "markdown",
   "id": "83c72651",
   "metadata": {},
   "source": [
    "# Nulls"
   ]
  },
  {
   "cell_type": "code",
   "execution_count": 8,
   "id": "4803ddef",
   "metadata": {},
   "outputs": [],
   "source": [
    "df = df.dropna()"
   ]
  },
  {
   "cell_type": "code",
   "execution_count": 9,
   "id": "86b8443f",
   "metadata": {},
   "outputs": [],
   "source": [
    "df = df.reset_index(drop=True)"
   ]
  },
  {
   "cell_type": "code",
   "execution_count": 10,
   "id": "8714a969",
   "metadata": {},
   "outputs": [],
   "source": [
    "def clean_column(df, column):\n",
    "    # Convert column to lowercase and remove text inside parentheses\n",
    "    df['temp'] = df[column].str.lower().replace(r'\\([^()]*\\)', '', regex=True)\n",
    "\n",
    "    # Remove text after colon or hyphen\n",
    "    df['temp'] = df['temp'].str.split(r'[:\\-]').str[0]\n",
    "\n",
    "    # Remove extra whitespace\n",
    "    df['temp'] = df['temp'].str.replace(r'\\s+', ' ', regex=True).str.strip()\n",
    "\n",
    "    # Modify DataFrame with new column\n",
    "    new_column = f'cleaned_{column}'\n",
    "    df[new_column] = df['temp']\n",
    "\n",
    "    # Remove temporary column\n",
    "    df = df.drop(columns=['temp'])\n",
    "\n",
    "    return df"
   ]
  },
  {
   "cell_type": "markdown",
   "id": "9e6ef912",
   "metadata": {},
   "source": [
    "# Clean"
   ]
  },
  {
   "cell_type": "code",
   "execution_count": 11,
   "id": "6c91b01b",
   "metadata": {},
   "outputs": [],
   "source": [
    "df = clean_column(df,'Title')"
   ]
  },
  {
   "cell_type": "code",
   "execution_count": 12,
   "id": "5e5d3c34",
   "metadata": {},
   "outputs": [],
   "source": [
    "df = clean_column(df,'Author')"
   ]
  },
  {
   "cell_type": "code",
   "execution_count": 13,
   "id": "3dd83cea",
   "metadata": {},
   "outputs": [
    {
     "data": {
      "text/html": [
       "<div>\n",
       "<style scoped>\n",
       "    .dataframe tbody tr th:only-of-type {\n",
       "        vertical-align: middle;\n",
       "    }\n",
       "\n",
       "    .dataframe tbody tr th {\n",
       "        vertical-align: top;\n",
       "    }\n",
       "\n",
       "    .dataframe thead th {\n",
       "        text-align: right;\n",
       "    }\n",
       "</style>\n",
       "<table border=\"1\" class=\"dataframe\">\n",
       "  <thead>\n",
       "    <tr style=\"text-align: right;\">\n",
       "      <th></th>\n",
       "      <th>Author</th>\n",
       "      <th>Title</th>\n",
       "      <th>Category</th>\n",
       "      <th>cleaned_Title</th>\n",
       "      <th>cleaned_Author</th>\n",
       "    </tr>\n",
       "  </thead>\n",
       "  <tbody>\n",
       "    <tr>\n",
       "      <th>3278</th>\n",
       "      <td>Joshua Jay</td>\n",
       "      <td>Magic: The Complete Course</td>\n",
       "      <td>Humor &amp; Entertainment</td>\n",
       "      <td>magic</td>\n",
       "      <td>joshua jay</td>\n",
       "    </tr>\n",
       "    <tr>\n",
       "      <th>4175</th>\n",
       "      <td>C. S. Lewis</td>\n",
       "      <td>The Complete C. S. Lewis Signature Classics</td>\n",
       "      <td>Literature &amp; Fiction</td>\n",
       "      <td>the complete c. s. lewis signature classics</td>\n",
       "      <td>c. s. lewis</td>\n",
       "    </tr>\n",
       "    <tr>\n",
       "      <th>3438</th>\n",
       "      <td>Will Tipton</td>\n",
       "      <td>Expert Heads Up No Limit Hold'em Play: Strateg...</td>\n",
       "      <td>Humor &amp; Entertainment</td>\n",
       "      <td>expert heads up no limit hold'em play</td>\n",
       "      <td>will tipton</td>\n",
       "    </tr>\n",
       "    <tr>\n",
       "      <th>4721</th>\n",
       "      <td>Roman Espejo</td>\n",
       "      <td>Eco-Architecture (Opposing Viewpoints)</td>\n",
       "      <td>Teen &amp; Young Adult</td>\n",
       "      <td>eco</td>\n",
       "      <td>roman espejo</td>\n",
       "    </tr>\n",
       "    <tr>\n",
       "      <th>1462</th>\n",
       "      <td>Tom Shippey</td>\n",
       "      <td>The Road to Middle-Earth: How J.R.R. Tolkien C...</td>\n",
       "      <td>Science Fiction &amp; Fantasy</td>\n",
       "      <td>the road to middle</td>\n",
       "      <td>tom shippey</td>\n",
       "    </tr>\n",
       "  </tbody>\n",
       "</table>\n",
       "</div>"
      ],
      "text/plain": [
       "            Author                                              Title  \\\n",
       "3278    Joshua Jay                         Magic: The Complete Course   \n",
       "4175   C. S. Lewis        The Complete C. S. Lewis Signature Classics   \n",
       "3438   Will Tipton  Expert Heads Up No Limit Hold'em Play: Strateg...   \n",
       "4721  Roman Espejo             Eco-Architecture (Opposing Viewpoints)   \n",
       "1462   Tom Shippey  The Road to Middle-Earth: How J.R.R. Tolkien C...   \n",
       "\n",
       "                       Category                                cleaned_Title  \\\n",
       "3278      Humor & Entertainment                                        magic   \n",
       "4175       Literature & Fiction  the complete c. s. lewis signature classics   \n",
       "3438      Humor & Entertainment        expert heads up no limit hold'em play   \n",
       "4721         Teen & Young Adult                                          eco   \n",
       "1462  Science Fiction & Fantasy                           the road to middle   \n",
       "\n",
       "     cleaned_Author  \n",
       "3278     joshua jay  \n",
       "4175    c. s. lewis  \n",
       "3438    will tipton  \n",
       "4721   roman espejo  \n",
       "1462    tom shippey  "
      ]
     },
     "execution_count": 13,
     "metadata": {},
     "output_type": "execute_result"
    }
   ],
   "source": [
    "df.sample(5)"
   ]
  },
  {
   "cell_type": "code",
   "execution_count": 14,
   "id": "df4aa2e6",
   "metadata": {},
   "outputs": [],
   "source": [
    "title = df['cleaned_Title']\n",
    "author = df['cleaned_Author']"
   ]
  },
  {
   "cell_type": "code",
   "execution_count": 15,
   "id": "edf74307",
   "metadata": {},
   "outputs": [
    {
     "data": {
      "text/plain": [
       "'Breaking News (Godmothers, Book 5) (The Godmothers)'"
      ]
     },
     "execution_count": 15,
     "metadata": {},
     "output_type": "execute_result"
    }
   ],
   "source": [
    "df['Title'].iloc[0]"
   ]
  },
  {
   "cell_type": "code",
   "execution_count": 16,
   "id": "4c1bd6da",
   "metadata": {},
   "outputs": [
    {
     "data": {
      "text/plain": [
       "'breaking news'"
      ]
     },
     "execution_count": 16,
     "metadata": {},
     "output_type": "execute_result"
    }
   ],
   "source": [
    "df['cleaned_Title'].iloc[0]"
   ]
  },
  {
   "cell_type": "markdown",
   "id": "bfa83fd1",
   "metadata": {},
   "source": [
    "# Does The Concept Work?"
   ]
  },
  {
   "cell_type": "markdown",
   "id": "d87acc30",
   "metadata": {},
   "source": [
    "# - Selenium -"
   ]
  },
  {
   "cell_type": "markdown",
   "id": "dd0a9719",
   "metadata": {},
   "source": [
    "### Open Browser"
   ]
  },
  {
   "cell_type": "code",
   "execution_count": 17,
   "id": "5ad9e0ae",
   "metadata": {},
   "outputs": [],
   "source": [
    "driver = webdriver.Chrome()\n",
    "driver.get(\"https://www.goodreads.com/book/show/3450744-nudge\")"
   ]
  },
  {
   "cell_type": "markdown",
   "id": "4f1d43a3",
   "metadata": {},
   "source": [
    "#### Clicked Search"
   ]
  },
  {
   "cell_type": "code",
   "execution_count": 18,
   "id": "416d7542",
   "metadata": {},
   "outputs": [],
   "source": [
    "search_bar = driver.find_element_by_xpath('//*[@id=\"Header\"]/div[2]/div[2]/section/form/input[1]')\n",
    "search_bar.send_keys(title.iloc[0] + \" \" + author.iloc[0])\n",
    "search_bar.submit()"
   ]
  },
  {
   "cell_type": "code",
   "execution_count": 19,
   "id": "fbd68207",
   "metadata": {},
   "outputs": [],
   "source": [
    "links = driver.find_element_by_class_name('bookTitle')"
   ]
  },
  {
   "cell_type": "markdown",
   "id": "ad3b31cb",
   "metadata": {},
   "source": [
    "### Extracted Link from 1st Search Result using Selenium"
   ]
  },
  {
   "cell_type": "code",
   "execution_count": 20,
   "id": "6f21da86",
   "metadata": {
    "scrolled": true
   },
   "outputs": [],
   "source": [
    "the_link = links.get_attribute('href')"
   ]
  },
  {
   "cell_type": "markdown",
   "id": "4160cea7",
   "metadata": {},
   "source": [
    "# It Does!"
   ]
  },
  {
   "cell_type": "code",
   "execution_count": 21,
   "id": "34307895",
   "metadata": {},
   "outputs": [
    {
     "name": "stdout",
     "output_type": "stream",
     "text": [
      "https://www.goodreads.com/book/show/13771831-breaking-news?from_search=true&from_srp=true&qid=hgai78Yaum&rank=1\n"
     ]
    }
   ],
   "source": [
    "print(the_link)"
   ]
  },
  {
   "cell_type": "markdown",
   "id": "307124bf",
   "metadata": {},
   "source": [
    "# Deliverable"
   ]
  },
  {
   "cell_type": "markdown",
   "id": "3d6ca928",
   "metadata": {},
   "source": [
    "- 2000 links"
   ]
  },
  {
   "cell_type": "markdown",
   "id": "651b5000",
   "metadata": {},
   "source": [
    "# Loop Function"
   ]
  },
  {
   "cell_type": "markdown",
   "id": "0e0346d0",
   "metadata": {},
   "source": [
    "<hr style=\"border:2px solid gray\">"
   ]
  },
  {
   "cell_type": "code",
   "execution_count": 22,
   "id": "52a395a2",
   "metadata": {},
   "outputs": [
    {
     "data": {
      "text/html": [
       "<div>\n",
       "<style scoped>\n",
       "    .dataframe tbody tr th:only-of-type {\n",
       "        vertical-align: middle;\n",
       "    }\n",
       "\n",
       "    .dataframe tbody tr th {\n",
       "        vertical-align: top;\n",
       "    }\n",
       "\n",
       "    .dataframe thead th {\n",
       "        text-align: right;\n",
       "    }\n",
       "</style>\n",
       "<table border=\"1\" class=\"dataframe\">\n",
       "  <thead>\n",
       "    <tr style=\"text-align: right;\">\n",
       "      <th></th>\n",
       "      <th>Author</th>\n",
       "      <th>Title</th>\n",
       "      <th>Category</th>\n",
       "      <th>cleaned_Title</th>\n",
       "      <th>cleaned_Author</th>\n",
       "    </tr>\n",
       "  </thead>\n",
       "  <tbody>\n",
       "    <tr>\n",
       "      <th>0</th>\n",
       "      <td>Fern Michaels</td>\n",
       "      <td>Breaking News (Godmothers, Book 5) (The Godmot...</td>\n",
       "      <td>Literature &amp; Fiction</td>\n",
       "      <td>breaking news</td>\n",
       "      <td>fern michaels</td>\n",
       "    </tr>\n",
       "    <tr>\n",
       "      <th>1</th>\n",
       "      <td>Joke Star Funny Bones Mr.</td>\n",
       "      <td>Jokes, Jokes and More Jokes: Hilarious Adult H...</td>\n",
       "      <td>Humor &amp; Entertainment</td>\n",
       "      <td>jokes, jokes and more jokes</td>\n",
       "      <td>joke star funny bones mr.</td>\n",
       "    </tr>\n",
       "    <tr>\n",
       "      <th>2</th>\n",
       "      <td>George Gordon Byron</td>\n",
       "      <td>Byron's Poetry and Prose (Norton Critical Edit...</td>\n",
       "      <td>Literature &amp; Fiction</td>\n",
       "      <td>byron's poetry and prose</td>\n",
       "      <td>george gordon byron</td>\n",
       "    </tr>\n",
       "    <tr>\n",
       "      <th>3</th>\n",
       "      <td>Millie Marotta</td>\n",
       "      <td>Tropical World: A Coloring Book Adventure (A M...</td>\n",
       "      <td>Humor &amp; Entertainment</td>\n",
       "      <td>tropical world</td>\n",
       "      <td>millie marotta</td>\n",
       "    </tr>\n",
       "    <tr>\n",
       "      <th>4</th>\n",
       "      <td>Micheal Kratom</td>\n",
       "      <td>Legally Stoned: The Most Effective Substances ...</td>\n",
       "      <td>Humor &amp; Entertainment</td>\n",
       "      <td>legally stoned</td>\n",
       "      <td>micheal kratom</td>\n",
       "    </tr>\n",
       "  </tbody>\n",
       "</table>\n",
       "</div>"
      ],
      "text/plain": [
       "                      Author  \\\n",
       "0              Fern Michaels   \n",
       "1  Joke Star Funny Bones Mr.   \n",
       "2        George Gordon Byron   \n",
       "3             Millie Marotta   \n",
       "4             Micheal Kratom   \n",
       "\n",
       "                                               Title               Category  \\\n",
       "0  Breaking News (Godmothers, Book 5) (The Godmot...   Literature & Fiction   \n",
       "1  Jokes, Jokes and More Jokes: Hilarious Adult H...  Humor & Entertainment   \n",
       "2  Byron's Poetry and Prose (Norton Critical Edit...   Literature & Fiction   \n",
       "3  Tropical World: A Coloring Book Adventure (A M...  Humor & Entertainment   \n",
       "4  Legally Stoned: The Most Effective Substances ...  Humor & Entertainment   \n",
       "\n",
       "                 cleaned_Title             cleaned_Author  \n",
       "0                breaking news              fern michaels  \n",
       "1  jokes, jokes and more jokes  joke star funny bones mr.  \n",
       "2     byron's poetry and prose        george gordon byron  \n",
       "3               tropical world             millie marotta  \n",
       "4               legally stoned             micheal kratom  "
      ]
     },
     "execution_count": 22,
     "metadata": {},
     "output_type": "execute_result"
    }
   ],
   "source": [
    "df.head()"
   ]
  },
  {
   "cell_type": "markdown",
   "id": "0d0a940b",
   "metadata": {},
   "source": [
    "### Keeper Columns"
   ]
  },
  {
   "cell_type": "code",
   "execution_count": 23,
   "id": "4fcafe8a",
   "metadata": {
    "scrolled": true
   },
   "outputs": [],
   "source": [
    "working_list = df[['cleaned_Author','cleaned_Title','Category']]"
   ]
  },
  {
   "cell_type": "markdown",
   "id": "fde5e089",
   "metadata": {},
   "source": [
    "### Rename Columns"
   ]
  },
  {
   "cell_type": "code",
   "execution_count": 24,
   "id": "3f7ac9fa",
   "metadata": {},
   "outputs": [],
   "source": [
    "working_list.columns = ['Author','Title','Category']"
   ]
  },
  {
   "cell_type": "markdown",
   "id": "e72f47c9",
   "metadata": {},
   "source": [
    "# The Working List"
   ]
  },
  {
   "cell_type": "code",
   "execution_count": 25,
   "id": "16aa8f0a",
   "metadata": {},
   "outputs": [
    {
     "data": {
      "text/html": [
       "<div>\n",
       "<style scoped>\n",
       "    .dataframe tbody tr th:only-of-type {\n",
       "        vertical-align: middle;\n",
       "    }\n",
       "\n",
       "    .dataframe tbody tr th {\n",
       "        vertical-align: top;\n",
       "    }\n",
       "\n",
       "    .dataframe thead th {\n",
       "        text-align: right;\n",
       "    }\n",
       "</style>\n",
       "<table border=\"1\" class=\"dataframe\">\n",
       "  <thead>\n",
       "    <tr style=\"text-align: right;\">\n",
       "      <th></th>\n",
       "      <th>Author</th>\n",
       "      <th>Title</th>\n",
       "      <th>Category</th>\n",
       "    </tr>\n",
       "  </thead>\n",
       "  <tbody>\n",
       "    <tr>\n",
       "      <th>0</th>\n",
       "      <td>fern michaels</td>\n",
       "      <td>breaking news</td>\n",
       "      <td>Literature &amp; Fiction</td>\n",
       "    </tr>\n",
       "    <tr>\n",
       "      <th>1</th>\n",
       "      <td>joke star funny bones mr.</td>\n",
       "      <td>jokes, jokes and more jokes</td>\n",
       "      <td>Humor &amp; Entertainment</td>\n",
       "    </tr>\n",
       "    <tr>\n",
       "      <th>2</th>\n",
       "      <td>george gordon byron</td>\n",
       "      <td>byron's poetry and prose</td>\n",
       "      <td>Literature &amp; Fiction</td>\n",
       "    </tr>\n",
       "    <tr>\n",
       "      <th>3</th>\n",
       "      <td>millie marotta</td>\n",
       "      <td>tropical world</td>\n",
       "      <td>Humor &amp; Entertainment</td>\n",
       "    </tr>\n",
       "    <tr>\n",
       "      <th>4</th>\n",
       "      <td>micheal kratom</td>\n",
       "      <td>legally stoned</td>\n",
       "      <td>Humor &amp; Entertainment</td>\n",
       "    </tr>\n",
       "  </tbody>\n",
       "</table>\n",
       "</div>"
      ],
      "text/plain": [
       "                      Author                        Title  \\\n",
       "0              fern michaels                breaking news   \n",
       "1  joke star funny bones mr.  jokes, jokes and more jokes   \n",
       "2        george gordon byron     byron's poetry and prose   \n",
       "3             millie marotta               tropical world   \n",
       "4             micheal kratom               legally stoned   \n",
       "\n",
       "                Category  \n",
       "0   Literature & Fiction  \n",
       "1  Humor & Entertainment  \n",
       "2   Literature & Fiction  \n",
       "3  Humor & Entertainment  \n",
       "4  Humor & Entertainment  "
      ]
     },
     "execution_count": 25,
     "metadata": {},
     "output_type": "execute_result"
    }
   ],
   "source": [
    "working_list.head()"
   ]
  },
  {
   "cell_type": "markdown",
   "id": "aa0b3159",
   "metadata": {},
   "source": [
    "# Testing The Scrape Loop Function"
   ]
  },
  {
   "cell_type": "code",
   "execution_count": 31,
   "id": "0030f331",
   "metadata": {},
   "outputs": [],
   "source": [
    "def get_bad_books_links(df):\n",
    "    # Check if links.txt exists, read the last link as the starter_link\n",
    "    if os.path.exists(\"links.txt\"):\n",
    "        with open(\"links.txt\", \"r\") as file:\n",
    "            lines = file.readlines()\n",
    "            starter_link = lines[-1].strip()\n",
    "    else:\n",
    "        starter_link = \"https://www.goodreads.com/book/show/3450744-nudge\"\n",
    "\n",
    "    # Add new column called 'link' to df\n",
    "    df['link'] = \"\"\n",
    "\n",
    "    driver = webdriver.Chrome()\n",
    "\n",
    "    # Open a text file for writing\n",
    "    with open(\"links.txt\", \"a\") as file:\n",
    "\n",
    "        # If row_index.txt exists, read the last index and start from the next row\n",
    "        if os.path.exists(\"row_index.txt\"):\n",
    "            with open(\"row_index.txt\", \"r\") as index_file:\n",
    "                last_index = int(index_file.read().strip())\n",
    "                start_index = last_index + 1\n",
    "        else:\n",
    "            start_index = 0\n",
    "\n",
    "        for index, row in df.iloc[start_index:].iterrows():\n",
    "            # loading initial webpage\n",
    "            driver.get(starter_link)\n",
    "\n",
    "            # current row content to use in query\n",
    "            title = row['Title']\n",
    "            author = row['Author']\n",
    "\n",
    "            try:\n",
    "                # add wait for page to finish loading\n",
    "                WebDriverWait(driver, 10).until(EC.visibility_of_element_located((By.XPATH, '//*[@id=\"Header\"]/div[2]/div[2]/section/form/input[1]')))\n",
    "\n",
    "                # search GoodReads for \"title author\"\n",
    "                search_bar = driver.find_element_by_xpath('//*[@id=\"Header\"]/div[2]/div[2]/section/form/input[1]')\n",
    "                search_bar.send_keys(title + \" \" + author)\n",
    "                search_bar.submit()\n",
    "\n",
    "                # add wait for page to finish loading\n",
    "                WebDriverWait(driver, 10).until(EC.visibility_of_element_located((By.CLASS_NAME, 'bookTitle')))\n",
    "\n",
    "                # extract 1st search result link from page\n",
    "                links = driver.find_element_by_class_name('bookTitle')\n",
    "                row_value = links.get_attribute('href')\n",
    "\n",
    "                # append value to new column called 'link'\n",
    "                df.at[index, 'link'] = row_value\n",
    "\n",
    "                # Update starter_link\n",
    "                starter_link = row_value\n",
    "\n",
    "                # Write the row_value to the text file\n",
    "                file.write(f\"{row_value}\\n\")\n",
    "\n",
    "            except:\n",
    "                # If no search results or timeout, continue to the next row\n",
    "                continue\n",
    "\n",
    "            finally:\n",
    "                # Save current row index to row_index.txt\n",
    "                with open(\"row_index.txt\", \"w\") as index_file:\n",
    "                    index_file.write(str(index))\n",
    "\n",
    "    driver.quit()\n",
    "    return df"
   ]
  },
  {
   "cell_type": "code",
   "execution_count": null,
   "id": "0c1113b7",
   "metadata": {
    "scrolled": true
   },
   "outputs": [
    {
     "name": "stderr",
     "output_type": "stream",
     "text": [
      "/var/folders/kx/y9k75c0504q4cdb8ztj47k840000gn/T/ipykernel_26966/3533117981.py:11: SettingWithCopyWarning: \n",
      "A value is trying to be set on a copy of a slice from a DataFrame.\n",
      "Try using .loc[row_indexer,col_indexer] = value instead\n",
      "\n",
      "See the caveats in the documentation: https://pandas.pydata.org/pandas-docs/stable/user_guide/indexing.html#returning-a-view-versus-a-copy\n",
      "  df['link'] = \"\"\n"
     ]
    }
   ],
   "source": [
    "the_links = get_bad_books_links(working_list)"
   ]
  },
  {
   "cell_type": "code",
   "execution_count": null,
   "id": "ae68636d",
   "metadata": {},
   "outputs": [],
   "source": []
  }
 ],
 "metadata": {
  "kernelspec": {
   "display_name": "Python 3 (ipykernel)",
   "language": "python",
   "name": "python3"
  },
  "language_info": {
   "codemirror_mode": {
    "name": "ipython",
    "version": 3
   },
   "file_extension": ".py",
   "mimetype": "text/x-python",
   "name": "python",
   "nbconvert_exporter": "python",
   "pygments_lexer": "ipython3",
   "version": "3.9.13"
  }
 },
 "nbformat": 4,
 "nbformat_minor": 5
}
