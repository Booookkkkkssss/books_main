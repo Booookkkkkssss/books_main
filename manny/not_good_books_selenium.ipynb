{
 "cells": [
  {
   "cell_type": "code",
   "execution_count": 1,
   "id": "ca092452",
   "metadata": {},
   "outputs": [],
   "source": [
    "import pandas as pd\n",
    "import os\n",
    "import re\n",
    "import codecs\n",
    "import requests\n",
    "from bs4 import BeautifulSoup\n",
    "from selenium import webdriver"
   ]
  },
  {
   "cell_type": "code",
   "execution_count": 2,
   "id": "6c6e3ed0",
   "metadata": {},
   "outputs": [],
   "source": [
    "from selenium.webdriver.common.by import By\n",
    "from selenium.webdriver.support.ui import WebDriverWait\n",
    "from selenium.webdriver.support import expected_conditions as EC"
   ]
  },
  {
   "cell_type": "markdown",
   "id": "c858b578",
   "metadata": {},
   "source": [
    "# Acquire"
   ]
  },
  {
   "cell_type": "code",
   "execution_count": 3,
   "id": "90cf51d9",
   "metadata": {},
   "outputs": [],
   "source": [
    "filename = 'book30-listing-train.csv'"
   ]
  },
  {
   "cell_type": "code",
   "execution_count": 4,
   "id": "01554cff",
   "metadata": {},
   "outputs": [],
   "source": [
    "header_names = ['Amazon ID (ASIN)', 'Filename', 'Image URL', 'Title', 'Author', 'Category ID',\n",
    "                'Category']\n",
    "with codecs.open(filename, mode='r', encoding='utf-8', errors='ignore') as f:\n",
    "    df = pd.read_csv(f, delimiter=\",\", header=None, names=header_names)"
   ]
  },
  {
   "cell_type": "markdown",
   "id": "add53d29",
   "metadata": {},
   "source": [
    "# Subset Dataframe"
   ]
  },
  {
   "cell_type": "code",
   "execution_count": 5,
   "id": "5af684e5",
   "metadata": {},
   "outputs": [],
   "source": [
    "df = df[['Author','Title','Category']]"
   ]
  },
  {
   "cell_type": "code",
   "execution_count": 6,
   "id": "bd4715f7",
   "metadata": {},
   "outputs": [],
   "source": [
    "keeper_columns = ['Romance','Mystery, Thrillers & Suspense',\n",
    "                  'Teen & Young Adult','Science Fiction & Fantasy',\n",
    "                  'Literature & Fiction','Humor & Entertainment',\n",
    "                  ]"
   ]
  },
  {
   "cell_type": "code",
   "execution_count": 7,
   "id": "6e696261",
   "metadata": {},
   "outputs": [],
   "source": [
    "df = df[df['Category'].isin(keeper_columns)]"
   ]
  },
  {
   "cell_type": "markdown",
   "id": "83c72651",
   "metadata": {},
   "source": [
    "# Nulls"
   ]
  },
  {
   "cell_type": "code",
   "execution_count": 8,
   "id": "4803ddef",
   "metadata": {},
   "outputs": [],
   "source": [
    "df = df.dropna()"
   ]
  },
  {
   "cell_type": "code",
   "execution_count": 9,
   "id": "86b8443f",
   "metadata": {},
   "outputs": [],
   "source": [
    "df = df.reset_index(drop=True)"
   ]
  },
  {
   "cell_type": "code",
   "execution_count": 10,
   "id": "8714a969",
   "metadata": {},
   "outputs": [],
   "source": [
    "def clean_column(df, column):\n",
    "    # Convert column to lowercase and remove text inside parentheses\n",
    "    df['temp'] = df[column].str.lower().replace(r'\\([^()]*\\)', '', regex=True)\n",
    "\n",
    "    # Remove text after colon or hyphen\n",
    "    df['temp'] = df['temp'].str.split(r'[:\\-]').str[0]\n",
    "\n",
    "    # Remove extra whitespace\n",
    "    df['temp'] = df['temp'].str.replace(r'\\s+', ' ', regex=True).str.strip()\n",
    "\n",
    "    # Modify DataFrame with new column\n",
    "    new_column = f'cleaned_{column}'\n",
    "    df[new_column] = df['temp']\n",
    "\n",
    "    # Remove temporary column\n",
    "    df = df.drop(columns=['temp'])\n",
    "\n",
    "    return df"
   ]
  },
  {
   "cell_type": "markdown",
   "id": "9e6ef912",
   "metadata": {},
   "source": [
    "# Clean"
   ]
  },
  {
   "cell_type": "code",
   "execution_count": 11,
   "id": "6c91b01b",
   "metadata": {},
   "outputs": [],
   "source": [
    "df = clean_column(df,'Title')"
   ]
  },
  {
   "cell_type": "code",
   "execution_count": 12,
   "id": "5e5d3c34",
   "metadata": {},
   "outputs": [],
   "source": [
    "df = clean_column(df,'Author')"
   ]
  },
  {
   "cell_type": "code",
   "execution_count": 13,
   "id": "3dd83cea",
   "metadata": {},
   "outputs": [
    {
     "data": {
      "text/html": [
       "<div>\n",
       "<style scoped>\n",
       "    .dataframe tbody tr th:only-of-type {\n",
       "        vertical-align: middle;\n",
       "    }\n",
       "\n",
       "    .dataframe tbody tr th {\n",
       "        vertical-align: top;\n",
       "    }\n",
       "\n",
       "    .dataframe thead th {\n",
       "        text-align: right;\n",
       "    }\n",
       "</style>\n",
       "<table border=\"1\" class=\"dataframe\">\n",
       "  <thead>\n",
       "    <tr style=\"text-align: right;\">\n",
       "      <th></th>\n",
       "      <th>Author</th>\n",
       "      <th>Title</th>\n",
       "      <th>Category</th>\n",
       "      <th>cleaned_Title</th>\n",
       "      <th>cleaned_Author</th>\n",
       "    </tr>\n",
       "  </thead>\n",
       "  <tbody>\n",
       "    <tr>\n",
       "      <th>2704</th>\n",
       "      <td>Donna Grant</td>\n",
       "      <td>Darkest Flame (Dark Kings)</td>\n",
       "      <td>Literature &amp; Fiction</td>\n",
       "      <td>darkest flame</td>\n",
       "      <td>donna grant</td>\n",
       "    </tr>\n",
       "    <tr>\n",
       "      <th>2991</th>\n",
       "      <td>Mandy Levy</td>\n",
       "      <td>Calorie Accounting: The Foolproof Diet-by-Numb...</td>\n",
       "      <td>Humor &amp; Entertainment</td>\n",
       "      <td>calorie accounting</td>\n",
       "      <td>mandy levy</td>\n",
       "    </tr>\n",
       "    <tr>\n",
       "      <th>7897</th>\n",
       "      <td>Gregory Benford</td>\n",
       "      <td>Timescape</td>\n",
       "      <td>Science Fiction &amp; Fantasy</td>\n",
       "      <td>timescape</td>\n",
       "      <td>gregory benford</td>\n",
       "    </tr>\n",
       "    <tr>\n",
       "      <th>2803</th>\n",
       "      <td>Mark Lawrence</td>\n",
       "      <td>King of Thorns  (The Broken Empire)</td>\n",
       "      <td>Science Fiction &amp; Fantasy</td>\n",
       "      <td>king of thorns</td>\n",
       "      <td>mark lawrence</td>\n",
       "    </tr>\n",
       "    <tr>\n",
       "      <th>3393</th>\n",
       "      <td>Anonymous</td>\n",
       "      <td>The Pleasures of Cruelty; Being a sequel to th...</td>\n",
       "      <td>Romance</td>\n",
       "      <td>the pleasures of cruelty; being a sequel to th...</td>\n",
       "      <td>anonymous</td>\n",
       "    </tr>\n",
       "  </tbody>\n",
       "</table>\n",
       "</div>"
      ],
      "text/plain": [
       "               Author                                              Title  \\\n",
       "2704      Donna Grant                         Darkest Flame (Dark Kings)   \n",
       "2991       Mandy Levy  Calorie Accounting: The Foolproof Diet-by-Numb...   \n",
       "7897  Gregory Benford                                          Timescape   \n",
       "2803    Mark Lawrence                King of Thorns  (The Broken Empire)   \n",
       "3393        Anonymous  The Pleasures of Cruelty; Being a sequel to th...   \n",
       "\n",
       "                       Category  \\\n",
       "2704       Literature & Fiction   \n",
       "2991      Humor & Entertainment   \n",
       "7897  Science Fiction & Fantasy   \n",
       "2803  Science Fiction & Fantasy   \n",
       "3393                    Romance   \n",
       "\n",
       "                                          cleaned_Title   cleaned_Author  \n",
       "2704                                      darkest flame      donna grant  \n",
       "2991                                 calorie accounting       mandy levy  \n",
       "7897                                          timescape  gregory benford  \n",
       "2803                                     king of thorns    mark lawrence  \n",
       "3393  the pleasures of cruelty; being a sequel to th...        anonymous  "
      ]
     },
     "execution_count": 13,
     "metadata": {},
     "output_type": "execute_result"
    }
   ],
   "source": [
    "df.sample(5)"
   ]
  },
  {
   "cell_type": "code",
   "execution_count": 14,
   "id": "df4aa2e6",
   "metadata": {},
   "outputs": [],
   "source": [
    "title = df['cleaned_Title']\n",
    "author = df['cleaned_Author']"
   ]
  },
  {
   "cell_type": "code",
   "execution_count": null,
   "id": "b4075949",
   "metadata": {},
   "outputs": [],
   "source": [
    "df['Title'].iloc[0]"
   ]
  },
  {
   "cell_type": "code",
   "execution_count": null,
   "id": "053969db",
   "metadata": {},
   "outputs": [],
   "source": [
    "df['cleaned_Title'].iloc[0]"
   ]
  },
  {
   "cell_type": "markdown",
   "id": "d87acc30",
   "metadata": {},
   "source": [
    "# Selenium"
   ]
  },
  {
   "cell_type": "markdown",
   "id": "25aec89d",
   "metadata": {},
   "source": [
    "### Open Browser"
   ]
  },
  {
   "cell_type": "code",
   "execution_count": 15,
   "id": "5ad9e0ae",
   "metadata": {},
   "outputs": [],
   "source": [
    "driver = webdriver.Chrome()\n",
    "driver.get(\"https://www.goodreads.com/book/show/3450744-nudge\")"
   ]
  },
  {
   "cell_type": "markdown",
   "id": "4f1d43a3",
   "metadata": {},
   "source": [
    "#### Clicked Search"
   ]
  },
  {
   "cell_type": "code",
   "execution_count": 17,
   "id": "e24fcd3e",
   "metadata": {},
   "outputs": [],
   "source": [
    "search_bar = driver.find_element_by_xpath('//*[@id=\"Header\"]/div[2]/div[2]/section/form/input[1]')\n",
    "search_bar.send_keys(title.iloc[0] + \" \" + author.iloc[0])\n",
    "search_bar.submit()"
   ]
  },
  {
   "cell_type": "code",
   "execution_count": 18,
   "id": "fbd68207",
   "metadata": {},
   "outputs": [],
   "source": [
    "links = driver.find_element_by_class_name('bookTitle')"
   ]
  },
  {
   "cell_type": "markdown",
   "id": "fcb8c5ac",
   "metadata": {},
   "source": [
    "### Extracted Link from 1st Search Result using Selenium"
   ]
  },
  {
   "cell_type": "code",
   "execution_count": 19,
   "id": "6f21da86",
   "metadata": {
    "scrolled": true
   },
   "outputs": [
    {
     "data": {
      "text/plain": [
       "'https://www.goodreads.com/book/show/13771831-breaking-news?from_search=true&from_srp=true&qid=3HKP8RaS3f&rank=1'"
      ]
     },
     "execution_count": 19,
     "metadata": {},
     "output_type": "execute_result"
    }
   ],
   "source": [
    "links.get_attribute('href')"
   ]
  },
  {
   "cell_type": "markdown",
   "id": "f0b4f4f3",
   "metadata": {},
   "source": [
    "# Deliverable"
   ]
  },
  {
   "cell_type": "markdown",
   "id": "3def8972",
   "metadata": {},
   "source": [
    "- 2000 links"
   ]
  },
  {
   "cell_type": "markdown",
   "id": "f010f468",
   "metadata": {},
   "source": [
    "# Loop Function"
   ]
  },
  {
   "cell_type": "code",
   "execution_count": 23,
   "id": "2e231ac2",
   "metadata": {},
   "outputs": [
    {
     "data": {
      "text/html": [
       "<div>\n",
       "<style scoped>\n",
       "    .dataframe tbody tr th:only-of-type {\n",
       "        vertical-align: middle;\n",
       "    }\n",
       "\n",
       "    .dataframe tbody tr th {\n",
       "        vertical-align: top;\n",
       "    }\n",
       "\n",
       "    .dataframe thead th {\n",
       "        text-align: right;\n",
       "    }\n",
       "</style>\n",
       "<table border=\"1\" class=\"dataframe\">\n",
       "  <thead>\n",
       "    <tr style=\"text-align: right;\">\n",
       "      <th></th>\n",
       "      <th>Author</th>\n",
       "      <th>Title</th>\n",
       "      <th>Category</th>\n",
       "      <th>cleaned_Title</th>\n",
       "      <th>cleaned_Author</th>\n",
       "    </tr>\n",
       "  </thead>\n",
       "  <tbody>\n",
       "    <tr>\n",
       "      <th>0</th>\n",
       "      <td>Fern Michaels</td>\n",
       "      <td>Breaking News (Godmothers, Book 5) (The Godmot...</td>\n",
       "      <td>Literature &amp; Fiction</td>\n",
       "      <td>breaking news</td>\n",
       "      <td>fern michaels</td>\n",
       "    </tr>\n",
       "    <tr>\n",
       "      <th>1</th>\n",
       "      <td>Joke Star Funny Bones Mr.</td>\n",
       "      <td>Jokes, Jokes and More Jokes: Hilarious Adult H...</td>\n",
       "      <td>Humor &amp; Entertainment</td>\n",
       "      <td>jokes, jokes and more jokes</td>\n",
       "      <td>joke star funny bones mr.</td>\n",
       "    </tr>\n",
       "    <tr>\n",
       "      <th>2</th>\n",
       "      <td>George Gordon Byron</td>\n",
       "      <td>Byron's Poetry and Prose (Norton Critical Edit...</td>\n",
       "      <td>Literature &amp; Fiction</td>\n",
       "      <td>byron's poetry and prose</td>\n",
       "      <td>george gordon byron</td>\n",
       "    </tr>\n",
       "    <tr>\n",
       "      <th>3</th>\n",
       "      <td>Millie Marotta</td>\n",
       "      <td>Tropical World: A Coloring Book Adventure (A M...</td>\n",
       "      <td>Humor &amp; Entertainment</td>\n",
       "      <td>tropical world</td>\n",
       "      <td>millie marotta</td>\n",
       "    </tr>\n",
       "    <tr>\n",
       "      <th>4</th>\n",
       "      <td>Micheal Kratom</td>\n",
       "      <td>Legally Stoned: The Most Effective Substances ...</td>\n",
       "      <td>Humor &amp; Entertainment</td>\n",
       "      <td>legally stoned</td>\n",
       "      <td>micheal kratom</td>\n",
       "    </tr>\n",
       "  </tbody>\n",
       "</table>\n",
       "</div>"
      ],
      "text/plain": [
       "                      Author  \\\n",
       "0              Fern Michaels   \n",
       "1  Joke Star Funny Bones Mr.   \n",
       "2        George Gordon Byron   \n",
       "3             Millie Marotta   \n",
       "4             Micheal Kratom   \n",
       "\n",
       "                                               Title               Category  \\\n",
       "0  Breaking News (Godmothers, Book 5) (The Godmot...   Literature & Fiction   \n",
       "1  Jokes, Jokes and More Jokes: Hilarious Adult H...  Humor & Entertainment   \n",
       "2  Byron's Poetry and Prose (Norton Critical Edit...   Literature & Fiction   \n",
       "3  Tropical World: A Coloring Book Adventure (A M...  Humor & Entertainment   \n",
       "4  Legally Stoned: The Most Effective Substances ...  Humor & Entertainment   \n",
       "\n",
       "                 cleaned_Title             cleaned_Author  \n",
       "0                breaking news              fern michaels  \n",
       "1  jokes, jokes and more jokes  joke star funny bones mr.  \n",
       "2     byron's poetry and prose        george gordon byron  \n",
       "3               tropical world             millie marotta  \n",
       "4               legally stoned             micheal kratom  "
      ]
     },
     "execution_count": 23,
     "metadata": {},
     "output_type": "execute_result"
    }
   ],
   "source": [
    "df.head()"
   ]
  },
  {
   "cell_type": "code",
   "execution_count": 31,
   "id": "d2ff2ee1",
   "metadata": {
    "scrolled": true
   },
   "outputs": [],
   "source": [
    "working_list = df[['cleaned_Author','cleaned_Title','Category']]"
   ]
  },
  {
   "cell_type": "code",
   "execution_count": 32,
   "id": "4422a5b7",
   "metadata": {},
   "outputs": [],
   "source": [
    "working_list.columns = ['Author','Title','Category']"
   ]
  },
  {
   "cell_type": "code",
   "execution_count": 40,
   "id": "b5c847d4",
   "metadata": {},
   "outputs": [
    {
     "data": {
      "text/html": [
       "<div>\n",
       "<style scoped>\n",
       "    .dataframe tbody tr th:only-of-type {\n",
       "        vertical-align: middle;\n",
       "    }\n",
       "\n",
       "    .dataframe tbody tr th {\n",
       "        vertical-align: top;\n",
       "    }\n",
       "\n",
       "    .dataframe thead th {\n",
       "        text-align: right;\n",
       "    }\n",
       "</style>\n",
       "<table border=\"1\" class=\"dataframe\">\n",
       "  <thead>\n",
       "    <tr style=\"text-align: right;\">\n",
       "      <th></th>\n",
       "      <th>Author</th>\n",
       "      <th>Title</th>\n",
       "      <th>Category</th>\n",
       "    </tr>\n",
       "  </thead>\n",
       "  <tbody>\n",
       "    <tr>\n",
       "      <th>0</th>\n",
       "      <td>fern michaels</td>\n",
       "      <td>breaking news</td>\n",
       "      <td>Literature &amp; Fiction</td>\n",
       "    </tr>\n",
       "    <tr>\n",
       "      <th>1</th>\n",
       "      <td>joke star funny bones mr.</td>\n",
       "      <td>jokes, jokes and more jokes</td>\n",
       "      <td>Humor &amp; Entertainment</td>\n",
       "    </tr>\n",
       "    <tr>\n",
       "      <th>2</th>\n",
       "      <td>george gordon byron</td>\n",
       "      <td>byron's poetry and prose</td>\n",
       "      <td>Literature &amp; Fiction</td>\n",
       "    </tr>\n",
       "    <tr>\n",
       "      <th>3</th>\n",
       "      <td>millie marotta</td>\n",
       "      <td>tropical world</td>\n",
       "      <td>Humor &amp; Entertainment</td>\n",
       "    </tr>\n",
       "    <tr>\n",
       "      <th>4</th>\n",
       "      <td>micheal kratom</td>\n",
       "      <td>legally stoned</td>\n",
       "      <td>Humor &amp; Entertainment</td>\n",
       "    </tr>\n",
       "  </tbody>\n",
       "</table>\n",
       "</div>"
      ],
      "text/plain": [
       "                      Author                        Title  \\\n",
       "0              fern michaels                breaking news   \n",
       "1  joke star funny bones mr.  jokes, jokes and more jokes   \n",
       "2        george gordon byron     byron's poetry and prose   \n",
       "3             millie marotta               tropical world   \n",
       "4             micheal kratom               legally stoned   \n",
       "\n",
       "                Category  \n",
       "0   Literature & Fiction  \n",
       "1  Humor & Entertainment  \n",
       "2   Literature & Fiction  \n",
       "3  Humor & Entertainment  \n",
       "4  Humor & Entertainment  "
      ]
     },
     "execution_count": 40,
     "metadata": {},
     "output_type": "execute_result"
    }
   ],
   "source": [
    "working_list.head()"
   ]
  },
  {
   "cell_type": "code",
   "execution_count": 34,
   "id": "181d7573",
   "metadata": {},
   "outputs": [],
   "source": [
    "import pandas as pd\n",
    "from selenium import webdriver\n",
    "from selenium.webdriver.common.keys import Keys\n",
    "from selenium.webdriver.support.ui import WebDriverWait\n",
    "from selenium.webdriver.support import expected_conditions as EC\n",
    "from selenium.webdriver.common.by import By"
   ]
  },
  {
   "cell_type": "code",
   "execution_count": 41,
   "id": "ec04658b",
   "metadata": {},
   "outputs": [],
   "source": [
    "def get_bad_books_links(df):\n",
    "    starter_link = \"https://www.goodreads.com/book/show/3450744-nudge\"\n",
    "    # Add new column called 'link' to df\n",
    "    df['link'] = \"\"\n",
    "\n",
    "    driver = webdriver.Chrome()\n",
    "\n",
    "    for index, row in df.iterrows():\n",
    "        driver.get(starter_link)\n",
    "        title = row['Title']\n",
    "        author = row['Author']\n",
    "\n",
    "        # Add wait for page to finish loading\n",
    "        WebDriverWait(driver, 10).until(EC.visibility_of_element_located((By.XPATH, '//*[@id=\"Header\"]/div[2]/div[2]/section/form/input[1]')))\n",
    "\n",
    "        # search GoodReads for \"title author\"\n",
    "        search_bar = driver.find_element_by_xpath('//*[@id=\"Header\"]/div[2]/div[2]/section/form/input[1]')\n",
    "        search_bar.send_keys(title + \" \" + author)\n",
    "        search_bar.submit()\n",
    "\n",
    "        # Add wait for page to finish loading\n",
    "        WebDriverWait(driver, 10).until(EC.visibility_of_element_located((By.CLASS_NAME, 'bookTitle')))\n",
    "\n",
    "        # extract 1st search result link from page\n",
    "        links = driver.find_element_by_class_name('bookTitle')\n",
    "        row_value = links.get_attribute('href')\n",
    "        \n",
    "        # Append value to new column called 'link'\n",
    "        df.at[index, 'link'] = row_value\n",
    "        \n",
    "        # Update starter_link\n",
    "        starter_link = row_value\n",
    "        \n",
    "    driver.quit()\n",
    "    return df"
   ]
  },
  {
   "cell_type": "code",
   "execution_count": 42,
   "id": "ab1d17f9",
   "metadata": {},
   "outputs": [
    {
     "name": "stderr",
     "output_type": "stream",
     "text": [
      "/var/folders/kx/y9k75c0504q4cdb8ztj47k840000gn/T/ipykernel_25644/2695786669.py:4: SettingWithCopyWarning: \n",
      "A value is trying to be set on a copy of a slice from a DataFrame.\n",
      "Try using .loc[row_indexer,col_indexer] = value instead\n",
      "\n",
      "See the caveats in the documentation: https://pandas.pydata.org/pandas-docs/stable/user_guide/indexing.html#returning-a-view-versus-a-copy\n",
      "  df['link'] = \"\"\n"
     ]
    },
    {
     "ename": "TimeoutException",
     "evalue": "Message: \n",
     "output_type": "error",
     "traceback": [
      "\u001b[0;31m---------------------------------------------------------------------------\u001b[0m",
      "\u001b[0;31mTimeoutException\u001b[0m                          Traceback (most recent call last)",
      "Input \u001b[0;32mIn [42]\u001b[0m, in \u001b[0;36m<cell line: 1>\u001b[0;34m()\u001b[0m\n\u001b[0;32m----> 1\u001b[0m df \u001b[38;5;241m=\u001b[39m \u001b[43mget_bad_books_links\u001b[49m\u001b[43m(\u001b[49m\u001b[43mworking_list\u001b[49m\u001b[43m)\u001b[49m\n",
      "Input \u001b[0;32mIn [41]\u001b[0m, in \u001b[0;36mget_bad_books_links\u001b[0;34m(df)\u001b[0m\n\u001b[1;32m     19\u001b[0m search_bar\u001b[38;5;241m.\u001b[39msubmit()\n\u001b[1;32m     21\u001b[0m \u001b[38;5;66;03m# Add wait for page to finish loading\u001b[39;00m\n\u001b[0;32m---> 22\u001b[0m \u001b[43mWebDriverWait\u001b[49m\u001b[43m(\u001b[49m\u001b[43mdriver\u001b[49m\u001b[43m,\u001b[49m\u001b[43m \u001b[49m\u001b[38;5;241;43m10\u001b[39;49m\u001b[43m)\u001b[49m\u001b[38;5;241;43m.\u001b[39;49m\u001b[43muntil\u001b[49m\u001b[43m(\u001b[49m\u001b[43mEC\u001b[49m\u001b[38;5;241;43m.\u001b[39;49m\u001b[43mvisibility_of_element_located\u001b[49m\u001b[43m(\u001b[49m\u001b[43m(\u001b[49m\u001b[43mBy\u001b[49m\u001b[38;5;241;43m.\u001b[39;49m\u001b[43mCLASS_NAME\u001b[49m\u001b[43m,\u001b[49m\u001b[43m \u001b[49m\u001b[38;5;124;43m'\u001b[39;49m\u001b[38;5;124;43mbookTitle\u001b[39;49m\u001b[38;5;124;43m'\u001b[39;49m\u001b[43m)\u001b[49m\u001b[43m)\u001b[49m\u001b[43m)\u001b[49m\n\u001b[1;32m     24\u001b[0m \u001b[38;5;66;03m# extract 1st search result link from page\u001b[39;00m\n\u001b[1;32m     25\u001b[0m links \u001b[38;5;241m=\u001b[39m driver\u001b[38;5;241m.\u001b[39mfind_element_by_class_name(\u001b[38;5;124m'\u001b[39m\u001b[38;5;124mbookTitle\u001b[39m\u001b[38;5;124m'\u001b[39m)\n",
      "File \u001b[0;32m/opt/homebrew/anaconda3/lib/python3.9/site-packages/selenium/webdriver/support/wait.py:80\u001b[0m, in \u001b[0;36mWebDriverWait.until\u001b[0;34m(self, method, message)\u001b[0m\n\u001b[1;32m     78\u001b[0m     \u001b[38;5;28;01mif\u001b[39;00m time\u001b[38;5;241m.\u001b[39mtime() \u001b[38;5;241m>\u001b[39m end_time:\n\u001b[1;32m     79\u001b[0m         \u001b[38;5;28;01mbreak\u001b[39;00m\n\u001b[0;32m---> 80\u001b[0m \u001b[38;5;28;01mraise\u001b[39;00m TimeoutException(message, screen, stacktrace)\n",
      "\u001b[0;31mTimeoutException\u001b[0m: Message: \n"
     ]
    }
   ],
   "source": [
    "df = get_bad_books_links(working_list)"
   ]
  }
 ],
 "metadata": {
  "kernelspec": {
   "display_name": "Python 3 (ipykernel)",
   "language": "python",
   "name": "python3"
  },
  "language_info": {
   "codemirror_mode": {
    "name": "ipython",
    "version": 3
   },
   "file_extension": ".py",
   "mimetype": "text/x-python",
   "name": "python",
   "nbconvert_exporter": "python",
   "pygments_lexer": "ipython3",
   "version": "3.9.13"
  }
 },
 "nbformat": 4,
 "nbformat_minor": 5
}
