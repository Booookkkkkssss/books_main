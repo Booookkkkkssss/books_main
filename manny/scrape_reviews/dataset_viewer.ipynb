{
 "cells": [
  {
   "cell_type": "code",
   "execution_count": 1,
   "id": "409dada6",
   "metadata": {},
   "outputs": [],
   "source": [
    "import csv\n",
    "import pandas as pd"
   ]
  },
  {
   "cell_type": "code",
   "execution_count": 2,
   "id": "ab074956",
   "metadata": {},
   "outputs": [],
   "source": [
    "filename = 'weekend_dataset.csv'"
   ]
  },
  {
   "cell_type": "code",
   "execution_count": 3,
   "id": "393217c3",
   "metadata": {},
   "outputs": [],
   "source": [
    "df = pd.read_csv(filename)"
   ]
  },
  {
   "cell_type": "code",
   "execution_count": 4,
   "id": "454d3927",
   "metadata": {},
   "outputs": [
    {
     "data": {
      "text/plain": [
       "17"
      ]
     },
     "execution_count": 4,
     "metadata": {},
     "output_type": "execute_result"
    }
   ],
   "source": [
    "df.columns.size"
   ]
  },
  {
   "cell_type": "code",
   "execution_count": 5,
   "id": "177f50c0",
   "metadata": {},
   "outputs": [
    {
     "data": {
      "text/plain": [
       "'Link'"
      ]
     },
     "execution_count": 5,
     "metadata": {},
     "output_type": "execute_result"
    }
   ],
   "source": [
    "df.columns[15]"
   ]
  },
  {
   "cell_type": "code",
   "execution_count": 19,
   "id": "856bc233",
   "metadata": {},
   "outputs": [],
   "source": [
    "#df.columns.values[15] = 'synopsis'"
   ]
  },
  {
   "cell_type": "code",
   "execution_count": 6,
   "id": "c755a5e4",
   "metadata": {},
   "outputs": [
    {
     "data": {
      "text/plain": [
       "Index(['Book Name', 'Synopsis', 'page_count', 'year', 'review_count', 'rating',\n",
       "       'rating_count', 'genre', 'author', 'publisher', 'Review 1', 'Review 2',\n",
       "       'Review 3', 'Review 4', 'Review 5', 'Link', 'scraped_at'],\n",
       "      dtype='object')"
      ]
     },
     "execution_count": 6,
     "metadata": {},
     "output_type": "execute_result"
    }
   ],
   "source": [
    "df.columns"
   ]
  },
  {
   "cell_type": "code",
   "execution_count": 14,
   "id": "01b3a332",
   "metadata": {},
   "outputs": [
    {
     "name": "stdout",
     "output_type": "stream",
     "text": [
      "Complete book link fails / missing in dataset = 14\n"
     ]
    }
   ],
   "source": [
    "print(f\"Complete book link fails / missing in dataset = {4905-df.shape[0]}\")"
   ]
  },
  {
   "cell_type": "code",
   "execution_count": 28,
   "id": "e9db1e5e",
   "metadata": {},
   "outputs": [
    {
     "data": {
      "text/html": [
       "<div>\n",
       "<style scoped>\n",
       "    .dataframe tbody tr th:only-of-type {\n",
       "        vertical-align: middle;\n",
       "    }\n",
       "\n",
       "    .dataframe tbody tr th {\n",
       "        vertical-align: top;\n",
       "    }\n",
       "\n",
       "    .dataframe thead th {\n",
       "        text-align: right;\n",
       "    }\n",
       "</style>\n",
       "<table border=\"1\" class=\"dataframe\">\n",
       "  <thead>\n",
       "    <tr style=\"text-align: right;\">\n",
       "      <th></th>\n",
       "      <th>Book Name</th>\n",
       "      <th>Synopsis</th>\n",
       "      <th>page_count</th>\n",
       "      <th>year</th>\n",
       "      <th>review_count</th>\n",
       "      <th>rating</th>\n",
       "      <th>rating_count</th>\n",
       "      <th>genre</th>\n",
       "      <th>author</th>\n",
       "      <th>publisher</th>\n",
       "      <th>Review 1</th>\n",
       "      <th>Review 2</th>\n",
       "      <th>Review 3</th>\n",
       "      <th>Review 4</th>\n",
       "      <th>Review 5</th>\n",
       "      <th>Link</th>\n",
       "      <th>scraped_at</th>\n",
       "    </tr>\n",
       "  </thead>\n",
       "  <tbody>\n",
       "    <tr>\n",
       "      <th>0</th>\n",
       "      <td>Raintree County</td>\n",
       "      <td>Throughout a single day in 1892, John Shawness...</td>\n",
       "      <td>1088 pages, Paperback</td>\n",
       "      <td>First published January 1, 1948</td>\n",
       "      <td>91</td>\n",
       "      <td>3.95</td>\n",
       "      <td>1,035 ratings</td>\n",
       "      <td>Fiction</td>\n",
       "      <td>Ross Lockridge Jr.</td>\n",
       "      <td>April 1, 1994 by Penguin Books</td>\n",
       "      <td>Did they stop to think, in the midst of their ...</td>\n",
       "      <td>\"Raintree County\" is an American version of To...</td>\n",
       "      <td>This is a hard book to review: it will definit...</td>\n",
       "      <td>Remembering Mom Who Kept Us in Books\\n\\nAs for...</td>\n",
       "      <td>It may seem odd to be writing a review of a bo...</td>\n",
       "      <td>https://www.goodreads.com/book/show/257233.Rai...</td>\n",
       "      <td>2023-03-25 01:31:35.686587</td>\n",
       "    </tr>\n",
       "    <tr>\n",
       "      <th>1</th>\n",
       "      <td>The Eliots of Damerosehay #2\\nPilgrim's Inn</td>\n",
       "      <td>After WW II, Lucilla Eliot's soldier son Georg...</td>\n",
       "      <td>352 pages, Hardcover</td>\n",
       "      <td>First published January 1, 1948</td>\n",
       "      <td>238</td>\n",
       "      <td>4.35</td>\n",
       "      <td>1,895 ratings</td>\n",
       "      <td>Fiction</td>\n",
       "      <td>Elizabeth Goudge</td>\n",
       "      <td>March 21, 2013 by Amereon Limited</td>\n",
       "      <td>I think I will start a bookshelf containing bo...</td>\n",
       "      <td>The year is 1947 or thereabouts. Britain has w...</td>\n",
       "      <td>”Increasingly, as she lived here, Nadine had a...</td>\n",
       "      <td>I usually read this book at Christmas. I love ...</td>\n",
       "      <td>Extraordinary fiction. If you haven't read Gou...</td>\n",
       "      <td>https://www.goodreads.com/book/show/205621.Pil...</td>\n",
       "      <td>2023-03-25 01:31:52.336480</td>\n",
       "    </tr>\n",
       "    <tr>\n",
       "      <th>2</th>\n",
       "      <td>An A.J. Cronin Trilogy: The Northern Light, Th...</td>\n",
       "      <td>Omnibus edition of two unabridged novels: The ...</td>\n",
       "      <td>Hardcover</td>\n",
       "      <td>Published January 1, 1958</td>\n",
       "      <td>0</td>\n",
       "      <td>4.50</td>\n",
       "      <td>2 ratings</td>\n",
       "      <td>NaN</td>\n",
       "      <td>A.J. Cronin</td>\n",
       "      <td>January 1, 1958 by Little, Brown and Company</td>\n",
       "      <td>no_review</td>\n",
       "      <td>no_review</td>\n",
       "      <td>no_review</td>\n",
       "      <td>no_review</td>\n",
       "      <td>no_review</td>\n",
       "      <td>https://www.goodreads.com/book/show/2398522.An...</td>\n",
       "      <td>2023-03-25 01:32:06.053123</td>\n",
       "    </tr>\n",
       "  </tbody>\n",
       "</table>\n",
       "</div>"
      ],
      "text/plain": [
       "                                           Book Name  \\\n",
       "0                                    Raintree County   \n",
       "1        The Eliots of Damerosehay #2\\nPilgrim's Inn   \n",
       "2  An A.J. Cronin Trilogy: The Northern Light, Th...   \n",
       "\n",
       "                                            Synopsis             page_count  \\\n",
       "0  Throughout a single day in 1892, John Shawness...  1088 pages, Paperback   \n",
       "1  After WW II, Lucilla Eliot's soldier son Georg...   352 pages, Hardcover   \n",
       "2  Omnibus edition of two unabridged novels: The ...              Hardcover   \n",
       "\n",
       "                              year  review_count  rating   rating_count  \\\n",
       "0  First published January 1, 1948            91    3.95  1,035 ratings   \n",
       "1  First published January 1, 1948           238    4.35  1,895 ratings   \n",
       "2        Published January 1, 1958             0    4.50      2 ratings   \n",
       "\n",
       "     genre              author                                     publisher  \\\n",
       "0  Fiction  Ross Lockridge Jr.                April 1, 1994 by Penguin Books   \n",
       "1  Fiction    Elizabeth Goudge             March 21, 2013 by Amereon Limited   \n",
       "2      NaN         A.J. Cronin  January 1, 1958 by Little, Brown and Company   \n",
       "\n",
       "                                            Review 1  \\\n",
       "0  Did they stop to think, in the midst of their ...   \n",
       "1  I think I will start a bookshelf containing bo...   \n",
       "2                                          no_review   \n",
       "\n",
       "                                            Review 2  \\\n",
       "0  \"Raintree County\" is an American version of To...   \n",
       "1  The year is 1947 or thereabouts. Britain has w...   \n",
       "2                                          no_review   \n",
       "\n",
       "                                            Review 3  \\\n",
       "0  This is a hard book to review: it will definit...   \n",
       "1  ”Increasingly, as she lived here, Nadine had a...   \n",
       "2                                          no_review   \n",
       "\n",
       "                                            Review 4  \\\n",
       "0  Remembering Mom Who Kept Us in Books\\n\\nAs for...   \n",
       "1  I usually read this book at Christmas. I love ...   \n",
       "2                                          no_review   \n",
       "\n",
       "                                            Review 5  \\\n",
       "0  It may seem odd to be writing a review of a bo...   \n",
       "1  Extraordinary fiction. If you haven't read Gou...   \n",
       "2                                          no_review   \n",
       "\n",
       "                                                Link  \\\n",
       "0  https://www.goodreads.com/book/show/257233.Rai...   \n",
       "1  https://www.goodreads.com/book/show/205621.Pil...   \n",
       "2  https://www.goodreads.com/book/show/2398522.An...   \n",
       "\n",
       "                   scraped_at  \n",
       "0  2023-03-25 01:31:35.686587  \n",
       "1  2023-03-25 01:31:52.336480  \n",
       "2  2023-03-25 01:32:06.053123  "
      ]
     },
     "execution_count": 28,
     "metadata": {},
     "output_type": "execute_result"
    }
   ],
   "source": [
    "df.head(3)"
   ]
  },
  {
   "cell_type": "code",
   "execution_count": 29,
   "id": "dcd317d7",
   "metadata": {},
   "outputs": [],
   "source": [
    "df_clean = df.dropna()"
   ]
  },
  {
   "cell_type": "code",
   "execution_count": 38,
   "id": "820f2eb1",
   "metadata": {},
   "outputs": [],
   "source": [
    "acquired_dataset_size = df.shape[0]\n",
    "cleaned_dataset_size=df_clean.shape[0]"
   ]
  },
  {
   "cell_type": "code",
   "execution_count": 39,
   "id": "f65b3457",
   "metadata": {},
   "outputs": [],
   "source": [
    "total_drops = acquired_dataset_size-cleaned_dataset_size"
   ]
  },
  {
   "cell_type": "code",
   "execution_count": 40,
   "id": "f59cf985",
   "metadata": {},
   "outputs": [],
   "source": [
    "proportion_kept = cleaned_dataset_size/acquired_dataset_size"
   ]
  },
  {
   "cell_type": "code",
   "execution_count": 42,
   "id": "26222313",
   "metadata": {},
   "outputs": [],
   "source": [
    "proportion_lost = 1-proportion_kept"
   ]
  },
  {
   "cell_type": "code",
   "execution_count": 24,
   "id": "234ed7fe",
   "metadata": {},
   "outputs": [],
   "source": [
    "output_filename = 'remaining.csv'\n",
    "df.to_csv(output_filename)"
   ]
  }
 ],
 "metadata": {
  "kernelspec": {
   "display_name": "Python 3 (ipykernel)",
   "language": "python",
   "name": "python3"
  },
  "language_info": {
   "codemirror_mode": {
    "name": "ipython",
    "version": 3
   },
   "file_extension": ".py",
   "mimetype": "text/x-python",
   "name": "python",
   "nbconvert_exporter": "python",
   "pygments_lexer": "ipython3",
   "version": "3.9.13"
  }
 },
 "nbformat": 4,
 "nbformat_minor": 5
}
