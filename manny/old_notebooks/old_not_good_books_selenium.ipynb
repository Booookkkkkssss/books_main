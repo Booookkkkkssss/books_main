{
 "cells": [
  {
   "cell_type": "code",
   "execution_count": 1,
   "id": "ca092452",
   "metadata": {},
   "outputs": [],
   "source": [
    "import pandas as pd\n",
    "import os\n",
    "import re\n",
    "import codecs\n",
    "import requests\n",
    "from bs4 import BeautifulSoup\n",
    "from selenium import webdriver"
   ]
  },
  {
   "cell_type": "code",
   "execution_count": 56,
   "id": "6c6e3ed0",
   "metadata": {},
   "outputs": [],
   "source": [
    "from selenium.webdriver.common.by import By\n",
    "from selenium.webdriver.support.ui import WebDriverWait\n",
    "from selenium.webdriver.support import expected_conditions as EC"
   ]
  },
  {
   "cell_type": "markdown",
   "id": "c858b578",
   "metadata": {},
   "source": [
    "# Acquire"
   ]
  },
  {
   "cell_type": "code",
   "execution_count": 2,
   "id": "90cf51d9",
   "metadata": {},
   "outputs": [],
   "source": [
    "filename = 'book30-listing-train.csv'"
   ]
  },
  {
   "cell_type": "code",
   "execution_count": 3,
   "id": "01554cff",
   "metadata": {},
   "outputs": [],
   "source": [
    "header_names = ['Amazon ID (ASIN)', 'Filename', 'Image URL', 'Title', 'Author', 'Category ID',\n",
    "                'Category']\n",
    "with codecs.open(filename, mode='r', encoding='utf-8', errors='ignore') as f:\n",
    "    df = pd.read_csv(f, delimiter=\",\", header=None, names=header_names)"
   ]
  },
  {
   "cell_type": "markdown",
   "id": "add53d29",
   "metadata": {},
   "source": [
    "# Subset Dataframe"
   ]
  },
  {
   "cell_type": "code",
   "execution_count": 4,
   "id": "5af684e5",
   "metadata": {},
   "outputs": [],
   "source": [
    "df = df[['Author','Title','Category']]"
   ]
  },
  {
   "cell_type": "code",
   "execution_count": 5,
   "id": "bd4715f7",
   "metadata": {},
   "outputs": [],
   "source": [
    "keeper_columns = ['Romance','Mystery, Thrillers & Suspense',\n",
    "                  'Teen & Young Adult','Science Fiction & Fantasy',\n",
    "                  'Literature & Fiction','Humor & Entertainment',\n",
    "                  ]"
   ]
  },
  {
   "cell_type": "code",
   "execution_count": 6,
   "id": "6e696261",
   "metadata": {},
   "outputs": [],
   "source": [
    "df = df[df['Category'].isin(keeper_columns)]"
   ]
  },
  {
   "cell_type": "markdown",
   "id": "83c72651",
   "metadata": {},
   "source": [
    "# Nulls"
   ]
  },
  {
   "cell_type": "code",
   "execution_count": 7,
   "id": "4803ddef",
   "metadata": {},
   "outputs": [],
   "source": [
    "df = df.dropna()"
   ]
  },
  {
   "cell_type": "code",
   "execution_count": 8,
   "id": "86b8443f",
   "metadata": {},
   "outputs": [],
   "source": [
    "df = df.reset_index(drop=True)"
   ]
  },
  {
   "cell_type": "code",
   "execution_count": 9,
   "id": "8714a969",
   "metadata": {},
   "outputs": [],
   "source": [
    "def clean_column(df, column):\n",
    "    # Convert column to lowercase and remove text inside parentheses\n",
    "    df['temp'] = df[column].str.lower().replace(r'\\([^()]*\\)', '', regex=True)\n",
    "\n",
    "    # Remove text after colon or hyphen\n",
    "    df['temp'] = df['temp'].str.split(r'[:\\-]').str[0]\n",
    "\n",
    "    # Remove extra whitespace\n",
    "    df['temp'] = df['temp'].str.replace(r'\\s+', ' ', regex=True).str.strip()\n",
    "\n",
    "    # Modify DataFrame with new column\n",
    "    new_column = f'cleaned_{column}'\n",
    "    df[new_column] = df['temp']\n",
    "\n",
    "    # Remove temporary column\n",
    "    df = df.drop(columns=['temp'])\n",
    "\n",
    "    return df"
   ]
  },
  {
   "cell_type": "markdown",
   "id": "9e6ef912",
   "metadata": {},
   "source": [
    "# Clean"
   ]
  },
  {
   "cell_type": "code",
   "execution_count": 10,
   "id": "6c91b01b",
   "metadata": {},
   "outputs": [],
   "source": [
    "df = clean_column(df,'Title')"
   ]
  },
  {
   "cell_type": "code",
   "execution_count": 11,
   "id": "5e5d3c34",
   "metadata": {},
   "outputs": [],
   "source": [
    "df = clean_column(df,'Author')"
   ]
  },
  {
   "cell_type": "code",
   "execution_count": 12,
   "id": "3dd83cea",
   "metadata": {},
   "outputs": [
    {
     "data": {
      "text/html": [
       "<div>\n",
       "<style scoped>\n",
       "    .dataframe tbody tr th:only-of-type {\n",
       "        vertical-align: middle;\n",
       "    }\n",
       "\n",
       "    .dataframe tbody tr th {\n",
       "        vertical-align: top;\n",
       "    }\n",
       "\n",
       "    .dataframe thead th {\n",
       "        text-align: right;\n",
       "    }\n",
       "</style>\n",
       "<table border=\"1\" class=\"dataframe\">\n",
       "  <thead>\n",
       "    <tr style=\"text-align: right;\">\n",
       "      <th></th>\n",
       "      <th>Author</th>\n",
       "      <th>Title</th>\n",
       "      <th>Category</th>\n",
       "      <th>cleaned_Title</th>\n",
       "      <th>cleaned_Author</th>\n",
       "    </tr>\n",
       "  </thead>\n",
       "  <tbody>\n",
       "    <tr>\n",
       "      <th>3215</th>\n",
       "      <td>Dallas Jessup</td>\n",
       "      <td>Young Revolutionaries Who Rock: An Insider's G...</td>\n",
       "      <td>Teen &amp; Young Adult</td>\n",
       "      <td>young revolutionaries who rock</td>\n",
       "      <td>dallas jessup</td>\n",
       "    </tr>\n",
       "    <tr>\n",
       "      <th>3256</th>\n",
       "      <td>Ted Hughes</td>\n",
       "      <td>Crow: From the Life and Songs of the Crow</td>\n",
       "      <td>Literature &amp; Fiction</td>\n",
       "      <td>crow</td>\n",
       "      <td>ted hughes</td>\n",
       "    </tr>\n",
       "    <tr>\n",
       "      <th>5563</th>\n",
       "      <td>George Lucas</td>\n",
       "      <td>Star Wars Trilogy</td>\n",
       "      <td>Science Fiction &amp; Fantasy</td>\n",
       "      <td>star wars trilogy</td>\n",
       "      <td>george lucas</td>\n",
       "    </tr>\n",
       "    <tr>\n",
       "      <th>6356</th>\n",
       "      <td>Marilyn Nelson</td>\n",
       "      <td>A Wreath for Emmett Till (Boston Globe-Horn Bo...</td>\n",
       "      <td>Teen &amp; Young Adult</td>\n",
       "      <td>a wreath for emmett till (boston globe</td>\n",
       "      <td>marilyn nelson</td>\n",
       "    </tr>\n",
       "    <tr>\n",
       "      <th>2587</th>\n",
       "      <td>Amy Maltman</td>\n",
       "      <td>Ride Every Stride</td>\n",
       "      <td>Literature &amp; Fiction</td>\n",
       "      <td>ride every stride</td>\n",
       "      <td>amy maltman</td>\n",
       "    </tr>\n",
       "  </tbody>\n",
       "</table>\n",
       "</div>"
      ],
      "text/plain": [
       "              Author                                              Title  \\\n",
       "3215   Dallas Jessup  Young Revolutionaries Who Rock: An Insider's G...   \n",
       "3256      Ted Hughes          Crow: From the Life and Songs of the Crow   \n",
       "5563    George Lucas                                  Star Wars Trilogy   \n",
       "6356  Marilyn Nelson  A Wreath for Emmett Till (Boston Globe-Horn Bo...   \n",
       "2587     Amy Maltman                                  Ride Every Stride   \n",
       "\n",
       "                       Category                           cleaned_Title  \\\n",
       "3215         Teen & Young Adult          young revolutionaries who rock   \n",
       "3256       Literature & Fiction                                    crow   \n",
       "5563  Science Fiction & Fantasy                       star wars trilogy   \n",
       "6356         Teen & Young Adult  a wreath for emmett till (boston globe   \n",
       "2587       Literature & Fiction                       ride every stride   \n",
       "\n",
       "      cleaned_Author  \n",
       "3215   dallas jessup  \n",
       "3256      ted hughes  \n",
       "5563    george lucas  \n",
       "6356  marilyn nelson  \n",
       "2587     amy maltman  "
      ]
     },
     "execution_count": 12,
     "metadata": {},
     "output_type": "execute_result"
    }
   ],
   "source": [
    "df.sample(5)"
   ]
  },
  {
   "cell_type": "code",
   "execution_count": 13,
   "id": "df4aa2e6",
   "metadata": {},
   "outputs": [],
   "source": [
    "title = df['cleaned_Title']\n",
    "author = df['cleaned_Author']"
   ]
  },
  {
   "cell_type": "markdown",
   "id": "d87acc30",
   "metadata": {},
   "source": [
    "# Selenium"
   ]
  },
  {
   "cell_type": "code",
   "execution_count": 70,
   "id": "5ad9e0ae",
   "metadata": {},
   "outputs": [],
   "source": [
    "driver = webdriver.Chrome()\n",
    "driver.get(\"https://www.goodreads.com/book/show/3450744-nudge\")"
   ]
  },
  {
   "cell_type": "code",
   "execution_count": 71,
   "id": "7b244941",
   "metadata": {},
   "outputs": [
    {
     "data": {
      "text/plain": [
       "'Breaking News (Godmothers, Book 5) (The Godmothers)'"
      ]
     },
     "execution_count": 71,
     "metadata": {},
     "output_type": "execute_result"
    }
   ],
   "source": [
    "df['Title'].iloc[0]"
   ]
  },
  {
   "cell_type": "code",
   "execution_count": 72,
   "id": "0f00e4df",
   "metadata": {},
   "outputs": [
    {
     "data": {
      "text/plain": [
       "'breaking news'"
      ]
     },
     "execution_count": 72,
     "metadata": {},
     "output_type": "execute_result"
    }
   ],
   "source": [
    "df['cleaned_Title'].iloc[0]"
   ]
  },
  {
   "cell_type": "code",
   "execution_count": 73,
   "id": "fd8e4d28",
   "metadata": {},
   "outputs": [],
   "source": [
    "search_bar = driver.find_element_by_xpath('//*[@id=\"Header\"]/div[2]/div[2]/section/form/input[1]')"
   ]
  },
  {
   "cell_type": "markdown",
   "id": "4f1d43a3",
   "metadata": {},
   "source": [
    "### Clicked Search"
   ]
  },
  {
   "cell_type": "code",
   "execution_count": 74,
   "id": "196b27a1",
   "metadata": {},
   "outputs": [],
   "source": [
    "search_bar.send_keys(title.iloc[0] + \" \" + author.iloc[0])\n",
    "search_bar.submit()"
   ]
  },
  {
   "cell_type": "code",
   "execution_count": 75,
   "id": "fbd68207",
   "metadata": {},
   "outputs": [],
   "source": [
    "links = driver.find_element_by_class_name('bookTitle')"
   ]
  },
  {
   "cell_type": "code",
   "execution_count": 78,
   "id": "6f21da86",
   "metadata": {},
   "outputs": [
    {
     "data": {
      "text/plain": [
       "'https://www.goodreads.com/book/show/13771831-breaking-news?from_search=true&from_srp=true&qid=4COxo43vyt&rank=1'"
      ]
     },
     "execution_count": 78,
     "metadata": {},
     "output_type": "execute_result"
    }
   ],
   "source": [
    "links.get_attribute('href')"
   ]
  },
  {
   "cell_type": "markdown",
   "id": "7c40923f",
   "metadata": {},
   "source": [
    "# Raw HTML?"
   ]
  },
  {
   "cell_type": "code",
   "execution_count": 32,
   "id": "47c29af4",
   "metadata": {},
   "outputs": [],
   "source": [
    "html_content = driver.page_source"
   ]
  },
  {
   "cell_type": "markdown",
   "id": "a1438ae0",
   "metadata": {},
   "source": [
    "# Beautiful Soup"
   ]
  },
  {
   "cell_type": "code",
   "execution_count": 46,
   "id": "cb133eb2",
   "metadata": {},
   "outputs": [],
   "source": [
    "soup = BeautifulSoup(html_content, 'html.parser')"
   ]
  },
  {
   "cell_type": "code",
   "execution_count": 52,
   "id": "c82c04be",
   "metadata": {},
   "outputs": [],
   "source": [
    "link_tag = soup.find('a', class_='bookTitle')"
   ]
  },
  {
   "cell_type": "code",
   "execution_count": 51,
   "id": "fbb30ee7",
   "metadata": {},
   "outputs": [],
   "source": [
    "link_tag"
   ]
  },
  {
   "cell_type": "code",
   "execution_count": 48,
   "id": "a0febe68",
   "metadata": {},
   "outputs": [
    {
     "ename": "AttributeError",
     "evalue": "'NoneType' object has no attribute 'get'",
     "output_type": "error",
     "traceback": [
      "\u001b[0;31m---------------------------------------------------------------------------\u001b[0m",
      "\u001b[0;31mAttributeError\u001b[0m                            Traceback (most recent call last)",
      "Input \u001b[0;32mIn [48]\u001b[0m, in \u001b[0;36m<cell line: 1>\u001b[0;34m()\u001b[0m\n\u001b[0;32m----> 1\u001b[0m link \u001b[38;5;241m=\u001b[39m \u001b[43mlink_tag\u001b[49m\u001b[38;5;241;43m.\u001b[39;49m\u001b[43mget\u001b[49m(\u001b[38;5;124m'\u001b[39m\u001b[38;5;124mhref\u001b[39m\u001b[38;5;124m'\u001b[39m)\n",
      "\u001b[0;31mAttributeError\u001b[0m: 'NoneType' object has no attribute 'get'"
     ]
    }
   ],
   "source": [
    "link = link_tag.get('href')"
   ]
  },
  {
   "cell_type": "code",
   "execution_count": null,
   "id": "e6dc1f83",
   "metadata": {},
   "outputs": [],
   "source": []
  }
 ],
 "metadata": {
  "kernelspec": {
   "display_name": "Python 3 (ipykernel)",
   "language": "python",
   "name": "python3"
  },
  "language_info": {
   "codemirror_mode": {
    "name": "ipython",
    "version": 3
   },
   "file_extension": ".py",
   "mimetype": "text/x-python",
   "name": "python",
   "nbconvert_exporter": "python",
   "pygments_lexer": "ipython3",
   "version": "3.9.13"
  }
 },
 "nbformat": 4,
 "nbformat_minor": 5
}
