{
 "cells": [
  {
   "cell_type": "code",
   "execution_count": 1,
   "id": "f2d29cb6",
   "metadata": {},
   "outputs": [],
   "source": [
    "from selenium import webdriver\n",
    "from selenium.webdriver.common.keys import Keys"
   ]
  },
  {
   "cell_type": "code",
   "execution_count": 2,
   "id": "3d2cba5a",
   "metadata": {},
   "outputs": [],
   "source": [
    "# browser & engine renderer to use\n",
    "driver = webdriver.Chrome()"
   ]
  },
  {
   "cell_type": "code",
   "execution_count": 3,
   "id": "2748fe25",
   "metadata": {},
   "outputs": [],
   "source": [
    "# url\n",
    "url = 'https://www.goodreads.com/book/show/136251.Harry_Potter_and_the_Deathly_Hallows?from_search=true&from_srp=true&qid=PWxo29iOo0&rank=1'\n",
    "# Navigate to url\n",
    "driver.get(url)"
   ]
  },
  {
   "cell_type": "code",
   "execution_count": 4,
   "id": "3b06ab99",
   "metadata": {},
   "outputs": [],
   "source": [
    "# Show More Button Definitions\n",
    "book_synopsis_more_button = '//*[@id=\\\"__next\\\"]/div/main/div[1]/div[2]/div[1]/div[2]/div[4]/div/div[2]/div/button/span[1]'\n",
    "book_details_more_button = '//*[@id=\"__next\"]/div/main/div[1]/div[2]/div[1]/div[2]/div[6]/div/div/button/span[1]'"
   ]
  },
  {
   "cell_type": "code",
   "execution_count": 5,
   "id": "42cbaa6a",
   "metadata": {},
   "outputs": [],
   "source": [
    "# Click on \"Show More\" buttons to Expand all HTML\n",
    "driver.find_element_by_xpath(book_synopsis_more_button).click()"
   ]
  },
  {
   "cell_type": "code",
   "execution_count": 6,
   "id": "1031900e",
   "metadata": {},
   "outputs": [],
   "source": [
    "# Click on \"Show More\" buttons to Expand all HTML\n",
    "driver.find_element_by_xpath(book_details_more_button).click()"
   ]
  },
  {
   "cell_type": "code",
   "execution_count": 7,
   "id": "0c9cdca8",
   "metadata": {},
   "outputs": [],
   "source": [
    "# Text Extraction Definitions\n",
    "series_text_tag = '//*[@id=\\\"__next\\\"]/div/main/div[1]/div[2]/div[1]/div[2]/div[6]/div/span[2]/span/div/div[3]/dd/div/div[1]'\n",
    "original_title_text_tags = '//*[@id=\\\"__next\\\"]/div/main/div[1]/div[2]/div[1]/div[2]/div[6]/div/span[2]/span/div/div[2]/dd/div/div[1]'\n",
    "\n",
    "# Variable To Save Text\n",
    "series_text = driver.find_element_by_xpath(series_text_tag).text\n",
    "original_title_text = driver.find_element_by_xpath(original_title_text_tags).text"
   ]
  },
  {
   "cell_type": "code",
   "execution_count": 8,
   "id": "04cb91ae",
   "metadata": {},
   "outputs": [
    {
     "name": "stdout",
     "output_type": "stream",
     "text": [
      "Series: Harry Potter (#7)\n",
      "Original Title: Harry Potter and the Deathly Hallows\n"
     ]
    }
   ],
   "source": [
    "# Output\n",
    "print(f'Series: {series_text}')\n",
    "print(f'Original Title: {original_title_text}')"
   ]
  },
  {
   "cell_type": "code",
   "execution_count": 9,
   "id": "1f8e5601",
   "metadata": {},
   "outputs": [],
   "source": [
    "# Close Browser\n",
    "driver.quit()"
   ]
  }
 ],
 "metadata": {
  "kernelspec": {
   "display_name": "Python 3 (ipykernel)",
   "language": "python",
   "name": "python3"
  },
  "language_info": {
   "codemirror_mode": {
    "name": "ipython",
    "version": 3
   },
   "file_extension": ".py",
   "mimetype": "text/x-python",
   "name": "python",
   "nbconvert_exporter": "python",
   "pygments_lexer": "ipython3",
   "version": "3.9.13"
  }
 },
 "nbformat": 4,
 "nbformat_minor": 5
}
