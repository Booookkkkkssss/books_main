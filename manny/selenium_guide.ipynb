{
 "cells": [
  {
   "cell_type": "code",
   "execution_count": 26,
   "id": "b86f5f03",
   "metadata": {},
   "outputs": [],
   "source": [
    "from selenium import webdriver\n",
    "from selenium.webdriver.common.keys import Keys"
   ]
  },
  {
   "cell_type": "code",
   "execution_count": 27,
   "id": "a26105ef",
   "metadata": {},
   "outputs": [],
   "source": [
    "# browser & engine renderer to use\n",
    "driver = webdriver.Chrome()"
   ]
  },
  {
   "cell_type": "code",
   "execution_count": 28,
   "id": "62cbd42c",
   "metadata": {},
   "outputs": [],
   "source": [
    "# url\n",
    "url = 'https://www.goodreads.com/book/show/136251.Harry_Potter_and_the_Deathly_Hallows?from_search=true&from_srp=true&qid=PWxo29iOo0&rank=1'"
   ]
  },
  {
   "cell_type": "code",
   "execution_count": 29,
   "id": "9b8a7680",
   "metadata": {},
   "outputs": [],
   "source": [
    "# Navigate to url\n",
    "driver.get(url)"
   ]
  },
  {
   "cell_type": "code",
   "execution_count": 30,
   "id": "100887c9",
   "metadata": {},
   "outputs": [],
   "source": [
    "# Show More Button\n",
    "book_synopsis_more_button = '//*[@id=\\\"__next\\\"]/div/main/div[1]/div[2]/div[1]/div[2]/div[4]/div/div[2]/div/button/span[1]'"
   ]
  },
  {
   "cell_type": "code",
   "execution_count": 34,
   "id": "64ee49fd",
   "metadata": {},
   "outputs": [],
   "source": [
    "# Show More Button\n",
    "book_details_more_button = '//*[@id=\\\"__next\\\"]/div/main/div[1]/div[2]/div[2]/div[2]/div[6]/div/div/button/span[1]'"
   ]
  },
  {
   "cell_type": "code",
   "execution_count": 31,
   "id": "da34d563",
   "metadata": {},
   "outputs": [],
   "source": [
    "driver.find_element_by_xpath(book_synopsis_more_button).click()"
   ]
  },
  {
   "cell_type": "code",
   "execution_count": 35,
   "id": "6f3b0004",
   "metadata": {},
   "outputs": [],
   "source": [
    "driver.find_element_by_xpath(book_details_more_button).click()"
   ]
  },
  {
   "cell_type": "code",
   "execution_count": 36,
   "id": "f6eba812",
   "metadata": {},
   "outputs": [],
   "source": [
    "series_text = '//*[@id=\\\"__next\\\"]/div/main/div[1]/div[2]/div[1]/div[2]/div[6]/div/span[2]/span/div/div[3]/dd/div/div[1]'"
   ]
  },
  {
   "cell_type": "code",
   "execution_count": 38,
   "id": "5f44b181",
   "metadata": {},
   "outputs": [
    {
     "data": {
      "text/plain": [
       "'Harry Potter (#7)'"
      ]
     },
     "execution_count": 38,
     "metadata": {},
     "output_type": "execute_result"
    }
   ],
   "source": [
    "driver.find_element_by_xpath(series_text).text"
   ]
  },
  {
   "cell_type": "code",
   "execution_count": 40,
   "id": "f1d78608",
   "metadata": {},
   "outputs": [],
   "source": [
    "original_title_text = '//*[@id=\\\"__next\\\"]/div/main/div[1]/div[2]/div[1]/div[2]/div[6]/div/span[2]/span/div/div[2]/dd/div/div[1]'"
   ]
  },
  {
   "cell_type": "code",
   "execution_count": 41,
   "id": "3c62f1fc",
   "metadata": {},
   "outputs": [
    {
     "data": {
      "text/plain": [
       "'Harry Potter and the Deathly Hallows'"
      ]
     },
     "execution_count": 41,
     "metadata": {},
     "output_type": "execute_result"
    }
   ],
   "source": [
    "driver.find_element_by_xpath(original_title_text).text"
   ]
  },
  {
   "cell_type": "code",
   "execution_count": null,
   "id": "05f359fd",
   "metadata": {},
   "outputs": [],
   "source": [
    "# Close Browser\n",
    "driver.quit()"
   ]
  }
 ],
 "metadata": {
  "kernelspec": {
   "display_name": "Python 3 (ipykernel)",
   "language": "python",
   "name": "python3"
  },
  "language_info": {
   "codemirror_mode": {
    "name": "ipython",
    "version": 3
   },
   "file_extension": ".py",
   "mimetype": "text/x-python",
   "name": "python",
   "nbconvert_exporter": "python",
   "pygments_lexer": "ipython3",
   "version": "3.9.13"
  }
 },
 "nbformat": 4,
 "nbformat_minor": 5
}
