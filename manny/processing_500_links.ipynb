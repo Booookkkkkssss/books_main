{
 "cells": [
  {
   "cell_type": "code",
   "execution_count": 1,
   "id": "dd0045c0",
   "metadata": {},
   "outputs": [],
   "source": [
    "import pandas as pd\n",
    "import os"
   ]
  },
  {
   "cell_type": "code",
   "execution_count": 27,
   "id": "7ad35b8c",
   "metadata": {},
   "outputs": [],
   "source": [
    "def modify_link(link):\n",
    "    '''\n",
    "        Function to modify the link format\n",
    "    '''\n",
    "    # Split the link using '?' and take the first part (before the query parameters)\n",
    "    base_url = link.split('?')[0]\n",
    "    \n",
    "    # Split the base_url using '/' and return the second last part\n",
    "    return base_url.split('/')[-1]"
   ]
  },
  {
   "cell_type": "code",
   "execution_count": 28,
   "id": "6b15361b",
   "metadata": {},
   "outputs": [],
   "source": [
    "def text_file_to_dataframe(filename):\n",
    "    # Check if the text file exists\n",
    "    if os.path.exists(filename):\n",
    "        \n",
    "        # Read the text file and create a list of lines\n",
    "        with open(filename, \"r\") as file:\n",
    "            lines = file.readlines()\n",
    "            content = [line.strip() for line in lines]\n",
    "\n",
    "        # Create a DataFrame from the list\n",
    "        df = pd.DataFrame(content, columns=['links'])\n",
    "        \n",
    "        # Apply the modify_link function to the 'data' column\n",
    "        df['links'] = df['links'].apply(modify_link)\n",
    "        \n",
    "        return df\n",
    "    else:\n",
    "        print(f\"{filename} does not exist.\")\n",
    "        return None"
   ]
  },
  {
   "cell_type": "code",
   "execution_count": 33,
   "id": "5d68e512",
   "metadata": {},
   "outputs": [],
   "source": [
    "def save_dataframe_to_text_file(df, filename):\n",
    "    # Save the modified DataFrame to a text file with newline-separated values\n",
    "    df.to_csv(filename, index=False, header=False, sep='\\n')"
   ]
  },
  {
   "cell_type": "code",
   "execution_count": 29,
   "id": "46f5f79f",
   "metadata": {},
   "outputs": [],
   "source": [
    "# Main()\n",
    "input_filename = \"links.txt\"\n",
    "df = text_file_to_dataframe(input_filename)"
   ]
  },
  {
   "cell_type": "code",
   "execution_count": 36,
   "id": "8fa10fa6",
   "metadata": {},
   "outputs": [],
   "source": [
    "# Save the modified DataFrame to a new text file\n",
    "save_dataframe_to_text_file(df, \"manny_random_books.txt\")"
   ]
  },
  {
   "cell_type": "code",
   "execution_count": 35,
   "id": "c60ebaa8",
   "metadata": {},
   "outputs": [
    {
     "data": {
      "text/html": [
       "<div>\n",
       "<style scoped>\n",
       "    .dataframe tbody tr th:only-of-type {\n",
       "        vertical-align: middle;\n",
       "    }\n",
       "\n",
       "    .dataframe tbody tr th {\n",
       "        vertical-align: top;\n",
       "    }\n",
       "\n",
       "    .dataframe thead th {\n",
       "        text-align: right;\n",
       "    }\n",
       "</style>\n",
       "<table border=\"1\" class=\"dataframe\">\n",
       "  <thead>\n",
       "    <tr style=\"text-align: right;\">\n",
       "      <th></th>\n",
       "      <th>links</th>\n",
       "    </tr>\n",
       "  </thead>\n",
       "  <tbody>\n",
       "    <tr>\n",
       "      <th>0</th>\n",
       "      <td>13771831-breaking-news</td>\n",
       "    </tr>\n",
       "    <tr>\n",
       "      <th>1</th>\n",
       "      <td>28111953-jokes-jokes-and-more-jokes</td>\n",
       "    </tr>\n",
       "    <tr>\n",
       "      <th>2</th>\n",
       "      <td>24612758-millie-s-tropical-world</td>\n",
       "    </tr>\n",
       "    <tr>\n",
       "      <th>3</th>\n",
       "      <td>25946661-legally-stoned</td>\n",
       "    </tr>\n",
       "    <tr>\n",
       "      <th>4</th>\n",
       "      <td>57566.Secret_Lives_of_the_First_Ladies</td>\n",
       "    </tr>\n",
       "  </tbody>\n",
       "</table>\n",
       "</div>"
      ],
      "text/plain": [
       "                                    links\n",
       "0                  13771831-breaking-news\n",
       "1     28111953-jokes-jokes-and-more-jokes\n",
       "2        24612758-millie-s-tropical-world\n",
       "3                 25946661-legally-stoned\n",
       "4  57566.Secret_Lives_of_the_First_Ladies"
      ]
     },
     "execution_count": 35,
     "metadata": {},
     "output_type": "execute_result"
    }
   ],
   "source": [
    "df.head()"
   ]
  },
  {
   "cell_type": "code",
   "execution_count": null,
   "id": "5a80bbab",
   "metadata": {},
   "outputs": [],
   "source": []
  }
 ],
 "metadata": {
  "kernelspec": {
   "display_name": "Python 3 (ipykernel)",
   "language": "python",
   "name": "python3"
  },
  "language_info": {
   "codemirror_mode": {
    "name": "ipython",
    "version": 3
   },
   "file_extension": ".py",
   "mimetype": "text/x-python",
   "name": "python",
   "nbconvert_exporter": "python",
   "pygments_lexer": "ipython3",
   "version": "3.9.13"
  }
 },
 "nbformat": 4,
 "nbformat_minor": 5
}
