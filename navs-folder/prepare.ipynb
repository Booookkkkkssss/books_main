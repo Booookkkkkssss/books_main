{
 "cells": [
  {
   "cell_type": "code",
   "execution_count": 25,
   "id": "119d0f2c",
   "metadata": {},
   "outputs": [],
   "source": [
    "import pandas as pd \n",
    "import numpy as np \n",
    "\n",
    "import unicodedata\n",
    "import re\n",
    "import json\n",
    "\n",
    "import nltk\n",
    "from nltk.tokenize.toktok import ToktokTokenizer\n",
    "from nltk.corpus import stopwords"
   ]
  },
  {
   "cell_type": "markdown",
   "id": "8d9938dc",
   "metadata": {},
   "source": [
    "# import working data"
   ]
  },
  {
   "cell_type": "code",
   "execution_count": 144,
   "id": "686d87ee",
   "metadata": {},
   "outputs": [],
   "source": [
    "df = pd.read_csv('target.csv')"
   ]
  },
  {
   "cell_type": "code",
   "execution_count": 145,
   "id": "b59fec5c",
   "metadata": {},
   "outputs": [],
   "source": [
    "df = df.drop(columns= 'Unnamed: 0')"
   ]
  },
  {
   "cell_type": "code",
   "execution_count": 105,
   "id": "0928a1bd",
   "metadata": {},
   "outputs": [],
   "source": [
    "df = df.head(100)"
   ]
  },
  {
   "cell_type": "code",
   "execution_count": 147,
   "id": "acabea4c",
   "metadata": {},
   "outputs": [
    {
     "data": {
      "text/plain": [
       "0      [\"Ok, before I start a few warnings. This will...\n",
       "1      ['LMAAAOOOO! Thats Peeta folks! xDHahahahaha, ...\n",
       "2      ['Finished this book about a month ago but it\\...\n",
       "3      [\"Just to clarify: Yes, I did cry.I've read a ...\n",
       "4      ['(A) 86% | ExtraordinaryNotes: It dwells on t...\n",
       "                             ...                        \n",
       "879    ['As Michael Kors once sighed to a clueless de...\n",
       "880    ['Michael Pollan is a journalist, and an omniv...\n",
       "881    ['“He was a great writer. He fell in love. It ...\n",
       "882    ['Here\\'s Blink in a nutshell:Split decisions ...\n",
       "883    [\"If you know me at all, you know I read a lot...\n",
       "Name: reviews, Length: 884, dtype: object"
      ]
     },
     "execution_count": 147,
     "metadata": {},
     "output_type": "execute_result"
    }
   ],
   "source": [
    "df.reviews"
   ]
  },
  {
   "cell_type": "markdown",
   "id": "9865b2e7",
   "metadata": {},
   "source": [
    "# Let's Look at Data"
   ]
  },
  {
   "cell_type": "code",
   "execution_count": 106,
   "id": "f81bcdde",
   "metadata": {},
   "outputs": [
    {
     "data": {
      "text/html": [
       "<div>\n",
       "<style scoped>\n",
       "    .dataframe tbody tr th:only-of-type {\n",
       "        vertical-align: middle;\n",
       "    }\n",
       "\n",
       "    .dataframe tbody tr th {\n",
       "        vertical-align: top;\n",
       "    }\n",
       "\n",
       "    .dataframe thead th {\n",
       "        text-align: right;\n",
       "    }\n",
       "</style>\n",
       "<table border=\"1\" class=\"dataframe\">\n",
       "  <thead>\n",
       "    <tr style=\"text-align: right;\">\n",
       "      <th></th>\n",
       "      <th>review_count</th>\n",
       "      <th>number_of_ratings</th>\n",
       "      <th>length</th>\n",
       "      <th>genre</th>\n",
       "      <th>rating</th>\n",
       "    </tr>\n",
       "  </thead>\n",
       "  <tbody>\n",
       "    <tr>\n",
       "      <th>count</th>\n",
       "      <td>100.000000</td>\n",
       "      <td>1.000000e+02</td>\n",
       "      <td>1.000000e+02</td>\n",
       "      <td>0.0</td>\n",
       "      <td>100.000000</td>\n",
       "    </tr>\n",
       "    <tr>\n",
       "      <th>mean</th>\n",
       "      <td>43539.410000</td>\n",
       "      <td>1.152083e+06</td>\n",
       "      <td>1.850194e+09</td>\n",
       "      <td>NaN</td>\n",
       "      <td>4.064100</td>\n",
       "    </tr>\n",
       "    <tr>\n",
       "      <th>std</th>\n",
       "      <td>37213.623217</td>\n",
       "      <td>1.314679e+06</td>\n",
       "      <td>1.850193e+10</td>\n",
       "      <td>NaN</td>\n",
       "      <td>0.227446</td>\n",
       "    </tr>\n",
       "    <tr>\n",
       "      <th>min</th>\n",
       "      <td>210.000000</td>\n",
       "      <td>1.100500e+04</td>\n",
       "      <td>1.500000e+01</td>\n",
       "      <td>NaN</td>\n",
       "      <td>3.580000</td>\n",
       "    </tr>\n",
       "    <tr>\n",
       "      <th>25%</th>\n",
       "      <td>16597.500000</td>\n",
       "      <td>2.592898e+05</td>\n",
       "      <td>3.085000e+02</td>\n",
       "      <td>NaN</td>\n",
       "      <td>3.927500</td>\n",
       "    </tr>\n",
       "    <tr>\n",
       "      <th>50%</th>\n",
       "      <td>34179.000000</td>\n",
       "      <td>6.296500e+05</td>\n",
       "      <td>3.900000e+02</td>\n",
       "      <td>NaN</td>\n",
       "      <td>4.070000</td>\n",
       "    </tr>\n",
       "    <tr>\n",
       "      <th>75%</th>\n",
       "      <td>54708.500000</td>\n",
       "      <td>1.544170e+06</td>\n",
       "      <td>5.260000e+02</td>\n",
       "      <td>NaN</td>\n",
       "      <td>4.195000</td>\n",
       "    </tr>\n",
       "    <tr>\n",
       "      <th>max</th>\n",
       "      <td>192376.000000</td>\n",
       "      <td>7.878189e+06</td>\n",
       "      <td>1.850193e+11</td>\n",
       "      <td>NaN</td>\n",
       "      <td>4.620000</td>\n",
       "    </tr>\n",
       "  </tbody>\n",
       "</table>\n",
       "</div>"
      ],
      "text/plain": [
       "        review_count  number_of_ratings        length  genre      rating\n",
       "count     100.000000       1.000000e+02  1.000000e+02    0.0  100.000000\n",
       "mean    43539.410000       1.152083e+06  1.850194e+09    NaN    4.064100\n",
       "std     37213.623217       1.314679e+06  1.850193e+10    NaN    0.227446\n",
       "min       210.000000       1.100500e+04  1.500000e+01    NaN    3.580000\n",
       "25%     16597.500000       2.592898e+05  3.085000e+02    NaN    3.927500\n",
       "50%     34179.000000       6.296500e+05  3.900000e+02    NaN    4.070000\n",
       "75%     54708.500000       1.544170e+06  5.260000e+02    NaN    4.195000\n",
       "max    192376.000000       7.878189e+06  1.850193e+11    NaN    4.620000"
      ]
     },
     "execution_count": 106,
     "metadata": {},
     "output_type": "execute_result"
    }
   ],
   "source": [
    "df.describe()"
   ]
  },
  {
   "cell_type": "code",
   "execution_count": null,
   "id": "11d2fab5",
   "metadata": {},
   "outputs": [],
   "source": [
    "target"
   ]
  },
  {
   "cell_type": "code",
   "execution_count": 107,
   "id": "23e96151",
   "metadata": {},
   "outputs": [
    {
     "data": {
      "text/plain": [
       "title  summary  year_published  author  review_count  number_of_ratings  length  genre  rating  reviews  clean_titles  Target\n",
       "False  False    False           False   False         False              False   True   False   False    False         False     100\n",
       "dtype: int64"
      ]
     },
     "execution_count": 107,
     "metadata": {},
     "output_type": "execute_result"
    }
   ],
   "source": [
    "# genre is null\n",
    "df.isnull().value_counts()"
   ]
  },
  {
   "cell_type": "markdown",
   "id": "dda86fd5",
   "metadata": {},
   "source": [
    "# let's clean summary"
   ]
  },
  {
   "cell_type": "markdown",
   "id": "89413238",
   "metadata": {},
   "source": [
    "## Create a function to clean summary"
   ]
  },
  {
   "cell_type": "code",
   "execution_count": 108,
   "id": "6ffae1ac",
   "metadata": {},
   "outputs": [
    {
     "data": {
      "text/plain": [
       "0     Harry has been burdened with a dark, dangerous...\n",
       "1     Could you survive on your own in the wild, wit...\n",
       "2     1970s Afghanistan: Twelve-year-old Amir is des...\n",
       "3     Librarian's note: An alternate cover edition c...\n",
       "4     It is the middle of the summer, but there is a...\n",
       "                            ...                        \n",
       "95    God is dead. Meet the kids.Fat Charlie Nancy's...\n",
       "96    God Is Not Great makes the ultimate case again...\n",
       "97    One choice can transform you—or it can destroy...\n",
       "98    In Eats, Shoots & Leaves, former editor Lynne ...\n",
       "99    The \"complex and moving\" (The New Yorker) nove...\n",
       "Name: summary, Length: 100, dtype: object"
      ]
     },
     "execution_count": 108,
     "metadata": {},
     "output_type": "execute_result"
    }
   ],
   "source": [
    "df.summary\n"
   ]
  },
  {
   "cell_type": "code",
   "execution_count": 109,
   "id": "c76add36",
   "metadata": {},
   "outputs": [],
   "source": [
    "# unicodedata.normalize removes any inconsistencies in unicode character encoding.\n",
    "# encode to convert the resulting string to the ASCII character set. We'll ignore any errors in conversion, meaning we'll drop anything that isn't an ASCII character.\n",
    "# .decode to turn the resulting bytes object back into a string."
   ]
  },
  {
   "cell_type": "code",
   "execution_count": 119,
   "id": "9c6c264f",
   "metadata": {},
   "outputs": [],
   "source": [
    "def clean_article(df, col_name):\n",
    "    cleaned_summaries = []\n",
    "    for summary in df[col_name]:\n",
    "        # Normalize the summary text and convert to lowercase\n",
    "        cleaned_summary = unicodedata.normalize('NFKD', summary)\\\n",
    "            .encode('ascii', 'ignore')\\\n",
    "            .decode('utf-8', 'ignore')\\\n",
    "            .lower()\n",
    "        cleaned_summaries.append(cleaned_summary)\n",
    "    df[f'cleaned_{col_name}'] = cleaned_summaries"
   ]
  },
  {
   "cell_type": "code",
   "execution_count": 120,
   "id": "a7f91684",
   "metadata": {},
   "outputs": [
    {
     "name": "stderr",
     "output_type": "stream",
     "text": [
      "/var/folders/d0/5dr5q0n145vcn3_m9dxy1xq80000gn/T/ipykernel_10962/4173208729.py:10: SettingWithCopyWarning: \n",
      "A value is trying to be set on a copy of a slice from a DataFrame.\n",
      "Try using .loc[row_indexer,col_indexer] = value instead\n",
      "\n",
      "See the caveats in the documentation: https://pandas.pydata.org/pandas-docs/stable/user_guide/indexing.html#returning-a-view-versus-a-copy\n",
      "  df[f'cleaned_{col_name}'] = cleaned_summaries\n"
     ]
    }
   ],
   "source": [
    "clean_article(df, 'summary')"
   ]
  },
  {
   "cell_type": "code",
   "execution_count": 121,
   "id": "1eb6a0c9",
   "metadata": {},
   "outputs": [
    {
     "data": {
      "text/html": [
       "<div>\n",
       "<style scoped>\n",
       "    .dataframe tbody tr th:only-of-type {\n",
       "        vertical-align: middle;\n",
       "    }\n",
       "\n",
       "    .dataframe tbody tr th {\n",
       "        vertical-align: top;\n",
       "    }\n",
       "\n",
       "    .dataframe thead th {\n",
       "        text-align: right;\n",
       "    }\n",
       "</style>\n",
       "<table border=\"1\" class=\"dataframe\">\n",
       "  <thead>\n",
       "    <tr style=\"text-align: right;\">\n",
       "      <th></th>\n",
       "      <th>title</th>\n",
       "      <th>summary</th>\n",
       "      <th>year_published</th>\n",
       "      <th>author</th>\n",
       "      <th>review_count</th>\n",
       "      <th>number_of_ratings</th>\n",
       "      <th>length</th>\n",
       "      <th>genre</th>\n",
       "      <th>rating</th>\n",
       "      <th>reviews</th>\n",
       "      <th>clean_titles</th>\n",
       "      <th>Target</th>\n",
       "      <th>cleaned_summary</th>\n",
       "    </tr>\n",
       "  </thead>\n",
       "  <tbody>\n",
       "    <tr>\n",
       "      <th>0</th>\n",
       "      <td>Harry Potter and the Deathly Hallows</td>\n",
       "      <td>Harry has been burdened with a dark, dangerous...</td>\n",
       "      <td>2007</td>\n",
       "      <td>J.K. Rowling</td>\n",
       "      <td>78687</td>\n",
       "      <td>3437863</td>\n",
       "      <td>759</td>\n",
       "      <td>NaN</td>\n",
       "      <td>4.62</td>\n",
       "      <td>[\"Ok, before I start a few warnings. This will...</td>\n",
       "      <td>harry potter and the deathly hallows</td>\n",
       "      <td>unsuccessful</td>\n",
       "      <td>harry has been burdened with a dark, dangerous...</td>\n",
       "    </tr>\n",
       "  </tbody>\n",
       "</table>\n",
       "</div>"
      ],
      "text/plain": [
       "                                  title  \\\n",
       "0  Harry Potter and the Deathly Hallows   \n",
       "\n",
       "                                             summary year_published  \\\n",
       "0  Harry has been burdened with a dark, dangerous...           2007   \n",
       "\n",
       "         author  review_count  number_of_ratings  length  genre  rating  \\\n",
       "0  J.K. Rowling         78687            3437863     759    NaN    4.62   \n",
       "\n",
       "                                             reviews  \\\n",
       "0  [\"Ok, before I start a few warnings. This will...   \n",
       "\n",
       "                           clean_titles        Target  \\\n",
       "0  harry potter and the deathly hallows  unsuccessful   \n",
       "\n",
       "                                     cleaned_summary  \n",
       "0  harry has been burdened with a dark, dangerous...  "
      ]
     },
     "execution_count": 121,
     "metadata": {},
     "output_type": "execute_result"
    }
   ],
   "source": [
    "df.head(1)"
   ]
  },
  {
   "cell_type": "markdown",
   "id": "e57b4e88",
   "metadata": {},
   "source": [
    "# Clean Reviews"
   ]
  },
  {
   "cell_type": "code",
   "execution_count": 150,
   "id": "cbe5125c",
   "metadata": {},
   "outputs": [],
   "source": [
    "clean_article(df,'reviews')"
   ]
  },
  {
   "cell_type": "markdown",
   "id": "c609df1d",
   "metadata": {},
   "source": [
    "###  remove special chars and tokenize"
   ]
  },
  {
   "cell_type": "code",
   "execution_count": null,
   "id": "f9e71e2f",
   "metadata": {},
   "outputs": [],
   "source": []
  }
 ],
 "metadata": {
  "kernelspec": {
   "display_name": "Python 3 (ipykernel)",
   "language": "python",
   "name": "python3"
  },
  "language_info": {
   "codemirror_mode": {
    "name": "ipython",
    "version": 3
   },
   "file_extension": ".py",
   "mimetype": "text/x-python",
   "name": "python",
   "nbconvert_exporter": "python",
   "pygments_lexer": "ipython3",
   "version": "3.9.13"
  }
 },
 "nbformat": 4,
 "nbformat_minor": 5
}
