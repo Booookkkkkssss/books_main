{
 "cells": [
  {
   "cell_type": "markdown",
   "id": "18f1f21f",
   "metadata": {},
   "source": [
    "# various imports"
   ]
  },
  {
   "cell_type": "code",
   "execution_count": 3,
   "id": "641a0af2",
   "metadata": {},
   "outputs": [],
   "source": [
    "from pprint import pprint\n",
    "\n",
    "import pandas as pd\n",
    "import numpy as np\n",
    "\n",
    "%matplotlib inline\n",
    "import matplotlib.pyplot as plt\n",
    "\n",
    "\n",
    "import prepare as pr \n",
    "import re \n",
    "\n",
    "from sklearn.model_selection import train_test_split\n",
    "import sklearn.model_selection\n",
    "import sklearn.preprocessing\n",
    "\n",
    "\n",
    "import xgboost as xgb\n",
    "from sklearn.metrics import confusion_matrix\n",
    "# from sklearn.metrics import plot_confusion_matrix\n",
    "from sklearn.metrics import  ConfusionMatrixDisplay\n",
    "from sklearn.metrics import recall_score\n",
    "\n",
    "\n",
    "from sklearn.feature_extraction.text import CountVectorizer\n",
    "import sklearn.metrics as m\n",
    "from sklearn.model_selection import cross_val_score\n",
    "from xgboost import XGBClassifier\n",
    "from sklearn.metrics import f1_score"
   ]
  },
  {
   "cell_type": "code",
   "execution_count": 4,
   "id": "93ce7413",
   "metadata": {},
   "outputs": [],
   "source": [
    "# read in all books to model on\n",
    "df = pr.prep_data('all_books.csv')"
   ]
  },
  {
   "cell_type": "code",
   "execution_count": null,
   "id": "53154ed4",
   "metadata": {},
   "outputs": [],
   "source": []
  },
  {
   "cell_type": "code",
   "execution_count": 5,
   "id": "2b498658",
   "metadata": {},
   "outputs": [],
   "source": [
    "# create a copy of the un-altered df\n",
    "save = df.copy()"
   ]
  },
  {
   "cell_type": "code",
   "execution_count": 6,
   "id": "cfe159ed",
   "metadata": {},
   "outputs": [],
   "source": [
    "# df = save "
   ]
  },
  {
   "cell_type": "markdown",
   "id": "4cc5da92",
   "metadata": {},
   "source": [
    "# create dummies"
   ]
  },
  {
   "cell_type": "code",
   "execution_count": null,
   "id": "a36350ef",
   "metadata": {},
   "outputs": [],
   "source": [
    "# creating encode variables"
   ]
  },
  {
   "cell_type": "code",
   "execution_count": 7,
   "id": "de2e58db",
   "metadata": {},
   "outputs": [],
   "source": [
    "def ready_df(df):\n",
    "    \n",
    "    # drop columns we do not want to model on\n",
    "    df = df.drop(columns= ['title','summary','year_published','author','reviews','cleaned_title','cleaned_summary'])\n",
    "    \n",
    "    # creating dummies for genre and sentient\n",
    "    df['genre'] = df.genre.astype('object')\n",
    "    dummy_df = pd.get_dummies(df[['genre','sentiment']], dummy_na=False, drop_first=[True, True])\n",
    "    \n",
    "    # add dummies to dataframe \n",
    "    df = pd.concat([df, dummy_df],axis= 1)\n",
    "    \n",
    "    return df\n",
    "    "
   ]
  },
  {
   "cell_type": "code",
   "execution_count": 8,
   "id": "b935ddc8",
   "metadata": {},
   "outputs": [],
   "source": [
    "# run function\n",
    "df = ready_df(df)"
   ]
  },
  {
   "cell_type": "markdown",
   "id": "3dcf51e9",
   "metadata": {},
   "source": [
    "# split"
   ]
  },
  {
   "cell_type": "code",
   "execution_count": null,
   "id": "959def39",
   "metadata": {},
   "outputs": [],
   "source": [
    "# function to split"
   ]
  },
  {
   "cell_type": "code",
   "execution_count": 33,
   "id": "1ae34efb",
   "metadata": {},
   "outputs": [],
   "source": [
    "def split(df, target):\n",
    "    train, test = train_test_split(df, test_size=.2, random_state=42, stratify=df[target])\n",
    "    return train, test"
   ]
  },
  {
   "cell_type": "code",
   "execution_count": 34,
   "id": "a102190e",
   "metadata": {},
   "outputs": [],
   "source": [
    "# run\n",
    "train, test = split(df,'successful')"
   ]
  },
  {
   "cell_type": "code",
   "execution_count": null,
   "id": "abab080e",
   "metadata": {},
   "outputs": [],
   "source": [
    "# create x and y split function"
   ]
  },
  {
   "cell_type": "code",
   "execution_count": 35,
   "id": "6b09c0b4",
   "metadata": {},
   "outputs": [],
   "source": [
    "def Xandy_set(train,test):\n",
    "    \n",
    "    # creating train and test (x and y) subsets\n",
    "    X_train =  train.drop(columns= \"successful\")\n",
    "    y_train = train['successful']\n",
    "    \n",
    "    # creating train and test (x and y) subsets\n",
    "    X_test = test.drop(columns= \"successful\")\n",
    "    y_test = test['successful']\n",
    "    \n",
    "    # reset index, (no sorting or reordering)\n",
    "    X_train = X_train.reset_index(drop= True)\n",
    "    y_train = y_train.reset_index(drop= True)\n",
    "    X_test = X_test.reset_index(drop= True)\n",
    "    y_test = y_test.reset_index(drop= True)\n",
    "    \n",
    "    return X_train, y_train, X_test, y_test\n",
    "    "
   ]
  },
  {
   "cell_type": "code",
   "execution_count": 36,
   "id": "e93204c5",
   "metadata": {},
   "outputs": [],
   "source": [
    "# run function\n",
    "X_train, y_train, X_test, y_test = Xandy_set(train,test)"
   ]
  },
  {
   "cell_type": "code",
   "execution_count": null,
   "id": "07d7d53d",
   "metadata": {},
   "outputs": [],
   "source": [
    "# create scaling function"
   ]
  },
  {
   "cell_type": "code",
   "execution_count": 37,
   "id": "6eb9c372",
   "metadata": {},
   "outputs": [],
   "source": [
    "\n",
    "def scaling(X_train, X_test):\n",
    "    \n",
    "    # create a subset of numerical column\n",
    "    xtrainnums = X_train[['review_count','number_of_ratings','length','rating']]\n",
    "    \n",
    "    number_list = ['review_count','number_of_ratings','length','rating']\n",
    "\n",
    "    # Note that we only call .fit with the training data\n",
    "    scaler = sklearn.preprocessing.StandardScaler()\n",
    "    \n",
    "    # fit training data to scaler, not transforming here\n",
    "    scaler.fit(xtrainnums)\n",
    "    \n",
    "    # transform the numerical values that we want based on the trained fit scaler\n",
    "    X_train_scaled = scaler.transform(X_train[number_list])\n",
    "    X_test_scaled = scaler.transform(X_test[number_list])\n",
    "    \n",
    "    # create a dataframe\n",
    "    X_train_scaled = pd.DataFrame(X_train_scaled, columns= [number_list])\n",
    "    X_test_scaled = pd.DataFrame(X_test_scaled, columns= [number_list])\n",
    "    \n",
    "    \n",
    "    # add the 'neg','neutral','pos','compound' from x_train to the scaled data. reset\n",
    "    X_train_scaled[['neg','neutral','pos','compound']] = X_train[['neg','neutral','pos','compound']].reset_index(drop = True)\n",
    "    X_test_scaled[['neg','neutral','pos','compound']] = X_test[['neg','neutral','pos','compound']].reset_index(drop = True)\n",
    "\n",
    "    # create a list of the dummies \n",
    "    dummies = X_train.columns.tolist()[11:]\n",
    "    \n",
    "    # add dummies to dataframe\n",
    "    X_train_scaled = pd.concat([X_train_scaled, X_train[dummies]],axis = 1 )\n",
    "    X_test_scaled = pd.concat([X_test_scaled, X_test[dummies]],axis = 1 )\n",
    "\n",
    "\n",
    "    \n",
    "    \n",
    "    return X_train_scaled, X_test_scaled\n",
    "    "
   ]
  },
  {
   "cell_type": "code",
   "execution_count": 38,
   "id": "7added1b",
   "metadata": {},
   "outputs": [],
   "source": [
    "# run\n",
    "X_train_scaled, X_test_scaled = scaling(X_train, X_test)"
   ]
  },
  {
   "cell_type": "markdown",
   "id": "08ba9878",
   "metadata": {},
   "source": [
    "# Baseline"
   ]
  },
  {
   "cell_type": "code",
   "execution_count": null,
   "id": "43768b44",
   "metadata": {},
   "outputs": [],
   "source": [
    "# determine a baseline"
   ]
  },
  {
   "cell_type": "code",
   "execution_count": 14,
   "id": "d9ddcd6a",
   "metadata": {},
   "outputs": [],
   "source": [
    "y_train = pd.DataFrame(y_train)"
   ]
  },
  {
   "cell_type": "code",
   "execution_count": 15,
   "id": "b92f02a2",
   "metadata": {},
   "outputs": [],
   "source": [
    "y_test = pd.DataFrame(y_test)"
   ]
  },
  {
   "cell_type": "code",
   "execution_count": 16,
   "id": "493ef29f",
   "metadata": {},
   "outputs": [],
   "source": [
    "y_train['baseline'] = False"
   ]
  },
  {
   "cell_type": "code",
   "execution_count": 17,
   "id": "cd86334d",
   "metadata": {},
   "outputs": [],
   "source": [
    "y_test['baseline'] = False"
   ]
  },
  {
   "cell_type": "markdown",
   "id": "9649761c",
   "metadata": {},
   "source": [
    "# Baseline "
   ]
  },
  {
   "cell_type": "code",
   "execution_count": null,
   "id": "1e805280",
   "metadata": {},
   "outputs": [],
   "source": [
    "# visualize the baseline"
   ]
  },
  {
   "cell_type": "code",
   "execution_count": 18,
   "id": "06c9502f",
   "metadata": {},
   "outputs": [
    {
     "data": {
      "image/png": "[encoded data removed]",
      "text/plain": [
       "<Figure size 640x480 with 2 Axes>"
      ]
     },
     "metadata": {},
     "output_type": "display_data"
    }
   ],
   "source": [
    "cm = confusion_matrix(y_test['successful'], y_test['baseline'])\n",
    "\n",
    "    # plot confusion matrix\n",
    "disp = ConfusionMatrixDisplay(confusion_matrix=cm,\n",
    "                              display_labels=['Unsuccessful', 'Bestseller'])\n",
    "disp.plot()\n",
    "disp.ax_.set_title(\"Confusion Matrix for XGB Classifier\")\n",
    "\n",
    "plt.show()\n",
    "    "
   ]
  },
  {
   "cell_type": "code",
   "execution_count": 19,
   "id": "d36e6397",
   "metadata": {},
   "outputs": [],
   "source": [
    "# 0% Recall\n",
    "# 95% accuracy"
   ]
  },
  {
   "cell_type": "markdown",
   "id": "66fc6c0d",
   "metadata": {},
   "source": [
    "# XGBoost Model"
   ]
  },
  {
   "cell_type": "code",
   "execution_count": 20,
   "id": "bf9c4a77",
   "metadata": {},
   "outputs": [],
   "source": [
    "def XGBclf(X_train_scaled, X_test_scaled): \n",
    "    \n",
    "    # create  an instance with predetermined values, using cross validation, grid search and other methods,\n",
    "    # these parameters have been predetermined for the top performance. \n",
    "    xgb_clf = xgb.XGBClassifier(objective ='binary:logistic', \n",
    "                                        seed = 42,\n",
    "                                        max_depth = 3,    \n",
    "                                        scale_pos_weight= 7,\n",
    "                                        learning_rate = .1,\n",
    "                                        subsample = .7,\n",
    "                                        colsample_bytree = .7,\n",
    "                                        n_jobs = 10)\n",
    "    \n",
    "    most_imp = [('number_of_ratings',),\n",
    "                'genre_Mystery',\n",
    "                ('review_count',),\n",
    "                 'genre_Nonfiction',\n",
    "                'genre_Horror',\n",
    "                 ('length',),\n",
    "                 'genre_Fiction',\n",
    "                 ('rating',),\n",
    "                 'sentiment_very negative',\n",
    "                 'genre_Young Adult',\n",
    "                 'genre_Fantasy',\n",
    "                 'genre_Romance',\n",
    "                 ('neutral',),\n",
    "                 ('neg',),\n",
    "                 ('pos',),\n",
    "                 ('compound',),\n",
    "                 'sentiment_very positive',\n",
    "                 'genre_Thriller']\n",
    "    \n",
    "    # fit the model with x_train, using the most important features, and y_train\n",
    "    xgb_clf.fit(X_train_scaled[most_imp],y_train['successful'])\n",
    "    \n",
    "    # y predictions for test\n",
    "    y_pred = xgb_clf.predict(X_test_scaled[most_imp])\n",
    "    \n",
    "    # assume y_test and y_pred are your test set target variable and predicted labels, respectively\n",
    "    cm = confusion_matrix(y_test['successful'], y_pred)\n",
    "\n",
    "    # plot confusion matrix\n",
    "    disp = ConfusionMatrixDisplay(confusion_matrix=cm,\n",
    "                              display_labels=['Unsuccessful', 'Bestseller'])\n",
    "    disp.plot()\n",
    "    disp.ax_.set_title(\"Confusion Matrix for XGB Classifier\")\n",
    "\n",
    "    plt.show()\n",
    "    \n",
    "    return y_pred\n",
    "    \n",
    "    "
   ]
  },
  {
   "cell_type": "code",
   "execution_count": 21,
   "id": "8557b277",
   "metadata": {},
   "outputs": [
    {
     "name": "stderr",
     "output_type": "stream",
     "text": [
      "/usr/local/anaconda3/lib/python3.9/site-packages/pandas/core/common.py:241: VisibleDeprecationWarning: Creating an ndarray from ragged nested sequences (which is a list-or-tuple of lists-or-tuples-or ndarrays with different lengths or shapes) is deprecated. If you meant to do this, you must specify 'dtype=object' when creating the ndarray.\n",
      "  result = np.asarray(values, dtype=dtype)\n",
      "/usr/local/anaconda3/lib/python3.9/site-packages/pandas/core/common.py:241: VisibleDeprecationWarning: Creating an ndarray from ragged nested sequences (which is a list-or-tuple of lists-or-tuples-or ndarrays with different lengths or shapes) is deprecated. If you meant to do this, you must specify 'dtype=object' when creating the ndarray.\n",
      "  result = np.asarray(values, dtype=dtype)\n"
     ]
    },
    {
     "data": {
      "image/png": "[encoded data removed]",
      "text/plain": [
       "<Figure size 640x480 with 2 Axes>"
      ]
     },
     "metadata": {},
     "output_type": "display_data"
    }
   ],
   "source": [
    "y_pred = XGBclf(X_train_scaled, X_test_scaled) "
   ]
  },
  {
   "cell_type": "markdown",
   "id": "5633eb40",
   "metadata": {},
   "source": [
    "# Ensemble Imbalance"
   ]
  },
  {
   "cell_type": "code",
   "execution_count": 43,
   "id": "6cb02cea",
   "metadata": {},
   "outputs": [],
   "source": [
    "import imbalanced_ensemble "
   ]
  },
  {
   "cell_type": "code",
   "execution_count": 9,
   "id": "c5529ffd",
   "metadata": {},
   "outputs": [],
   "source": [
    "from sklearn.model_selection import GridSearchCV\n",
    "from sklearn.datasets import make_classification\n",
    "from sklearn.metrics import f1_score, make_scorer, confusion_matrix\n"
   ]
  },
  {
   "cell_type": "code",
   "execution_count": null,
   "id": "d157b11d",
   "metadata": {},
   "outputs": [],
   "source": [
    "# Define parameter grid\n",
    "param_grid = {\n",
    "    'base_estimator': ['DecisionTreeClassifier', 'RandomForestClassifier'],\n",
    "    'n_estimators': [50, 100, 200],\n",
    "    'sps_step': [0.1, 0.2, 0.3],\n",
    "    'sps_max_iter': [5, 10, 15],\n",
    "}\n",
    "\n",
    "# Define scoring metric\n",
    "scorer = make_scorer(f1_score, pos_label=1)\n",
    "\n",
    "# Create grid search object\n",
    "clf = SelfPacedEnsembleClassifier()\n",
    "grid_search = GridSearchCV(clf, param_grid, scoring=scorer)\n",
    "\n",
    "# Fit grid search to data\n",
    "grid_search.fit(X, y)\n",
    "\n",
    "# Print best parameters and score\n",
    "print('Best parameters:', grid_search.best_params_)\n",
    "print('Best score:', grid_search.best_score_)\n",
    "\n",
    "# Get best estimator from grid search\n",
    "best_estimator = grid_search.best_estimator_\n",
    "\n",
    "# Predict labels using best estimator\n",
    "y_pred = best_estimator.predict(X)\n",
    "\n",
    "# Print confusion matrix\n",
    "print('Confusion matrix:')\n",
    "print(confusion_matrix(y, y_pred))"
   ]
  },
  {
   "cell_type": "markdown",
   "id": "8649c92a",
   "metadata": {},
   "source": [
    "# Ensemble Imbalance"
   ]
  },
  {
   "cell_type": "markdown",
   "id": "bb5272eb",
   "metadata": {},
   "source": [
    "# XGBOOST "
   ]
  },
  {
   "cell_type": "markdown",
   "id": "4838966f",
   "metadata": {},
   "source": [
    "# Random Forest"
   ]
  },
  {
   "cell_type": "markdown",
   "id": "201f538e",
   "metadata": {},
   "source": [
    "# grid search"
   ]
  },
  {
   "cell_type": "code",
   "execution_count": null,
   "id": "c1d1b38a",
   "metadata": {},
   "outputs": [],
   "source": [
    "from sklearn.ensemble import RandomForestClassifier\n",
    "from sklearn.model_selection import GridSearchCV"
   ]
  },
  {
   "cell_type": "code",
   "execution_count": null,
   "id": "1d2f0ce6",
   "metadata": {},
   "outputs": [],
   "source": [
    " most_imp = [('number_of_ratings',),\n",
    "                'genre_Mystery',\n",
    "                ('review_count',),\n",
    "                 'genre_Nonfiction',\n",
    "                'genre_Horror',\n",
    "                 ('length',),\n",
    "                 'genre_Fiction',\n",
    "                 ('rating',),\n",
    "                 'sentiment_very negative',\n",
    "                 'genre_Young Adult',\n",
    "                 'genre_Fantasy',\n",
    "                 'genre_Romance',\n",
    "                 ('neutral',),\n",
    "                 ('neg',),\n",
    "                 ('pos',),\n",
    "                 ('compound',),\n",
    "                 'sentiment_very positive',\n",
    "                 'genre_Thriller']"
   ]
  },
  {
   "cell_type": "code",
   "execution_count": null,
   "id": "6b55294c",
   "metadata": {},
   "outputs": [],
   "source": [
    "# Create a random forest classifier\n",
    "rfc = RandomForestClassifier()\n",
    "\n",
    "# Define the parameter grid to search over\n",
    "param_grid = {\n",
    "    'n_estimators': [10, 50, 100],\n",
    "    'max_depth': [None, 5, 10],\n",
    "    'max_features': ['auto', 'sqrt'],\n",
    "    'min_samples_split': [2, 5, 10],\n",
    "    'min_samples_leaf': [1, 2, 4]\n",
    "}\n",
    "\n",
    "# Create a grid search object\n",
    "grid_search = GridSearchCV(\n",
    "    estimator=rfc,\n",
    "    param_grid=param_grid,\n",
    "    cv=2,\n",
    "    n_jobs=-1,\n",
    "    scoring='accuracy'\n",
    ")\n",
    "\n",
    "# Fit the grid search to the data\n",
    "grid_search.fit(X_train_scaled[most_imp], y_train['successful'])\n",
    "\n",
    "# Print the best parameters and score\n",
    "print(\"Best parameters: \", grid_search.best_params_)\n",
    "print(\"Best score: \", grid_search.best_score_)\n"
   ]
  },
  {
   "cell_type": "code",
   "execution_count": null,
   "id": "f65d93d4",
   "metadata": {},
   "outputs": [],
   "source": [
    "rfc = RandomForestClassifier(max_depth = None, \n",
    "                       max_features= 'sqrt',\n",
    "                       min_samples_leaf = 1,\n",
    "                       min_samples_split = 5,\n",
    "                       n_estimators = 100)"
   ]
  },
  {
   "cell_type": "code",
   "execution_count": null,
   "id": "47c8bccf",
   "metadata": {},
   "outputs": [],
   "source": [
    "rfc.fit(X_train_scaled[most_imp], y_train['successful'])"
   ]
  },
  {
   "cell_type": "code",
   "execution_count": null,
   "id": "a8435ae2",
   "metadata": {},
   "outputs": [],
   "source": [
    "# y predictions for test\n",
    "y_pred_rfc = rfc.predict(X_test_scaled[most_imp])\n",
    "    "
   ]
  },
  {
   "cell_type": "code",
   "execution_count": null,
   "id": "bdde2f2d",
   "metadata": {},
   "outputs": [],
   "source": [
    "# assume y_test and y_pred are your test set target variable and predicted labels, respectively\n",
    "cm = confusion_matrix(y_test['successful'], y_pred_rfc)\n",
    "\n",
    "# plot confusion matrix\n",
    "disp = ConfusionMatrixDisplay(confusion_matrix=cm,\n",
    "                              display_labels=['Unsuccessful', 'Bestseller'])\n",
    "disp.plot()\n",
    "disp.ax_.set_title(\"Confusion Matrix for XGB Classifier\")"
   ]
  },
  {
   "cell_type": "markdown",
   "id": "a1262d57",
   "metadata": {},
   "source": [
    "# grid search"
   ]
  },
  {
   "cell_type": "markdown",
   "id": "48a8389a",
   "metadata": {},
   "source": [
    "# Random Forest"
   ]
  },
  {
   "cell_type": "markdown",
   "id": "2d2f0aba",
   "metadata": {},
   "source": [
    "# Decision Tree "
   ]
  },
  {
   "cell_type": "markdown",
   "id": "3f02602d",
   "metadata": {},
   "source": [
    "# grid search"
   ]
  },
  {
   "cell_type": "code",
   "execution_count": null,
   "id": "a8a9d61b",
   "metadata": {},
   "outputs": [],
   "source": [
    "from sklearn.tree import DecisionTreeClassifier"
   ]
  },
  {
   "cell_type": "code",
   "execution_count": null,
   "id": "b706fecb",
   "metadata": {},
   "outputs": [],
   "source": [
    "# Create a random forest classifier\n",
    "dtc = DecisionTreeClassifier()\n",
    "\n",
    "# Define the parameter grid to search over\n",
    "param_grid = {\n",
    "    'criterion': ['entrop','gini'],\n",
    "    'max_features': [None, 3,5],\n",
    "    'max_depth': [None, 5, 10],\n",
    "    'min_samples_split': [2, 5, 10],\n",
    "    'min_samples_leaf': [1, 2, 4],\n",
    "    'min_weight_fraction_leaf' : [0.0,0.3,0.5]\n",
    "}\n",
    "\n",
    "    \n",
    "# Create a grid search object\n",
    "grid_search = GridSearchCV(\n",
    "    estimator=dtc,\n",
    "    param_grid=param_grid,\n",
    "    cv=2,\n",
    "    n_jobs=-1,\n",
    "    scoring='recall'\n",
    ")\n",
    "\n",
    "# Fit the grid search to the data\n",
    "grid_search.fit(X_train_scaled[most_imp], y_train['successful'])\n",
    "\n",
    "# Print the best parameters and score\n",
    "print(\"Best parameters: \", grid_search.best_params_)\n",
    "print(\"Best score: \", grid_search.best_score_)\n"
   ]
  },
  {
   "cell_type": "markdown",
   "id": "bd537a71",
   "metadata": {},
   "source": [
    "# grid search"
   ]
  },
  {
   "cell_type": "code",
   "execution_count": null,
   "id": "17174627",
   "metadata": {},
   "outputs": [],
   "source": [
    "dtc = DecisionTreeClassifier(criterion= 'gini', \n",
    "                       max_depth = None,\n",
    "                       min_samples_leaf = 1,\n",
    "                       min_samples_split = 2,\n",
    "                       min_weight_fraction_leaf= 0.0,\n",
    "                       max_features= None)"
   ]
  },
  {
   "cell_type": "code",
   "execution_count": null,
   "id": "4355e2f1",
   "metadata": {},
   "outputs": [],
   "source": [
    "dtc.fit(X_train_scaled[most_imp], y_train['successful'])"
   ]
  },
  {
   "cell_type": "code",
   "execution_count": null,
   "id": "dff3f2ae",
   "metadata": {},
   "outputs": [],
   "source": [
    "# y predictions for test\n",
    "y_pred_dtc = dtc.predict(X_test_scaled[most_imp])"
   ]
  },
  {
   "cell_type": "code",
   "execution_count": null,
   "id": "f0320a0f",
   "metadata": {},
   "outputs": [],
   "source": [
    "# assume y_test and y_pred are your test set target variable and predicted labels, respectively\n",
    "cm = confusion_matrix(y_test['successful'], y_pred_dtc)\n",
    "\n",
    "# plot confusion matrix\n",
    "disp = ConfusionMatrixDisplay(confusion_matrix=cm,\n",
    "                              display_labels=['Unsuccessful', 'Bestseller'])\n",
    "disp.plot()\n",
    "disp.ax_.set_title(\"Confusion Matrix for XGB Classifier\")"
   ]
  },
  {
   "cell_type": "code",
   "execution_count": null,
   "id": "58cfd594",
   "metadata": {},
   "outputs": [],
   "source": [
    "# Accuracy 92% \n",
    "# Recall 31%"
   ]
  },
  {
   "cell_type": "code",
   "execution_count": null,
   "id": "d3bb4cbd",
   "metadata": {},
   "outputs": [],
   "source": []
  },
  {
   "cell_type": "markdown",
   "id": "874b489f",
   "metadata": {},
   "source": [
    "# Decision Tree"
   ]
  },
  {
   "cell_type": "markdown",
   "id": "560faa21",
   "metadata": {},
   "source": [
    "# final model "
   ]
  },
  {
   "cell_type": "markdown",
   "id": "831173cc",
   "metadata": {},
   "source": [
    "<div class=\"alert alert-block alert-success\">\n",
    "<b>XGBOOST:</b> \n",
    "# accuracy 91.13%\n",
    "# recall 50%\n",
    "</div>\n",
    "\n",
    "<div class=\"alert alert-block alert-success\">\n",
    "<b>RandomForest:</b> \n",
    "# accuracy 94%\n",
    "# recall 4%\n",
    "</div>\n",
    "\n",
    "<div class=\"alert alert-block alert-success\">\n",
    "<b>DecisionTree:</b> \n",
    "# accuracy 95%\n",
    "# recall 28%\n",
    "</div>\n",
    "\n",
    "<div class=\"alert alert-block alert-success\">\n",
    "<b>Baseline:</b> \n",
    "# accuracy 99%\n",
    "# recall 0%\n",
    "</div>\n",
    "\n",
    "\n"
   ]
  },
  {
   "cell_type": "code",
   "execution_count": null,
   "id": "a23b723b",
   "metadata": {},
   "outputs": [],
   "source": [
    "import seaborn as sns\n",
    "\n",
    "models = {'Accuracy': [91.13, 94, 95, 99],\n",
    "          'Recall' : [50, 4, 28, 0]}\n",
    "index = ['XGBoost', 'RandomForest', 'DecisionTree', 'Baseline']\n",
    "\n",
    "model_profit = pd.DataFrame(models, index=index)"
   ]
  },
  {
   "cell_type": "code",
   "execution_count": null,
   "id": "8a08c24a",
   "metadata": {},
   "outputs": [],
   "source": [
    "model_profit = model_profit.T"
   ]
  },
  {
   "cell_type": "code",
   "execution_count": null,
   "id": "c2eac48a",
   "metadata": {},
   "outputs": [],
   "source": [
    "model_profit['metric'] = model_profit['metric'].astype('string')"
   ]
  },
  {
   "cell_type": "code",
   "execution_count": null,
   "id": "65073789",
   "metadata": {},
   "outputs": [],
   "source": [
    "model_profit['metric'][0] = model_profit['metric'][0].replace('0','acc')"
   ]
  },
  {
   "cell_type": "code",
   "execution_count": null,
   "id": "ebbd5c46",
   "metadata": {},
   "outputs": [],
   "source": [
    "model_profit['metric'][1] = model_profit['metric'][1].replace('0','rec')"
   ]
  },
  {
   "cell_type": "code",
   "execution_count": null,
   "id": "8177ab53",
   "metadata": {},
   "outputs": [],
   "source": [
    "model_profit"
   ]
  },
  {
   "cell_type": "code",
   "execution_count": null,
   "id": "764fd3b1",
   "metadata": {},
   "outputs": [],
   "source": [
    "data = pd.DataFrame({\n",
    "    'Model': ['XGBoost', 'RandomForest', 'DecisionTree', 'Baseline'],\n",
    "    'Accuracy': [91.13, 94.0, 95.0, 99.0],\n",
    "    'Recall': [50.00, 4.0, 28.0, 0.0],\n",
    "    \n",
    "})\n"
   ]
  },
  {
   "cell_type": "code",
   "execution_count": null,
   "id": "1b7214be",
   "metadata": {},
   "outputs": [],
   "source": [
    "data"
   ]
  },
  {
   "cell_type": "code",
   "execution_count": null,
   "id": "29f7beed",
   "metadata": {},
   "outputs": [],
   "source": [
    "# Melt the DataFrame to \"long\" format\n",
    "data_melted = pd.melt(data, id_vars=['Model'], var_name='Metric', value_name='Value')"
   ]
  },
  {
   "cell_type": "code",
   "execution_count": null,
   "id": "b453a2e7",
   "metadata": {},
   "outputs": [],
   "source": [
    "data_melted = data_melted.sort_values(by = \"Value\")"
   ]
  },
  {
   "cell_type": "code",
   "execution_count": null,
   "id": "5fb6bb6f",
   "metadata": {},
   "outputs": [],
   "source": [
    "data_melted"
   ]
  },
  {
   "cell_type": "code",
   "execution_count": null,
   "id": "587b0cb6",
   "metadata": {},
   "outputs": [],
   "source": [
    "0E3AFA\n",
    "68fd7f"
   ]
  },
  {
   "cell_type": "code",
   "execution_count": null,
   "id": "0d61fc62",
   "metadata": {},
   "outputs": [],
   "source": [
    "color1 = '#68FD7F'\n",
    "color2 = '#0E3AFA'  \n",
    "sns.set_style('whitegrid')"
   ]
  },
  {
   "cell_type": "code",
   "execution_count": null,
   "id": "d2d2b965",
   "metadata": {},
   "outputs": [],
   "source": [
    "# Plot the data\n",
    "ax =sns.barplot(x='Model', y='Value', hue='Metric', data=data_melted, palette=[color1, color2])\n",
    "sns.move_legend(ax, \"upper left\")\n",
    "\n",
    "plt.title('Model Performance')\n",
    "plt.xlabel('Model Types')\n",
    "plt.ylabel('Percentage')\n",
    "\n"
   ]
  },
  {
   "cell_type": "code",
   "execution_count": null,
   "id": "4bd2a8f4",
   "metadata": {},
   "outputs": [],
   "source": [
    "sns.barplot(x = 'Model',y = 'Accuracy' ,data= data)"
   ]
  },
  {
   "cell_type": "code",
   "execution_count": null,
   "id": "f15b01b7",
   "metadata": {
    "scrolled": true
   },
   "outputs": [],
   "source": [
    "# Plot the data\n",
    "sns.barplot(x='Model', y='value', hue='', data=pd.melt(data, id_vars=['Model'], value_vars=['Accuracy', 'Recall']), palette={'acc': 'red', 'rec': 'blue'})"
   ]
  },
  {
   "cell_type": "markdown",
   "id": "aa70f00d",
   "metadata": {},
   "source": [
    "# roc chart"
   ]
  },
  {
   "cell_type": "code",
   "execution_count": null,
   "id": "ace50692",
   "metadata": {},
   "outputs": [],
   "source": [
    "from sklearn.metrics import roc_curve\n",
    "from sklearn.metrics import auc "
   ]
  },
  {
   "cell_type": "code",
   "execution_count": null,
   "id": "8f77c2c2",
   "metadata": {},
   "outputs": [],
   "source": [
    "mode_val = y_test['successful'].mode()[0]\n",
    "\n",
    "# Create a new column with the mode value\n",
    "y_test = y_test.assign(baseline=mode_val)"
   ]
  },
  {
   "cell_type": "code",
   "execution_count": null,
   "id": "e246b71c",
   "metadata": {},
   "outputs": [],
   "source": [
    "y_test['baseline']"
   ]
  },
  {
   "cell_type": "code",
   "execution_count": null,
   "id": "d9788e06",
   "metadata": {},
   "outputs": [],
   "source": [
    "def roc(y_test, y_pred):\n",
    "    \n",
    "    \n",
    "    mode_val = y_test['successful'].mode()[0]\n",
    "\n",
    "    # Create a new column with the mode value\n",
    "    y_test = y_test.assign(baseline=mode_val)\n",
    "    \n",
    "    \n",
    "    plt.figure(figsize=(10,6))\n",
    "\n",
    "\n",
    "    fpr, tpr, thresholds = roc_curve(y_test['successful'], y_pred)\n",
    "    plt.plot(fpr, tpr, color='blue', lw=2, label=f'XGBClassifer (area = %0.4f)' % auc(fpr, tpr))\n",
    "\n",
    "    fpr, tpr, thresholds = roc_curve(y_test['successful'], y_test['baseline'])\n",
    "    plt.plot(fpr, tpr, color='red', lw=2, label=f'Baseline (area = %0.4f)' % auc(fpr, tpr))\n",
    "\n",
    "\n",
    "    plt.xlim([0.0, 1.0])\n",
    "    plt.ylim([0.0, 1.0])\n",
    "    plt.xlabel('False Positive Rate', fontsize=13)\n",
    "    plt.ylabel('True Positive Rate', fontsize=14)\n",
    "    plt.title('XGB Classifier Captured Area', fontsize=17)\n",
    "    plt.legend(loc='lower right', fontsize=13)\n",
    "    plt.show()"
   ]
  },
  {
   "cell_type": "code",
   "execution_count": null,
   "id": "f7a6d713",
   "metadata": {},
   "outputs": [],
   "source": [
    "roc(y_test, y_pred)"
   ]
  },
  {
   "cell_type": "code",
   "execution_count": null,
   "id": "7635f90d",
   "metadata": {},
   "outputs": [],
   "source": []
  },
  {
   "cell_type": "code",
   "execution_count": null,
   "id": "8e56bcd2",
   "metadata": {},
   "outputs": [],
   "source": []
  },
  {
   "cell_type": "code",
   "execution_count": null,
   "id": "d69ccca7",
   "metadata": {},
   "outputs": [],
   "source": []
  },
  {
   "cell_type": "code",
   "execution_count": null,
   "id": "6faa3f94",
   "metadata": {},
   "outputs": [],
   "source": []
  },
  {
   "cell_type": "code",
   "execution_count": null,
   "id": "90b0a353",
   "metadata": {},
   "outputs": [],
   "source": [
    "# from sklearn.metrics import make_scorer, recall_score"
   ]
  },
  {
   "cell_type": "code",
   "execution_count": null,
   "id": "8312edc7",
   "metadata": {},
   "outputs": [],
   "source": [
    "def th_hyperparam_tuning(x_train, y_train, x_test, y_test, max_depths, scale_pos_weights, learning_rates, subsamples, colsample_bytrees):\n",
    "    for max_depth in max_depths:\n",
    "        for scale_pos_weight in scale_pos_weights:\n",
    "            for learning_rate in learning_rates:\n",
    "                for subsample in subsamples:\n",
    "                    for colsample_bytree in colsample_bytrees:\n",
    "                        # define the XGBClassifier with the current hyperparameters\n",
    "                        xgb_model = xgb.XGBClassifier(objective ='binary:logistic', \n",
    "                                                  seed=42,\n",
    "                                                  max_depth=max_depth,\n",
    "                                                  scale_pos_weight=scale_pos_weight,\n",
    "                                                  learning_rate=learning_rate,\n",
    "                                                  subsample=subsample,\n",
    "                                                  colsample_bytree=colsample_bytree,\n",
    "                                                  n_jobs=10)\n",
    "                        # fit the model on the training set\n",
    "                        xgb_model.fit(x_train, y_train)\n",
    "                        # predict on the test set\n",
    "                        y_pred = xgb_model.predict(x_test)\n",
    "                        # print the hyperparameters and the resulting f1-score\n",
    "                        print(f\"max_depth={max_depth}, scale_pos_weight={scale_pos_weight}, learning_rate={learning_rate}, subsample={subsample}, colsample_bytree={colsample_bytree}: f1-score={f1_score(y_test, y_pred)},: recall-score={recall_score(y_test, y_pred)}\")\n",
    "                        print('\\n')\n",
    "                        # print the confusion matrix\n",
    "                        print(confusion_matrix(y_test, y_pred))\n",
    "                        print('\\n')\n",
    "                        "
   ]
  },
  {
   "cell_type": "code",
   "execution_count": null,
   "id": "7f62fc78",
   "metadata": {},
   "outputs": [],
   "source": [
    "max_depths = [3, 5, 7]\n",
    "scale_pos_weights = [3, 5, 7]\n",
    "learning_rates = [0.01, 0.1, 1]\n",
    "subsamples = [0.7, 0.8, 0.9]\n",
    "colsample_bytrees = [0.5, 0.6, 0.7]"
   ]
  },
  {
   "cell_type": "code",
   "execution_count": null,
   "id": "fd316d35",
   "metadata": {
    "scrolled": true
   },
   "outputs": [],
   "source": [
    "# calling function\n",
    "th_hyperparam_tuning(X_train_scaled[most_imp], y_train, X_test_scaled[most_imp], y_test, max_depths, scale_pos_weights, learning_rates, subsamples, colsample_bytrees)\n"
   ]
  },
  {
   "cell_type": "code",
   "execution_count": null,
   "id": "b16305c9",
   "metadata": {},
   "outputs": [],
   "source": [
    "# create an instance with predetermined values \n",
    "clf_xgb = xgb.XGBClassifier(objective ='binary:logistic', \n",
    "                                        seed = 42,\n",
    "                                        max_depth = 3,    \n",
    "                                        scale_pos_weight= 5,\n",
    "                                        learning_rate = .01,\n",
    "                                        subsample = .9,\n",
    "                                        colsample_bytree = .5,\n",
    "                                        n_jobs = 10)"
   ]
  },
  {
   "cell_type": "code",
   "execution_count": null,
   "id": "5fd13e70",
   "metadata": {},
   "outputs": [],
   "source": [
    "clf_xgb.fit(X_train_scaled,y_train)"
   ]
  },
  {
   "cell_type": "code",
   "execution_count": null,
   "id": "2a2b1164",
   "metadata": {},
   "outputs": [],
   "source": [
    "clf_xgb.feature_importances_"
   ]
  },
  {
   "cell_type": "code",
   "execution_count": null,
   "id": "730c8370",
   "metadata": {},
   "outputs": [],
   "source": [
    "most_imp = feat_importances.nlargest(18).index.tolist()"
   ]
  },
  {
   "cell_type": "code",
   "execution_count": null,
   "id": "ad9761e2",
   "metadata": {},
   "outputs": [],
   "source": [
    "most_imp = [('number_of_ratings',),\n",
    " 'genre_Mystery',\n",
    " ('review_count',),\n",
    " 'genre_Nonfiction',\n",
    " 'genre_Horror',\n",
    " ('length',),\n",
    " 'genre_Fiction',\n",
    " ('rating',),\n",
    " 'sentiment_very negative',\n",
    " 'genre_Young Adult',\n",
    " 'genre_Fantasy',\n",
    " 'genre_Romance',\n",
    " ('neutral',),\n",
    " ('neg',),\n",
    " ('pos',),\n",
    " ('compound',),\n",
    " 'sentiment_very positive',\n",
    " 'genre_Thriller']"
   ]
  },
  {
   "cell_type": "code",
   "execution_count": null,
   "id": "501d5fc3",
   "metadata": {},
   "outputs": [],
   "source": [
    "feat_importances = pd.Series(clf_xgb.feature_importances_, index= x_train_scaled.columns)\n",
    "feat_importances.nlargest(18).plot(kind='barh')\n",
    "plt.title(\"Top 18 important features\")\n",
    "plt.show()\n"
   ]
  },
  {
   "cell_type": "code",
   "execution_count": null,
   "id": "7efcf9e5",
   "metadata": {},
   "outputs": [],
   "source": [
    "x_train_scaled[important_feats]"
   ]
  }
 ],
 "metadata": {
  "kernelspec": {
   "display_name": "Python 3 (ipykernel)",
   "language": "python",
   "name": "python3"
  },
  "language_info": {
   "codemirror_mode": {
    "name": "ipython",
    "version": 3
   },
   "file_extension": ".py",
   "mimetype": "text/x-python",
   "name": "python",
   "nbconvert_exporter": "python",
   "pygments_lexer": "ipython3",
   "version": "3.9.13"
  }
 },
 "nbformat": 4,
 "nbformat_minor": 5
}
