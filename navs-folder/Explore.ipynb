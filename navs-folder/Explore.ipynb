{
 "cells": [
  {
   "cell_type": "code",
   "execution_count": 1,
   "id": "1b801f70",
   "metadata": {},
   "outputs": [],
   "source": [
    "import pandas as pd\n",
    "import numpy as np \n",
    "\n",
    "import seaborn as sns\n",
    "import matplotlib.pyplot as plt\n",
    "\n",
    "import prepare as pr \n",
    "import math\n",
    "\n",
    "from sklearn.model_selection import train_test_split\n",
    "import sklearn.model_selection\n",
    "\n",
    "%matplotlib inline\n",
    "import matplotlib.pyplot as plt\n",
    "import seaborn as sns"
   ]
  },
  {
   "cell_type": "code",
   "execution_count": 2,
   "id": "942a73f4",
   "metadata": {},
   "outputs": [],
   "source": [
    "import nltk\n",
    "from nltk.sentiment.vader import SentimentIntensityAnalyzer"
   ]
  },
  {
   "cell_type": "markdown",
   "id": "979cf328",
   "metadata": {},
   "source": [
    "# Import Data"
   ]
  },
  {
   "cell_type": "code",
   "execution_count": 3,
   "id": "e31d6df6",
   "metadata": {},
   "outputs": [],
   "source": [
    "import sketch"
   ]
  },
  {
   "cell_type": "code",
   "execution_count": 4,
   "id": "5ea21365",
   "metadata": {},
   "outputs": [],
   "source": [
    "df = pr.prep_data('all_books .csv')"
   ]
  },
  {
   "cell_type": "code",
   "execution_count": 5,
   "id": "0d472740",
   "metadata": {},
   "outputs": [
    {
     "data": {
      "text/html": [
       "<div>\n",
       "<style scoped>\n",
       "    .dataframe tbody tr th:only-of-type {\n",
       "        vertical-align: middle;\n",
       "    }\n",
       "\n",
       "    .dataframe tbody tr th {\n",
       "        vertical-align: top;\n",
       "    }\n",
       "\n",
       "    .dataframe thead th {\n",
       "        text-align: right;\n",
       "    }\n",
       "</style>\n",
       "<table border=\"1\" class=\"dataframe\">\n",
       "  <thead>\n",
       "    <tr style=\"text-align: right;\">\n",
       "      <th></th>\n",
       "      <th>title</th>\n",
       "      <th>summary</th>\n",
       "      <th>year_published</th>\n",
       "      <th>author</th>\n",
       "      <th>review_count</th>\n",
       "      <th>number_of_ratings</th>\n",
       "      <th>length</th>\n",
       "      <th>genre</th>\n",
       "      <th>rating</th>\n",
       "      <th>reviews</th>\n",
       "      <th>cleaned_title</th>\n",
       "      <th>cleaned_summary</th>\n",
       "      <th>target</th>\n",
       "      <th>lemmatized_summary</th>\n",
       "      <th>neg</th>\n",
       "      <th>neutral</th>\n",
       "      <th>pos</th>\n",
       "      <th>compound</th>\n",
       "      <th>sentiment</th>\n",
       "    </tr>\n",
       "  </thead>\n",
       "  <tbody>\n",
       "    <tr>\n",
       "      <th>0</th>\n",
       "      <td>1491</td>\n",
       "      <td>In this groundbreaking work of science, histor...</td>\n",
       "      <td>back</td>\n",
       "      <td>Charles C. Mann</td>\n",
       "      <td>4581</td>\n",
       "      <td>81796</td>\n",
       "      <td>1492.0</td>\n",
       "      <td>History</td>\n",
       "      <td>4.04</td>\n",
       "      <td>NaN</td>\n",
       "      <td>1491</td>\n",
       "      <td>in this groundbreaking work of science, histor...</td>\n",
       "      <td>unsuccessful</td>\n",
       "      <td>groundbreaking science history archaeology cha...</td>\n",
       "      <td>0.021</td>\n",
       "      <td>0.848</td>\n",
       "      <td>0.132</td>\n",
       "      <td>0.9393</td>\n",
       "      <td>very positive</td>\n",
       "    </tr>\n",
       "    <tr>\n",
       "      <th>1</th>\n",
       "      <td>1493</td>\n",
       "      <td>From the author of 1491—the best-selling study...</td>\n",
       "      <td>2011</td>\n",
       "      <td>Charles C. Mann</td>\n",
       "      <td>1603</td>\n",
       "      <td>18476</td>\n",
       "      <td>557.0</td>\n",
       "      <td>History</td>\n",
       "      <td>4.11</td>\n",
       "      <td>NaN</td>\n",
       "      <td>1493</td>\n",
       "      <td>from the author of 1491the bestselling study o...</td>\n",
       "      <td>unsuccessful</td>\n",
       "      <td>author bestselling study precolumbian americas...</td>\n",
       "      <td>0.044</td>\n",
       "      <td>0.869</td>\n",
       "      <td>0.088</td>\n",
       "      <td>0.9213</td>\n",
       "      <td>very positive</td>\n",
       "    </tr>\n",
       "    <tr>\n",
       "      <th>2</th>\n",
       "      <td>1776</td>\n",
       "      <td>In this masterful book, David McCullough tells...</td>\n",
       "      <td>2005</td>\n",
       "      <td>David McCullough</td>\n",
       "      <td>8098</td>\n",
       "      <td>219448</td>\n",
       "      <td>386.0</td>\n",
       "      <td>History</td>\n",
       "      <td>4.08</td>\n",
       "      <td>NaN</td>\n",
       "      <td>1776</td>\n",
       "      <td>in this masterful book, david mccullough tells...</td>\n",
       "      <td>unsuccessful</td>\n",
       "      <td>masterful david mccullough tell intensely huma...</td>\n",
       "      <td>0.097</td>\n",
       "      <td>0.835</td>\n",
       "      <td>0.068</td>\n",
       "      <td>-0.8309</td>\n",
       "      <td>very negative</td>\n",
       "    </tr>\n",
       "    <tr>\n",
       "      <th>3</th>\n",
       "      <td>2312</td>\n",
       "      <td>The year is 2312. Scientific and technological...</td>\n",
       "      <td>2012</td>\n",
       "      <td>Kim Stanley Robinson</td>\n",
       "      <td>2520</td>\n",
       "      <td>19150</td>\n",
       "      <td>561.0</td>\n",
       "      <td>Science Fiction</td>\n",
       "      <td>3.50</td>\n",
       "      <td>NaN</td>\n",
       "      <td>2312</td>\n",
       "      <td>the year is 2312. scientific and technological...</td>\n",
       "      <td>unsuccessful</td>\n",
       "      <td>year scientific technological advance open gat...</td>\n",
       "      <td>0.104</td>\n",
       "      <td>0.846</td>\n",
       "      <td>0.051</td>\n",
       "      <td>-0.7935</td>\n",
       "      <td>very negative</td>\n",
       "    </tr>\n",
       "    <tr>\n",
       "      <th>4</th>\n",
       "      <td>2666</td>\n",
       "      <td>A cuatro profesores de literatura, Pelletier, ...</td>\n",
       "      <td>2004</td>\n",
       "      <td>Roberto Bolaño</td>\n",
       "      <td>4554</td>\n",
       "      <td>38750</td>\n",
       "      <td>1128.0</td>\n",
       "      <td>Fiction</td>\n",
       "      <td>4.19</td>\n",
       "      <td>NaN</td>\n",
       "      <td>2666</td>\n",
       "      <td>a cuatro profesores de literatura, pelletier, ...</td>\n",
       "      <td>unsuccessful</td>\n",
       "      <td>cuatro profesores de literatura pelletier mori...</td>\n",
       "      <td>0.023</td>\n",
       "      <td>0.962</td>\n",
       "      <td>0.015</td>\n",
       "      <td>-0.3182</td>\n",
       "      <td>negative</td>\n",
       "    </tr>\n",
       "  </tbody>\n",
       "</table>\n",
       "</div>"
      ],
      "text/plain": [
       "  title                                            summary year_published  \\\n",
       "0  1491  In this groundbreaking work of science, histor...           back   \n",
       "1  1493  From the author of 1491—the best-selling study...           2011   \n",
       "2  1776  In this masterful book, David McCullough tells...           2005   \n",
       "3  2312  The year is 2312. Scientific and technological...           2012   \n",
       "4  2666  A cuatro profesores de literatura, Pelletier, ...           2004   \n",
       "\n",
       "                 author  review_count  number_of_ratings  length  \\\n",
       "0       Charles C. Mann          4581              81796  1492.0   \n",
       "1       Charles C. Mann          1603              18476   557.0   \n",
       "2      David McCullough          8098             219448   386.0   \n",
       "3  Kim Stanley Robinson          2520              19150   561.0   \n",
       "4        Roberto Bolaño          4554              38750  1128.0   \n",
       "\n",
       "             genre  rating reviews cleaned_title  \\\n",
       "0          History    4.04     NaN          1491   \n",
       "1          History    4.11     NaN          1493   \n",
       "2          History    4.08     NaN          1776   \n",
       "3  Science Fiction    3.50     NaN          2312   \n",
       "4          Fiction    4.19     NaN          2666   \n",
       "\n",
       "                                     cleaned_summary        target  \\\n",
       "0  in this groundbreaking work of science, histor...  unsuccessful   \n",
       "1  from the author of 1491the bestselling study o...  unsuccessful   \n",
       "2  in this masterful book, david mccullough tells...  unsuccessful   \n",
       "3  the year is 2312. scientific and technological...  unsuccessful   \n",
       "4  a cuatro profesores de literatura, pelletier, ...  unsuccessful   \n",
       "\n",
       "                                  lemmatized_summary    neg  neutral    pos  \\\n",
       "0  groundbreaking science history archaeology cha...  0.021    0.848  0.132   \n",
       "1  author bestselling study precolumbian americas...  0.044    0.869  0.088   \n",
       "2  masterful david mccullough tell intensely huma...  0.097    0.835  0.068   \n",
       "3  year scientific technological advance open gat...  0.104    0.846  0.051   \n",
       "4  cuatro profesores de literatura pelletier mori...  0.023    0.962  0.015   \n",
       "\n",
       "   compound      sentiment  \n",
       "0    0.9393  very positive  \n",
       "1    0.9213  very positive  \n",
       "2   -0.8309  very negative  \n",
       "3   -0.7935  very negative  \n",
       "4   -0.3182       negative  "
      ]
     },
     "execution_count": 5,
     "metadata": {},
     "output_type": "execute_result"
    }
   ],
   "source": [
    "df.head(5)"
   ]
  },
  {
   "cell_type": "code",
   "execution_count": 6,
   "id": "e7079afb",
   "metadata": {},
   "outputs": [],
   "source": [
    "train, split = pr.split(df) "
   ]
  },
  {
   "cell_type": "markdown",
   "id": "414c04e3",
   "metadata": {},
   "source": [
    "### How many are successful and not successful"
   ]
  },
  {
   "cell_type": "code",
   "execution_count": 7,
   "id": "d777a082",
   "metadata": {},
   "outputs": [],
   "source": [
    "unsuccessful, successful = train.target.value_counts()"
   ]
  },
  {
   "cell_type": "code",
   "execution_count": 8,
   "id": "9cd16c99",
   "metadata": {},
   "outputs": [
    {
     "data": {
      "text/plain": [
       "(2919, 129)"
      ]
     },
     "execution_count": 8,
     "metadata": {},
     "output_type": "execute_result"
    }
   ],
   "source": [
    "unsuccessful, successful"
   ]
  },
  {
   "cell_type": "code",
   "execution_count": 9,
   "id": "bdaac439",
   "metadata": {},
   "outputs": [
    {
     "data": {
      "image/png": "[encoded data removed]",
      "text/plain": [
       "<Figure size 640x480 with 1 Axes>"
      ]
     },
     "metadata": {},
     "output_type": "display_data"
    }
   ],
   "source": [
    "\n",
    "# Set Seaborn style\n",
    "sns.set_style('darkgrid')\n",
    "\n",
    "# Construct plot\n",
    "sns.countplot(x = \"target\", data = df)\n",
    "plt.ylabel('Count of Books in Each Category')\n",
    "plt.xlabel('Success Class')\n",
    "plt.show()"
   ]
  },
  {
   "cell_type": "code",
   "execution_count": 10,
   "id": "b4ab3432",
   "metadata": {},
   "outputs": [
    {
     "data": {
      "text/html": [
       "<div>\n",
       "<style scoped>\n",
       "    .dataframe tbody tr th:only-of-type {\n",
       "        vertical-align: middle;\n",
       "    }\n",
       "\n",
       "    .dataframe tbody tr th {\n",
       "        vertical-align: top;\n",
       "    }\n",
       "\n",
       "    .dataframe thead th {\n",
       "        text-align: right;\n",
       "    }\n",
       "</style>\n",
       "<table border=\"1\" class=\"dataframe\">\n",
       "  <thead>\n",
       "    <tr style=\"text-align: right;\">\n",
       "      <th></th>\n",
       "      <th>title</th>\n",
       "      <th>summary</th>\n",
       "      <th>year_published</th>\n",
       "      <th>author</th>\n",
       "      <th>review_count</th>\n",
       "      <th>number_of_ratings</th>\n",
       "      <th>length</th>\n",
       "      <th>genre</th>\n",
       "      <th>rating</th>\n",
       "      <th>reviews</th>\n",
       "      <th>cleaned_title</th>\n",
       "      <th>cleaned_summary</th>\n",
       "      <th>target</th>\n",
       "      <th>lemmatized_summary</th>\n",
       "      <th>neg</th>\n",
       "      <th>neutral</th>\n",
       "      <th>pos</th>\n",
       "      <th>compound</th>\n",
       "      <th>sentiment</th>\n",
       "    </tr>\n",
       "  </thead>\n",
       "  <tbody>\n",
       "    <tr>\n",
       "      <th>0</th>\n",
       "      <td>1491</td>\n",
       "      <td>In this groundbreaking work of science, histor...</td>\n",
       "      <td>back</td>\n",
       "      <td>Charles C. Mann</td>\n",
       "      <td>4581</td>\n",
       "      <td>81796</td>\n",
       "      <td>1492.0</td>\n",
       "      <td>History</td>\n",
       "      <td>4.04</td>\n",
       "      <td>NaN</td>\n",
       "      <td>1491</td>\n",
       "      <td>in this groundbreaking work of science, histor...</td>\n",
       "      <td>unsuccessful</td>\n",
       "      <td>groundbreaking science history archaeology cha...</td>\n",
       "      <td>0.021</td>\n",
       "      <td>0.848</td>\n",
       "      <td>0.132</td>\n",
       "      <td>0.9393</td>\n",
       "      <td>very positive</td>\n",
       "    </tr>\n",
       "  </tbody>\n",
       "</table>\n",
       "</div>"
      ],
      "text/plain": [
       "  title                                            summary year_published  \\\n",
       "0  1491  In this groundbreaking work of science, histor...           back   \n",
       "\n",
       "            author  review_count  number_of_ratings  length    genre  rating  \\\n",
       "0  Charles C. Mann          4581              81796  1492.0  History    4.04   \n",
       "\n",
       "  reviews cleaned_title                                    cleaned_summary  \\\n",
       "0     NaN          1491  in this groundbreaking work of science, histor...   \n",
       "\n",
       "         target                                 lemmatized_summary    neg  \\\n",
       "0  unsuccessful  groundbreaking science history archaeology cha...  0.021   \n",
       "\n",
       "   neutral    pos  compound      sentiment  \n",
       "0    0.848  0.132    0.9393  very positive  "
      ]
     },
     "execution_count": 10,
     "metadata": {},
     "output_type": "execute_result"
    }
   ],
   "source": [
    "df.head(1)"
   ]
  },
  {
   "cell_type": "markdown",
   "id": "5dd1b8e8",
   "metadata": {},
   "source": [
    "### what authors are having the most success"
   ]
  },
  {
   "cell_type": "code",
   "execution_count": 11,
   "id": "f34f91c9",
   "metadata": {},
   "outputs": [],
   "source": [
    "top_authors = train['author'].value_counts().head(10).index.tolist()"
   ]
  },
  {
   "cell_type": "code",
   "execution_count": 12,
   "id": "534f79cb",
   "metadata": {},
   "outputs": [
    {
     "data": {
      "text/plain": [
       "['J.D. Robb',\n",
       " 'Stephen King',\n",
       " 'Terry Pratchett',\n",
       " 'Rick Riordan',\n",
       " 'Cora Reilly',\n",
       " 'Louise Penny',\n",
       " 'P.C. Cast',\n",
       " 'Nicholas Sparks',\n",
       " 'Kelley Armstrong',\n",
       " 'Jodi Picoult']"
      ]
     },
     "execution_count": 12,
     "metadata": {},
     "output_type": "execute_result"
    }
   ],
   "source": [
    "top_authors"
   ]
  },
  {
   "cell_type": "code",
   "execution_count": 13,
   "id": "5b5aebb3",
   "metadata": {},
   "outputs": [],
   "source": [
    "filtered_df = train[train['author'].isin(top_authors)]"
   ]
  },
  {
   "cell_type": "code",
   "execution_count": 14,
   "id": "07568767",
   "metadata": {},
   "outputs": [
    {
     "data": {
      "image/png": "[encoded data removed]",
      "text/plain": [
       "<Figure size 640x480 with 1 Axes>"
      ]
     },
     "metadata": {},
     "output_type": "display_data"
    }
   ],
   "source": [
    "# Construct plot\n",
    "sns.countplot(y='author', data=filtered_df, order=filtered_df['author'].value_counts().index)\n",
    "\n",
    "plt.title('Top of Authors')\n",
    "plt.ylabel('Appearances on List')\n",
    "plt.ylabel('authors')\n",
    "plt.show()"
   ]
  },
  {
   "cell_type": "code",
   "execution_count": 15,
   "id": "5b3c2a54",
   "metadata": {},
   "outputs": [],
   "source": [
    "unsuccessful = train[train.target == \"unsuccessful\" ]"
   ]
  },
  {
   "cell_type": "code",
   "execution_count": 16,
   "id": "945e384d",
   "metadata": {},
   "outputs": [],
   "source": [
    "best = train[train.target == \"best seller\" ]"
   ]
  },
  {
   "cell_type": "markdown",
   "id": "d108fd3f",
   "metadata": {},
   "source": [
    "### average rating per best subset"
   ]
  },
  {
   "cell_type": "code",
   "execution_count": 17,
   "id": "edfcafa5",
   "metadata": {},
   "outputs": [
    {
     "data": {
      "text/plain": [
       "3.3"
      ]
     },
     "execution_count": 17,
     "metadata": {},
     "output_type": "execute_result"
    }
   ],
   "source": [
    "best['rating'].min()"
   ]
  },
  {
   "cell_type": "code",
   "execution_count": 18,
   "id": "6d22d4b0",
   "metadata": {},
   "outputs": [
    {
     "data": {
      "text/plain": [
       "4.106511627906976"
      ]
     },
     "execution_count": 18,
     "metadata": {},
     "output_type": "execute_result"
    }
   ],
   "source": [
    "best['rating'].mean()"
   ]
  },
  {
   "cell_type": "code",
   "execution_count": 19,
   "id": "7c45a50d",
   "metadata": {},
   "outputs": [
    {
     "data": {
      "text/plain": [
       "4.76"
      ]
     },
     "execution_count": 19,
     "metadata": {},
     "output_type": "execute_result"
    }
   ],
   "source": [
    "best['rating'].max()"
   ]
  },
  {
   "cell_type": "markdown",
   "id": "3ef81eb9",
   "metadata": {},
   "source": [
    "### average rating per unsuccessful subset"
   ]
  },
  {
   "cell_type": "code",
   "execution_count": 20,
   "id": "994268ad",
   "metadata": {},
   "outputs": [
    {
     "data": {
      "text/plain": [
       "2.55"
      ]
     },
     "execution_count": 20,
     "metadata": {},
     "output_type": "execute_result"
    }
   ],
   "source": [
    "unsuccessful['rating'].min()"
   ]
  },
  {
   "cell_type": "code",
   "execution_count": 21,
   "id": "e7bba730",
   "metadata": {},
   "outputs": [
    {
     "data": {
      "text/plain": [
       "4.007708119218909"
      ]
     },
     "execution_count": 21,
     "metadata": {},
     "output_type": "execute_result"
    }
   ],
   "source": [
    "unsuccessful['rating'].mean()"
   ]
  },
  {
   "cell_type": "code",
   "execution_count": 22,
   "id": "4373027b",
   "metadata": {},
   "outputs": [
    {
     "data": {
      "text/plain": [
       "4.8"
      ]
     },
     "execution_count": 22,
     "metadata": {},
     "output_type": "execute_result"
    }
   ],
   "source": [
    "unsuccessful['rating'].max()"
   ]
  },
  {
   "cell_type": "markdown",
   "id": "03c7df87",
   "metadata": {},
   "source": [
    "# average length for best"
   ]
  },
  {
   "cell_type": "code",
   "execution_count": 23,
   "id": "d31f0263",
   "metadata": {},
   "outputs": [],
   "source": [
    "len_null = df[df.length.isna()]"
   ]
  },
  {
   "cell_type": "code",
   "execution_count": 24,
   "id": "acbfb6cb",
   "metadata": {},
   "outputs": [
    {
     "data": {
      "text/plain": [
       "2797     352.0\n",
       "2952     825.0\n",
       "3320     356.0\n",
       "2336     398.0\n",
       "1961     356.0\n",
       "         ...  \n",
       "1781     342.0\n",
       "2947    1237.0\n",
       "3532     389.0\n",
       "901      477.0\n",
       "3341     488.0\n",
       "Name: length, Length: 129, dtype: float64"
      ]
     },
     "execution_count": 24,
     "metadata": {},
     "output_type": "execute_result"
    }
   ],
   "source": [
    "best['length']\n"
   ]
  },
  {
   "cell_type": "code",
   "execution_count": 25,
   "id": "a7ee618e",
   "metadata": {},
   "outputs": [
    {
     "data": {
      "text/plain": [
       "474.28682170542635"
      ]
     },
     "execution_count": 25,
     "metadata": {},
     "output_type": "execute_result"
    }
   ],
   "source": [
    "best['length'].mean()"
   ]
  },
  {
   "cell_type": "code",
   "execution_count": 26,
   "id": "8a863b6d",
   "metadata": {},
   "outputs": [
    {
     "data": {
      "text/plain": [
       "1237.0"
      ]
     },
     "execution_count": 26,
     "metadata": {},
     "output_type": "execute_result"
    }
   ],
   "source": [
    "best['length'].max()"
   ]
  },
  {
   "cell_type": "code",
   "execution_count": 27,
   "id": "ff7e459d",
   "metadata": {},
   "outputs": [
    {
     "data": {
      "text/html": [
       "<div>\n",
       "<style scoped>\n",
       "    .dataframe tbody tr th:only-of-type {\n",
       "        vertical-align: middle;\n",
       "    }\n",
       "\n",
       "    .dataframe tbody tr th {\n",
       "        vertical-align: top;\n",
       "    }\n",
       "\n",
       "    .dataframe thead th {\n",
       "        text-align: right;\n",
       "    }\n",
       "</style>\n",
       "<table border=\"1\" class=\"dataframe\">\n",
       "  <thead>\n",
       "    <tr style=\"text-align: right;\">\n",
       "      <th></th>\n",
       "      <th>title</th>\n",
       "      <th>summary</th>\n",
       "      <th>year_published</th>\n",
       "      <th>author</th>\n",
       "      <th>review_count</th>\n",
       "      <th>number_of_ratings</th>\n",
       "      <th>length</th>\n",
       "      <th>genre</th>\n",
       "      <th>rating</th>\n",
       "      <th>reviews</th>\n",
       "      <th>cleaned_title</th>\n",
       "      <th>cleaned_summary</th>\n",
       "      <th>target</th>\n",
       "      <th>lemmatized_summary</th>\n",
       "      <th>neg</th>\n",
       "      <th>neutral</th>\n",
       "      <th>pos</th>\n",
       "      <th>compound</th>\n",
       "      <th>sentiment</th>\n",
       "    </tr>\n",
       "  </thead>\n",
       "  <tbody>\n",
       "    <tr>\n",
       "      <th>2947</th>\n",
       "      <td>World Without End</td>\n",
       "      <td>Librarian's note: An alternate cover edition c...</td>\n",
       "      <td>2007</td>\n",
       "      <td>Ken Follett</td>\n",
       "      <td>12711</td>\n",
       "      <td>234211</td>\n",
       "      <td>1237.0</td>\n",
       "      <td>Historical Fiction</td>\n",
       "      <td>4.29</td>\n",
       "      <td>NaN</td>\n",
       "      <td>world without end</td>\n",
       "      <td>librarian's note an alternate cover edition ca...</td>\n",
       "      <td>best seller</td>\n",
       "      <td>librarian note alternate cover find hereworld ...</td>\n",
       "      <td>0.185</td>\n",
       "      <td>0.702</td>\n",
       "      <td>0.113</td>\n",
       "      <td>-0.9239</td>\n",
       "      <td>very negative</td>\n",
       "    </tr>\n",
       "  </tbody>\n",
       "</table>\n",
       "</div>"
      ],
      "text/plain": [
       "                  title                                            summary  \\\n",
       "2947  World Without End  Librarian's note: An alternate cover edition c...   \n",
       "\n",
       "     year_published       author  review_count  number_of_ratings  length  \\\n",
       "2947           2007  Ken Follett         12711             234211  1237.0   \n",
       "\n",
       "                   genre  rating reviews      cleaned_title  \\\n",
       "2947  Historical Fiction    4.29     NaN  world without end   \n",
       "\n",
       "                                        cleaned_summary       target  \\\n",
       "2947  librarian's note an alternate cover edition ca...  best seller   \n",
       "\n",
       "                                     lemmatized_summary    neg  neutral  \\\n",
       "2947  librarian note alternate cover find hereworld ...  0.185    0.702   \n",
       "\n",
       "        pos  compound      sentiment  \n",
       "2947  0.113   -0.9239  very negative  "
      ]
     },
     "execution_count": 27,
     "metadata": {},
     "output_type": "execute_result"
    }
   ],
   "source": [
    "df[df['length'] == 1237]"
   ]
  },
  {
   "cell_type": "markdown",
   "id": "24b67c67",
   "metadata": {},
   "source": [
    "# average length for unsuccessful"
   ]
  },
  {
   "cell_type": "code",
   "execution_count": 28,
   "id": "ee8742e2",
   "metadata": {},
   "outputs": [
    {
     "data": {
      "text/plain": [
       "4.0"
      ]
     },
     "execution_count": 28,
     "metadata": {},
     "output_type": "execute_result"
    }
   ],
   "source": [
    "unsuccessful['length'].min()"
   ]
  },
  {
   "cell_type": "code",
   "execution_count": 29,
   "id": "63e72d47",
   "metadata": {},
   "outputs": [
    {
     "data": {
      "text/html": [
       "<div>\n",
       "<style scoped>\n",
       "    .dataframe tbody tr th:only-of-type {\n",
       "        vertical-align: middle;\n",
       "    }\n",
       "\n",
       "    .dataframe tbody tr th {\n",
       "        vertical-align: top;\n",
       "    }\n",
       "\n",
       "    .dataframe thead th {\n",
       "        text-align: right;\n",
       "    }\n",
       "</style>\n",
       "<table border=\"1\" class=\"dataframe\">\n",
       "  <thead>\n",
       "    <tr style=\"text-align: right;\">\n",
       "      <th></th>\n",
       "      <th>title</th>\n",
       "      <th>summary</th>\n",
       "      <th>year_published</th>\n",
       "      <th>author</th>\n",
       "      <th>review_count</th>\n",
       "      <th>number_of_ratings</th>\n",
       "      <th>length</th>\n",
       "      <th>genre</th>\n",
       "      <th>rating</th>\n",
       "      <th>reviews</th>\n",
       "      <th>cleaned_title</th>\n",
       "      <th>cleaned_summary</th>\n",
       "      <th>target</th>\n",
       "      <th>lemmatized_summary</th>\n",
       "      <th>neg</th>\n",
       "      <th>neutral</th>\n",
       "      <th>pos</th>\n",
       "      <th>compound</th>\n",
       "      <th>sentiment</th>\n",
       "    </tr>\n",
       "  </thead>\n",
       "  <tbody>\n",
       "  </tbody>\n",
       "</table>\n",
       "</div>"
      ],
      "text/plain": [
       "Empty DataFrame\n",
       "Columns: [title, summary, year_published, author, review_count, number_of_ratings, length, genre, rating, reviews, cleaned_title, cleaned_summary, target, lemmatized_summary, neg, neutral, pos, compound, sentiment]\n",
       "Index: []"
      ]
     },
     "execution_count": 29,
     "metadata": {},
     "output_type": "execute_result"
    }
   ],
   "source": [
    "train[train['length'] == 1]"
   ]
  },
  {
   "cell_type": "code",
   "execution_count": 30,
   "id": "27b540d3",
   "metadata": {},
   "outputs": [
    {
     "data": {
      "text/plain": [
       "6.667351584688252e+16"
      ]
     },
     "execution_count": 30,
     "metadata": {},
     "output_type": "execute_result"
    }
   ],
   "source": [
    "unsuccessful['length'].mean()"
   ]
  },
  {
   "cell_type": "code",
   "execution_count": 31,
   "id": "b2538553",
   "metadata": {},
   "outputs": [
    {
     "data": {
      "text/plain": [
       "1.9461997350000024e+20"
      ]
     },
     "execution_count": 31,
     "metadata": {},
     "output_type": "execute_result"
    }
   ],
   "source": [
    "unsuccessful['length'].max()"
   ]
  },
  {
   "cell_type": "code",
   "execution_count": 32,
   "id": "149e0612",
   "metadata": {},
   "outputs": [
    {
     "data": {
      "text/html": [
       "<div>\n",
       "<style scoped>\n",
       "    .dataframe tbody tr th:only-of-type {\n",
       "        vertical-align: middle;\n",
       "    }\n",
       "\n",
       "    .dataframe tbody tr th {\n",
       "        vertical-align: top;\n",
       "    }\n",
       "\n",
       "    .dataframe thead th {\n",
       "        text-align: right;\n",
       "    }\n",
       "</style>\n",
       "<table border=\"1\" class=\"dataframe\">\n",
       "  <thead>\n",
       "    <tr style=\"text-align: right;\">\n",
       "      <th></th>\n",
       "      <th>title</th>\n",
       "      <th>summary</th>\n",
       "      <th>year_published</th>\n",
       "      <th>author</th>\n",
       "      <th>review_count</th>\n",
       "      <th>number_of_ratings</th>\n",
       "      <th>length</th>\n",
       "      <th>genre</th>\n",
       "      <th>rating</th>\n",
       "      <th>reviews</th>\n",
       "      <th>cleaned_title</th>\n",
       "      <th>cleaned_summary</th>\n",
       "      <th>target</th>\n",
       "      <th>lemmatized_summary</th>\n",
       "      <th>neg</th>\n",
       "      <th>neutral</th>\n",
       "      <th>pos</th>\n",
       "      <th>compound</th>\n",
       "      <th>sentiment</th>\n",
       "    </tr>\n",
       "  </thead>\n",
       "  <tbody>\n",
       "    <tr>\n",
       "      <th>490</th>\n",
       "      <td>Cloud Atlas</td>\n",
       "      <td>A postmodern visionary who is also a master of...</td>\n",
       "      <td>back</td>\n",
       "      <td>David Mitchell</td>\n",
       "      <td>21141</td>\n",
       "      <td>239367</td>\n",
       "      <td>1.850193e+11</td>\n",
       "      <td>Fiction</td>\n",
       "      <td>4.01</td>\n",
       "      <td>NaN</td>\n",
       "      <td>cloud atlas</td>\n",
       "      <td>a postmodern visionary who is also a master of...</td>\n",
       "      <td>unsuccessful</td>\n",
       "      <td>postmodern visionary also master style genres ...</td>\n",
       "      <td>0.05</td>\n",
       "      <td>0.849</td>\n",
       "      <td>0.101</td>\n",
       "      <td>0.9287</td>\n",
       "      <td>very positive</td>\n",
       "    </tr>\n",
       "  </tbody>\n",
       "</table>\n",
       "</div>"
      ],
      "text/plain": [
       "           title                                            summary  \\\n",
       "490  Cloud Atlas  A postmodern visionary who is also a master of...   \n",
       "\n",
       "    year_published          author  review_count  number_of_ratings  \\\n",
       "490           back  David Mitchell         21141             239367   \n",
       "\n",
       "           length    genre  rating reviews cleaned_title  \\\n",
       "490  1.850193e+11  Fiction    4.01     NaN   cloud atlas   \n",
       "\n",
       "                                       cleaned_summary        target  \\\n",
       "490  a postmodern visionary who is also a master of...  unsuccessful   \n",
       "\n",
       "                                    lemmatized_summary   neg  neutral    pos  \\\n",
       "490  postmodern visionary also master style genres ...  0.05    0.849  0.101   \n",
       "\n",
       "     compound      sentiment  \n",
       "490    0.9287  very positive  "
      ]
     },
     "execution_count": 32,
     "metadata": {},
     "output_type": "execute_result"
    }
   ],
   "source": [
    "df[df['length'] == 185019311970]"
   ]
  },
  {
   "cell_type": "markdown",
   "id": "d44164d6",
   "metadata": {},
   "source": [
    "# best book compound "
   ]
  },
  {
   "cell_type": "code",
   "execution_count": 33,
   "id": "936fab23",
   "metadata": {},
   "outputs": [
    {
     "data": {
      "text/plain": [
       "-0.9969"
      ]
     },
     "execution_count": 33,
     "metadata": {},
     "output_type": "execute_result"
    }
   ],
   "source": [
    "best['compound'].min()"
   ]
  },
  {
   "cell_type": "code",
   "execution_count": 34,
   "id": "8388ccc1",
   "metadata": {},
   "outputs": [
    {
     "data": {
      "text/plain": [
       "-0.19175116279069765"
      ]
     },
     "execution_count": 34,
     "metadata": {},
     "output_type": "execute_result"
    }
   ],
   "source": [
    "best['compound'].mean()"
   ]
  },
  {
   "cell_type": "code",
   "execution_count": 35,
   "id": "e4744745",
   "metadata": {},
   "outputs": [
    {
     "data": {
      "text/plain": [
       "0.9955"
      ]
     },
     "execution_count": 35,
     "metadata": {},
     "output_type": "execute_result"
    }
   ],
   "source": [
    "best['compound'].max()"
   ]
  },
  {
   "cell_type": "markdown",
   "id": "44efcdef",
   "metadata": {},
   "source": [
    "# unsuccessful book compound "
   ]
  },
  {
   "cell_type": "code",
   "execution_count": 36,
   "id": "da36f59a",
   "metadata": {},
   "outputs": [
    {
     "data": {
      "text/plain": [
       "-0.9995"
      ]
     },
     "execution_count": 36,
     "metadata": {},
     "output_type": "execute_result"
    }
   ],
   "source": [
    "unsuccessful['compound'].min()"
   ]
  },
  {
   "cell_type": "code",
   "execution_count": 37,
   "id": "55d6f756",
   "metadata": {},
   "outputs": [
    {
     "data": {
      "text/plain": [
       "0.16599845837615598"
      ]
     },
     "execution_count": 37,
     "metadata": {},
     "output_type": "execute_result"
    }
   ],
   "source": [
    "unsuccessful['compound'].mean()"
   ]
  },
  {
   "cell_type": "code",
   "execution_count": 38,
   "id": "9b968a09",
   "metadata": {},
   "outputs": [
    {
     "data": {
      "text/plain": [
       "0.9996"
      ]
     },
     "execution_count": 38,
     "metadata": {},
     "output_type": "execute_result"
    }
   ],
   "source": [
    "unsuccessful['compound'].max()"
   ]
  },
  {
   "cell_type": "markdown",
   "id": "f218dbb6",
   "metadata": {},
   "source": [
    "\n",
    "# how is the sentiment spread out`"
   ]
  },
  {
   "cell_type": "code",
   "execution_count": 39,
   "id": "a9c05224",
   "metadata": {},
   "outputs": [
    {
     "data": {
      "text/plain": [
       "<AxesSubplot:xlabel='sentiment', ylabel='count'>"
      ]
     },
     "execution_count": 39,
     "metadata": {},
     "output_type": "execute_result"
    },
    {
     "data": {
      "image/png": "[encoded data removed]",
      "text/plain": [
       "<Figure size 640x480 with 1 Axes>"
      ]
     },
     "metadata": {},
     "output_type": "display_data"
    }
   ],
   "source": [
    "sns.countplot(x = 'sentiment', data =train)"
   ]
  },
  {
   "cell_type": "code",
   "execution_count": 40,
   "id": "6d553eae",
   "metadata": {},
   "outputs": [
    {
     "data": {
      "text/plain": [
       "<AxesSubplot:xlabel='compound', ylabel='sentiment'>"
      ]
     },
     "execution_count": 40,
     "metadata": {},
     "output_type": "execute_result"
    },
    {
     "data": {
      "image/png": "[encoded data removed]",
      "text/plain": [
       "<Figure size 640x480 with 1 Axes>"
      ]
     },
     "metadata": {},
     "output_type": "display_data"
    }
   ],
   "source": [
    "sns.barplot(x = 'compound',y= 'sentiment', data = train)"
   ]
  },
  {
   "cell_type": "code",
   "execution_count": 41,
   "id": "bb5ac987",
   "metadata": {},
   "outputs": [
    {
     "data": {
      "text/plain": [
       "<AxesSubplot:xlabel='sentiment', ylabel='compound'>"
      ]
     },
     "execution_count": 41,
     "metadata": {},
     "output_type": "execute_result"
    },
    {
     "data": {
      "image/png": "[encoded data removed]",
      "text/plain": [
       "<Figure size 640x480 with 1 Axes>"
      ]
     },
     "metadata": {},
     "output_type": "display_data"
    }
   ],
   "source": [
    "sns.barplot(x = 'sentiment',y= 'compound', data = train) "
   ]
  },
  {
   "cell_type": "markdown",
   "id": "a9ae5804",
   "metadata": {},
   "source": [
    "# NLP EXPLORATION"
   ]
  },
  {
   "cell_type": "code",
   "execution_count": 42,
   "id": "d9bf095b",
   "metadata": {},
   "outputs": [],
   "source": [
    "unsuccessful = train[train.target == 'unsuccessful'] "
   ]
  },
  {
   "cell_type": "code",
   "execution_count": 43,
   "id": "23dccf19",
   "metadata": {},
   "outputs": [],
   "source": [
    "best = train[train.target == 'best seller'] "
   ]
  },
  {
   "cell_type": "code",
   "execution_count": 44,
   "id": "6744e009",
   "metadata": {},
   "outputs": [
    {
     "data": {
      "text/html": [
       "<div>\n",
       "<style scoped>\n",
       "    .dataframe tbody tr th:only-of-type {\n",
       "        vertical-align: middle;\n",
       "    }\n",
       "\n",
       "    .dataframe tbody tr th {\n",
       "        vertical-align: top;\n",
       "    }\n",
       "\n",
       "    .dataframe thead th {\n",
       "        text-align: right;\n",
       "    }\n",
       "</style>\n",
       "<table border=\"1\" class=\"dataframe\">\n",
       "  <thead>\n",
       "    <tr style=\"text-align: right;\">\n",
       "      <th></th>\n",
       "      <th>sentiment</th>\n",
       "      <th>%</th>\n",
       "    </tr>\n",
       "  </thead>\n",
       "  <tbody>\n",
       "    <tr>\n",
       "      <th>very positive</th>\n",
       "      <td>1522</td>\n",
       "      <td>0.499344</td>\n",
       "    </tr>\n",
       "    <tr>\n",
       "      <th>very negative</th>\n",
       "      <td>1019</td>\n",
       "      <td>0.334318</td>\n",
       "    </tr>\n",
       "    <tr>\n",
       "      <th>positive</th>\n",
       "      <td>244</td>\n",
       "      <td>0.080052</td>\n",
       "    </tr>\n",
       "    <tr>\n",
       "      <th>negative</th>\n",
       "      <td>238</td>\n",
       "      <td>0.078084</td>\n",
       "    </tr>\n",
       "    <tr>\n",
       "      <th>neutral</th>\n",
       "      <td>25</td>\n",
       "      <td>0.008202</td>\n",
       "    </tr>\n",
       "  </tbody>\n",
       "</table>\n",
       "</div>"
      ],
      "text/plain": [
       "               sentiment         %\n",
       "very positive       1522  0.499344\n",
       "very negative       1019  0.334318\n",
       "positive             244  0.080052\n",
       "negative             238  0.078084\n",
       "neutral               25  0.008202"
      ]
     },
     "execution_count": 44,
     "metadata": {},
     "output_type": "execute_result"
    }
   ],
   "source": [
    "labels = pd.concat([train.sentiment.value_counts(),train.sentiment.value_counts(normalize=True)],axis = 1)\n",
    "labels.columns = ['sentiment','%']\n",
    "labels"
   ]
  },
  {
   "cell_type": "code",
   "execution_count": 45,
   "id": "34331df1",
   "metadata": {},
   "outputs": [
    {
     "data": {
      "text/html": [
       "<div>\n",
       "<style scoped>\n",
       "    .dataframe tbody tr th:only-of-type {\n",
       "        vertical-align: middle;\n",
       "    }\n",
       "\n",
       "    .dataframe tbody tr th {\n",
       "        vertical-align: top;\n",
       "    }\n",
       "\n",
       "    .dataframe thead th {\n",
       "        text-align: right;\n",
       "    }\n",
       "</style>\n",
       "<table border=\"1\" class=\"dataframe\">\n",
       "  <thead>\n",
       "    <tr style=\"text-align: right;\">\n",
       "      <th></th>\n",
       "      <th>Count</th>\n",
       "      <th>%</th>\n",
       "    </tr>\n",
       "  </thead>\n",
       "  <tbody>\n",
       "    <tr>\n",
       "      <th>unsuccessful</th>\n",
       "      <td>2919</td>\n",
       "      <td>0.957677</td>\n",
       "    </tr>\n",
       "    <tr>\n",
       "      <th>best seller</th>\n",
       "      <td>129</td>\n",
       "      <td>0.042323</td>\n",
       "    </tr>\n",
       "  </tbody>\n",
       "</table>\n",
       "</div>"
      ],
      "text/plain": [
       "              Count          %\n",
       "unsuccessful    2919  0.957677\n",
       "best seller      129  0.042323"
      ]
     },
     "execution_count": 45,
     "metadata": {},
     "output_type": "execute_result"
    }
   ],
   "source": [
    "labels = pd.concat([train.target.value_counts(),train.target.value_counts(normalize=True)],axis = 1)\n",
    "labels.columns = ['Count ','%'] \n",
    "labels"
   ]
  },
  {
   "cell_type": "code",
   "execution_count": 46,
   "id": "b4a5a712",
   "metadata": {},
   "outputs": [],
   "source": [
    "best_words = pd.Series(' '.join(best.lemmatized_summary).split(' ')).value_counts()"
   ]
  },
  {
   "cell_type": "code",
   "execution_count": 47,
   "id": "765c7528",
   "metadata": {},
   "outputs": [],
   "source": [
    "unsuccessful_words = pd.Series(' '.join(unsuccessful.lemmatized_summary).split(' ')).value_counts()"
   ]
  },
  {
   "cell_type": "code",
   "execution_count": 48,
   "id": "5983e0b7",
   "metadata": {},
   "outputs": [],
   "source": [
    "all_words = pd.Series(' '.join(train.lemmatized_summary).split(' ')).value_counts()"
   ]
  },
  {
   "cell_type": "code",
   "execution_count": 49,
   "id": "527deb93",
   "metadata": {},
   "outputs": [
    {
     "data": {
      "text/html": [
       "<div>\n",
       "<style scoped>\n",
       "    .dataframe tbody tr th:only-of-type {\n",
       "        vertical-align: middle;\n",
       "    }\n",
       "\n",
       "    .dataframe tbody tr th {\n",
       "        vertical-align: top;\n",
       "    }\n",
       "\n",
       "    .dataframe thead th {\n",
       "        text-align: right;\n",
       "    }\n",
       "</style>\n",
       "<table border=\"1\" class=\"dataframe\">\n",
       "  <thead>\n",
       "    <tr style=\"text-align: right;\">\n",
       "      <th></th>\n",
       "      <th>all</th>\n",
       "      <th>best</th>\n",
       "      <th>unsuccessful</th>\n",
       "    </tr>\n",
       "  </thead>\n",
       "  <tbody>\n",
       "    <tr>\n",
       "      <th></th>\n",
       "      <td>2</td>\n",
       "      <td>0</td>\n",
       "      <td>2</td>\n",
       "    </tr>\n",
       "    <tr>\n",
       "      <th>aa</th>\n",
       "      <td>1</td>\n",
       "      <td>1</td>\n",
       "      <td>0</td>\n",
       "    </tr>\n",
       "    <tr>\n",
       "      <th>aahz</th>\n",
       "      <td>1</td>\n",
       "      <td>0</td>\n",
       "      <td>1</td>\n",
       "    </tr>\n",
       "    <tr>\n",
       "      <th>aanen</th>\n",
       "      <td>1</td>\n",
       "      <td>0</td>\n",
       "      <td>1</td>\n",
       "    </tr>\n",
       "    <tr>\n",
       "      <th>aarav</th>\n",
       "      <td>1</td>\n",
       "      <td>0</td>\n",
       "      <td>1</td>\n",
       "    </tr>\n",
       "    <tr>\n",
       "      <th>...</th>\n",
       "      <td>...</td>\n",
       "      <td>...</td>\n",
       "      <td>...</td>\n",
       "    </tr>\n",
       "    <tr>\n",
       "      <th>zuni</th>\n",
       "      <td>1</td>\n",
       "      <td>0</td>\n",
       "      <td>1</td>\n",
       "    </tr>\n",
       "    <tr>\n",
       "      <th>zusak</th>\n",
       "      <td>2</td>\n",
       "      <td>0</td>\n",
       "      <td>2</td>\n",
       "    </tr>\n",
       "    <tr>\n",
       "      <th>zuversicht</th>\n",
       "      <td>2</td>\n",
       "      <td>0</td>\n",
       "      <td>2</td>\n",
       "    </tr>\n",
       "    <tr>\n",
       "      <th>zwanzig</th>\n",
       "      <td>1</td>\n",
       "      <td>0</td>\n",
       "      <td>1</td>\n",
       "    </tr>\n",
       "    <tr>\n",
       "      <th>zwischen</th>\n",
       "      <td>2</td>\n",
       "      <td>0</td>\n",
       "      <td>2</td>\n",
       "    </tr>\n",
       "  </tbody>\n",
       "</table>\n",
       "<p>31096 rows × 3 columns</p>\n",
       "</div>"
      ],
      "text/plain": [
       "            all  best  unsuccessful\n",
       "              2     0             2\n",
       "aa            1     1             0\n",
       "aahz          1     0             1\n",
       "aanen         1     0             1\n",
       "aarav         1     0             1\n",
       "...         ...   ...           ...\n",
       "zuni          1     0             1\n",
       "zusak         2     0             2\n",
       "zuversicht    2     0             2\n",
       "zwanzig       1     0             1\n",
       "zwischen      2     0             2\n",
       "\n",
       "[31096 rows x 3 columns]"
      ]
     },
     "execution_count": 49,
     "metadata": {},
     "output_type": "execute_result"
    }
   ],
   "source": [
    "word_counts = (pd.concat([all_words, best_words, unsuccessful_words], axis=1, sort=True)\n",
    "                .set_axis(['all', 'best', 'unsuccessful'], axis=1, inplace=False)\n",
    "                .fillna(0)\n",
    "                .apply(lambda s: s.astype(int)))\n",
    "\n",
    "word_counts\n"
   ]
  },
  {
   "cell_type": "markdown",
   "id": "e15b4e8c",
   "metadata": {},
   "source": [
    "# What are the most frequently occuring words?"
   ]
  },
  {
   "cell_type": "code",
   "execution_count": 50,
   "id": "4c63b4bb",
   "metadata": {},
   "outputs": [
    {
     "data": {
      "text/html": [
       "<div>\n",
       "<style scoped>\n",
       "    .dataframe tbody tr th:only-of-type {\n",
       "        vertical-align: middle;\n",
       "    }\n",
       "\n",
       "    .dataframe tbody tr th {\n",
       "        vertical-align: top;\n",
       "    }\n",
       "\n",
       "    .dataframe thead th {\n",
       "        text-align: right;\n",
       "    }\n",
       "</style>\n",
       "<table border=\"1\" class=\"dataframe\">\n",
       "  <thead>\n",
       "    <tr style=\"text-align: right;\">\n",
       "      <th></th>\n",
       "      <th>all</th>\n",
       "      <th>best</th>\n",
       "      <th>unsuccessful</th>\n",
       "    </tr>\n",
       "  </thead>\n",
       "  <tbody>\n",
       "    <tr>\n",
       "      <th>life</th>\n",
       "      <td>2104</td>\n",
       "      <td>81</td>\n",
       "      <td>2023</td>\n",
       "    </tr>\n",
       "    <tr>\n",
       "      <th>one</th>\n",
       "      <td>1986</td>\n",
       "      <td>86</td>\n",
       "      <td>1900</td>\n",
       "    </tr>\n",
       "    <tr>\n",
       "      <th>world</th>\n",
       "      <td>1526</td>\n",
       "      <td>59</td>\n",
       "      <td>1467</td>\n",
       "    </tr>\n",
       "    <tr>\n",
       "      <th>find</th>\n",
       "      <td>1309</td>\n",
       "      <td>72</td>\n",
       "      <td>1237</td>\n",
       "    </tr>\n",
       "    <tr>\n",
       "      <th>time</th>\n",
       "      <td>1258</td>\n",
       "      <td>73</td>\n",
       "      <td>1185</td>\n",
       "    </tr>\n",
       "    <tr>\n",
       "      <th>love</th>\n",
       "      <td>1251</td>\n",
       "      <td>69</td>\n",
       "      <td>1182</td>\n",
       "    </tr>\n",
       "    <tr>\n",
       "      <th>year</th>\n",
       "      <td>1041</td>\n",
       "      <td>36</td>\n",
       "      <td>1005</td>\n",
       "    </tr>\n",
       "    <tr>\n",
       "      <th>make</th>\n",
       "      <td>1022</td>\n",
       "      <td>39</td>\n",
       "      <td>983</td>\n",
       "    </tr>\n",
       "    <tr>\n",
       "      <th>family</th>\n",
       "      <td>929</td>\n",
       "      <td>49</td>\n",
       "      <td>880</td>\n",
       "    </tr>\n",
       "    <tr>\n",
       "      <th>take</th>\n",
       "      <td>923</td>\n",
       "      <td>41</td>\n",
       "      <td>882</td>\n",
       "    </tr>\n",
       "  </tbody>\n",
       "</table>\n",
       "</div>"
      ],
      "text/plain": [
       "         all  best  unsuccessful\n",
       "life    2104    81          2023\n",
       "one     1986    86          1900\n",
       "world   1526    59          1467\n",
       "find    1309    72          1237\n",
       "time    1258    73          1185\n",
       "love    1251    69          1182\n",
       "year    1041    36          1005\n",
       "make    1022    39           983\n",
       "family   929    49           880\n",
       "take     923    41           882"
      ]
     },
     "execution_count": 50,
     "metadata": {},
     "output_type": "execute_result"
    }
   ],
   "source": [
    "word_counts.sort_values(by='all', ascending=False).head(10)\n"
   ]
  },
  {
   "cell_type": "code",
   "execution_count": 51,
   "id": "5fe56754",
   "metadata": {},
   "outputs": [
    {
     "data": {
      "text/html": [
       "<div>\n",
       "<style scoped>\n",
       "    .dataframe tbody tr th:only-of-type {\n",
       "        vertical-align: middle;\n",
       "    }\n",
       "\n",
       "    .dataframe tbody tr th {\n",
       "        vertical-align: top;\n",
       "    }\n",
       "\n",
       "    .dataframe thead th {\n",
       "        text-align: right;\n",
       "    }\n",
       "</style>\n",
       "<table border=\"1\" class=\"dataframe\">\n",
       "  <thead>\n",
       "    <tr style=\"text-align: right;\">\n",
       "      <th></th>\n",
       "      <th>all</th>\n",
       "      <th>best</th>\n",
       "      <th>unsuccessful</th>\n",
       "    </tr>\n",
       "  </thead>\n",
       "  <tbody>\n",
       "    <tr>\n",
       "      <th>one</th>\n",
       "      <td>1986</td>\n",
       "      <td>86</td>\n",
       "      <td>1900</td>\n",
       "    </tr>\n",
       "    <tr>\n",
       "      <th>life</th>\n",
       "      <td>2104</td>\n",
       "      <td>81</td>\n",
       "      <td>2023</td>\n",
       "    </tr>\n",
       "    <tr>\n",
       "      <th>time</th>\n",
       "      <td>1258</td>\n",
       "      <td>73</td>\n",
       "      <td>1185</td>\n",
       "    </tr>\n",
       "    <tr>\n",
       "      <th>find</th>\n",
       "      <td>1309</td>\n",
       "      <td>72</td>\n",
       "      <td>1237</td>\n",
       "    </tr>\n",
       "    <tr>\n",
       "      <th>love</th>\n",
       "      <td>1251</td>\n",
       "      <td>69</td>\n",
       "      <td>1182</td>\n",
       "    </tr>\n",
       "    <tr>\n",
       "      <th>world</th>\n",
       "      <td>1526</td>\n",
       "      <td>59</td>\n",
       "      <td>1467</td>\n",
       "    </tr>\n",
       "    <tr>\n",
       "      <th>family</th>\n",
       "      <td>929</td>\n",
       "      <td>49</td>\n",
       "      <td>880</td>\n",
       "    </tr>\n",
       "    <tr>\n",
       "      <th>woman</th>\n",
       "      <td>897</td>\n",
       "      <td>45</td>\n",
       "      <td>852</td>\n",
       "    </tr>\n",
       "    <tr>\n",
       "      <th>two</th>\n",
       "      <td>658</td>\n",
       "      <td>42</td>\n",
       "      <td>616</td>\n",
       "    </tr>\n",
       "    <tr>\n",
       "      <th>secret</th>\n",
       "      <td>628</td>\n",
       "      <td>42</td>\n",
       "      <td>586</td>\n",
       "    </tr>\n",
       "  </tbody>\n",
       "</table>\n",
       "</div>"
      ],
      "text/plain": [
       "         all  best  unsuccessful\n",
       "one     1986    86          1900\n",
       "life    2104    81          2023\n",
       "time    1258    73          1185\n",
       "find    1309    72          1237\n",
       "love    1251    69          1182\n",
       "world   1526    59          1467\n",
       "family   929    49           880\n",
       "woman    897    45           852\n",
       "two      658    42           616\n",
       "secret   628    42           586"
      ]
     },
     "execution_count": 51,
     "metadata": {},
     "output_type": "execute_result"
    }
   ],
   "source": [
    "word_counts.sort_values(by='best', ascending=False).head(10)"
   ]
  },
  {
   "cell_type": "code",
   "execution_count": 52,
   "id": "c72c0bd6",
   "metadata": {},
   "outputs": [
    {
     "data": {
      "text/html": [
       "<div>\n",
       "<style scoped>\n",
       "    .dataframe tbody tr th:only-of-type {\n",
       "        vertical-align: middle;\n",
       "    }\n",
       "\n",
       "    .dataframe tbody tr th {\n",
       "        vertical-align: top;\n",
       "    }\n",
       "\n",
       "    .dataframe thead th {\n",
       "        text-align: right;\n",
       "    }\n",
       "</style>\n",
       "<table border=\"1\" class=\"dataframe\">\n",
       "  <thead>\n",
       "    <tr style=\"text-align: right;\">\n",
       "      <th></th>\n",
       "      <th>all</th>\n",
       "      <th>best</th>\n",
       "      <th>unsuccessful</th>\n",
       "    </tr>\n",
       "  </thead>\n",
       "  <tbody>\n",
       "    <tr>\n",
       "      <th>life</th>\n",
       "      <td>2104</td>\n",
       "      <td>81</td>\n",
       "      <td>2023</td>\n",
       "    </tr>\n",
       "    <tr>\n",
       "      <th>one</th>\n",
       "      <td>1986</td>\n",
       "      <td>86</td>\n",
       "      <td>1900</td>\n",
       "    </tr>\n",
       "    <tr>\n",
       "      <th>world</th>\n",
       "      <td>1526</td>\n",
       "      <td>59</td>\n",
       "      <td>1467</td>\n",
       "    </tr>\n",
       "    <tr>\n",
       "      <th>find</th>\n",
       "      <td>1309</td>\n",
       "      <td>72</td>\n",
       "      <td>1237</td>\n",
       "    </tr>\n",
       "    <tr>\n",
       "      <th>time</th>\n",
       "      <td>1258</td>\n",
       "      <td>73</td>\n",
       "      <td>1185</td>\n",
       "    </tr>\n",
       "    <tr>\n",
       "      <th>love</th>\n",
       "      <td>1251</td>\n",
       "      <td>69</td>\n",
       "      <td>1182</td>\n",
       "    </tr>\n",
       "    <tr>\n",
       "      <th>year</th>\n",
       "      <td>1041</td>\n",
       "      <td>36</td>\n",
       "      <td>1005</td>\n",
       "    </tr>\n",
       "    <tr>\n",
       "      <th>make</th>\n",
       "      <td>1022</td>\n",
       "      <td>39</td>\n",
       "      <td>983</td>\n",
       "    </tr>\n",
       "    <tr>\n",
       "      <th>take</th>\n",
       "      <td>923</td>\n",
       "      <td>41</td>\n",
       "      <td>882</td>\n",
       "    </tr>\n",
       "    <tr>\n",
       "      <th>family</th>\n",
       "      <td>929</td>\n",
       "      <td>49</td>\n",
       "      <td>880</td>\n",
       "    </tr>\n",
       "  </tbody>\n",
       "</table>\n",
       "</div>"
      ],
      "text/plain": [
       "         all  best  unsuccessful\n",
       "life    2104    81          2023\n",
       "one     1986    86          1900\n",
       "world   1526    59          1467\n",
       "find    1309    72          1237\n",
       "time    1258    73          1185\n",
       "love    1251    69          1182\n",
       "year    1041    36          1005\n",
       "make    1022    39           983\n",
       "take     923    41           882\n",
       "family   929    49           880"
      ]
     },
     "execution_count": 52,
     "metadata": {},
     "output_type": "execute_result"
    }
   ],
   "source": [
    "word_counts.sort_values(by='unsuccessful', ascending=False).head(10)"
   ]
  },
  {
   "cell_type": "code",
   "execution_count": 53,
   "id": "8b77d85b",
   "metadata": {},
   "outputs": [
    {
     "data": {
      "text/plain": [
       "Text(0.5, 1.0, 'Proportion of unsuccessful vs best for the 20 most common words')"
      ]
     },
     "execution_count": 53,
     "metadata": {},
     "output_type": "execute_result"
    },
    {
     "data": {
      "image/png": "[encoded data removed]",
      "text/plain": [
       "<Figure size 640x480 with 1 Axes>"
      ]
     },
     "metadata": {},
     "output_type": "display_data"
    }
   ],
   "source": [
    "# figure out the percentage of spam vs ham\n",
    "(word_counts\n",
    " .assign(p_unsuccessful = word_counts.unsuccessful / word_counts['all'],\n",
    "         p_best = word_counts.best / word_counts['all'])\n",
    " .sort_values(by='all')\n",
    " [['p_unsuccessful', 'p_best']]\n",
    " .tail(10)\n",
    " .sort_values('p_best')\n",
    " .plot.barh(stacked=True))\n",
    "\n",
    "plt.title('Proportion of unsuccessful vs best for the 20 most common words')"
   ]
  },
  {
   "cell_type": "markdown",
   "id": "fea7708d",
   "metadata": {},
   "source": [
    "# Are there any words that uniquely identify a best or unsuccessful book?"
   ]
  },
  {
   "cell_type": "code",
   "execution_count": 54,
   "id": "5a310b5e",
   "metadata": {},
   "outputs": [],
   "source": [
    "unique_vals = pd.concat([word_counts[word_counts.best == 0].sort_values(by='best').tail(100),\n",
    "           word_counts[word_counts.unsuccessful == 0].sort_values(by='unsuccessful').tail(100)])\n"
   ]
  },
  {
   "cell_type": "code",
   "execution_count": 55,
   "id": "52b72e0d",
   "metadata": {},
   "outputs": [
    {
     "data": {
      "text/html": [
       "<div style=\"display:flex;flex-direction:row;justify-content:space-between;\">\n",
       "                <pre style=\"width: 100%; white-space: pre-wrap;\" id=\"7de53370-d727-4df7-9e53-fc76e15bba14\">\n",
       "# Get the rows where all of columns best has some value, and unsuccessful has the value 0\n",
       "filtered_df = unique_vals[(unique_vals['best'] > 0) & (unique_vals['unsuccessful'] == 0)]\n",
       "\n",
       "# Print the filtered dataframe\n",
       "print(filtered_df)\n",
       "</pre>\n",
       "                <button style=\"height: fit-content;\" onclick=\"navigator.clipboard.writeText(JSON.parse(atob(`IlxuIyBHZXQgdGhlIHJvd3Mgd2hlcmUgYWxsIG9mIGNvbHVtbnMgYmVzdCBoYXMgc29tZSB2YWx1ZSwgYW5kIHVuc3VjY2Vzc2Z1bCBoYXMgdGhlIHZhbHVlIDBcbmZpbHRlcmVkX2RmID0gdW5pcXVlX3ZhbHNbKHVuaXF1ZV92YWxzWydiZXN0J10gPiAwKSAmICh1bmlxdWVfdmFsc1sndW5zdWNjZXNzZnVsJ10gPT0gMCldXG5cbiMgUHJpbnQgdGhlIGZpbHRlcmVkIGRhdGFmcmFtZVxucHJpbnQoZmlsdGVyZWRfZGYpXG4i`)))\">Copy</button>\n",
       "                </div>"
      ],
      "text/plain": [
       "<IPython.core.display.HTML object>"
      ]
     },
     "metadata": {},
     "output_type": "display_data"
    }
   ],
   "source": [
    "unique_vals.sketch.howto('find where all of columns best has some value, and unsuccessful has the value 0')"
   ]
  },
  {
   "cell_type": "code",
   "execution_count": 56,
   "id": "57e98105",
   "metadata": {},
   "outputs": [],
   "source": [
    "best_uni = unique_vals.loc[(unique_vals['best'] > 0) & (unique_vals['unsuccessful'] == 0)]"
   ]
  },
  {
   "cell_type": "code",
   "execution_count": 57,
   "id": "a18a201c",
   "metadata": {},
   "outputs": [],
   "source": [
    "best_uni = best_uni.sort_values(by = 'best',ascending = False)"
   ]
  },
  {
   "cell_type": "code",
   "execution_count": 58,
   "id": "94d15e0f",
   "metadata": {},
   "outputs": [
    {
     "data": {
      "text/plain": [
       "kirsch               7\n",
       "haller               6\n",
       "evanovich            4\n",
       "f                    4\n",
       "kya                  3\n",
       "                    ..\n",
       "finder               1\n",
       "finchscoutreturns    1\n",
       "feint                1\n",
       "feared               1\n",
       "epping               1\n",
       "Name: best, Length: 100, dtype: int64"
      ]
     },
     "execution_count": 58,
     "metadata": {},
     "output_type": "execute_result"
    }
   ],
   "source": [
    "best_uni.best"
   ]
  },
  {
   "cell_type": "markdown",
   "id": "08e96055",
   "metadata": {},
   "source": [
    "# Unique best words`"
   ]
  },
  {
   "cell_type": "code",
   "execution_count": 59,
   "id": "e864383c",
   "metadata": {},
   "outputs": [
    {
     "data": {
      "text/plain": [
       "<AxesSubplot:xlabel='best', ylabel='count'>"
      ]
     },
     "execution_count": 59,
     "metadata": {},
     "output_type": "execute_result"
    },
    {
     "data": {
      "image/png": "[encoded data removed]",
      "text/plain": [
       "<Figure size 640x480 with 1 Axes>"
      ]
     },
     "metadata": {},
     "output_type": "display_data"
    }
   ],
   "source": [
    "sns.countplot(x= 'best', data = best_uni)"
   ]
  },
  {
   "cell_type": "code",
   "execution_count": null,
   "id": "b774bb20",
   "metadata": {},
   "outputs": [],
   "source": []
  },
  {
   "cell_type": "code",
   "execution_count": 60,
   "id": "890e9a66",
   "metadata": {},
   "outputs": [
    {
     "data": {
      "image/png": "[encoded data removed]",
      "text/plain": [
       "<Figure size 640x480 with 1 Axes>"
      ]
     },
     "metadata": {},
     "output_type": "display_data"
    }
   ],
   "source": [
    "# plot the 'best' column\n",
    "best_uni['best'].head(20).plot(kind='bar')\n",
    "\n",
    "# set the x-axis label\n",
    "plt.xlabel('Most Popular Words')\n",
    "\n",
    "# set the y-axis label\n",
    "plt.ylabel('Count')\n",
    "\n",
    "# show the plot\n",
    "plt.show()"
   ]
  },
  {
   "cell_type": "code",
   "execution_count": 61,
   "id": "d47fb8da",
   "metadata": {},
   "outputs": [
    {
     "data": {
      "text/html": [
       "<div>\n",
       "<style scoped>\n",
       "    .dataframe tbody tr th:only-of-type {\n",
       "        vertical-align: middle;\n",
       "    }\n",
       "\n",
       "    .dataframe tbody tr th {\n",
       "        vertical-align: top;\n",
       "    }\n",
       "\n",
       "    .dataframe thead th {\n",
       "        text-align: right;\n",
       "    }\n",
       "</style>\n",
       "<table border=\"1\" class=\"dataframe\">\n",
       "  <thead>\n",
       "    <tr style=\"text-align: right;\">\n",
       "      <th></th>\n",
       "      <th>all</th>\n",
       "      <th>best</th>\n",
       "      <th>unsuccessful</th>\n",
       "    </tr>\n",
       "  </thead>\n",
       "  <tbody>\n",
       "    <tr>\n",
       "      <th>kirsch</th>\n",
       "      <td>7</td>\n",
       "      <td>7</td>\n",
       "      <td>0</td>\n",
       "    </tr>\n",
       "    <tr>\n",
       "      <th>haller</th>\n",
       "      <td>6</td>\n",
       "      <td>6</td>\n",
       "      <td>0</td>\n",
       "    </tr>\n",
       "    <tr>\n",
       "      <th>evanovich</th>\n",
       "      <td>4</td>\n",
       "      <td>4</td>\n",
       "      <td>0</td>\n",
       "    </tr>\n",
       "    <tr>\n",
       "      <th>f</th>\n",
       "      <td>4</td>\n",
       "      <td>4</td>\n",
       "      <td>0</td>\n",
       "    </tr>\n",
       "    <tr>\n",
       "      <th>kya</th>\n",
       "      <td>3</td>\n",
       "      <td>3</td>\n",
       "      <td>0</td>\n",
       "    </tr>\n",
       "    <tr>\n",
       "      <th>...</th>\n",
       "      <td>...</td>\n",
       "      <td>...</td>\n",
       "      <td>...</td>\n",
       "    </tr>\n",
       "    <tr>\n",
       "      <th>finder</th>\n",
       "      <td>1</td>\n",
       "      <td>1</td>\n",
       "      <td>0</td>\n",
       "    </tr>\n",
       "    <tr>\n",
       "      <th>finchscoutreturns</th>\n",
       "      <td>1</td>\n",
       "      <td>1</td>\n",
       "      <td>0</td>\n",
       "    </tr>\n",
       "    <tr>\n",
       "      <th>feint</th>\n",
       "      <td>1</td>\n",
       "      <td>1</td>\n",
       "      <td>0</td>\n",
       "    </tr>\n",
       "    <tr>\n",
       "      <th>feared</th>\n",
       "      <td>1</td>\n",
       "      <td>1</td>\n",
       "      <td>0</td>\n",
       "    </tr>\n",
       "    <tr>\n",
       "      <th>epping</th>\n",
       "      <td>1</td>\n",
       "      <td>1</td>\n",
       "      <td>0</td>\n",
       "    </tr>\n",
       "  </tbody>\n",
       "</table>\n",
       "<p>100 rows × 3 columns</p>\n",
       "</div>"
      ],
      "text/plain": [
       "                   all  best  unsuccessful\n",
       "kirsch               7     7             0\n",
       "haller               6     6             0\n",
       "evanovich            4     4             0\n",
       "f                    4     4             0\n",
       "kya                  3     3             0\n",
       "...                ...   ...           ...\n",
       "finder               1     1             0\n",
       "finchscoutreturns    1     1             0\n",
       "feint                1     1             0\n",
       "feared               1     1             0\n",
       "epping               1     1             0\n",
       "\n",
       "[100 rows x 3 columns]"
      ]
     },
     "execution_count": 61,
     "metadata": {},
     "output_type": "execute_result"
    }
   ],
   "source": [
    "best_uni\n",
    "# kirsh is alcohol\n",
    "# evanovich is an author\n",
    "# "
   ]
  },
  {
   "cell_type": "code",
   "execution_count": 62,
   "id": "03d7d71e",
   "metadata": {},
   "outputs": [
    {
     "data": {
      "text/plain": [
       "2797    internationally bestselling pulitzer prizewinn...\n",
       "2952    june world seem turn upsidedown british army w...\n",
       "3320    homicide detective eve dallas must untangle tw...\n",
       "2336    ira levinson trouble ninetyone year old poor h...\n",
       "1961    jack mullen drive student law brother peter se...\n",
       "                              ...                        \n",
       "1781    mercy thompson car mechanic shapeshifter never...\n",
       "2947    librarian note alternate cover find hereworld ...\n",
       "3532    nicolae carpathia dead kill antichrist answer ...\n",
       "901     alternate cover find herewhen willow bear seve...\n",
       "3341    seventh karon beloved series available paperba...\n",
       "Name: lemmatized_summary, Length: 129, dtype: object"
      ]
     },
     "execution_count": 62,
     "metadata": {},
     "output_type": "execute_result"
    }
   ],
   "source": [
    "best.lemmatized_summary"
   ]
  },
  {
   "cell_type": "code",
   "execution_count": 63,
   "id": "4e5d0d89",
   "metadata": {},
   "outputs": [
    {
     "data": {
      "text/plain": [
       "'internationally bestselling pulitzer prizewinning author superbly craft fiction eight storieslonger emotionally complex yet writtenthat take u cambridge seattle india thailand enter live sister brother father mother daughter son friend stun ruma young mother city visit father carefully tend earth garden grandson form special bond he harbor secret daughter love affair he keep choice accommodation husband attempt turn old friend wed romantic getaway weekend wife take dark reveal turn party last deep night goodness sister eager give younger brother perfect childhood never overwhelm guilt anguish anger alcoholism threaten family hema kaushik trio link storiesa luminous intensely compel elegy life death love fatewe follow live girl boy one winter share house massachusetts travel innocence experience separate sometimes painful path destiny bring together year later rome unaccustomed earth rich jhumpa lahiris signature gift exquisite prose emotional wisdom subtle rendering intricate working heart mind masterful dazzling writer peak power june world seem turn upsidedown british army withdraw philadelphia george washington pursuit first time look rebel might actually win claire fraser family even tumultuous revolution former husband jamie return dead demanding know absence marry friend lord john grey lord john son ninth earl ellesmere le shocked discover real father actually newly resurrect jamie fraser jamie nephew ian murray discovers newfound cousin eye woman agree marry claire terrify one husband may murder century descendant face even desperate turn event daughter brianna try protect son vicious criminal murder mind husband roger disappear past homicide detective eve dallas must untangle twisted family history hostages life hang balancein death time bestselling woman body find bench city playground clean hair neatly arrange makeup carefully apply thing wronglike tattoo piercings clearly clothes decade date fatal wind hidden beneath ribbon around neck note bad mommy write crayon seem clear killer childhood traumatica situation eve familiar yet clue point perpetrator whod around sixty record old crime similar mo trigger apparently reopen old wound send someone edge eve learn young woman recently vanish case grows even urgentand solve shell need find way hidden place dim light concrete distant past depth shatter mind ira levinson trouble ninetyone year old poor health alone world find strand isolated embankment car crash suffer multiple injury struggle retain consciousness blurry image materialize come focus beside beloved wife ruth pass away nine year ago urge hang force remain alert recount story lifetime together meet precious painting collect together dark day wwii effect family ira know ruth cant possibly car cling word memory relive sorrow everyday joy define mile away local rodeo wake forest college senior life change recover recent breakup sophia danko meet young cowboy name luke bear little resemblance privilege frat boy encounter school luke sophia introduce world stake survival success ruin reward even life death loom large everyday life luke fall love sophia find imagining future far remove plan future luke power rewrite secret he keep doesnt destroy ruth sophia luke two couple little common separate year experience yet live converge unexpected poignancy remind u even difficult decision yield extraordinary journey beyond despair beyond death farthest reach human heart jack mullen drive student law brother peter servant rich parking car hampton elite perhaps satisfy intimate need well peter body find beach jack know drown accident someone unlimited power money buy cop judge system jack learn lesson justice never get law school astonish plan beat billionaire reel cheer last page abandon friend cycle wisconsin town french land tenyearold ty marshall spot crow hop towards sidewalk call name fascinate ty get bike closer look drag ty destine become fourth victim fisherman serial killer stalk sleepy town exdetective jack sawyer may able save jack leave old life behind precisely avoid madness lately visit strange nightmare vision could doom past thought escape forever reach black house alternate cover asin aftermath colossal battle future seven kingdom hang balancebeset newly emerge threat every direction east daenerys targaryen last scion house targaryen rule three dragon queen city build dust death daenerys thousand enemies many set find gather one young man embark upon quest queen entirely different goal westeros price head tyrion lannister make way daenerys newest ally quest ragtag band seem heart lie one could undo daeneryss claim westeros north lie mammoth wall ice stonea structure strong guarding jon snow lord commander night watch face greatest challenge powerful foe within watch also beyond land creature corner bitter conflict reignite intimate betrayal perpetrate grand cast outlaw priests soldier skinchangers nobles slave face seemingly insurmountable obstacle fail others grow strength darkness time rise restlessness tide destiny politics lead inevitably greatest dance melanie stryder refuse fade away earth invaded specie take mind human host leave body intact wanderer invade soul give melanie body expect find former tenant refuse relinquish possession melanie fill wanderer thought vision jar human still live hide wanderer begin yearn man never meet reluctant ally wanderer melanie set search man see alternate cover edition isbn ace ace ace dead walk men die impossible death seem though reality become unstable sign imminence tarmon last battle rand dragon reborn must confront dark one humanity hope rand dare fight posse survive seal dark one prison dealt seanchan threaten overrun nation side aryth ocean increasingly seem entrench fought attempt make truce seanchan shadow treachery may cost everything whatever price though must truce face wind time become storm thing everyone believe fixed place forever change eye even white tower longer place safety rand perrin mat egwene elayne nynaeve lan even loial must ride storm wind dark one triumph hill people mexican arrive day wednesday early september cardinal five game behind dodger three week go season look hopeless cotton however waisthigh father head grandfather could hear supper whispering word seldom heard could good begin john grisham inspire childhood rural arkansas narrator farm boy name luke chandler age seven live cotton field parent grandparent little house never paint chandler farm eighty acres rent cotton ready hire truckload mexican family ozarks help harvest six week pick cotton battle heat rain fatigue sometimes week pass luke see hears thing sevenyearold could possibly prepare find keep secret threaten crop change live chandler forever belfry holding random house bantam doubleday dell audio publish division random house inc librarian note alternate cover find herein year reality ugly place time teenage wade watt really feel alive jack virtual utopia know oasis wade devote life study puzzle hidden within world digital confines puzzle base creator obsession pop culture decade past promise massive power fortune whoever unlock wade stumble upon first clue find beset player willing kill take ultimate prize race wade go survive winand confront real world always desperate escape welcome trenton jersey bounty hunter stephanie plum life implode janet evanovich wildest hottest yet first stranger appearswhile chase usual cast miscreant weirdos stephanie discovers craze woman stalk stranger reveals secretsthe woman dress black carry glock bad attitude mysterious connection dark dangerous carlos manoso street name somebody diesthe action turn deadly serious stephanie go hunt skip hunt chase onranger need stephanie reason say two work together find killer rescue miss child stop lunatic raise body count stephanie plum ranger get close comfort vice cop joe morelli onagain offagain boyfriend step tick clock stop stroke twelve stranger wind find way stop stephanie plum forever fill janet evanovich trademark action nonstop adventure sharp humor twelve sharp show novel call hot stuff time evanovich master san francisco examiner bestselling author louise penny find chief inspector armand gamache surete du quebec investigate sinister plot city lighton first night paris gamaches gather family bistro dinner armand godfather billionaire stephen horowitz walk home together meal watch horror stephen knock critically injure gamache know accident deliberate attempt elderly man strange key find stephen possession sends armand wife reinemarie former secondincommand surete jeanguy beauvoir top tour bowel paris archive luxury hotel odd cod work send deep secret armand godfather kept gruesome discovery stephen paris apartment make clear secret rancid danger far greater imminent whole family catch web lie deceit order find truth gamache decide whether trust friend colleague instinct past even city light cast long shadow darkness devil hide small england town early shadow fall small boy play toy soldier jamie morton look see strike man minister charles jacobs soon forge deep bond base fascination simple experiment electricity decade later jamie live nomadic lifestyle barband rock roll see jacob meet profound consequence men bond becomes pact beyond even devil devise jamie discovers revival many meaning lieutenant eve dallas puzzle bizarre suicide bomb wall office building latest time bestselling series airline executive finalize merger would make news business world nine meeting would major milestone marketing vp paul rogan walk plush conference room strap explosive headline tell death destruction instead nypsds eve dallas confirms rogan cruelly coerce two masked men hold family hostage motive save wife daughterbut motive mask mendespite chaos bad publicity blow one meeting isnt go put brake merger accomplish shatter lot innocent live help billionaire husband roarke eve must untangle reason inexplicable act terror look suspect inside outside corporation determine whether root crime lie simple sabotage something far complex twist gideon cross beautiful flawless outside damage tormented inside bright scorch flame sing darkest pleasure could stay away want addiction every desire past violent broken wed never hard painful except perfect moment drive hunger desperate love exquisite insanity bound need passion would take u beyond limit sweetest sharpest edge obsession marine logan thibault find photograph smile young woman halfburied dirt third tour duty iraq first instinct toss aside instead bring back base someone claim one find always carry photo pocket soon thibault experience sudden streak luckwinning poker game even survive deadly combat kill two closest buddy friend victor seem explanation good fortune photographhis lucky home colorado thibault cant seem get photoand woman itout mind believe somehow hold key destiny set journey across country find never expect strong vulnerable woman encounter hampton north carolinaelizabeth divorce mother young sonto girl he wait whole life meet catch guard attraction feel thibault keep photo luck secret elizabeth embark upon passionate allconsuming love affair secret keep soon threaten tear apartdestroying love also tender romance terrific suspense lucky one nicholas spark bestan unforgettable surprising path live often take power fate guide u true everlasting love youre year approach charge level armand start innocently resident quebec village three pine take advantage deep snow ski toboggan drink hot chocolate bistro share meals together chief inspector find holiday family interrupt simple ask provide security promise nonevent visit professor statistic give lecture nearby perplexed head homicide surete du quebec would assign task sound easy enough gamache start look professor abigail robinson discovers agenda repulsive begs university cancel refuse cite academic freedom accuse gamache censorship intellectual cowardice long professor robinson view start seep conversation spread infect truth fact reality delusion confuse near impossible tell become debate debate become argument turn fight side declare madness take robinson promise follow ca va bien aller well gamache team know murder commit fall armand gamache secondincommand jeanguy beauvoir team investigate crime well extraordinary popular madness crowd personal trainer trey ziegler peak physical condition didnt count kitchen knife welltoned eve dallas soon discovers lineup woman love left narcissistic gym rat dallas sort list ziegler enemy shes also deal christmas shopping listplus guest list billionaire husband upcoming holiday less festive dallas try put aside distaste victim solve mystery death investigating day leave christmas year approach homicide cop resolve stop coldblooded killer also see alternate cover edition isbn ace ace blown upall jersey bounty hunter stephanie plum bring semiretired bail jumper eddie dechooch old man still get knack slip sightand raise hell else stephanie explain bulletriddled corpse eddie garden else would clue two stephanie friend suddenly vanish answer stephanie devil pay mentor ranger deal give stephanie help needsif give everything want messed upas thing complicate enough stephanie discover grandma mazur unmentionable alliance eddie add series unnerve breakins mention bombshell revelation level stephanie estrange sister stephanie ready good news unfortunately marriage proposal joe morelli love life quite cut nowmurder randy paramour wily mobster death threat extortion triple kidnapping asidestephanie really get urge run life intricate old map find stuffed wall bistro three pine first seem curiosity closer villager look stranger becomes give armand gamache gift first day job map eventually lead shatter secret old friend older adversary lead former chief homicide surete du quebec place even afraid go must find four young cadet surete academy dead professor body copy old odd map everywhere gamache turn see amelia choquet one cadets tattooed pierce guarded angry amelia likely find side police lineup yet academy protegee murder focus investigation soon turn gamache mysterious relationship amelia possible involvement crime frantic search answer take investigator back three pine stain glass window horrific secret amelia choquet armand gamache time come great time bestselling author louise penny pull back layer reveal brilliant emotionally powerful truth latest spellbinding part small demon lair north la vegas tattooist harper wallis live pretty simple life change overnight discovers psychic mate anchor guy who rumor powerful demon existence compel full secret arm raw sexuality knox thorne determine claim anchor create psychic bond prevent inner demon ever turn rogue billionaire also want harper bed shes sure want either thing one seem know breed demon knox he dangerous anything shes ever encounter refuse walk away unknown danger start close harper seem knox one keep safe prime la vegas lair successful businessman knox thorne use control he also use people fear obey harper neither unexpectedly amuses unpredictable elusive complex draw knox inner demon like nothing ever knox use get want want harper hell hell keep safe threat loom knox protects whats wont allow anyone take even mean let demon inside rise wreak havoc create make classic john le carre third first earn international acclaim create world unlike previously experience suspense fiction unsurpassed knowledge cull year british intelligence le carre brings light shadowy dealing international espionage british agent longs end career undertakes one final bonechilling assignment last agent command kill alec leamas call back london hop come cold good spymaster control however plan determine bring head east german intelligence topple organization control send leamas fray time play part dishonor spy lure enemy ultimate defeat chic manhattan nightspot du vin kind place eve dallas would usually patronize kind bar lot blood get spilled thats exactly happen one cold february mortally wound woman larinda mar selfdescribed social information reporter people would call professional gossip turn keep shock story quiet profitable use side business blackmailer set sight rich prominent mark shed find wanted keep hidden bleed dry someone do literallywith knife brachial didnt like larinda mar like murder even less find justice victim shell plunge dirty little secret people larinda mar victimize along way may expose information really didnt want know predator become prey newest thriller time bestselling series feature homicide detective eve call lady justice choose man target turn tall blonde curvaceous redhead make allure seductive possible grasp first victim wealthy businessman nigel mcenroy company human resource department already pay settlement couple young victimsbut dont know crime go far beyond workplace harassment lady justice know one shocking night brutality make pay much steeper eve dallas husband roarke comb evidence mcenroys secret life compulsive need record misdeeds provide wide range suspect true identity lady justice remain elusive challenge case make even difficult mcenroys widow reacts investigation fury denial threat meanwhile lady justice criminal crusade escalate rapidly eve cant stop vigilante theres tell much blood may spill every family ghost mitch albom mesmerize reader around world number one time bestseller five people meet heaven tuesday morrie return beautiful haunt family love chance one day mother son relationship cover lifetime beyond explores question would could spend one day lose love one child charley chick benetto tell father mama boy daddy boy ca choose father see man disappear charley verge adolescence decade later charley break man life crumble alcohol regret lose job leaf family hit bottom discover daughter shut wed decides take make midnight ride small hometown plan upon fail even stagger back old house make astonish discovery mother die eight year earlier still live welcome home nothing ever happen follow one ordinary day many u yearn chance make good lose parent explain family secret seek forgiveness somewhere life next charley learn astonish thing never know mother sacrifice try tender guidance put crumble piece life back albom inspiring character masterful storytelling reader newly appreciate love may think lose life one day anyone family cherish albom million fan worldwide mackenzie allen philip youngest daughter missy abduct family vacation evidence may brutally murder found abandon shack deep oregon wilderness four year later midst great sadness mack receive suspicious note apparently god invite back shack weekend well judgment arrive shack wintry afternoon walk back darkest nightmare find change mack world world religion seem grow increasingly irrelevant shack wrestle timeless question god world fill unspeakable pain answer mack get astound perhaps transform much want everyone know read amarylis coltraine may recently transfer city police force atlanta cop long enough know defend assailant take step away apartment kill weapon eve victim u friend chief medical examiner morris coltraine start serious relationship account two head happy future together someone put end break news morris eve start question everyone coltraine squad informant neighbor eve husband roarke dig computer data coltraine life back atlanta shock discover connection case painful shadowy truth need uncover one layer time start box arrive cop central address eve contain coltraine gun badge note killer back maybe someday soon send somebody else eve dallas take kindly personal threat go break case whatever take promise dome small town chester mill maine inexplicably suddenly seal rest world invisible force field one get one get food electricity water run short normal rule society change sinister social order develop dale barbara young iraq veteran team handful intrepid citizen fight corruption sweep town try discover source dome late one pat conroy return big sprawl love letter charleston lifelong sumptuous backdrop charleston south carolina south broad gather unique cast sinner saint leopold bloom king narrator son amiable love father teach science local high school mother exnun high school principal wellknown joyce scholar leo older brother commits suicide age thirteen family struggle shatter effect death leo lonely isolated search something sustain eventually find answer become part tightly knit group high school senior include friend sheba trevor poe glamorous twin alcoholic mother prisonescapee father hardscrabble mountain runaway nile starla whitehead socialite molly huger boyfriend chadworth rutledge x everwidening circle whose liaison ripple across two decadesfrom counterculture dawn aid crisis tie among endure year survive marriage happy trouble unrequited love unspoken longing hardwon successes devastate breakdown charleston dark legacy racism class division final test friendship bring san francisco something one prepared south broad pat conroy finest longawaited great american writer whose passion life language know bound harvard professor symbology robert langdon awaken italian hospital disorient recollection past thirtysix hour include origin macabre object hidden belonging relentless female assassin trail florence resourceful doctor sienna brook force flee embark harrow journey must unravel series code brilliant scientist whose obsession end world match passion one influential masterpiece ever write dante alighieri inferno dan brown raise bar yet combine classical italian art history literature cuttingedge science sumptuously entertaining thriller harper lee come landmark set two decade beloved pulitzer prizewinning masterpiece kill mockingbird maycomb alabama twentysixyearold jean louise finchscoutreturns home city visit age father atticus set backdrop civil right tension political turmoil transform south jean louise homecoming turn bittersweet learns disturb truth closeknit family town people dearest memory childhood flood back value assumption thrown doubt feature many iconic character kill mockingbird go set watchman perfectly capture young woman world painful yet necessary transition illusion pasta journey guide one conscience write go set watchman impart fuller richer understand appreciation harper lee unforgettable wisdom humanity passion humor effortless precisiona profoundly affect art wonderfully evocative another era relevant time confirm endure brilliance kill mockingbird also serve essential companion add depth context mean american classic derry maine four young boy stand together brave thing something change way hardly quarter century later boys men go separate way though still get together year go hunt north wood maine time different time man come stumble camp lose disoriented muttering light long old friend plunge remarkable event live struggle terrible creature another world chance survival lock share past dreamcatcher patty walter berglund pioneer old paulthe gentrifiers handson parent avantgarde whole food generation patty ideal sort neighbor could tell recycle battery get local cop actually job enviably perfect mother wife walter dream together walterenvironmental lawyer commuter cyclist total family manshe small part build better millennium berglunds become mystery teenage son move aggressively republican family next door walter take job work big coal exactly richard katzoutre rocker walter college friend rivalstill picture happen patty bright star barrier street become different kind neighbor implacable fury come unhinged street attentive eyesin first since correction jonathan franzen give u epic contemporary love marriage freedom comically tragically capture temptation burden liberty thrill teenage lust shake compromise middle age wage suburban sprawl heavy weight empire chart mistake joy freedom character struggle learn live ever confuse world franzen produce indelible deeply move portrait marielaure live paris near museum natural history father work twelve nazi occupy paris father daughter flee wall citadel saintmalo marielaures reclusive great uncle live tall house sea carry might museums valuable dangerous mining town germany werner pfennig orphan grow younger sister enchant crude radio find brings news story place never see imagined werner become expert build fix crucial instrument enlist use talent track resistance deftly interweave life marielaure werner doerr illuminate way odds people try good one highly acclaimed multiple awardwinning anthony doerr stunningly beautiful instant time bestseller blind french girl german boy whose path collide occupied france try survive devastation world war alternate cover isbn find newer isbn find time bestselling author giver star discover love capture million heart still nothing common love give everything lose clark ordinary girl live exceedingly ordinary lifesteady boyfriend close familywho barely farther afield tiny village take badly need job work exmaster universe traynor wheelchair bound accident always live huge lifebig deal extreme sport worldwide traveland he pretty sure live way acerbic moody bossybut lou refuse treat kid gloves soon happiness mean expect learns shock plan set show life still worth love generation perfect fan john green fault star bring life two people couldnt le commona heartbreakingly romantic asks make person love happy also mean break heart vamp year weres shifter decide follow lead undead reveal existence ordinary world sookie stackhouse already know course brother turn panther full moon friend local pack sam bos merlotte bar great revelation go well first horribly mutilate body werepanther found parking lot merlotte sookie agree use telepathic talent track murderer far greater danger killer threaten bon temp race unhuman being older powerful far secretive vampire werewolves prepare war sookie alltoohuman pawn agesold battle alaska unforgiving family crisis ultimate test allbright former pow come home vietnam war change volatile man lose yet another job make impulsive decision move family north alaska live grid america last true leni girl come age tumultuous time catch riptide parent passionate stormy relationship dare hope land lead well future family desperate place belong mother cora anything go anywhere man love even mean follow first alaska seem answer prayer wild remote corner state find fiercely independent community strong men even stronger woman long sunlit day generosity local make allbrights lack preparation dwindle winter approach darkness descends alaska ernts fragile mental state deteriorates family begin fracture soon peril outside pale comparison threat within small cabin cover snow blanket eighteen hour night leni mother learn terrible truth wild one save unforgettable portrait human frailty resilience kristin hannah reveals indomitable modern american pioneer spirit vanish alaskaa place incomparable beauty danger great alone dare beautiful stayupallnight love loss fight survival wildness live man nature alyson noel bestselling immortal series hail addictive beautiful haunt mesmerize blue moon ever chance bring family back dead willing sacrifice guy love life ever learn everything ability immortal initiate dark seductive world beloved damen something terrible happen ever power increase damen begin fade stricken mysterious illness threaten memory identity save ever travels mystical dimension summerland uncovers secret damen past brutal torture history hop keep hidden also ancient text reveal working time approach blue moon herald window travel ever force decide turn back clock save family accident claim stay present save damen grows weaker day wheel time turn age come go leave memory become legend legend fade myth even myth long forgotten age give birth return third age age prophecy world time hang balance may yet fall last battle loom mankind final volume wheel time memory light partially write robert jordan untimely pass brandon sanderson time bestselling author mistborn book stormlight archive among others choose jordan editorhis wife harriet mcdougalto complete final volume later expand three epic robert jordan international bestselling series begin dramatic conclusion rand dragon reborn struggle unite fracture network kingdom alliance preparation last battle attempt halt seanchan encroachment northwardwishing could form least temporary truce invadershis ally watch terror shadow seem grow within heart dragon reborn amyrlin seat rebel aes sedai captive white tower subject whims tyrannical leader day tick toward seanchan attack know imminent egwene work hold together disparate faction aes sedai provide leadership face increase uncertainty despair fight prove mettle aes sedai conflict decide future white towerand possibly world set atlanta georgia racially mixed latecentury boomtown full fresh wealth wily politician protagonist charles croker college football star latemiddleaged atlanta conglomerate king whose outsize ego last hit reality charlie acre quailshooting plantation young demand second wife halfempty office complex stagger load conrad hensley idealistic young father two laid job croker global food warehouse near oakland find spiral lower depth american legal back atlanta star georgia tech run back fareek canon fanon homegrown product city slum accuse dateraping daughter pillar white establishment upscale black lawyer roger white ii ask represent fanon help keep city delicate racial balance blow illegal asian immigrant crisscross continent daily life behind bar shady real estate syndicate wolfe show u contemporary america verve wit insight make admired novelist charlie crokers deliverance tribulation provide unforgettable denouement widely await hilarious tell america see age tom wolfe outstanding achievement date woman murder club return another thrilling crime investigation skills enough take brutal madmana brutal madman spray bullet crowd child leave san francisco church miraculouslyor intentionallyonly one person die elderly black woman hung police homicide inspector lindsay boxer sens connection together medical examiner claire assistant jill chronicle reporter cindy find link sends chill entire nation killer motif inventive installment woman murder club jam patterson prof master murder mystery sunday time stephanie plum think career fugitive apprehension agent run course shot spat cuss firebombed moon attacked dog stephanie think time change quits want something safe normal kind trouble bail bond office ca compare kind trouble find face stephanie stalked maniac return grave sole purpose put burial plot kill kill give chance caught stay far away bounty hunter business stay alive stephanie reexamines life possibility bounty hunter solution rather problem disturbingly brief career button factory kan klean dry cleaner cluckinabucket stephanie take office position security work ranger sexiest baddest bounty hunter businessman two continent temper temperature rise competition ratchet two men life onagain offagain boyfriend tough trenton cop joe morelli bos ranger stephanie plum take heat eve dallas walk shadow husband dangerous often since marry cop murder interrupt pleasant activity roarke suppose woman lie pool blood step inside arch washington square park heftier night theatre interrupt murder young woman washington square park seem like ordinary case detective eve dallas team roarke spot shadow past crowd eve realises case far business two complex case hand shock murder wealthy young mother track shadow strike time much closer home eve well use hunter cope table turn eve team follow lead roarke hometown ireland race stop shadow make next move christian grey exercise control thing world neat discipline utterly emptyuntil day anastasia steele fall office tangle shapely limb tumble brown hair try forget instead swept storm emotion comprehend resist unlike woman know shy unworldly ana seem see right himpast business prodigy penthouse lifestyle christian cold wound heart ana dispel horror childhood haunt christian every night dark sexual desire compulsion control selfloathing fill soul drive girl away destroy fragile hope offer himsee world fifty shade grey anew eye christian christian word thought reflection dream e l james offer fresh perspective love enthral million reader around intended mature audience author time bestseller global phenomenon girl train return water addictive psychological single mother turn dead bottom river run town earlier summer vulnerable teenage girl meet fate first woman lose dark water death disturb river history dredge secret long submerge leave behind lonely fifteenyearold girl parentless friendless find care mother sister fearful stranger drag back place deliberately run froma place vow never return propulsive write acute understanding human instinct captivate million reader around world explosive debut thriller girl train paula hawkins delivers urgent twist deeply satisfy read hinge deceptiveness emotion memory well devastate way past reach long arm present beware calm surfaceyou never know lie beneath breath snow ash continue extraordinary scotsman jamie fraser wife year eve american revolution long fuse rebellion already lit men lie dead street boston backwoods north carolina isolated cabin burn chaos brewing governor call upon jamie fraser unite backcountry safeguard colony king crown wife jamie know three year hence shot hear round world fire result independence loyal king either dead exile also matter tiny clip wilmington gazette date report jamies death along kin hope timetraveling family may wrong future base true event unlike anything ever read time bestselling author nelson demille create may finest dusk july man woman marriedbut othermake love long island beach video camera record pleasure something ocean twa flight suddenly explode victim board terrible blast illuminate sky government verdict mechanical failure videotape may tell another storyif fifth anniversary crash two member federal antiterrorist task force set reopen case john corey exnypd detective wife kate mayfield career fbi agent together hunt crucial video race tow elusive truth even horrify crash cover dennis mira two unpleasant surprise first learn cousin edward secretly meet real estate agent late grandfather magnificent west village brownstone despite promise make keep family go house confront edward get blunt object back dennis marry charlotte mira nypsds top profiler good friend lieutenant eve dallas two arrive scene explains last thing saw edward chair bruise bloody come cousin go mess clean security disk remove there nothing leave behind trace forensics analyze former lawyer judge senator edward mira mingle elite crossed path criminal make enemy regular basis like many politician also make close friend behind closedand lockeddoors badge billionaire husband get place others cant go eve intend shine light dirty deal dark motif behind disappearance powerful man family discord multimilliondollar piece real estate case one saw come girl dragon tattooa genius hacker uncompromising misfit crusade journalist whose champion truth often bring brink one night blomkvist receive phone call source claim information vital united state source contact young female superhackera hacker resemble someone blomkvist know well implication stagger blomkvist desperate need scoop millennium turn salander help usual agenda secret chasing center tangle web spy cybercriminals government around world someone prepare kill protect duo captivate million reader girl dragon tattoo girl play fire girl kick hornet nest join force adrenalinecharged uniquely ofthemoment thriller cordially invite wedding decade christian grey make anastasia steele wife really husband material dad unsure brother want organise one helluva bachelor party fiancee wo vow obey marriage bring challenge passion burn hotter deeper ever ana defiant spirit continue stir christian darkest fear test need control old rivalry resentments endanger one misjudgement threaten tear christian overcome nightmare childhood torment youth save discover truth origin find forgiveness accept ana unconditional lovecan christian finally freedrelive sensuality romance drama fifty shade free love enthralled million reader around world thought reflection dream christian james revisit world fifty shade deeper darker take love enthral million reader around globe stephen king return character territory one popular novel ever shin instantly rivet middleaged dan torrance boy protagonist shin special girl must save tribe murderous highway across america tribe people call true knot travel search sustenance look harmless mostly old lot polyester marry rv dan torrance know spunky abra stone learn true knot quasiimmortal living steam child shin produce slowly tortured inhabitant overlook hotel spend one horrific childhood year dan drift decade desperate shed father legacy despair alcoholism violence finally settle hampshire town aa community sustains job nursing home remnant shin power provide crucial final comfort die aid prescient cat become doctor dan meet evanescent abra stone spectacular gift brightest shin ever see reignites dan demon summons battle abra soul survival epic war good evil gory glorious thrill million hyperdevoted fan shin wildly satisfy anyone territory icon king canon wheel time turn age come go leave memory become legend legend fade myth even myth long forgotten age give birth return third age age prophecy world time hang balance may yet fall robert jordan die feared concluding scene would never write work note partial leave jordan establish fantasy writer brandon sanderson step complete masterwork gathering storm tower midnight behind sanderson recreates vision robert jordan leave jordan widow edit jordan book memory light delight enthrall deeply satisfy jordan legion wheel time turn age come may yet fall dragon ride wind time stephanie plum get rent pay people shoot psycho want dead every day week much dismay mother family men life guy slice meat deli oh list go ordinary person would cave hey plum may bounty hunter beautiful downtown trenton pretty darn good turn bad situation way always get man nine cousin vinnie also boss post bail samuel singh illegal immigrant elusive singh go miss stephanie case uncovers far sinister anyone imago lead group killer give meaning word race time take jersey turnpike vega strip stephanie plum chase life unforgettable character nonstop action highstakes suspense sheer entertainment nine define janet evanovich unique among today writer past midnight chyna shepard twentysix gaze moonlit window unable sleep first night napa valley home friend family instinct prove reliable murderous sociopath edgler foreman f enter house intent kill everyone inside selfproclaimed homicidal adventurer f live satisfy appetite arise immerse sensation live without fear remorse limit live intensity chyna trap deadly orbit chyna survivor toughen lifelong struggle safety selfrespect test never first sole aim get alive chance learn identity f next intend victim faraway innocent save drive newly discover thirst mean beyond mere selfpreservation chyna muster every inner resource save endanger girl moment moment terrify threat edgler foreman f intensifies personal vendetta hidden treasure monkey name carl send bounty hunter stephanie plum explosive adventure crime arm robbery tune nine million dollarsdom rizzi rob bank stash money time family could proud always smart cousin joe morellijoe morelli dom rizzi dom sister loretta cousins morelli cop rizzi robs bank loretta single mother wait table firehouse allamerican complication murder kidnapping destruction personal property acid refluxless week dom release prison joe morelli shadowy figure break house die basement get threatening message loretta kidnap dom catastrophe moonmanmorelli hire walter mooner dunphy stoner inventor turn crime fighter protect house morelli ca afford lot cop salary mooner cupcake stephanie plumstephanie morelli longstanding relationship involve sex affection drive nut bond enforcement agent luck talent involve bankrobberygonebad disaster day crisis favor rangersecurity expert carlos manoso street name ranger job stephanie involve night morelli idea regard stephanie even conclusion fearless read chill incontinence may result liar liar pant fire college senior lana granger tell many lie past truth seem like distant cloudy nightmare meet match begin babysitting volatile manipulative elevenyearold boy soon lana take job close friend beck mysteriously disappear lana instantly begin fabricate storiesto friend police account jibe eyewitness lana anything bury truth night life someone else know secret die tell acclaim time bestselling author present spellbind mother tragic loss one man last chance gain save rely others believe always truthone moment june nealon happily look forward year full laughter adventure family next staring future empty heart life wait game wait time heal wound wait justice short wait miracle shay bourne life hold surprise world give nothing nothing offer world heartbeat though something happens change everything one last chance salvation lie june elevenyearold daughter claire shay claire stretch ocean bitter regret past crime rage mother lose give vengeance someone hate mean save someone love would want dream come true meant grant enemy die wishonce jodi picoult mesmerize enthrall reader redemption justice love lose foundin stun followup global phenomenon da vinci code dan brown demonstrates world popular thriller writer lose symbol masterstroke storytelling deadly race realworld labyrinth code secret unseen truth watchful eye brown terrify villain date set within hidden chamber tunnel temple washington lose symbol accelerate startle landscape toward unthinkable open harvard symbologist robert langdon summon unexpectedly deliver evening lecture capitol building within minute arrival however night take bizarre turn disturb object artfully encode five symbol discover capitol building langdon recognize object ancient invitation one meant usher recipient longlost world esoteric langdon beloved mentor peter solomon prominent mason philanthropist brutally kidnap langdon realizes hope save peter accept mystical invitation follow wherever lead langdon instantly clandestine world masonic secret hidden history neverbeforeseen location seem drag toward single inconceivable world discover da vinci code angel demon dan brown novel brilliant tapestry veil history arcane symbol enigmatic code challenge reader intelligent lightningpaced offer surprise every turn lose symbol exactly brown fan wait thrill anna fox live alone recluse city home unable venture outside spend day drink wine maybe much watch old movie recall happier time spy russell move house across way father mother teenage son perfect family anna gaze window one night see something shouldnt world begin crumble shock secret lay real imagined danger control diabolically grip thriller oneand nothingis seem author phenomenal time bestseller tuesday morrie explores unexpected connection live idea heaven place answer eddie wound war veteran old man live mind uninspired life job fix ride seaside amusement park birthday tragic accident kill try save little girl fall cart awakes afterlife learns heaven destination place life explain five people know others may strangers one one childhood soldier old age eddie five people revisit connection earth illuminate mystery meaningless life reveal haunt secret behind eternal question bear mute speak sign edgar sawtelle lead idyllic life parent farm remote northern wisconsin generation sawtelles raise trained fictional breed dog whose thoughtful companionship epitomize almondine edgar lifelong friend ally unexpected return claude edgar paternal uncle turmoil consumes sawtelles peaceful home edgar father die suddenly claude insinuates life farmand edgar mother affection griefstricken bewilder edgar try prove claude play role father death plan backfiresspectacularly force flee vast wilderness lie beyond farm edgar come age wild fight survival three yearling dog follow need face father murderer devotion sawtelle dog turn edgar ever homeward david wroblewski master storyteller breathtaking scenesthe elemental north wood sweep season iconic american barn fateful vision render fall raincreate rivet family saga brilliant exploration limit language compulsively readable modern classic child mythologize birth begin prologue reclusive author vida winter collection story famous mystery miss thirteenth delight enchantment twelve exist enigmatic winter spend six decade create various outlandish life history invention bring fame fortune keep violent tragic past secret old ail last want tell truth extraordinary life summons biographer margaret lea young woman secret birth hidden love remain everpresent pain strike curious parallel miss winter margaret take commission vida disinters life meant bury good margaret mesmerize gothic strangeness feature angelfield family include beautiful willful isabelle feral twin adeline emmeline ghost governess topiary garden devastate fire margaret succumbs power vida storytelling remain suspicious author sincerity demand truth vida together confront ghost haunt become finally transform truth thirteenth love letter read feral reader u return rich vein storytelling parent love loved child diane setterfield keep guess make wonder move tear laughter end deposit breathless yet satisfy back upon shore everyday life imagine year without christmas crowd shop corny office party fruitcakes unwanted present luther nora krank mind decide skip holiday altogether house street without rooftop frosty snowman wo host annual christmas eve bash even go tree wo need one come december set sail caribbean cruise weary couple discover skip christmas brings enormous consequence half easy classic modern time skip christmas offer hilarious look chaos frenzy become part holiday tradition chief inspector armand gamache return eighteenth time bestseller louise penny beloved spring three pine reemerging harsh winter everything bury come alive everything lie dormant something villager prepare special celebration armand gamache jeanguy beauvoir find increasingly worried young man woman reappear surete du quebec investigator live many year two young child trouble mother murder leave damage shattered theyve arrive village three endgamache beauvoir memories tragic case one first bring together come rushing back mother murder hurt child beyond repair terrible wound bury decade fester eruptas chief inspector gamache work uncover answer alarm grows letter write longdead stonemason discover man describe terror bricking attic room somewhere village every word letter fill dread room find villager decide open brick remove gamache beauvoir villager discover world curiosity head homicide soon realizes there room meet eye puzzle within puzzle hidden message warn mayhem unsealing room old enemy release world live heart armand gamaches home woman murder club return shockingly suspenseful thriller plunge burn town house detective lindsay boxer discovers three dead body mysterious message scene corpses turn lindsay asks friend claire washburn medical examiner office assistant jill bernhardt san francisco chronicle reporter cindy thomas help find murderer vow kill every three day even terrify target one four friends one lieutenant eve dallas party girl manage good time celebritypacked bash celebrate icove agenda film base one case come surprise however see actress play peabody drown pool roof director luxury building nothing stay dead long dead return life intelligent determine hungry escape seem impossible jim thurmond one leave alive nightmare world jims young son also alive grave danger hundred mile away despite astronomical odds jim vow find himor die elderly preacher guiltridden scientist exprostitute jim set crosscountry rescue mission together must battle live live dead even greater evil awaits end journey mariam fifteen send kabul marry trouble bitter rasheed thirty year senior nearly two decade later climate grow unrest tragedy strike fifteenyearold laila must leave home join mariam unhappy household laila mariam find consolation friendship grow deep bond sister strong tie mother daughter passing time come taliban rule afghanistan street kabul loud sound gunfire bomb life desperate struggle starvation brutality fear woman endurance test beyond worst imaginings yet love move people act unexpected way lead overcome daunting obstacle startle heroism end love triumph death thousand splendid sun portrait wound country family friendship unforgiving time unlikely bond indestructible love literature student anastasia steele go interview young entrepreneur christian grey encounter man beautiful brilliant intimidate unworldly innocent ana startle realize want man despite enigmatic reserve find desperate get close unable resist ana quiet beauty wit independent spirit grey admit want toobut term shock yet thrill grey singular erotic taste ana hesitates trapping successhis multinational business vast wealth love familygrey man torment demon consume need control couple embarks dare passionately physical affair ana discovers christian grey secret explore dark amuse deeply move fifty shade trilogy ob posse stay intend mature audience family sookie stackhouse deal whole host family problem range kin nonhuman fairy telepathic second cousin demand place life lover eric vampire sire ancient arrive eric tow inopportune moment sookie track distant relation ail neighbour ex vampire bill addition multitude family issue complicate life werewolf pack shreveport ask sookie special favour since sookie oblige young woman agree favour wolf dire result sookie still recover trauma abduction fairy war winner pulitzer prize fiction thirteen theo decker son devote mother reckless largely absent father survive accident otherwise tear life apart alone rudderless take family wealthy friend torment unbearable longing mother year cling thing reminds small strangely captivate paint ultimately draw criminal underworld grow theo learns glide draw room rich dusty antique store work alienate love talisman painting place centre narrow ever dangerous goldfinch haunt odyssey presentday america drama enthral power combine unforgettably vivid character thrill suspense beautiful addictive triumph sweeping loss obsession survival selfinvention deepest mystery love identity fate manhattan upper east side woman lie dead bottom stair strip valuable cop might call mug go wrong lieutenant eve dallas know welloff accountant beloved wife mother marta dickenson seem type anyone hit list eve partner peabody find blood inside building lieutenant know marta murder killer train professional smart enough remove someone steal file marta office eve must immerse billionaire husband roarke world big business figure cruel callous enough hire hit innocent woman killer violent streak begin escalate eve know draw even mean use bait isbn move paris harvard symbologist robert langdon awaken phone call dead night elderly curator louvre murder inside museum body cover baffling symbol langdon gift french cryptologist sophie neveu sort bizarre riddle stun discover trail clue hide work leonardo da vinciclues visible see yet ingeniously disguised startle late curator involve priory siona secret society whose member include sir isaac newton victor hugo da vinciand guard breathtaking historical secret unless langdon neveu decipher labyrinthine puzzlewhile avoid faceless adversary shadow every movethe explosive ancient truth lose forever hail suspenseful compel decade presumed innocent brings life worst nightmare ordinary citizen face conviction terrible crime stun portrayal one man alltoohuman allconsuming fatal attraction passionate woman wife obsession put everything love value trialincluding life lay bare shock world betrayal murder well hidden depth human heart hold haunt long reach shatter conclusion november three shot ring dallas president kennedy die world change unless jake epping english teacher lisbon fall maine set insane insanely possible mission prevent kennedy behind world computer mobile phone go back time big american car diner lindy hop sound elvis taste root haunt world jake fall love sadie beautiful high school librarian ominous date approach encounter trouble loner name lee harvey oswald year rumor marsh girl haunt barkley cove quiet fishing village kya clark barefoot wild unfit polite society late popular chase andrew find dead local immediately suspect kya say bear naturalist one day school take life lesson land learn real way world dishonest signal firefly skill live solitude forever time come yearns touch love drawn two young men town intrigue wild beauty kya open startle worlduntil unthinkable crawdad sing owen juxtaposes exquisite ode natural world profound come age haunt mystery thoughtprovoking wise deeply move owenss debut remind u forever shape child within u also subject beautiful violent secret nature ask isolation influence behavior young woman like u genetic propensity belong group clue mystery brush lush habitat natural history wild creature much much love travis maddox learn two thing mother die love hard fight highly anticipate followup time bestseller beautiful love someone muchtravis maddox learn two thing mother die love hard fight walk disaster life travis full fast woman underground gamble violence think invincible abby abernathy bring two side beautiful disaster abby say time see traviss eye ever since jacob reckless child escape hidden world portal father abandon study year make name finder enchant item bury secret also make many enemy alliesmost important fox beautiful shapeshifting vixen jacob care let life world change tragedy strike jacob younger brother follow portal brutally attack infected curse quickly transform goyla ruthless kill machine skin make prepared fight save brother land build trickery lie jacob need wit courage reckless spirit summon reverse dark spellbefore late mysterious figure appear three pine one cold november day armand gamache rest villager first curious wary rain sleet figure stand unmoving star moment creature shadow fall village gamache chief superintendent surete du quebec suspect deep root dark purpose yet nothing watch wait hope mount fear figure vanishes overnight body discover fall gamache discover debt pay later steamy july day trial accuse begin montreal chief superintendent gamache continue struggle action set motion bitter november go back accuse trial gamache conscience stand latest utterly grip numberone time bestselling author louise penny shatters convention crime explore gandhi call court conscience court supersede others october pmgraphic artist clay riddell heart boston brilliant autumn afternoon hell unleashed eye without warn carnage chaos reign ordinary people fell victim basest animalistic apocalypse begin ring cell phone alternate cover find hereseventeenyearold veronica miller life turn upsidedown parent divorce father move city wilmington north carolina three year later remain angry alienated parent especially father mother decides would everyones interest spend summer wilmington ronnies father former concert pianist teacher living quiet life beach town immerse create art become centerpiece local church unfold unforgettable love myriad form first love love parent child demonstrate nicholas spark many way deeply felt relationship break heart heal time bestselling author harlan cobens blister myron bolitar thriller take myronand million fanswhere never go beforemyron bolitar hasnt heard terese collins since torrid affair end ten year ago desperate phone call paris catch completely guard shatter admission terese reveals tragic behind disappearanceher struggle get pregnant greatest moment life baby bear fatal accident rob marriage happiness beloved suspect murder exhusband paris terese nowhere else turn help myron heed call startle piece evidence turn entire case upside lay bare teres longburied family secret real possibility daughter may still grave danger unknown assailant country nothing seem myron terese race stay step ahead homeland security interpol mossad soon work breakneck pace learn really happen teres longlost little girl uncover sinister plot shock global implication crow fight dead man flesh kill treacherous cunning lannisters power iron throne name boyking tommen war seven kingdom burn bitter aftermath conflict spark martells dorne starks winterfell seek vengeance dead euron crow eye black pirate ever raise sail return smoke ruin valyria claim iron isle icy north others threaten wall apprentice maester samwell tarly brings mysterious babe arm backdrop incest fratricide alchemy murder victory go men woman possess coldest steel coldest heart sometimes little lie turn lethal murder tragic accident parent behave badly whats indisputable someone dead whatbig little lie follow three woman crossroads madeline force reckon shes funny bite passionate remembers everything forgive one exhusband yogi wife move beloved beachside community daughter kindergarten class madelines youngest possible top madelines teenage daughter seem choose madelines exhusband kind beautiful woman make world stop stare may seem bit flustered time wouldnt rambunctious twin boy boys start school celeste husband look set become king queen school parent body royalty often come price celeste grapple much willing pay town single mom jane young another mother mistake nanny jane sad beyond year harbor secret doubt son madeline celeste soon take jane wing none realize arrival jane inscrutable little boy affect little lie brilliant take exhusbands second wife mother daughter schoolyard scandal dangerous little lie tell survive god dead meet charlie nancy normal life end moment father drop dead florida karaoke stage charlie know dad god never know brother brother spider doorstep make fat charlie life interest lot dangerous rivet thriller queen suspense time bestselling writer mary higgins clark brilliantly weave mystery twin telepathy mother search kidnap child presume margaret steve frawley come home connecticut blacktie dinner threeyearold twin kathy kelly go police find babysitter unconscious ransom note pied piper demand eight million dollar steve global investment firm put money go retrieve twin kelly car dead driver suicide note say inadvertently kill memorial kelly tug margaret arm say mommy kathy scar lady want come home right first margaret believe twin communicate kathy still alive kelly warn become increasingly specific alarm fbi agent set desperate search chloe saunders fifteen would love normal unfortunately chloe happens genetically engineer necromancer raise dead without even try equally gifted friend run life evil corporation create enough chloe struggle feeling simon sweettempered sorcerer brother derek sweettempered werewolf horrible feeling lean towards werewolf definitely normal time bestselling author nicholas spark come tender hope joy sacrifice forgiveness move reminder love possible age time often come least expect fortyfive adrienne willis must rethink entire life husband abandon younger woman reel heartache search respite flees small coastal town rodanthe north carolina tend friend inn weekend major storm start move appear adrienne perfect getaway ruin guest name paul flanner arrive fiftyfour paul sell medical practice come rodanthe escape shatter past storm closing two wound people turn comfort one weekend set motion feeling resonate throughout rest knowthe main character names christmas present nicholas inlaws paul adriennethis nicholas first debut remarkable one endear dog search purpose course several live another charm dog touch universal quest answer life basic question surprise find reborn rambunctious golden haired puppy tragically short life stray mutt bailey search life mean lead love arm year old ethan countless adventure bailey joyously discovers good dog life beloved family pet end bailey journey reborn puppy yet bailey wonder ever find purpose heartwarming insightful often laugh loud funny emotional hilarious dog many life also dog eye commentary human relationship unbreakable bond man man friend teach u love never die true friend always u every creature earth bear flap stoneybridge small town west coast ireland family know one another chicky starr decides take old decaying mansion set high cliff overlook windswept atlantic ocean turn restful place holiday sea everyone think crazy help rigger bad boy turn good handy around house orla niece whiz business chicky finally ready welcome first guests stone house big warm kitchen log fire understate elegant bedroom john american movie star think arrive incognito winnie lillian force take holiday together nicola henry husband wife shake see much death practice medicine anders hat father business real talent music miss nell howe retire schoolteacher criticizes everything leave day early much everyones relief wall disappoint secondprize holiday contest first prize paris freda librarian afraid psychic vision share week unlikely cast character pure joy full maeves trademark warmth humor embrace u grand storytelling last maeve binchy write sudden death story trademark warmth humor kind character make book live privilege able share reader peculiar letter arrive invite armand gamache abandon farmhouse former head surete du quebec discovers complete stranger name one executor still suspension frankly curious gamache accepts soon learn two executor myrna lander bookseller three pine young ever meet elderly odd include bequest wildly unlikely gamache others suspect woman must delusional gamache begin ask perfectly sanewhen body find term bizarre suddenly seem le peculiar far menace gamache face investigation happen six month agothe event lead suspensionhas drag dead winter opioids allow slip hand order bring cartel retrieve one devastate narcotic kill thousand disappear innercity montreal deadly drug hit street gamache race use increasingly audacious even desperate measure retrieve drug armand gamache begin see blind spot terrible thing hide seventh final installment stephen king dark tower saga perhaps anticipate author long career king begin epic last gunslinger world year ago draws suspenseful close snap together last piece action puzzle draw roland deschain ever closer ultimate cover write height narrative imaginative gift sue monk kidd present masterpiece hope dare quest freedom desire voice worldand newest oprahs club handful grimke urban slave early nineteenth century charleston yearn life beyond suffocate wall enclose within wealthy grimke household grimkes daughter sarah know early age mean something large world hem limit impose sweeping set motion sarah eleventh birthday give ownership ten year old handful handmaid follow remarkable journey next thirty five year strive life dramatically shape others destiny form complex relationship mark guilt defiance estrangement uneasy way story build rivet climax handful endure loss sorrow find courage sense self process sarah experience crush hope betrayal unrequited love ostracism leave charleston find place alongside fearless younger sister angelina one early pioneer abolition womens right historical figure sarah grimke kidd go beyond record flesh rich interior live character real invented include handful cunning mother charlotte court danger search something exquisitely write triumph storytelling look unswerving eye devastate wound american history woman whose struggle liberation empowerment expression leave reader unmoved epic love hatred war revolution huge follow five family worldshaking drama first world war russian revolution struggle vote woman coronation day king george williams welsh coalmining family link romance enmity fitzherberts aristocratic coalmine owner lady maud fitzherbert fall love walter von ulrich spy german embassy london destiny entangle ambitious young aide president woodrow wilson two orphan russian brother whose plan emigrate america fall foul war conscription revolution plot unfolding drama intriguing complexity fall giants move seamlessly washington st petersburg dirt danger coal mine glitter chandelier palace corridor power bedroom mighty wolf defeat tet face yet another catastrophe susannah deans body usurped demon name mia want use susannahs mortal form bear demon child steal black thirteen mia travel unfound door plan give birth chap child bear two mother two father grow rolands nemesis help timetraveling manni roland eddie plan follow susannah father callahan jake find calvin tower owner vacant lot magical rise grows rise must save cost despite katets intention ka plan jake callahan jakes bumbler companion transport follow susannah eddie roland tumble east stoneham maine greet eddy old enemy gangster balazar isnt bullet roland eddie must brave soon meet maker form young author name stephen king turn twentieth century ellen rimbauer become young bride seattle industrialist john rimbauer begin keep remarkable diary diary become secret place ellen could confess fear marriage confusion emerge sexuality nightmare life would become diary follow development girl womanhood follow construction rimbauer mansioncalled rise redan enormous home would site many horrific inexplicable tragedy year diary ellen rimbauer life rise red rare document one give u unusual view daily life among aristocracy early window one woman hide emotional torment record mysterious event rise red scandalized seattle society timeevents fully understood diary come light edit joyce reardon part research diary publish preparation make reardon enter rise red fully investigate disturb history back cover word radiance two stormlight archive continue immersive fantasy epic way king enemy die miserable death military slave kaladin survive give command royal bodyguard controversial first lowstatus darkeyes must protect king dalinar every common peril well distinctly uncommon threat assassin secretly struggle master remarkable power somehow link honorspren assassin szeth active murder ruler world roshar use baffle power thwart every bodyguard elude pursuer among prime target highprince dalinar widely consider power behind alethi throne leading role war would seem reason enough assassin master much deeper troubled shallan strives along parallel path despite broken way refuse acknowledge bear terrible burden somehow prevent return legendary voidbringers civilizationending desolation follow secret need find shatter plain arrive prof difficult could heart shatter plain parshendi make epochal decision hard press year alethi attack number ever shrink convinced war leader eshonai risk everything desperate gamble supernatural force flee possible consequence parshendi human alike indeed roshar dangerous incalculable time bestselling author come captivate love fill suspense mysterious young woman name katie appear small north carolina town southport sudden arrival raise question past beautiful yet selfeffacing katie seem determine avoid form personal tie series event draw two reluctant relationship one alex widow store owner kind heart two young child another plainspoken single neighbor jo despite reservation katie slowly begin let guard put root closeknit community become increasingly attach alex even katie begin fall love struggle dark secret still haunt terrifies past set fearful shatter journey across country shelter oasis southport jo empathic stubborn support katie eventually realize must choose life transient safety one riskier reward darkest hour love true safe six day ago astronaut mark watney become one first people walk mar he sure hell first person die dust storm nearly kill force crew evacuate think dead mark find strand completely alone way even signal earth he aliveand even could get word supply would go long rescue could arrive chance though wont time starve death damage machinery unforgiving environment plainold human error much likely kill first mark isnt ready give yet draw ingenuity engineering skill relentless dog refusal quit steadfastly confront one seemingly insurmountable obstacle next resourcefulness enough overcome impossible odds worked southern service paw year like think im prepare client meeting sun dead day meet single dad jacob broaden potentially matching daughter one service dog learn valuable always set alarm single dad way hotter previously possible go fantasize kiss someone wish would run truck matter two dont hold opinion long show different side himselfone thats sweet maple syrup hot apple pie fresh bad guy far league shouldnt even allow enter game jake doesnt seem get memo though day work closely daughter start look fire eye make dream something probably shouldnt match feelgood romantic comedy perfect reader enjoy sizzle romance without explicit content middleearth first age appear incomplete form posthumously publish silmarillion unfinished tale also edit tolkien son christopher hint depth power tragic turin nienor child hurin lord dorlomin achieve renown confront morgoth master sauron manifestation evil lord thousand year one ring destroy middleearth lie shadow dark lord morgoth greatest warrior among elf men perish darkness despair deadly leader rise turin son hurin grim band outlaw begin turn tide war middleearth await day confronts destiny deadly curse laid upon travel bright caribbean one last time satisfy conclusion nationally bestselling winter paradise trilogy elin hilderbrand uproot life state irene steele settle villa john husband rus live double life visit fbi shake foundation irene learn little knew man love help friend irene son set life evidence mount helicopter crash kill rus may accident meanwhile island watch drama unfold include driver jeep tint window seem shadow steele storm gather strength atlantic surprise store steele help mysterious source begin paradise become home last revealed secret lie bring irene son john truth transform mickey haller spend professional life afraid wouldnt recognize innocence stand right front watch lincoln lawyer criminal defense attorney operate back seat lincoln town car travel farflung courthouse los angeles defend client every kind bikers con artist drink driver drug dealer theyre mickey hallers client list law rarely guilt innocence negotiation manipulation sometimes even beverly hill playboy arrest attack woman pick bar chooses haller defend mickey first highpaying client year defense attorney dream call franchise case evidence stack haller come believe may easiest case someone close murder haller discovers search innocence bring facetoface evil pure flame escape without burn must deploy every tactic feint instinct arsenal time save life decrepit longempty building lieutenant eve dallas husband begin demolition process swing sledgehammer wall dust clear two skeleton wrap plastic behind summons wife immediatelyand time shes do crime scene twelve murder place house makeshift shelter trouble teenager back eve track people run recollection force forensic anthropologist eve begin put name face remains young girl tattoo tough girl deal illegal drug runaway daughter pair welltodo doctor stories lose chance well eve discovers connection victim someone know grows even determine reveal secret place call sanctuaryand evil conceal one human heart catastrophic spring flood blister attack medium mysterious disappearance greet chief inspector armand gamache return surete du quebec latest time bestselling author louise gamache first day back head homicide department job temporarily share previous secondincommand jeanguy beauvoir floodwaters rise across province middle turmoil father approach gamache plead help find crisis pile upon crisis gamache try hold encroach chaos realize search vivienne godin abandon daughter find develop profound perhaps unwise empathy distraught hound question would feel resume river rise social medium onslaught gamache becomes crueler body discover tumult mistake next constantly surprising series deepen darken evolves time review gamache must face horrific possibility burn would child killer walked free middle night house quiet street suburban minneapolis intruder silently murder luke elli parent load black suv operation take less two minute luke wake institute room look like except there window outside door door behind kid special talentstelekinesis telepathywho get place way luke kalisha nick george iris tenyearold avery dixon front half others luke learns graduate back half like roach motel kalisha say check dont check sinister institution director sigsby staff ruthlessly dedicate extract child force extranormal gift scruple go along get token vend machine dont punishment brutal victim disappear back half luke become desperate get get help one ever escape institute flapno dark pencil line blank page horizon line maybe also slot blackness pour terrible construction site accident take edgar freemantle right arm scramble memory mind leave little rage begin ordeal rehabilitation marriage produce two lovely daughter suddenly end edgar begin wish survive injury could kill want psychologist kamen suggest geographic cure life distant twin city build business edgar grow scratch kamen suggest something else edgar anything make happy use sketch take need hedge hedge leave minnesota rent house duma key stunningly beautiful eerily undeveloped splinter florida coast sun set gulf mexico tidal rattle shell beach call edgar draw visit ilse daughter dotes start movement solitude meet kindred spirit wireman man reluctant reveal wound elizabeth eastlake sick old woman whose root tangle deep duma key edgar paint sometimes feverishly explode talent wonder weapon many painting power control elizabeth past unfolds ghost childhood begin appear damage capable truly tenacity love peril creativity mystery memory nature supernaturalstephen king give u fascinate grip terrify long ago susan rodriguez harry dresden loveruntil attack enemy leave torn humanity bloodlust vampiric red court susan disappear south america could fight savage gift curse arianna ortega duchess red court discover secret susan long keep plan use itagainst harry prevail time may choice embrace rag fury untapped dark power harry fight save world fight save child time bestsellersarah maas brandnew crescent city series begin house earth blood halffae halfhuman bryce quinlan seek revenge contemporary fantasy world magic danger sear romance bryce quinlan perfect lifeworking hard day party nightuntil demon murder closest friend leave bereft wound alone accuse behind bar crime start bryce find heart investigation whatever take avenge athalar notorious fall angel enslave archangel attempt overthrow brutal skill incredible strength set one purposeto assassinate bos enemy question ask demon wreak havoc city offer irresistible deal help bryce find murderer freedom within bryce hunt dig deep crescent city underbelly discover dark power threatens everything everyone hold dear find blaze passionone could set free let unforgettable character sizzle romance pageturning suspense richly inventive fantasy series time bestselling author sarah maas delve heartache loss price freedomand power love everyone shaker height talk summer isabelle last richardson child finally go around bend burn house shaker height placid progressive suburb cleveland everything meticulously plan layout wind road colour house successful live resident go lead one embody spirit elena richardson whose guide principle play mia warren enigmatic artist single mother arrive idyllic bubble teenage daughter pearl rent house richardson soon mia pearl become tenant four richardson child draw motherdaughter pair mia carry mysterious past disregard rule threaten upend carefully order old family friends attempt adopt chineseamerican baby custody battle erupt dramatically divide town put mia elena oppose side suspicious mia motif elena determine uncover secret mia past obsession come unexpected devastate cost mitch rapp gift college athlete want retribution pan lockerbie attack train six month intensely clandestine operative cia operation director thomas stansfield protege irene kennedy stop terrorist reach america assassin leave trail body istanbul across europe beirut need every ounce skill cunning survive warravaged city deadly terrorist faction robert langdon harvard professor symbology religious iconology arrive ultramodern guggenheim museum bilbao attend major announcementthe unveiling discovery change face science forever even host edmond kirsch fortyyearold billionaire futurist whose dazzle hightech invention audacious prediction make renowned global figure kirsch one langdons first student harvard two decade earlier reveal astonish breakthrough one answer two fundamental question human existence event begin langdon several hundred guest find captivated utterly original presentation langdon realize far controversial ever imagine meticulously orchestrate even suddenly erupt chaos kirsch precious discovery teeter brink lose forever reel face imminent threat langdon forced desperate bid escape bilbao ambra vidal elegant museum director work kirsch stage provocative event together flee barcelona perilous quest locate cryptic password unlock kirsch secret navigating dark corridor hidden history extreme religion langdon vidal must evade tormented enemy whose allknowing power seem emanate spain royal palace stop nothing silence edmond kirsch trail mark modern art enigmatic symbol langdon vidal uncover clue ultimately bring facetoface kirsch shock discovery breathtaking truth long elude u origin dan brown brilliant entertain date texas million drought broken great plain farmer fight keep land livelihood crop fail water dry dust threatens bury one darkest period great depression dust bowl era arrive vengeance uncertain dangerous time elsa martinellilike many neighborsmust make agonizing choice fight land love go west california search well life four wind indelible portrait america american dream see eye one indomitable woman whose courage sacrifice come define time bestselling author nightingale great alone come epic love heroism hope set backdrop one america define erasthe great cover isbn predawn hour distressed american city hundred unemployed men woman line open job fair tire cold desperate emerge fog invisible late lone driver plow crowd steal mercedes run innocent back charge eight people kill fifteen wound killer later excop name bill hodges still haunt unsolved crime contemplates suicide get crazed letter perk claim credit murder hodges wake depress vacant retirement fear another even diabolical attack hellbent prevent hartfield live alcoholic mother house bear love feel death wheel mercedes want rush bill hodges couple eccentric mismatch ally apprehend killer strike time lose brady next mission succeed kill maim mercedes war good evil master suspense whose insight mind obsess insane killer chilling flap love find want war find quiet village carriveau vianne mauriac say goodbye husband antoine head front doesnt believe nazi invade france invade droves march soldier caravan truck tank plane fill sky drop bomb upon innocent german captain requisition viannes home daughter must live enemy lose everything without food money hope danger escalate around force make one impossible choice another keep family sister isabelle rebellious eighteenyearold search purpose reckless passion youth thousand parisians march unknown terror war meet gaetan partisan believe french fight nazi within france fall love young completely betrays isabelle join resistance never look back risk life time save others defense attorney mickey haller pull police find body client trunk lincoln haller charge murder ca make exorbitant million bail slap vindictive judge mickey elect defend must strategize build defense jail cell twin tower correctional center downtown los angeles look shoulderas officer court instant target mickey know frame help trust team figure plot destroy life go judge jury prove innocence sometimes nowhere safe typical even mall outside portland maine three teenage friend wait movie start boy flirt girl selling sunglasses mother child shop together manager videogame store tend customer shooter chaos carnage last eight minute killer take lived effect would last forever year follow one would dedicate law enforcement career another would close try bury memory huddle lady room hopelessly clutch cell phoneuntil finally find way pour emotion one person satisfy shockingly high death toll downeast mall survivor slowly heal find shelter rebuild discover another conspirator lie waitand time might nowhere safe hide eve dallas partner peabody follow brutal senseless crime elderly grocery owner kill three stoned punk nothing kick snack first time peabody primary detective case mean get use level authority responsibility good thing learn rope master like round perps peabody stumble upon much trickier situation determine start work hard grill suspect chooses old rarelyused gym central grueling workout squeeze one narrow shower stall happy place shuts water gym door clatter open cringes inside stall try make sound peabody overhear two fellow officer garnet oberman argue reference make deliver product house islands someone name keener who suppose look like od doesnt take long naked vulnerable peabody realize officer crook guilty corruption murder well fortunately two clear locker room without realize dallas may train peabody well dangerous one person take alone peabody eve husband roarke must try get hard evidence need bring dirty cop know two already kill keep secret doubt willing audio cd hour min youwhat do otherthese question nick dunne find ask morning fifth wed anniversary wife amy suddenly disappear police suspect nick amy friend reveal afraid kept secret swear true police examination computer show strange search say make persistent call mobile happen nick beautiful wife idyllic small town pagford councillor die leave casual vacancy empty seat parish election successor follow clear behind pretty surface town war rich war poor wife war husband teacher war pupil pagford first seem nineteen minute mow front lawn color hair watch third hockey game nineteen minute bake scone get tooth fill dentist fold laundry family five nineteen minute stop world jump nineteen minute get revenge sterling small ordinary hampshire town nothing ever happen day complacency shatter shock act violence aftermath town resident must seek justice order begin heal also come term role play tragedy line truth fiction right wrong insider outsider obscure forever josie cormier teenage daughter judge sit case could state witness ca remember happen front eye trial progress fault line high school adult community begin show destroy closest friendship family nineteen minute time bestselling author jodi picoult raw honest important yet tell straightforward style become known asks simple question easy answer child become mystery mean different society ever okay victim strike back anyone right judge someone else lose leg land mine afghanistan cormoran strike barely scrap private investigator john bristow walk door amazing sister legendary supermodel lula landry famously fell death month earlier police rule suicide john refuse believe case plunge strike world multimillionaire beauty rockstar boyfriend desperate designer introduces every variety pleasure enticement seduction delusion know man angry rebel john drop school enlist army knowing else lifeuntil meet girl dream savannah mutual attraction quickly grow kind love leave savannah wait john finish tour duty john want settle woman capture heart change everything john feel duty reenlist sadly long separation find savannah fall love someone else dear john letter read two word heart break two life change forever return home john must come grip fact savannah marry still true loveand face hardest decision life mercy thompson car mechanic shapeshifter never know day night may bring world witch vampires werewolf shapeshifters live beside ordinary people booklist learn secret dangerous whose seek plain deadly mercy smart enough realize come magical fae less know better ca always get want attempt return powerful fae previously borrow act desperation find bookstore lock closed seem contains secret fae anything keep wrong hand take enough mercy attention friend samuel struggle wolf side leave mercy cover lest father declare samuel life mercy well day careful may many librarian note alternate cover find hereworld without end take place town kingsbridge two century townspeople finish building exquisite gothic cathedral heart pillar earth cathedral priory center web love hate greed pride ambition revenge sequel stand time men woman extraordinary cast character find crossroad ideasabout medicine commerce architecture justice world proponent old way fiercely battle progressive mind intrigue tension quickly reach boil point devastate backdrop greatest natural disaster ever strike human racethe black death nicolae carpathia dead kill antichrist answer may surprise seven bestselling leave behind series mark begin second half sevenyear tribulation period dramatic fashion reader expose horror god judgment hope salvation rayford buck chloe rest tribulation force find center heartstopping action number one time seller list four week alternate cover find herewhen willow bear severe osteogenesis imperfecta parent devastatedshe suffer hundred break bone grows lifetime pain every expectant parent tell want perfect baby healthy one charlotte sean would ask healthy baby give choice instead live make sleepless night mount bill pity stare luckier parent maybe worst whatifs child bear healthy worth willow funny seem perfect smart whip way pretty mother kind brave fiveyearold unexpectedly deep source wisdom willow willow sickness change though series event force charlotte husband confront serious whatifs charlotte know earlier willow illness thing could different beloved willow never bear willow justice charlotte must ask question one constitute valuable life seventh karon beloved series available paperback father tim cynthia back home mitford find change air haircut price war take prisoner risky menu item grill'"
      ]
     },
     "execution_count": 63,
     "metadata": {},
     "output_type": "execute_result"
    }
   ],
   "source": [
    "(' '.join(best.lemmatized_summary))"
   ]
  },
  {
   "cell_type": "code",
   "execution_count": 64,
   "id": "40a8a6d9",
   "metadata": {},
   "outputs": [],
   "source": [
    "best_sent = (' '.join(best.lemmatized_summary))\n"
   ]
  },
  {
   "cell_type": "code",
   "execution_count": 65,
   "id": "284016c9",
   "metadata": {},
   "outputs": [
    {
     "data": {
      "text/plain": [
       "[('internationally', 'bestselling'),\n",
       " ('bestselling', 'pulitzer'),\n",
       " ('pulitzer', 'prizewinning'),\n",
       " ('prizewinning', 'author'),\n",
       " ('author', 'superbly'),\n",
       " ('superbly', 'craft'),\n",
       " ('craft', 'fiction'),\n",
       " ('fiction', 'eight'),\n",
       " ('eight', 'storieslonger'),\n",
       " ('storieslonger', 'emotionally'),\n",
       " ('emotionally', 'complex'),\n",
       " ('complex', 'yet'),\n",
       " ('yet', 'writtenthat'),\n",
       " ('writtenthat', 'take'),\n",
       " ('take', 'u'),\n",
       " ('u', 'cambridge'),\n",
       " ('cambridge', 'seattle'),\n",
       " ('seattle', 'india'),\n",
       " ('india', 'thailand'),\n",
       " ('thailand', 'enter'),\n",
       " ('enter', 'live'),\n",
       " ('live', 'sister'),\n",
       " ('sister', 'brother'),\n",
       " ('brother', 'father'),\n",
       " ('father', 'mother'),\n",
       " ('mother', 'daughter'),\n",
       " ('daughter', 'son'),\n",
       " ('son', 'friend'),\n",
       " ('friend', 'stun'),\n",
       " ('stun', 'ruma'),\n",
       " ('ruma', 'young'),\n",
       " ('young', 'mother'),\n",
       " ('mother', 'city'),\n",
       " ('city', 'visit'),\n",
       " ('visit', 'father'),\n",
       " ('father', 'carefully'),\n",
       " ('carefully', 'tend'),\n",
       " ('tend', 'earth'),\n",
       " ('earth', 'garden'),\n",
       " ('garden', 'grandson'),\n",
       " ('grandson', 'form'),\n",
       " ('form', 'special'),\n",
       " ('special', 'bond'),\n",
       " ('bond', 'he'),\n",
       " ('he', 'harbor'),\n",
       " ('harbor', 'secret'),\n",
       " ('secret', 'daughter'),\n",
       " ('daughter', 'love'),\n",
       " ('love', 'affair'),\n",
       " ('affair', 'he'),\n",
       " ('he', 'keep'),\n",
       " ('keep', 'choice'),\n",
       " ('choice', 'accommodation'),\n",
       " ('accommodation', 'husband'),\n",
       " ('husband', 'attempt'),\n",
       " ('attempt', 'turn'),\n",
       " ('turn', 'old'),\n",
       " ('old', 'friend'),\n",
       " ('friend', 'wed'),\n",
       " ('wed', 'romantic'),\n",
       " ('romantic', 'getaway'),\n",
       " ('getaway', 'weekend'),\n",
       " ('weekend', 'wife'),\n",
       " ('wife', 'take'),\n",
       " ('take', 'dark'),\n",
       " ('dark', 'reveal'),\n",
       " ('reveal', 'turn'),\n",
       " ('turn', 'party'),\n",
       " ('party', 'last'),\n",
       " ('last', 'deep'),\n",
       " ('deep', 'night'),\n",
       " ('night', 'goodness'),\n",
       " ('goodness', 'sister'),\n",
       " ('sister', 'eager'),\n",
       " ('eager', 'give'),\n",
       " ('give', 'younger'),\n",
       " ('younger', 'brother'),\n",
       " ('brother', 'perfect'),\n",
       " ('perfect', 'childhood'),\n",
       " ('childhood', 'never'),\n",
       " ('never', 'overwhelm'),\n",
       " ('overwhelm', 'guilt'),\n",
       " ('guilt', 'anguish'),\n",
       " ('anguish', 'anger'),\n",
       " ('anger', 'alcoholism'),\n",
       " ('alcoholism', 'threaten'),\n",
       " ('threaten', 'family'),\n",
       " ('family', 'hema'),\n",
       " ('hema', 'kaushik'),\n",
       " ('kaushik', 'trio'),\n",
       " ('trio', 'link'),\n",
       " ('link', 'storiesa'),\n",
       " ('storiesa', 'luminous'),\n",
       " ('luminous', 'intensely'),\n",
       " ('intensely', 'compel'),\n",
       " ('compel', 'elegy'),\n",
       " ('elegy', 'life'),\n",
       " ('life', 'death'),\n",
       " ('death', 'love'),\n",
       " ('love', 'fatewe'),\n",
       " ('fatewe', 'follow'),\n",
       " ('follow', 'live'),\n",
       " ('live', 'girl'),\n",
       " ('girl', 'boy'),\n",
       " ('boy', 'one'),\n",
       " ('one', 'winter'),\n",
       " ('winter', 'share'),\n",
       " ('share', 'house'),\n",
       " ('house', 'massachusetts'),\n",
       " ('massachusetts', 'travel'),\n",
       " ('travel', 'innocence'),\n",
       " ('innocence', 'experience'),\n",
       " ('experience', 'separate'),\n",
       " ('separate', 'sometimes'),\n",
       " ('sometimes', 'painful'),\n",
       " ('painful', 'path'),\n",
       " ('path', 'destiny'),\n",
       " ('destiny', 'bring'),\n",
       " ('bring', 'together'),\n",
       " ('together', 'year'),\n",
       " ('year', 'later'),\n",
       " ('later', 'rome'),\n",
       " ('rome', 'unaccustomed'),\n",
       " ('unaccustomed', 'earth'),\n",
       " ('earth', 'rich'),\n",
       " ('rich', 'jhumpa'),\n",
       " ('jhumpa', 'lahiris'),\n",
       " ('lahiris', 'signature'),\n",
       " ('signature', 'gift'),\n",
       " ('gift', 'exquisite'),\n",
       " ('exquisite', 'prose'),\n",
       " ('prose', 'emotional'),\n",
       " ('emotional', 'wisdom'),\n",
       " ('wisdom', 'subtle'),\n",
       " ('subtle', 'rendering'),\n",
       " ('rendering', 'intricate'),\n",
       " ('intricate', 'working'),\n",
       " ('working', 'heart'),\n",
       " ('heart', 'mind'),\n",
       " ('mind', 'masterful'),\n",
       " ('masterful', 'dazzling'),\n",
       " ('dazzling', 'writer'),\n",
       " ('writer', 'peak'),\n",
       " ('peak', 'power'),\n",
       " ('power', 'june'),\n",
       " ('june', 'world'),\n",
       " ('world', 'seem'),\n",
       " ('seem', 'turn'),\n",
       " ('turn', 'upsidedown'),\n",
       " ('upsidedown', 'british'),\n",
       " ('british', 'army'),\n",
       " ('army', 'withdraw'),\n",
       " ('withdraw', 'philadelphia'),\n",
       " ('philadelphia', 'george'),\n",
       " ('george', 'washington'),\n",
       " ('washington', 'pursuit'),\n",
       " ('pursuit', 'first'),\n",
       " ('first', 'time'),\n",
       " ('time', 'look'),\n",
       " ('look', 'rebel'),\n",
       " ('rebel', 'might'),\n",
       " ('might', 'actually'),\n",
       " ('actually', 'win'),\n",
       " ('win', 'claire'),\n",
       " ('claire', 'fraser'),\n",
       " ('fraser', 'family'),\n",
       " ('family', 'even'),\n",
       " ('even', 'tumultuous'),\n",
       " ('tumultuous', 'revolution'),\n",
       " ('revolution', 'former'),\n",
       " ('former', 'husband'),\n",
       " ('husband', 'jamie'),\n",
       " ('jamie', 'return'),\n",
       " ('return', 'dead'),\n",
       " ('dead', 'demanding'),\n",
       " ('demanding', 'know'),\n",
       " ('know', 'absence'),\n",
       " ('absence', 'marry'),\n",
       " ('marry', 'friend'),\n",
       " ('friend', 'lord'),\n",
       " ('lord', 'john'),\n",
       " ('john', 'grey'),\n",
       " ('grey', 'lord'),\n",
       " ('lord', 'john'),\n",
       " ('john', 'son'),\n",
       " ('son', 'ninth'),\n",
       " ('ninth', 'earl'),\n",
       " ('earl', 'ellesmere'),\n",
       " ('ellesmere', 'le'),\n",
       " ('le', 'shocked'),\n",
       " ('shocked', 'discover'),\n",
       " ('discover', 'real'),\n",
       " ('real', 'father'),\n",
       " ('father', 'actually'),\n",
       " ('actually', 'newly'),\n",
       " ('newly', 'resurrect'),\n",
       " ('resurrect', 'jamie'),\n",
       " ('jamie', 'fraser'),\n",
       " ('fraser', 'jamie'),\n",
       " ('jamie', 'nephew'),\n",
       " ('nephew', 'ian'),\n",
       " ('ian', 'murray'),\n",
       " ('murray', 'discovers'),\n",
       " ('discovers', 'newfound'),\n",
       " ('newfound', 'cousin'),\n",
       " ('cousin', 'eye'),\n",
       " ('eye', 'woman'),\n",
       " ('woman', 'agree'),\n",
       " ('agree', 'marry'),\n",
       " ('marry', 'claire'),\n",
       " ('claire', 'terrify'),\n",
       " ('terrify', 'one'),\n",
       " ('one', 'husband'),\n",
       " ('husband', 'may'),\n",
       " ('may', 'murder'),\n",
       " ('murder', 'century'),\n",
       " ('century', 'descendant'),\n",
       " ('descendant', 'face'),\n",
       " ('face', 'even'),\n",
       " ('even', 'desperate'),\n",
       " ('desperate', 'turn'),\n",
       " ('turn', 'event'),\n",
       " ('event', 'daughter'),\n",
       " ('daughter', 'brianna'),\n",
       " ('brianna', 'try'),\n",
       " ('try', 'protect'),\n",
       " ('protect', 'son'),\n",
       " ('son', 'vicious'),\n",
       " ('vicious', 'criminal'),\n",
       " ('criminal', 'murder'),\n",
       " ('murder', 'mind'),\n",
       " ('mind', 'husband'),\n",
       " ('husband', 'roger'),\n",
       " ('roger', 'disappear'),\n",
       " ('disappear', 'past'),\n",
       " ('past', 'homicide'),\n",
       " ('homicide', 'detective'),\n",
       " ('detective', 'eve'),\n",
       " ('eve', 'dallas'),\n",
       " ('dallas', 'must'),\n",
       " ('must', 'untangle'),\n",
       " ('untangle', 'twisted'),\n",
       " ('twisted', 'family'),\n",
       " ('family', 'history'),\n",
       " ('history', 'hostages'),\n",
       " ('hostages', 'life'),\n",
       " ('life', 'hang'),\n",
       " ('hang', 'balancein'),\n",
       " ('balancein', 'death'),\n",
       " ('death', 'time'),\n",
       " ('time', 'bestselling'),\n",
       " ('bestselling', 'woman'),\n",
       " ('woman', 'body'),\n",
       " ('body', 'find'),\n",
       " ('find', 'bench'),\n",
       " ('bench', 'city'),\n",
       " ('city', 'playground'),\n",
       " ('playground', 'clean'),\n",
       " ('clean', 'hair'),\n",
       " ('hair', 'neatly'),\n",
       " ('neatly', 'arrange'),\n",
       " ('arrange', 'makeup'),\n",
       " ('makeup', 'carefully'),\n",
       " ('carefully', 'apply'),\n",
       " ('apply', 'thing'),\n",
       " ('thing', 'wronglike'),\n",
       " ('wronglike', 'tattoo'),\n",
       " ('tattoo', 'piercings'),\n",
       " ('piercings', 'clearly'),\n",
       " ('clearly', 'clothes'),\n",
       " ('clothes', 'decade'),\n",
       " ('decade', 'date'),\n",
       " ('date', 'fatal'),\n",
       " ('fatal', 'wind'),\n",
       " ('wind', 'hidden'),\n",
       " ('hidden', 'beneath'),\n",
       " ('beneath', 'ribbon'),\n",
       " ('ribbon', 'around'),\n",
       " ('around', 'neck'),\n",
       " ('neck', 'note'),\n",
       " ('note', 'bad'),\n",
       " ('bad', 'mommy'),\n",
       " ('mommy', 'write'),\n",
       " ('write', 'crayon'),\n",
       " ('crayon', 'seem'),\n",
       " ('seem', 'clear'),\n",
       " ('clear', 'killer'),\n",
       " ('killer', 'childhood'),\n",
       " ('childhood', 'traumatica'),\n",
       " ('traumatica', 'situation'),\n",
       " ('situation', 'eve'),\n",
       " ('eve', 'familiar'),\n",
       " ('familiar', 'yet'),\n",
       " ('yet', 'clue'),\n",
       " ('clue', 'point'),\n",
       " ('point', 'perpetrator'),\n",
       " ('perpetrator', 'whod'),\n",
       " ('whod', 'around'),\n",
       " ('around', 'sixty'),\n",
       " ('sixty', 'record'),\n",
       " ('record', 'old'),\n",
       " ('old', 'crime'),\n",
       " ('crime', 'similar'),\n",
       " ('similar', 'mo'),\n",
       " ('mo', 'trigger'),\n",
       " ('trigger', 'apparently'),\n",
       " ('apparently', 'reopen'),\n",
       " ('reopen', 'old'),\n",
       " ('old', 'wound'),\n",
       " ('wound', 'send'),\n",
       " ('send', 'someone'),\n",
       " ('someone', 'edge'),\n",
       " ('edge', 'eve'),\n",
       " ('eve', 'learn'),\n",
       " ('learn', 'young'),\n",
       " ('young', 'woman'),\n",
       " ('woman', 'recently'),\n",
       " ('recently', 'vanish'),\n",
       " ('vanish', 'case'),\n",
       " ('case', 'grows'),\n",
       " ('grows', 'even'),\n",
       " ('even', 'urgentand'),\n",
       " ('urgentand', 'solve'),\n",
       " ('solve', 'shell'),\n",
       " ('shell', 'need'),\n",
       " ('need', 'find'),\n",
       " ('find', 'way'),\n",
       " ('way', 'hidden'),\n",
       " ('hidden', 'place'),\n",
       " ('place', 'dim'),\n",
       " ('dim', 'light'),\n",
       " ('light', 'concrete'),\n",
       " ('concrete', 'distant'),\n",
       " ('distant', 'past'),\n",
       " ('past', 'depth'),\n",
       " ('depth', 'shatter'),\n",
       " ('shatter', 'mind'),\n",
       " ('mind', 'ira'),\n",
       " ('ira', 'levinson'),\n",
       " ('levinson', 'trouble'),\n",
       " ('trouble', 'ninetyone'),\n",
       " ('ninetyone', 'year'),\n",
       " ('year', 'old'),\n",
       " ('old', 'poor'),\n",
       " ('poor', 'health'),\n",
       " ('health', 'alone'),\n",
       " ('alone', 'world'),\n",
       " ('world', 'find'),\n",
       " ('find', 'strand'),\n",
       " ('strand', 'isolated'),\n",
       " ('isolated', 'embankment'),\n",
       " ('embankment', 'car'),\n",
       " ('car', 'crash'),\n",
       " ('crash', 'suffer'),\n",
       " ('suffer', 'multiple'),\n",
       " ('multiple', 'injury'),\n",
       " ('injury', 'struggle'),\n",
       " ('struggle', 'retain'),\n",
       " ('retain', 'consciousness'),\n",
       " ('consciousness', 'blurry'),\n",
       " ('blurry', 'image'),\n",
       " ('image', 'materialize'),\n",
       " ('materialize', 'come'),\n",
       " ('come', 'focus'),\n",
       " ('focus', 'beside'),\n",
       " ('beside', 'beloved'),\n",
       " ('beloved', 'wife'),\n",
       " ('wife', 'ruth'),\n",
       " ('ruth', 'pass'),\n",
       " ('pass', 'away'),\n",
       " ('away', 'nine'),\n",
       " ('nine', 'year'),\n",
       " ('year', 'ago'),\n",
       " ('ago', 'urge'),\n",
       " ('urge', 'hang'),\n",
       " ('hang', 'force'),\n",
       " ('force', 'remain'),\n",
       " ('remain', 'alert'),\n",
       " ('alert', 'recount'),\n",
       " ('recount', 'story'),\n",
       " ('story', 'lifetime'),\n",
       " ('lifetime', 'together'),\n",
       " ('together', 'meet'),\n",
       " ('meet', 'precious'),\n",
       " ('precious', 'painting'),\n",
       " ('painting', 'collect'),\n",
       " ('collect', 'together'),\n",
       " ('together', 'dark'),\n",
       " ('dark', 'day'),\n",
       " ('day', 'wwii'),\n",
       " ('wwii', 'effect'),\n",
       " ('effect', 'family'),\n",
       " ('family', 'ira'),\n",
       " ('ira', 'know'),\n",
       " ('know', 'ruth'),\n",
       " ('ruth', 'cant'),\n",
       " ('cant', 'possibly'),\n",
       " ('possibly', 'car'),\n",
       " ('car', 'cling'),\n",
       " ('cling', 'word'),\n",
       " ('word', 'memory'),\n",
       " ('memory', 'relive'),\n",
       " ('relive', 'sorrow'),\n",
       " ('sorrow', 'everyday'),\n",
       " ('everyday', 'joy'),\n",
       " ('joy', 'define'),\n",
       " ('define', 'mile'),\n",
       " ('mile', 'away'),\n",
       " ('away', 'local'),\n",
       " ('local', 'rodeo'),\n",
       " ('rodeo', 'wake'),\n",
       " ('wake', 'forest'),\n",
       " ('forest', 'college'),\n",
       " ('college', 'senior'),\n",
       " ('senior', 'life'),\n",
       " ('life', 'change'),\n",
       " ('change', 'recover'),\n",
       " ('recover', 'recent'),\n",
       " ('recent', 'breakup'),\n",
       " ('breakup', 'sophia'),\n",
       " ('sophia', 'danko'),\n",
       " ('danko', 'meet'),\n",
       " ('meet', 'young'),\n",
       " ('young', 'cowboy'),\n",
       " ('cowboy', 'name'),\n",
       " ('name', 'luke'),\n",
       " ('luke', 'bear'),\n",
       " ('bear', 'little'),\n",
       " ('little', 'resemblance'),\n",
       " ('resemblance', 'privilege'),\n",
       " ('privilege', 'frat'),\n",
       " ('frat', 'boy'),\n",
       " ('boy', 'encounter'),\n",
       " ('encounter', 'school'),\n",
       " ('school', 'luke'),\n",
       " ('luke', 'sophia'),\n",
       " ('sophia', 'introduce'),\n",
       " ('introduce', 'world'),\n",
       " ('world', 'stake'),\n",
       " ('stake', 'survival'),\n",
       " ('survival', 'success'),\n",
       " ('success', 'ruin'),\n",
       " ('ruin', 'reward'),\n",
       " ('reward', 'even'),\n",
       " ('even', 'life'),\n",
       " ('life', 'death'),\n",
       " ('death', 'loom'),\n",
       " ('loom', 'large'),\n",
       " ('large', 'everyday'),\n",
       " ('everyday', 'life'),\n",
       " ('life', 'luke'),\n",
       " ('luke', 'fall'),\n",
       " ('fall', 'love'),\n",
       " ('love', 'sophia'),\n",
       " ('sophia', 'find'),\n",
       " ('find', 'imagining'),\n",
       " ('imagining', 'future'),\n",
       " ('future', 'far'),\n",
       " ('far', 'remove'),\n",
       " ('remove', 'plan'),\n",
       " ('plan', 'future'),\n",
       " ('future', 'luke'),\n",
       " ('luke', 'power'),\n",
       " ('power', 'rewrite'),\n",
       " ('rewrite', 'secret'),\n",
       " ('secret', 'he'),\n",
       " ('he', 'keep'),\n",
       " ('keep', 'doesnt'),\n",
       " ('doesnt', 'destroy'),\n",
       " ('destroy', 'ruth'),\n",
       " ('ruth', 'sophia'),\n",
       " ('sophia', 'luke'),\n",
       " ('luke', 'two'),\n",
       " ('two', 'couple'),\n",
       " ('couple', 'little'),\n",
       " ('little', 'common'),\n",
       " ('common', 'separate'),\n",
       " ('separate', 'year'),\n",
       " ('year', 'experience'),\n",
       " ('experience', 'yet'),\n",
       " ('yet', 'live'),\n",
       " ('live', 'converge'),\n",
       " ('converge', 'unexpected'),\n",
       " ('unexpected', 'poignancy'),\n",
       " ('poignancy', 'remind'),\n",
       " ('remind', 'u'),\n",
       " ('u', 'even'),\n",
       " ('even', 'difficult'),\n",
       " ('difficult', 'decision'),\n",
       " ('decision', 'yield'),\n",
       " ('yield', 'extraordinary'),\n",
       " ('extraordinary', 'journey'),\n",
       " ('journey', 'beyond'),\n",
       " ('beyond', 'despair'),\n",
       " ('despair', 'beyond'),\n",
       " ('beyond', 'death'),\n",
       " ('death', 'farthest'),\n",
       " ('farthest', 'reach'),\n",
       " ('reach', 'human'),\n",
       " ('human', 'heart'),\n",
       " ('heart', 'jack'),\n",
       " ('jack', 'mullen'),\n",
       " ('mullen', 'drive'),\n",
       " ('drive', 'student'),\n",
       " ('student', 'law'),\n",
       " ('law', 'brother'),\n",
       " ('brother', 'peter'),\n",
       " ('peter', 'servant'),\n",
       " ('servant', 'rich'),\n",
       " ('rich', 'parking'),\n",
       " ('parking', 'car'),\n",
       " ('car', 'hampton'),\n",
       " ('hampton', 'elite'),\n",
       " ('elite', 'perhaps'),\n",
       " ('perhaps', 'satisfy'),\n",
       " ('satisfy', 'intimate'),\n",
       " ('intimate', 'need'),\n",
       " ('need', 'well'),\n",
       " ('well', 'peter'),\n",
       " ('peter', 'body'),\n",
       " ('body', 'find'),\n",
       " ('find', 'beach'),\n",
       " ('beach', 'jack'),\n",
       " ('jack', 'know'),\n",
       " ('know', 'drown'),\n",
       " ('drown', 'accident'),\n",
       " ('accident', 'someone'),\n",
       " ('someone', 'unlimited'),\n",
       " ('unlimited', 'power'),\n",
       " ('power', 'money'),\n",
       " ('money', 'buy'),\n",
       " ('buy', 'cop'),\n",
       " ('cop', 'judge'),\n",
       " ('judge', 'system'),\n",
       " ('system', 'jack'),\n",
       " ('jack', 'learn'),\n",
       " ('learn', 'lesson'),\n",
       " ('lesson', 'justice'),\n",
       " ('justice', 'never'),\n",
       " ('never', 'get'),\n",
       " ('get', 'law'),\n",
       " ('law', 'school'),\n",
       " ('school', 'astonish'),\n",
       " ('astonish', 'plan'),\n",
       " ('plan', 'beat'),\n",
       " ('beat', 'billionaire'),\n",
       " ('billionaire', 'reel'),\n",
       " ('reel', 'cheer'),\n",
       " ('cheer', 'last'),\n",
       " ('last', 'page'),\n",
       " ('page', 'abandon'),\n",
       " ('abandon', 'friend'),\n",
       " ('friend', 'cycle'),\n",
       " ('cycle', 'wisconsin'),\n",
       " ('wisconsin', 'town'),\n",
       " ('town', 'french'),\n",
       " ('french', 'land'),\n",
       " ('land', 'tenyearold'),\n",
       " ('tenyearold', 'ty'),\n",
       " ('ty', 'marshall'),\n",
       " ('marshall', 'spot'),\n",
       " ('spot', 'crow'),\n",
       " ('crow', 'hop'),\n",
       " ('hop', 'towards'),\n",
       " ('towards', 'sidewalk'),\n",
       " ('sidewalk', 'call'),\n",
       " ('call', 'name'),\n",
       " ('name', 'fascinate'),\n",
       " ('fascinate', 'ty'),\n",
       " ('ty', 'get'),\n",
       " ('get', 'bike'),\n",
       " ('bike', 'closer'),\n",
       " ('closer', 'look'),\n",
       " ('look', 'drag'),\n",
       " ('drag', 'ty'),\n",
       " ('ty', 'destine'),\n",
       " ('destine', 'become'),\n",
       " ('become', 'fourth'),\n",
       " ('fourth', 'victim'),\n",
       " ('victim', 'fisherman'),\n",
       " ('fisherman', 'serial'),\n",
       " ('serial', 'killer'),\n",
       " ('killer', 'stalk'),\n",
       " ('stalk', 'sleepy'),\n",
       " ('sleepy', 'town'),\n",
       " ('town', 'exdetective'),\n",
       " ('exdetective', 'jack'),\n",
       " ('jack', 'sawyer'),\n",
       " ('sawyer', 'may'),\n",
       " ('may', 'able'),\n",
       " ('able', 'save'),\n",
       " ('save', 'jack'),\n",
       " ('jack', 'leave'),\n",
       " ('leave', 'old'),\n",
       " ('old', 'life'),\n",
       " ('life', 'behind'),\n",
       " ('behind', 'precisely'),\n",
       " ('precisely', 'avoid'),\n",
       " ('avoid', 'madness'),\n",
       " ('madness', 'lately'),\n",
       " ('lately', 'visit'),\n",
       " ('visit', 'strange'),\n",
       " ('strange', 'nightmare'),\n",
       " ('nightmare', 'vision'),\n",
       " ('vision', 'could'),\n",
       " ('could', 'doom'),\n",
       " ('doom', 'past'),\n",
       " ('past', 'thought'),\n",
       " ('thought', 'escape'),\n",
       " ('escape', 'forever'),\n",
       " ('forever', 'reach'),\n",
       " ('reach', 'black'),\n",
       " ('black', 'house'),\n",
       " ('house', 'alternate'),\n",
       " ('alternate', 'cover'),\n",
       " ('cover', 'asin'),\n",
       " ('asin', 'aftermath'),\n",
       " ('aftermath', 'colossal'),\n",
       " ('colossal', 'battle'),\n",
       " ('battle', 'future'),\n",
       " ('future', 'seven'),\n",
       " ('seven', 'kingdom'),\n",
       " ('kingdom', 'hang'),\n",
       " ('hang', 'balancebeset'),\n",
       " ('balancebeset', 'newly'),\n",
       " ('newly', 'emerge'),\n",
       " ('emerge', 'threat'),\n",
       " ('threat', 'every'),\n",
       " ('every', 'direction'),\n",
       " ('direction', 'east'),\n",
       " ('east', 'daenerys'),\n",
       " ('daenerys', 'targaryen'),\n",
       " ('targaryen', 'last'),\n",
       " ('last', 'scion'),\n",
       " ('scion', 'house'),\n",
       " ('house', 'targaryen'),\n",
       " ('targaryen', 'rule'),\n",
       " ('rule', 'three'),\n",
       " ('three', 'dragon'),\n",
       " ('dragon', 'queen'),\n",
       " ('queen', 'city'),\n",
       " ('city', 'build'),\n",
       " ('build', 'dust'),\n",
       " ('dust', 'death'),\n",
       " ('death', 'daenerys'),\n",
       " ('daenerys', 'thousand'),\n",
       " ('thousand', 'enemies'),\n",
       " ('enemies', 'many'),\n",
       " ('many', 'set'),\n",
       " ('set', 'find'),\n",
       " ('find', 'gather'),\n",
       " ('gather', 'one'),\n",
       " ('one', 'young'),\n",
       " ('young', 'man'),\n",
       " ('man', 'embark'),\n",
       " ('embark', 'upon'),\n",
       " ('upon', 'quest'),\n",
       " ('quest', 'queen'),\n",
       " ('queen', 'entirely'),\n",
       " ('entirely', 'different'),\n",
       " ('different', 'goal'),\n",
       " ('goal', 'westeros'),\n",
       " ('westeros', 'price'),\n",
       " ('price', 'head'),\n",
       " ('head', 'tyrion'),\n",
       " ('tyrion', 'lannister'),\n",
       " ('lannister', 'make'),\n",
       " ('make', 'way'),\n",
       " ('way', 'daenerys'),\n",
       " ('daenerys', 'newest'),\n",
       " ('newest', 'ally'),\n",
       " ('ally', 'quest'),\n",
       " ('quest', 'ragtag'),\n",
       " ('ragtag', 'band'),\n",
       " ('band', 'seem'),\n",
       " ('seem', 'heart'),\n",
       " ('heart', 'lie'),\n",
       " ('lie', 'one'),\n",
       " ('one', 'could'),\n",
       " ('could', 'undo'),\n",
       " ('undo', 'daeneryss'),\n",
       " ('daeneryss', 'claim'),\n",
       " ('claim', 'westeros'),\n",
       " ('westeros', 'north'),\n",
       " ('north', 'lie'),\n",
       " ('lie', 'mammoth'),\n",
       " ('mammoth', 'wall'),\n",
       " ('wall', 'ice'),\n",
       " ('ice', 'stonea'),\n",
       " ('stonea', 'structure'),\n",
       " ('structure', 'strong'),\n",
       " ('strong', 'guarding'),\n",
       " ('guarding', 'jon'),\n",
       " ('jon', 'snow'),\n",
       " ('snow', 'lord'),\n",
       " ('lord', 'commander'),\n",
       " ('commander', 'night'),\n",
       " ('night', 'watch'),\n",
       " ('watch', 'face'),\n",
       " ('face', 'greatest'),\n",
       " ('greatest', 'challenge'),\n",
       " ('challenge', 'powerful'),\n",
       " ('powerful', 'foe'),\n",
       " ('foe', 'within'),\n",
       " ('within', 'watch'),\n",
       " ('watch', 'also'),\n",
       " ('also', 'beyond'),\n",
       " ('beyond', 'land'),\n",
       " ('land', 'creature'),\n",
       " ('creature', 'corner'),\n",
       " ('corner', 'bitter'),\n",
       " ('bitter', 'conflict'),\n",
       " ('conflict', 'reignite'),\n",
       " ('reignite', 'intimate'),\n",
       " ('intimate', 'betrayal'),\n",
       " ('betrayal', 'perpetrate'),\n",
       " ('perpetrate', 'grand'),\n",
       " ('grand', 'cast'),\n",
       " ('cast', 'outlaw'),\n",
       " ('outlaw', 'priests'),\n",
       " ('priests', 'soldier'),\n",
       " ('soldier', 'skinchangers'),\n",
       " ('skinchangers', 'nobles'),\n",
       " ('nobles', 'slave'),\n",
       " ('slave', 'face'),\n",
       " ('face', 'seemingly'),\n",
       " ('seemingly', 'insurmountable'),\n",
       " ('insurmountable', 'obstacle'),\n",
       " ('obstacle', 'fail'),\n",
       " ('fail', 'others'),\n",
       " ('others', 'grow'),\n",
       " ('grow', 'strength'),\n",
       " ('strength', 'darkness'),\n",
       " ('darkness', 'time'),\n",
       " ('time', 'rise'),\n",
       " ('rise', 'restlessness'),\n",
       " ('restlessness', 'tide'),\n",
       " ('tide', 'destiny'),\n",
       " ('destiny', 'politics'),\n",
       " ('politics', 'lead'),\n",
       " ('lead', 'inevitably'),\n",
       " ('inevitably', 'greatest'),\n",
       " ('greatest', 'dance'),\n",
       " ('dance', 'melanie'),\n",
       " ('melanie', 'stryder'),\n",
       " ('stryder', 'refuse'),\n",
       " ('refuse', 'fade'),\n",
       " ('fade', 'away'),\n",
       " ('away', 'earth'),\n",
       " ('earth', 'invaded'),\n",
       " ('invaded', 'specie'),\n",
       " ('specie', 'take'),\n",
       " ('take', 'mind'),\n",
       " ('mind', 'human'),\n",
       " ('human', 'host'),\n",
       " ('host', 'leave'),\n",
       " ('leave', 'body'),\n",
       " ('body', 'intact'),\n",
       " ('intact', 'wanderer'),\n",
       " ('wanderer', 'invade'),\n",
       " ('invade', 'soul'),\n",
       " ('soul', 'give'),\n",
       " ('give', 'melanie'),\n",
       " ('melanie', 'body'),\n",
       " ('body', 'expect'),\n",
       " ('expect', 'find'),\n",
       " ('find', 'former'),\n",
       " ('former', 'tenant'),\n",
       " ('tenant', 'refuse'),\n",
       " ('refuse', 'relinquish'),\n",
       " ('relinquish', 'possession'),\n",
       " ('possession', 'melanie'),\n",
       " ('melanie', 'fill'),\n",
       " ('fill', 'wanderer'),\n",
       " ('wanderer', 'thought'),\n",
       " ('thought', 'vision'),\n",
       " ('vision', 'jar'),\n",
       " ('jar', 'human'),\n",
       " ('human', 'still'),\n",
       " ('still', 'live'),\n",
       " ('live', 'hide'),\n",
       " ('hide', 'wanderer'),\n",
       " ('wanderer', 'begin'),\n",
       " ('begin', 'yearn'),\n",
       " ('yearn', 'man'),\n",
       " ('man', 'never'),\n",
       " ('never', 'meet'),\n",
       " ('meet', 'reluctant'),\n",
       " ('reluctant', 'ally'),\n",
       " ('ally', 'wanderer'),\n",
       " ('wanderer', 'melanie'),\n",
       " ('melanie', 'set'),\n",
       " ('set', 'search'),\n",
       " ('search', 'man'),\n",
       " ('man', 'see'),\n",
       " ('see', 'alternate'),\n",
       " ('alternate', 'cover'),\n",
       " ('cover', 'edition'),\n",
       " ('edition', 'isbn'),\n",
       " ('isbn', 'ace'),\n",
       " ('ace', 'ace'),\n",
       " ('ace', 'ace'),\n",
       " ('ace', 'dead'),\n",
       " ('dead', 'walk'),\n",
       " ('walk', 'men'),\n",
       " ('men', 'die'),\n",
       " ('die', 'impossible'),\n",
       " ('impossible', 'death'),\n",
       " ('death', 'seem'),\n",
       " ('seem', 'though'),\n",
       " ('though', 'reality'),\n",
       " ('reality', 'become'),\n",
       " ('become', 'unstable'),\n",
       " ('unstable', 'sign'),\n",
       " ('sign', 'imminence'),\n",
       " ('imminence', 'tarmon'),\n",
       " ('tarmon', 'last'),\n",
       " ('last', 'battle'),\n",
       " ('battle', 'rand'),\n",
       " ('rand', 'dragon'),\n",
       " ('dragon', 'reborn'),\n",
       " ('reborn', 'must'),\n",
       " ('must', 'confront'),\n",
       " ('confront', 'dark'),\n",
       " ('dark', 'one'),\n",
       " ('one', 'humanity'),\n",
       " ('humanity', 'hope'),\n",
       " ('hope', 'rand'),\n",
       " ('rand', 'dare'),\n",
       " ('dare', 'fight'),\n",
       " ('fight', 'posse'),\n",
       " ('posse', 'survive'),\n",
       " ('survive', 'seal'),\n",
       " ('seal', 'dark'),\n",
       " ('dark', 'one'),\n",
       " ('one', 'prison'),\n",
       " ('prison', 'dealt'),\n",
       " ('dealt', 'seanchan'),\n",
       " ('seanchan', 'threaten'),\n",
       " ('threaten', 'overrun'),\n",
       " ('overrun', 'nation'),\n",
       " ('nation', 'side'),\n",
       " ('side', 'aryth'),\n",
       " ('aryth', 'ocean'),\n",
       " ('ocean', 'increasingly'),\n",
       " ('increasingly', 'seem'),\n",
       " ('seem', 'entrench'),\n",
       " ('entrench', 'fought'),\n",
       " ('fought', 'attempt'),\n",
       " ('attempt', 'make'),\n",
       " ('make', 'truce'),\n",
       " ('truce', 'seanchan'),\n",
       " ('seanchan', 'shadow'),\n",
       " ('shadow', 'treachery'),\n",
       " ('treachery', 'may'),\n",
       " ('may', 'cost'),\n",
       " ('cost', 'everything'),\n",
       " ('everything', 'whatever'),\n",
       " ('whatever', 'price'),\n",
       " ('price', 'though'),\n",
       " ('though', 'must'),\n",
       " ('must', 'truce'),\n",
       " ('truce', 'face'),\n",
       " ('face', 'wind'),\n",
       " ('wind', 'time'),\n",
       " ('time', 'become'),\n",
       " ('become', 'storm'),\n",
       " ('storm', 'thing'),\n",
       " ('thing', 'everyone'),\n",
       " ('everyone', 'believe'),\n",
       " ('believe', 'fixed'),\n",
       " ('fixed', 'place'),\n",
       " ('place', 'forever'),\n",
       " ('forever', 'change'),\n",
       " ('change', 'eye'),\n",
       " ('eye', 'even'),\n",
       " ('even', 'white'),\n",
       " ('white', 'tower'),\n",
       " ('tower', 'longer'),\n",
       " ('longer', 'place'),\n",
       " ('place', 'safety'),\n",
       " ('safety', 'rand'),\n",
       " ('rand', 'perrin'),\n",
       " ('perrin', 'mat'),\n",
       " ('mat', 'egwene'),\n",
       " ('egwene', 'elayne'),\n",
       " ('elayne', 'nynaeve'),\n",
       " ('nynaeve', 'lan'),\n",
       " ('lan', 'even'),\n",
       " ('even', 'loial'),\n",
       " ('loial', 'must'),\n",
       " ('must', 'ride'),\n",
       " ('ride', 'storm'),\n",
       " ('storm', 'wind'),\n",
       " ('wind', 'dark'),\n",
       " ('dark', 'one'),\n",
       " ('one', 'triumph'),\n",
       " ('triumph', 'hill'),\n",
       " ('hill', 'people'),\n",
       " ('people', 'mexican'),\n",
       " ('mexican', 'arrive'),\n",
       " ('arrive', 'day'),\n",
       " ('day', 'wednesday'),\n",
       " ('wednesday', 'early'),\n",
       " ('early', 'september'),\n",
       " ('september', 'cardinal'),\n",
       " ('cardinal', 'five'),\n",
       " ('five', 'game'),\n",
       " ('game', 'behind'),\n",
       " ('behind', 'dodger'),\n",
       " ('dodger', 'three'),\n",
       " ('three', 'week'),\n",
       " ('week', 'go'),\n",
       " ('go', 'season'),\n",
       " ('season', 'look'),\n",
       " ('look', 'hopeless'),\n",
       " ('hopeless', 'cotton'),\n",
       " ('cotton', 'however'),\n",
       " ('however', 'waisthigh'),\n",
       " ('waisthigh', 'father'),\n",
       " ('father', 'head'),\n",
       " ('head', 'grandfather'),\n",
       " ('grandfather', 'could'),\n",
       " ('could', 'hear'),\n",
       " ('hear', 'supper'),\n",
       " ('supper', 'whispering'),\n",
       " ('whispering', 'word'),\n",
       " ('word', 'seldom'),\n",
       " ('seldom', 'heard'),\n",
       " ('heard', 'could'),\n",
       " ('could', 'good'),\n",
       " ('good', 'begin'),\n",
       " ('begin', 'john'),\n",
       " ('john', 'grisham'),\n",
       " ('grisham', 'inspire'),\n",
       " ('inspire', 'childhood'),\n",
       " ('childhood', 'rural'),\n",
       " ('rural', 'arkansas'),\n",
       " ('arkansas', 'narrator'),\n",
       " ('narrator', 'farm'),\n",
       " ('farm', 'boy'),\n",
       " ('boy', 'name'),\n",
       " ('name', 'luke'),\n",
       " ('luke', 'chandler'),\n",
       " ('chandler', 'age'),\n",
       " ('age', 'seven'),\n",
       " ('seven', 'live'),\n",
       " ('live', 'cotton'),\n",
       " ('cotton', 'field'),\n",
       " ('field', 'parent'),\n",
       " ('parent', 'grandparent'),\n",
       " ('grandparent', 'little'),\n",
       " ('little', 'house'),\n",
       " ('house', 'never'),\n",
       " ('never', 'paint'),\n",
       " ('paint', 'chandler'),\n",
       " ('chandler', 'farm'),\n",
       " ('farm', 'eighty'),\n",
       " ('eighty', 'acres'),\n",
       " ('acres', 'rent'),\n",
       " ('rent', 'cotton'),\n",
       " ('cotton', 'ready'),\n",
       " ('ready', 'hire'),\n",
       " ('hire', 'truckload'),\n",
       " ('truckload', 'mexican'),\n",
       " ('mexican', 'family'),\n",
       " ('family', 'ozarks'),\n",
       " ('ozarks', 'help'),\n",
       " ('help', 'harvest'),\n",
       " ('harvest', 'six'),\n",
       " ('six', 'week'),\n",
       " ('week', 'pick'),\n",
       " ('pick', 'cotton'),\n",
       " ('cotton', 'battle'),\n",
       " ('battle', 'heat'),\n",
       " ('heat', 'rain'),\n",
       " ('rain', 'fatigue'),\n",
       " ('fatigue', 'sometimes'),\n",
       " ('sometimes', 'week'),\n",
       " ('week', 'pass'),\n",
       " ('pass', 'luke'),\n",
       " ('luke', 'see'),\n",
       " ('see', 'hears'),\n",
       " ('hears', 'thing'),\n",
       " ('thing', 'sevenyearold'),\n",
       " ('sevenyearold', 'could'),\n",
       " ('could', 'possibly'),\n",
       " ('possibly', 'prepare'),\n",
       " ('prepare', 'find'),\n",
       " ('find', 'keep'),\n",
       " ('keep', 'secret'),\n",
       " ('secret', 'threaten'),\n",
       " ('threaten', 'crop'),\n",
       " ('crop', 'change'),\n",
       " ('change', 'live'),\n",
       " ('live', 'chandler'),\n",
       " ('chandler', 'forever'),\n",
       " ('forever', 'belfry'),\n",
       " ('belfry', 'holding'),\n",
       " ('holding', 'random'),\n",
       " ...]"
      ]
     },
     "execution_count": 65,
     "metadata": {},
     "output_type": "execute_result"
    }
   ],
   "source": [
    "bigrams = nltk.ngrams(best_sent.split(), 2)\n",
    "list(bigrams)"
   ]
  },
  {
   "cell_type": "code",
   "execution_count": 66,
   "id": "829202e8",
   "metadata": {
    "scrolled": true
   },
   "outputs": [
    {
     "data": {
      "text/plain": [
       "(time, bestselling)      17\n",
       "(eve, dallas)            14\n",
       "(bestselling, author)    14\n",
       "(armand, gamache)        10\n",
       "(stephanie, plum)         9\n",
       "(alternate, cover)        8\n",
       "(young, woman)            8\n",
       "(du, quebec)              7\n",
       "(surete, du)              7\n",
       "(bounty, hunter)          7\n",
       "(fall, love)              6\n",
       "(time, bestseller)        6\n",
       "(three, pine)             6\n",
       "(lieutenant, eve)         5\n",
       "(reader, around)          5\n",
       "(high, school)            5\n",
       "(husband, roarke)         5\n",
       "(nineteen, minute)        5\n",
       "(million, reader)         5\n",
       "(chief, inspector)        5\n",
       "dtype: int64"
      ]
     },
     "execution_count": 66,
     "metadata": {},
     "output_type": "execute_result"
    }
   ],
   "source": [
    "\n",
    "bigrams = pd.Series(nltk.ngrams(best_sent.split(), 2)).value_counts().head(20)\n",
    "bigrams "
   ]
  },
  {
   "cell_type": "markdown",
   "id": "6337455f",
   "metadata": {},
   "source": [
    "<div class=\"alert alert-block alert-success\">\n",
    "<b>TAKEAWAY:</b> \n",
    "        \n",
    "Looking at bi grams, I see...\n",
    "____________________________\n",
    "\n",
    "\n",
    "* bestselling author, maybe people are inclined to buy books from someone who has already been on the list  \n",
    "\n",
    "\n",
    "* alot of character names, (eve, dallas(in death series)) ,(armand, gamache(still life)(location three pine))  \n",
    "\n",
    "\n",
    "* Sûreté du Québec is the provincial police service  \n",
    "</div>"
   ]
  },
  {
   "cell_type": "code",
   "execution_count": 67,
   "id": "2068ad3b",
   "metadata": {},
   "outputs": [
    {
     "data": {
      "image/png": "[encoded data removed]",
      "text/plain": [
       "<Figure size 1000x600 with 1 Axes>"
      ]
     },
     "metadata": {},
     "output_type": "display_data"
    }
   ],
   "source": [
    "bigrams.sort_values(ascending=False).plot.barh(color='pink', width=.9, figsize=(10, 6))\n",
    "\n",
    "plt.title('20 Most frequently occuring bestseller bigrams')\n",
    "plt.ylabel('Bigram')\n",
    "plt.xlabel('# Occurances')\n",
    "\n",
    "# make the labels pretty\n",
    "ticks, _ = plt.yticks()\n",
    "labels = bigrams .reset_index()['index'].apply(lambda t: t[0] + ' ' + t[1])\n",
    "_ = plt.yticks(ticks, labels)\n"
   ]
  },
  {
   "cell_type": "code",
   "execution_count": null,
   "id": "071192c4",
   "metadata": {},
   "outputs": [],
   "source": []
  },
  {
   "cell_type": "code",
   "execution_count": null,
   "id": "c8df6af6",
   "metadata": {},
   "outputs": [],
   "source": []
  },
  {
   "cell_type": "code",
   "execution_count": null,
   "id": "56850025",
   "metadata": {},
   "outputs": [],
   "source": []
  },
  {
   "cell_type": "code",
   "execution_count": null,
   "id": "1b33b1e5",
   "metadata": {},
   "outputs": [],
   "source": []
  },
  {
   "cell_type": "code",
   "execution_count": null,
   "id": "8b2aa819",
   "metadata": {},
   "outputs": [],
   "source": []
  },
  {
   "cell_type": "code",
   "execution_count": null,
   "id": "5b68c7ca",
   "metadata": {},
   "outputs": [],
   "source": []
  },
  {
   "cell_type": "code",
   "execution_count": null,
   "id": "15ed82d8",
   "metadata": {},
   "outputs": [],
   "source": []
  },
  {
   "cell_type": "code",
   "execution_count": null,
   "id": "aa6b6ed0",
   "metadata": {},
   "outputs": [],
   "source": []
  },
  {
   "cell_type": "code",
   "execution_count": null,
   "id": "fd7c1316",
   "metadata": {},
   "outputs": [],
   "source": []
  }
 ],
 "metadata": {
  "kernelspec": {
   "display_name": "Python 3 (ipykernel)",
   "language": "python",
   "name": "python3"
  },
  "language_info": {
   "codemirror_mode": {
    "name": "ipython",
    "version": 3
   },
   "file_extension": ".py",
   "mimetype": "text/x-python",
   "name": "python",
   "nbconvert_exporter": "python",
   "pygments_lexer": "ipython3",
   "version": "3.9.13"
  }
 },
 "nbformat": 4,
 "nbformat_minor": 5
}
