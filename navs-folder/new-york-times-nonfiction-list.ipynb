{
 "cells": [
  {
   "cell_type": "code",
   "execution_count": 1,
   "id": "399c9543",
   "metadata": {},
   "outputs": [],
   "source": [
    "import pandas as pd \n",
    "import numpy as np \n",
    "\n",
    "import time\n",
    "import math\n",
    "\n"
   ]
  },
  {
   "cell_type": "code",
   "execution_count": 2,
   "id": "2f585652",
   "metadata": {},
   "outputs": [],
   "source": [
    "root = \"https://en.wikipedia.org/wiki/The_New_York_Times_Nonfiction_Best_Sellers_of_\""
   ]
  },
  {
   "cell_type": "code",
   "execution_count": 3,
   "id": "04d3e3ff",
   "metadata": {},
   "outputs": [],
   "source": [
    "year_to_scrape = list(range(2000,2021))"
   ]
  },
  {
   "cell_type": "code",
   "execution_count": 5,
   "id": "9065a1b3",
   "metadata": {},
   "outputs": [],
   "source": [
    "year_to_scrape.append(1931)"
   ]
  },
  {
   "cell_type": "code",
   "execution_count": 6,
   "id": "9d78ec7d",
   "metadata": {},
   "outputs": [],
   "source": [
    "year_to_scrape.sort()"
   ]
  },
  {
   "cell_type": "code",
   "execution_count": 7,
   "id": "c3df1518",
   "metadata": {},
   "outputs": [
    {
     "data": {
      "text/plain": [
       "[1931, 1932, 2000, 2001, 2002]"
      ]
     },
     "execution_count": 7,
     "metadata": {},
     "output_type": "execute_result"
    }
   ],
   "source": [
    "year_to_scrape[:5]"
   ]
  },
  {
   "cell_type": "markdown",
   "id": "2f314ba1",
   "metadata": {},
   "source": [
    "# non-fiction best seller"
   ]
  },
  {
   "cell_type": "code",
   "execution_count": 17,
   "id": "15456e0e",
   "metadata": {},
   "outputs": [
    {
     "name": "stdout",
     "output_type": "stream",
     "text": [
      "1931\n",
      "\n",
      "\n",
      "1932\n",
      "\n",
      "\n",
      "2000\n",
      "\n",
      "\n",
      "2001\n",
      "\n",
      "\n",
      "2002\n",
      "\n",
      "\n",
      "2003\n",
      "\n",
      "\n",
      "2004\n",
      "\n",
      "\n",
      "2005\n",
      "\n",
      "\n",
      "2006\n",
      "\n",
      "\n",
      "2007\n",
      "\n",
      "\n",
      "2008\n",
      "\n",
      "\n",
      "2009\n",
      "\n",
      "\n",
      "2010\n",
      "\n",
      "\n",
      "2011\n",
      "\n",
      "\n",
      "2012\n",
      "\n",
      "\n",
      "2013\n",
      "\n",
      "\n",
      "2014\n",
      "\n",
      "\n",
      "2015\n",
      "\n",
      "\n",
      "2016\n",
      "\n",
      "\n",
      "2017\n",
      "\n",
      "\n",
      "2018\n",
      "\n",
      "\n",
      "2019\n",
      "\n",
      "\n",
      "2020\n",
      "\n",
      "\n"
     ]
    }
   ],
   "source": [
    "nfict = pd.DataFrame()\n",
    "for i in year_to_scrape:\n",
    "    url = f'{root}{i}'\n",
    "    tables = pd.read_html(url)\n",
    "    if i == 1931 or i == 1932:\n",
    "        df = tables[0]\n",
    "    else:\n",
    "        df = tables[1]\n",
    "    \n",
    "    df['Date'] = df['Date'].apply(lambda x: str(x) + f' {i}')\n",
    "    nfict = pd.concat([nfict, df], ignore_index=True)\n",
    "    time.sleep(1)\n",
    "    print(i) \n",
    "    print('\\n')"
   ]
  },
  {
   "cell_type": "code",
   "execution_count": 19,
   "id": "63d58ba0",
   "metadata": {},
   "outputs": [],
   "source": [
    "nfict['type'] = 'non-fiction'"
   ]
  },
  {
   "cell_type": "markdown",
   "id": "4a0b1d7f",
   "metadata": {},
   "source": [
    "# fiction best seller"
   ]
  },
  {
   "cell_type": "code",
   "execution_count": 18,
   "id": "1f996fe3",
   "metadata": {},
   "outputs": [
    {
     "name": "stdout",
     "output_type": "stream",
     "text": [
      "1931\n",
      "\n",
      "\n",
      "1932\n",
      "\n",
      "\n",
      "1933\n",
      "\n",
      "\n",
      "1934\n",
      "\n",
      "\n",
      "1935\n",
      "\n",
      "\n",
      "1936\n",
      "\n",
      "\n",
      "1937\n",
      "\n",
      "\n",
      "1938\n",
      "\n",
      "\n",
      "1939\n",
      "\n",
      "\n",
      "1940\n",
      "\n",
      "\n",
      "1941\n",
      "\n",
      "\n",
      "1942\n",
      "\n",
      "\n",
      "1943\n",
      "\n",
      "\n",
      "1944\n",
      "\n",
      "\n",
      "1945\n",
      "\n",
      "\n",
      "1946\n",
      "\n",
      "\n",
      "1947\n",
      "\n",
      "\n",
      "1948\n",
      "\n",
      "\n",
      "1949\n",
      "\n",
      "\n",
      "1950\n",
      "\n",
      "\n",
      "1951\n",
      "\n",
      "\n",
      "1952\n",
      "\n",
      "\n",
      "1953\n",
      "\n",
      "\n",
      "1954\n",
      "\n",
      "\n",
      "1955\n",
      "\n",
      "\n",
      "1956\n",
      "\n",
      "\n",
      "1957\n",
      "\n",
      "\n",
      "1958\n",
      "\n",
      "\n",
      "1959\n",
      "\n",
      "\n",
      "1960\n",
      "\n",
      "\n",
      "1961\n",
      "\n",
      "\n",
      "1962\n",
      "\n",
      "\n",
      "1963\n",
      "\n",
      "\n",
      "1964\n",
      "\n",
      "\n",
      "1965\n",
      "\n",
      "\n",
      "1966\n",
      "\n",
      "\n",
      "1967\n",
      "\n",
      "\n",
      "1968\n",
      "\n",
      "\n",
      "1969\n",
      "\n",
      "\n",
      "1970\n",
      "\n",
      "\n",
      "1971\n",
      "\n",
      "\n",
      "1972\n",
      "\n",
      "\n",
      "1973\n",
      "\n",
      "\n",
      "1974\n",
      "\n",
      "\n",
      "1975\n",
      "\n",
      "\n",
      "1976\n",
      "\n",
      "\n",
      "1977\n",
      "\n",
      "\n",
      "1978\n",
      "\n",
      "\n",
      "1979\n",
      "\n",
      "\n",
      "1980\n",
      "\n",
      "\n",
      "1981\n",
      "\n",
      "\n",
      "1982\n",
      "\n",
      "\n",
      "1983\n",
      "\n",
      "\n",
      "1984\n",
      "\n",
      "\n",
      "1985\n",
      "\n",
      "\n",
      "1986\n",
      "\n",
      "\n",
      "1987\n",
      "\n",
      "\n",
      "1988\n",
      "\n",
      "\n",
      "1989\n",
      "\n",
      "\n",
      "1990\n",
      "\n",
      "\n",
      "1991\n",
      "\n",
      "\n",
      "1992\n",
      "\n",
      "\n",
      "1993\n",
      "\n",
      "\n",
      "1994\n",
      "\n",
      "\n",
      "1995\n",
      "\n",
      "\n",
      "1996\n",
      "\n",
      "\n",
      "1997\n",
      "\n",
      "\n",
      "1998\n",
      "\n",
      "\n",
      "1999\n",
      "\n",
      "\n",
      "2000\n",
      "\n",
      "\n",
      "2001\n",
      "\n",
      "\n",
      "2002\n",
      "\n",
      "\n",
      "2003\n",
      "\n",
      "\n",
      "2004\n",
      "\n",
      "\n",
      "2005\n",
      "\n",
      "\n",
      "2006\n",
      "\n",
      "\n",
      "2007\n",
      "\n",
      "\n",
      "2008\n",
      "\n",
      "\n",
      "2009\n",
      "\n",
      "\n",
      "2010\n",
      "\n",
      "\n",
      "2011\n",
      "\n",
      "\n",
      "2012\n",
      "\n",
      "\n",
      "2013\n",
      "\n",
      "\n",
      "2014\n",
      "\n",
      "\n",
      "2015\n",
      "\n",
      "\n",
      "2016\n",
      "\n",
      "\n",
      "2017\n",
      "\n",
      "\n",
      "2018\n",
      "\n",
      "\n",
      "2019\n",
      "\n",
      "\n",
      "2020\n",
      "\n",
      "\n"
     ]
    }
   ],
   "source": [
    "base_url = 'https://en.wikipedia.org/wiki/The_New_York_Times_Fiction_Best_Sellers_of_'\n",
    "fict = pd.DataFrame()\n",
    "for i in range(1931, 2021):\n",
    "    url = f'{base_url}{i}'\n",
    "    tables = pd.read_html(url)\n",
    "    if i == 1946:\n",
    "        df = tables[1]\n",
    "    else:\n",
    "        df = tables[0]\n",
    "   \n",
    "    if i >= 2021:\n",
    "        df.rename(columns={'Date': 'Issue Date'}, inplace=True)\n",
    "    else:\n",
    "        df.rename(columns={'Date': 'Date'}, inplace=True)\n",
    "    df['Date'] = df['Date'].apply(lambda x: str(x) + f' {i}')\n",
    "    fict = pd.concat([fict, df], ignore_index=True)\n",
    "    time.sleep(1)\n",
    "    print(i)\n",
    "    print('\\n')"
   ]
  },
  {
   "cell_type": "code",
   "execution_count": 21,
   "id": "68c117b2",
   "metadata": {},
   "outputs": [],
   "source": [
    "fict[\"Publisher\"] = 'unknown'"
   ]
  },
  {
   "cell_type": "code",
   "execution_count": 22,
   "id": "613df8bf",
   "metadata": {},
   "outputs": [],
   "source": [
    "fict[\"type\"] = 'fiction'"
   ]
  },
  {
   "cell_type": "code",
   "execution_count": 27,
   "id": "4f1c51f3",
   "metadata": {},
   "outputs": [],
   "source": [
    "top_bestsellers_list = pd.concat([fict, nfict],axis = 0)"
   ]
  },
  {
   "cell_type": "code",
   "execution_count": 31,
   "id": "46638fd0",
   "metadata": {},
   "outputs": [],
   "source": [
    "top_bestsellers_list.to_csv('standard_bestseller_wiki.csv')\n"
   ]
  },
  {
   "cell_type": "code",
   "execution_count": null,
   "id": "206f1220",
   "metadata": {},
   "outputs": [],
   "source": []
  },
  {
   "cell_type": "code",
   "execution_count": null,
   "id": "1f7d85f9",
   "metadata": {},
   "outputs": [],
   "source": []
  },
  {
   "cell_type": "code",
   "execution_count": null,
   "id": "c08337eb",
   "metadata": {},
   "outputs": [],
   "source": []
  },
  {
   "cell_type": "code",
   "execution_count": null,
   "id": "f833f14e",
   "metadata": {},
   "outputs": [],
   "source": []
  },
  {
   "cell_type": "code",
   "execution_count": null,
   "id": "e93dad33",
   "metadata": {},
   "outputs": [],
   "source": []
  },
  {
   "cell_type": "code",
   "execution_count": null,
   "id": "1ba00961",
   "metadata": {},
   "outputs": [],
   "source": []
  },
  {
   "cell_type": "code",
   "execution_count": null,
   "id": "eb69541a",
   "metadata": {},
   "outputs": [],
   "source": []
  },
  {
   "cell_type": "code",
   "execution_count": null,
   "id": "86b9da3a",
   "metadata": {},
   "outputs": [],
   "source": []
  },
  {
   "cell_type": "code",
   "execution_count": null,
   "id": "81cef754",
   "metadata": {},
   "outputs": [],
   "source": []
  },
  {
   "cell_type": "code",
   "execution_count": null,
   "id": "1914f7f0",
   "metadata": {},
   "outputs": [],
   "source": []
  },
  {
   "cell_type": "code",
   "execution_count": null,
   "id": "606cf0da",
   "metadata": {},
   "outputs": [],
   "source": []
  },
  {
   "cell_type": "code",
   "execution_count": null,
   "id": "d50d79ce",
   "metadata": {},
   "outputs": [],
   "source": []
  },
  {
   "cell_type": "code",
   "execution_count": null,
   "id": "14bc4996",
   "metadata": {},
   "outputs": [],
   "source": []
  },
  {
   "cell_type": "code",
   "execution_count": 142,
   "id": "a12ca63c",
   "metadata": {},
   "outputs": [],
   "source": [
    "#all_books = all_books.drop_duplicates(subset = [\"Book\", 'Author'], keep = \"last\")"
   ]
  },
  {
   "cell_type": "code",
   "execution_count": 137,
   "id": "2b122946",
   "metadata": {},
   "outputs": [
    {
     "name": "stderr",
     "output_type": "stream",
     "text": [
      "/var/folders/d0/5dr5q0n145vcn3_m9dxy1xq80000gn/T/ipykernel_53251/998546262.py:1: SettingWithCopyWarning: \n",
      "A value is trying to be set on a copy of a slice from a DataFrame\n",
      "\n",
      "See the caveats in the documentation: https://pandas.pydata.org/pandas-docs/stable/user_guide/indexing.html#returning-a-view-versus-a-copy\n",
      "  all_books.drop(columns= 'Date',inplace= True)\n"
     ]
    }
   ],
   "source": [
    "#all_books.drop(columns= 'Date',inplace= True)"
   ]
  },
  {
   "cell_type": "code",
   "execution_count": 143,
   "id": "e29904a2",
   "metadata": {},
   "outputs": [],
   "source": [
    "all_books.to_csv('unique-non-ficiton-best-sellers.csv')"
   ]
  },
  {
   "cell_type": "code",
   "execution_count": 89,
   "id": "2264f7b1",
   "metadata": {},
   "outputs": [],
   "source": [
    "#all_books.to_csv('all-non-fiction-top-best-sellers1931-2020')"
   ]
  },
  {
   "cell_type": "code",
   "execution_count": null,
   "id": "9ebdae2c",
   "metadata": {},
   "outputs": [],
   "source": []
  },
  {
   "cell_type": "code",
   "execution_count": 147,
   "id": "6f840c5e",
   "metadata": {},
   "outputs": [],
   "source": [
    "fict = pd.read_csv('books_feat_on_NYBS',index_col= 0)"
   ]
  },
  {
   "cell_type": "code",
   "execution_count": 150,
   "id": "07189c18",
   "metadata": {},
   "outputs": [
    {
     "data": {
      "text/html": [
       "<div>\n",
       "<style scoped>\n",
       "    .dataframe tbody tr th:only-of-type {\n",
       "        vertical-align: middle;\n",
       "    }\n",
       "\n",
       "    .dataframe tbody tr th {\n",
       "        vertical-align: top;\n",
       "    }\n",
       "\n",
       "    .dataframe thead th {\n",
       "        text-align: right;\n",
       "    }\n",
       "</style>\n",
       "<table border=\"1\" class=\"dataframe\">\n",
       "  <thead>\n",
       "    <tr style=\"text-align: right;\">\n",
       "      <th></th>\n",
       "      <th>Date</th>\n",
       "      <th>Book</th>\n",
       "      <th>Author</th>\n",
       "      <th>Publisher</th>\n",
       "    </tr>\n",
       "  </thead>\n",
       "  <tbody>\n",
       "    <tr>\n",
       "      <th>5</th>\n",
       "      <td>November 16 1931</td>\n",
       "      <td>Ellen Terry and Bernard Shaw: A Correspondence</td>\n",
       "      <td>Ellen Terry and Bernard Shaw</td>\n",
       "      <td>NaN</td>\n",
       "    </tr>\n",
       "    <tr>\n",
       "      <th>6</th>\n",
       "      <td>November 23 1931</td>\n",
       "      <td>No List Published</td>\n",
       "      <td>No List Published</td>\n",
       "      <td>NaN</td>\n",
       "    </tr>\n",
       "    <tr>\n",
       "      <th>7</th>\n",
       "      <td>November 30 1931</td>\n",
       "      <td>Washington Merry-Go-Round</td>\n",
       "      <td>Anonymous. (Drew Pearson and Robert S. Allen .)</td>\n",
       "      <td>NaN</td>\n",
       "    </tr>\n",
       "    <tr>\n",
       "      <th>8</th>\n",
       "      <td>December 7 1931</td>\n",
       "      <td>Bernard Shaw</td>\n",
       "      <td>Frank Harris</td>\n",
       "      <td>NaN</td>\n",
       "    </tr>\n",
       "    <tr>\n",
       "      <th>10</th>\n",
       "      <td>December 21 1931</td>\n",
       "      <td>Mourning Becomes Electra</td>\n",
       "      <td>Eugene O’Neill</td>\n",
       "      <td>NaN</td>\n",
       "    </tr>\n",
       "  </tbody>\n",
       "</table>\n",
       "</div>"
      ],
      "text/plain": [
       "                Date                                            Book  \\\n",
       "5   November 16 1931  Ellen Terry and Bernard Shaw: A Correspondence   \n",
       "6   November 23 1931                               No List Published   \n",
       "7   November 30 1931                       Washington Merry-Go-Round   \n",
       "8    December 7 1931                                    Bernard Shaw   \n",
       "10  December 21 1931                        Mourning Becomes Electra   \n",
       "\n",
       "                                             Author Publisher  \n",
       "5                      Ellen Terry and Bernard Shaw       NaN  \n",
       "6                                 No List Published       NaN  \n",
       "7   Anonymous. (Drew Pearson and Robert S. Allen .)       NaN  \n",
       "8                                      Frank Harris       NaN  \n",
       "10                                   Eugene O’Neill       NaN  "
      ]
     },
     "execution_count": 150,
     "metadata": {},
     "output_type": "execute_result"
    }
   ],
   "source": [
    "all_books.head()"
   ]
  },
  {
   "cell_type": "code",
   "execution_count": 153,
   "id": "b9323d65",
   "metadata": {},
   "outputs": [],
   "source": [
    "fict = fict.drop(columns= 'Month')"
   ]
  },
  {
   "cell_type": "code",
   "execution_count": 155,
   "id": "b2b06043",
   "metadata": {},
   "outputs": [],
   "source": [
    "fict['Publisher'] = 'unknown'"
   ]
  },
  {
   "cell_type": "code",
   "execution_count": 159,
   "id": "35f1e1f3",
   "metadata": {},
   "outputs": [],
   "source": [
    "fict_and_non_fict = pd.concat([fict,all_books])"
   ]
  },
  {
   "cell_type": "code",
   "execution_count": 174,
   "id": "4444b955",
   "metadata": {},
   "outputs": [],
   "source": [
    "check = fict_and_non_fict.Book.value_counts()[fict_and_non_fict.Book.value_counts() == 2].index.tolist()"
   ]
  },
  {
   "cell_type": "code",
   "execution_count": 183,
   "id": "55c3ade7",
   "metadata": {},
   "outputs": [],
   "source": [
    "fict_and_non_fict.to_csv('all-fiction-and-non-fiction-top-best-sellers.csv')"
   ]
  },
  {
   "cell_type": "code",
   "execution_count": 188,
   "id": "cfe64559",
   "metadata": {},
   "outputs": [],
   "source": [
    "fict_and_non_fict = fict_and_non_fict.reset_index()"
   ]
  },
  {
   "cell_type": "code",
   "execution_count": 191,
   "id": "64d358d6",
   "metadata": {},
   "outputs": [],
   "source": [
    "fict_and_non_fict= fict_and_non_fict.drop(columns= 'index')"
   ]
  },
  {
   "cell_type": "code",
   "execution_count": 193,
   "id": "98437268",
   "metadata": {},
   "outputs": [],
   "source": [
    "fict_and_non_fict.to_csv('fiction-and-non-fiction-top-best-sellers.csv')"
   ]
  },
  {
   "cell_type": "code",
   "execution_count": null,
   "id": "95132f21",
   "metadata": {},
   "outputs": [],
   "source": []
  }
 ],
 "metadata": {
  "kernelspec": {
   "display_name": "Python 3 (ipykernel)",
   "language": "python",
   "name": "python3"
  },
  "language_info": {
   "codemirror_mode": {
    "name": "ipython",
    "version": 3
   },
   "file_extension": ".py",
   "mimetype": "text/x-python",
   "name": "python",
   "nbconvert_exporter": "python",
   "pygments_lexer": "ipython3",
   "version": "3.9.13"
  }
 },
 "nbformat": 4,
 "nbformat_minor": 5
}
