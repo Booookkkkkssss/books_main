{
 "cells": [
  {
   "cell_type": "code",
   "execution_count": null,
   "id": "2a2a108f",
   "metadata": {},
   "outputs": [],
   "source": [
    "# Goal is to create a prepare.py that creates a dataframe which has valuable features, as well as, our target variable."
   ]
  },
  {
   "cell_type": "code",
   "execution_count": 1,
   "id": "1b8be7fc",
   "metadata": {},
   "outputs": [],
   "source": [
    "import os\n",
    "import pandas as pd\n",
    "import numpy as np\n",
    "\n",
    "from fuzzywuzzy import fuzz, process\n",
    "import re\n",
    "\n",
    "import prepare as pr\n"
   ]
  },
  {
   "cell_type": "code",
   "execution_count": 2,
   "id": "c7aa516f",
   "metadata": {},
   "outputs": [],
   "source": [
    "# Importing my csv's, This is my referecne sheet\n",
    "standard = pd.read_csv('books_feat_on_NYBS').drop(columns = ['Unnamed: 0'])\n",
    "\n",
    "# This is the 'random' list of books from good reads\n",
    "gdrd = pd.read_csv('good-reads-books').drop(columns = ['Unnamed: 0'])"
   ]
  },
  {
   "cell_type": "markdown",
   "id": "8f0c1bca",
   "metadata": {},
   "source": [
    "# function"
   ]
  },
  {
   "cell_type": "markdown",
   "id": "a1998709",
   "metadata": {},
   "source": [
    "# Let's clean our titles"
   ]
  },
  {
   "cell_type": "markdown",
   "id": "5b683b05",
   "metadata": {},
   "source": [
    "## standard data frame"
   ]
  },
  {
   "cell_type": "code",
   "execution_count": 3,
   "id": "1992ff60",
   "metadata": {},
   "outputs": [
    {
     "data": {
      "text/html": [
       "<div>\n",
       "<style scoped>\n",
       "    .dataframe tbody tr th:only-of-type {\n",
       "        vertical-align: middle;\n",
       "    }\n",
       "\n",
       "    .dataframe tbody tr th {\n",
       "        vertical-align: top;\n",
       "    }\n",
       "\n",
       "    .dataframe thead th {\n",
       "        text-align: right;\n",
       "    }\n",
       "</style>\n",
       "<table border=\"1\" class=\"dataframe\">\n",
       "  <thead>\n",
       "    <tr style=\"text-align: right;\">\n",
       "      <th></th>\n",
       "      <th>Date</th>\n",
       "      <th>Book</th>\n",
       "      <th>Author</th>\n",
       "      <th>Month</th>\n",
       "      <th>clean_titles</th>\n",
       "    </tr>\n",
       "  </thead>\n",
       "  <tbody>\n",
       "    <tr>\n",
       "      <th>0</th>\n",
       "      <td>October 12 1931</td>\n",
       "      <td>The Ten Commandments</td>\n",
       "      <td>Warwick Deeping</td>\n",
       "      <td>January</td>\n",
       "      <td>the ten commandments</td>\n",
       "    </tr>\n",
       "  </tbody>\n",
       "</table>\n",
       "</div>"
      ],
      "text/plain": [
       "              Date                  Book           Author    Month  \\\n",
       "0  October 12 1931  The Ten Commandments  Warwick Deeping  January   \n",
       "\n",
       "           clean_titles  \n",
       "0  the ten commandments  "
      ]
     },
     "execution_count": 3,
     "metadata": {},
     "output_type": "execute_result"
    }
   ],
   "source": [
    "standard = pr.create_clean_words(standard, standard.Book)\n",
    "standard.head(1)"
   ]
  },
  {
   "cell_type": "code",
   "execution_count": 4,
   "id": "22226c6d",
   "metadata": {},
   "outputs": [
    {
     "data": {
      "text/html": [
       "<div>\n",
       "<style scoped>\n",
       "    .dataframe tbody tr th:only-of-type {\n",
       "        vertical-align: middle;\n",
       "    }\n",
       "\n",
       "    .dataframe tbody tr th {\n",
       "        vertical-align: top;\n",
       "    }\n",
       "\n",
       "    .dataframe thead th {\n",
       "        text-align: right;\n",
       "    }\n",
       "</style>\n",
       "<table border=\"1\" class=\"dataframe\">\n",
       "  <thead>\n",
       "    <tr style=\"text-align: right;\">\n",
       "      <th></th>\n",
       "      <th>title</th>\n",
       "      <th>summary</th>\n",
       "      <th>year_published</th>\n",
       "      <th>author</th>\n",
       "      <th>review_count</th>\n",
       "      <th>number_of_ratings</th>\n",
       "      <th>length</th>\n",
       "      <th>genre</th>\n",
       "      <th>rating</th>\n",
       "      <th>reviews</th>\n",
       "      <th>clean_titles</th>\n",
       "    </tr>\n",
       "  </thead>\n",
       "  <tbody>\n",
       "    <tr>\n",
       "      <th>0</th>\n",
       "      <td>Harry Potter and the Deathly Hallows</td>\n",
       "      <td>Harry has been burdened with a dark, dangerous...</td>\n",
       "      <td>2007</td>\n",
       "      <td>J.K. Rowling</td>\n",
       "      <td>78687</td>\n",
       "      <td>3437863</td>\n",
       "      <td>759</td>\n",
       "      <td>NaN</td>\n",
       "      <td>4.62</td>\n",
       "      <td>[\"Ok, before I start a few warnings. This will...</td>\n",
       "      <td>harry potter and the deathly hallows</td>\n",
       "    </tr>\n",
       "  </tbody>\n",
       "</table>\n",
       "</div>"
      ],
      "text/plain": [
       "                                  title  \\\n",
       "0  Harry Potter and the Deathly Hallows   \n",
       "\n",
       "                                             summary year_published  \\\n",
       "0  Harry has been burdened with a dark, dangerous...           2007   \n",
       "\n",
       "         author  review_count  number_of_ratings  length  genre  rating  \\\n",
       "0  J.K. Rowling         78687            3437863     759    NaN    4.62   \n",
       "\n",
       "                                             reviews  \\\n",
       "0  [\"Ok, before I start a few warnings. This will...   \n",
       "\n",
       "                           clean_titles  \n",
       "0  harry potter and the deathly hallows  "
      ]
     },
     "execution_count": 4,
     "metadata": {},
     "output_type": "execute_result"
    }
   ],
   "source": [
    "gdrd = pr.create_clean_words(gdrd, gdrd.title)\n",
    "gdrd.head(1)"
   ]
  },
  {
   "cell_type": "code",
   "execution_count": null,
   "id": "203d9bb1",
   "metadata": {},
   "outputs": [],
   "source": []
  },
  {
   "cell_type": "markdown",
   "id": "c2cc0255",
   "metadata": {},
   "source": [
    "# feature engineering the target"
   ]
  },
  {
   "cell_type": "code",
   "execution_count": 5,
   "id": "07ad7162",
   "metadata": {},
   "outputs": [],
   "source": [
    "# creating a reference series\n",
    "match_series = standard.clean_titles"
   ]
  },
  {
   "cell_type": "code",
   "execution_count": 6,
   "id": "19a33317",
   "metadata": {},
   "outputs": [],
   "source": [
    "df = pr.creat_tar(gdrd, match_series)"
   ]
  },
  {
   "cell_type": "code",
   "execution_count": 11,
   "id": "bebbad62",
   "metadata": {},
   "outputs": [
    {
     "data": {
      "text/plain": [
       "unsuccessful    726\n",
       "best seller     158\n",
       "Name: Target, dtype: int64"
      ]
     },
     "execution_count": 11,
     "metadata": {},
     "output_type": "execute_result"
    }
   ],
   "source": [
    "df.Target.value_counts()"
   ]
  },
  {
   "cell_type": "code",
   "execution_count": 12,
   "id": "46b4d9cb",
   "metadata": {},
   "outputs": [
    {
     "data": {
      "text/html": [
       "<div>\n",
       "<style scoped>\n",
       "    .dataframe tbody tr th:only-of-type {\n",
       "        vertical-align: middle;\n",
       "    }\n",
       "\n",
       "    .dataframe tbody tr th {\n",
       "        vertical-align: top;\n",
       "    }\n",
       "\n",
       "    .dataframe thead th {\n",
       "        text-align: right;\n",
       "    }\n",
       "</style>\n",
       "<table border=\"1\" class=\"dataframe\">\n",
       "  <thead>\n",
       "    <tr style=\"text-align: right;\">\n",
       "      <th></th>\n",
       "      <th>title</th>\n",
       "      <th>summary</th>\n",
       "      <th>year_published</th>\n",
       "      <th>author</th>\n",
       "      <th>review_count</th>\n",
       "      <th>number_of_ratings</th>\n",
       "      <th>length</th>\n",
       "      <th>genre</th>\n",
       "      <th>rating</th>\n",
       "      <th>reviews</th>\n",
       "      <th>clean_titles</th>\n",
       "      <th>Target</th>\n",
       "    </tr>\n",
       "  </thead>\n",
       "  <tbody>\n",
       "    <tr>\n",
       "      <th>0</th>\n",
       "      <td>Harry Potter and the Deathly Hallows</td>\n",
       "      <td>Harry has been burdened with a dark, dangerous...</td>\n",
       "      <td>2007</td>\n",
       "      <td>J.K. Rowling</td>\n",
       "      <td>78687</td>\n",
       "      <td>3437863</td>\n",
       "      <td>759</td>\n",
       "      <td>NaN</td>\n",
       "      <td>4.62</td>\n",
       "      <td>[\"Ok, before I start a few warnings. This will...</td>\n",
       "      <td>harry potter and the deathly hallows</td>\n",
       "      <td>unsuccessful</td>\n",
       "    </tr>\n",
       "    <tr>\n",
       "      <th>1</th>\n",
       "      <td>The Hunger Games</td>\n",
       "      <td>Could you survive on your own in the wild, wit...</td>\n",
       "      <td>2008</td>\n",
       "      <td>Suzanne Collins</td>\n",
       "      <td>192376</td>\n",
       "      <td>7878189</td>\n",
       "      <td>374</td>\n",
       "      <td>NaN</td>\n",
       "      <td>4.33</td>\n",
       "      <td>['LMAAAOOOO! Thats Peeta folks! xDHahahahaha, ...</td>\n",
       "      <td>the hunger games</td>\n",
       "      <td>unsuccessful</td>\n",
       "    </tr>\n",
       "    <tr>\n",
       "      <th>2</th>\n",
       "      <td>The Kite Runner</td>\n",
       "      <td>1970s Afghanistan: Twelve-year-old Amir is des...</td>\n",
       "      <td>2003</td>\n",
       "      <td>Khaled Hosseini</td>\n",
       "      <td>90024</td>\n",
       "      <td>2929707</td>\n",
       "      <td>371</td>\n",
       "      <td>NaN</td>\n",
       "      <td>4.33</td>\n",
       "      <td>['Finished this book about a month ago but it\\...</td>\n",
       "      <td>the kite runner</td>\n",
       "      <td>unsuccessful</td>\n",
       "    </tr>\n",
       "    <tr>\n",
       "      <th>3</th>\n",
       "      <td>The Book Thief</td>\n",
       "      <td>Librarian's note: An alternate cover edition c...</td>\n",
       "      <td>2006</td>\n",
       "      <td>Markus Zusak</td>\n",
       "      <td>134538</td>\n",
       "      <td>2339721</td>\n",
       "      <td>552</td>\n",
       "      <td>NaN</td>\n",
       "      <td>4.39</td>\n",
       "      <td>[\"Just to clarify: Yes, I did cry.I've read a ...</td>\n",
       "      <td>the book thief</td>\n",
       "      <td>unsuccessful</td>\n",
       "    </tr>\n",
       "    <tr>\n",
       "      <th>4</th>\n",
       "      <td>Harry Potter and the Half-Blood Prince</td>\n",
       "      <td>It is the middle of the summer, but there is a...</td>\n",
       "      <td>2005</td>\n",
       "      <td>J.K. Rowling</td>\n",
       "      <td>51302</td>\n",
       "      <td>3020180</td>\n",
       "      <td>652</td>\n",
       "      <td>NaN</td>\n",
       "      <td>4.58</td>\n",
       "      <td>['(A) 86% | ExtraordinaryNotes: It dwells on t...</td>\n",
       "      <td>harry potter and the halfblood prince</td>\n",
       "      <td>unsuccessful</td>\n",
       "    </tr>\n",
       "  </tbody>\n",
       "</table>\n",
       "</div>"
      ],
      "text/plain": [
       "                                    title  \\\n",
       "0    Harry Potter and the Deathly Hallows   \n",
       "1                        The Hunger Games   \n",
       "2                         The Kite Runner   \n",
       "3                          The Book Thief   \n",
       "4  Harry Potter and the Half-Blood Prince   \n",
       "\n",
       "                                             summary year_published  \\\n",
       "0  Harry has been burdened with a dark, dangerous...           2007   \n",
       "1  Could you survive on your own in the wild, wit...           2008   \n",
       "2  1970s Afghanistan: Twelve-year-old Amir is des...           2003   \n",
       "3  Librarian's note: An alternate cover edition c...           2006   \n",
       "4  It is the middle of the summer, but there is a...           2005   \n",
       "\n",
       "            author  review_count  number_of_ratings  length  genre  rating  \\\n",
       "0     J.K. Rowling         78687            3437863     759    NaN    4.62   \n",
       "1  Suzanne Collins        192376            7878189     374    NaN    4.33   \n",
       "2  Khaled Hosseini         90024            2929707     371    NaN    4.33   \n",
       "3     Markus Zusak        134538            2339721     552    NaN    4.39   \n",
       "4     J.K. Rowling         51302            3020180     652    NaN    4.58   \n",
       "\n",
       "                                             reviews  \\\n",
       "0  [\"Ok, before I start a few warnings. This will...   \n",
       "1  ['LMAAAOOOO! Thats Peeta folks! xDHahahahaha, ...   \n",
       "2  ['Finished this book about a month ago but it\\...   \n",
       "3  [\"Just to clarify: Yes, I did cry.I've read a ...   \n",
       "4  ['(A) 86% | ExtraordinaryNotes: It dwells on t...   \n",
       "\n",
       "                            clean_titles        Target  \n",
       "0   harry potter and the deathly hallows  unsuccessful  \n",
       "1                       the hunger games  unsuccessful  \n",
       "2                        the kite runner  unsuccessful  \n",
       "3                         the book thief  unsuccessful  \n",
       "4  harry potter and the halfblood prince  unsuccessful  "
      ]
     },
     "execution_count": 12,
     "metadata": {},
     "output_type": "execute_result"
    }
   ],
   "source": [
    "df.head(5)"
   ]
  },
  {
   "cell_type": "code",
   "execution_count": null,
   "id": "39ca6675",
   "metadata": {},
   "outputs": [],
   "source": []
  }
 ],
 "metadata": {
  "kernelspec": {
   "display_name": "Python 3 (ipykernel)",
   "language": "python",
   "name": "python3"
  },
  "language_info": {
   "codemirror_mode": {
    "name": "ipython",
    "version": 3
   },
   "file_extension": ".py",
   "mimetype": "text/x-python",
   "name": "python",
   "nbconvert_exporter": "python",
   "pygments_lexer": "ipython3",
   "version": "3.9.13"
  }
 },
 "nbformat": 4,
 "nbformat_minor": 5
}
