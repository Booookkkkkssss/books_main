{
 "cells": [
  {
   "cell_type": "markdown",
   "id": "3750fc7b",
   "metadata": {},
   "source": [
    "# Goal is to create a prepare.py that creates a dataframe which has valuable features, as well as, our target variable."
   ]
  },
  {
   "cell_type": "code",
   "execution_count": 2,
   "id": "1b8be7fc",
   "metadata": {},
   "outputs": [],
   "source": [
    "import os\n",
    "import pandas as pd\n",
    "import numpy as np\n",
    "\n",
    "import re\n",
    "import prepare as pr\n"
   ]
  },
  {
   "cell_type": "code",
   "execution_count": 3,
   "id": "c7aa516f",
   "metadata": {},
   "outputs": [],
   "source": [
    "# Importing my csv's, This is my referecne sheet\n",
    "standard = pd.read_csv('books_feat_on_NYBS').drop(columns = ['Unnamed: 0'])\n",
    "\n",
    "# This is the 'random' list of books from good reads\n",
    "gdrd = pd.read_csv('good-reads-books').drop(columns = ['Unnamed: 0'])"
   ]
  },
  {
   "cell_type": "markdown",
   "id": "8f0c1bca",
   "metadata": {},
   "source": [
    "# function"
   ]
  },
  {
   "cell_type": "markdown",
   "id": "a1998709",
   "metadata": {},
   "source": [
    "# Let's clean our titles"
   ]
  },
  {
   "cell_type": "markdown",
   "id": "5b683b05",
   "metadata": {},
   "source": [
    "## standard data frame"
   ]
  },
  {
   "cell_type": "code",
   "execution_count": 4,
   "id": "1992ff60",
   "metadata": {},
   "outputs": [
    {
     "data": {
      "text/html": [
       "<div>\n",
       "<style scoped>\n",
       "    .dataframe tbody tr th:only-of-type {\n",
       "        vertical-align: middle;\n",
       "    }\n",
       "\n",
       "    .dataframe tbody tr th {\n",
       "        vertical-align: top;\n",
       "    }\n",
       "\n",
       "    .dataframe thead th {\n",
       "        text-align: right;\n",
       "    }\n",
       "</style>\n",
       "<table border=\"1\" class=\"dataframe\">\n",
       "  <thead>\n",
       "    <tr style=\"text-align: right;\">\n",
       "      <th></th>\n",
       "      <th>Date</th>\n",
       "      <th>Book</th>\n",
       "      <th>Author</th>\n",
       "      <th>Month</th>\n",
       "      <th>clean_titles</th>\n",
       "    </tr>\n",
       "  </thead>\n",
       "  <tbody>\n",
       "    <tr>\n",
       "      <th>0</th>\n",
       "      <td>October 12 1931</td>\n",
       "      <td>The Ten Commandments</td>\n",
       "      <td>Warwick Deeping</td>\n",
       "      <td>January</td>\n",
       "      <td>the ten commandments</td>\n",
       "    </tr>\n",
       "  </tbody>\n",
       "</table>\n",
       "</div>"
      ],
      "text/plain": [
       "              Date                  Book           Author    Month  \\\n",
       "0  October 12 1931  The Ten Commandments  Warwick Deeping  January   \n",
       "\n",
       "           clean_titles  \n",
       "0  the ten commandments  "
      ]
     },
     "execution_count": 4,
     "metadata": {},
     "output_type": "execute_result"
    }
   ],
   "source": [
    "standard = pr.create_clean_words(standard, standard.Book)\n",
    "standard.head(1)"
   ]
  },
  {
   "cell_type": "code",
   "execution_count": 5,
   "id": "22226c6d",
   "metadata": {},
   "outputs": [
    {
     "data": {
      "text/html": [
       "<div>\n",
       "<style scoped>\n",
       "    .dataframe tbody tr th:only-of-type {\n",
       "        vertical-align: middle;\n",
       "    }\n",
       "\n",
       "    .dataframe tbody tr th {\n",
       "        vertical-align: top;\n",
       "    }\n",
       "\n",
       "    .dataframe thead th {\n",
       "        text-align: right;\n",
       "    }\n",
       "</style>\n",
       "<table border=\"1\" class=\"dataframe\">\n",
       "  <thead>\n",
       "    <tr style=\"text-align: right;\">\n",
       "      <th></th>\n",
       "      <th>title</th>\n",
       "      <th>summary</th>\n",
       "      <th>year_published</th>\n",
       "      <th>author</th>\n",
       "      <th>review_count</th>\n",
       "      <th>number_of_ratings</th>\n",
       "      <th>length</th>\n",
       "      <th>genre</th>\n",
       "      <th>rating</th>\n",
       "      <th>reviews</th>\n",
       "      <th>clean_titles</th>\n",
       "    </tr>\n",
       "  </thead>\n",
       "  <tbody>\n",
       "    <tr>\n",
       "      <th>0</th>\n",
       "      <td>Harry Potter and the Deathly Hallows</td>\n",
       "      <td>Harry has been burdened with a dark, dangerous...</td>\n",
       "      <td>2007</td>\n",
       "      <td>J.K. Rowling</td>\n",
       "      <td>78687</td>\n",
       "      <td>3437863</td>\n",
       "      <td>759</td>\n",
       "      <td>NaN</td>\n",
       "      <td>4.62</td>\n",
       "      <td>[\"Ok, before I start a few warnings. This will...</td>\n",
       "      <td>harry potter and the deathly hallows</td>\n",
       "    </tr>\n",
       "  </tbody>\n",
       "</table>\n",
       "</div>"
      ],
      "text/plain": [
       "                                  title  \\\n",
       "0  Harry Potter and the Deathly Hallows   \n",
       "\n",
       "                                             summary year_published  \\\n",
       "0  Harry has been burdened with a dark, dangerous...           2007   \n",
       "\n",
       "         author  review_count  number_of_ratings  length  genre  rating  \\\n",
       "0  J.K. Rowling         78687            3437863     759    NaN    4.62   \n",
       "\n",
       "                                             reviews  \\\n",
       "0  [\"Ok, before I start a few warnings. This will...   \n",
       "\n",
       "                           clean_titles  \n",
       "0  harry potter and the deathly hallows  "
      ]
     },
     "execution_count": 5,
     "metadata": {},
     "output_type": "execute_result"
    }
   ],
   "source": [
    "gdrd = pr.create_clean_words(gdrd, gdrd.title)\n",
    "gdrd.head(1)"
   ]
  },
  {
   "cell_type": "code",
   "execution_count": null,
   "id": "203d9bb1",
   "metadata": {},
   "outputs": [],
   "source": []
  },
  {
   "cell_type": "markdown",
   "id": "c2cc0255",
   "metadata": {},
   "source": [
    "# feature engineering the target"
   ]
  },
  {
   "cell_type": "code",
   "execution_count": 6,
   "id": "07ad7162",
   "metadata": {},
   "outputs": [],
   "source": [
    "# creating a reference series\n",
    "match_series = standard.clean_titles"
   ]
  },
  {
   "cell_type": "code",
   "execution_count": 7,
   "id": "19a33317",
   "metadata": {},
   "outputs": [],
   "source": [
    "df = pr.creat_tar(gdrd, match_series)"
   ]
  },
  {
   "cell_type": "code",
   "execution_count": 8,
   "id": "bebbad62",
   "metadata": {},
   "outputs": [
    {
     "data": {
      "text/plain": [
       "unsuccessful    726\n",
       "best seller     158\n",
       "Name: Target, dtype: int64"
      ]
     },
     "execution_count": 8,
     "metadata": {},
     "output_type": "execute_result"
    }
   ],
   "source": [
    "df.Target.value_counts()"
   ]
  },
  {
   "cell_type": "code",
   "execution_count": 12,
   "id": "46b4d9cb",
   "metadata": {},
   "outputs": [],
   "source": [
    "df.to_csv('target.csv')"
   ]
  },
  {
   "cell_type": "code",
   "execution_count": null,
   "id": "39ca6675",
   "metadata": {},
   "outputs": [],
   "source": []
  }
 ],
 "metadata": {
  "kernelspec": {
   "display_name": "Python 3 (ipykernel)",
   "language": "python",
   "name": "python3"
  },
  "language_info": {
   "codemirror_mode": {
    "name": "ipython",
    "version": 3
   },
   "file_extension": ".py",
   "mimetype": "text/x-python",
   "name": "python",
   "nbconvert_exporter": "python",
   "pygments_lexer": "ipython3",
   "version": "3.9.13"
  }
 },
 "nbformat": 4,
 "nbformat_minor": 5
}
