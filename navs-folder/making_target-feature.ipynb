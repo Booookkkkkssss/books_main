{
 "cells": [
  {
   "cell_type": "markdown",
   "id": "3750fc7b",
   "metadata": {},
   "source": [
    "# Goal is to create a prepare.py that creates a dataframe which has valuable features, as well as, our target variable."
   ]
  },
  {
   "cell_type": "code",
   "execution_count": 1,
   "id": "1b8be7fc",
   "metadata": {},
   "outputs": [],
   "source": [
    "import os\n",
    "import pandas as pd\n",
    "import numpy as np\n",
    "\n",
    "import re\n",
    "import prepare as pr\n"
   ]
  },
  {
   "cell_type": "code",
   "execution_count": 2,
   "id": "c7aa516f",
   "metadata": {},
   "outputs": [],
   "source": [
    "# Importing my csv's, This is my referecne sheet\n",
    "standard = pd.read_csv('fiction-and-non-fiction-top-best-sellers.csv').drop(columns = ['Unnamed: 0'])\n",
    "\n",
    "# This is the 'random' list of books from good reads\n",
    "gdrd = pd.read_csv('good-reads-books').drop(columns = ['Unnamed: 0'])"
   ]
  },
  {
   "cell_type": "markdown",
   "id": "8f0c1bca",
   "metadata": {},
   "source": [
    "# function"
   ]
  },
  {
   "cell_type": "markdown",
   "id": "a1998709",
   "metadata": {},
   "source": [
    "# Let's clean our titles"
   ]
  },
  {
   "cell_type": "markdown",
   "id": "5b683b05",
   "metadata": {},
   "source": [
    "## standard data frame"
   ]
  },
  {
   "cell_type": "code",
   "execution_count": 4,
   "id": "1992ff60",
   "metadata": {},
   "outputs": [],
   "source": [
    "# run the function in prepare, df and series of book titles\n",
    "standard = pr.create_clean_words(standard, standard.Book)\n",
    "standard.head(1)"
   ]
  },
  {
   "cell_type": "code",
   "execution_count": null,
   "id": "22226c6d",
   "metadata": {},
   "outputs": [],
   "source": [
    "# run the function in prepare, df and series of book titles\n",
    "gdrd = pr.create_clean_words(gdrd, gdrd.title)\n",
    "gdrd.head(1)"
   ]
  },
  {
   "cell_type": "markdown",
   "id": "c2cc0255",
   "metadata": {},
   "source": [
    "# feature engineering the target"
   ]
  },
  {
   "cell_type": "code",
   "execution_count": 6,
   "id": "07ad7162",
   "metadata": {},
   "outputs": [],
   "source": [
    "# creating a reference series\n",
    "match_series = standard.clean_titles"
   ]
  },
  {
   "cell_type": "code",
   "execution_count": 7,
   "id": "19a33317",
   "metadata": {},
   "outputs": [],
   "source": [
    "# save dataframe\n",
    "df = pr.creat_tar(gdrd, match_series)"
   ]
  },
  {
   "cell_type": "code",
   "execution_count": 8,
   "id": "bebbad62",
   "metadata": {},
   "outputs": [
    {
     "data": {
      "text/plain": [
       "unsuccessful    726\n",
       "best seller     158\n",
       "Name: Target, dtype: int64"
      ]
     },
     "execution_count": 8,
     "metadata": {},
     "output_type": "execute_result"
    }
   ],
   "source": [
    "# checking the values created.\n",
    "df.Target.value_counts()"
   ]
  },
  {
   "cell_type": "code",
   "execution_count": 12,
   "id": "46b4d9cb",
   "metadata": {},
   "outputs": [],
   "source": [
    "# save to csv\n",
    "df.to_csv('target.csv')"
   ]
  },
  {
   "cell_type": "code",
   "execution_count": null,
   "id": "39ca6675",
   "metadata": {},
   "outputs": [],
   "source": []
  }
 ],
 "metadata": {
  "kernelspec": {
   "display_name": "Python 3 (ipykernel)",
   "language": "python",
   "name": "python3"
  },
  "language_info": {
   "codemirror_mode": {
    "name": "ipython",
    "version": 3
   },
   "file_extension": ".py",
   "mimetype": "text/x-python",
   "name": "python",
   "nbconvert_exporter": "python",
   "pygments_lexer": "ipython3",
   "version": "3.9.13"
  }
 },
 "nbformat": 4,
 "nbformat_minor": 5
}
