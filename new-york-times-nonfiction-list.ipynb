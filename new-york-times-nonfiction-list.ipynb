{
 "cells": [
  {
   "cell_type": "code",
   "execution_count": 2,
   "id": "945deb94",
   "metadata": {},
   "outputs": [],
   "source": [
    "import pandas as pd \n",
    "import numpy as np \n",
    "\n",
    "import time\n",
    "import math\n",
    "\n"
   ]
  },
  {
   "cell_type": "code",
   "execution_count": 3,
   "id": "5af8c8e4",
   "metadata": {},
   "outputs": [],
   "source": [
    "root = \"https://en.wikipedia.org/wiki/The_New_York_Times_Nonfiction_Best_Sellers_of_\""
   ]
  },
  {
   "cell_type": "code",
   "execution_count": 4,
   "id": "41562ca7",
   "metadata": {},
   "outputs": [],
   "source": [
    "year_to_scrape = list(range(2000,2021))"
   ]
  },
  {
   "cell_type": "code",
   "execution_count": 6,
   "id": "19d0c092",
   "metadata": {},
   "outputs": [],
   "source": [
    "year_to_scrape.append(1931)"
   ]
  },
  {
   "cell_type": "code",
   "execution_count": 7,
   "id": "6735ac02",
   "metadata": {},
   "outputs": [],
   "source": [
    "year_to_scrape.sort()"
   ]
  },
  {
   "cell_type": "code",
   "execution_count": 10,
   "id": "4e129134",
   "metadata": {},
   "outputs": [
    {
     "data": {
      "text/plain": [
       "[1931, 1932, 2000, 2001, 2002]"
      ]
     },
     "execution_count": 10,
     "metadata": {},
     "output_type": "execute_result"
    }
   ],
   "source": [
    "year_to_scrape[:5]"
   ]
  },
  {
   "cell_type": "code",
   "execution_count": 11,
   "id": "21457894",
   "metadata": {},
   "outputs": [
    {
     "data": {
      "text/html": [
       "<div>\n",
       "<style scoped>\n",
       "    .dataframe tbody tr th:only-of-type {\n",
       "        vertical-align: middle;\n",
       "    }\n",
       "\n",
       "    .dataframe tbody tr th {\n",
       "        vertical-align: top;\n",
       "    }\n",
       "\n",
       "    .dataframe thead th {\n",
       "        text-align: right;\n",
       "    }\n",
       "</style>\n",
       "<table border=\"1\" class=\"dataframe\">\n",
       "  <thead>\n",
       "    <tr style=\"text-align: right;\">\n",
       "      <th></th>\n",
       "      <th>Date</th>\n",
       "      <th>Book</th>\n",
       "      <th>Author</th>\n",
       "    </tr>\n",
       "  </thead>\n",
       "  <tbody>\n",
       "    <tr>\n",
       "      <th>0</th>\n",
       "      <td>October 12</td>\n",
       "      <td>Ellen Terry and Bernard Shaw: A Correspondence</td>\n",
       "      <td>Ellen Terry and Bernard Shaw</td>\n",
       "    </tr>\n",
       "    <tr>\n",
       "      <th>1</th>\n",
       "      <td>October 19</td>\n",
       "      <td>No List Published</td>\n",
       "      <td>No List Published</td>\n",
       "    </tr>\n",
       "    <tr>\n",
       "      <th>2</th>\n",
       "      <td>October 26</td>\n",
       "      <td>No List Published</td>\n",
       "      <td>No List Published</td>\n",
       "    </tr>\n",
       "    <tr>\n",
       "      <th>3</th>\n",
       "      <td>November 2</td>\n",
       "      <td>No List Published</td>\n",
       "      <td>No List Published</td>\n",
       "    </tr>\n",
       "    <tr>\n",
       "      <th>4</th>\n",
       "      <td>November 9</td>\n",
       "      <td>No List Published</td>\n",
       "      <td>No List Published</td>\n",
       "    </tr>\n",
       "    <tr>\n",
       "      <th>5</th>\n",
       "      <td>November 16</td>\n",
       "      <td>Ellen Terry and Bernard Shaw: A Correspondence</td>\n",
       "      <td>Ellen Terry and Bernard Shaw</td>\n",
       "    </tr>\n",
       "    <tr>\n",
       "      <th>6</th>\n",
       "      <td>November 23</td>\n",
       "      <td>No List Published</td>\n",
       "      <td>No List Published</td>\n",
       "    </tr>\n",
       "    <tr>\n",
       "      <th>7</th>\n",
       "      <td>November 30</td>\n",
       "      <td>Washington Merry-Go-Round</td>\n",
       "      <td>Anonymous. (Drew Pearson and Robert S. Allen .)</td>\n",
       "    </tr>\n",
       "    <tr>\n",
       "      <th>8</th>\n",
       "      <td>December 7</td>\n",
       "      <td>Bernard Shaw</td>\n",
       "      <td>Frank Harris</td>\n",
       "    </tr>\n",
       "    <tr>\n",
       "      <th>9</th>\n",
       "      <td>December 14</td>\n",
       "      <td>The Epic of America</td>\n",
       "      <td>James Truslow Adams</td>\n",
       "    </tr>\n",
       "    <tr>\n",
       "      <th>10</th>\n",
       "      <td>December 21</td>\n",
       "      <td>Mourning Becomes Electra</td>\n",
       "      <td>Eugene O’Neill</td>\n",
       "    </tr>\n",
       "    <tr>\n",
       "      <th>11</th>\n",
       "      <td>December 28</td>\n",
       "      <td>The Epic of America</td>\n",
       "      <td>James Truslow Adams</td>\n",
       "    </tr>\n",
       "  </tbody>\n",
       "</table>\n",
       "</div>"
      ],
      "text/plain": [
       "           Date                                            Book  \\\n",
       "0    October 12  Ellen Terry and Bernard Shaw: A Correspondence   \n",
       "1    October 19                               No List Published   \n",
       "2    October 26                               No List Published   \n",
       "3    November 2                               No List Published   \n",
       "4    November 9                               No List Published   \n",
       "5   November 16  Ellen Terry and Bernard Shaw: A Correspondence   \n",
       "6   November 23                               No List Published   \n",
       "7   November 30                       Washington Merry-Go-Round   \n",
       "8    December 7                                    Bernard Shaw   \n",
       "9   December 14                             The Epic of America   \n",
       "10  December 21                        Mourning Becomes Electra   \n",
       "11  December 28                             The Epic of America   \n",
       "\n",
       "                                             Author  \n",
       "0                      Ellen Terry and Bernard Shaw  \n",
       "1                                 No List Published  \n",
       "2                                 No List Published  \n",
       "3                                 No List Published  \n",
       "4                                 No List Published  \n",
       "5                      Ellen Terry and Bernard Shaw  \n",
       "6                                 No List Published  \n",
       "7   Anonymous. (Drew Pearson and Robert S. Allen .)  \n",
       "8                                      Frank Harris  \n",
       "9                               James Truslow Adams  \n",
       "10                                   Eugene O’Neill  \n",
       "11                              James Truslow Adams  "
      ]
     },
     "execution_count": 11,
     "metadata": {},
     "output_type": "execute_result"
    }
   ],
   "source": [
    "pd.read_html(\"https://en.wikipedia.org/wiki/The_New_York_Times_Nonfiction_Best_Sellers_of_1931\")[0]"
   ]
  },
  {
   "cell_type": "code",
   "execution_count": 12,
   "id": "5350d8e4",
   "metadata": {},
   "outputs": [
    {
     "name": "stdout",
     "output_type": "stream",
     "text": [
      "1931\n",
      "\n",
      "\n",
      "1932\n",
      "\n",
      "\n",
      "2000\n",
      "\n",
      "\n",
      "2001\n",
      "\n",
      "\n",
      "2002\n",
      "\n",
      "\n",
      "2003\n",
      "\n",
      "\n",
      "2004\n",
      "\n",
      "\n",
      "2005\n",
      "\n",
      "\n",
      "2006\n",
      "\n",
      "\n",
      "2007\n",
      "\n",
      "\n",
      "2008\n",
      "\n",
      "\n",
      "2009\n",
      "\n",
      "\n",
      "2010\n",
      "\n",
      "\n",
      "2011\n",
      "\n",
      "\n",
      "2012\n",
      "\n",
      "\n",
      "2013\n",
      "\n",
      "\n",
      "2014\n",
      "\n",
      "\n",
      "2015\n",
      "\n",
      "\n",
      "2016\n",
      "\n",
      "\n",
      "2017\n",
      "\n",
      "\n",
      "2018\n",
      "\n",
      "\n",
      "2019\n",
      "\n",
      "\n",
      "2020\n",
      "\n",
      "\n"
     ]
    }
   ],
   "source": [
    "all_books = pd.DataFrame()\n",
    "for i in year_to_scrape:\n",
    "    url = f'{root}{i}'\n",
    "    tables = pd.read_html(url)\n",
    "    if i == 1931 or i == 1932:\n",
    "        df = tables[0]\n",
    "    else:\n",
    "        df = tables[1]\n",
    "    \n",
    "    df['Date'] = df['Date'].apply(lambda x: str(x) + f' {i}')\n",
    "    all_books = pd.concat([all_books, df], ignore_index=True)\n",
    "    time.sleep(1)\n",
    "    print(i)\n",
    "    print('\\n')"
   ]
  },
  {
   "cell_type": "code",
   "execution_count": 15,
   "id": "6073ca78",
   "metadata": {},
   "outputs": [],
   "source": [
    "non_fict = all_books.copy()"
   ]
  },
  {
   "cell_type": "code",
   "execution_count": 89,
   "id": "ec6015e1",
   "metadata": {},
   "outputs": [],
   "source": [
    "#non_fict = all_books.copy().to_csv('all-non-fiction-top-best-sellers1931-2020')"
   ]
  },
  {
   "cell_type": "code",
   "execution_count": 142,
   "id": "21d02c6b",
   "metadata": {},
   "outputs": [],
   "source": [
    "#all_books = all_books.drop_duplicates(subset = [\"Book\", 'Author'], keep = \"last\")"
   ]
  },
  {
   "cell_type": "code",
   "execution_count": 137,
   "id": "9b4539c8",
   "metadata": {},
   "outputs": [
    {
     "name": "stderr",
     "output_type": "stream",
     "text": [
      "/var/folders/d0/5dr5q0n145vcn3_m9dxy1xq80000gn/T/ipykernel_53251/998546262.py:1: SettingWithCopyWarning: \n",
      "A value is trying to be set on a copy of a slice from a DataFrame\n",
      "\n",
      "See the caveats in the documentation: https://pandas.pydata.org/pandas-docs/stable/user_guide/indexing.html#returning-a-view-versus-a-copy\n",
      "  all_books.drop(columns= 'Date',inplace= True)\n"
     ]
    }
   ],
   "source": [
    "#all_books.drop(columns= 'Date',inplace= True)"
   ]
  },
  {
   "cell_type": "code",
   "execution_count": 143,
   "id": "8019597d",
   "metadata": {},
   "outputs": [],
   "source": [
    "#all_books.to_csv('unique-non-ficiton-best-sellers.csv')"
   ]
  },
  {
   "cell_type": "code",
   "execution_count": null,
   "id": "a39572a7",
   "metadata": {},
   "outputs": [],
   "source": []
  },
  {
   "cell_type": "code",
   "execution_count": 147,
   "id": "44b0012b",
   "metadata": {},
   "outputs": [],
   "source": [
    "#fict = pd.read_csv('books_feat_on_NYBS',index_col= 0)"
   ]
  },
  {
   "cell_type": "code",
   "execution_count": 150,
   "id": "ee50beee",
   "metadata": {},
   "outputs": [
    {
     "data": {
      "text/html": [
       "<div>\n",
       "<style scoped>\n",
       "    .dataframe tbody tr th:only-of-type {\n",
       "        vertical-align: middle;\n",
       "    }\n",
       "\n",
       "    .dataframe tbody tr th {\n",
       "        vertical-align: top;\n",
       "    }\n",
       "\n",
       "    .dataframe thead th {\n",
       "        text-align: right;\n",
       "    }\n",
       "</style>\n",
       "<table border=\"1\" class=\"dataframe\">\n",
       "  <thead>\n",
       "    <tr style=\"text-align: right;\">\n",
       "      <th></th>\n",
       "      <th>Date</th>\n",
       "      <th>Book</th>\n",
       "      <th>Author</th>\n",
       "      <th>Publisher</th>\n",
       "    </tr>\n",
       "  </thead>\n",
       "  <tbody>\n",
       "    <tr>\n",
       "      <th>5</th>\n",
       "      <td>November 16 1931</td>\n",
       "      <td>Ellen Terry and Bernard Shaw: A Correspondence</td>\n",
       "      <td>Ellen Terry and Bernard Shaw</td>\n",
       "      <td>NaN</td>\n",
       "    </tr>\n",
       "    <tr>\n",
       "      <th>6</th>\n",
       "      <td>November 23 1931</td>\n",
       "      <td>No List Published</td>\n",
       "      <td>No List Published</td>\n",
       "      <td>NaN</td>\n",
       "    </tr>\n",
       "    <tr>\n",
       "      <th>7</th>\n",
       "      <td>November 30 1931</td>\n",
       "      <td>Washington Merry-Go-Round</td>\n",
       "      <td>Anonymous. (Drew Pearson and Robert S. Allen .)</td>\n",
       "      <td>NaN</td>\n",
       "    </tr>\n",
       "    <tr>\n",
       "      <th>8</th>\n",
       "      <td>December 7 1931</td>\n",
       "      <td>Bernard Shaw</td>\n",
       "      <td>Frank Harris</td>\n",
       "      <td>NaN</td>\n",
       "    </tr>\n",
       "    <tr>\n",
       "      <th>10</th>\n",
       "      <td>December 21 1931</td>\n",
       "      <td>Mourning Becomes Electra</td>\n",
       "      <td>Eugene O’Neill</td>\n",
       "      <td>NaN</td>\n",
       "    </tr>\n",
       "  </tbody>\n",
       "</table>\n",
       "</div>"
      ],
      "text/plain": [
       "                Date                                            Book  \\\n",
       "5   November 16 1931  Ellen Terry and Bernard Shaw: A Correspondence   \n",
       "6   November 23 1931                               No List Published   \n",
       "7   November 30 1931                       Washington Merry-Go-Round   \n",
       "8    December 7 1931                                    Bernard Shaw   \n",
       "10  December 21 1931                        Mourning Becomes Electra   \n",
       "\n",
       "                                             Author Publisher  \n",
       "5                      Ellen Terry and Bernard Shaw       NaN  \n",
       "6                                 No List Published       NaN  \n",
       "7   Anonymous. (Drew Pearson and Robert S. Allen .)       NaN  \n",
       "8                                      Frank Harris       NaN  \n",
       "10                                   Eugene O’Neill       NaN  "
      ]
     },
     "execution_count": 150,
     "metadata": {},
     "output_type": "execute_result"
    }
   ],
   "source": [
    "#all_books.head()"
   ]
  },
  {
   "cell_type": "code",
   "execution_count": 153,
   "id": "1fc5d2f8",
   "metadata": {},
   "outputs": [],
   "source": [
    "fict = fict.drop(columns= 'Month')"
   ]
  },
  {
   "cell_type": "code",
   "execution_count": 155,
   "id": "c39396cd",
   "metadata": {},
   "outputs": [],
   "source": [
    "fict['Publisher'] = 'unknown'"
   ]
  },
  {
   "cell_type": "code",
   "execution_count": 159,
   "id": "9b480eef",
   "metadata": {},
   "outputs": [],
   "source": [
    "fict_and_non_fict = pd.concat([fict,all_books])"
   ]
  },
  {
   "cell_type": "code",
   "execution_count": 174,
   "id": "b609ff4f",
   "metadata": {},
   "outputs": [],
   "source": [
    "check = fict_and_non_fict.Book.value_counts()[fict_and_non_fict.Book.value_counts() == 2].index.tolist()"
   ]
  },
  {
   "cell_type": "code",
   "execution_count": 183,
   "id": "349034d7",
   "metadata": {},
   "outputs": [],
   "source": [
    "fict_and_non_fict.to_csv('all-fiction-and-non-fiction-top-best-sellers.csv')"
   ]
  },
  {
   "cell_type": "code",
   "execution_count": 188,
   "id": "06ede60e",
   "metadata": {},
   "outputs": [],
   "source": [
    "fict_and_non_fict = fict_and_non_fict.reset_index()"
   ]
  },
  {
   "cell_type": "code",
   "execution_count": 191,
   "id": "a75a84e8",
   "metadata": {},
   "outputs": [],
   "source": [
    "fict_and_non_fict= fict_and_non_fict.drop(columns= 'index')"
   ]
  },
  {
   "cell_type": "code",
   "execution_count": 194,
   "id": "8d61385c",
   "metadata": {},
   "outputs": [],
   "source": [
    "fict_and_non_fict.to_csv('fiction-and-non-fiction-top-best-sellers.csv')"
   ]
  },
  {
   "cell_type": "code",
   "execution_count": 1,
   "id": "3c006666",
   "metadata": {},
   "outputs": [
    {
     "ename": "NameError",
     "evalue": "name 'fict_and_non_fict' is not defined",
     "output_type": "error",
     "traceback": [
      "\u001b[0;31m---------------------------------------------------------------------------\u001b[0m",
      "\u001b[0;31mNameError\u001b[0m                                 Traceback (most recent call last)",
      "\u001b[0;32m/var/folders/d0/5dr5q0n145vcn3_m9dxy1xq80000gn/T/ipykernel_58734/1717264847.py\u001b[0m in \u001b[0;36m<module>\u001b[0;34m\u001b[0m\n\u001b[0;32m----> 1\u001b[0;31m \u001b[0mfict_and_non_fict\u001b[0m\u001b[0;34m\u001b[0m\u001b[0;34m\u001b[0m\u001b[0m\n\u001b[0m",
      "\u001b[0;31mNameError\u001b[0m: name 'fict_and_non_fict' is not defined"
     ]
    }
   ],
   "source": [
    "fict_and_non_fict"
   ]
  },
  {
   "cell_type": "code",
   "execution_count": null,
   "id": "7831f4df",
   "metadata": {},
   "outputs": [],
   "source": []
  }
 ],
 "metadata": {
  "kernelspec": {
   "display_name": "Python 3 (ipykernel)",
   "language": "python",
   "name": "python3"
  },
  "language_info": {
   "codemirror_mode": {
    "name": "ipython",
    "version": 3
   },
   "file_extension": ".py",
   "mimetype": "text/x-python",
   "name": "python",
   "nbconvert_exporter": "python",
   "pygments_lexer": "ipython3",
   "version": "3.9.13"
  }
 },
 "nbformat": 4,
 "nbformat_minor": 5
}
