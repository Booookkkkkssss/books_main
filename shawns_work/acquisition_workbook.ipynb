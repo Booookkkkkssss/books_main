{
 "cells": [
  {
   "cell_type": "code",
   "execution_count": 2,
   "id": "8a0507cc-012d-49ec-ae0a-88088ddab247",
   "metadata": {},
   "outputs": [],
   "source": [
    "import pandas as pd\n",
    "import os\n",
    "import time\n",
    "import csv\n",
    "import re\n",
    "import codecs\n",
    "import requests\n",
    "from bs4 import BeautifulSoup\n",
    " \n",
    "import datetime\n",
    "    \n",
    "from selenium import webdriver\n",
    "from selenium.webdriver.common.by import By\n",
    "from selenium.webdriver.support.ui import WebDriverWait\n",
    "from selenium.webdriver.support import expected_conditions as EC\n",
    "from selenium.webdriver.common.keys import Keys\n",
    "from selenium.common.exceptions import NoSuchElementException, \\\n",
    "        TimeoutException, ElementNotInteractableException, ElementClickInterceptedException\n",
    "\n",
    "import warnings\n",
    "warnings.filterwarnings(\"ignore\")"
   ]
  },
  {
   "cell_type": "code",
   "execution_count": null,
   "id": "366a8c35-1ecb-4d9d-9d35-7b24b637763a",
   "metadata": {},
   "outputs": [],
   "source": [
    "url = f'https://www.goodreads.com/list/show/7.Best_Books_of_the_21st_Century?page=1'\n",
    "\n",
    "response = requests.get(url)"
   ]
  },
  {
   "cell_type": "code",
   "execution_count": null,
   "id": "ad166445-8c6c-48c3-b1d2-69997928bd26",
   "metadata": {
    "tags": []
   },
   "outputs": [],
   "source": [
    "soup = BeautifulSoup(response.content, 'html.parser')\n",
    "soup"
   ]
  },
  {
   "cell_type": "code",
   "execution_count": null,
   "id": "34d207b0-2587-41b8-91f6-d1b8eebc463c",
   "metadata": {
    "tags": []
   },
   "outputs": [],
   "source": [
    "page1 = soup.find_all('a', class_='bookTitle')"
   ]
  },
  {
   "cell_type": "code",
   "execution_count": null,
   "id": "73d0019f-6f37-44de-affc-b98974fe9e41",
   "metadata": {
    "tags": []
   },
   "outputs": [],
   "source": [
    "page1"
   ]
  },
  {
   "cell_type": "code",
   "execution_count": null,
   "id": "cd78bfc1-956c-4553-9523-481a1efb72ab",
   "metadata": {
    "tags": []
   },
   "outputs": [],
   "source": [
    "test = page1[0]['href']"
   ]
  },
  {
   "cell_type": "code",
   "execution_count": null,
   "id": "98727d76-77a7-462f-91a8-d99b44a47288",
   "metadata": {},
   "outputs": [],
   "source": [
    "test"
   ]
  },
  {
   "cell_type": "code",
   "execution_count": null,
   "id": "1dc3ab82-9729-4c6f-8c04-aa4d7b5051e1",
   "metadata": {},
   "outputs": [],
   "source": [
    "re.search(r'\\d.*', test)"
   ]
  },
  {
   "cell_type": "code",
   "execution_count": null,
   "id": "901bbdae-de93-452a-9637-9be5bd1e685f",
   "metadata": {},
   "outputs": [],
   "source": [
    "len(page1)"
   ]
  },
  {
   "cell_type": "code",
   "execution_count": null,
   "id": "b7814832-3232-474a-8578-af5002f67227",
   "metadata": {},
   "outputs": [],
   "source": [
    "book_ids = []\n",
    "\n",
    "for i in range(0, len(page1)):\n",
    "    \n",
    "    href = page1[i]['href']\n",
    "               \n",
    "    book_ids.append(re.findall(r'\\d.*', href))"
   ]
  },
  {
   "cell_type": "code",
   "execution_count": null,
   "id": "ce64b047-1ed1-471a-909e-5e54ad7750d8",
   "metadata": {
    "tags": []
   },
   "outputs": [],
   "source": [
    "book_ids"
   ]
  },
  {
   "cell_type": "code",
   "execution_count": null,
   "id": "5481f649-17df-429f-b269-5a43b99e7112",
   "metadata": {
    "tags": []
   },
   "outputs": [],
   "source": [
    "books = []\n",
    "\n",
    "for i in range(1, 51):\n",
    "    \n",
    "    url = f'https://www.goodreads.com/list/show/7.Best_Books_of_the_21st_Century?page={i}'\n",
    "\n",
    "    response = requests.get(url)\n",
    "    \n",
    "    soup = BeautifulSoup(response.content, 'html.parser')\n",
    "\n",
    "    page = soup.find_all('a', class_='bookTitle')\n",
    "    \n",
    "    print(response.status_code)\n",
    "    \n",
    "    for i in range(0, len(page)):\n",
    "    \n",
    "        href = page[i]['href']\n",
    "               \n",
    "        books.append(re.findall(r'\\d.*', href))\n",
    "        \n",
    "    time.sleep(3)"
   ]
  },
  {
   "cell_type": "code",
   "execution_count": null,
   "id": "4fad2061-ba2e-4354-bcca-c2aa57e10f51",
   "metadata": {
    "tags": []
   },
   "outputs": [],
   "source": [
    "books"
   ]
  },
  {
   "cell_type": "code",
   "execution_count": null,
   "id": "2e8091f4-2ff7-4216-97fc-f4185015278c",
   "metadata": {},
   "outputs": [],
   "source": [
    "books_5000_list = []\n",
    "\n",
    "#url = 'https://www.goodreads.com/book/show/' + book_id\n",
    "\n",
    "\n",
    "for i in range(len(books)):\n",
    "    \n",
    "    book = books[i][0]\n",
    "    \n",
    "    books_5000_list.append(book)"
   ]
  },
  {
   "cell_type": "code",
   "execution_count": null,
   "id": "dac195a5-757d-4662-a802-f370541d3c96",
   "metadata": {
    "tags": []
   },
   "outputs": [],
   "source": [
    "books_5000_list"
   ]
  },
  {
   "cell_type": "code",
   "execution_count": null,
   "id": "594488b4-03bd-430f-bf2c-1de3bec9698e",
   "metadata": {
    "tags": []
   },
   "outputs": [],
   "source": [
    "len(books_5000_list)"
   ]
  },
  {
   "cell_type": "code",
   "execution_count": null,
   "id": "1b9ecd21-6da1-4f97-984e-a0fff55156a4",
   "metadata": {},
   "outputs": [],
   "source": [
    "books_2000 = books[0:2000]"
   ]
  },
  {
   "cell_type": "code",
   "execution_count": null,
   "id": "cd228015-c7b3-4c80-97bf-f19327dadf20",
   "metadata": {},
   "outputs": [],
   "source": [
    "len(books_2000)"
   ]
  },
  {
   "cell_type": "code",
   "execution_count": null,
   "id": "ffeeaa5e-5946-4c8b-9978-262eb0e02e92",
   "metadata": {
    "tags": []
   },
   "outputs": [],
   "source": [
    "books_2000"
   ]
  },
  {
   "cell_type": "code",
   "execution_count": null,
   "id": "306244d5-d955-4dcd-a5e9-c26bc78fbb93",
   "metadata": {},
   "outputs": [],
   "source": [
    "books_2000_list = []\n",
    "\n",
    "#url = 'https://www.goodreads.com/book/show/' + book_id\n",
    "\n",
    "\n",
    "for i in range(len(books_2000)):\n",
    "    \n",
    "    book = books[i][0]\n",
    "    \n",
    "    books_2000_list.append(book)"
   ]
  },
  {
   "cell_type": "code",
   "execution_count": null,
   "id": "b9f8c6ff-0649-44da-8307-f46848549730",
   "metadata": {},
   "outputs": [],
   "source": [
    "len(books_2000_list)"
   ]
  },
  {
   "cell_type": "code",
   "execution_count": null,
   "id": "15532e11-0ebb-4dd3-a703-cfd244ccf9a4",
   "metadata": {},
   "outputs": [],
   "source": [
    "with open(\"5000_book_ids.txt\", \"w\") as output:\n",
    "#    output.write(str(book_list))\n",
    "    for i in books_5000_list:\n",
    "        output.write(i + '\\n')"
   ]
  },
  {
   "cell_type": "code",
   "execution_count": null,
   "id": "53b1c6f1-b6cd-4c72-a7ac-384ac74c37ac",
   "metadata": {},
   "outputs": [],
   "source": [
    "with open(\"2000_book_ids.txt\", \"w\") as output:\n",
    "#    output.write(str(book_list))\n",
    "    for i in books_2000_list:\n",
    "        output.write(i + '\\n')"
   ]
  },
  {
   "cell_type": "markdown",
   "id": "74d1aa34-8992-4d6d-aedc-6c0eb9998d98",
   "metadata": {},
   "source": [
    "## running through gathering all of the data for one book"
   ]
  },
  {
   "cell_type": "code",
   "execution_count": null,
   "id": "19b7d2d5-b016-469d-a21c-cd9fbbd2101a",
   "metadata": {},
   "outputs": [],
   "source": [
    "base = 'https://www.goodreads.com/book/show/'\n",
    "\n",
    "df = pd.read_csv('2000_book_ids.txt', header= None, names = ['book_tag'])\n",
    "\n",
    "practice = base +  df['book_tag'][0]\n",
    "practice"
   ]
  },
  {
   "cell_type": "code",
   "execution_count": null,
   "id": "19ab05e3-2a8d-4fae-a325-fed5b85bc556",
   "metadata": {},
   "outputs": [],
   "source": [
    "response = requests.get(practice)\n",
    "\n",
    "soup = BeautifulSoup(response.content, 'html.parser')"
   ]
  },
  {
   "cell_type": "code",
   "execution_count": null,
   "id": "2a020c6e-4a3d-448a-aca3-7a3102fadbab",
   "metadata": {},
   "outputs": [],
   "source": [
    "collect = pd.DataFrame(columns = ['title','summary','year_published','author','review_count',\n",
    "                                  'number_of_ratings','length','genre','rating','list','reviews'])"
   ]
  },
  {
   "cell_type": "markdown",
   "id": "2afb0f49-8cc5-4b92-825c-50c544c563ca",
   "metadata": {},
   "source": [
    "## getting the title"
   ]
  },
  {
   "cell_type": "code",
   "execution_count": null,
   "id": "061874c3-06d1-4ee6-bd43-98595e8dbf4e",
   "metadata": {},
   "outputs": [],
   "source": [
    "soup.find('h1', attrs={'class': 'Text Text__title1'})"
   ]
  },
  {
   "cell_type": "code",
   "execution_count": null,
   "id": "aae261df-6cd8-4f85-bcda-648d81daa62b",
   "metadata": {},
   "outputs": [],
   "source": [
    "title_tag = soup.find('h1', attrs={'class': 'Text Text__title1'})"
   ]
  },
  {
   "cell_type": "code",
   "execution_count": null,
   "id": "a3d10fcb-124f-42d8-b035-b40651006606",
   "metadata": {},
   "outputs": [],
   "source": [
    "title_tag['aria-label'].split(': ')[1]"
   ]
  },
  {
   "cell_type": "code",
   "execution_count": null,
   "id": "cf524a11-1f6c-4f5c-8542-f03c38168d59",
   "metadata": {},
   "outputs": [],
   "source": [
    "title = title_tag['aria-label'].split(': ')[1]"
   ]
  },
  {
   "cell_type": "code",
   "execution_count": null,
   "id": "166ed3a7-25a3-4af0-bb67-4cf2f9b02313",
   "metadata": {},
   "outputs": [],
   "source": [
    "collect.loc[0, 'title'] = title"
   ]
  },
  {
   "cell_type": "markdown",
   "id": "85b48a51-dae1-4bbf-ae40-78ad71d64494",
   "metadata": {},
   "source": [
    "## getting the author"
   ]
  },
  {
   "cell_type": "code",
   "execution_count": null,
   "id": "2e5400a2-a3c7-4af1-a904-ea672a40bba9",
   "metadata": {},
   "outputs": [],
   "source": [
    "soup.find('span', class_ = \"ContributorLink__name\")"
   ]
  },
  {
   "cell_type": "code",
   "execution_count": null,
   "id": "6d6f4006-5031-4812-9917-b2e0cdf11980",
   "metadata": {},
   "outputs": [],
   "source": [
    "soup.find('span', class_ = \"ContributorLink__name\").text"
   ]
  },
  {
   "cell_type": "code",
   "execution_count": null,
   "id": "9c05351b-a4d9-498d-bdcf-0a1006a518aa",
   "metadata": {},
   "outputs": [],
   "source": [
    "author = soup.find('span', class_ = \"ContributorLink__name\").text"
   ]
  },
  {
   "cell_type": "code",
   "execution_count": null,
   "id": "0f2b70b9-5f7f-4645-8f51-5fa6d915dde6",
   "metadata": {},
   "outputs": [],
   "source": [
    "collect.loc[0, 'author'] = author"
   ]
  },
  {
   "cell_type": "markdown",
   "id": "0b58109e-9b0d-42cf-9c2b-f059835b84bc",
   "metadata": {},
   "source": [
    "## average rating"
   ]
  },
  {
   "cell_type": "code",
   "execution_count": null,
   "id": "dacd3316-fe4c-4698-a29b-8d83667c7d46",
   "metadata": {},
   "outputs": [],
   "source": [
    "soup.find_all('div', class_= 'RatingStatistics__rating')"
   ]
  },
  {
   "cell_type": "code",
   "execution_count": null,
   "id": "696e6b43-2fc3-4c89-87fe-b3af6afb65af",
   "metadata": {},
   "outputs": [],
   "source": [
    "soup.find_all('div', class_= 'RatingStatistics__rating')[0].text"
   ]
  },
  {
   "cell_type": "code",
   "execution_count": null,
   "id": "d603aa32-c7c9-478b-ac28-75ab282785d7",
   "metadata": {},
   "outputs": [],
   "source": [
    "rating = soup.find_all('div', class_= 'RatingStatistics__rating')[0].text"
   ]
  },
  {
   "cell_type": "code",
   "execution_count": null,
   "id": "c50d4641-d630-4f35-baa3-d27eb890f8d1",
   "metadata": {},
   "outputs": [],
   "source": [
    "collect.loc[0, 'rating'] = rating"
   ]
  },
  {
   "cell_type": "markdown",
   "id": "95b943ff-db94-4bbc-a201-77d1bf27e0b9",
   "metadata": {},
   "source": [
    "## num of reviews and ratings"
   ]
  },
  {
   "cell_type": "code",
   "execution_count": null,
   "id": "eab73824-5905-4c63-8d2c-b342fcb89467",
   "metadata": {},
   "outputs": [],
   "source": [
    "soup.find_all('div', class_ = \"RatingStatistics__meta\")"
   ]
  },
  {
   "cell_type": "code",
   "execution_count": null,
   "id": "2434a063-fa77-42a9-b3a0-44af64ebb012",
   "metadata": {},
   "outputs": [],
   "source": [
    "stats = soup.find_all('div', class_ = \"RatingStatistics__meta\")"
   ]
  },
  {
   "cell_type": "code",
   "execution_count": null,
   "id": "3f2b30de-6743-4d67-9f8d-2e3f7d8169fc",
   "metadata": {},
   "outputs": [],
   "source": [
    "rating_span = soup.find('span', {'data-testid': 'ratingsCount'})\n",
    "review_span = soup.find('span', {'data-testid': 'reviewsCount'})"
   ]
  },
  {
   "cell_type": "code",
   "execution_count": null,
   "id": "b47aedb5-9fe6-41b2-aee9-a2f096c6272d",
   "metadata": {},
   "outputs": [],
   "source": [
    "rating_text = rating_span.text.strip()\n",
    "review_text = review_span.text.strip()\n",
    "\n",
    "rating_text, review_text"
   ]
  },
  {
   "cell_type": "code",
   "execution_count": null,
   "id": "805cfb7f-3a9e-453c-82bd-06ab600931da",
   "metadata": {},
   "outputs": [],
   "source": [
    "rating_text = re.sub('[^0-9]', '', rating_text)\n",
    "review_text = re.sub('[^0-9]', '', review_text)\n",
    "rating_text , review_text"
   ]
  },
  {
   "cell_type": "code",
   "execution_count": null,
   "id": "b123acb0-533e-4bcf-823e-7632a70c97b8",
   "metadata": {},
   "outputs": [],
   "source": [
    "collect.loc[0, 'review_count'] = review_text"
   ]
  },
  {
   "cell_type": "code",
   "execution_count": null,
   "id": "0b9b3f1d-d18c-44d7-9db4-7ed77a67d565",
   "metadata": {},
   "outputs": [],
   "source": [
    "collect.loc[0, 'number_of_ratings'] = rating_text"
   ]
  },
  {
   "cell_type": "code",
   "execution_count": null,
   "id": "b4fafbd9-7e85-474f-8b6a-051e178fcf40",
   "metadata": {},
   "outputs": [],
   "source": [
    "collect"
   ]
  },
  {
   "cell_type": "code",
   "execution_count": null,
   "id": "6b17a24f-989d-48d5-b801-391b9739cef3",
   "metadata": {},
   "outputs": [],
   "source": [
    "#collect = collect.drop(columns='rating_text')"
   ]
  },
  {
   "cell_type": "markdown",
   "id": "382f18a4-d1d5-49a3-81e4-c741338a41ee",
   "metadata": {},
   "source": [
    "## summary"
   ]
  },
  {
   "cell_type": "code",
   "execution_count": null,
   "id": "7f2ab2d9-c2fd-48d5-b921-f6686495a99a",
   "metadata": {
    "tags": []
   },
   "outputs": [],
   "source": [
    "soup.find_all('span', class_ = \"Formatted\")"
   ]
  },
  {
   "cell_type": "code",
   "execution_count": null,
   "id": "3427542c-ea2b-4ee6-82a2-1d5c458ef155",
   "metadata": {},
   "outputs": [],
   "source": [
    "summary = soup.find_all('span', class_ = \"Formatted\")[0].text"
   ]
  },
  {
   "cell_type": "code",
   "execution_count": null,
   "id": "f2e3ee0b-0922-460b-a388-6254e0bdfcd9",
   "metadata": {},
   "outputs": [],
   "source": [
    "collect.loc[0, 'summary'] = summary"
   ]
  },
  {
   "cell_type": "code",
   "execution_count": null,
   "id": "9d9ac623-a2c8-4e3e-9a34-3d0390a3f0e2",
   "metadata": {},
   "outputs": [],
   "source": [
    "collect"
   ]
  },
  {
   "cell_type": "markdown",
   "id": "319c0cd5-40eb-4b49-ade0-b7ea33b19fc9",
   "metadata": {},
   "source": [
    "## genre"
   ]
  },
  {
   "cell_type": "code",
   "execution_count": null,
   "id": "6ab93b65-a8f4-4ade-b43d-dc2ba919ff72",
   "metadata": {},
   "outputs": [],
   "source": [
    "soup.find('a', class_='Button Button--tag-inline Button--small')"
   ]
  },
  {
   "cell_type": "code",
   "execution_count": null,
   "id": "0b4155cc-de2a-4f10-919f-c8c88ee369af",
   "metadata": {},
   "outputs": [],
   "source": [
    "soup.find('a', {'class': 'Button Button--tag-inline Button--small'}).get_text()"
   ]
  },
  {
   "cell_type": "code",
   "execution_count": null,
   "id": "d3aadd02-806c-4e2c-a887-ed3df0255fcf",
   "metadata": {},
   "outputs": [],
   "source": [
    "genre = soup.find('a', {'class': 'Button Button--tag-inline Button--small'}).get_text()"
   ]
  },
  {
   "cell_type": "code",
   "execution_count": null,
   "id": "12e44e4a-0da2-446c-aa44-cc8a5eba1776",
   "metadata": {},
   "outputs": [],
   "source": [
    "genre"
   ]
  },
  {
   "cell_type": "code",
   "execution_count": null,
   "id": "5cb0831a-16ef-4e22-a315-8c9c45ce60b0",
   "metadata": {},
   "outputs": [],
   "source": [
    "collect.loc[0, 'genre'] = genre"
   ]
  },
  {
   "cell_type": "markdown",
   "id": "950713a7-66bb-4f41-b2c4-9e647c033fe5",
   "metadata": {},
   "source": [
    "## page count"
   ]
  },
  {
   "cell_type": "code",
   "execution_count": null,
   "id": "f8ad6f1b-2587-4ff7-b632-208b41c46a5d",
   "metadata": {},
   "outputs": [],
   "source": [
    "soup.find('p').text"
   ]
  },
  {
   "cell_type": "code",
   "execution_count": null,
   "id": "7558baa7-bdb6-4a17-8690-24a8177a68c0",
   "metadata": {},
   "outputs": [],
   "source": [
    "page = soup.find('p').text"
   ]
  },
  {
   "cell_type": "code",
   "execution_count": null,
   "id": "001a1d6c-2f94-4b08-9411-da99afac6177",
   "metadata": {},
   "outputs": [],
   "source": [
    "page = re.sub('[^0-9]', '', page)"
   ]
  },
  {
   "cell_type": "code",
   "execution_count": null,
   "id": "89f8fd84-70d0-498d-96e3-a3ddea8f8cdd",
   "metadata": {},
   "outputs": [],
   "source": [
    "collect.loc[0, 'length'] = page"
   ]
  },
  {
   "cell_type": "code",
   "execution_count": null,
   "id": "720807c8-469b-47fd-ad0f-7759b1166bbf",
   "metadata": {},
   "outputs": [],
   "source": [
    "collect"
   ]
  },
  {
   "cell_type": "markdown",
   "id": "8d9318de-ccaa-44c7-a2e9-a84ea0cd623f",
   "metadata": {},
   "source": [
    "## publishing year"
   ]
  },
  {
   "cell_type": "code",
   "execution_count": null,
   "id": "28a1193d-3bcf-4df7-961b-68712bd0611b",
   "metadata": {},
   "outputs": [],
   "source": [
    "(soup.find_all('p')[1].text)"
   ]
  },
  {
   "cell_type": "code",
   "execution_count": null,
   "id": "cbf70430-a31b-4ef7-972c-6bc18430dd5e",
   "metadata": {},
   "outputs": [],
   "source": [
    "year = (soup.find_all('p')[1].text)"
   ]
  },
  {
   "cell_type": "code",
   "execution_count": null,
   "id": "1c074685-96cb-42d5-9e1b-226ef57deddd",
   "metadata": {},
   "outputs": [],
   "source": [
    "year = year[-4:]"
   ]
  },
  {
   "cell_type": "code",
   "execution_count": null,
   "id": "048ce3af-f7a3-4f98-98eb-c2087dd01eee",
   "metadata": {},
   "outputs": [],
   "source": [
    "year"
   ]
  },
  {
   "cell_type": "code",
   "execution_count": null,
   "id": "68225d30-fca8-4f40-8b80-674617098fb4",
   "metadata": {},
   "outputs": [],
   "source": [
    "collect.loc[0, 'year_published'] = year"
   ]
  },
  {
   "cell_type": "code",
   "execution_count": null,
   "id": "37cd4759-ea60-43f2-b81e-83d8bb9a3f24",
   "metadata": {},
   "outputs": [],
   "source": [
    "collect"
   ]
  },
  {
   "cell_type": "markdown",
   "id": "cd3b8640-f35f-48d0-9375-1f6d5830d607",
   "metadata": {},
   "source": [
    "## reviews"
   ]
  },
  {
   "cell_type": "code",
   "execution_count": null,
   "id": "99e49248-41b6-4ff9-81e8-6d209eafbef7",
   "metadata": {
    "tags": []
   },
   "outputs": [],
   "source": [
    "soup.find_all('section',class_ = \"ReviewText__content\")"
   ]
  },
  {
   "cell_type": "code",
   "execution_count": null,
   "id": "c25dce52-90d6-4884-9ae6-251df1758669",
   "metadata": {},
   "outputs": [],
   "source": [
    "reviews = soup.find_all('section',class_ = \"ReviewText__content\")"
   ]
  },
  {
   "cell_type": "code",
   "execution_count": null,
   "id": "efcfc552-57fb-4178-be24-a13228608b0b",
   "metadata": {},
   "outputs": [],
   "source": [
    "ls_reviews = []\n",
    "for i in range (0,len (reviews)):\n",
    "    rev = soup.find_all('section',class_ = \"ReviewText__content\")[i].text\n",
    "    ls_reviews.append(rev)"
   ]
  },
  {
   "cell_type": "code",
   "execution_count": null,
   "id": "8daca07b-80ed-43e5-ad48-4c7c1e36b520",
   "metadata": {
    "tags": []
   },
   "outputs": [],
   "source": [
    "for i in range (0,len(reviews)):\n",
    "    \n",
    "    print(ls_reviews[i])\n",
    "    print('\\n')\n",
    "    print('-------------------------')"
   ]
  },
  {
   "cell_type": "code",
   "execution_count": null,
   "id": "34552014-35f3-4d54-8b4f-945fcc177cfa",
   "metadata": {},
   "outputs": [],
   "source": [
    "collect.loc[0, 'reviews'] = ls_reviews"
   ]
  },
  {
   "cell_type": "code",
   "execution_count": null,
   "id": "d7298773-6184-4a97-b19a-7b7e4aa78659",
   "metadata": {},
   "outputs": [],
   "source": [
    "collect = collect.drop(columns='list')"
   ]
  },
  {
   "cell_type": "code",
   "execution_count": null,
   "id": "7542f45e-d4ad-4da3-a7f4-2a71276af5cf",
   "metadata": {},
   "outputs": [],
   "source": [
    "collect"
   ]
  },
  {
   "cell_type": "code",
   "execution_count": null,
   "id": "399c56fc-30aa-49a8-afc3-30844a55d773",
   "metadata": {},
   "outputs": [],
   "source": [
    "df"
   ]
  },
  {
   "cell_type": "markdown",
   "id": "d61eb318-cb70-4cb6-b0da-35e47e09fe7e",
   "metadata": {},
   "source": [
    "## series"
   ]
  },
  {
   "cell_type": "code",
   "execution_count": null,
   "id": "06ccc1b8-ae8f-4537-b8d8-f5723d2716db",
   "metadata": {
    "tags": []
   },
   "outputs": [],
   "source": [
    "soup"
   ]
  },
  {
   "cell_type": "code",
   "execution_count": null,
   "id": "9eedb02a-2a94-4ead-a3ec-5dfaba10f3d1",
   "metadata": {},
   "outputs": [],
   "source": [
    "#soup.find('a', {'class': 'Button Button--tag-inline Button--small'}).get_text()"
   ]
  },
  {
   "cell_type": "code",
   "execution_count": null,
   "id": "eb308eb0-5c2f-4ec6-a3af-419eb909bbbc",
   "metadata": {},
   "outputs": [],
   "source": [
    "soup.find_all('div', class_='WorkDetails')"
   ]
  },
  {
   "cell_type": "code",
   "execution_count": null,
   "id": "33345e70-88b0-4afa-b505-67c3b1a1cf70",
   "metadata": {},
   "outputs": [],
   "source": [
    "soup.find('body', {'class': 'DescListItem'})"
   ]
  },
  {
   "cell_type": "code",
   "execution_count": null,
   "id": "ee3401c8-0b83-45d3-92ea-9dd79795d34d",
   "metadata": {
    "tags": []
   },
   "outputs": [],
   "source": [
    "soup.find('a')['href']"
   ]
  },
  {
   "cell_type": "code",
   "execution_count": null,
   "id": "4c8543d4-6859-498a-89c6-3c5d92f2c955",
   "metadata": {},
   "outputs": [],
   "source": [
    "soup.find('dd')"
   ]
  },
  {
   "cell_type": "code",
   "execution_count": null,
   "id": "2aed3fc3-6d12-4fe4-8621-12eb6983e0ce",
   "metadata": {},
   "outputs": [],
   "source": [
    "title_tag"
   ]
  },
  {
   "cell_type": "code",
   "execution_count": 14,
   "id": "8d132b47-07c8-4d03-8d46-c74e5132277c",
   "metadata": {},
   "outputs": [],
   "source": [
    "df = pd.read_csv('final_links.txt', header=None)"
   ]
  },
  {
   "cell_type": "code",
   "execution_count": 15,
   "id": "717577f1-dcf7-4412-9b50-dbfe308aa0a6",
   "metadata": {},
   "outputs": [
    {
     "data": {
      "text/html": [
       "<div>\n",
       "<style scoped>\n",
       "    .dataframe tbody tr th:only-of-type {\n",
       "        vertical-align: middle;\n",
       "    }\n",
       "\n",
       "    .dataframe tbody tr th {\n",
       "        vertical-align: top;\n",
       "    }\n",
       "\n",
       "    .dataframe thead th {\n",
       "        text-align: right;\n",
       "    }\n",
       "</style>\n",
       "<table border=\"1\" class=\"dataframe\">\n",
       "  <thead>\n",
       "    <tr style=\"text-align: right;\">\n",
       "      <th></th>\n",
       "      <th>0</th>\n",
       "    </tr>\n",
       "  </thead>\n",
       "  <tbody>\n",
       "    <tr>\n",
       "      <th>0</th>\n",
       "      <td>https://www.goodreads.com/book/show/257233.Rai...</td>\n",
       "    </tr>\n",
       "    <tr>\n",
       "      <th>1</th>\n",
       "      <td>https://www.goodreads.com/book/show/205621.Pil...</td>\n",
       "    </tr>\n",
       "    <tr>\n",
       "      <th>2</th>\n",
       "      <td>https://www.goodreads.com/book/show/2398522.An...</td>\n",
       "    </tr>\n",
       "    <tr>\n",
       "      <th>3</th>\n",
       "      <td>https://www.goodreads.com/book/show/20497230-t...</td>\n",
       "    </tr>\n",
       "    <tr>\n",
       "      <th>4</th>\n",
       "      <td>https://www.goodreads.com/book/show/778667.The...</td>\n",
       "    </tr>\n",
       "  </tbody>\n",
       "</table>\n",
       "</div>"
      ],
      "text/plain": [
       "                                                   0\n",
       "0  https://www.goodreads.com/book/show/257233.Rai...\n",
       "1  https://www.goodreads.com/book/show/205621.Pil...\n",
       "2  https://www.goodreads.com/book/show/2398522.An...\n",
       "3  https://www.goodreads.com/book/show/20497230-t...\n",
       "4  https://www.goodreads.com/book/show/778667.The..."
      ]
     },
     "execution_count": 15,
     "metadata": {},
     "output_type": "execute_result"
    }
   ],
   "source": [
    "df.head()"
   ]
  },
  {
   "cell_type": "code",
   "execution_count": 16,
   "id": "6378d855-303a-4ae5-8b42-52202a77f88d",
   "metadata": {},
   "outputs": [],
   "source": [
    "df = df.rename(columns={0:'book_tag'})"
   ]
  },
  {
   "cell_type": "code",
   "execution_count": 17,
   "id": "b480ff8f-c052-4160-83ac-a7ad436271da",
   "metadata": {},
   "outputs": [
    {
     "data": {
      "text/html": [
       "<div>\n",
       "<style scoped>\n",
       "    .dataframe tbody tr th:only-of-type {\n",
       "        vertical-align: middle;\n",
       "    }\n",
       "\n",
       "    .dataframe tbody tr th {\n",
       "        vertical-align: top;\n",
       "    }\n",
       "\n",
       "    .dataframe thead th {\n",
       "        text-align: right;\n",
       "    }\n",
       "</style>\n",
       "<table border=\"1\" class=\"dataframe\">\n",
       "  <thead>\n",
       "    <tr style=\"text-align: right;\">\n",
       "      <th></th>\n",
       "      <th>book_tag</th>\n",
       "    </tr>\n",
       "  </thead>\n",
       "  <tbody>\n",
       "    <tr>\n",
       "      <th>0</th>\n",
       "      <td>https://www.goodreads.com/book/show/257233.Rai...</td>\n",
       "    </tr>\n",
       "    <tr>\n",
       "      <th>1</th>\n",
       "      <td>https://www.goodreads.com/book/show/205621.Pil...</td>\n",
       "    </tr>\n",
       "    <tr>\n",
       "      <th>2</th>\n",
       "      <td>https://www.goodreads.com/book/show/2398522.An...</td>\n",
       "    </tr>\n",
       "    <tr>\n",
       "      <th>3</th>\n",
       "      <td>https://www.goodreads.com/book/show/20497230-t...</td>\n",
       "    </tr>\n",
       "    <tr>\n",
       "      <th>4</th>\n",
       "      <td>https://www.goodreads.com/book/show/778667.The...</td>\n",
       "    </tr>\n",
       "    <tr>\n",
       "      <th>...</th>\n",
       "      <td>...</td>\n",
       "    </tr>\n",
       "    <tr>\n",
       "      <th>4900</th>\n",
       "      <td>https://www.goodreads.com/book/show/24694140-a...</td>\n",
       "    </tr>\n",
       "    <tr>\n",
       "      <th>4901</th>\n",
       "      <td>https://www.goodreads.com/book/show/51286105-r...</td>\n",
       "    </tr>\n",
       "    <tr>\n",
       "      <th>4902</th>\n",
       "      <td>https://www.goodreads.com/book/show/62360044-s...</td>\n",
       "    </tr>\n",
       "    <tr>\n",
       "      <th>4903</th>\n",
       "      <td>https://www.goodreads.com/book/show/51853748-b...</td>\n",
       "    </tr>\n",
       "    <tr>\n",
       "      <th>4904</th>\n",
       "      <td>https://www.goodreads.com/book/show/58998036-c...</td>\n",
       "    </tr>\n",
       "  </tbody>\n",
       "</table>\n",
       "<p>4905 rows × 1 columns</p>\n",
       "</div>"
      ],
      "text/plain": [
       "                                               book_tag\n",
       "0     https://www.goodreads.com/book/show/257233.Rai...\n",
       "1     https://www.goodreads.com/book/show/205621.Pil...\n",
       "2     https://www.goodreads.com/book/show/2398522.An...\n",
       "3     https://www.goodreads.com/book/show/20497230-t...\n",
       "4     https://www.goodreads.com/book/show/778667.The...\n",
       "...                                                 ...\n",
       "4900  https://www.goodreads.com/book/show/24694140-a...\n",
       "4901  https://www.goodreads.com/book/show/51286105-r...\n",
       "4902  https://www.goodreads.com/book/show/62360044-s...\n",
       "4903  https://www.goodreads.com/book/show/51853748-b...\n",
       "4904  https://www.goodreads.com/book/show/58998036-c...\n",
       "\n",
       "[4905 rows x 1 columns]"
      ]
     },
     "execution_count": 17,
     "metadata": {},
     "output_type": "execute_result"
    }
   ],
   "source": [
    "df"
   ]
  },
  {
   "cell_type": "code",
   "execution_count": 21,
   "id": "f7222d09-c2d2-40c3-84e9-2f53d69e03a6",
   "metadata": {
    "collapsed": true,
    "jupyter": {
     "outputs_hidden": true
    },
    "tags": []
   },
   "outputs": [
    {
     "name": "stdout",
     "output_type": "stream",
     "text": [
      "complete\n",
      "URL:              https://www.goodreads.com/book/show/74033.Innocent_in_Death?from_search=true&from_srp=true&qid=yvJfCnFAq7&rank=1\n",
      "Request Number:   1\n",
      "Book Title: Innocent in Death\n",
      "complete\n",
      "URL:              https://www.goodreads.com/book/show/9420.Shopaholic_Baby?from_search=true&from_srp=true&qid=5NLG0G7enr&rank=1\n",
      "Request Number:   2\n",
      "Book Title: Shopaholic & Baby\n",
      "complete\n",
      "URL:              https://www.goodreads.com/book/show/49676332-study-guide?from_search=true&from_srp=true&qid=AUVmkIGOP4&rank=1\n",
      "Request Number:   3\n",
      "Book Title: Study Guide\n",
      "complete\n",
      "URL:              https://www.goodreads.com/book/show/33281554-mary-higgins-clark-collection-6-books-bundle?from_search=true&from_srp=true&qid=Uft7bcg8b4&rank=1\n",
      "Request Number:   4\n",
      "Book Title: Mary Higgins Clark Collection 6 Books Bundle\n",
      "complete\n",
      "URL:              https://www.goodreads.com/book/show/597790.The_Children_of_H_rin?from_search=true&from_srp=true&qid=IhhhCpQY1I&rank=1\n",
      "Request Number:   5\n",
      "Book Title: The Children of Húrin\n",
      "complete\n",
      "URL:              https://www.goodreads.com/book/show/123325142-simple-genius-by-baldacci-david-grand-central-publishing-2008?from_search=true&from_srp=true&qid=3OECy46hYM&rank=1\n",
      "Request Number:   6\n",
      "Book Title: Simple Genius by Baldacci, David [Grand Central Publishing,2008]\n",
      "complete\n",
      "URL:              https://www.goodreads.com/book/show/40317.Lean_Mean_Thirteen?from_search=true&from_srp=true&qid=fYo4aPglxB&rank=1\n",
      "Request Number:   7\n",
      "Book Title: Lean Mean Thirteen\n",
      "complete\n",
      "URL:              https://www.goodreads.com/book/show/122209890-study-guide?from_search=true&from_srp=true&qid=uZeBAgQLX4&rank=1\n",
      "Request Number:   8\n",
      "Book Title: Study Guide\n",
      "complete\n",
      "URL:              https://www.goodreads.com/book/show/1205297.Playing_for_Pizza?from_search=true&from_srp=true&qid=IPlVE0z7oW&rank=1\n",
      "Request Number:   9\n",
      "Book Title: Playing for Pizza\n",
      "complete\n",
      "URL:              https://www.goodreads.com/book/show/6526.Book_of_the_Dead?from_search=true&from_srp=true&qid=Dfk8Cn5AmU&rank=1\n",
      "Request Number:   10\n",
      "Book Title: Book of the Dead\n",
      "complete\n",
      "URL:              https://www.goodreads.com/book/show/11403919-vince-flynn-collectors-edition-3?from_search=true&from_srp=true&qid=RO4KWHa47x&rank=1\n",
      "Request Number:   11\n",
      "Book Title: Vince Flynn Collectors' Edition #3\n",
      "complete\n",
      "URL:              https://www.goodreads.com/book/show/627984.Stone_Cold?from_search=true&from_srp=true&qid=fYzk0kNs4y&rank=1\n",
      "Request Number:   12\n",
      "Book Title: Stone Cold\n",
      "complete\n",
      "URL:              https://www.goodreads.com/book/show/410445.T_is_for_Trespass?from_search=true&from_srp=true&qid=iXZHOMJLk4&rank=1\n",
      "Request Number:   13\n",
      "Book Title: T is for Trespass\n",
      "complete\n",
      "URL:              https://www.goodreads.com/book/show/552887.Double_Cross?from_search=true&from_srp=true&qid=f34DK7jOxa&rank=1\n",
      "Request Number:   14\n",
      "Book Title: Double Cross\n",
      "complete\n",
      "URL:              https://www.goodreads.com/book/show/4421244-bookclub-in-a-box-discusses-a-thousand-splendid-suns-by-khaled-hosseini?from_search=true&from_srp=true&qid=sVFAmqscNC&rank=1\n",
      "Request Number:   15\n",
      "Book Title: Bookclub-in-a-Box Discusses A Thousand Splendid Suns by Khaled Hosseini\n",
      "complete\n",
      "URL:              https://www.goodreads.com/book/show/1434105.Plum_Lucky?from_search=true&from_srp=true&qid=2KDS2tGmBr&rank=1\n",
      "Request Number:   16\n",
      "Book Title: Plum Lucky\n",
      "complete\n",
      "URL:              https://www.goodreads.com/book/show/472343.Duma_Key?from_search=true&from_srp=true&qid=WFqRBl6rWL&rank=1\n",
      "Request Number:   17\n",
      "Book Title: Duma Key\n",
      "complete\n",
      "URL:              https://www.goodreads.com/book/show/1248179.The_Appeal?from_search=true&from_srp=true&qid=JledRrTGQt&rank=1\n",
      "Request Number:   18\n",
      "Book Title: The Appeal\n",
      "complete\n",
      "URL:              https://www.goodreads.com/book/show/1609451.Change_of_Heart?from_search=true&from_srp=true&qid=5VAUoCgEBR&rank=1\n",
      "Request Number:   19\n",
      "Book Title: Change of Heart\n",
      "complete\n",
      "URL:              https://www.goodreads.com/book/show/1528385.Compulsion?from_search=true&from_srp=true&qid=q3rrVI2jYQ&rank=1\n",
      "Request Number:   20\n",
      "Book Title: Compulsion\n",
      "complete\n",
      "URL:              https://www.goodreads.com/book/show/49039039-study-guide?from_search=true&from_srp=true&qid=11UvmtYXJd&rank=1\n",
      "Request Number:   21\n",
      "Book Title: Study Guide\n",
      "complete\n",
      "URL:              https://www.goodreads.com/book/show/2177236.Hold_Tight?from_search=true&from_srp=true&qid=P1UE5gcggI&rank=1\n",
      "Request Number:   22\n",
      "Book Title: Hold Tight\n",
      "complete\n",
      "URL:              https://www.goodreads.com/book/show/2260637.The_Whole_Truth?from_search=true&from_srp=true&qid=yfDQ2x7b9Y&rank=1\n",
      "Request Number:   23\n",
      "Book Title: The Whole Truth\n",
      "complete\n",
      "URL:              https://www.goodreads.com/book/show/1656001.The_Host?from_search=true&from_srp=true&qid=5P4Le62Vq3&rank=1\n",
      "Request Number:   24\n",
      "Book Title: The Host\n",
      "complete\n",
      "URL:              https://www.goodreads.com/book/show/2029927.Odd_Hours?from_search=true&from_srp=true&qid=UIooIFUkNo&rank=1\n",
      "Request Number:   25\n",
      "Book Title: Odd Hours\n",
      "complete\n",
      "URL:              https://www.goodreads.com/book/show/2149535.Blood_Noir?from_search=true&from_srp=true&qid=WS9CwkEKcD&rank=1\n",
      "Request Number:   26\n",
      "Book Title: Blood Noir\n",
      "complete\n",
      "URL:              https://www.goodreads.com/book/show/2211221.Nothing_to_Lose?from_search=true&from_srp=true&qid=3RgCvbsfk4&rank=1\n",
      "Request Number:   27\n",
      "Book Title: Nothing to Lose\n",
      "complete\n",
      "URL:              https://www.goodreads.com/book/show/123088247-sail?from_search=true&from_srp=true&qid=qzAoG84pCN&rank=1\n",
      "Request Number:   28\n",
      "Book Title: Sail\n",
      "complete\n",
      "URL:              https://www.goodreads.com/book/show/2292384.Fearless_Fourteen?from_search=true&from_srp=true&qid=pZ5MTT4nhw&rank=1\n",
      "Request Number:   29\n",
      "Book Title: Fearless Fourteen\n",
      "complete\n",
      "URL:              https://www.goodreads.com/book/show/2336803.The_Last_Patriot?from_search=true&from_srp=true&qid=j8E2VoLaVv&rank=1\n",
      "Request Number:   30\n",
      "Book Title: The Last Patriot\n",
      "complete\n",
      "URL:              https://www.goodreads.com/book/show/2003767.Tribute?from_search=true&from_srp=true&qid=NLqsvXDH0g&rank=1\n",
      "Request Number:   31\n",
      "Book Title: Tribute\n",
      "complete\n",
      "URL:              https://www.goodreads.com/book/show/2033217.Moscow_Rules?from_search=true&from_srp=true&qid=TleuZsdpqh&rank=1\n",
      "Request Number:   32\n",
      "Book Title: Moscow Rules\n",
      "complete\n",
      "URL:              https://www.goodreads.com/book/show/2299110.Acheron?from_search=true&from_srp=true&qid=3XZSERwjnn&rank=1\n",
      "Request Number:   33\n",
      "Book Title: Acheron\n",
      "complete\n",
      "URL:              https://www.goodreads.com/book/show/83249715-smoke-screen-by-sandra-brown-unabridged-mp3-cd-audiobook?from_search=true&from_srp=true&qid=MaNBaHOAz6&rank=1\n",
      "Request Number:   34\n",
      "Book Title: Smoke Screen by Sandra Brown Unabridged MP3 CD Audiobook\n",
      "complete\n",
      "URL:              https://www.goodreads.com/book/show/359855.The_Force_Unleashed?from_search=true&from_srp=true&qid=ibZ43jNmNZ&rank=1\n",
      "Request Number:   35\n",
      "Book Title: The Force Unleashed\n",
      "complete\n",
      "URL:              https://www.goodreads.com/book/show/2095583.Devil_Bones?from_search=true&from_srp=true&qid=lH8JmVoRYQ&rank=1\n",
      "Request Number:   36\n",
      "Book Title: Devil Bones\n",
      "complete\n",
      "URL:              https://www.goodreads.com/book/show/2444135.Dark_Curse?from_search=true&from_srp=true&qid=TVONf4C4GK&rank=1\n",
      "Request Number:   37\n",
      "Book Title: Dark Curse\n",
      "complete\n",
      "URL:              https://www.goodreads.com/book/show/2845024-anathem?from_search=true&from_srp=true&qid=ZfOkDhtnhS&rank=1\n",
      "Request Number:   38\n",
      "Book Title: Anathem\n",
      "complete\n",
      "URL:              https://www.goodreads.com/book/show/75852229-study-guide?from_search=true&from_srp=true&qid=RdtTTWJlIP&rank=1\n",
      "Request Number:   39\n",
      "Book Title: Study Guide\n",
      "complete\n",
      "URL:              https://www.goodreads.com/book/show/3063499-the-lucky-one?from_search=true&from_srp=true&qid=vpFQEjdBV3&rank=1\n",
      "Request Number:   40\n",
      "Book Title: The Lucky One\n",
      "complete\n",
      "URL:              https://www.goodreads.com/book/show/2761626-the-brass-verdict?from_search=true&from_srp=true&qid=4b4pUR2dah&rank=1\n",
      "Request Number:   41\n",
      "Book Title: The Brass Verdict\n",
      "complete\n",
      "URL:              https://www.goodreads.com/book/show/3313418-extreme-measures?from_search=true&from_srp=true&qid=U00mQPrfPN&rank=1\n",
      "Request Number:   42\n",
      "Book Title: Extreme Measures\n",
      "complete\n",
      "URL:              https://www.goodreads.com/book/show/3216451-the-gate-house?from_search=true&from_srp=true&qid=OlqcLnIgNT&rank=1\n",
      "Request Number:   43\n",
      "Book Title: The Gate House\n",
      "complete\n",
      "URL:              https://www.goodreads.com/book/show/3410425-divine-justice?from_search=true&from_srp=true&qid=UBKPXD1LZb&rank=1\n",
      "Request Number:   44\n",
      "Book Title: Divine Justice\n",
      "complete\n",
      "URL:              https://www.goodreads.com/book/show/1713912.Cross_Country?from_search=true&from_srp=true&qid=z3xNU7B89W&rank=1\n",
      "Request Number:   45\n",
      "Book Title: Cross Country\n",
      "complete\n",
      "URL:              https://www.goodreads.com/book/show/3268926-the-christmas-sweater?from_search=true&from_srp=true&qid=fI8DTdjgvy&rank=1\n",
      "Request Number:   46\n",
      "Book Title: The Christmas Sweater\n",
      "complete\n",
      "URL:              https://www.goodreads.com/book/show/19497515-dust-a-scarpetta-novel?from_search=true&from_srp=true&qid=OFWgBTiOOp&rank=1\n",
      "Request Number:   47\n",
      "Book Title: Dust (A Scarpetta Novel)\n",
      "complete\n",
      "URL:              https://www.goodreads.com/book/show/3100126-black-ops?from_search=true&from_srp=true&qid=ceY2H5NhrA&rank=1\n",
      "Request Number:   48\n",
      "Book Title: Black Ops\n",
      "complete\n",
      "URL:              https://www.goodreads.com/book/show/3400816-plum-spooky?from_search=true&from_srp=true&qid=JmRNJ0iYU6&rank=1\n",
      "Request Number:   49\n",
      "Book Title: Plum Spooky\n",
      "complete\n",
      "URL:              https://www.goodreads.com/book/show/3613997-the-associate?from_search=true&from_srp=true&qid=dafIUylcxo&rank=1\n",
      "Request Number:   50\n",
      "Book Title: The Associate\n",
      "complete\n",
      "URL:              https://www.goodreads.com/book/show/7707203-j-d-robb-cd-collection-10?from_search=true&from_srp=true&qid=dcodMlBNng&rank=1\n",
      "Request Number:   51\n",
      "Book Title: J. D. Robb CD Collection 10\n",
      "complete\n",
      "URL:              https://www.goodreads.com/book/show/3720975-handle-with-care?from_search=true&from_srp=true&qid=WkH7FkbpiF&rank=1\n",
      "Request Number:   52\n",
      "Book Title: Handle with Care\n",
      "complete\n",
      "URL:              https://www.goodreads.com/book/show/3931902-true-detectives?from_search=true&from_srp=true&qid=YKpvFnQvM2&rank=1\n",
      "Request Number:   53\n",
      "Book Title: True Detectives\n",
      "complete\n",
      "URL:              https://www.goodreads.com/book/show/3675828-long-lost?from_search=true&from_srp=true&qid=QxC9LLHS5V&rank=1\n",
      "Request Number:   54\n",
      "Book Title: Long Lost\n",
      "complete\n",
      "URL:              https://www.goodreads.com/book/show/3475161-turn-coat?from_search=true&from_srp=true&qid=zrZmfWk0pL&rank=1\n",
      "Request Number:   55\n",
      "Book Title: Turn Coat\n",
      "complete\n",
      "URL:              https://www.goodreads.com/book/show/3609537-just-take-my-heart?from_search=true&from_srp=true&qid=B5KJgGNPxp&rank=1\n",
      "Request Number:   56\n",
      "Book Title: Just Take My Heart\n",
      "complete\n",
      "URL:              https://www.goodreads.com/book/show/5509321-first-family?from_search=true&from_srp=true&qid=GSmz0Lxr7a&rank=1\n",
      "Request Number:   57\n",
      "Book Title: First Family\n",
      "complete\n",
      "URL:              https://www.goodreads.com/book/show/5161066-dead-and-gone?from_search=true&from_srp=true&qid=9cWssylqrO&rank=1\n",
      "Request Number:   58\n",
      "Book Title: Dead and Gone\n",
      "complete\n",
      "URL:              https://www.goodreads.com/book/show/5867331-wicked-prey?from_search=true&from_srp=true&qid=edZgTeQrH4&rank=1\n",
      "Request Number:   59\n",
      "Book Title: Wicked Prey\n",
      "complete\n",
      "URL:              https://www.goodreads.com/book/show/4494917-gone-tomorrow?from_search=true&from_srp=true&qid=Q9EASIcVP8&rank=1\n",
      "Request Number:   60\n",
      "Book Title: Gone Tomorrow\n",
      "complete\n",
      "URL:              https://www.goodreads.com/book/show/4527502-the-scarecrow?from_search=true&from_srp=true&qid=Zzi2xvW9VW&rank=1\n",
      "Request Number:   61\n",
      "Book Title: The Scarecrow\n",
      "complete\n",
      "URL:              https://www.goodreads.com/book/show/5215879-skin-trade?from_search=true&from_srp=true&qid=zHY2LpNa2m&rank=1\n",
      "Request Number:   62\n",
      "Book Title: Skin Trade\n",
      "complete\n",
      "URL:              https://www.goodreads.com/book/show/4946005-relentless?from_search=true&from_srp=true&qid=wbemKgKyYo&rank=1\n",
      "Request Number:   63\n",
      "Book Title: Relentless\n",
      "complete\n",
      "URL:              https://www.goodreads.com/book/show/10314701-knockout-whiplash?from_search=true&from_srp=true&qid=Zsqs5tnOMn&rank=1\n",
      "Request Number:   64\n",
      "Book Title: KnockOut / Whiplash\n",
      "complete\n",
      "URL:              https://www.goodreads.com/book/show/6048530-finger-lickin-fifteen?from_search=true&from_srp=true&qid=xdUst1xTGu&rank=1\n",
      "Request Number:   65\n",
      "Book Title: Finger Lickin' Fifteen\n",
      "complete\n",
      "URL:              https://www.goodreads.com/book/show/59645142-swimsuit-and-private-berlin?from_search=true&from_srp=true&qid=1rWfDxz7aH&rank=1\n",
      "Request Number:   66\n",
      "Book Title: Swimsuit and Private Berlin\n",
      "complete\n",
      "URL:              https://www.goodreads.com/book/show/6013511-black-hills?from_search=true&from_srp=true&qid=LAEPTq6UlV&rank=1\n",
      "Request Number:   67\n",
      "Book Title: Black Hills\n",
      "complete\n",
      "URL:              https://www.goodreads.com/book/show/6066819-best-friends-forever?from_search=true&from_srp=true&qid=SfDfLl8MD8&rank=1\n",
      "Request Number:   68\n",
      "Book Title: Best Friends Forever\n",
      "complete\n",
      "URL:              https://www.goodreads.com/book/show/5739373-the-defector?from_search=true&from_srp=true&qid=tr9Z6pbRmk&rank=1\n",
      "Request Number:   69\n",
      "Book Title: The Defector\n",
      "complete\n",
      "URL:              https://www.goodreads.com/book/show/5060378-the-girl-who-played-with-fire?from_search=true&from_srp=true&qid=7CNg9E0ogq&rank=1\n",
      "Request Number:   70\n",
      "Book Title: The Girl Who Played with Fire\n",
      "complete\n",
      "URL:              https://www.goodreads.com/book/show/6058042-bad-moon-rising?from_search=true&from_srp=true&qid=sGs2nf18eN&rank=1\n",
      "Request Number:   71\n",
      "Book Title: Bad Moon Rising\n",
      "complete\n",
      "URL:              https://www.goodreads.com/book/show/6135237-south-of-broad?from_search=true&from_srp=true&qid=baLFUgbSLn&rank=1\n",
      "Request Number:   72\n",
      "Book Title: South of Broad\n",
      "complete\n",
      "URL:              https://www.goodreads.com/book/show/6353001-dark-slayer?from_search=true&from_srp=true&qid=kzDj96mAyo&rank=1\n",
      "Request Number:   73\n",
      "Book Title: Dark Slayer\n",
      "complete\n",
      "URL:              https://www.goodreads.com/book/show/6400090-the-last-song?from_search=true&from_srp=true&qid=Z3wkGKv9x9&rank=1\n",
      "Request Number:   74\n",
      "Book Title: The Last Song\n",
      "complete\n",
      "URL:              https://www.goodreads.com/book/show/6398972-ford-county?from_search=true&from_srp=true&qid=H76Tkq2Cva&rank=1\n",
      "Request Number:   75\n",
      "Book Title: Ford County\n",
      "complete\n",
      "URL:              https://www.goodreads.com/book/show/6320534-under-the-dome?from_search=true&from_srp=true&qid=XaVXhkWpI5&rank=1\n",
      "Request Number:   76\n",
      "Book Title: Under the Dome\n",
      "complete\n",
      "URL:              https://www.goodreads.com/book/show/6405929-i-alex-cross?from_search=true&from_srp=true&qid=Wi3z0zY8GC&rank=1\n",
      "Request Number:   77\n",
      "Book Title: I, Alex Cross\n",
      "complete\n",
      "URL:              https://www.goodreads.com/book/show/6193821-u-is-for-undertow?from_search=true&from_srp=true&qid=FUFJSZaEBR&rank=1\n",
      "Request Number:   78\n",
      "Book Title: U is for Undertow\n",
      "complete\n",
      "URL:              https://www.goodreads.com/book/show/6411961-the-lost-symbol?from_search=true&from_srp=true&qid=pq7qBNqMUg&rank=1\n",
      "Request Number:   79\n",
      "Book Title: The Lost Symbol\n",
      "complete\n",
      "URL:              https://www.goodreads.com/book/show/6455256-worst-case?from_search=true&from_srp=true&qid=Fp9xNeABSQ&rank=1\n",
      "Request Number:   80\n",
      "Book Title: Worst Case\n",
      "complete\n",
      "URL:              https://www.goodreads.com/book/show/6542645-fantasy-in-death?from_search=true&from_srp=true&qid=AeLk8i8gnP&rank=1\n",
      "Request Number:   81\n",
      "Book Title: Fantasy in Death\n",
      "complete\n",
      "URL:              https://www.goodreads.com/book/show/6614960-house-rules?from_search=true&from_srp=true&qid=UNbAKmSEyl&rank=1\n",
      "Request Number:   82\n",
      "Book Title: House Rules\n",
      "complete\n",
      "URL:              https://www.goodreads.com/book/show/6681454-caught?from_search=true&from_srp=true&qid=FuTyjqjNDV&rank=1\n",
      "Request Number:   83\n",
      "Book Title: Caught\n",
      "complete\n",
      "URL:              https://www.goodreads.com/book/show/6587387-silver-borne?from_search=true&from_srp=true&qid=oO3gGk9g6c&rank=1\n",
      "Request Number:   84\n",
      "Book Title: Silver Borne\n",
      "complete\n",
      "URL:              https://www.goodreads.com/book/show/6585201-changes?from_search=true&from_srp=true&qid=21OdZ7ReFQ&rank=1\n",
      "Request Number:   85\n",
      "Book Title: Changes\n",
      "complete\n",
      "URL:              https://www.goodreads.com/book/show/6629816-the-shadow-of-your-smile?from_search=true&from_srp=true&qid=Gt6MN8yirE&rank=1\n",
      "Request Number:   86\n",
      "Book Title: The Shadow of Your Smile\n",
      "complete\n",
      "URL:              https://www.goodreads.com/book/show/7277715-deliver-us-from-evil?from_search=true&from_srp=true&qid=D2z361JNd2&rank=1\n",
      "Request Number:   87\n",
      "Book Title: Deliver Us from Evil\n",
      "complete\n",
      "URL:              https://www.goodreads.com/book/show/7091488-dead-in-the-family?from_search=true&from_srp=true&qid=EPvvXGGUH5&rank=1\n",
      "Request Number:   88\n",
      "Book Title: Dead in the Family\n",
      "complete\n",
      "URL:              https://www.goodreads.com/book/show/6977769-61-hours?from_search=true&from_srp=true&qid=eMMjNlIB78&rank=1\n",
      "Request Number:   89\n",
      "Book Title: 61 Hours\n",
      "complete\n",
      "URL:              https://www.goodreads.com/book/show/6949478-the-overton-window?from_search=true&from_srp=true&qid=lC8nkMaHiL&rank=1\n",
      "Request Number:   90\n",
      "Book Title: The Overton Window\n",
      "complete\n",
      "URL:              https://www.goodreads.com/book/show/7023554-sizzling-sixteen?from_search=true&from_srp=true&qid=kL2CXAzrgA&rank=1\n",
      "Request Number:   91\n",
      "Book Title: Sizzling Sixteen\n",
      "complete\n",
      "URL:              https://www.goodreads.com/book/show/20938684-private-l-a?from_search=true&from_srp=true&qid=9elulWQQlS&rank=1\n",
      "Request Number:   92\n",
      "Book Title: Private L.A.\n",
      "complete\n",
      "URL:              https://www.goodreads.com/book/show/7076706-the-search?from_search=true&from_srp=true&qid=w1rgVCDaLy&rank=1\n",
      "Request Number:   93\n",
      "Book Title: The Search\n",
      "complete\n",
      "URL:              https://www.goodreads.com/book/show/7096123-the-rembrandt-affair?from_search=true&from_srp=true&qid=lFxXQCPkhm&rank=1\n",
      "Request Number:   94\n",
      "Book Title: The Rembrandt Affair\n",
      "complete\n",
      "URL:              https://www.goodreads.com/book/show/7905092-freedom?from_search=true&from_srp=true&qid=fDZ2mDhM1C&rank=1\n",
      "Request Number:   95\n",
      "Book Title: Freedom\n",
      "complete\n",
      "URL:              https://www.goodreads.com/book/show/122598034-study-guide?from_search=true&from_srp=true&qid=dn08nyb0HI&rank=1\n",
      "Request Number:   96\n",
      "Book Title: Study Guide\n",
      "complete\n",
      "URL:              https://www.goodreads.com/book/show/7936809-the-reversal?from_search=true&from_srp=true&qid=w5LrQeGuDE&rank=1\n",
      "Request Number:   97\n",
      "Book Title: The Reversal\n",
      "complete\n",
      "URL:              https://www.goodreads.com/book/show/7959473-american-assassin?from_search=true&from_srp=true&qid=ivExVVPbep&rank=1\n",
      "Request Number:   98\n",
      "Book Title: American Assassin\n",
      "complete\n",
      "URL:              https://www.goodreads.com/book/show/8357992-worth-dying-for?from_search=true&from_srp=true&qid=7BJOpWAqAH&rank=1\n",
      "Request Number:   99\n",
      "Book Title: Worth Dying For\n",
      "complete\n",
      "URL:              https://www.goodreads.com/book/show/7933437-the-confession?from_search=true&from_srp=true&qid=hYodXak8fQ&rank=1\n",
      "Request Number:   100\n",
      "Book Title: The Confession\n",
      "complete\n",
      "URL:              https://www.goodreads.com/book/show/8045080-hell-s-corner?from_search=true&from_srp=true&qid=IiSeqPDnjr&rank=1\n",
      "Request Number:   101\n",
      "Book Title: Hell's Corner\n",
      "complete\n",
      "URL:              https://www.goodreads.com/book/show/7856305-cross-fire?from_search=true&from_srp=true&qid=coGPLW31aC&rank=1\n",
      "Request Number:   102\n",
      "Book Title: Cross Fire\n",
      "complete\n",
      "URL:              https://www.goodreads.com/book/show/7926242-port-mortuary?from_search=true&from_srp=true&qid=6OktD45K5d&rank=1\n",
      "Request Number:   103\n",
      "Book Title: Port Mortuary\n",
      "complete\n",
      "URL:              https://www.goodreads.com/book/show/7830126-what-the-night-knows?from_search=true&from_srp=true&qid=UArL5B9s9y&rank=1\n",
      "Request Number:   104\n",
      "Book Title: What the Night Knows\n",
      "complete\n",
      "URL:              https://www.goodreads.com/book/show/7932146-the-inner-circle?from_search=true&from_srp=true&qid=YrBkPjSeDc&rank=1\n",
      "Request Number:   105\n",
      "Book Title: The Inner Circle\n",
      "complete\n",
      "URL:              https://www.goodreads.com/book/show/7304203-shadowfever?from_search=true&from_srp=true&qid=GFLiLRWV7B&rank=1\n",
      "Request Number:   106\n",
      "Book Title: Shadowfever\n",
      "complete\n",
      "URL:              https://www.goodreads.com/book/show/8315872-treachery-in-death?from_search=true&from_srp=true&qid=TjcDDp94WE&rank=1\n",
      "Request Number:   107\n",
      "Book Title: Treachery in Death\n",
      "complete\n",
      "URL:              https://www.goodreads.com/book/show/8437667-live-wire?from_search=true&from_srp=true&qid=UcraJqiCAC&rank=1\n",
      "Request Number:   108\n",
      "Book Title: Live Wire\n",
      "complete\n",
      "URL:              https://www.goodreads.com/book/show/17263004-the-earth-s-children-series-6-book-bundle?from_search=true&from_srp=true&qid=h4WsV8CVaq&rank=1\n",
      "Request Number:   109\n",
      "Book Title: The Earth's Children Series 6-Book Bundle\n",
      "complete\n",
      "URL:              https://www.goodreads.com/book/show/9681098-the-fifth-witness?from_search=true&from_srp=true&qid=NXimYpzjOR&rank=1\n",
      "Request Number:   110\n",
      "Book Title: The Fifth Witness\n",
      "complete\n",
      "URL:              https://www.goodreads.com/book/show/85919107-chasing-fire-nora-roberts-large-print-large-print-by-nora-roberts?from_search=true&from_srp=true&qid=3wuJptEnM8&rank=1\n",
      "Request Number:   111\n",
      "Book Title: Chasing Fire (Nora Roberts Large Print) (Large Print) By Nora Roberts\n",
      "complete\n",
      "URL:              https://www.goodreads.com/book/show/9509287-the-sixth-man?from_search=true&from_srp=true&qid=0XXGuFKq0e&rank=1\n",
      "Request Number:   112\n",
      "Book Title: The Sixth Man\n",
      "complete\n",
      "URL:              https://www.goodreads.com/book/show/7981206-dead-reckoning?from_search=true&from_srp=true&qid=FZTdJU4uU2&rank=1\n",
      "Request Number:   113\n",
      "Book Title: Dead Reckoning\n",
      "complete\n",
      "URL:              https://www.goodreads.com/book/show/62872582-trivia?from_search=true&from_srp=true&qid=fbyl2lkvWM&rank=1\n",
      "Request Number:   114\n",
      "Book Title: Trivia\n",
      "complete\n",
      "URL:              https://www.goodreads.com/book/show/8935153-hit-list?from_search=true&from_srp=true&qid=MAI0h56FvG&rank=1\n",
      "Request Number:   115\n",
      "Book Title: Hit List\n",
      "complete\n",
      "URL:              https://www.goodreads.com/book/show/11732634-smokin-seventeen?from_search=true&from_srp=true&qid=tViX5kvgmo&rank=1\n",
      "Request Number:   116\n",
      "Book Title: Smokin' Seventeen\n",
      "complete\n",
      "URL:              https://www.goodreads.com/book/show/8058301-ghost-story?from_search=true&from_srp=true&qid=kmC1DYzuOU&rank=1\n",
      "Request Number:   117\n",
      "Book Title: Ghost Story\n",
      "complete\n",
      "URL:              https://www.goodreads.com/book/show/31979749-the-helen-trilogy?from_search=true&from_srp=true&qid=9UzgE0llpZ&rank=1\n",
      "Request Number:   118\n",
      "Book Title: The Helen Trilogy\n",
      "complete\n",
      "URL:              https://www.goodreads.com/book/show/8598554-the-omen-machine?from_search=true&from_srp=true&qid=jOof48C74N&rank=1\n",
      "Request Number:   119\n",
      "Book Title: The Omen Machine\n",
      "complete\n",
      "URL:              https://www.goodreads.com/book/show/9998705-flash-and-bones?from_search=true&from_srp=true&qid=tApTswL3En&rank=1\n",
      "Request Number:   120\n",
      "Book Title: Flash and Bones\n",
      "complete\n",
      "URL:              https://www.goodreads.com/book/show/10402992-new-york-to-dallas?from_search=true&from_srp=true&qid=x9XEhrbTht&rank=1\n",
      "Request Number:   121\n",
      "Book Title: New York to Dallas\n",
      "complete\n",
      "URL:              https://www.goodreads.com/book/show/10532477-heat-rises?from_search=true&from_srp=true&qid=uU6U0UyPNW&rank=1\n",
      "Request Number:   122\n",
      "Book Title: Heat Rises\n",
      "complete\n",
      "URL:              https://www.goodreads.com/book/show/10428708-the-affair?from_search=true&from_srp=true&qid=oNeBh3ZK0y&rank=1\n",
      "Request Number:   123\n",
      "Book Title: The Affair\n",
      "complete\n",
      "URL:              https://www.goodreads.com/book/show/9925913-shock-wave?from_search=true&from_srp=true&qid=y4ea0Uh79X&rank=1\n",
      "Request Number:   124\n",
      "Book Title: Shock Wave\n",
      "complete\n",
      "URL:              https://www.goodreads.com/book/show/23377913-the-best-of-me?from_search=true&from_srp=true&qid=IKL1jw4had&rank=1\n",
      "Request Number:   125\n",
      "Book Title: The Best of Me\n",
      "complete\n",
      "URL:              https://www.goodreads.com/book/show/11600163-the-litigators?from_search=true&from_srp=true&qid=CtI9Bq6AiD&rank=1\n",
      "Request Number:   126\n",
      "Book Title: The Litigators\n",
      "complete\n",
      "URL:              https://www.goodreads.com/book/show/121418603-study-guide?from_search=true&from_srp=true&qid=T3QPX8NLTM&rank=1\n",
      "Request Number:   127\n",
      "Book Title: Study Guide\n",
      "complete\n",
      "URL:              https://www.goodreads.com/book/show/10343389-kill-alex-cross?from_search=true&from_srp=true&qid=cVYJMQueAo&rank=1\n",
      "Request Number:   128\n",
      "Book Title: Kill Alex Cross\n",
      "complete\n",
      "URL:              https://www.goodreads.com/book/show/11746513-explosive-eighteen?from_search=true&from_srp=true&qid=Ckrb70N4JO&rank=1\n",
      "Request Number:   129\n",
      "Book Title: Explosive Eighteen\n",
      "complete\n",
      "URL:              https://www.goodreads.com/book/show/11082037-the-drop?from_search=true&from_srp=true&qid=uZN0Fv3zVz&rank=1\n",
      "Request Number:   130\n",
      "Book Title: The Drop\n",
      "complete\n",
      "URL:              https://www.goodreads.com/book/show/29334672-discussion-11-22-63-by-stephen-king?from_search=true&from_srp=true&qid=5Ot2SLyv86&rank=1\n",
      "Request Number:   131\n",
      "Book Title: Discussion | 11/22/63 by Stephen King |\n",
      "complete\n",
      "URL:              https://www.goodreads.com/book/show/11166890-77-shadow-street?from_search=true&from_srp=true&qid=DawkX4o2ug&rank=1\n",
      "Request Number:   132\n",
      "Book Title: 77 Shadow Street\n"
     ]
    },
    {
     "ename": "TimeoutException",
     "evalue": "Message: \nStacktrace:\nRemoteError@chrome://remote/content/shared/RemoteError.sys.mjs:8:8\nWebDriverError@chrome://remote/content/shared/webdriver/Errors.sys.mjs:180:5\nNoSuchElementError@chrome://remote/content/shared/webdriver/Errors.sys.mjs:392:5\nelement.find/</<@chrome://remote/content/marionette/element.sys.mjs:134:16\n",
     "output_type": "error",
     "traceback": [
      "\u001b[0;31m---------------------------------------------------------------------------\u001b[0m",
      "\u001b[0;31mTimeoutException\u001b[0m                          Traceback (most recent call last)",
      "\u001b[0;32m/var/folders/zk/vf208zwx67vf8nf5b5xtyllw0000gn/T/ipykernel_25038/183225919.py\u001b[0m in \u001b[0;36m<module>\u001b[0;34m\u001b[0m\n\u001b[1;32m     18\u001b[0m     \u001b[0;31m# Wait for the page to load\u001b[0m\u001b[0;34m\u001b[0m\u001b[0;34m\u001b[0m\u001b[0m\n\u001b[1;32m     19\u001b[0m     \u001b[0mwait\u001b[0m \u001b[0;34m=\u001b[0m \u001b[0mWebDriverWait\u001b[0m\u001b[0;34m(\u001b[0m\u001b[0mdriver\u001b[0m\u001b[0;34m,\u001b[0m \u001b[0;36m30\u001b[0m\u001b[0;34m)\u001b[0m\u001b[0;34m\u001b[0m\u001b[0;34m\u001b[0m\u001b[0m\n\u001b[0;32m---> 20\u001b[0;31m     \u001b[0mwait\u001b[0m\u001b[0;34m.\u001b[0m\u001b[0muntil\u001b[0m\u001b[0;34m(\u001b[0m\u001b[0mEC\u001b[0m\u001b[0;34m.\u001b[0m\u001b[0mpresence_of_element_located\u001b[0m\u001b[0;34m(\u001b[0m\u001b[0;34m(\u001b[0m\u001b[0mBy\u001b[0m\u001b[0;34m.\u001b[0m\u001b[0mCLASS_NAME\u001b[0m\u001b[0;34m,\u001b[0m \u001b[0;34m'Text__title1'\u001b[0m\u001b[0;34m)\u001b[0m\u001b[0;34m)\u001b[0m\u001b[0;34m)\u001b[0m\u001b[0;34m\u001b[0m\u001b[0;34m\u001b[0m\u001b[0m\n\u001b[0m\u001b[1;32m     21\u001b[0m \u001b[0;34m\u001b[0m\u001b[0m\n\u001b[1;32m     22\u001b[0m     \u001b[0;31m# Convert the page source to a BeautifulSoup object\u001b[0m\u001b[0;34m\u001b[0m\u001b[0;34m\u001b[0m\u001b[0m\n",
      "\u001b[0;32m~/opt/anaconda3/lib/python3.9/site-packages/selenium/webdriver/support/wait.py\u001b[0m in \u001b[0;36muntil\u001b[0;34m(self, method, message)\u001b[0m\n\u001b[1;32m     93\u001b[0m             \u001b[0;32mif\u001b[0m \u001b[0mtime\u001b[0m\u001b[0;34m.\u001b[0m\u001b[0mmonotonic\u001b[0m\u001b[0;34m(\u001b[0m\u001b[0;34m)\u001b[0m \u001b[0;34m>\u001b[0m \u001b[0mend_time\u001b[0m\u001b[0;34m:\u001b[0m\u001b[0;34m\u001b[0m\u001b[0;34m\u001b[0m\u001b[0m\n\u001b[1;32m     94\u001b[0m                 \u001b[0;32mbreak\u001b[0m\u001b[0;34m\u001b[0m\u001b[0;34m\u001b[0m\u001b[0m\n\u001b[0;32m---> 95\u001b[0;31m         \u001b[0;32mraise\u001b[0m \u001b[0mTimeoutException\u001b[0m\u001b[0;34m(\u001b[0m\u001b[0mmessage\u001b[0m\u001b[0;34m,\u001b[0m \u001b[0mscreen\u001b[0m\u001b[0;34m,\u001b[0m \u001b[0mstacktrace\u001b[0m\u001b[0;34m)\u001b[0m\u001b[0;34m\u001b[0m\u001b[0;34m\u001b[0m\u001b[0m\n\u001b[0m\u001b[1;32m     96\u001b[0m \u001b[0;34m\u001b[0m\u001b[0m\n\u001b[1;32m     97\u001b[0m     \u001b[0;32mdef\u001b[0m \u001b[0muntil_not\u001b[0m\u001b[0;34m(\u001b[0m\u001b[0mself\u001b[0m\u001b[0;34m,\u001b[0m \u001b[0mmethod\u001b[0m\u001b[0;34m,\u001b[0m \u001b[0mmessage\u001b[0m\u001b[0;34m:\u001b[0m \u001b[0mstr\u001b[0m \u001b[0;34m=\u001b[0m \u001b[0;34m\"\"\u001b[0m\u001b[0;34m)\u001b[0m\u001b[0;34m:\u001b[0m\u001b[0;34m\u001b[0m\u001b[0;34m\u001b[0m\u001b[0m\n",
      "\u001b[0;31mTimeoutException\u001b[0m: Message: \nStacktrace:\nRemoteError@chrome://remote/content/shared/RemoteError.sys.mjs:8:8\nWebDriverError@chrome://remote/content/shared/webdriver/Errors.sys.mjs:180:5\nNoSuchElementError@chrome://remote/content/shared/webdriver/Errors.sys.mjs:392:5\nelement.find/</<@chrome://remote/content/marionette/element.sys.mjs:134:16\n"
     ]
    }
   ],
   "source": [
    "# df = pd.read_csv('fiction-and-non-fiction-top-best-sellers.csv', header= None)\n",
    "\n",
    "base = 'https://www.goodreads.com/book/show/'\n",
    "\n",
    "collect = pd.DataFrame(columns = ['title','summary'])\n",
    "\n",
    "# options = Options()\n",
    "# options.headless = True\n",
    "# service = Service('/path/to/chromedriver') # replace with the path to your chromedriver executable\n",
    "driver = webdriver.Firefox()\n",
    "\n",
    "counter = 0\n",
    "\n",
    "for i, item in enumerate(df['book_tag'][351:]):\n",
    "    \n",
    "    url = item\n",
    "    driver.get(url)\n",
    "    # Wait for the page to load\n",
    "    wait = WebDriverWait(driver, 30)\n",
    "    wait.until(EC.presence_of_element_located((By.CLASS_NAME, 'Text__title1')))\n",
    "\n",
    "    # Convert the page source to a BeautifulSoup object\n",
    "    soup = BeautifulSoup(driver.page_source, 'html.parser')\n",
    "\n",
    "    print(driver.execute_script('return document.readyState'))  # should print 'complete' \n",
    "    print(f'URL:              {url}')\n",
    "    # print(f'Request Response: {response.status_code}')\n",
    "    print(f'Request Number:   {counter+1}')\n",
    "    \n",
    "    #--------title-------------------------------------------\n",
    "    \n",
    "    # save to Variable\n",
    "    title_tag = soup.find('h1', attrs={'class': 'Text Text__title1'}) #.text\n",
    "    # looking at the h1 tag aria.        \n",
    "    title = title_tag['aria-label'].split(': ')[1]\n",
    "    print(f'Book Title: {title}')\n",
    "    \n",
    "    #----author-----------------------------------------------\n",
    "    \n",
    "    # find where author is stored\n",
    "    # soup.find('span', class_ = \"ContributorLink__name\")\n",
    "    # save the text to a variable\n",
    "    # auth = soup.find('span', class_ = \"ContributorLink__name\").text\n",
    "    # print(f'Book Author: {auth}')\n",
    "    \n",
    "    #----rating-----------------------------------------------\n",
    "    \n",
    "    # \n",
    "    # rating = soup.find_all('div', class_= 'RatingStatistics__rating')[0].text\n",
    "    # print(f'Overall Rating: {rating}')\n",
    "    \n",
    "    #----genre------------------------------------------------\n",
    "    \n",
    "    # try:\n",
    "    #     genre = soup.find('a', {'class': 'Button Button--tag-inline Button--small'}).get_text()\n",
    "    #     print(f'Genre: {genre}')\n",
    "    # except:\n",
    "    #     continue\n",
    "    \n",
    "    #----rating and review counts------------------------------\n",
    "    \n",
    "    # stats = soup.find_all('div', class_ = \"RatingStatistics__meta\")\n",
    "    \n",
    "    # rating_span = soup.find('span', {'data-testid': 'ratingsCount'})\n",
    "    # review_span = soup.find('span', {'data-testid': 'reviewsCount'})\n",
    "    \n",
    "    # rating_text = rating_span.text.strip()\n",
    "    # review_text = review_span.text.strip()\n",
    "    \n",
    "    # rating_text = re.sub('[^0-9]', '', rating_text)\n",
    "    # review_text = re.sub('[^0-9]', '', review_text)\n",
    "    # print(f'Number of Ratings: {rating_text}')\n",
    "    # print(f'Number of Reviews: {review_text}')\n",
    "         \n",
    "    #----summary------------------------------\n",
    "    \n",
    "    summary = soup.find_all('span', class_ = \"Formatted\")[0].text\n",
    "           \n",
    "    #----# of pages------------------------------\n",
    "    \n",
    "    # page = soup.find('p').text\n",
    "    # page = re.sub('[^0-9]', '', page)\n",
    "    # print(f'Number of Pages: {page}')\n",
    "          \n",
    "    #--------year--------------------------\n",
    "    \n",
    "    # year = (soup.find_all('p')[1].text)\n",
    "    # year = year[-4:]\n",
    "    # print(f'Year Published: {year}')\n",
    "    \n",
    "    #--------reviews--------------------------\n",
    "\n",
    "    # reviews = soup.find_all('section',class_ = \"ReviewText__content\")\n",
    "          \n",
    "    # ls_reviews = []\n",
    "    # for i in range (0,len (reviews)):\n",
    "    #    rev = soup.find_all('section',class_ = \"ReviewText__content\")[i].text\n",
    "    #    ls_reviews.append(rev)\n",
    "    \n",
    "    # print('---------------------------------------------')\n",
    "        \n",
    "    collect.loc[counter, ['title','summary']] = title, summary\n",
    "    \n",
    "    counter += 1 \n",
    "    "
   ]
  },
  {
   "cell_type": "code",
   "execution_count": 19,
   "id": "33e15859-9e0b-4a79-ab88-4849f997c9a7",
   "metadata": {},
   "outputs": [],
   "source": [
    "p1 = collect.copy()"
   ]
  },
  {
   "cell_type": "code",
   "execution_count": 20,
   "id": "21cc3307-e916-476e-8cf1-24f4b96e35c0",
   "metadata": {},
   "outputs": [
    {
     "data": {
      "text/html": [
       "<div>\n",
       "<style scoped>\n",
       "    .dataframe tbody tr th:only-of-type {\n",
       "        vertical-align: middle;\n",
       "    }\n",
       "\n",
       "    .dataframe tbody tr th {\n",
       "        vertical-align: top;\n",
       "    }\n",
       "\n",
       "    .dataframe thead th {\n",
       "        text-align: right;\n",
       "    }\n",
       "</style>\n",
       "<table border=\"1\" class=\"dataframe\">\n",
       "  <thead>\n",
       "    <tr style=\"text-align: right;\">\n",
       "      <th></th>\n",
       "      <th>title</th>\n",
       "      <th>summary</th>\n",
       "    </tr>\n",
       "  </thead>\n",
       "  <tbody>\n",
       "    <tr>\n",
       "      <th>0</th>\n",
       "      <td>Raintree County</td>\n",
       "      <td>Throughout a single day in 1892, John Shawness...</td>\n",
       "    </tr>\n",
       "    <tr>\n",
       "      <th>1</th>\n",
       "      <td>Pilgrim's Inn</td>\n",
       "      <td>After WW II, Lucilla Eliot's soldier son Georg...</td>\n",
       "    </tr>\n",
       "    <tr>\n",
       "      <th>2</th>\n",
       "      <td>An A.J. Cronin Trilogy</td>\n",
       "      <td>Omnibus edition of two unabridged novels: The ...</td>\n",
       "    </tr>\n",
       "    <tr>\n",
       "      <th>3</th>\n",
       "      <td>The Naked and the Dead by Norman Mailer Lesson...</td>\n",
       "      <td>The Naked and the Dead lesson plan contains a ...</td>\n",
       "    </tr>\n",
       "    <tr>\n",
       "      <th>4</th>\n",
       "      <td>The Big Fisherman</td>\n",
       "      <td>It was a calm, early summer noon in the southe...</td>\n",
       "    </tr>\n",
       "    <tr>\n",
       "      <th>...</th>\n",
       "      <td>...</td>\n",
       "      <td>...</td>\n",
       "    </tr>\n",
       "    <tr>\n",
       "      <th>346</th>\n",
       "      <td>Lisey's Story</td>\n",
       "      <td>Lisey Debusher Landon lost her husband, Scott,...</td>\n",
       "    </tr>\n",
       "    <tr>\n",
       "      <th>347</th>\n",
       "      <td>Alex Cross Series James Patterson Collection 7...</td>\n",
       "      <td>Alex Cross Series James Patterson Collection 7...</td>\n",
       "    </tr>\n",
       "    <tr>\n",
       "      <th>348</th>\n",
       "      <td>Study Guide</td>\n",
       "      <td>SuperSummary, a modern alternative to SparkNot...</td>\n",
       "    </tr>\n",
       "    <tr>\n",
       "      <th>349</th>\n",
       "      <td>Plum Lovin'</td>\n",
       "      <td>Mysterious men have a way of showing up in Ste...</td>\n",
       "    </tr>\n",
       "    <tr>\n",
       "      <th>350</th>\n",
       "      <td>Step on a Crack</td>\n",
       "      <td>Patterson and Ledwidge introduce a new hero in...</td>\n",
       "    </tr>\n",
       "  </tbody>\n",
       "</table>\n",
       "<p>351 rows × 2 columns</p>\n",
       "</div>"
      ],
      "text/plain": [
       "                                                 title  \\\n",
       "0                                      Raintree County   \n",
       "1                                        Pilgrim's Inn   \n",
       "2                               An A.J. Cronin Trilogy   \n",
       "3    The Naked and the Dead by Norman Mailer Lesson...   \n",
       "4                                    The Big Fisherman   \n",
       "..                                                 ...   \n",
       "346                                      Lisey's Story   \n",
       "347  Alex Cross Series James Patterson Collection 7...   \n",
       "348                                        Study Guide   \n",
       "349                                        Plum Lovin'   \n",
       "350                                    Step on a Crack   \n",
       "\n",
       "                                               summary  \n",
       "0    Throughout a single day in 1892, John Shawness...  \n",
       "1    After WW II, Lucilla Eliot's soldier son Georg...  \n",
       "2    Omnibus edition of two unabridged novels: The ...  \n",
       "3    The Naked and the Dead lesson plan contains a ...  \n",
       "4    It was a calm, early summer noon in the southe...  \n",
       "..                                                 ...  \n",
       "346  Lisey Debusher Landon lost her husband, Scott,...  \n",
       "347  Alex Cross Series James Patterson Collection 7...  \n",
       "348  SuperSummary, a modern alternative to SparkNot...  \n",
       "349  Mysterious men have a way of showing up in Ste...  \n",
       "350  Patterson and Ledwidge introduce a new hero in...  \n",
       "\n",
       "[351 rows x 2 columns]"
      ]
     },
     "execution_count": 20,
     "metadata": {},
     "output_type": "execute_result"
    }
   ],
   "source": [
    "p1"
   ]
  },
  {
   "cell_type": "code",
   "execution_count": null,
   "id": "70621bdd-d148-444e-a0b3-9e3ee0678f73",
   "metadata": {},
   "outputs": [],
   "source": [
    "#df1 = df1.append(collect)"
   ]
  },
  {
   "cell_type": "code",
   "execution_count": null,
   "id": "f4b9101d-7f85-4b58-99e4-c3e03af4bb3d",
   "metadata": {},
   "outputs": [],
   "source": [
    "#df = df[~df['book_tag'].isna()]"
   ]
  },
  {
   "cell_type": "code",
   "execution_count": null,
   "id": "00112f89-cad6-47db-a320-08c9edcbd5b9",
   "metadata": {},
   "outputs": [],
   "source": [
    "#df1 = df1.drop_duplicates(subset='title')"
   ]
  },
  {
   "cell_type": "code",
   "execution_count": null,
   "id": "92196364-02af-41a8-8ae9-081d4e52d522",
   "metadata": {},
   "outputs": [],
   "source": [
    "#df = pd.read_csv('almost_there.csv')"
   ]
  },
  {
   "cell_type": "code",
   "execution_count": null,
   "id": "8e5f9925-0156-4b47-93cc-1618270d8a67",
   "metadata": {},
   "outputs": [],
   "source": [
    "#df = df.append(df1)"
   ]
  },
  {
   "cell_type": "code",
   "execution_count": null,
   "id": "fff019de-99f0-4dfe-88be-28d49e6d585b",
   "metadata": {},
   "outputs": [],
   "source": [
    "#df.to_csv('almost_there.csv')"
   ]
  },
  {
   "cell_type": "markdown",
   "id": "a3848dfc-b8d6-4fa0-a62e-33abba790e42",
   "metadata": {},
   "source": [
    "## testing beautiful soup"
   ]
  },
  {
   "cell_type": "code",
   "execution_count": null,
   "id": "b66de016-5ca2-4aa3-abf9-9f18aae533fc",
   "metadata": {},
   "outputs": [],
   "source": [
    "url = 'https://www.goodreads.com/book/show/11735983-insurgent'\n",
    "\n",
    "response = requests.get(url)\n",
    "\n",
    "response"
   ]
  },
  {
   "cell_type": "code",
   "execution_count": null,
   "id": "3a96366a-5672-4de7-be59-7aa28d7a7be3",
   "metadata": {},
   "outputs": [],
   "source": [
    "soup = BeautifulSoup(response.content, 'html.parser')"
   ]
  },
  {
   "cell_type": "code",
   "execution_count": null,
   "id": "0f15d013-5e21-45ef-9806-bb51c637cdf2",
   "metadata": {},
   "outputs": [],
   "source": [
    "title_tag = soup.find('h1', attrs={'class': 'Text Text__title1'}).text"
   ]
  },
  {
   "cell_type": "code",
   "execution_count": null,
   "id": "05e7f3c2-f60e-4199-88e0-01a91ce4b4fa",
   "metadata": {},
   "outputs": [],
   "source": [
    "title_tag"
   ]
  },
  {
   "cell_type": "code",
   "execution_count": null,
   "id": "d6db3e49-e802-4123-aa06-d6d1414f20f1",
   "metadata": {},
   "outputs": [],
   "source": [
    "    # looking at the h1 tag aria.\n",
    "title = title_tag['aria-label'].split(': ')[1]"
   ]
  },
  {
   "cell_type": "code",
   "execution_count": null,
   "id": "e3770e35-e786-40bb-ba9c-b6b6b033a630",
   "metadata": {},
   "outputs": [],
   "source": [
    "title_tag.text"
   ]
  },
  {
   "cell_type": "code",
   "execution_count": null,
   "id": "23a22274-76be-4e48-be0c-7e35d650b452",
   "metadata": {},
   "outputs": [],
   "source": [
    "title"
   ]
  },
  {
   "cell_type": "code",
   "execution_count": null,
   "id": "e47ec0f0-9423-4367-9739-249ab3990766",
   "metadata": {},
   "outputs": [],
   "source": [
    "title_tag = soup.find('h1', attrs={'class': 'Text Text__title1'})"
   ]
  },
  {
   "cell_type": "code",
   "execution_count": null,
   "id": "dd950f70-4366-4a21-9c33-b350ff0afb14",
   "metadata": {},
   "outputs": [],
   "source": [
    "df = pd.read_csv('2000_book_ids.txt')"
   ]
  },
  {
   "cell_type": "code",
   "execution_count": null,
   "id": "7f5e9bc1-6928-46cd-8459-b23bfa0778e4",
   "metadata": {
    "tags": []
   },
   "outputs": [],
   "source": [
    "df"
   ]
  },
  {
   "cell_type": "markdown",
   "id": "3b343413-c16e-4265-9484-ca5ba027a377",
   "metadata": {},
   "source": [
    "## selenium practice"
   ]
  },
  {
   "cell_type": "code",
   "execution_count": null,
   "id": "09d2e4ce-f756-40bc-9570-b1eaa0c86cdf",
   "metadata": {},
   "outputs": [],
   "source": [
    "from selenium import webdriver\n",
    "from parsel import Selector\n",
    "from selenium.webdriver.common.keys import Keys\n",
    "from selenium.webdriver.chrome.service import Service\n",
    "from selenium.webdriver.common.by import By\n",
    "from selenium.webdriver.support.ui import WebDriverWait\n",
    "from selenium.webdriver.chrome.options import Options\n",
    "from selenium.webdriver.support import expected_conditions as EC"
   ]
  },
  {
   "cell_type": "code",
   "execution_count": null,
   "id": "5470e27e-a36c-4063-84f7-75c17ebdfb54",
   "metadata": {},
   "outputs": [],
   "source": [
    "driver = webdriver.Chrome()"
   ]
  },
  {
   "cell_type": "code",
   "execution_count": null,
   "id": "b0ef3ce1-526e-4275-947b-2a814dadfe2f",
   "metadata": {},
   "outputs": [],
   "source": [
    "url = 'http://the-internet.herokuapp.com/login'\n",
    "\n",
    "driver.get(url)\n",
    "\n",
    "driver.find_element(By.XPATH, \"//*[@id='username']\").send_keys('tomsmith')\n",
    "driver.find_element(By.XPATH, \"//*[@id='password']\").send_keys('SuperSecretPassword!')\n",
    "driver.find_element(By.XPATH, '//*[@id=\"login\"]/button').click()"
   ]
  },
  {
   "cell_type": "code",
   "execution_count": null,
   "id": "19cf83bb-38fb-4ab9-b7a4-3d9b7f1b877a",
   "metadata": {},
   "outputs": [],
   "source": [
    "# old syntax for the above\n",
    "# driver.find_element_by_xpath('//*[@id=\"username\"]').send_keys('tomsmith')\n",
    "# driver.find_element_by_xpath('//*[@id=\"password\"]').send_keys('SuperSecretPassword!')\n",
    "# driver.find_element_by_xpath('//*[@id=\"login\"]/button').click()"
   ]
  },
  {
   "cell_type": "code",
   "execution_count": null,
   "id": "0bf9e692-1b27-4641-a349-ddbba55674cf",
   "metadata": {},
   "outputs": [],
   "source": [
    "url = 'https://the-internet.herokuapp.com/dynamic_loading/2'\n",
    "\n",
    "driver.get(url)\n",
    "\n",
    "driver.find_element(By.XPATH, '//*[@id=\"start\"]/button').click()\n",
    "#implicit wait\n",
    "driver.implicitly_wait(10)\n",
    "text = driver.find_element(By.XPATH, \"//*[@id='finish']/h4\").text\n",
    "\n",
    "print(text)"
   ]
  },
  {
   "cell_type": "code",
   "execution_count": null,
   "id": "d3e358b9-d4a6-4214-aebb-75fb1ffb6ee8",
   "metadata": {},
   "outputs": [],
   "source": [
    "driver.quit()"
   ]
  },
  {
   "cell_type": "code",
   "execution_count": null,
   "id": "ba89f5ff-c853-40e0-91c0-52ac209e1d6f",
   "metadata": {},
   "outputs": [],
   "source": [
    "url = 'https://www.youtube.com/@TinaHuang1/videos'\n",
    "\n",
    "driver = webdriver.Chrome()\n",
    "\n",
    "driver.get(url)"
   ]
  },
  {
   "cell_type": "code",
   "execution_count": null,
   "id": "25c7434b-f7ef-4e28-9eb1-f63e53e5709a",
   "metadata": {},
   "outputs": [],
   "source": []
  },
  {
   "cell_type": "code",
   "execution_count": null,
   "id": "7a10ca2c-1e09-4530-bbab-4586cd864faa",
   "metadata": {
    "tags": []
   },
   "outputs": [],
   "source": [
    "# configure webdriver\n",
    "options = Options()\n",
    "options.headless = False  # hide GUI\n",
    "options.add_argument(\"--window-size=1920,1080\")  # set window size to native GUI size\n",
    "options.add_argument(\"start-maximized\")  # ensure window is full-screen\n",
    "...\n",
    "# configure chrome browser to not load images and javascript\n",
    "chrome_options = webdriver.ChromeOptions()\n",
    "chrome_options.add_experimental_option(\n",
    "    # this will disable image loading\n",
    "    \"prefs\", {\"profile.managed_default_content_settings.images\": 2}\n",
    ")\n",
    "...\n",
    "driver = webdriver.Chrome(options=options, chrome_options=chrome_options)\n",
    "driver.get(\"https://www.twitch.tv/directory/game/Art\")\n",
    "# wait for page to load\n",
    "element = WebDriverWait(driver=driver, timeout=5).until(\n",
    "    EC.presence_of_element_located((By.CSS_SELECTOR, 'div[data-target=directory-first-item]'))\n",
    ")\n",
    "print(driver.page_source)"
   ]
  },
  {
   "cell_type": "code",
   "execution_count": null,
   "id": "95ad5b4d-6dde-4cc6-8a73-dfd56c3245c4",
   "metadata": {},
   "outputs": [],
   "source": [
    "sel = Selector(text=driver.page_source)\n",
    "parsed = []\n",
    "for item in sel.xpath(\"//div[contains(@class,'tw-tower')]/div[@data-target]\"):\n",
    "    parsed.append({\n",
    "        'title': item.css('h3::text').get(),\n",
    "        'url': item.css('.tw-link::attr(href)').get(),\n",
    "        'username': item.css('.tw-link::text').get(),\n",
    "        'tags': item.css('.tw-tag ::text').getall(),\n",
    "        'viewers': ''.join(item.css('.tw-media-card-stat::text').re(r'(\\d+)')),\n",
    "    })"
   ]
  },
  {
   "cell_type": "code",
   "execution_count": null,
   "id": "536194b7-4eb1-40cd-8e30-fee4aa0f845d",
   "metadata": {
    "tags": []
   },
   "outputs": [],
   "source": [
    "parsed"
   ]
  },
  {
   "cell_type": "code",
   "execution_count": null,
   "id": "c2504cd1-eddd-452c-95fc-692df9713ab8",
   "metadata": {},
   "outputs": [],
   "source": [
    "    reviews = soup.find_all('section',class_ = \"ReviewText__content\")\n",
    "          \n",
    "    ls_reviews = []\n",
    "    for i in range (0,len (reviews)):\n",
    "        rev = soup.find_all('section',class_ = \"ReviewText__content\")[i].text\n",
    "        ls_reviews.append(rev)"
   ]
  },
  {
   "cell_type": "code",
   "execution_count": null,
   "id": "c2c5d207-a3a2-485a-909c-1d92f76bee20",
   "metadata": {
    "tags": []
   },
   "outputs": [],
   "source": [
    "df"
   ]
  },
  {
   "cell_type": "code",
   "execution_count": null,
   "id": "fc521ef1-d79f-4fc5-8bdb-cd1c2d83d038",
   "metadata": {
    "jupyter": {
     "source_hidden": true
    },
    "tags": []
   },
   "outputs": [],
   "source": [
    "collectS = pd.DataFrame(columns = ['title','summary','year_published','author','review_count','number_of_ratings','length','genre','rating','reviews'])\n",
    "\n",
    "\n",
    "options = Options()\n",
    "options.headless = True\n",
    "service = Service('/path/to/chromedriver') # replace with the path to your chromedriver executable\n",
    "driver = webdriver.Chrome(service=service, options=options)\n",
    "\n",
    "for i, item in enumerate(df['book_tag']):\n",
    "\n",
    "    print(counter)\n",
    "\n",
    "    url = base + item\n",
    "    driver.get(url)\n",
    "    # Wait for the page to load\n",
    "    wait = WebDriverWait(driver, 30)\n",
    "    wait.until(EC.presence_of_element_located((By.CLASS_NAME, 'Text__title1')))\n",
    "\n",
    "    # Convert the page source to a BeautifulSoup object\n",
    "    soup = BeautifulSoup(driver.page_source, 'html.parser')\n",
    "\n",
    "    print(driver.execute_script('return document.readyState'))  # should print 'complete'\n",
    "\n",
    "    #--------title-------------------------------------------\n",
    "\n",
    "    # save to Variable\n",
    "    title_tag = soup.find('h1', attrs={'class': 'Text Text__title1'})\n",
    "    # looking at the h1 tag aria.\n",
    "    title = title_tag['aria-label'].split(': ')[1]\n",
    "    print(title)\n",
    "\n",
    "    #----author-----------------------------------------------\n",
    "\n",
    "    # find where author is stored\n",
    "    soup.find('span', class_=\"ContributorLink__name\")\n",
    "    # save the text to a variable\n",
    "    auth = soup.find('span', class_=\"ContributorLink__name\").text\n",
    "    print(auth)\n",
    "\n",
    "    #----rating-----------------------------------------------\n",
    "\n",
    "    rating = soup.find_all('div', class_='RatingStatistics__rating')[0].text\n",
    "    print(rating)\n",
    "\n",
    "    #----rating and review counts------------------------------\n",
    "\n",
    "    stats = soup.find_all('div', class_=\"RatingStatistics__meta\")\n",
    "\n",
    "    rating_span = soup.find('span', {'data-testid': 'ratingsCount'})\n",
    "    review_span = soup.find('span', {'data-testid': 'reviewsCount'})\n",
    "\n",
    "    rating_text = rating_span.text.strip()\n",
    "    review_text = review_span.text.strip()\n",
    "\n",
    "    rating_text = re.sub('[^0-9]', '', rating_text)\n",
    "    review_text = re.sub('[^0-9]', '', review_text)\n",
    "    print(f'{rating_text} , {review_text}')\n",
    "\n",
    "    #----summary------------------------------\n",
    "    summary = soup.find_all('span', class_=\"Formatted\")[0].text\n",
    "\n",
    "    #----# of pages------------------------------\n",
    "    page = soup.find('p').text\n",
    "    page = re.sub('[^0-9]', '', page)\n",
    "    print(page)\n",
    "\n",
    "    #--------year--------------------------\n",
    "    year = (soup.find_all('p')[1].text)\n",
    "    year = year[-4:]\n",
    "    print(year)\n",
    "\n",
    "    #--------genre--------------------------\n",
    "    try:\n",
    "        genre = soup.find('a', {'class': 'Button Button--tag-inline Button--small'}).get_text()\n",
    "        print(genre)\n",
    "    except:\n",
    "        continue\n",
    "\n",
    "    #--------reviews--------------------------\n",
    "    # reviews = soup.find_all('section', class_=\"ReviewText__content\")\n",
    "\n",
    "    # ls_reviews = []\n",
    "    # for i in range(0, len(reviews)):\n",
    "    #    rev = reviews[i].text  # using `reviews` instead of `soup`\n",
    "    #    ls_reviews.append(rev)\n",
    "\n",
    "\n",
    "    print('\\n')\n",
    "    print(counter)\n",
    "    \n",
    "    collectS.loc[counter, ['title', 'summary', 'year_published', 'author', 'review_count', 'number_of_ratings', 'length', 'genre', 'rating', 'reviews']] = title, summary, year, auth, review_text, rating_text, page, genre, rating, ls_reviews\n",
    "    counter = counter + 1 "
   ]
  },
  {
   "cell_type": "markdown",
   "id": "3d741f66-8ca1-4616-99a7-d7ee8b70de9f",
   "metadata": {},
   "source": [
    "## gathering the data into one file"
   ]
  },
  {
   "cell_type": "code",
   "execution_count": null,
   "id": "7b4ec484-1706-4164-8255-2093d2ef879d",
   "metadata": {},
   "outputs": [],
   "source": [
    "#df1 = pd.read_csv('first_207_in_books.csv')\n",
    "#df2 = pd.read_csv('second_149_in_books.csv')\n",
    "#df3 = pd.read_csv('third_45_in_books.csv')\n",
    "#df4 = pd.read_csv('fourth_102_in_books.csv')\n",
    "#df5 = pd.read_csv('fifth_375_in_books.csv')"
   ]
  },
  {
   "cell_type": "code",
   "execution_count": null,
   "id": "df1f2ae1-790f-4041-9907-1f969b533473",
   "metadata": {},
   "outputs": [],
   "source": [
    "#df6 = pd.read_csv('sixth_355_in_books.csv')"
   ]
  },
  {
   "cell_type": "code",
   "execution_count": null,
   "id": "bb4dcf0f-a51d-42e3-8fea-098e47c61f1b",
   "metadata": {},
   "outputs": [],
   "source": [
    "#df_1 = df_1.append(df1)"
   ]
  },
  {
   "cell_type": "code",
   "execution_count": null,
   "id": "ab69a4d3-7d59-438e-9053-ee004f89c782",
   "metadata": {},
   "outputs": [],
   "source": [
    "#df_1 = df_1.append(df2)"
   ]
  },
  {
   "cell_type": "code",
   "execution_count": null,
   "id": "11105bc4-d62b-4d08-a508-53796dc7b66c",
   "metadata": {},
   "outputs": [],
   "source": [
    "#df_1 = df_1.append(df3)"
   ]
  },
  {
   "cell_type": "code",
   "execution_count": null,
   "id": "9632d27f-8650-4ec0-9c22-9670f8c280a2",
   "metadata": {},
   "outputs": [],
   "source": [
    "#df_1 = df_1.append(df4)"
   ]
  },
  {
   "cell_type": "code",
   "execution_count": null,
   "id": "f881efa6-dac4-485e-a3bf-1be43d60e099",
   "metadata": {},
   "outputs": [],
   "source": [
    "#df_1 = df_1.append(df5)"
   ]
  },
  {
   "cell_type": "code",
   "execution_count": null,
   "id": "139f46df-9e75-4384-977f-da43860a12b5",
   "metadata": {},
   "outputs": [],
   "source": [
    "#df_1 = df_1.append(df6)"
   ]
  },
  {
   "cell_type": "code",
   "execution_count": null,
   "id": "730fb918-6369-4819-a0f4-f0fb3f7136e3",
   "metadata": {},
   "outputs": [],
   "source": [
    "#df_1 = df_1.drop(columns='Unnamed: 0')"
   ]
  },
  {
   "cell_type": "code",
   "execution_count": null,
   "id": "acdac025-7200-4093-9091-0f3689d56024",
   "metadata": {},
   "outputs": [],
   "source": [
    "#df_1['title'].nunique()"
   ]
  },
  {
   "cell_type": "code",
   "execution_count": null,
   "id": "64b0b825-7f1c-4279-b5cf-b3f32505e29d",
   "metadata": {},
   "outputs": [],
   "source": [
    "#df1 = df_1.drop_duplicates(subset='title')"
   ]
  },
  {
   "cell_type": "code",
   "execution_count": null,
   "id": "e19964a2-1cfb-4adb-bd0f-ba7b1aabbf3d",
   "metadata": {
    "tags": []
   },
   "outputs": [],
   "source": [
    "#df1"
   ]
  },
  {
   "cell_type": "code",
   "execution_count": null,
   "id": "f53eccd9-86b7-4024-9aa4-7a5726e2866f",
   "metadata": {},
   "outputs": [],
   "source": [
    "#df1 = df1.reset_index()"
   ]
  },
  {
   "cell_type": "code",
   "execution_count": null,
   "id": "b9a008cc-d435-48dc-a6bf-7157e81d9b74",
   "metadata": {},
   "outputs": [],
   "source": [
    "#df1 = df1.drop(columns='index')"
   ]
  },
  {
   "cell_type": "code",
   "execution_count": null,
   "id": "1ab52d7f-df7b-46ec-9797-8daeba681880",
   "metadata": {},
   "outputs": [],
   "source": [
    "#lst = df1['genre'].value_counts().tail(65).index.to_list()"
   ]
  },
  {
   "cell_type": "code",
   "execution_count": null,
   "id": "eeab6c72-a3e7-4244-ad56-d4f3911bf36d",
   "metadata": {},
   "outputs": [],
   "source": [
    "#df1 = df1[~df1['genre'].isin(lst)]"
   ]
  },
  {
   "cell_type": "code",
   "execution_count": null,
   "id": "0084fd24-7d38-4165-9079-195902d11412",
   "metadata": {
    "tags": []
   },
   "outputs": [],
   "source": [
    "#df1"
   ]
  },
  {
   "cell_type": "code",
   "execution_count": null,
   "id": "ab019688-876c-42c5-b962-179ca2ea16c9",
   "metadata": {},
   "outputs": [],
   "source": [
    "#df1.to_csv('almost_there.csv')"
   ]
  },
  {
   "cell_type": "code",
   "execution_count": null,
   "id": "fdba1c12-8c61-4638-9cbc-07c63dc8d5a3",
   "metadata": {},
   "outputs": [],
   "source": [
    "df = df.drop(columns='Unnamed: 0')"
   ]
  },
  {
   "cell_type": "code",
   "execution_count": null,
   "id": "c69bff37-46cf-4fe2-a3d4-440d6edabbc3",
   "metadata": {},
   "outputs": [],
   "source": [
    "df.to_csv('almost_there.csv')"
   ]
  },
  {
   "cell_type": "code",
   "execution_count": null,
   "id": "0e4724e3-6534-4003-a32d-7e4c3c792bfb",
   "metadata": {},
   "outputs": [],
   "source": []
  },
  {
   "cell_type": "code",
   "execution_count": null,
   "id": "c1f41003-4327-4026-a008-7327cb5f8a26",
   "metadata": {},
   "outputs": [],
   "source": []
  },
  {
   "cell_type": "code",
   "execution_count": null,
   "id": "81fd082e-22f1-4665-8b41-673aa7ef7bc3",
   "metadata": {},
   "outputs": [],
   "source": []
  },
  {
   "cell_type": "markdown",
   "id": "6c262618-6839-48cb-8cb2-9721b25fd04f",
   "metadata": {},
   "source": [
    "## Creating a useable function from a combo of the above loop and Manny's selenium function"
   ]
  },
  {
   "cell_type": "markdown",
   "id": "dc6565aa-4b32-4b2b-93a6-a5da3df47631",
   "metadata": {},
   "source": [
    "### But first, creating the function to get the urls"
   ]
  },
  {
   "cell_type": "code",
   "execution_count": null,
   "id": "d2d2acb3-73ba-4841-aee9-f7e7b3309769",
   "metadata": {
    "jupyter": {
     "source_hidden": true
    },
    "tags": []
   },
   "outputs": [],
   "source": [
    "def get_book_urls(filename, rng=15):\n",
    "    '''\n",
    "    This function will take in an optional range and scrape and then format the url of a\n",
    "    books page to be input into a file to use for further scraping. Needs additional work to get it to work in a more universal way, \n",
    "    but functions as is. Need to edit function url for each different web page currently.\n",
    "    '''\n",
    "    books = []\n",
    "    # initial loop to gather the data from Goodreads\n",
    "    for i in range(1, rng):\n",
    "        # The url where the books are gathered. This is the part that needs tweaking so that the function can just take in a url. \n",
    "        # Need to research how to format the string properly.\n",
    "        url = f'https://www.goodreads.com/list/show/264.Books_That_Everyone_Should_Read_At_Least_Once?page={i}'\n",
    "        response = requests.get(url)\n",
    "        soup = BeautifulSoup(response.content, 'html.parser')  \n",
    "        page = soup.find_all('a', class_='bookTitle')\n",
    "        # Checking the status code as function runs\n",
    "        print(response.status_code)\n",
    "        # Appending the gathered data into a list of lists\n",
    "        for i in range(0, len(page)):\n",
    "            # Referencing the specific section of the hmtl to find the url\n",
    "            href = page[i]['href']\n",
    "            # Appending the url onto the list after shaving off the unneeded part with Regex   \n",
    "            books.append(re.findall(r'\\d.*', href))\n",
    "            # books.append(href)\n",
    "        # A short sleep timer so Goodreads doesn't get upset\n",
    "        time.sleep(3)        \n",
    "    books_list = []\n",
    "    #url = 'https://www.goodreads.com/book/show/' + book_id\n",
    "    # Short loop to turn the above created list of lists into a list for better formatting\n",
    "    for i in range(len(books)):\n",
    "        book = books[i][0]\n",
    "        books_list.append(book)\n",
    "    # Creating/Updating a file formatted properly for use later    \n",
    "    with open(filename, \"w\") as output:\n",
    "    # output.write(str(books_list))\n",
    "        for i in books_list:\n",
    "            output.write(i + '\\n')"
   ]
  },
  {
   "cell_type": "code",
   "execution_count": null,
   "id": "b472ca17-7515-4e5c-b311-d47b57dfd5cc",
   "metadata": {},
   "outputs": [],
   "source": [
    "get_book_urls('book_urls.txt', 5)"
   ]
  },
  {
   "cell_type": "markdown",
   "id": "e9e4866d-606a-405f-a5b2-db0fc3a2eb04",
   "metadata": {},
   "source": [
    "### From here, functionalizing each piece of info needed to be scraped"
   ]
  },
  {
   "cell_type": "code",
   "execution_count": null,
   "id": "2c29c38f-8802-494c-adcf-a1a100c74b4a",
   "metadata": {
    "jupyter": {
     "source_hidden": true
    },
    "tags": []
   },
   "outputs": [],
   "source": [
    "def get_titles(df, link_col):\n",
    "    \n",
    "    options = Options()\n",
    "    options.headless = True\n",
    "    service = Service('/path/to/chromedriver') # replace with the path to your chromedriver executable\n",
    "    driver = webdriver.Chrome(service=service, options=options)\n",
    "    \n",
    "    base = 'https://www.goodreads.com/book/show/'\n",
    "    \n",
    "    url = base + item\n",
    "    # Wait for page to load\n",
    "    wait = WebDriverWait(driver, 30)\n",
    "    wait.until(EC.presence_of_element_located((By.CLASS_NAME, 'Text__title1')))\n",
    "        \n",
    "    # Convert the page source to a Beautiful Soup object\n",
    "    soup = BeautifulSoup(driver.page_source, 'html.parser')\n",
    "        \n",
    "    print(driver.execute_script('return document.readyState'))  # Should print 'complete' \n",
    "    # Save to variable\n",
    "    title_tag = soup.find('h1', attrs={'class': 'Text Text__title1'}) #.text\n",
    "    # Looking at the h1 tag aria.        \n",
    "    title = title_tag['aria-label'].split(': ')[1]\n",
    "    print(f'URL:              {url}')\n",
    "    print(f'Book Title:       {title}')"
   ]
  },
  {
   "cell_type": "code",
   "execution_count": null,
   "id": "9555cbd3-0687-432a-bfcd-185e91eee138",
   "metadata": {},
   "outputs": [],
   "source": [
    "df = pd.read_csv('book_urls.txt', header=None)"
   ]
  },
  {
   "cell_type": "code",
   "execution_count": null,
   "id": "0f0a1769-4503-4576-be28-9b23b9b4484d",
   "metadata": {},
   "outputs": [],
   "source": [
    "df = df.rename(columns={0:'links'})"
   ]
  },
  {
   "cell_type": "code",
   "execution_count": null,
   "id": "60069a8f-82f2-4652-a7f6-b4577a699663",
   "metadata": {},
   "outputs": [],
   "source": [
    "df.head()"
   ]
  },
  {
   "cell_type": "code",
   "execution_count": null,
   "id": "21b6a7c4-db3a-4631-adcd-f35b74906e57",
   "metadata": {},
   "outputs": [],
   "source": [
    "base = 'https://www.goodreads.com/book/show/'\n",
    "\n",
    "df = pd.read_csv('2000_book_ids.txt', header= None, names = ['book_tag'])\n",
    "\n",
    "practice = base +  df['book_tag'][0]\n",
    "practice"
   ]
  },
  {
   "cell_type": "code",
   "execution_count": null,
   "id": "49ff97e1-eb07-4168-a9e9-37ec19fa6679",
   "metadata": {},
   "outputs": [],
   "source": [
    "response = requests.get(practice)\n",
    "\n",
    "soup = BeautifulSoup(response.content, 'html.parser')"
   ]
  },
  {
   "cell_type": "code",
   "execution_count": null,
   "id": "78345186-a044-46ad-86d1-06999fc4fe74",
   "metadata": {
    "tags": []
   },
   "outputs": [],
   "source": [
    "soup"
   ]
  },
  {
   "cell_type": "code",
   "execution_count": null,
   "id": "971a76b9-8fc5-4890-8b63-37be26305c38",
   "metadata": {},
   "outputs": [],
   "source": [
    "collect = pd.DataFrame(columns = ['title','summary','year_published','author','review_count',\n",
    "                                  'number_of_ratings','length','genre','rating','list','reviews'])"
   ]
  },
  {
   "cell_type": "code",
   "execution_count": null,
   "id": "4fc5214b-012d-4ab2-9eda-1ed17d11c919",
   "metadata": {},
   "outputs": [],
   "source": [
    "soup.find('h1', attrs={'class': 'Text Text__title1'})\n",
    "\n",
    "title_tag = soup.find('h1', attrs={'class': 'Text Text__title1'})"
   ]
  },
  {
   "cell_type": "code",
   "execution_count": null,
   "id": "7064ff8d-ad5c-4ffc-aa4a-7b149c17e223",
   "metadata": {},
   "outputs": [],
   "source": [
    "title = title_tag['aria-label'].split(': ')[1]"
   ]
  },
  {
   "cell_type": "code",
   "execution_count": null,
   "id": "846fffaf-d124-40d0-9bb7-ecf278f943a3",
   "metadata": {},
   "outputs": [],
   "source": [
    "title"
   ]
  },
  {
   "cell_type": "code",
   "execution_count": null,
   "id": "418f5e6f-2fcc-4719-a551-cd5c9ade10c6",
   "metadata": {},
   "outputs": [],
   "source": [
    "collect.loc[0, 'title'] = title"
   ]
  },
  {
   "cell_type": "code",
   "execution_count": null,
   "id": "a1f898f8-a111-4e69-af46-65767f9bc4ca",
   "metadata": {},
   "outputs": [],
   "source": [
    "title"
   ]
  },
  {
   "cell_type": "code",
   "execution_count": null,
   "id": "128f0fb4-e37f-4255-b1bc-ae1b19454f76",
   "metadata": {},
   "outputs": [],
   "source": []
  },
  {
   "cell_type": "code",
   "execution_count": null,
   "id": "ed8a6d6a-bd93-413f-850e-76e85d3cc39a",
   "metadata": {},
   "outputs": [],
   "source": []
  },
  {
   "cell_type": "code",
   "execution_count": null,
   "id": "8c895684-f427-4192-949a-4f4528ceb1f2",
   "metadata": {},
   "outputs": [],
   "source": []
  },
  {
   "cell_type": "code",
   "execution_count": null,
   "id": "468d7d6f-fdf7-482c-8be2-1f708032d693",
   "metadata": {
    "jupyter": {
     "source_hidden": true
    },
    "tags": []
   },
   "outputs": [],
   "source": [
    "def get_bad_books_links(df):\n",
    "    # Check if links.txt exists, read the last link as the starter_link\n",
    "    if os.path.exists(\"links.txt\"):\n",
    "        with open(\"links.txt\", \"r\") as file:\n",
    "            lines = file.readlines()\n",
    "            starter_link = lines[-1].strip()\n",
    "    else:\n",
    "        starter_link = \"https://www.goodreads.com/book/show/3450744-nudge\"\n",
    "\n",
    "    # Add new column called 'link' to df\n",
    "    df['link'] = \"\"\n",
    "\n",
    "    driver = webdriver.Chrome()\n",
    "\n",
    "    # Open a text file for writing\n",
    "    with open(\"links.txt\", \"a\") as file:\n",
    "\n",
    "        # If row_index.txt exists, read the last index and start from the next row\n",
    "        if os.path.exists(\"row_index.txt\"):\n",
    "            with open(\"row_index.txt\", \"r\") as index_file:\n",
    "                last_index = int(index_file.read().strip())\n",
    "                start_index = last_index + 1\n",
    "        else:\n",
    "            start_index = 0\n",
    "\n",
    "        for index, row in df.iloc[start_index:].iterrows():\n",
    "            # loading initial webpage\n",
    "            driver.get(starter_link)\n",
    "\n",
    "            # current row content to use in query\n",
    "            title = row['Title']\n",
    "            author = row['Author']\n",
    "\n",
    "            try:\n",
    "                # add wait for page to finish loading\n",
    "                WebDriverWait(driver, 10).until(EC.visibility_of_element_located((By.XPATH, '//*[@id=\"Header\"]/div[2]/div[2]/section/form/input[1]')))\n",
    "\n",
    "                # search GoodReads for \"title author\"\n",
    "                search_bar = driver.find_element_by_xpath('//*[@id=\"Header\"]/div[2]/div[2]/section/form/input[1]')\n",
    "                search_bar.send_keys(title + \" \" + author)\n",
    "                search_bar.submit()\n",
    "\n",
    "                # add wait for page to finish loading\n",
    "                WebDriverWait(driver, 10).until(EC.visibility_of_element_located((By.CLASS_NAME, 'bookTitle')))\n",
    "\n",
    "                # extract 1st search result link from page\n",
    "                links = driver.find_element_by_class_name('bookTitle')\n",
    "                row_value = links.get_attribute('href')\n",
    "\n",
    "                # append value to new column called 'link'\n",
    "                df.at[index, 'link'] = row_value\n",
    "\n",
    "                # Update starter_link\n",
    "                starter_link = row_value\n",
    "\n",
    "                # Write the row_value to the text file\n",
    "                file.write(f\"{row_value}\\n\")\n",
    "\n",
    "            except:\n",
    "                # If no search results or timeout, continue to the next row\n",
    "                continue\n",
    "\n",
    "            finally:\n",
    "                # Save current row index to row_index.txt\n",
    "                with open(\"row_index.txt\", \"w\") as index_file:\n",
    "                    index_file.write(str(index))\n",
    "\n",
    "    driver.quit()\n",
    "    return df"
   ]
  },
  {
   "cell_type": "code",
   "execution_count": null,
   "id": "ca39b690-be02-43a7-9135-af60174a1549",
   "metadata": {},
   "outputs": [],
   "source": []
  },
  {
   "cell_type": "code",
   "execution_count": null,
   "id": "99791edb-35a3-427b-b7b2-e00cd3c55742",
   "metadata": {},
   "outputs": [],
   "source": []
  },
  {
   "cell_type": "code",
   "execution_count": null,
   "id": "f7bf91ac-8f43-41b6-9a6c-ef96d5397ad5",
   "metadata": {
    "jupyter": {
     "source_hidden": true
    },
    "tags": []
   },
   "outputs": [],
   "source": [
    "def get_book_info(filename, col):\n",
    "    \n",
    "    df = pd.read_csv(filename, header= None, names = [col])\n",
    "\n",
    "    base = 'https://www.goodreads.com/book/show/'\n",
    "\n",
    "    collect = pd.DataFrame(columns = ['title','summary','year_published','author','review_count',\n",
    "                                  'number_of_ratings','length','genre','rating','reviews'])\n",
    "\n",
    "    options = Options()\n",
    "    options.headless = True\n",
    "    service = Service('/path/to/chromedriver') # replace with the path to your chromedriver executable\n",
    "    driver = webdriver.Chrome(service=service, options=options)\n",
    "\n",
    "    counter = 0\n",
    "\n",
    "    for i, item in enumerate(df['book_tag'][375:]):\n",
    "    \n",
    "        url = base + item\n",
    "        driver.get(url)\n",
    "        # Wait for the page to load\n",
    "        wait = WebDriverWait(driver, 30)\n",
    "        wait.until(EC.presence_of_element_located((By.CLASS_NAME, 'Text__title1')))\n",
    "\n",
    "        # Convert the page source to a BeautifulSoup object\n",
    "        soup = BeautifulSoup(driver.page_source, 'html.parser')\n",
    "\n",
    "        print(driver.execute_script('return document.readyState'))  # should print 'complete' \n",
    "        print(f'URL:              {url}')\n",
    "        # print(f'Request Response: {response.status_code}')\n",
    "        print(f'Request Number:   {counter+1}')\n",
    "    \n",
    "        #--------title-------------------------------------------\n",
    "    \n",
    "        # save to Variable\n",
    "        title_tag = soup.find('h1', attrs={'class': 'Text Text__title1'}) #.text\n",
    "        # looking at the h1 tag aria.        \n",
    "        title = title_tag['aria-label'].split(': ')[1]\n",
    "        print(f'Book Title: {title}')\n",
    "    \n",
    "        #----author-----------------------------------------------\n",
    "    \n",
    "        # find where author is stored\n",
    "        soup.find('span', class_ = \"ContributorLink__name\")\n",
    "        # save the text to a variable\n",
    "        auth = soup.find('span', class_ = \"ContributorLink__name\").text\n",
    "        print(f'Book Author: {auth}')\n",
    "    \n",
    "        #----rating-----------------------------------------------\n",
    "    \n",
    "        # \n",
    "        rating = soup.find_all('div', class_= 'RatingStatistics__rating')[0].text\n",
    "        print(f'Overall Rating: {rating}')\n",
    "    \n",
    "        #----genre------------------------------------------------\n",
    "    \n",
    "        try:\n",
    "            genre = soup.find('a', {'class': 'Button Button--tag-inline Button--small'}).get_text()\n",
    "            print(f'Genre: {genre}')\n",
    "        except:\n",
    "            continue\n",
    "    \n",
    "        #----rating and review counts------------------------------\n",
    "    \n",
    "        stats = soup.find_all('div', class_ = \"RatingStatistics__meta\")\n",
    "    \n",
    "        rating_span = soup.find('span', {'data-testid': 'ratingsCount'})\n",
    "        review_span = soup.find('span', {'data-testid': 'reviewsCount'})\n",
    "    \n",
    "        rating_text = rating_span.text.strip()\n",
    "        review_text = review_span.text.strip()\n",
    "    \n",
    "        rating_text = re.sub('[^0-9]', '', rating_text)\n",
    "        review_text = re.sub('[^0-9]', '', review_text)\n",
    "        print(f'Number of Ratings: {rating_text}')\n",
    "        print(f'Number of Reviews: {review_text}')\n",
    "         \n",
    "        #----summary------------------------------\n",
    "    \n",
    "        summary = soup.find_all('span', class_ = \"Formatted\")[0].text\n",
    "           \n",
    "        #----# of pages------------------------------\n",
    "    \n",
    "        page = soup.find('p').text\n",
    "        page = re.sub('[^0-9]', '', page)\n",
    "        print(f'Number of Pages: {page}')\n",
    "          \n",
    "        #--------year--------------------------\n",
    "    \n",
    "        year = (soup.find_all('p')[1].text)\n",
    "        year = year[-4:]\n",
    "        print(f'Year Published: {year}')\n",
    "    \n",
    "        #--------reviews--------------------------\n",
    "\n",
    "        # reviews = soup.find_all('section',class_ = \"ReviewText__content\")\n",
    "          \n",
    "        # ls_reviews = []\n",
    "        # for i in range (0,len (reviews)):\n",
    "        #    rev = soup.find_all('section',class_ = \"ReviewText__content\")[i].text\n",
    "        #    ls_reviews.append(rev)\n",
    "    \n",
    "        print('---------------------------------------------')\n",
    "        \n",
    "        collect.loc[counter, ['title','summary','year_published','author','review_count','number_of_ratings',\n",
    "                          'length','genre','rating']] = title, summary, year, auth, review_text, rating_text, page, genre, rating  \n",
    "        counter += 1 \n",
    "    "
   ]
  },
  {
   "cell_type": "code",
   "execution_count": null,
   "id": "e6d012d0-5ece-430b-a56f-18a1a55e8dca",
   "metadata": {},
   "outputs": [],
   "source": []
  },
  {
   "cell_type": "markdown",
   "id": "3e4cc8ef-3433-47e9-9fbd-40bada3d778a",
   "metadata": {},
   "source": [
    "### subsetting each part of the loop into a function"
   ]
  }
 ],
 "metadata": {
  "kernelspec": {
   "display_name": "Python 3 (ipykernel)",
   "language": "python",
   "name": "python3"
  },
  "language_info": {
   "codemirror_mode": {
    "name": "ipython",
    "version": 3
   },
   "file_extension": ".py",
   "mimetype": "text/x-python",
   "name": "python",
   "nbconvert_exporter": "python",
   "pygments_lexer": "ipython3",
   "version": "3.9.13"
  }
 },
 "nbformat": 4,
 "nbformat_minor": 5
}
