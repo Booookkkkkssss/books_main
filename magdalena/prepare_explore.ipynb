{
 "cells": [
  {
   "cell_type": "code",
   "execution_count": 1,
   "id": "10c87f9b",
   "metadata": {},
   "outputs": [],
   "source": [
    "# imports\n",
    "\n",
    "import pandas as pd\n",
    "import numpy as np\n",
    "\n",
    "import seaborn as sns\n",
    "import matplotlib.pyplot as plt\n",
    "\n",
    "\n",
    "import unicodedata\n",
    "import re\n",
    "\n",
    "from bs4 import BeautifulSoup\n",
    "import requests\n",
    "import os\n",
    "import json\n",
    "\n",
    "import nltk\n",
    "from nltk.corpus import stopwords\n",
    "from sklearn.feature_extraction.text import TfidfVectorizer\n",
    "\n",
    "import prepare as prep\n",
    "\n",
    "from sklearn.model_selection import train_test_split\n",
    "import sklearn.model_selection\n",
    "\n",
    "from scipy import stats\n",
    "from scipy.stats import norm, binom\n",
    "\n",
    "\n",
    "\n",
    "from sklearn.tree import DecisionTreeClassifier, plot_tree\n",
    "from sklearn.ensemble import RandomForestClassifier"
   ]
  },
  {
   "cell_type": "markdown",
   "id": "63654336",
   "metadata": {},
   "source": [
    "## import data"
   ]
  },
  {
   "cell_type": "code",
   "execution_count": 2,
   "id": "5f036ed7",
   "metadata": {},
   "outputs": [],
   "source": [
    "# original df\n",
    "\n",
    "f = pd.read_csv('all_books.csv', index_col=0)"
   ]
  },
  {
   "cell_type": "code",
   "execution_count": 3,
   "id": "9abef52c",
   "metadata": {},
   "outputs": [
    {
     "data": {
      "text/plain": [
       "(3998, 11)"
      ]
     },
     "execution_count": 3,
     "metadata": {},
     "output_type": "execute_result"
    }
   ],
   "source": [
    "f.shape"
   ]
  },
  {
   "cell_type": "code",
   "execution_count": 4,
   "id": "46b4f802",
   "metadata": {},
   "outputs": [],
   "source": [
    "# nytbs df\n",
    "\n",
    "b = pd.read_csv('books_feat_on_NYBS').drop(columns = 'Unnamed: 0')"
   ]
  },
  {
   "cell_type": "code",
   "execution_count": 5,
   "id": "7b117fa2",
   "metadata": {},
   "outputs": [
    {
     "data": {
      "text/plain": [
       "(1045, 4)"
      ]
     },
     "execution_count": 5,
     "metadata": {},
     "output_type": "execute_result"
    }
   ],
   "source": [
    "b.shape"
   ]
  },
  {
   "cell_type": "code",
   "execution_count": 6,
   "id": "e77728cf",
   "metadata": {},
   "outputs": [
    {
     "data": {
      "text/plain": [
       "Date        0\n",
       "Book        0\n",
       "Author      0\n",
       "Month     968\n",
       "dtype: int64"
      ]
     },
     "execution_count": 6,
     "metadata": {},
     "output_type": "execute_result"
    }
   ],
   "source": [
    "# looking at best sellers\n",
    "\n",
    "b.isna().sum()"
   ]
  },
  {
   "cell_type": "code",
   "execution_count": 7,
   "id": "ac6857c7",
   "metadata": {},
   "outputs": [],
   "source": [
    "# read in the dataframe of the books\n",
    "\n",
    "df = prep.prep_data('all_books.csv')"
   ]
  },
  {
   "cell_type": "code",
   "execution_count": 8,
   "id": "dbb1305f",
   "metadata": {},
   "outputs": [],
   "source": [
    "# dropping 'Picture Books'\n",
    "\n",
    "df = df[df['genre'] != 'Picture Books']"
   ]
  },
  {
   "cell_type": "code",
   "execution_count": 9,
   "id": "2263a0f4",
   "metadata": {},
   "outputs": [],
   "source": [
    "# setting year to int\n",
    "\n",
    "df.year_published = df.year_published.astype('int64')"
   ]
  },
  {
   "cell_type": "code",
   "execution_count": 10,
   "id": "91ae125e",
   "metadata": {},
   "outputs": [],
   "source": [
    "# finding rows with non-years\n",
    "\n",
    "[re.findall(r\"[^0-9]\", str(x)) for x in df.year_published]\n",
    "\n",
    "# setting to a series and DF of non-years\n",
    "empty = pd.DataFrame(pd.Series([re.findall(r\"[^0-9]\", str(x)) for x in df.year_published]))\n",
    "\n"
   ]
  },
  {
   "cell_type": "markdown",
   "id": "b1c23a6d",
   "metadata": {},
   "source": [
    "## cleaning, exploring`"
   ]
  },
  {
   "cell_type": "code",
   "execution_count": 11,
   "id": "5f0dcb8c",
   "metadata": {},
   "outputs": [
    {
     "data": {
      "text/plain": [
       "title                    0\n",
       "summary                  0\n",
       "year_published           0\n",
       "author                   0\n",
       "review_count             0\n",
       "number_of_ratings        0\n",
       "length                   0\n",
       "genre                    0\n",
       "rating                   0\n",
       "reviews               1969\n",
       "cleaned_title            0\n",
       "cleaned_summary          0\n",
       "successful               0\n",
       "lemmatized_summary       0\n",
       "neg                      0\n",
       "neutral                  0\n",
       "pos                      0\n",
       "compound                 0\n",
       "sentiment                0\n",
       "dtype: int64"
      ]
     },
     "execution_count": 11,
     "metadata": {},
     "output_type": "execute_result"
    }
   ],
   "source": [
    "# how many nan\n",
    "\n",
    "df.isna().sum()"
   ]
  },
  {
   "cell_type": "markdown",
   "id": "391d0705",
   "metadata": {},
   "source": [
    "**No NaNs appear in important columns.**"
   ]
  },
  {
   "cell_type": "code",
   "execution_count": 12,
   "id": "f0a89e80",
   "metadata": {},
   "outputs": [
    {
     "data": {
      "text/plain": [
       "(3665, 19)"
      ]
     },
     "execution_count": 12,
     "metadata": {},
     "output_type": "execute_result"
    }
   ],
   "source": [
    "df.shape"
   ]
  },
  {
   "cell_type": "markdown",
   "id": "32e3d0ea",
   "metadata": {},
   "source": [
    "## train—test split"
   ]
  },
  {
   "cell_type": "code",
   "execution_count": 13,
   "id": "f1e708bb",
   "metadata": {},
   "outputs": [],
   "source": [
    "def split(df):\n",
    "    train, test = train_test_split(df, test_size = .2, random_state = 42, stratify = df.successful)\n",
    "    return train, test"
   ]
  },
  {
   "cell_type": "markdown",
   "id": "6bd61563",
   "metadata": {},
   "source": [
    "**1 / True = successful (bestseller), 0 / False = not a bestseller**"
   ]
  },
  {
   "cell_type": "code",
   "execution_count": 14,
   "id": "d3b94e50",
   "metadata": {},
   "outputs": [
    {
     "data": {
      "text/plain": [
       "((2932, 19), (733, 19))"
      ]
     },
     "execution_count": 14,
     "metadata": {},
     "output_type": "execute_result"
    }
   ],
   "source": [
    "train, test = split(df)\n",
    "train.shape, test.shape"
   ]
  },
  {
   "cell_type": "markdown",
   "id": "5729bafc",
   "metadata": {},
   "source": [
    "#### We'll be doing k-folds, so no need to have a validate portion here"
   ]
  },
  {
   "cell_type": "markdown",
   "id": "10b542e9",
   "metadata": {},
   "source": [
    "### Does the length of a book have a relationship to its success ?"
   ]
  },
  {
   "cell_type": "code",
   "execution_count": 15,
   "id": "0652a5ea",
   "metadata": {},
   "outputs": [
    {
     "data": {
      "text/html": [
       "<div>\n",
       "<style scoped>\n",
       "    .dataframe tbody tr th:only-of-type {\n",
       "        vertical-align: middle;\n",
       "    }\n",
       "\n",
       "    .dataframe tbody tr th {\n",
       "        vertical-align: top;\n",
       "    }\n",
       "\n",
       "    .dataframe thead th {\n",
       "        text-align: right;\n",
       "    }\n",
       "</style>\n",
       "<table border=\"1\" class=\"dataframe\">\n",
       "  <thead>\n",
       "    <tr style=\"text-align: right;\">\n",
       "      <th></th>\n",
       "      <th>title</th>\n",
       "      <th>summary</th>\n",
       "      <th>year_published</th>\n",
       "      <th>author</th>\n",
       "      <th>review_count</th>\n",
       "      <th>number_of_ratings</th>\n",
       "      <th>length</th>\n",
       "      <th>genre</th>\n",
       "      <th>rating</th>\n",
       "      <th>reviews</th>\n",
       "      <th>cleaned_title</th>\n",
       "      <th>cleaned_summary</th>\n",
       "      <th>successful</th>\n",
       "      <th>lemmatized_summary</th>\n",
       "      <th>neg</th>\n",
       "      <th>neutral</th>\n",
       "      <th>pos</th>\n",
       "      <th>compound</th>\n",
       "      <th>sentiment</th>\n",
       "    </tr>\n",
       "  </thead>\n",
       "  <tbody>\n",
       "    <tr>\n",
       "      <th>341</th>\n",
       "      <td>The Mountain Is You: Transforming Self-Sabotag...</td>\n",
       "      <td>This book is about self-sabotage.Why we do it,...</td>\n",
       "      <td>2020</td>\n",
       "      <td>Brianna Wiest</td>\n",
       "      <td>1779</td>\n",
       "      <td>20175</td>\n",
       "      <td>182.0</td>\n",
       "      <td>Self Help</td>\n",
       "      <td>4.18</td>\n",
       "      <td>[]</td>\n",
       "      <td>the mountain is you transforming selfsabotage ...</td>\n",
       "      <td>this book is about selfsabotage.why we do it, ...</td>\n",
       "      <td>False</td>\n",
       "      <td>stop itfor conflict need create selfsabotaging...</td>\n",
       "      <td>0.107</td>\n",
       "      <td>0.809</td>\n",
       "      <td>0.083</td>\n",
       "      <td>-0.7209</td>\n",
       "      <td>very negative</td>\n",
       "    </tr>\n",
       "  </tbody>\n",
       "</table>\n",
       "</div>"
      ],
      "text/plain": [
       "                                                 title  \\\n",
       "341  The Mountain Is You: Transforming Self-Sabotag...   \n",
       "\n",
       "                                               summary  year_published  \\\n",
       "341  This book is about self-sabotage.Why we do it,...            2020   \n",
       "\n",
       "            author  review_count  number_of_ratings  length      genre  \\\n",
       "341  Brianna Wiest          1779              20175   182.0  Self Help   \n",
       "\n",
       "     rating reviews                                      cleaned_title  \\\n",
       "341    4.18      []  the mountain is you transforming selfsabotage ...   \n",
       "\n",
       "                                       cleaned_summary  successful  \\\n",
       "341  this book is about selfsabotage.why we do it, ...       False   \n",
       "\n",
       "                                    lemmatized_summary    neg  neutral    pos  \\\n",
       "341  stop itfor conflict need create selfsabotaging...  0.107    0.809  0.083   \n",
       "\n",
       "     compound      sentiment  \n",
       "341   -0.7209  very negative  "
      ]
     },
     "execution_count": 15,
     "metadata": {},
     "output_type": "execute_result"
    }
   ],
   "source": [
    "train.sample()"
   ]
  },
  {
   "cell_type": "code",
   "execution_count": 16,
   "id": "2c235bef",
   "metadata": {},
   "outputs": [],
   "source": [
    "# successful books\n",
    "\n",
    "besties = train[train['successful'] == True]"
   ]
  },
  {
   "cell_type": "markdown",
   "id": "17b26f52",
   "metadata": {},
   "source": [
    "**127 bestseller books in train. Assigning to a variable in order to explore page length.**"
   ]
  },
  {
   "cell_type": "code",
   "execution_count": 17,
   "id": "8fc15bf7",
   "metadata": {},
   "outputs": [
    {
     "data": {
      "text/plain": [
       "476.8503937007874"
      ]
     },
     "execution_count": 17,
     "metadata": {},
     "output_type": "execute_result"
    }
   ],
   "source": [
    "# mean length of pages\n",
    "\n",
    "besties['length'].mean()"
   ]
  },
  {
   "cell_type": "code",
   "execution_count": 18,
   "id": "5aacbc25",
   "metadata": {},
   "outputs": [
    {
     "data": {
      "text/plain": [
       "405.0"
      ]
     },
     "execution_count": 18,
     "metadata": {},
     "output_type": "execute_result"
    }
   ],
   "source": [
    "# median length of pages\n",
    "\n",
    "besties['length'].median()"
   ]
  },
  {
   "cell_type": "markdown",
   "id": "6ec8e810",
   "metadata": {},
   "source": [
    "**The mean length of best sellers is 477 pages, the median is 400 pages.**"
   ]
  },
  {
   "cell_type": "code",
   "execution_count": 19,
   "id": "d2200b10",
   "metadata": {},
   "outputs": [
    {
     "data": {
      "text/plain": [
       "205.47981319535052"
      ]
     },
     "execution_count": 19,
     "metadata": {},
     "output_type": "execute_result"
    }
   ],
   "source": [
    "# standard deviation\n",
    "\n",
    "besties['length'].std()"
   ]
  },
  {
   "cell_type": "markdown",
   "id": "a27de9ac",
   "metadata": {},
   "source": [
    "**Standard deviation of about 205 pages. So, 68% of NYT bestsellers have a length of 272 to 682 pages.**"
   ]
  },
  {
   "cell_type": "code",
   "execution_count": 20,
   "id": "967cb926",
   "metadata": {},
   "outputs": [
    {
     "data": {
      "text/plain": [
       "(18, 19)"
      ]
     },
     "execution_count": 20,
     "metadata": {},
     "output_type": "execute_result"
    }
   ],
   "source": [
    "long_books = besties[besties['length'] > 682]\n",
    "long_books.shape"
   ]
  },
  {
   "cell_type": "markdown",
   "id": "52ea9b12",
   "metadata": {},
   "source": [
    "**18 books have more than 682 pages.** Now to compare with generalised / random books list.\n",
    "\n",
    "### Non-bestsellers\n",
    "\n"
   ]
  },
  {
   "cell_type": "code",
   "execution_count": 21,
   "id": "32e27610",
   "metadata": {},
   "outputs": [],
   "source": [
    "# isolating unsuccessful books \n",
    "\n",
    "sadness = train[train['successful'] == False]"
   ]
  },
  {
   "cell_type": "code",
   "execution_count": 22,
   "id": "92647b08",
   "metadata": {},
   "outputs": [
    {
     "data": {
      "text/plain": [
       "(4211.0, 12.0)"
      ]
     },
     "execution_count": 22,
     "metadata": {},
     "output_type": "execute_result"
    }
   ],
   "source": [
    "sadness['length'].max(), sadness['length'].min()"
   ]
  },
  {
   "cell_type": "code",
   "execution_count": 23,
   "id": "61c5a91c",
   "metadata": {},
   "outputs": [
    {
     "data": {
      "text/plain": [
       "355.20213903743314"
      ]
     },
     "execution_count": 23,
     "metadata": {},
     "output_type": "execute_result"
    }
   ],
   "source": [
    "sadness['length'].mean()"
   ]
  },
  {
   "cell_type": "code",
   "execution_count": 24,
   "id": "5f63713b",
   "metadata": {},
   "outputs": [
    {
     "data": {
      "text/plain": [
       "175.46700311539715"
      ]
     },
     "execution_count": 24,
     "metadata": {},
     "output_type": "execute_result"
    }
   ],
   "source": [
    "# standard deviation of non-bestsellers\n",
    "\n",
    "sadness['length'].std()"
   ]
  },
  {
   "cell_type": "markdown",
   "id": "d3f218ad",
   "metadata": {},
   "source": [
    "**Standard deviation of about 175 pages. So, 68% of non-bestsellers have a length between 180 and 530 pages.**"
   ]
  },
  {
   "cell_type": "code",
   "execution_count": null,
   "id": "baff0529",
   "metadata": {},
   "outputs": [],
   "source": []
  },
  {
   "cell_type": "markdown",
   "id": "7105df52",
   "metadata": {},
   "source": [
    "### Exploring length and year published\n",
    "\n",
    "H_O : There is no relationship between the length of a book and the year that it was published.\n",
    "\n",
    "H_a : There is a relationship between the length of a book and the year that it was published."
   ]
  },
  {
   "cell_type": "code",
   "execution_count": 25,
   "id": "7762d970",
   "metadata": {},
   "outputs": [
    {
     "data": {
      "image/png": "[encoded data removed]",
      "text/plain": [
       "<Figure size 1200x800 with 1 Axes>"
      ]
     },
     "metadata": {},
     "output_type": "display_data"
    }
   ],
   "source": [
    "plt.figure(figsize=(12, 8))\n",
    "\n",
    "plt.title('Non-Bestseller Lengths, By Year Published')\n",
    "sns.barplot(y = sadness['length'], x = sadness['year_published'])\n",
    "\n",
    "plt.xticks(rotation = 45)\n",
    "\n",
    "plt.show()\n"
   ]
  },
  {
   "cell_type": "code",
   "execution_count": 26,
   "id": "2a9a33ee",
   "metadata": {},
   "outputs": [
    {
     "data": {
      "image/png": "[encoded data removed]",
      "text/plain": [
       "<Figure size 1200x800 with 1 Axes>"
      ]
     },
     "metadata": {},
     "output_type": "display_data"
    }
   ],
   "source": [
    "plt.figure(figsize=(12, 8))\n",
    "\n",
    "\n",
    "plt.title('Bestseller Lengths, By Year Published')\n",
    "\n",
    "sns.barplot(y = besties['length'], x = besties['year_published'])\n",
    "\n",
    "plt.xticks(rotation = 45)\n",
    "\n",
    "plt.show()"
   ]
  },
  {
   "cell_type": "code",
   "execution_count": 27,
   "id": "213af9e5",
   "metadata": {},
   "outputs": [
    {
     "data": {
      "image/png": "[encoded data removed]",
      "text/plain": [
       "<Figure size 2000x800 with 1 Axes>"
      ]
     },
     "metadata": {},
     "output_type": "display_data"
    }
   ],
   "source": [
    "plt.figure(figsize=(20, 8))\n",
    "\n",
    "\n",
    "plt.title('All Books Lengths, By Year')\n",
    "\n",
    "sns.barplot(y = train['length'], x = train['year_published'])\n",
    "\n",
    "plt.xticks(rotation = 45)\n",
    "\n",
    "plt.show()"
   ]
  },
  {
   "cell_type": "markdown",
   "id": "a290dd33",
   "metadata": {},
   "source": [
    "**The distribution for all there dataframes is relatively uniform; a chi-square test is appropriate here.**"
   ]
  },
  {
   "cell_type": "code",
   "execution_count": 28,
   "id": "c1b49834",
   "metadata": {},
   "outputs": [],
   "source": [
    "# chi-square function\n",
    "\n",
    "def chi_sq(a, b):\n",
    "    '''\n",
    "    This function will take in two arguments in the form of two discrete variables \n",
    "    and runs a chi^2 test to determine if the the two variables are independent of \n",
    "    each other and prints the results based on the findings.\n",
    "    '''\n",
    "    alpha = 0.05\n",
    "    \n",
    "    result = pd.crosstab(a, b)\n",
    "\n",
    "    chi2, p, degf, expected = stats.chi2_contingency(result)\n",
    "\n",
    "    print(f'Chi-square  : {chi2:.4f}') \n",
    "    print(\"\")\n",
    "    print(f'P-value : {p:.4f}')\n",
    "    print(\"\")\n",
    "    if p / 2 > alpha:\n",
    "        print(\"We fail to reject the null hypothesis.\")\n",
    "    else:\n",
    "        print(f'We reject the null hypothesis ; there is a relationship between the target variable and the feature examined.')\n",
    "        "
   ]
  },
  {
   "cell_type": "code",
   "execution_count": 29,
   "id": "6bd10764",
   "metadata": {},
   "outputs": [],
   "source": [
    "# chi-square on train for length and year published\n",
    "\n",
    "a = train['length']\n",
    "b = train['year_published']"
   ]
  },
  {
   "cell_type": "code",
   "execution_count": 30,
   "id": "dc6c05fc",
   "metadata": {},
   "outputs": [
    {
     "name": "stdout",
     "output_type": "stream",
     "text": [
      "Chi-square  : 95431.3919\n",
      "\n",
      "P-value : 0.0000\n",
      "\n",
      "We reject the null hypothesis ; there is a relationship between the target variable and the feature examined.\n"
     ]
    }
   ],
   "source": [
    "chi_sq(a, b)"
   ]
  },
  {
   "cell_type": "code",
   "execution_count": 31,
   "id": "d1da1bb6",
   "metadata": {},
   "outputs": [],
   "source": [
    "# chi-square on besties  for length and year published\n",
    "\n",
    "v = besties['length']\n",
    "w = besties['year_published']"
   ]
  },
  {
   "cell_type": "code",
   "execution_count": 32,
   "id": "4eda99fd",
   "metadata": {},
   "outputs": [
    {
     "name": "stdout",
     "output_type": "stream",
     "text": [
      "Chi-square  : 2357.3233\n",
      "\n",
      "P-value : 0.6894\n",
      "\n",
      "We fail to reject the null hypothesis.\n"
     ]
    }
   ],
   "source": [
    "chi_sq(v, w)"
   ]
  },
  {
   "cell_type": "code",
   "execution_count": 33,
   "id": "e4bbab38",
   "metadata": {},
   "outputs": [],
   "source": [
    "# chi-square on sadness for length and year published\n",
    "\n",
    "t = sadness['length']\n",
    "u = sadness['year_published']"
   ]
  },
  {
   "cell_type": "code",
   "execution_count": 34,
   "id": "b68c86b9",
   "metadata": {},
   "outputs": [
    {
     "name": "stdout",
     "output_type": "stream",
     "text": [
      "Chi-square  : 92195.1044\n",
      "\n",
      "P-value : 0.0000\n",
      "\n",
      "We reject the null hypothesis ; there is a relationship between the target variable and the feature examined.\n"
     ]
    }
   ],
   "source": [
    "chi_sq(t, u)"
   ]
  },
  {
   "cell_type": "markdown",
   "id": "c8309b33",
   "metadata": {},
   "source": [
    "**TAKEAWAYS: There is a relationship between the length of the book (positive correlation) and the year that it was published, particularly for books not on the NYT Best Seller list, and for the train dataset. The length of the book and the year that it was published did not have a relationship for NYT Best Sellers.**"
   ]
  },
  {
   "cell_type": "markdown",
   "id": "f1b0a24c",
   "metadata": {},
   "source": [
    "## Exploring length and successs\n",
    "\n",
    "H_O : There is no relationship between the length of a book and its landing on the NYT Best Seller list.\n",
    "\n",
    "H_a : There is a relationship between the length of a book and its landing on the NYT Best Seller list."
   ]
  },
  {
   "cell_type": "code",
   "execution_count": 35,
   "id": "aa87bb43",
   "metadata": {},
   "outputs": [],
   "source": [
    "# plotting all books\n",
    "\n",
    "def book_len_success():\n",
    "    \n",
    "    '''\n",
    "    this function uses the training dataset to plot \n",
    "    the target ('successful') against the length in \n",
    "    pages of each book. it puts out a barplot.\n",
    "    '''\n",
    "    plt.figure(figsize=(8, 5))\n",
    "\n",
    "    plt.title('Success Of Book Based On Average Page Length')\n",
    "\n",
    "    graphed = sns.barplot(x = train['successful'], y = train['length'], palette = 'CMRmap')\n",
    "\n",
    "    # set xtick labels and properties\n",
    "    plt.xticks([0, 1], \n",
    "               [ 'Not On List', 'Bestseller'],\n",
    "               rotation = 25)\n",
    "\n",
    "    # plt.legend([],[]) --this line unnecessary here\n",
    "    plt.yticks(np.arange(0, 600, 100))\n",
    "\n",
    "    # display y axis grids\n",
    "    # graphed.yaxis.grid(True)\n",
    "\n",
    "    plt.ylabel('Count')\n",
    "    plt.xlabel('Appearance On NYT Best Seller List')\n",
    "\n",
    "    plt.show()"
   ]
  },
  {
   "cell_type": "code",
   "execution_count": 36,
   "id": "508d8435",
   "metadata": {},
   "outputs": [
    {
     "data": {
      "image/png": "[encoded data removed]",
      "text/plain": [
       "<Figure size 800x500 with 1 Axes>"
      ]
     },
     "metadata": {},
     "output_type": "display_data"
    }
   ],
   "source": [
    "book_len_success()"
   ]
  },
  {
   "cell_type": "markdown",
   "id": "b8aec4c5",
   "metadata": {},
   "source": [
    "**It appears that bestsellers have, on average, a longer average page count than books that are not NYT Best Sellers.**"
   ]
  },
  {
   "cell_type": "code",
   "execution_count": 37,
   "id": "3715e8f4",
   "metadata": {},
   "outputs": [],
   "source": [
    "# chi-square on train for length and success\n",
    "\n",
    "r = train['length']\n",
    "s = train['successful']"
   ]
  },
  {
   "cell_type": "code",
   "execution_count": 38,
   "id": "7af8ce90",
   "metadata": {},
   "outputs": [
    {
     "name": "stdout",
     "output_type": "stream",
     "text": [
      "Chi-square  : 788.2500\n",
      "\n",
      "P-value : 0.0000\n",
      "\n",
      "We reject the null hypothesis ; there is a relationship between the target variable and the feature examined.\n"
     ]
    }
   ],
   "source": [
    "chi_sq(r, s)"
   ]
  },
  {
   "cell_type": "markdown",
   "id": "4d7238a3",
   "metadata": {},
   "source": [
    "**TAKEAWAYS: It appears, both from the bar plot and from the chi-square test, that there is a significant relationship between book length and its appearing on the NYT Best Seller list. Bestsellers, on average, have a longer page length than non-bestsellers. This discovery is also supported by the cumulative density function results.**"
   ]
  },
  {
   "cell_type": "code",
   "execution_count": null,
   "id": "3732192b",
   "metadata": {},
   "outputs": [],
   "source": []
  },
  {
   "cell_type": "markdown",
   "id": "677d937e",
   "metadata": {},
   "source": [
    "### Using .cdf on bestsellers and non-bestsellers"
   ]
  },
  {
   "cell_type": "code",
   "execution_count": 39,
   "id": "c90717f7",
   "metadata": {},
   "outputs": [
    {
     "data": {
      "text/plain": [
       "0.0814895338637503"
      ]
     },
     "execution_count": 39,
     "metadata": {},
     "output_type": "execute_result"
    }
   ],
   "source": [
    "# bestsellers\n",
    "\n",
    "# mean\n",
    "m = 477\n",
    "\n",
    "# standard deviation\n",
    "s = 205\n",
    "\n",
    "# Define the normal distribution\n",
    "bestseller_len = stats.norm(m, s)\n",
    "\n",
    "## Find the value where 95% of the values / variables are less than unknown-value-X : Use PPF.\n",
    "best_cdf = bestseller_len.cdf(191)\n",
    "best_cdf"
   ]
  },
  {
   "cell_type": "markdown",
   "id": "3fd5551e",
   "metadata": {},
   "source": [
    "**8pc chance of a successful book having a length of 191 pages or less.**"
   ]
  },
  {
   "cell_type": "code",
   "execution_count": 40,
   "id": "630376db",
   "metadata": {},
   "outputs": [
    {
     "data": {
      "text/plain": [
       "0.17434253936040328"
      ]
     },
     "execution_count": 40,
     "metadata": {},
     "output_type": "execute_result"
    }
   ],
   "source": [
    "# mean of unsuccessful books\n",
    "m = 355\n",
    "\n",
    "# standard deviation\n",
    "s = 175\n",
    "\n",
    "nonbest_length = stats.norm(m, s)\n",
    "\n",
    "nonbest_cdf = nonbest_length.cdf(191)\n",
    "nonbest_cdf"
   ]
  },
  {
   "cell_type": "markdown",
   "id": "9d762a1d",
   "metadata": {},
   "source": [
    "**17.4pc chance of an unsuccessful book having 200 or less pages.**"
   ]
  },
  {
   "cell_type": "code",
   "execution_count": null,
   "id": "60479b87",
   "metadata": {},
   "outputs": [],
   "source": []
  },
  {
   "cell_type": "markdown",
   "id": "921cd888",
   "metadata": {},
   "source": [
    "### What about sentiment score distribution ?¶\n"
   ]
  },
  {
   "cell_type": "code",
   "execution_count": 41,
   "id": "492e85f4",
   "metadata": {},
   "outputs": [
    {
     "data": {
      "image/png": "[encoded data removed]",
      "text/plain": [
       "<Figure size 800x500 with 1 Axes>"
      ]
     },
     "metadata": {},
     "output_type": "display_data"
    }
   ],
   "source": [
    "# plotting bestseller books : length vs sentiment score\n",
    "\n",
    "\n",
    "plt.figure(figsize=(8, 5))\n",
    "\n",
    "plt.title('Sentiment Score Of Book Summary Based On Page Length : Bestsellers')\n",
    "\n",
    "sns.barplot(x = besties['sentiment'], y = besties['length'])\n",
    "\n",
    "\n",
    "plt.show()"
   ]
  },
  {
   "cell_type": "code",
   "execution_count": 42,
   "id": "8e8fd707",
   "metadata": {
    "scrolled": true
   },
   "outputs": [
    {
     "data": {
      "image/png": "[encoded data removed]",
      "text/plain": [
       "<Figure size 800x500 with 1 Axes>"
      ]
     },
     "metadata": {},
     "output_type": "display_data"
    }
   ],
   "source": [
    "# plotting unsuccessful books : length vs sentiment score\n",
    "\n",
    "\n",
    "plt.figure(figsize=(8, 5))\n",
    "\n",
    "plt.title('Sentiment Score Of Book Summary Based On Page Length : Non-Bestsellers')\n",
    "\n",
    "sns.barplot(x = sadness['sentiment'], y = sadness['length'])\n",
    "\n",
    "plt.show()\n"
   ]
  },
  {
   "cell_type": "markdown",
   "id": "ef1e5e26",
   "metadata": {},
   "source": [
    "**TAKEAWAYS: Length of book does not seem to have much relationship to the book-summary sentiment score. There was one bestseller with a neutral score, which led to it not being able to have an average page length calculation.**"
   ]
  },
  {
   "cell_type": "code",
   "execution_count": 43,
   "id": "9c31ca96",
   "metadata": {},
   "outputs": [
    {
     "data": {
      "text/plain": [
       "65"
      ]
     },
     "execution_count": 43,
     "metadata": {},
     "output_type": "execute_result"
    }
   ],
   "source": [
    "a = besties[besties['sentiment'] == 'very negative']\n",
    "a['title'].value_counts().sum()"
   ]
  },
  {
   "cell_type": "code",
   "execution_count": 44,
   "id": "23abd235",
   "metadata": {},
   "outputs": [
    {
     "data": {
      "text/plain": [
       "7"
      ]
     },
     "execution_count": 44,
     "metadata": {},
     "output_type": "execute_result"
    }
   ],
   "source": [
    "b = besties[besties['sentiment'] == 'negative']\n",
    "b['title'].value_counts().sum()"
   ]
  },
  {
   "cell_type": "code",
   "execution_count": 45,
   "id": "e27da884",
   "metadata": {},
   "outputs": [
    {
     "data": {
      "text/plain": [
       "1"
      ]
     },
     "execution_count": 45,
     "metadata": {},
     "output_type": "execute_result"
    }
   ],
   "source": [
    "e = besties[besties['sentiment'] == 'neutral']\n",
    "e['title'].value_counts().sum()"
   ]
  },
  {
   "cell_type": "code",
   "execution_count": 46,
   "id": "4c4b1e81",
   "metadata": {},
   "outputs": [
    {
     "data": {
      "text/plain": [
       "11"
      ]
     },
     "execution_count": 46,
     "metadata": {},
     "output_type": "execute_result"
    }
   ],
   "source": [
    "d = besties[besties['sentiment'] == 'positive']\n",
    "d['title'].value_counts().sum()"
   ]
  },
  {
   "cell_type": "code",
   "execution_count": 47,
   "id": "fff5dd70",
   "metadata": {},
   "outputs": [
    {
     "data": {
      "text/plain": [
       "43"
      ]
     },
     "execution_count": 47,
     "metadata": {},
     "output_type": "execute_result"
    }
   ],
   "source": [
    "c = besties[besties['sentiment'] == 'very positive']\n",
    "c['title'].value_counts().sum()"
   ]
  },
  {
   "cell_type": "markdown",
   "id": "bfafe4a1",
   "metadata": {},
   "source": [
    "**Of the bestseller sentiment scores, 65 have very negative scores, 7 have negative, 1 has neutral, 11 have positive and 43 have very positive.**"
   ]
  },
  {
   "cell_type": "code",
   "execution_count": 48,
   "id": "236f42e9",
   "metadata": {},
   "outputs": [
    {
     "data": {
      "image/png": "[encoded data removed]",
      "text/plain": [
       "<Figure size 800x500 with 1 Axes>"
      ]
     },
     "metadata": {},
     "output_type": "display_data"
    }
   ],
   "source": [
    "# plotting all TRAIN books : length vs sentiment score\n",
    "\n",
    "\n",
    "plt.figure(figsize=(8, 5))\n",
    "\n",
    "plt.title('Sentiment Score Of Book Summary Based On Page Length : Non-Bestsellers')\n",
    "\n",
    "sns.barplot(x = train['sentiment'], y = train['length'])\n",
    "\n",
    "plt.show()\n"
   ]
  },
  {
   "cell_type": "code",
   "execution_count": null,
   "id": "4c46b2a1",
   "metadata": {},
   "outputs": [],
   "source": []
  },
  {
   "cell_type": "markdown",
   "id": "ec3cb209",
   "metadata": {},
   "source": [
    "# Modelling"
   ]
  },
  {
   "cell_type": "code",
   "execution_count": 49,
   "id": "c729c8d5",
   "metadata": {},
   "outputs": [],
   "source": [
    "# decision tree with depth of 7    \n",
    "    \n",
    "def decision_7(X_train, y_train, target):\n",
    "    \n",
    "    '''\n",
    "    this function intakes the X_train & y_train and \n",
    "    runs a decision tree on them with a max depth of 7.\n",
    "    It outputs the accuracy.\n",
    "    '''\n",
    "\n",
    "    # initialise the Decision Tree Classifier = clf\n",
    "    seed = 42\n",
    "    clf7 = DecisionTreeClassifier(max_depth = 7, random_state = seed)\n",
    "\n",
    "    ### fitting the model : \n",
    "    clf7 = clf7.fit(X_train, y_train)\n",
    "\n",
    "    # accurcy of the decision tree model\n",
    "    print()\n",
    "    print(f'Decision Tree Accuracy, max depth of 7 : {round(clf7.score(X_train, y_train), 4)}')    \n",
    "    \n",
    "    return clf7\n",
    "    "
   ]
  },
  {
   "cell_type": "code",
   "execution_count": 50,
   "id": "691f36b9",
   "metadata": {},
   "outputs": [],
   "source": [
    "# splitting into X & y\n",
    "\n",
    "X_train =  train.drop(columns = \"successful\")\n",
    "y_train = train['successful']"
   ]
  },
  {
   "cell_type": "code",
   "execution_count": 51,
   "id": "3163b38f",
   "metadata": {},
   "outputs": [],
   "source": [
    "# decision_7(X_train, y_train, 'successful')"
   ]
  },
  {
   "cell_type": "code",
   "execution_count": null,
   "id": "a64836ae",
   "metadata": {},
   "outputs": [],
   "source": []
  },
  {
   "cell_type": "markdown",
   "id": "d63677a9",
   "metadata": {},
   "source": [
    "# TF-IDF for word columns"
   ]
  },
  {
   "cell_type": "code",
   "execution_count": 52,
   "id": "79b31bd5",
   "metadata": {},
   "outputs": [],
   "source": [
    "def get_tf(column):\n",
    "\n",
    "    # obtain TF-IDF score\n",
    "    tfidf = TfidfVectorizer()\n",
    "\n",
    "        # fit-transform\n",
    "    bag_o_words = tfidf.fit_transform(train[column])\n",
    "\n",
    "        # create df of transformed & fit data : TF-IDF score\n",
    "    word_df = pd.DataFrame(bag_o_words.todense(),\n",
    "                        columns = tfidf.get_feature_names_out())\n",
    "\n",
    "\n",
    "    print()\n",
    "    print('- - - - - - - - - - - - - - -')\n",
    "    print('Dataframe of Term Frequency scores :')\n",
    "    return word_df\n",
    "    print()\n",
    "    print('- - - - - - - - - - - - - - -')"
   ]
  },
  {
   "cell_type": "code",
   "execution_count": 53,
   "id": "4452cd02",
   "metadata": {},
   "outputs": [
    {
     "name": "stdout",
     "output_type": "stream",
     "text": [
      "\n",
      "- - - - - - - - - - - - - - -\n",
      "Dataframe of Term Frequency scores :\n"
     ]
    },
    {
     "data": {
      "text/html": [
       "<div>\n",
       "<style scoped>\n",
       "    .dataframe tbody tr th:only-of-type {\n",
       "        vertical-align: middle;\n",
       "    }\n",
       "\n",
       "    .dataframe tbody tr th {\n",
       "        vertical-align: top;\n",
       "    }\n",
       "\n",
       "    .dataframe thead th {\n",
       "        text-align: right;\n",
       "    }\n",
       "</style>\n",
       "<table border=\"1\" class=\"dataframe\">\n",
       "  <thead>\n",
       "    <tr style=\"text-align: right;\">\n",
       "      <th></th>\n",
       "      <th>aa</th>\n",
       "      <th>aahz</th>\n",
       "      <th>aambc</th>\n",
       "      <th>aanen</th>\n",
       "      <th>aarav</th>\n",
       "      <th>aaron</th>\n",
       "      <th>aaronovitch</th>\n",
       "      <th>aaronsohn</th>\n",
       "      <th>ab</th>\n",
       "      <th>aba</th>\n",
       "      <th>...</th>\n",
       "      <th>zuckerberg</th>\n",
       "      <th>zuckoff</th>\n",
       "      <th>zuckoffs</th>\n",
       "      <th>zum</th>\n",
       "      <th>zumindest</th>\n",
       "      <th>zuni</th>\n",
       "      <th>zusak</th>\n",
       "      <th>zuversicht</th>\n",
       "      <th>zwanzig</th>\n",
       "      <th>zwischen</th>\n",
       "    </tr>\n",
       "  </thead>\n",
       "  <tbody>\n",
       "    <tr>\n",
       "      <th>0</th>\n",
       "      <td>0.0</td>\n",
       "      <td>0.0</td>\n",
       "      <td>0.0</td>\n",
       "      <td>0.0</td>\n",
       "      <td>0.0</td>\n",
       "      <td>0.0</td>\n",
       "      <td>0.0</td>\n",
       "      <td>0.0</td>\n",
       "      <td>0.0</td>\n",
       "      <td>0.0</td>\n",
       "      <td>...</td>\n",
       "      <td>0.0</td>\n",
       "      <td>0.0</td>\n",
       "      <td>0.0</td>\n",
       "      <td>0.0</td>\n",
       "      <td>0.0</td>\n",
       "      <td>0.0</td>\n",
       "      <td>0.0</td>\n",
       "      <td>0.0</td>\n",
       "      <td>0.0</td>\n",
       "      <td>0.0</td>\n",
       "    </tr>\n",
       "    <tr>\n",
       "      <th>1</th>\n",
       "      <td>0.0</td>\n",
       "      <td>0.0</td>\n",
       "      <td>0.0</td>\n",
       "      <td>0.0</td>\n",
       "      <td>0.0</td>\n",
       "      <td>0.0</td>\n",
       "      <td>0.0</td>\n",
       "      <td>0.0</td>\n",
       "      <td>0.0</td>\n",
       "      <td>0.0</td>\n",
       "      <td>...</td>\n",
       "      <td>0.0</td>\n",
       "      <td>0.0</td>\n",
       "      <td>0.0</td>\n",
       "      <td>0.0</td>\n",
       "      <td>0.0</td>\n",
       "      <td>0.0</td>\n",
       "      <td>0.0</td>\n",
       "      <td>0.0</td>\n",
       "      <td>0.0</td>\n",
       "      <td>0.0</td>\n",
       "    </tr>\n",
       "    <tr>\n",
       "      <th>2</th>\n",
       "      <td>0.0</td>\n",
       "      <td>0.0</td>\n",
       "      <td>0.0</td>\n",
       "      <td>0.0</td>\n",
       "      <td>0.0</td>\n",
       "      <td>0.0</td>\n",
       "      <td>0.0</td>\n",
       "      <td>0.0</td>\n",
       "      <td>0.0</td>\n",
       "      <td>0.0</td>\n",
       "      <td>...</td>\n",
       "      <td>0.0</td>\n",
       "      <td>0.0</td>\n",
       "      <td>0.0</td>\n",
       "      <td>0.0</td>\n",
       "      <td>0.0</td>\n",
       "      <td>0.0</td>\n",
       "      <td>0.0</td>\n",
       "      <td>0.0</td>\n",
       "      <td>0.0</td>\n",
       "      <td>0.0</td>\n",
       "    </tr>\n",
       "    <tr>\n",
       "      <th>3</th>\n",
       "      <td>0.0</td>\n",
       "      <td>0.0</td>\n",
       "      <td>0.0</td>\n",
       "      <td>0.0</td>\n",
       "      <td>0.0</td>\n",
       "      <td>0.0</td>\n",
       "      <td>0.0</td>\n",
       "      <td>0.0</td>\n",
       "      <td>0.0</td>\n",
       "      <td>0.0</td>\n",
       "      <td>...</td>\n",
       "      <td>0.0</td>\n",
       "      <td>0.0</td>\n",
       "      <td>0.0</td>\n",
       "      <td>0.0</td>\n",
       "      <td>0.0</td>\n",
       "      <td>0.0</td>\n",
       "      <td>0.0</td>\n",
       "      <td>0.0</td>\n",
       "      <td>0.0</td>\n",
       "      <td>0.0</td>\n",
       "    </tr>\n",
       "    <tr>\n",
       "      <th>4</th>\n",
       "      <td>0.0</td>\n",
       "      <td>0.0</td>\n",
       "      <td>0.0</td>\n",
       "      <td>0.0</td>\n",
       "      <td>0.0</td>\n",
       "      <td>0.0</td>\n",
       "      <td>0.0</td>\n",
       "      <td>0.0</td>\n",
       "      <td>0.0</td>\n",
       "      <td>0.0</td>\n",
       "      <td>...</td>\n",
       "      <td>0.0</td>\n",
       "      <td>0.0</td>\n",
       "      <td>0.0</td>\n",
       "      <td>0.0</td>\n",
       "      <td>0.0</td>\n",
       "      <td>0.0</td>\n",
       "      <td>0.0</td>\n",
       "      <td>0.0</td>\n",
       "      <td>0.0</td>\n",
       "      <td>0.0</td>\n",
       "    </tr>\n",
       "    <tr>\n",
       "      <th>...</th>\n",
       "      <td>...</td>\n",
       "      <td>...</td>\n",
       "      <td>...</td>\n",
       "      <td>...</td>\n",
       "      <td>...</td>\n",
       "      <td>...</td>\n",
       "      <td>...</td>\n",
       "      <td>...</td>\n",
       "      <td>...</td>\n",
       "      <td>...</td>\n",
       "      <td>...</td>\n",
       "      <td>...</td>\n",
       "      <td>...</td>\n",
       "      <td>...</td>\n",
       "      <td>...</td>\n",
       "      <td>...</td>\n",
       "      <td>...</td>\n",
       "      <td>...</td>\n",
       "      <td>...</td>\n",
       "      <td>...</td>\n",
       "      <td>...</td>\n",
       "    </tr>\n",
       "    <tr>\n",
       "      <th>2927</th>\n",
       "      <td>0.0</td>\n",
       "      <td>0.0</td>\n",
       "      <td>0.0</td>\n",
       "      <td>0.0</td>\n",
       "      <td>0.0</td>\n",
       "      <td>0.0</td>\n",
       "      <td>0.0</td>\n",
       "      <td>0.0</td>\n",
       "      <td>0.0</td>\n",
       "      <td>0.0</td>\n",
       "      <td>...</td>\n",
       "      <td>0.0</td>\n",
       "      <td>0.0</td>\n",
       "      <td>0.0</td>\n",
       "      <td>0.0</td>\n",
       "      <td>0.0</td>\n",
       "      <td>0.0</td>\n",
       "      <td>0.0</td>\n",
       "      <td>0.0</td>\n",
       "      <td>0.0</td>\n",
       "      <td>0.0</td>\n",
       "    </tr>\n",
       "    <tr>\n",
       "      <th>2928</th>\n",
       "      <td>0.0</td>\n",
       "      <td>0.0</td>\n",
       "      <td>0.0</td>\n",
       "      <td>0.0</td>\n",
       "      <td>0.0</td>\n",
       "      <td>0.0</td>\n",
       "      <td>0.0</td>\n",
       "      <td>0.0</td>\n",
       "      <td>0.0</td>\n",
       "      <td>0.0</td>\n",
       "      <td>...</td>\n",
       "      <td>0.0</td>\n",
       "      <td>0.0</td>\n",
       "      <td>0.0</td>\n",
       "      <td>0.0</td>\n",
       "      <td>0.0</td>\n",
       "      <td>0.0</td>\n",
       "      <td>0.0</td>\n",
       "      <td>0.0</td>\n",
       "      <td>0.0</td>\n",
       "      <td>0.0</td>\n",
       "    </tr>\n",
       "    <tr>\n",
       "      <th>2929</th>\n",
       "      <td>0.0</td>\n",
       "      <td>0.0</td>\n",
       "      <td>0.0</td>\n",
       "      <td>0.0</td>\n",
       "      <td>0.0</td>\n",
       "      <td>0.0</td>\n",
       "      <td>0.0</td>\n",
       "      <td>0.0</td>\n",
       "      <td>0.0</td>\n",
       "      <td>0.0</td>\n",
       "      <td>...</td>\n",
       "      <td>0.0</td>\n",
       "      <td>0.0</td>\n",
       "      <td>0.0</td>\n",
       "      <td>0.0</td>\n",
       "      <td>0.0</td>\n",
       "      <td>0.0</td>\n",
       "      <td>0.0</td>\n",
       "      <td>0.0</td>\n",
       "      <td>0.0</td>\n",
       "      <td>0.0</td>\n",
       "    </tr>\n",
       "    <tr>\n",
       "      <th>2930</th>\n",
       "      <td>0.0</td>\n",
       "      <td>0.0</td>\n",
       "      <td>0.0</td>\n",
       "      <td>0.0</td>\n",
       "      <td>0.0</td>\n",
       "      <td>0.0</td>\n",
       "      <td>0.0</td>\n",
       "      <td>0.0</td>\n",
       "      <td>0.0</td>\n",
       "      <td>0.0</td>\n",
       "      <td>...</td>\n",
       "      <td>0.0</td>\n",
       "      <td>0.0</td>\n",
       "      <td>0.0</td>\n",
       "      <td>0.0</td>\n",
       "      <td>0.0</td>\n",
       "      <td>0.0</td>\n",
       "      <td>0.0</td>\n",
       "      <td>0.0</td>\n",
       "      <td>0.0</td>\n",
       "      <td>0.0</td>\n",
       "    </tr>\n",
       "    <tr>\n",
       "      <th>2931</th>\n",
       "      <td>0.0</td>\n",
       "      <td>0.0</td>\n",
       "      <td>0.0</td>\n",
       "      <td>0.0</td>\n",
       "      <td>0.0</td>\n",
       "      <td>0.0</td>\n",
       "      <td>0.0</td>\n",
       "      <td>0.0</td>\n",
       "      <td>0.0</td>\n",
       "      <td>0.0</td>\n",
       "      <td>...</td>\n",
       "      <td>0.0</td>\n",
       "      <td>0.0</td>\n",
       "      <td>0.0</td>\n",
       "      <td>0.0</td>\n",
       "      <td>0.0</td>\n",
       "      <td>0.0</td>\n",
       "      <td>0.0</td>\n",
       "      <td>0.0</td>\n",
       "      <td>0.0</td>\n",
       "      <td>0.0</td>\n",
       "    </tr>\n",
       "  </tbody>\n",
       "</table>\n",
       "<p>2932 rows × 30430 columns</p>\n",
       "</div>"
      ],
      "text/plain": [
       "       aa  aahz  aambc  aanen  aarav  aaron  aaronovitch  aaronsohn   ab  aba  \\\n",
       "0     0.0   0.0    0.0    0.0    0.0    0.0          0.0        0.0  0.0  0.0   \n",
       "1     0.0   0.0    0.0    0.0    0.0    0.0          0.0        0.0  0.0  0.0   \n",
       "2     0.0   0.0    0.0    0.0    0.0    0.0          0.0        0.0  0.0  0.0   \n",
       "3     0.0   0.0    0.0    0.0    0.0    0.0          0.0        0.0  0.0  0.0   \n",
       "4     0.0   0.0    0.0    0.0    0.0    0.0          0.0        0.0  0.0  0.0   \n",
       "...   ...   ...    ...    ...    ...    ...          ...        ...  ...  ...   \n",
       "2927  0.0   0.0    0.0    0.0    0.0    0.0          0.0        0.0  0.0  0.0   \n",
       "2928  0.0   0.0    0.0    0.0    0.0    0.0          0.0        0.0  0.0  0.0   \n",
       "2929  0.0   0.0    0.0    0.0    0.0    0.0          0.0        0.0  0.0  0.0   \n",
       "2930  0.0   0.0    0.0    0.0    0.0    0.0          0.0        0.0  0.0  0.0   \n",
       "2931  0.0   0.0    0.0    0.0    0.0    0.0          0.0        0.0  0.0  0.0   \n",
       "\n",
       "      ...  zuckerberg  zuckoff  zuckoffs  zum  zumindest  zuni  zusak  \\\n",
       "0     ...         0.0      0.0       0.0  0.0        0.0   0.0    0.0   \n",
       "1     ...         0.0      0.0       0.0  0.0        0.0   0.0    0.0   \n",
       "2     ...         0.0      0.0       0.0  0.0        0.0   0.0    0.0   \n",
       "3     ...         0.0      0.0       0.0  0.0        0.0   0.0    0.0   \n",
       "4     ...         0.0      0.0       0.0  0.0        0.0   0.0    0.0   \n",
       "...   ...         ...      ...       ...  ...        ...   ...    ...   \n",
       "2927  ...         0.0      0.0       0.0  0.0        0.0   0.0    0.0   \n",
       "2928  ...         0.0      0.0       0.0  0.0        0.0   0.0    0.0   \n",
       "2929  ...         0.0      0.0       0.0  0.0        0.0   0.0    0.0   \n",
       "2930  ...         0.0      0.0       0.0  0.0        0.0   0.0    0.0   \n",
       "2931  ...         0.0      0.0       0.0  0.0        0.0   0.0    0.0   \n",
       "\n",
       "      zuversicht  zwanzig  zwischen  \n",
       "0            0.0      0.0       0.0  \n",
       "1            0.0      0.0       0.0  \n",
       "2            0.0      0.0       0.0  \n",
       "3            0.0      0.0       0.0  \n",
       "4            0.0      0.0       0.0  \n",
       "...          ...      ...       ...  \n",
       "2927         0.0      0.0       0.0  \n",
       "2928         0.0      0.0       0.0  \n",
       "2929         0.0      0.0       0.0  \n",
       "2930         0.0      0.0       0.0  \n",
       "2931         0.0      0.0       0.0  \n",
       "\n",
       "[2932 rows x 30430 columns]"
      ]
     },
     "execution_count": 53,
     "metadata": {},
     "output_type": "execute_result"
    }
   ],
   "source": [
    "lem_sum_tf = get_tf('lemmatized_summary')\n",
    "lem_sum_tf"
   ]
  },
  {
   "cell_type": "code",
   "execution_count": 54,
   "id": "a2ef299c",
   "metadata": {},
   "outputs": [
    {
     "data": {
      "text/plain": [
       "(aa            0.0\n",
       " aahz          0.0\n",
       " aambc         0.0\n",
       " aanen         0.0\n",
       " aarav         0.0\n",
       "              ... \n",
       " zuni          0.0\n",
       " zusak         0.0\n",
       " zuversicht    0.0\n",
       " zwanzig       0.0\n",
       " zwischen      0.0\n",
       " Length: 30430, dtype: float64,\n",
       " aa            0.099101\n",
       " aahz          0.225965\n",
       " aambc         0.102095\n",
       " aanen         0.096881\n",
       " aarav         0.146213\n",
       "                 ...   \n",
       " zuni          0.104558\n",
       " zusak         0.147526\n",
       " zuversicht    0.059956\n",
       " zwanzig       0.077280\n",
       " zwischen      0.099635\n",
       " Length: 30430, dtype: float64)"
      ]
     },
     "execution_count": 54,
     "metadata": {},
     "output_type": "execute_result"
    }
   ],
   "source": [
    "lem_sum_tf.min(), lem_sum_tf.max()"
   ]
  },
  {
   "cell_type": "code",
   "execution_count": 72,
   "id": "fc7f9c8a",
   "metadata": {},
   "outputs": [],
   "source": [
    "# function to get the idf of a column\n",
    "\n",
    "def get_idf(column):\n",
    "\n",
    "    # obtain TF-IDF score\n",
    "    tfidf = TfidfVectorizer()\n",
    "\n",
    "#         # fit-transform\n",
    "    bag_o_words = tfidf.fit_transform(train[column])\n",
    "\n",
    "    words_series = pd.Series(dict(zip(\n",
    "                            tfidf.get_feature_names_out(), \n",
    "                            tfidf.idf_)))\n",
    "    print()\n",
    "    print('- - - - - - - - - - - - - - -')\n",
    "    print('Key / value pairs of words and frequencies :')\n",
    "    print(words_series)\n",
    "    return words_series"
   ]
  },
  {
   "cell_type": "code",
   "execution_count": 76,
   "id": "96bbfc4f",
   "metadata": {},
   "outputs": [
    {
     "name": "stdout",
     "output_type": "stream",
     "text": [
      "\n",
      "- - - - - - - - - - - - - - -\n",
      "Key / value pairs of words and frequencies :\n",
      "aa            8.290634\n",
      "aahz          8.290634\n",
      "aambc         8.290634\n",
      "aanen         8.290634\n",
      "aarav         8.290634\n",
      "                ...   \n",
      "zuni          8.290634\n",
      "zusak         7.885169\n",
      "zuversicht    8.290634\n",
      "zwanzig       8.290634\n",
      "zwischen      7.597487\n",
      "Length: 30430, dtype: float64\n"
     ]
    }
   ],
   "source": [
    "# idf of lemmatised sum\n",
    "\n",
    "words_series = get_idf('lemmatized_summary')"
   ]
  },
  {
   "cell_type": "code",
   "execution_count": 98,
   "id": "ab4deea6",
   "metadata": {},
   "outputs": [],
   "source": [
    "def idf_to_df(column):\n",
    "    \n",
    "    '''\n",
    "    this function operates off of the get_idf(column)\n",
    "    function and uses the same column name. It returns\n",
    "    the original IDF list, the min and the max IDF for \n",
    "    the column, along with the idf as a useable dataframe\n",
    "    '''\n",
    "\n",
    "    idf = get_idf(column)\n",
    "\n",
    "    # turning into a DF & resetting the index\n",
    "\n",
    "    idf= pd.DataFrame(idf)\n",
    "\n",
    "    idf = idf.reset_index()\n",
    "\n",
    "    # renaming columns\n",
    "\n",
    "    idf_df = idf.rename(columns = {'index' : 'word', 0 : 'IDF'})\n",
    "    \n",
    "    print()\n",
    "    print(f'Min IDF : ', idf_df['IDF'].min(), f', max IDF : ',idf_df['IDF'].max())\n",
    "    return idf_df"
   ]
  },
  {
   "cell_type": "code",
   "execution_count": 103,
   "id": "744ccec8",
   "metadata": {},
   "outputs": [
    {
     "name": "stdout",
     "output_type": "stream",
     "text": [
      "\n",
      "- - - - - - - - - - - - - - -\n",
      "Key / value pairs of words and frequencies :\n",
      "aa            8.290634\n",
      "aahz          8.290634\n",
      "aambc         8.290634\n",
      "aanen         8.290634\n",
      "aarav         8.290634\n",
      "                ...   \n",
      "zuni          8.290634\n",
      "zusak         7.885169\n",
      "zuversicht    8.290634\n",
      "zwanzig       8.290634\n",
      "zwischen      7.597487\n",
      "Length: 30430, dtype: float64\n",
      "\n",
      "Min IDF :  1.8136615255278228 , max IDF :  8.290633888417506\n"
     ]
    }
   ],
   "source": [
    "lem_sum_idf = idf_to_df('lemmatized_summary')"
   ]
  },
  {
   "cell_type": "code",
   "execution_count": 79,
   "id": "0e1b75bd",
   "metadata": {},
   "outputs": [
    {
     "data": {
      "text/plain": [
       "30430"
      ]
     },
     "execution_count": 79,
     "metadata": {},
     "output_type": "execute_result"
    }
   ],
   "source": [
    "len(words_series)"
   ]
  },
  {
   "cell_type": "code",
   "execution_count": 80,
   "id": "53b0b5c2",
   "metadata": {},
   "outputs": [],
   "source": [
    "# # turning into a DF & resetting the index\n",
    "\n",
    "# lem_sum_idf = pd.DataFrame(words_series)\n",
    "\n",
    "# lem_sum_idf = lem_sum_idf.reset_index()"
   ]
  },
  {
   "cell_type": "code",
   "execution_count": 81,
   "id": "2314f1ed",
   "metadata": {},
   "outputs": [
    {
     "data": {
      "text/plain": [
       "Index(['index', 0], dtype='object')"
      ]
     },
     "execution_count": 81,
     "metadata": {},
     "output_type": "execute_result"
    }
   ],
   "source": [
    "# lem_sum_idf.columns"
   ]
  },
  {
   "cell_type": "code",
   "execution_count": 100,
   "id": "d919a340",
   "metadata": {},
   "outputs": [],
   "source": [
    "# # renaming columns\n",
    "\n",
    "# lem_sum_idf = lem_sum_idf.rename(columns = {'index' : 'word', 0 : 'IDF'})\n",
    "\n",
    "# lem_sum_idf"
   ]
  },
  {
   "cell_type": "code",
   "execution_count": 101,
   "id": "c6d9d9fa",
   "metadata": {},
   "outputs": [
    {
     "data": {
      "text/plain": [
       "(3.5073175170459403, 7.37434315654335)"
      ]
     },
     "execution_count": 101,
     "metadata": {},
     "output_type": "execute_result"
    }
   ],
   "source": [
    "# # finding min & max IDF\n",
    "\n",
    "# lem_sum_idf['IDF'].min(), lem_sum_idf['IDF'].max()"
   ]
  },
  {
   "cell_type": "code",
   "execution_count": 84,
   "id": "74ef8444",
   "metadata": {},
   "outputs": [],
   "source": [
    "# lem_sum_idf[lem_sum_idf['IDF'] < 3]"
   ]
  },
  {
   "cell_type": "code",
   "execution_count": 85,
   "id": "4c2f76b6",
   "metadata": {},
   "outputs": [],
   "source": [
    "# lem_sum_idf[lem_sum_idf['IDF'] > 8]"
   ]
  },
  {
   "cell_type": "code",
   "execution_count": 104,
   "id": "7ef133ad",
   "metadata": {},
   "outputs": [],
   "source": [
    "# getting rid of words with an IDF of greater than 8\n",
    "\n",
    "lem_sum_idf = lem_sum_idf[lem_sum_idf['IDF'] < 7.5]"
   ]
  },
  {
   "cell_type": "code",
   "execution_count": 105,
   "id": "3f62fe3f",
   "metadata": {},
   "outputs": [],
   "source": [
    "# getting rid of words with an IDF of less than 3\n",
    "\n",
    "lem_sum_idf = lem_sum_idf[lem_sum_idf['IDF'] > 3.5]"
   ]
  },
  {
   "cell_type": "code",
   "execution_count": 106,
   "id": "87ea5c2b",
   "metadata": {},
   "outputs": [
    {
     "data": {
      "text/html": [
       "<div>\n",
       "<style scoped>\n",
       "    .dataframe tbody tr th:only-of-type {\n",
       "        vertical-align: middle;\n",
       "    }\n",
       "\n",
       "    .dataframe tbody tr th {\n",
       "        vertical-align: top;\n",
       "    }\n",
       "\n",
       "    .dataframe thead th {\n",
       "        text-align: right;\n",
       "    }\n",
       "</style>\n",
       "<table border=\"1\" class=\"dataframe\">\n",
       "  <thead>\n",
       "    <tr style=\"text-align: right;\">\n",
       "      <th></th>\n",
       "      <th>word</th>\n",
       "      <th>IDF</th>\n",
       "    </tr>\n",
       "  </thead>\n",
       "  <tbody>\n",
       "    <tr>\n",
       "      <th>5</th>\n",
       "      <td>aaron</td>\n",
       "      <td>7.192022</td>\n",
       "    </tr>\n",
       "    <tr>\n",
       "      <th>12</th>\n",
       "      <td>abandon</td>\n",
       "      <td>4.707115</td>\n",
       "    </tr>\n",
       "    <tr>\n",
       "      <th>15</th>\n",
       "      <td>abandonment</td>\n",
       "      <td>7.037871</td>\n",
       "    </tr>\n",
       "    <tr>\n",
       "      <th>18</th>\n",
       "      <td>abbey</td>\n",
       "      <td>6.904340</td>\n",
       "    </tr>\n",
       "    <tr>\n",
       "      <th>23</th>\n",
       "      <td>abby</td>\n",
       "      <td>7.374343</td>\n",
       "    </tr>\n",
       "    <tr>\n",
       "      <th>...</th>\n",
       "      <td>...</td>\n",
       "      <td>...</td>\n",
       "    </tr>\n",
       "    <tr>\n",
       "      <th>30377</th>\n",
       "      <td>zero</td>\n",
       "      <td>6.498874</td>\n",
       "    </tr>\n",
       "    <tr>\n",
       "      <th>30403</th>\n",
       "      <td>zoey</td>\n",
       "      <td>6.585886</td>\n",
       "    </tr>\n",
       "    <tr>\n",
       "      <th>30405</th>\n",
       "      <td>zombie</td>\n",
       "      <td>6.681196</td>\n",
       "    </tr>\n",
       "    <tr>\n",
       "      <th>30406</th>\n",
       "      <td>zone</td>\n",
       "      <td>6.150568</td>\n",
       "    </tr>\n",
       "    <tr>\n",
       "      <th>30415</th>\n",
       "      <td>zu</td>\n",
       "      <td>7.374343</td>\n",
       "    </tr>\n",
       "  </tbody>\n",
       "</table>\n",
       "<p>7423 rows × 2 columns</p>\n",
       "</div>"
      ],
      "text/plain": [
       "              word       IDF\n",
       "5            aaron  7.192022\n",
       "12         abandon  4.707115\n",
       "15     abandonment  7.037871\n",
       "18           abbey  6.904340\n",
       "23            abby  7.374343\n",
       "...            ...       ...\n",
       "30377         zero  6.498874\n",
       "30403         zoey  6.585886\n",
       "30405       zombie  6.681196\n",
       "30406         zone  6.150568\n",
       "30415           zu  7.374343\n",
       "\n",
       "[7423 rows x 2 columns]"
      ]
     },
     "execution_count": 106,
     "metadata": {},
     "output_type": "execute_result"
    }
   ],
   "source": [
    "lem_sum_idf"
   ]
  },
  {
   "cell_type": "code",
   "execution_count": 107,
   "id": "62f11118",
   "metadata": {},
   "outputs": [],
   "source": [
    "# isolate word col\n",
    "\n",
    "lem_sum_words = lem_sum_idf[\"word\"]"
   ]
  },
  {
   "cell_type": "code",
   "execution_count": 108,
   "id": "6387cdd0",
   "metadata": {},
   "outputs": [],
   "source": [
    "# turn to list\n",
    "\n",
    "lem_sum_words_list = lem_sum_words.to_list()"
   ]
  },
  {
   "cell_type": "markdown",
   "id": "da2d6126",
   "metadata": {},
   "source": [
    "## now, compare lem_sum_words_list to the TF df and then drop from the TF dataframe words not on lem_sum_words_list"
   ]
  },
  {
   "cell_type": "code",
   "execution_count": 109,
   "id": "d66bc188",
   "metadata": {},
   "outputs": [],
   "source": [
    "# subset a list into an existing df and keep only words from the list\n",
    "\n",
    "lem_sum_keepers = lem_sum_tf[lem_sum_words_list]"
   ]
  },
  {
   "cell_type": "code",
   "execution_count": 114,
   "id": "d1b0a776",
   "metadata": {},
   "outputs": [],
   "source": [
    "def keep_words(lem_sum_idf):\n",
    "    \n",
    "    '''\n",
    "    this function takes in the df created in \n",
    "    the function \"idf_to_df and removes the\n",
    "    noise, isolates the \"word\" column, turns\n",
    "    it into a list, concatenates it on the\n",
    "    original df and keeps only the matches.\n",
    "    '''\n",
    "\n",
    "    # getting rid of words with an IDF of greater than 8\n",
    "\n",
    "    lem_sum_idf = lem_sum_idf[lem_sum_idf['IDF'] < 7.5]\n",
    "\n",
    "    # getting rid of words with an IDF of less than 3\n",
    "\n",
    "    lem_sum_idf = lem_sum_idf[lem_sum_idf['IDF'] > 3.5]\n",
    "\n",
    "    # isolate word col\n",
    "\n",
    "    lem_sum_words = lem_sum_idf[\"word\"]\n",
    "\n",
    "    # turn to list\n",
    "\n",
    "    lem_sum_words_list = lem_sum_words.to_list()\n",
    "\n",
    "    # subset a list into an existing df and keep only words from the list\n",
    "\n",
    "    lem_sum_keepers = lem_sum_tf[lem_sum_words_list]\n",
    "\n",
    "    return lem_sum_keepers"
   ]
  },
  {
   "cell_type": "code",
   "execution_count": 116,
   "id": "2055fa18",
   "metadata": {},
   "outputs": [
    {
     "data": {
      "text/html": [
       "<div>\n",
       "<style scoped>\n",
       "    .dataframe tbody tr th:only-of-type {\n",
       "        vertical-align: middle;\n",
       "    }\n",
       "\n",
       "    .dataframe tbody tr th {\n",
       "        vertical-align: top;\n",
       "    }\n",
       "\n",
       "    .dataframe thead th {\n",
       "        text-align: right;\n",
       "    }\n",
       "</style>\n",
       "<table border=\"1\" class=\"dataframe\">\n",
       "  <thead>\n",
       "    <tr style=\"text-align: right;\">\n",
       "      <th></th>\n",
       "      <th>aaron</th>\n",
       "      <th>abandon</th>\n",
       "      <th>abandonment</th>\n",
       "      <th>abbey</th>\n",
       "      <th>abby</th>\n",
       "      <th>abduct</th>\n",
       "      <th>abduction</th>\n",
       "      <th>abide</th>\n",
       "      <th>abigail</th>\n",
       "      <th>ability</th>\n",
       "      <th>...</th>\n",
       "      <th>youthful</th>\n",
       "      <th>youve</th>\n",
       "      <th>zach</th>\n",
       "      <th>zealand</th>\n",
       "      <th>zen</th>\n",
       "      <th>zero</th>\n",
       "      <th>zoey</th>\n",
       "      <th>zombie</th>\n",
       "      <th>zone</th>\n",
       "      <th>zu</th>\n",
       "    </tr>\n",
       "  </thead>\n",
       "  <tbody>\n",
       "    <tr>\n",
       "      <th>0</th>\n",
       "      <td>0.0</td>\n",
       "      <td>0.0</td>\n",
       "      <td>0.0</td>\n",
       "      <td>0.0</td>\n",
       "      <td>0.0</td>\n",
       "      <td>0.0</td>\n",
       "      <td>0.0</td>\n",
       "      <td>0.0</td>\n",
       "      <td>0.0</td>\n",
       "      <td>0.0</td>\n",
       "      <td>...</td>\n",
       "      <td>0.0</td>\n",
       "      <td>0.0</td>\n",
       "      <td>0.000000</td>\n",
       "      <td>0.0</td>\n",
       "      <td>0.0</td>\n",
       "      <td>0.0</td>\n",
       "      <td>0.0</td>\n",
       "      <td>0.0</td>\n",
       "      <td>0.0</td>\n",
       "      <td>0.0</td>\n",
       "    </tr>\n",
       "    <tr>\n",
       "      <th>1</th>\n",
       "      <td>0.0</td>\n",
       "      <td>0.0</td>\n",
       "      <td>0.0</td>\n",
       "      <td>0.0</td>\n",
       "      <td>0.0</td>\n",
       "      <td>0.0</td>\n",
       "      <td>0.0</td>\n",
       "      <td>0.0</td>\n",
       "      <td>0.0</td>\n",
       "      <td>0.0</td>\n",
       "      <td>...</td>\n",
       "      <td>0.0</td>\n",
       "      <td>0.0</td>\n",
       "      <td>0.000000</td>\n",
       "      <td>0.0</td>\n",
       "      <td>0.0</td>\n",
       "      <td>0.0</td>\n",
       "      <td>0.0</td>\n",
       "      <td>0.0</td>\n",
       "      <td>0.0</td>\n",
       "      <td>0.0</td>\n",
       "    </tr>\n",
       "    <tr>\n",
       "      <th>2</th>\n",
       "      <td>0.0</td>\n",
       "      <td>0.0</td>\n",
       "      <td>0.0</td>\n",
       "      <td>0.0</td>\n",
       "      <td>0.0</td>\n",
       "      <td>0.0</td>\n",
       "      <td>0.0</td>\n",
       "      <td>0.0</td>\n",
       "      <td>0.0</td>\n",
       "      <td>0.0</td>\n",
       "      <td>...</td>\n",
       "      <td>0.0</td>\n",
       "      <td>0.0</td>\n",
       "      <td>0.000000</td>\n",
       "      <td>0.0</td>\n",
       "      <td>0.0</td>\n",
       "      <td>0.0</td>\n",
       "      <td>0.0</td>\n",
       "      <td>0.0</td>\n",
       "      <td>0.0</td>\n",
       "      <td>0.0</td>\n",
       "    </tr>\n",
       "    <tr>\n",
       "      <th>3</th>\n",
       "      <td>0.0</td>\n",
       "      <td>0.0</td>\n",
       "      <td>0.0</td>\n",
       "      <td>0.0</td>\n",
       "      <td>0.0</td>\n",
       "      <td>0.0</td>\n",
       "      <td>0.0</td>\n",
       "      <td>0.0</td>\n",
       "      <td>0.0</td>\n",
       "      <td>0.0</td>\n",
       "      <td>...</td>\n",
       "      <td>0.0</td>\n",
       "      <td>0.0</td>\n",
       "      <td>0.000000</td>\n",
       "      <td>0.0</td>\n",
       "      <td>0.0</td>\n",
       "      <td>0.0</td>\n",
       "      <td>0.0</td>\n",
       "      <td>0.0</td>\n",
       "      <td>0.0</td>\n",
       "      <td>0.0</td>\n",
       "    </tr>\n",
       "    <tr>\n",
       "      <th>4</th>\n",
       "      <td>0.0</td>\n",
       "      <td>0.0</td>\n",
       "      <td>0.0</td>\n",
       "      <td>0.0</td>\n",
       "      <td>0.0</td>\n",
       "      <td>0.0</td>\n",
       "      <td>0.0</td>\n",
       "      <td>0.0</td>\n",
       "      <td>0.0</td>\n",
       "      <td>0.0</td>\n",
       "      <td>...</td>\n",
       "      <td>0.0</td>\n",
       "      <td>0.0</td>\n",
       "      <td>0.000000</td>\n",
       "      <td>0.0</td>\n",
       "      <td>0.0</td>\n",
       "      <td>0.0</td>\n",
       "      <td>0.0</td>\n",
       "      <td>0.0</td>\n",
       "      <td>0.0</td>\n",
       "      <td>0.0</td>\n",
       "    </tr>\n",
       "    <tr>\n",
       "      <th>...</th>\n",
       "      <td>...</td>\n",
       "      <td>...</td>\n",
       "      <td>...</td>\n",
       "      <td>...</td>\n",
       "      <td>...</td>\n",
       "      <td>...</td>\n",
       "      <td>...</td>\n",
       "      <td>...</td>\n",
       "      <td>...</td>\n",
       "      <td>...</td>\n",
       "      <td>...</td>\n",
       "      <td>...</td>\n",
       "      <td>...</td>\n",
       "      <td>...</td>\n",
       "      <td>...</td>\n",
       "      <td>...</td>\n",
       "      <td>...</td>\n",
       "      <td>...</td>\n",
       "      <td>...</td>\n",
       "      <td>...</td>\n",
       "      <td>...</td>\n",
       "    </tr>\n",
       "    <tr>\n",
       "      <th>2927</th>\n",
       "      <td>0.0</td>\n",
       "      <td>0.0</td>\n",
       "      <td>0.0</td>\n",
       "      <td>0.0</td>\n",
       "      <td>0.0</td>\n",
       "      <td>0.0</td>\n",
       "      <td>0.0</td>\n",
       "      <td>0.0</td>\n",
       "      <td>0.0</td>\n",
       "      <td>0.0</td>\n",
       "      <td>...</td>\n",
       "      <td>0.0</td>\n",
       "      <td>0.0</td>\n",
       "      <td>0.000000</td>\n",
       "      <td>0.0</td>\n",
       "      <td>0.0</td>\n",
       "      <td>0.0</td>\n",
       "      <td>0.0</td>\n",
       "      <td>0.0</td>\n",
       "      <td>0.0</td>\n",
       "      <td>0.0</td>\n",
       "    </tr>\n",
       "    <tr>\n",
       "      <th>2928</th>\n",
       "      <td>0.0</td>\n",
       "      <td>0.0</td>\n",
       "      <td>0.0</td>\n",
       "      <td>0.0</td>\n",
       "      <td>0.0</td>\n",
       "      <td>0.0</td>\n",
       "      <td>0.0</td>\n",
       "      <td>0.0</td>\n",
       "      <td>0.0</td>\n",
       "      <td>0.0</td>\n",
       "      <td>...</td>\n",
       "      <td>0.0</td>\n",
       "      <td>0.0</td>\n",
       "      <td>0.096742</td>\n",
       "      <td>0.0</td>\n",
       "      <td>0.0</td>\n",
       "      <td>0.0</td>\n",
       "      <td>0.0</td>\n",
       "      <td>0.0</td>\n",
       "      <td>0.0</td>\n",
       "      <td>0.0</td>\n",
       "    </tr>\n",
       "    <tr>\n",
       "      <th>2929</th>\n",
       "      <td>0.0</td>\n",
       "      <td>0.0</td>\n",
       "      <td>0.0</td>\n",
       "      <td>0.0</td>\n",
       "      <td>0.0</td>\n",
       "      <td>0.0</td>\n",
       "      <td>0.0</td>\n",
       "      <td>0.0</td>\n",
       "      <td>0.0</td>\n",
       "      <td>0.0</td>\n",
       "      <td>...</td>\n",
       "      <td>0.0</td>\n",
       "      <td>0.0</td>\n",
       "      <td>0.000000</td>\n",
       "      <td>0.0</td>\n",
       "      <td>0.0</td>\n",
       "      <td>0.0</td>\n",
       "      <td>0.0</td>\n",
       "      <td>0.0</td>\n",
       "      <td>0.0</td>\n",
       "      <td>0.0</td>\n",
       "    </tr>\n",
       "    <tr>\n",
       "      <th>2930</th>\n",
       "      <td>0.0</td>\n",
       "      <td>0.0</td>\n",
       "      <td>0.0</td>\n",
       "      <td>0.0</td>\n",
       "      <td>0.0</td>\n",
       "      <td>0.0</td>\n",
       "      <td>0.0</td>\n",
       "      <td>0.0</td>\n",
       "      <td>0.0</td>\n",
       "      <td>0.0</td>\n",
       "      <td>...</td>\n",
       "      <td>0.0</td>\n",
       "      <td>0.0</td>\n",
       "      <td>0.000000</td>\n",
       "      <td>0.0</td>\n",
       "      <td>0.0</td>\n",
       "      <td>0.0</td>\n",
       "      <td>0.0</td>\n",
       "      <td>0.0</td>\n",
       "      <td>0.0</td>\n",
       "      <td>0.0</td>\n",
       "    </tr>\n",
       "    <tr>\n",
       "      <th>2931</th>\n",
       "      <td>0.0</td>\n",
       "      <td>0.0</td>\n",
       "      <td>0.0</td>\n",
       "      <td>0.0</td>\n",
       "      <td>0.0</td>\n",
       "      <td>0.0</td>\n",
       "      <td>0.0</td>\n",
       "      <td>0.0</td>\n",
       "      <td>0.0</td>\n",
       "      <td>0.0</td>\n",
       "      <td>...</td>\n",
       "      <td>0.0</td>\n",
       "      <td>0.0</td>\n",
       "      <td>0.000000</td>\n",
       "      <td>0.0</td>\n",
       "      <td>0.0</td>\n",
       "      <td>0.0</td>\n",
       "      <td>0.0</td>\n",
       "      <td>0.0</td>\n",
       "      <td>0.0</td>\n",
       "      <td>0.0</td>\n",
       "    </tr>\n",
       "  </tbody>\n",
       "</table>\n",
       "<p>2932 rows × 7423 columns</p>\n",
       "</div>"
      ],
      "text/plain": [
       "      aaron  abandon  abandonment  abbey  abby  abduct  abduction  abide  \\\n",
       "0       0.0      0.0          0.0    0.0   0.0     0.0        0.0    0.0   \n",
       "1       0.0      0.0          0.0    0.0   0.0     0.0        0.0    0.0   \n",
       "2       0.0      0.0          0.0    0.0   0.0     0.0        0.0    0.0   \n",
       "3       0.0      0.0          0.0    0.0   0.0     0.0        0.0    0.0   \n",
       "4       0.0      0.0          0.0    0.0   0.0     0.0        0.0    0.0   \n",
       "...     ...      ...          ...    ...   ...     ...        ...    ...   \n",
       "2927    0.0      0.0          0.0    0.0   0.0     0.0        0.0    0.0   \n",
       "2928    0.0      0.0          0.0    0.0   0.0     0.0        0.0    0.0   \n",
       "2929    0.0      0.0          0.0    0.0   0.0     0.0        0.0    0.0   \n",
       "2930    0.0      0.0          0.0    0.0   0.0     0.0        0.0    0.0   \n",
       "2931    0.0      0.0          0.0    0.0   0.0     0.0        0.0    0.0   \n",
       "\n",
       "      abigail  ability  ...  youthful  youve      zach  zealand  zen  zero  \\\n",
       "0         0.0      0.0  ...       0.0    0.0  0.000000      0.0  0.0   0.0   \n",
       "1         0.0      0.0  ...       0.0    0.0  0.000000      0.0  0.0   0.0   \n",
       "2         0.0      0.0  ...       0.0    0.0  0.000000      0.0  0.0   0.0   \n",
       "3         0.0      0.0  ...       0.0    0.0  0.000000      0.0  0.0   0.0   \n",
       "4         0.0      0.0  ...       0.0    0.0  0.000000      0.0  0.0   0.0   \n",
       "...       ...      ...  ...       ...    ...       ...      ...  ...   ...   \n",
       "2927      0.0      0.0  ...       0.0    0.0  0.000000      0.0  0.0   0.0   \n",
       "2928      0.0      0.0  ...       0.0    0.0  0.096742      0.0  0.0   0.0   \n",
       "2929      0.0      0.0  ...       0.0    0.0  0.000000      0.0  0.0   0.0   \n",
       "2930      0.0      0.0  ...       0.0    0.0  0.000000      0.0  0.0   0.0   \n",
       "2931      0.0      0.0  ...       0.0    0.0  0.000000      0.0  0.0   0.0   \n",
       "\n",
       "      zoey  zombie  zone   zu  \n",
       "0      0.0     0.0   0.0  0.0  \n",
       "1      0.0     0.0   0.0  0.0  \n",
       "2      0.0     0.0   0.0  0.0  \n",
       "3      0.0     0.0   0.0  0.0  \n",
       "4      0.0     0.0   0.0  0.0  \n",
       "...    ...     ...   ...  ...  \n",
       "2927   0.0     0.0   0.0  0.0  \n",
       "2928   0.0     0.0   0.0  0.0  \n",
       "2929   0.0     0.0   0.0  0.0  \n",
       "2930   0.0     0.0   0.0  0.0  \n",
       "2931   0.0     0.0   0.0  0.0  \n",
       "\n",
       "[2932 rows x 7423 columns]"
      ]
     },
     "execution_count": 116,
     "metadata": {},
     "output_type": "execute_result"
    }
   ],
   "source": [
    "lem_sum_keepers = keep_words(lem_sum_idf)"
   ]
  },
  {
   "cell_type": "code",
   "execution_count": 97,
   "id": "769711de",
   "metadata": {},
   "outputs": [
    {
     "data": {
      "text/html": [
       "<div>\n",
       "<style scoped>\n",
       "    .dataframe tbody tr th:only-of-type {\n",
       "        vertical-align: middle;\n",
       "    }\n",
       "\n",
       "    .dataframe tbody tr th {\n",
       "        vertical-align: top;\n",
       "    }\n",
       "\n",
       "    .dataframe thead th {\n",
       "        text-align: right;\n",
       "    }\n",
       "</style>\n",
       "<table border=\"1\" class=\"dataframe\">\n",
       "  <thead>\n",
       "    <tr style=\"text-align: right;\">\n",
       "      <th></th>\n",
       "      <th>aaron</th>\n",
       "      <th>abandon</th>\n",
       "      <th>abandonment</th>\n",
       "      <th>abbey</th>\n",
       "      <th>abby</th>\n",
       "      <th>abduct</th>\n",
       "      <th>abduction</th>\n",
       "      <th>abide</th>\n",
       "      <th>abigail</th>\n",
       "      <th>ability</th>\n",
       "      <th>...</th>\n",
       "      <th>youthful</th>\n",
       "      <th>youve</th>\n",
       "      <th>zach</th>\n",
       "      <th>zealand</th>\n",
       "      <th>zen</th>\n",
       "      <th>zero</th>\n",
       "      <th>zoey</th>\n",
       "      <th>zombie</th>\n",
       "      <th>zone</th>\n",
       "      <th>zu</th>\n",
       "    </tr>\n",
       "  </thead>\n",
       "  <tbody>\n",
       "    <tr>\n",
       "      <th>0</th>\n",
       "      <td>0.0</td>\n",
       "      <td>0.0</td>\n",
       "      <td>0.0</td>\n",
       "      <td>0.0</td>\n",
       "      <td>0.0</td>\n",
       "      <td>0.0</td>\n",
       "      <td>0.0</td>\n",
       "      <td>0.0</td>\n",
       "      <td>0.0</td>\n",
       "      <td>0.0</td>\n",
       "      <td>...</td>\n",
       "      <td>0.0</td>\n",
       "      <td>0.0</td>\n",
       "      <td>0.0</td>\n",
       "      <td>0.0</td>\n",
       "      <td>0.0</td>\n",
       "      <td>0.0</td>\n",
       "      <td>0.0</td>\n",
       "      <td>0.0</td>\n",
       "      <td>0.0</td>\n",
       "      <td>0.0</td>\n",
       "    </tr>\n",
       "    <tr>\n",
       "      <th>1</th>\n",
       "      <td>0.0</td>\n",
       "      <td>0.0</td>\n",
       "      <td>0.0</td>\n",
       "      <td>0.0</td>\n",
       "      <td>0.0</td>\n",
       "      <td>0.0</td>\n",
       "      <td>0.0</td>\n",
       "      <td>0.0</td>\n",
       "      <td>0.0</td>\n",
       "      <td>0.0</td>\n",
       "      <td>...</td>\n",
       "      <td>0.0</td>\n",
       "      <td>0.0</td>\n",
       "      <td>0.0</td>\n",
       "      <td>0.0</td>\n",
       "      <td>0.0</td>\n",
       "      <td>0.0</td>\n",
       "      <td>0.0</td>\n",
       "      <td>0.0</td>\n",
       "      <td>0.0</td>\n",
       "      <td>0.0</td>\n",
       "    </tr>\n",
       "    <tr>\n",
       "      <th>2</th>\n",
       "      <td>0.0</td>\n",
       "      <td>0.0</td>\n",
       "      <td>0.0</td>\n",
       "      <td>0.0</td>\n",
       "      <td>0.0</td>\n",
       "      <td>0.0</td>\n",
       "      <td>0.0</td>\n",
       "      <td>0.0</td>\n",
       "      <td>0.0</td>\n",
       "      <td>0.0</td>\n",
       "      <td>...</td>\n",
       "      <td>0.0</td>\n",
       "      <td>0.0</td>\n",
       "      <td>0.0</td>\n",
       "      <td>0.0</td>\n",
       "      <td>0.0</td>\n",
       "      <td>0.0</td>\n",
       "      <td>0.0</td>\n",
       "      <td>0.0</td>\n",
       "      <td>0.0</td>\n",
       "      <td>0.0</td>\n",
       "    </tr>\n",
       "    <tr>\n",
       "      <th>3</th>\n",
       "      <td>0.0</td>\n",
       "      <td>0.0</td>\n",
       "      <td>0.0</td>\n",
       "      <td>0.0</td>\n",
       "      <td>0.0</td>\n",
       "      <td>0.0</td>\n",
       "      <td>0.0</td>\n",
       "      <td>0.0</td>\n",
       "      <td>0.0</td>\n",
       "      <td>0.0</td>\n",
       "      <td>...</td>\n",
       "      <td>0.0</td>\n",
       "      <td>0.0</td>\n",
       "      <td>0.0</td>\n",
       "      <td>0.0</td>\n",
       "      <td>0.0</td>\n",
       "      <td>0.0</td>\n",
       "      <td>0.0</td>\n",
       "      <td>0.0</td>\n",
       "      <td>0.0</td>\n",
       "      <td>0.0</td>\n",
       "    </tr>\n",
       "    <tr>\n",
       "      <th>4</th>\n",
       "      <td>0.0</td>\n",
       "      <td>0.0</td>\n",
       "      <td>0.0</td>\n",
       "      <td>0.0</td>\n",
       "      <td>0.0</td>\n",
       "      <td>0.0</td>\n",
       "      <td>0.0</td>\n",
       "      <td>0.0</td>\n",
       "      <td>0.0</td>\n",
       "      <td>0.0</td>\n",
       "      <td>...</td>\n",
       "      <td>0.0</td>\n",
       "      <td>0.0</td>\n",
       "      <td>0.0</td>\n",
       "      <td>0.0</td>\n",
       "      <td>0.0</td>\n",
       "      <td>0.0</td>\n",
       "      <td>0.0</td>\n",
       "      <td>0.0</td>\n",
       "      <td>0.0</td>\n",
       "      <td>0.0</td>\n",
       "    </tr>\n",
       "  </tbody>\n",
       "</table>\n",
       "<p>5 rows × 7423 columns</p>\n",
       "</div>"
      ],
      "text/plain": [
       "   aaron  abandon  abandonment  abbey  abby  abduct  abduction  abide  \\\n",
       "0    0.0      0.0          0.0    0.0   0.0     0.0        0.0    0.0   \n",
       "1    0.0      0.0          0.0    0.0   0.0     0.0        0.0    0.0   \n",
       "2    0.0      0.0          0.0    0.0   0.0     0.0        0.0    0.0   \n",
       "3    0.0      0.0          0.0    0.0   0.0     0.0        0.0    0.0   \n",
       "4    0.0      0.0          0.0    0.0   0.0     0.0        0.0    0.0   \n",
       "\n",
       "   abigail  ability  ...  youthful  youve  zach  zealand  zen  zero  zoey  \\\n",
       "0      0.0      0.0  ...       0.0    0.0   0.0      0.0  0.0   0.0   0.0   \n",
       "1      0.0      0.0  ...       0.0    0.0   0.0      0.0  0.0   0.0   0.0   \n",
       "2      0.0      0.0  ...       0.0    0.0   0.0      0.0  0.0   0.0   0.0   \n",
       "3      0.0      0.0  ...       0.0    0.0   0.0      0.0  0.0   0.0   0.0   \n",
       "4      0.0      0.0  ...       0.0    0.0   0.0      0.0  0.0   0.0   0.0   \n",
       "\n",
       "   zombie  zone   zu  \n",
       "0     0.0   0.0  0.0  \n",
       "1     0.0   0.0  0.0  \n",
       "2     0.0   0.0  0.0  \n",
       "3     0.0   0.0  0.0  \n",
       "4     0.0   0.0  0.0  \n",
       "\n",
       "[5 rows x 7423 columns]"
      ]
     },
     "execution_count": 97,
     "metadata": {},
     "output_type": "execute_result"
    }
   ],
   "source": [
    "# it worked\n",
    "\n",
    "lem_sum_keepers.head()"
   ]
  },
  {
   "cell_type": "code",
   "execution_count": null,
   "id": "b1414fda",
   "metadata": {},
   "outputs": [],
   "source": []
  },
  {
   "cell_type": "markdown",
   "id": "f4cf612d",
   "metadata": {},
   "source": [
    "### IDF for titles"
   ]
  },
  {
   "cell_type": "code",
   "execution_count": 93,
   "id": "7c3f5826",
   "metadata": {},
   "outputs": [
    {
     "name": "stdout",
     "output_type": "stream",
     "text": [
      "\n",
      "- - - - - - - - - - - - - - -\n",
      "Key / value pairs of words and frequencies :\n",
      "00            8.290634\n",
      "10            7.192022\n",
      "100           8.290634\n",
      "100yearold    8.290634\n",
      "1012          8.290634\n",
      "                ...   \n",
      "zero          7.597487\n",
      "zeroville     8.290634\n",
      "zombies       8.290634\n",
      "zone          8.290634\n",
      "zookeeper     8.290634\n",
      "Length: 3970, dtype: float64\n"
     ]
    }
   ],
   "source": [
    "title_idf = get_idf('cleaned_title')"
   ]
  },
  {
   "cell_type": "code",
   "execution_count": 94,
   "id": "d9567a3b",
   "metadata": {},
   "outputs": [],
   "source": [
    "# turn results into a DF \n",
    "\n",
    "def idf_to_df(column):\n",
    "    \n",
    "    '''\n",
    "    this function operates off of the get_idf(column)\n",
    "    function and uses the same column name. It returns\n",
    "    the original IDF list, the min and the max IDF for \n",
    "    the column, along with the idf as a useable dataframe\n",
    "    '''\n",
    "\n",
    "    idf = get_idf(column)\n",
    "\n",
    "    # turning into a DF & resetting the index\n",
    "\n",
    "    idf= pd.DataFrame(idf)\n",
    "\n",
    "    idf = idf.reset_index()\n",
    "\n",
    "    # renaming columns\n",
    "\n",
    "    idf_df = idf.rename(columns = {'index' : 'word', 0 : 'IDF'})\n",
    "    \n",
    "    print()\n",
    "    print(f'Min IDF : ', idf_df['IDF'].min(), f', max IDF : ',idf_df['IDF'].max())\n",
    "    return idf_df"
   ]
  },
  {
   "cell_type": "code",
   "execution_count": 95,
   "id": "bb6004a3",
   "metadata": {},
   "outputs": [
    {
     "name": "stdout",
     "output_type": "stream",
     "text": [
      "\n",
      "- - - - - - - - - - - - - - -\n",
      "Key / value pairs of words and frequencies :\n",
      "00            8.290634\n",
      "10            7.192022\n",
      "100           8.290634\n",
      "100yearold    8.290634\n",
      "1012          8.290634\n",
      "                ...   \n",
      "zero          7.597487\n",
      "zeroville     8.290634\n",
      "zombies       8.290634\n",
      "zone          8.290634\n",
      "zookeeper     8.290634\n",
      "Length: 3970, dtype: float64\n",
      "\n",
      "Min IDF :  1.830729434039971 , max IDF :  8.290633888417506\n"
     ]
    }
   ],
   "source": [
    "clean_title_idf = idf_to_df('cleaned_title')"
   ]
  },
  {
   "cell_type": "code",
   "execution_count": null,
   "id": "12d95c26",
   "metadata": {},
   "outputs": [],
   "source": [
    "clean_title_idf.shape"
   ]
  },
  {
   "cell_type": "code",
   "execution_count": null,
   "id": "c3e56d01",
   "metadata": {},
   "outputs": [],
   "source": [
    "clean_title_idf[clean_title_idf['IDF'] < 4.8]"
   ]
  },
  {
   "cell_type": "code",
   "execution_count": null,
   "id": "731a74fe",
   "metadata": {},
   "outputs": [],
   "source": [
    "# getting rid of words with an IDF of greater than 8\n",
    "\n",
    "clean_title_idf = clean_title_idf[clean_title_idf['IDF'] < 8]"
   ]
  },
  {
   "cell_type": "code",
   "execution_count": null,
   "id": "0ef7ffdf",
   "metadata": {},
   "outputs": [],
   "source": [
    "# getting rid of words with an IDF of greater than 8\n",
    "\n",
    "clean_title_idf = clean_title_idf[clean_title_idf['IDF'] > 4.8]"
   ]
  },
  {
   "cell_type": "code",
   "execution_count": null,
   "id": "4efb7a63",
   "metadata": {},
   "outputs": [],
   "source": [
    "clean_title_idf.shape"
   ]
  },
  {
   "cell_type": "markdown",
   "id": "8f35001e",
   "metadata": {},
   "source": [
    "### IDF of author"
   ]
  },
  {
   "cell_type": "code",
   "execution_count": null,
   "id": "76eb6c74",
   "metadata": {},
   "outputs": [],
   "source": [
    "# using the function\n",
    "\n",
    "author_idf = idf_to_df('author')"
   ]
  },
  {
   "cell_type": "code",
   "execution_count": null,
   "id": "d4a119ed",
   "metadata": {},
   "outputs": [],
   "source": [
    "# shape\n",
    "\n",
    "author_idf.shape"
   ]
  },
  {
   "cell_type": "markdown",
   "id": "412e8586",
   "metadata": {},
   "source": [
    "**Not going to drop author names.**\n"
   ]
  }
 ],
 "metadata": {
  "kernelspec": {
   "display_name": "Python 3 (ipykernel)",
   "language": "python",
   "name": "python3"
  },
  "language_info": {
   "codemirror_mode": {
    "name": "ipython",
    "version": 3
   },
   "file_extension": ".py",
   "mimetype": "text/x-python",
   "name": "python",
   "nbconvert_exporter": "python",
   "pygments_lexer": "ipython3",
   "version": "3.9.13"
  }
 },
 "nbformat": 4,
 "nbformat_minor": 5
}
