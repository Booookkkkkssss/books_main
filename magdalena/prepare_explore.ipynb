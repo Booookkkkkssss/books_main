{
 "cells": [
  {
   "cell_type": "code",
   "execution_count": 11,
   "id": "10c87f9b",
   "metadata": {},
   "outputs": [],
   "source": [
    "# imports\n",
    "\n",
    "import pandas as pd\n",
    "import numpy as np\n",
    "import unicodedata\n",
    "import re\n",
    "\n",
    "from bs4 import BeautifulSoup\n",
    "import requests\n",
    "import os\n",
    "import json\n",
    "\n",
    "import nltk\n",
    "from nltk.corpus import stopwords\n",
    "\n",
    "import prepare as prep\n",
    "\n",
    "from sklearn.model_selection import train_test_split\n",
    "import sklearn.model_selection"
   ]
  },
  {
   "cell_type": "markdown",
   "id": "63654336",
   "metadata": {},
   "source": [
    "## import data"
   ]
  },
  {
   "cell_type": "code",
   "execution_count": 8,
   "id": "8efa873d",
   "metadata": {},
   "outputs": [],
   "source": [
    "def get_data():\n",
    "    '''\n",
    "    Will pull the current data from the 'almost_there' csv file, and prep it for deeper cleaning.\n",
    "    '''\n",
    "    df = pd.read_csv('all_books.csv', index_col=0)\n",
    "    df = df.drop_duplicates(subset='title')\n",
    "    \n",
    "    save = ['Eleven on Top', 'Winter of the World', 'Nothing to Lose', 'Reflected in You']\n",
    "    sub = df[df['length'].isna()]\n",
    "    sub1 = sub[sub['title'].isin(save)]\n",
    "    df = df.dropna(subset='length')\n",
    "    df = pd.concat([df, sub1], axis=0)\n",
    "    \n",
    "    df = df.dropna(subset='summary')\n",
    "    df = df.dropna(subset='year_published')\n",
    "    \n",
    "    df = df.reset_index()\n",
    "    df = df.drop(columns=['index', 'book_tag'])\n",
    "    \n",
    "    df['summary'] = df['summary'].astype('string')\n",
    "    df['title'] = df['title'].astype('string')\n",
    "    df['author'] = df['author'].astype('string')\n",
    "    df['genre'] = df['genre'].astype('string')\n",
    "    df['length'] = df['length'].astype('float')\n",
    "\n",
    "    return df"
   ]
  },
  {
   "cell_type": "code",
   "execution_count": 9,
   "id": "ac6857c7",
   "metadata": {},
   "outputs": [],
   "source": [
    "# read in the dataframe of the books\n",
    "\n",
    "df = get_data()"
   ]
  },
  {
   "cell_type": "code",
   "execution_count": 10,
   "id": "cd2d9b40",
   "metadata": {},
   "outputs": [
    {
     "data": {
      "text/plain": [
       "(3810, 10)"
      ]
     },
     "execution_count": 10,
     "metadata": {},
     "output_type": "execute_result"
    }
   ],
   "source": [
    "df.shape"
   ]
  },
  {
   "cell_type": "markdown",
   "id": "b1c23a6d",
   "metadata": {},
   "source": [
    "## cleaning, exploring`"
   ]
  },
  {
   "cell_type": "code",
   "execution_count": 15,
   "id": "5f0dcb8c",
   "metadata": {},
   "outputs": [
    {
     "data": {
      "text/plain": [
       "title                   0\n",
       "summary                 0\n",
       "year_published          0\n",
       "author                  0\n",
       "review_count            0\n",
       "number_of_ratings       0\n",
       "length                  4\n",
       "genre                   0\n",
       "rating                  0\n",
       "reviews              2026\n",
       "dtype: int64"
      ]
     },
     "execution_count": 15,
     "metadata": {},
     "output_type": "execute_result"
    }
   ],
   "source": [
    "df.isna().sum()"
   ]
  },
  {
   "cell_type": "code",
   "execution_count": null,
   "id": "83d2afbe",
   "metadata": {},
   "outputs": [],
   "source": [
    "# df.dropna()"
   ]
  },
  {
   "cell_type": "code",
   "execution_count": null,
   "id": "d3c353f8",
   "metadata": {},
   "outputs": [],
   "source": []
  },
  {
   "cell_type": "code",
   "execution_count": null,
   "id": "30b980d3",
   "metadata": {},
   "outputs": [],
   "source": []
  },
  {
   "cell_type": "markdown",
   "id": "32e3d0ea",
   "metadata": {},
   "source": [
    "## train—test split"
   ]
  },
  {
   "cell_type": "code",
   "execution_count": 12,
   "id": "f1e708bb",
   "metadata": {},
   "outputs": [],
   "source": [
    "def split(df):\n",
    "    train, test = train_test_split(df, test_size = .2, random_state = 42, stratify = df.Target)\n",
    "    return train, test"
   ]
  },
  {
   "cell_type": "markdown",
   "id": "5729bafc",
   "metadata": {},
   "source": [
    "#### We'll be doing k-folds, so no need to have a validate portion here"
   ]
  },
  {
   "cell_type": "code",
   "execution_count": null,
   "id": "bf23ecd7",
   "metadata": {},
   "outputs": [],
   "source": []
  }
 ],
 "metadata": {
  "kernelspec": {
   "display_name": "Python 3 (ipykernel)",
   "language": "python",
   "name": "python3"
  },
  "language_info": {
   "codemirror_mode": {
    "name": "ipython",
    "version": 3
   },
   "file_extension": ".py",
   "mimetype": "text/x-python",
   "name": "python",
   "nbconvert_exporter": "python",
   "pygments_lexer": "ipython3",
   "version": "3.9.13"
  }
 },
 "nbformat": 4,
 "nbformat_minor": 5
}
