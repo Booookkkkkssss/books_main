{
 "cells": [
  {
   "cell_type": "markdown",
   "id": "e080bd01",
   "metadata": {},
   "source": [
    "## New prepare & explore using weekend_dataset.csv"
   ]
  },
  {
   "cell_type": "code",
   "execution_count": 1,
   "id": "88690ae0",
   "metadata": {},
   "outputs": [],
   "source": [
    "# imports\n",
    "\n",
    "import pandas as pd\n",
    "import numpy as np\n",
    "\n",
    "import seaborn as sns\n",
    "import matplotlib.pyplot as plt\n",
    "\n",
    "\n",
    "import unicodedata\n",
    "import re\n",
    "\n",
    "from bs4 import BeautifulSoup\n",
    "import requests\n",
    "import os\n",
    "import json\n",
    "\n",
    "import nltk\n",
    "from nltk.corpus import stopwords\n",
    "from sklearn.feature_extraction.text import TfidfVectorizer\n",
    "\n",
    "import prepare as prep\n",
    "\n",
    "from sklearn.model_selection import train_test_split\n",
    "import sklearn.model_selection\n",
    "\n",
    "from scipy import stats\n",
    "from scipy.stats import norm, binom\n",
    "\n",
    "\n",
    "\n",
    "from sklearn.tree import DecisionTreeClassifier, plot_tree\n",
    "from sklearn.ensemble import RandomForestClassifier"
   ]
  },
  {
   "cell_type": "code",
   "execution_count": 2,
   "id": "f7516341",
   "metadata": {},
   "outputs": [],
   "source": [
    "# original df\n",
    "df = pd.read_csv('weekend_dataset.csv')\n",
    "\n",
    "# combining review cols\n",
    "df['reviews'] = df['Review 1'] + ' ' + df['Review 2'] + ' ' + df['Review 3'] + ' ' + df['Review 4'] + ' ' +  df['Review 5']\n",
    "\n",
    "# dropping cols\n",
    "df.drop(['Review 1', 'Review 2', 'Review 3', 'Review 4', 'Review 5'], axis = 1, inplace = True)\n",
    "\n",
    "# renaming columns\n",
    "df = df.rename(columns = {'Book Name': 'title','Synopsis':'summary', 'Link':'link', 'page_count':'length'})"
   ]
  },
  {
   "cell_type": "code",
   "execution_count": 3,
   "id": "f9669446",
   "metadata": {},
   "outputs": [
    {
     "data": {
      "text/html": [
       "<div>\n",
       "<style scoped>\n",
       "    .dataframe tbody tr th:only-of-type {\n",
       "        vertical-align: middle;\n",
       "    }\n",
       "\n",
       "    .dataframe tbody tr th {\n",
       "        vertical-align: top;\n",
       "    }\n",
       "\n",
       "    .dataframe thead th {\n",
       "        text-align: right;\n",
       "    }\n",
       "</style>\n",
       "<table border=\"1\" class=\"dataframe\">\n",
       "  <thead>\n",
       "    <tr style=\"text-align: right;\">\n",
       "      <th></th>\n",
       "      <th>title</th>\n",
       "      <th>summary</th>\n",
       "      <th>length</th>\n",
       "      <th>year</th>\n",
       "      <th>review_count</th>\n",
       "      <th>rating</th>\n",
       "      <th>rating_count</th>\n",
       "      <th>genre</th>\n",
       "      <th>author</th>\n",
       "      <th>publisher</th>\n",
       "      <th>link</th>\n",
       "      <th>scraped_at</th>\n",
       "      <th>reviews</th>\n",
       "    </tr>\n",
       "  </thead>\n",
       "  <tbody>\n",
       "    <tr>\n",
       "      <th>0</th>\n",
       "      <td>Raintree County</td>\n",
       "      <td>Throughout a single day in 1892, John Shawness...</td>\n",
       "      <td>1088 pages, Paperback</td>\n",
       "      <td>First published January 1, 1948</td>\n",
       "      <td>91</td>\n",
       "      <td>3.95</td>\n",
       "      <td>1,035 ratings</td>\n",
       "      <td>Fiction</td>\n",
       "      <td>Ross Lockridge Jr.</td>\n",
       "      <td>April 1, 1994 by Penguin Books</td>\n",
       "      <td>https://www.goodreads.com/book/show/257233.Rai...</td>\n",
       "      <td>2023-03-25 01:31:35.686587</td>\n",
       "      <td>Did they stop to think, in the midst of their ...</td>\n",
       "    </tr>\n",
       "    <tr>\n",
       "      <th>1</th>\n",
       "      <td>The Eliots of Damerosehay #2\\nPilgrim's Inn</td>\n",
       "      <td>After WW II, Lucilla Eliot's soldier son Georg...</td>\n",
       "      <td>352 pages, Hardcover</td>\n",
       "      <td>First published January 1, 1948</td>\n",
       "      <td>238</td>\n",
       "      <td>4.35</td>\n",
       "      <td>1,895 ratings</td>\n",
       "      <td>Fiction</td>\n",
       "      <td>Elizabeth Goudge</td>\n",
       "      <td>March 21, 2013 by Amereon Limited</td>\n",
       "      <td>https://www.goodreads.com/book/show/205621.Pil...</td>\n",
       "      <td>2023-03-25 01:31:52.336480</td>\n",
       "      <td>I think I will start a bookshelf containing bo...</td>\n",
       "    </tr>\n",
       "    <tr>\n",
       "      <th>2</th>\n",
       "      <td>An A.J. Cronin Trilogy: The Northern Light, Th...</td>\n",
       "      <td>Omnibus edition of two unabridged novels: The ...</td>\n",
       "      <td>Hardcover</td>\n",
       "      <td>Published January 1, 1958</td>\n",
       "      <td>0</td>\n",
       "      <td>4.50</td>\n",
       "      <td>2 ratings</td>\n",
       "      <td>NaN</td>\n",
       "      <td>A.J. Cronin</td>\n",
       "      <td>January 1, 1958 by Little, Brown and Company</td>\n",
       "      <td>https://www.goodreads.com/book/show/2398522.An...</td>\n",
       "      <td>2023-03-25 01:32:06.053123</td>\n",
       "      <td>no_review no_review no_review no_review no_review</td>\n",
       "    </tr>\n",
       "    <tr>\n",
       "      <th>3</th>\n",
       "      <td>The Naked and the Dead by Norman Mailer Lesson...</td>\n",
       "      <td>The Naked and the Dead lesson plan contains a ...</td>\n",
       "      <td>328 pages, Kindle Edition</td>\n",
       "      <td>First published June 18, 2012</td>\n",
       "      <td>0</td>\n",
       "      <td>0.00</td>\n",
       "      <td>0 ratings</td>\n",
       "      <td>NaN</td>\n",
       "      <td>BookRags</td>\n",
       "      <td>June 18, 2012</td>\n",
       "      <td>https://www.goodreads.com/book/show/20497230-t...</td>\n",
       "      <td>2023-03-25 01:32:19.143691</td>\n",
       "      <td>no_review no_review no_review no_review no_review</td>\n",
       "    </tr>\n",
       "    <tr>\n",
       "      <th>4</th>\n",
       "      <td>The Big Fisherman</td>\n",
       "      <td>It was a calm, early summer noon in the southe...</td>\n",
       "      <td>459 pages, Hardcover</td>\n",
       "      <td>First published January 1, 1936</td>\n",
       "      <td>130</td>\n",
       "      <td>4.08</td>\n",
       "      <td>1,795 ratings</td>\n",
       "      <td>Historical Fiction</td>\n",
       "      <td>Lloyd C. Douglas</td>\n",
       "      <td>January 1, 1954</td>\n",
       "      <td>https://www.goodreads.com/book/show/778667.The...</td>\n",
       "      <td>2023-03-25 01:32:32.567861</td>\n",
       "      <td>There was a thing in the first half of the 20t...</td>\n",
       "    </tr>\n",
       "  </tbody>\n",
       "</table>\n",
       "</div>"
      ],
      "text/plain": [
       "                                               title  \\\n",
       "0                                    Raintree County   \n",
       "1        The Eliots of Damerosehay #2\\nPilgrim's Inn   \n",
       "2  An A.J. Cronin Trilogy: The Northern Light, Th...   \n",
       "3  The Naked and the Dead by Norman Mailer Lesson...   \n",
       "4                                  The Big Fisherman   \n",
       "\n",
       "                                             summary  \\\n",
       "0  Throughout a single day in 1892, John Shawness...   \n",
       "1  After WW II, Lucilla Eliot's soldier son Georg...   \n",
       "2  Omnibus edition of two unabridged novels: The ...   \n",
       "3  The Naked and the Dead lesson plan contains a ...   \n",
       "4  It was a calm, early summer noon in the southe...   \n",
       "\n",
       "                      length                             year  review_count  \\\n",
       "0      1088 pages, Paperback  First published January 1, 1948            91   \n",
       "1       352 pages, Hardcover  First published January 1, 1948           238   \n",
       "2                  Hardcover        Published January 1, 1958             0   \n",
       "3  328 pages, Kindle Edition    First published June 18, 2012             0   \n",
       "4       459 pages, Hardcover  First published January 1, 1936           130   \n",
       "\n",
       "   rating   rating_count               genre              author  \\\n",
       "0    3.95  1,035 ratings             Fiction  Ross Lockridge Jr.   \n",
       "1    4.35  1,895 ratings             Fiction    Elizabeth Goudge   \n",
       "2    4.50      2 ratings                 NaN         A.J. Cronin   \n",
       "3    0.00      0 ratings                 NaN            BookRags   \n",
       "4    4.08  1,795 ratings  Historical Fiction    Lloyd C. Douglas   \n",
       "\n",
       "                                      publisher  \\\n",
       "0                April 1, 1994 by Penguin Books   \n",
       "1             March 21, 2013 by Amereon Limited   \n",
       "2  January 1, 1958 by Little, Brown and Company   \n",
       "3                                 June 18, 2012   \n",
       "4                               January 1, 1954   \n",
       "\n",
       "                                                link  \\\n",
       "0  https://www.goodreads.com/book/show/257233.Rai...   \n",
       "1  https://www.goodreads.com/book/show/205621.Pil...   \n",
       "2  https://www.goodreads.com/book/show/2398522.An...   \n",
       "3  https://www.goodreads.com/book/show/20497230-t...   \n",
       "4  https://www.goodreads.com/book/show/778667.The...   \n",
       "\n",
       "                   scraped_at  \\\n",
       "0  2023-03-25 01:31:35.686587   \n",
       "1  2023-03-25 01:31:52.336480   \n",
       "2  2023-03-25 01:32:06.053123   \n",
       "3  2023-03-25 01:32:19.143691   \n",
       "4  2023-03-25 01:32:32.567861   \n",
       "\n",
       "                                             reviews  \n",
       "0  Did they stop to think, in the midst of their ...  \n",
       "1  I think I will start a bookshelf containing bo...  \n",
       "2  no_review no_review no_review no_review no_review  \n",
       "3  no_review no_review no_review no_review no_review  \n",
       "4  There was a thing in the first half of the 20t...  "
      ]
     },
     "execution_count": 3,
     "metadata": {},
     "output_type": "execute_result"
    }
   ],
   "source": [
    "df.head()"
   ]
  },
  {
   "cell_type": "code",
   "execution_count": 4,
   "id": "ef81eccf",
   "metadata": {},
   "outputs": [
    {
     "data": {
      "text/plain": [
       "title            object\n",
       "summary          object\n",
       "length           object\n",
       "year             object\n",
       "review_count      int64\n",
       "rating          float64\n",
       "rating_count     object\n",
       "genre            object\n",
       "author           object\n",
       "publisher        object\n",
       "link             object\n",
       "scraped_at       object\n",
       "reviews          object\n",
       "dtype: object"
      ]
     },
     "execution_count": 4,
     "metadata": {},
     "output_type": "execute_result"
    }
   ],
   "source": [
    "df.dtypes"
   ]
  },
  {
   "cell_type": "code",
   "execution_count": 5,
   "id": "6a3931b2",
   "metadata": {},
   "outputs": [
    {
     "data": {
      "text/plain": [
       "title             0\n",
       "summary         121\n",
       "length           18\n",
       "year             32\n",
       "review_count      0\n",
       "rating            0\n",
       "rating_count      0\n",
       "genre           297\n",
       "author            0\n",
       "publisher        25\n",
       "link              0\n",
       "scraped_at        0\n",
       "reviews         398\n",
       "dtype: int64"
      ]
     },
     "execution_count": 5,
     "metadata": {},
     "output_type": "execute_result"
    }
   ],
   "source": [
    "df.isna().sum()"
   ]
  },
  {
   "cell_type": "code",
   "execution_count": 6,
   "id": "8cd4191d",
   "metadata": {},
   "outputs": [],
   "source": [
    "# convert 'year' column to string type using .astype()\n",
    "df['year'] = df['year'].astype(str)\n",
    "\n",
    "# extract the year from the 'year' column using the lambda function\n",
    "df['year'] = df['year'].apply(lambda x: x[-4:])"
   ]
  },
  {
   "cell_type": "code",
   "execution_count": 7,
   "id": "fa19d7b1",
   "metadata": {},
   "outputs": [
    {
     "data": {
      "text/html": [
       "<div>\n",
       "<style scoped>\n",
       "    .dataframe tbody tr th:only-of-type {\n",
       "        vertical-align: middle;\n",
       "    }\n",
       "\n",
       "    .dataframe tbody tr th {\n",
       "        vertical-align: top;\n",
       "    }\n",
       "\n",
       "    .dataframe thead th {\n",
       "        text-align: right;\n",
       "    }\n",
       "</style>\n",
       "<table border=\"1\" class=\"dataframe\">\n",
       "  <thead>\n",
       "    <tr style=\"text-align: right;\">\n",
       "      <th></th>\n",
       "      <th>title</th>\n",
       "      <th>summary</th>\n",
       "      <th>length</th>\n",
       "      <th>year</th>\n",
       "      <th>review_count</th>\n",
       "      <th>rating</th>\n",
       "      <th>rating_count</th>\n",
       "      <th>genre</th>\n",
       "      <th>author</th>\n",
       "      <th>publisher</th>\n",
       "      <th>link</th>\n",
       "      <th>scraped_at</th>\n",
       "      <th>reviews</th>\n",
       "    </tr>\n",
       "  </thead>\n",
       "  <tbody>\n",
       "    <tr>\n",
       "      <th>0</th>\n",
       "      <td>Raintree County</td>\n",
       "      <td>Throughout a single day in 1892, John Shawness...</td>\n",
       "      <td>1088 pages, Paperback</td>\n",
       "      <td>1948</td>\n",
       "      <td>91</td>\n",
       "      <td>3.95</td>\n",
       "      <td>1,035 ratings</td>\n",
       "      <td>Fiction</td>\n",
       "      <td>Ross Lockridge Jr.</td>\n",
       "      <td>April 1, 1994 by Penguin Books</td>\n",
       "      <td>https://www.goodreads.com/book/show/257233.Rai...</td>\n",
       "      <td>2023-03-25 01:31:35.686587</td>\n",
       "      <td>Did they stop to think, in the midst of their ...</td>\n",
       "    </tr>\n",
       "    <tr>\n",
       "      <th>1</th>\n",
       "      <td>The Eliots of Damerosehay #2\\nPilgrim's Inn</td>\n",
       "      <td>After WW II, Lucilla Eliot's soldier son Georg...</td>\n",
       "      <td>352 pages, Hardcover</td>\n",
       "      <td>1948</td>\n",
       "      <td>238</td>\n",
       "      <td>4.35</td>\n",
       "      <td>1,895 ratings</td>\n",
       "      <td>Fiction</td>\n",
       "      <td>Elizabeth Goudge</td>\n",
       "      <td>March 21, 2013 by Amereon Limited</td>\n",
       "      <td>https://www.goodreads.com/book/show/205621.Pil...</td>\n",
       "      <td>2023-03-25 01:31:52.336480</td>\n",
       "      <td>I think I will start a bookshelf containing bo...</td>\n",
       "    </tr>\n",
       "    <tr>\n",
       "      <th>2</th>\n",
       "      <td>An A.J. Cronin Trilogy: The Northern Light, Th...</td>\n",
       "      <td>Omnibus edition of two unabridged novels: The ...</td>\n",
       "      <td>Hardcover</td>\n",
       "      <td>1958</td>\n",
       "      <td>0</td>\n",
       "      <td>4.50</td>\n",
       "      <td>2 ratings</td>\n",
       "      <td>NaN</td>\n",
       "      <td>A.J. Cronin</td>\n",
       "      <td>January 1, 1958 by Little, Brown and Company</td>\n",
       "      <td>https://www.goodreads.com/book/show/2398522.An...</td>\n",
       "      <td>2023-03-25 01:32:06.053123</td>\n",
       "      <td>no_review no_review no_review no_review no_review</td>\n",
       "    </tr>\n",
       "  </tbody>\n",
       "</table>\n",
       "</div>"
      ],
      "text/plain": [
       "                                               title  \\\n",
       "0                                    Raintree County   \n",
       "1        The Eliots of Damerosehay #2\\nPilgrim's Inn   \n",
       "2  An A.J. Cronin Trilogy: The Northern Light, Th...   \n",
       "\n",
       "                                             summary                 length  \\\n",
       "0  Throughout a single day in 1892, John Shawness...  1088 pages, Paperback   \n",
       "1  After WW II, Lucilla Eliot's soldier son Georg...   352 pages, Hardcover   \n",
       "2  Omnibus edition of two unabridged novels: The ...              Hardcover   \n",
       "\n",
       "   year  review_count  rating   rating_count    genre              author  \\\n",
       "0  1948            91    3.95  1,035 ratings  Fiction  Ross Lockridge Jr.   \n",
       "1  1948           238    4.35  1,895 ratings  Fiction    Elizabeth Goudge   \n",
       "2  1958             0    4.50      2 ratings      NaN         A.J. Cronin   \n",
       "\n",
       "                                      publisher  \\\n",
       "0                April 1, 1994 by Penguin Books   \n",
       "1             March 21, 2013 by Amereon Limited   \n",
       "2  January 1, 1958 by Little, Brown and Company   \n",
       "\n",
       "                                                link  \\\n",
       "0  https://www.goodreads.com/book/show/257233.Rai...   \n",
       "1  https://www.goodreads.com/book/show/205621.Pil...   \n",
       "2  https://www.goodreads.com/book/show/2398522.An...   \n",
       "\n",
       "                   scraped_at  \\\n",
       "0  2023-03-25 01:31:35.686587   \n",
       "1  2023-03-25 01:31:52.336480   \n",
       "2  2023-03-25 01:32:06.053123   \n",
       "\n",
       "                                             reviews  \n",
       "0  Did they stop to think, in the midst of their ...  \n",
       "1  I think I will start a bookshelf containing bo...  \n",
       "2  no_review no_review no_review no_review no_review  "
      ]
     },
     "execution_count": 7,
     "metadata": {},
     "output_type": "execute_result"
    }
   ],
   "source": [
    "df.head(3)"
   ]
  },
  {
   "cell_type": "markdown",
   "id": "5f49a9ab",
   "metadata": {},
   "source": [
    "### this works if the page-count is 4 digits, but with books of less than 100 pages, it would return letters, too. Need to use RegEx"
   ]
  },
  {
   "cell_type": "code",
   "execution_count": 8,
   "id": "6d457f04",
   "metadata": {},
   "outputs": [],
   "source": [
    "# isolating the page count with RegEx\n",
    "\n",
    "df['length'] = [re.findall(r'\\d', str(x)) for x in df['length']]\n"
   ]
  },
  {
   "cell_type": "code",
   "execution_count": 9,
   "id": "117c35a1",
   "metadata": {},
   "outputs": [],
   "source": [
    "# joining the pages together\n",
    "\n",
    "df[\"length\"] = df[\"length\"].str.join(\"\")"
   ]
  },
  {
   "cell_type": "code",
   "execution_count": 10,
   "id": "6f93aeb2",
   "metadata": {},
   "outputs": [
    {
     "data": {
      "text/html": [
       "<div>\n",
       "<style scoped>\n",
       "    .dataframe tbody tr th:only-of-type {\n",
       "        vertical-align: middle;\n",
       "    }\n",
       "\n",
       "    .dataframe tbody tr th {\n",
       "        vertical-align: top;\n",
       "    }\n",
       "\n",
       "    .dataframe thead th {\n",
       "        text-align: right;\n",
       "    }\n",
       "</style>\n",
       "<table border=\"1\" class=\"dataframe\">\n",
       "  <thead>\n",
       "    <tr style=\"text-align: right;\">\n",
       "      <th></th>\n",
       "      <th>title</th>\n",
       "      <th>summary</th>\n",
       "      <th>length</th>\n",
       "      <th>year</th>\n",
       "      <th>review_count</th>\n",
       "      <th>rating</th>\n",
       "      <th>rating_count</th>\n",
       "      <th>genre</th>\n",
       "      <th>author</th>\n",
       "      <th>publisher</th>\n",
       "      <th>link</th>\n",
       "      <th>scraped_at</th>\n",
       "      <th>reviews</th>\n",
       "    </tr>\n",
       "  </thead>\n",
       "  <tbody>\n",
       "    <tr>\n",
       "      <th>2432</th>\n",
       "      <td>Otherworld #11\\nWaking the Witch</td>\n",
       "      <td>At twenty-one, Savannah Levine-orphaned daught...</td>\n",
       "      <td>309</td>\n",
       "      <td>2010</td>\n",
       "      <td>998</td>\n",
       "      <td>4.17</td>\n",
       "      <td>18,002 ratings</td>\n",
       "      <td>Urban Fantasy</td>\n",
       "      <td>Kelley Armstrong</td>\n",
       "      <td>July 27, 2010 by Dutton Adult</td>\n",
       "      <td>https://www.goodreads.com/book/show/6725785-wa...</td>\n",
       "      <td>2023-03-25 18:48:18.604054</td>\n",
       "      <td>I loved Savannah finally getting her own story...</td>\n",
       "    </tr>\n",
       "  </tbody>\n",
       "</table>\n",
       "</div>"
      ],
      "text/plain": [
       "                                 title  \\\n",
       "2432  Otherworld #11\\nWaking the Witch   \n",
       "\n",
       "                                                summary length  year  \\\n",
       "2432  At twenty-one, Savannah Levine-orphaned daught...    309  2010   \n",
       "\n",
       "      review_count  rating    rating_count          genre            author  \\\n",
       "2432           998    4.17  18,002 ratings  Urban Fantasy  Kelley Armstrong   \n",
       "\n",
       "                          publisher  \\\n",
       "2432  July 27, 2010 by Dutton Adult   \n",
       "\n",
       "                                                   link  \\\n",
       "2432  https://www.goodreads.com/book/show/6725785-wa...   \n",
       "\n",
       "                      scraped_at  \\\n",
       "2432  2023-03-25 18:48:18.604054   \n",
       "\n",
       "                                                reviews  \n",
       "2432  I loved Savannah finally getting her own story...  "
      ]
     },
     "execution_count": 10,
     "metadata": {},
     "output_type": "execute_result"
    }
   ],
   "source": [
    "df.sample()"
   ]
  },
  {
   "cell_type": "code",
   "execution_count": 33,
   "id": "450e194a",
   "metadata": {},
   "outputs": [
    {
     "data": {
      "text/html": [
       "<div>\n",
       "<style scoped>\n",
       "    .dataframe tbody tr th:only-of-type {\n",
       "        vertical-align: middle;\n",
       "    }\n",
       "\n",
       "    .dataframe tbody tr th {\n",
       "        vertical-align: top;\n",
       "    }\n",
       "\n",
       "    .dataframe thead th {\n",
       "        text-align: right;\n",
       "    }\n",
       "</style>\n",
       "<table border=\"1\" class=\"dataframe\">\n",
       "  <thead>\n",
       "    <tr style=\"text-align: right;\">\n",
       "      <th></th>\n",
       "      <th>title</th>\n",
       "      <th>summary</th>\n",
       "      <th>length</th>\n",
       "      <th>year</th>\n",
       "      <th>review_count</th>\n",
       "      <th>rating</th>\n",
       "      <th>rating_count</th>\n",
       "      <th>genre</th>\n",
       "      <th>author</th>\n",
       "      <th>publisher</th>\n",
       "      <th>link</th>\n",
       "      <th>scraped_at</th>\n",
       "      <th>reviews</th>\n",
       "    </tr>\n",
       "  </thead>\n",
       "  <tbody>\n",
       "    <tr>\n",
       "      <th>80</th>\n",
       "      <td>Tinker Tailor Soldier Spy by John le Carré (Bo...</td>\n",
       "      <td>Unlock the more straightforward side of Tinker...</td>\n",
       "      <td>0</td>\n",
       "      <td>2019</td>\n",
       "      <td>0</td>\n",
       "      <td>3.75</td>\n",
       "      <td>4 ratings</td>\n",
       "      <td>NaN</td>\n",
       "      <td>Bright Summaries</td>\n",
       "      <td>BrightSummaries.com</td>\n",
       "      <td>https://www.goodreads.com/book/show/45183621-t...</td>\n",
       "      <td>2023-03-25 01:50:23.895206</td>\n",
       "      <td>no_review no_review no_review no_review no_review</td>\n",
       "    </tr>\n",
       "  </tbody>\n",
       "</table>\n",
       "</div>"
      ],
      "text/plain": [
       "                                                title  \\\n",
       "80  Tinker Tailor Soldier Spy by John le Carré (Bo...   \n",
       "\n",
       "                                              summary  length  year  \\\n",
       "80  Unlock the more straightforward side of Tinker...       0  2019   \n",
       "\n",
       "    review_count  rating rating_count genre            author  \\\n",
       "80             0    3.75    4 ratings   NaN  Bright Summaries   \n",
       "\n",
       "              publisher                                               link  \\\n",
       "80  BrightSummaries.com  https://www.goodreads.com/book/show/45183621-t...   \n",
       "\n",
       "                    scraped_at  \\\n",
       "80  2023-03-25 01:50:23.895206   \n",
       "\n",
       "                                              reviews  \n",
       "80  no_review no_review no_review no_review no_review  "
      ]
     },
     "execution_count": 33,
     "metadata": {},
     "output_type": "execute_result"
    }
   ],
   "source": [
    "# looking at books with no publisher\n",
    "\n",
    "df[df['genre'].isna()].sample()"
   ]
  },
  {
   "cell_type": "code",
   "execution_count": 12,
   "id": "68bef7a9",
   "metadata": {},
   "outputs": [],
   "source": [
    "# dropping duplicate title-author combos\n",
    "\n",
    "df.drop_duplicates(subset = ['title', 'author'], inplace = True)"
   ]
  },
  {
   "cell_type": "code",
   "execution_count": 13,
   "id": "7a00d180",
   "metadata": {},
   "outputs": [],
   "source": [
    "# clean up publishers\n",
    "\n",
    "df.publisher = df.publisher.astype(str)\n",
    "\n",
    "df.publisher = [s.split('by')[1].strip() if len(s.split('by')) > 1 else '' for s in df.publisher]"
   ]
  },
  {
   "cell_type": "code",
   "execution_count": 14,
   "id": "5faf83b8",
   "metadata": {},
   "outputs": [
    {
     "data": {
      "text/plain": [
       "title             0\n",
       "summary         111\n",
       "length            0\n",
       "year              0\n",
       "review_count      0\n",
       "rating            0\n",
       "rating_count      0\n",
       "genre           282\n",
       "author            0\n",
       "publisher         0\n",
       "link              0\n",
       "scraped_at        0\n",
       "reviews         364\n",
       "dtype: int64"
      ]
     },
     "execution_count": 14,
     "metadata": {},
     "output_type": "execute_result"
    }
   ],
   "source": [
    "df.isna().sum()"
   ]
  },
  {
   "cell_type": "markdown",
   "id": "d5d8ca63",
   "metadata": {},
   "source": [
    "# Using prepare function prep_data(filename)"
   ]
  },
  {
   "cell_type": "code",
   "execution_count": 15,
   "id": "eef44c41",
   "metadata": {},
   "outputs": [],
   "source": [
    "# ...or not\n",
    "\n"
   ]
  },
  {
   "cell_type": "code",
   "execution_count": 16,
   "id": "35a9ce89",
   "metadata": {},
   "outputs": [],
   "source": [
    "# replacing NaNs\n",
    "\n",
    "df.replace(to_replace = '', value = 0, inplace = True)"
   ]
  },
  {
   "cell_type": "code",
   "execution_count": 38,
   "id": "8f859e5e",
   "metadata": {},
   "outputs": [],
   "source": [
    "df.replace(to_replace = 'NaN', value = 0, inplace = True)"
   ]
  },
  {
   "cell_type": "code",
   "execution_count": 24,
   "id": "1a41a9d8",
   "metadata": {},
   "outputs": [
    {
     "data": {
      "text/plain": [
       "title             0\n",
       "summary         111\n",
       "length            0\n",
       "year              0\n",
       "review_count      0\n",
       "rating            0\n",
       "rating_count      0\n",
       "genre           282\n",
       "author            0\n",
       "publisher         0\n",
       "link              0\n",
       "scraped_at        0\n",
       "reviews         364\n",
       "dtype: int64"
      ]
     },
     "execution_count": 24,
     "metadata": {},
     "output_type": "execute_result"
    }
   ],
   "source": [
    "df.isna().sum()"
   ]
  },
  {
   "cell_type": "code",
   "execution_count": 25,
   "id": "2078da7a",
   "metadata": {},
   "outputs": [],
   "source": [
    "# convert to int\n",
    "\n",
    "df['length'] = df['length'].astype('int64')\n",
    "\n"
   ]
  },
  {
   "cell_type": "code",
   "execution_count": 36,
   "id": "d48a25be",
   "metadata": {},
   "outputs": [
    {
     "ename": "KeyError",
     "evalue": "'9, 2'",
     "output_type": "error",
     "traceback": [
      "\u001b[0;31m---------------------------------------------------------------------------\u001b[0m",
      "\u001b[0;31mKeyError\u001b[0m                                  Traceback (most recent call last)",
      "File \u001b[0;32m/opt/homebrew/anaconda3/lib/python3.9/site-packages/pandas/core/indexes/base.py:3629\u001b[0m, in \u001b[0;36mIndex.get_loc\u001b[0;34m(self, key, method, tolerance)\u001b[0m\n\u001b[1;32m   3628\u001b[0m \u001b[38;5;28;01mtry\u001b[39;00m:\n\u001b[0;32m-> 3629\u001b[0m     \u001b[38;5;28;01mreturn\u001b[39;00m \u001b[38;5;28;43mself\u001b[39;49m\u001b[38;5;241;43m.\u001b[39;49m\u001b[43m_engine\u001b[49m\u001b[38;5;241;43m.\u001b[39;49m\u001b[43mget_loc\u001b[49m\u001b[43m(\u001b[49m\u001b[43mcasted_key\u001b[49m\u001b[43m)\u001b[49m\n\u001b[1;32m   3630\u001b[0m \u001b[38;5;28;01mexcept\u001b[39;00m \u001b[38;5;167;01mKeyError\u001b[39;00m \u001b[38;5;28;01mas\u001b[39;00m err:\n",
      "File \u001b[0;32m/opt/homebrew/anaconda3/lib/python3.9/site-packages/pandas/_libs/index.pyx:136\u001b[0m, in \u001b[0;36mpandas._libs.index.IndexEngine.get_loc\u001b[0;34m()\u001b[0m\n",
      "File \u001b[0;32m/opt/homebrew/anaconda3/lib/python3.9/site-packages/pandas/_libs/index.pyx:144\u001b[0m, in \u001b[0;36mpandas._libs.index.IndexEngine.get_loc\u001b[0;34m()\u001b[0m\n",
      "File \u001b[0;32mpandas/_libs/index_class_helper.pxi:41\u001b[0m, in \u001b[0;36mpandas._libs.index.Int64Engine._check_type\u001b[0;34m()\u001b[0m\n",
      "\u001b[0;31mKeyError\u001b[0m: '9, 2'",
      "\nThe above exception was the direct cause of the following exception:\n",
      "\u001b[0;31mKeyError\u001b[0m                                  Traceback (most recent call last)",
      "Input \u001b[0;32mIn [36]\u001b[0m, in \u001b[0;36m<cell line: 1>\u001b[0;34m()\u001b[0m\n\u001b[0;32m----> 1\u001b[0m \u001b[43mdf\u001b[49m\u001b[43m[\u001b[49m\u001b[38;5;124;43m'\u001b[39;49m\u001b[38;5;124;43myear\u001b[39;49m\u001b[38;5;124;43m'\u001b[39;49m\u001b[43m]\u001b[49m\u001b[43m[\u001b[49m\u001b[38;5;124;43m'\u001b[39;49m\u001b[38;5;124;43m9, 2\u001b[39;49m\u001b[38;5;124;43m'\u001b[39;49m\u001b[43m]\u001b[49m\n",
      "File \u001b[0;32m/opt/homebrew/anaconda3/lib/python3.9/site-packages/pandas/core/series.py:958\u001b[0m, in \u001b[0;36mSeries.__getitem__\u001b[0;34m(self, key)\u001b[0m\n\u001b[1;32m    955\u001b[0m     \u001b[38;5;28;01mreturn\u001b[39;00m \u001b[38;5;28mself\u001b[39m\u001b[38;5;241m.\u001b[39m_values[key]\n\u001b[1;32m    957\u001b[0m \u001b[38;5;28;01melif\u001b[39;00m key_is_scalar:\n\u001b[0;32m--> 958\u001b[0m     \u001b[38;5;28;01mreturn\u001b[39;00m \u001b[38;5;28;43mself\u001b[39;49m\u001b[38;5;241;43m.\u001b[39;49m\u001b[43m_get_value\u001b[49m\u001b[43m(\u001b[49m\u001b[43mkey\u001b[49m\u001b[43m)\u001b[49m\n\u001b[1;32m    960\u001b[0m \u001b[38;5;28;01mif\u001b[39;00m is_hashable(key):\n\u001b[1;32m    961\u001b[0m     \u001b[38;5;66;03m# Otherwise index.get_value will raise InvalidIndexError\u001b[39;00m\n\u001b[1;32m    962\u001b[0m     \u001b[38;5;28;01mtry\u001b[39;00m:\n\u001b[1;32m    963\u001b[0m         \u001b[38;5;66;03m# For labels that don't resolve as scalars like tuples and frozensets\u001b[39;00m\n",
      "File \u001b[0;32m/opt/homebrew/anaconda3/lib/python3.9/site-packages/pandas/core/series.py:1069\u001b[0m, in \u001b[0;36mSeries._get_value\u001b[0;34m(self, label, takeable)\u001b[0m\n\u001b[1;32m   1066\u001b[0m     \u001b[38;5;28;01mreturn\u001b[39;00m \u001b[38;5;28mself\u001b[39m\u001b[38;5;241m.\u001b[39m_values[label]\n\u001b[1;32m   1068\u001b[0m \u001b[38;5;66;03m# Similar to Index.get_value, but we do not fall back to positional\u001b[39;00m\n\u001b[0;32m-> 1069\u001b[0m loc \u001b[38;5;241m=\u001b[39m \u001b[38;5;28;43mself\u001b[39;49m\u001b[38;5;241;43m.\u001b[39;49m\u001b[43mindex\u001b[49m\u001b[38;5;241;43m.\u001b[39;49m\u001b[43mget_loc\u001b[49m\u001b[43m(\u001b[49m\u001b[43mlabel\u001b[49m\u001b[43m)\u001b[49m\n\u001b[1;32m   1070\u001b[0m \u001b[38;5;28;01mreturn\u001b[39;00m \u001b[38;5;28mself\u001b[39m\u001b[38;5;241m.\u001b[39mindex\u001b[38;5;241m.\u001b[39m_get_values_for_loc(\u001b[38;5;28mself\u001b[39m, loc, label)\n",
      "File \u001b[0;32m/opt/homebrew/anaconda3/lib/python3.9/site-packages/pandas/core/indexes/base.py:3631\u001b[0m, in \u001b[0;36mIndex.get_loc\u001b[0;34m(self, key, method, tolerance)\u001b[0m\n\u001b[1;32m   3629\u001b[0m     \u001b[38;5;28;01mreturn\u001b[39;00m \u001b[38;5;28mself\u001b[39m\u001b[38;5;241m.\u001b[39m_engine\u001b[38;5;241m.\u001b[39mget_loc(casted_key)\n\u001b[1;32m   3630\u001b[0m \u001b[38;5;28;01mexcept\u001b[39;00m \u001b[38;5;167;01mKeyError\u001b[39;00m \u001b[38;5;28;01mas\u001b[39;00m err:\n\u001b[0;32m-> 3631\u001b[0m     \u001b[38;5;28;01mraise\u001b[39;00m \u001b[38;5;167;01mKeyError\u001b[39;00m(key) \u001b[38;5;28;01mfrom\u001b[39;00m \u001b[38;5;21;01merr\u001b[39;00m\n\u001b[1;32m   3632\u001b[0m \u001b[38;5;28;01mexcept\u001b[39;00m \u001b[38;5;167;01mTypeError\u001b[39;00m:\n\u001b[1;32m   3633\u001b[0m     \u001b[38;5;66;03m# If we have a listlike key, _check_indexing_error will raise\u001b[39;00m\n\u001b[1;32m   3634\u001b[0m     \u001b[38;5;66;03m#  InvalidIndexError. Otherwise we fall through and re-raise\u001b[39;00m\n\u001b[1;32m   3635\u001b[0m     \u001b[38;5;66;03m#  the TypeError.\u001b[39;00m\n\u001b[1;32m   3636\u001b[0m     \u001b[38;5;28mself\u001b[39m\u001b[38;5;241m.\u001b[39m_check_indexing_error(key)\n",
      "\u001b[0;31mKeyError\u001b[0m: '9, 2'"
     ]
    }
   ],
   "source": [
    "df['year']['9, 2']"
   ]
  },
  {
   "cell_type": "code",
   "execution_count": 26,
   "id": "1850b54a",
   "metadata": {},
   "outputs": [
    {
     "ename": "ValueError",
     "evalue": "Unable to parse string \"9, 2\" at position 516",
     "output_type": "error",
     "traceback": [
      "\u001b[0;31m---------------------------------------------------------------------------\u001b[0m",
      "\u001b[0;31mValueError\u001b[0m                                Traceback (most recent call last)",
      "File \u001b[0;32m/opt/homebrew/anaconda3/lib/python3.9/site-packages/pandas/_libs/lib.pyx:2315\u001b[0m, in \u001b[0;36mpandas._libs.lib.maybe_convert_numeric\u001b[0;34m()\u001b[0m\n",
      "\u001b[0;31mValueError\u001b[0m: Unable to parse string \"9, 2\"",
      "\nDuring handling of the above exception, another exception occurred:\n",
      "\u001b[0;31mValueError\u001b[0m                                Traceback (most recent call last)",
      "Input \u001b[0;32mIn [26]\u001b[0m, in \u001b[0;36m<cell line: 1>\u001b[0;34m()\u001b[0m\n\u001b[0;32m----> 1\u001b[0m \u001b[43mpd\u001b[49m\u001b[38;5;241;43m.\u001b[39;49m\u001b[43mto_numeric\u001b[49m\u001b[43m(\u001b[49m\u001b[43mdf\u001b[49m\u001b[43m[\u001b[49m\u001b[38;5;124;43m'\u001b[39;49m\u001b[38;5;124;43myear\u001b[39;49m\u001b[38;5;124;43m'\u001b[39;49m\u001b[43m]\u001b[49m\u001b[43m)\u001b[49m\n",
      "File \u001b[0;32m/opt/homebrew/anaconda3/lib/python3.9/site-packages/pandas/core/tools/numeric.py:184\u001b[0m, in \u001b[0;36mto_numeric\u001b[0;34m(arg, errors, downcast)\u001b[0m\n\u001b[1;32m    182\u001b[0m coerce_numeric \u001b[38;5;241m=\u001b[39m errors \u001b[38;5;129;01mnot\u001b[39;00m \u001b[38;5;129;01min\u001b[39;00m (\u001b[38;5;124m\"\u001b[39m\u001b[38;5;124mignore\u001b[39m\u001b[38;5;124m\"\u001b[39m, \u001b[38;5;124m\"\u001b[39m\u001b[38;5;124mraise\u001b[39m\u001b[38;5;124m\"\u001b[39m)\n\u001b[1;32m    183\u001b[0m \u001b[38;5;28;01mtry\u001b[39;00m:\n\u001b[0;32m--> 184\u001b[0m     values, _ \u001b[38;5;241m=\u001b[39m \u001b[43mlib\u001b[49m\u001b[38;5;241;43m.\u001b[39;49m\u001b[43mmaybe_convert_numeric\u001b[49m\u001b[43m(\u001b[49m\n\u001b[1;32m    185\u001b[0m \u001b[43m        \u001b[49m\u001b[43mvalues\u001b[49m\u001b[43m,\u001b[49m\u001b[43m \u001b[49m\u001b[38;5;28;43mset\u001b[39;49m\u001b[43m(\u001b[49m\u001b[43m)\u001b[49m\u001b[43m,\u001b[49m\u001b[43m \u001b[49m\u001b[43mcoerce_numeric\u001b[49m\u001b[38;5;241;43m=\u001b[39;49m\u001b[43mcoerce_numeric\u001b[49m\n\u001b[1;32m    186\u001b[0m \u001b[43m    \u001b[49m\u001b[43m)\u001b[49m\n\u001b[1;32m    187\u001b[0m \u001b[38;5;28;01mexcept\u001b[39;00m (\u001b[38;5;167;01mValueError\u001b[39;00m, \u001b[38;5;167;01mTypeError\u001b[39;00m):\n\u001b[1;32m    188\u001b[0m     \u001b[38;5;28;01mif\u001b[39;00m errors \u001b[38;5;241m==\u001b[39m \u001b[38;5;124m\"\u001b[39m\u001b[38;5;124mraise\u001b[39m\u001b[38;5;124m\"\u001b[39m:\n",
      "File \u001b[0;32m/opt/homebrew/anaconda3/lib/python3.9/site-packages/pandas/_libs/lib.pyx:2357\u001b[0m, in \u001b[0;36mpandas._libs.lib.maybe_convert_numeric\u001b[0;34m()\u001b[0m\n",
      "\u001b[0;31mValueError\u001b[0m: Unable to parse string \"9, 2\" at position 516"
     ]
    }
   ],
   "source": [
    "pd.to_numeric(df['year'])"
   ]
  },
  {
   "cell_type": "code",
   "execution_count": 21,
   "id": "cee9c0d9",
   "metadata": {},
   "outputs": [
    {
     "data": {
      "text/plain": [
       "title            object\n",
       "summary          object\n",
       "length            int64\n",
       "year             object\n",
       "review_count      int64\n",
       "rating          float64\n",
       "rating_count     object\n",
       "genre            object\n",
       "author           object\n",
       "publisher        object\n",
       "link             object\n",
       "scraped_at       object\n",
       "reviews          object\n",
       "dtype: object"
      ]
     },
     "execution_count": 21,
     "metadata": {},
     "output_type": "execute_result"
    }
   ],
   "source": [
    "df.dtypes"
   ]
  },
  {
   "cell_type": "code",
   "execution_count": 20,
   "id": "7c371530",
   "metadata": {},
   "outputs": [
    {
     "ename": "ValueError",
     "evalue": "invalid literal for int() with base 10: 'nan'",
     "output_type": "error",
     "traceback": [
      "\u001b[0;31m---------------------------------------------------------------------------\u001b[0m",
      "\u001b[0;31mValueError\u001b[0m                                Traceback (most recent call last)",
      "Input \u001b[0;32mIn [20]\u001b[0m, in \u001b[0;36m<cell line: 1>\u001b[0;34m()\u001b[0m\n\u001b[0;32m----> 1\u001b[0m df[\u001b[38;5;124m'\u001b[39m\u001b[38;5;124myear\u001b[39m\u001b[38;5;124m'\u001b[39m] \u001b[38;5;241m=\u001b[39m \u001b[43mdf\u001b[49m\u001b[43m[\u001b[49m\u001b[38;5;124;43m'\u001b[39;49m\u001b[38;5;124;43myear\u001b[39;49m\u001b[38;5;124;43m'\u001b[39;49m\u001b[43m]\u001b[49m\u001b[38;5;241;43m.\u001b[39;49m\u001b[43mastype\u001b[49m\u001b[43m(\u001b[49m\u001b[38;5;124;43m'\u001b[39;49m\u001b[38;5;124;43mint64\u001b[39;49m\u001b[38;5;124;43m'\u001b[39;49m\u001b[43m)\u001b[49m\n",
      "File \u001b[0;32m/opt/homebrew/anaconda3/lib/python3.9/site-packages/pandas/core/generic.py:5912\u001b[0m, in \u001b[0;36mNDFrame.astype\u001b[0;34m(self, dtype, copy, errors)\u001b[0m\n\u001b[1;32m   5905\u001b[0m     results \u001b[38;5;241m=\u001b[39m [\n\u001b[1;32m   5906\u001b[0m         \u001b[38;5;28mself\u001b[39m\u001b[38;5;241m.\u001b[39miloc[:, i]\u001b[38;5;241m.\u001b[39mastype(dtype, copy\u001b[38;5;241m=\u001b[39mcopy)\n\u001b[1;32m   5907\u001b[0m         \u001b[38;5;28;01mfor\u001b[39;00m i \u001b[38;5;129;01min\u001b[39;00m \u001b[38;5;28mrange\u001b[39m(\u001b[38;5;28mlen\u001b[39m(\u001b[38;5;28mself\u001b[39m\u001b[38;5;241m.\u001b[39mcolumns))\n\u001b[1;32m   5908\u001b[0m     ]\n\u001b[1;32m   5910\u001b[0m \u001b[38;5;28;01melse\u001b[39;00m:\n\u001b[1;32m   5911\u001b[0m     \u001b[38;5;66;03m# else, only a single dtype is given\u001b[39;00m\n\u001b[0;32m-> 5912\u001b[0m     new_data \u001b[38;5;241m=\u001b[39m \u001b[38;5;28;43mself\u001b[39;49m\u001b[38;5;241;43m.\u001b[39;49m\u001b[43m_mgr\u001b[49m\u001b[38;5;241;43m.\u001b[39;49m\u001b[43mastype\u001b[49m\u001b[43m(\u001b[49m\u001b[43mdtype\u001b[49m\u001b[38;5;241;43m=\u001b[39;49m\u001b[43mdtype\u001b[49m\u001b[43m,\u001b[49m\u001b[43m \u001b[49m\u001b[43mcopy\u001b[49m\u001b[38;5;241;43m=\u001b[39;49m\u001b[43mcopy\u001b[49m\u001b[43m,\u001b[49m\u001b[43m \u001b[49m\u001b[43merrors\u001b[49m\u001b[38;5;241;43m=\u001b[39;49m\u001b[43merrors\u001b[49m\u001b[43m)\u001b[49m\n\u001b[1;32m   5913\u001b[0m     \u001b[38;5;28;01mreturn\u001b[39;00m \u001b[38;5;28mself\u001b[39m\u001b[38;5;241m.\u001b[39m_constructor(new_data)\u001b[38;5;241m.\u001b[39m__finalize__(\u001b[38;5;28mself\u001b[39m, method\u001b[38;5;241m=\u001b[39m\u001b[38;5;124m\"\u001b[39m\u001b[38;5;124mastype\u001b[39m\u001b[38;5;124m\"\u001b[39m)\n\u001b[1;32m   5915\u001b[0m \u001b[38;5;66;03m# GH 33113: handle empty frame or series\u001b[39;00m\n",
      "File \u001b[0;32m/opt/homebrew/anaconda3/lib/python3.9/site-packages/pandas/core/internals/managers.py:419\u001b[0m, in \u001b[0;36mBaseBlockManager.astype\u001b[0;34m(self, dtype, copy, errors)\u001b[0m\n\u001b[1;32m    418\u001b[0m \u001b[38;5;28;01mdef\u001b[39;00m \u001b[38;5;21mastype\u001b[39m(\u001b[38;5;28mself\u001b[39m: T, dtype, copy: \u001b[38;5;28mbool\u001b[39m \u001b[38;5;241m=\u001b[39m \u001b[38;5;28;01mFalse\u001b[39;00m, errors: \u001b[38;5;28mstr\u001b[39m \u001b[38;5;241m=\u001b[39m \u001b[38;5;124m\"\u001b[39m\u001b[38;5;124mraise\u001b[39m\u001b[38;5;124m\"\u001b[39m) \u001b[38;5;241m-\u001b[39m\u001b[38;5;241m>\u001b[39m T:\n\u001b[0;32m--> 419\u001b[0m     \u001b[38;5;28;01mreturn\u001b[39;00m \u001b[38;5;28;43mself\u001b[39;49m\u001b[38;5;241;43m.\u001b[39;49m\u001b[43mapply\u001b[49m\u001b[43m(\u001b[49m\u001b[38;5;124;43m\"\u001b[39;49m\u001b[38;5;124;43mastype\u001b[39;49m\u001b[38;5;124;43m\"\u001b[39;49m\u001b[43m,\u001b[49m\u001b[43m \u001b[49m\u001b[43mdtype\u001b[49m\u001b[38;5;241;43m=\u001b[39;49m\u001b[43mdtype\u001b[49m\u001b[43m,\u001b[49m\u001b[43m \u001b[49m\u001b[43mcopy\u001b[49m\u001b[38;5;241;43m=\u001b[39;49m\u001b[43mcopy\u001b[49m\u001b[43m,\u001b[49m\u001b[43m \u001b[49m\u001b[43merrors\u001b[49m\u001b[38;5;241;43m=\u001b[39;49m\u001b[43merrors\u001b[49m\u001b[43m)\u001b[49m\n",
      "File \u001b[0;32m/opt/homebrew/anaconda3/lib/python3.9/site-packages/pandas/core/internals/managers.py:304\u001b[0m, in \u001b[0;36mBaseBlockManager.apply\u001b[0;34m(self, f, align_keys, ignore_failures, **kwargs)\u001b[0m\n\u001b[1;32m    302\u001b[0m         applied \u001b[38;5;241m=\u001b[39m b\u001b[38;5;241m.\u001b[39mapply(f, \u001b[38;5;241m*\u001b[39m\u001b[38;5;241m*\u001b[39mkwargs)\n\u001b[1;32m    303\u001b[0m     \u001b[38;5;28;01melse\u001b[39;00m:\n\u001b[0;32m--> 304\u001b[0m         applied \u001b[38;5;241m=\u001b[39m \u001b[38;5;28;43mgetattr\u001b[39;49m\u001b[43m(\u001b[49m\u001b[43mb\u001b[49m\u001b[43m,\u001b[49m\u001b[43m \u001b[49m\u001b[43mf\u001b[49m\u001b[43m)\u001b[49m\u001b[43m(\u001b[49m\u001b[38;5;241;43m*\u001b[39;49m\u001b[38;5;241;43m*\u001b[39;49m\u001b[43mkwargs\u001b[49m\u001b[43m)\u001b[49m\n\u001b[1;32m    305\u001b[0m \u001b[38;5;28;01mexcept\u001b[39;00m (\u001b[38;5;167;01mTypeError\u001b[39;00m, \u001b[38;5;167;01mNotImplementedError\u001b[39;00m):\n\u001b[1;32m    306\u001b[0m     \u001b[38;5;28;01mif\u001b[39;00m \u001b[38;5;129;01mnot\u001b[39;00m ignore_failures:\n",
      "File \u001b[0;32m/opt/homebrew/anaconda3/lib/python3.9/site-packages/pandas/core/internals/blocks.py:580\u001b[0m, in \u001b[0;36mBlock.astype\u001b[0;34m(self, dtype, copy, errors)\u001b[0m\n\u001b[1;32m    562\u001b[0m \u001b[38;5;124;03m\"\"\"\u001b[39;00m\n\u001b[1;32m    563\u001b[0m \u001b[38;5;124;03mCoerce to the new dtype.\u001b[39;00m\n\u001b[1;32m    564\u001b[0m \n\u001b[0;32m   (...)\u001b[0m\n\u001b[1;32m    576\u001b[0m \u001b[38;5;124;03mBlock\u001b[39;00m\n\u001b[1;32m    577\u001b[0m \u001b[38;5;124;03m\"\"\"\u001b[39;00m\n\u001b[1;32m    578\u001b[0m values \u001b[38;5;241m=\u001b[39m \u001b[38;5;28mself\u001b[39m\u001b[38;5;241m.\u001b[39mvalues\n\u001b[0;32m--> 580\u001b[0m new_values \u001b[38;5;241m=\u001b[39m \u001b[43mastype_array_safe\u001b[49m\u001b[43m(\u001b[49m\u001b[43mvalues\u001b[49m\u001b[43m,\u001b[49m\u001b[43m \u001b[49m\u001b[43mdtype\u001b[49m\u001b[43m,\u001b[49m\u001b[43m \u001b[49m\u001b[43mcopy\u001b[49m\u001b[38;5;241;43m=\u001b[39;49m\u001b[43mcopy\u001b[49m\u001b[43m,\u001b[49m\u001b[43m \u001b[49m\u001b[43merrors\u001b[49m\u001b[38;5;241;43m=\u001b[39;49m\u001b[43merrors\u001b[49m\u001b[43m)\u001b[49m\n\u001b[1;32m    582\u001b[0m new_values \u001b[38;5;241m=\u001b[39m maybe_coerce_values(new_values)\n\u001b[1;32m    583\u001b[0m newb \u001b[38;5;241m=\u001b[39m \u001b[38;5;28mself\u001b[39m\u001b[38;5;241m.\u001b[39mmake_block(new_values)\n",
      "File \u001b[0;32m/opt/homebrew/anaconda3/lib/python3.9/site-packages/pandas/core/dtypes/cast.py:1292\u001b[0m, in \u001b[0;36mastype_array_safe\u001b[0;34m(values, dtype, copy, errors)\u001b[0m\n\u001b[1;32m   1289\u001b[0m     dtype \u001b[38;5;241m=\u001b[39m dtype\u001b[38;5;241m.\u001b[39mnumpy_dtype\n\u001b[1;32m   1291\u001b[0m \u001b[38;5;28;01mtry\u001b[39;00m:\n\u001b[0;32m-> 1292\u001b[0m     new_values \u001b[38;5;241m=\u001b[39m \u001b[43mastype_array\u001b[49m\u001b[43m(\u001b[49m\u001b[43mvalues\u001b[49m\u001b[43m,\u001b[49m\u001b[43m \u001b[49m\u001b[43mdtype\u001b[49m\u001b[43m,\u001b[49m\u001b[43m \u001b[49m\u001b[43mcopy\u001b[49m\u001b[38;5;241;43m=\u001b[39;49m\u001b[43mcopy\u001b[49m\u001b[43m)\u001b[49m\n\u001b[1;32m   1293\u001b[0m \u001b[38;5;28;01mexcept\u001b[39;00m (\u001b[38;5;167;01mValueError\u001b[39;00m, \u001b[38;5;167;01mTypeError\u001b[39;00m):\n\u001b[1;32m   1294\u001b[0m     \u001b[38;5;66;03m# e.g. astype_nansafe can fail on object-dtype of strings\u001b[39;00m\n\u001b[1;32m   1295\u001b[0m     \u001b[38;5;66;03m#  trying to convert to float\u001b[39;00m\n\u001b[1;32m   1296\u001b[0m     \u001b[38;5;28;01mif\u001b[39;00m errors \u001b[38;5;241m==\u001b[39m \u001b[38;5;124m\"\u001b[39m\u001b[38;5;124mignore\u001b[39m\u001b[38;5;124m\"\u001b[39m:\n",
      "File \u001b[0;32m/opt/homebrew/anaconda3/lib/python3.9/site-packages/pandas/core/dtypes/cast.py:1237\u001b[0m, in \u001b[0;36mastype_array\u001b[0;34m(values, dtype, copy)\u001b[0m\n\u001b[1;32m   1234\u001b[0m     values \u001b[38;5;241m=\u001b[39m values\u001b[38;5;241m.\u001b[39mastype(dtype, copy\u001b[38;5;241m=\u001b[39mcopy)\n\u001b[1;32m   1236\u001b[0m \u001b[38;5;28;01melse\u001b[39;00m:\n\u001b[0;32m-> 1237\u001b[0m     values \u001b[38;5;241m=\u001b[39m \u001b[43mastype_nansafe\u001b[49m\u001b[43m(\u001b[49m\u001b[43mvalues\u001b[49m\u001b[43m,\u001b[49m\u001b[43m \u001b[49m\u001b[43mdtype\u001b[49m\u001b[43m,\u001b[49m\u001b[43m \u001b[49m\u001b[43mcopy\u001b[49m\u001b[38;5;241;43m=\u001b[39;49m\u001b[43mcopy\u001b[49m\u001b[43m)\u001b[49m\n\u001b[1;32m   1239\u001b[0m \u001b[38;5;66;03m# in pandas we don't store numpy str dtypes, so convert to object\u001b[39;00m\n\u001b[1;32m   1240\u001b[0m \u001b[38;5;28;01mif\u001b[39;00m \u001b[38;5;28misinstance\u001b[39m(dtype, np\u001b[38;5;241m.\u001b[39mdtype) \u001b[38;5;129;01mand\u001b[39;00m \u001b[38;5;28missubclass\u001b[39m(values\u001b[38;5;241m.\u001b[39mdtype\u001b[38;5;241m.\u001b[39mtype, \u001b[38;5;28mstr\u001b[39m):\n",
      "File \u001b[0;32m/opt/homebrew/anaconda3/lib/python3.9/site-packages/pandas/core/dtypes/cast.py:1154\u001b[0m, in \u001b[0;36mastype_nansafe\u001b[0;34m(arr, dtype, copy, skipna)\u001b[0m\n\u001b[1;32m   1150\u001b[0m \u001b[38;5;28;01melif\u001b[39;00m is_object_dtype(arr\u001b[38;5;241m.\u001b[39mdtype):\n\u001b[1;32m   1151\u001b[0m \n\u001b[1;32m   1152\u001b[0m     \u001b[38;5;66;03m# work around NumPy brokenness, #1987\u001b[39;00m\n\u001b[1;32m   1153\u001b[0m     \u001b[38;5;28;01mif\u001b[39;00m np\u001b[38;5;241m.\u001b[39missubdtype(dtype\u001b[38;5;241m.\u001b[39mtype, np\u001b[38;5;241m.\u001b[39minteger):\n\u001b[0;32m-> 1154\u001b[0m         \u001b[38;5;28;01mreturn\u001b[39;00m \u001b[43mlib\u001b[49m\u001b[38;5;241;43m.\u001b[39;49m\u001b[43mastype_intsafe\u001b[49m\u001b[43m(\u001b[49m\u001b[43marr\u001b[49m\u001b[43m,\u001b[49m\u001b[43m \u001b[49m\u001b[43mdtype\u001b[49m\u001b[43m)\u001b[49m\n\u001b[1;32m   1156\u001b[0m     \u001b[38;5;66;03m# if we have a datetime/timedelta array of objects\u001b[39;00m\n\u001b[1;32m   1157\u001b[0m     \u001b[38;5;66;03m# then coerce to a proper dtype and recall astype_nansafe\u001b[39;00m\n\u001b[1;32m   1159\u001b[0m     \u001b[38;5;28;01melif\u001b[39;00m is_datetime64_dtype(dtype):\n",
      "File \u001b[0;32m/opt/homebrew/anaconda3/lib/python3.9/site-packages/pandas/_libs/lib.pyx:668\u001b[0m, in \u001b[0;36mpandas._libs.lib.astype_intsafe\u001b[0;34m()\u001b[0m\n",
      "\u001b[0;31mValueError\u001b[0m: invalid literal for int() with base 10: 'nan'"
     ]
    }
   ],
   "source": [
    "\n",
    "df['year'] = df['year'].astype('int64')"
   ]
  },
  {
   "cell_type": "code",
   "execution_count": null,
   "id": "2c664965",
   "metadata": {},
   "outputs": [],
   "source": [
    "sns.barplot(y = df['length'], x = df['year'])"
   ]
  },
  {
   "cell_type": "code",
   "execution_count": null,
   "id": "3b67468e",
   "metadata": {},
   "outputs": [],
   "source": []
  },
  {
   "cell_type": "code",
   "execution_count": null,
   "id": "5c8f930c",
   "metadata": {},
   "outputs": [],
   "source": []
  },
  {
   "cell_type": "code",
   "execution_count": null,
   "id": "6c9720c2",
   "metadata": {},
   "outputs": [],
   "source": []
  }
 ],
 "metadata": {
  "kernelspec": {
   "display_name": "Python 3 (ipykernel)",
   "language": "python",
   "name": "python3"
  },
  "language_info": {
   "codemirror_mode": {
    "name": "ipython",
    "version": 3
   },
   "file_extension": ".py",
   "mimetype": "text/x-python",
   "name": "python",
   "nbconvert_exporter": "python",
   "pygments_lexer": "ipython3",
   "version": "3.9.13"
  }
 },
 "nbformat": 4,
 "nbformat_minor": 5
}
